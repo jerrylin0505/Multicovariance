{
 "cells": [
  {
   "cell_type": "code",
   "execution_count": 5,
   "metadata": {},
   "outputs": [],
   "source": [
    "%matplotlib inline\n",
    "import pandas as pd\n",
    "import matplotlib.pyplot as plt\n",
    "from pycaret.clustering import *"
   ]
  },
  {
   "cell_type": "code",
   "execution_count": 6,
   "metadata": {},
   "outputs": [
    {
     "output_type": "execute_result",
     "data": {
      "text/plain": "         FAC1      FAC2      FAC3      FAC4      FAC5      FAC6      FAC7  \\\n0    0.198913 -0.175019  1.089674 -0.130921  0.070177  0.289753  0.184707   \n1    1.499282  1.881683 -0.218417 -2.125715 -0.985151 -0.326985  1.136460   \n2    0.907833  0.332130 -1.190586 -0.714407  0.889189  0.199897  0.244788   \n3    0.466866  0.524069  0.738584  0.101138 -0.831536  0.346205 -0.506742   \n4    0.423948  0.662775 -0.033193  0.234243  0.880978  0.392306  0.275587   \n..        ...       ...       ...       ...       ...       ...       ...   \n453 -0.406347 -1.100478 -0.593379 -1.567270  1.961135 -1.568589  1.672441   \n454  0.394239 -0.465179 -0.601956  0.772805  1.665637 -0.702683  0.198756   \n455  0.311703 -1.755726  0.415953  0.188553  0.256224  0.766453 -0.514771   \n456 -0.484190 -0.292895  2.242387 -1.173275  0.496211  0.670454  0.131345   \n457  1.294368  1.149696  0.418076 -1.150117 -0.111634 -1.592299  0.590124   \n\n         FAC8      FAC9     FAC10     FAC11     FAC12     FAC13  \n0    0.558053 -1.321927  1.606639  0.141024  0.272209 -0.786470  \n1    1.442899  1.200609 -0.094909 -1.436634 -0.113045  1.743963  \n2   -0.921362 -0.070024 -0.095636 -0.792641  1.017360 -0.682559  \n3   -0.464816 -0.773009  0.631529 -0.261633 -0.124102 -0.563196  \n4    0.591628 -1.566337  1.204995 -0.270782  0.442900 -1.055709  \n..        ...       ...       ...       ...       ...       ...  \n453 -0.304585  2.025184 -1.720910  1.526108 -0.195419  0.729224  \n454  1.521267  0.446416 -1.190234  1.117925  0.409073  0.510509  \n455  0.348277  0.051459  1.082833 -0.321590  0.839859  0.526624  \n456  1.585086 -0.858768 -0.074743  0.286286 -1.069360  0.071286  \n457 -0.124933 -0.420228 -1.166661  0.968277 -0.477250 -0.950660  \n\n[458 rows x 13 columns]",
      "text/html": "<div>\n<style scoped>\n    .dataframe tbody tr th:only-of-type {\n        vertical-align: middle;\n    }\n\n    .dataframe tbody tr th {\n        vertical-align: top;\n    }\n\n    .dataframe thead th {\n        text-align: right;\n    }\n</style>\n<table border=\"1\" class=\"dataframe\">\n  <thead>\n    <tr style=\"text-align: right;\">\n      <th></th>\n      <th>FAC1</th>\n      <th>FAC2</th>\n      <th>FAC3</th>\n      <th>FAC4</th>\n      <th>FAC5</th>\n      <th>FAC6</th>\n      <th>FAC7</th>\n      <th>FAC8</th>\n      <th>FAC9</th>\n      <th>FAC10</th>\n      <th>FAC11</th>\n      <th>FAC12</th>\n      <th>FAC13</th>\n    </tr>\n  </thead>\n  <tbody>\n    <tr>\n      <th>0</th>\n      <td>0.198913</td>\n      <td>-0.175019</td>\n      <td>1.089674</td>\n      <td>-0.130921</td>\n      <td>0.070177</td>\n      <td>0.289753</td>\n      <td>0.184707</td>\n      <td>0.558053</td>\n      <td>-1.321927</td>\n      <td>1.606639</td>\n      <td>0.141024</td>\n      <td>0.272209</td>\n      <td>-0.786470</td>\n    </tr>\n    <tr>\n      <th>1</th>\n      <td>1.499282</td>\n      <td>1.881683</td>\n      <td>-0.218417</td>\n      <td>-2.125715</td>\n      <td>-0.985151</td>\n      <td>-0.326985</td>\n      <td>1.136460</td>\n      <td>1.442899</td>\n      <td>1.200609</td>\n      <td>-0.094909</td>\n      <td>-1.436634</td>\n      <td>-0.113045</td>\n      <td>1.743963</td>\n    </tr>\n    <tr>\n      <th>2</th>\n      <td>0.907833</td>\n      <td>0.332130</td>\n      <td>-1.190586</td>\n      <td>-0.714407</td>\n      <td>0.889189</td>\n      <td>0.199897</td>\n      <td>0.244788</td>\n      <td>-0.921362</td>\n      <td>-0.070024</td>\n      <td>-0.095636</td>\n      <td>-0.792641</td>\n      <td>1.017360</td>\n      <td>-0.682559</td>\n    </tr>\n    <tr>\n      <th>3</th>\n      <td>0.466866</td>\n      <td>0.524069</td>\n      <td>0.738584</td>\n      <td>0.101138</td>\n      <td>-0.831536</td>\n      <td>0.346205</td>\n      <td>-0.506742</td>\n      <td>-0.464816</td>\n      <td>-0.773009</td>\n      <td>0.631529</td>\n      <td>-0.261633</td>\n      <td>-0.124102</td>\n      <td>-0.563196</td>\n    </tr>\n    <tr>\n      <th>4</th>\n      <td>0.423948</td>\n      <td>0.662775</td>\n      <td>-0.033193</td>\n      <td>0.234243</td>\n      <td>0.880978</td>\n      <td>0.392306</td>\n      <td>0.275587</td>\n      <td>0.591628</td>\n      <td>-1.566337</td>\n      <td>1.204995</td>\n      <td>-0.270782</td>\n      <td>0.442900</td>\n      <td>-1.055709</td>\n    </tr>\n    <tr>\n      <th>...</th>\n      <td>...</td>\n      <td>...</td>\n      <td>...</td>\n      <td>...</td>\n      <td>...</td>\n      <td>...</td>\n      <td>...</td>\n      <td>...</td>\n      <td>...</td>\n      <td>...</td>\n      <td>...</td>\n      <td>...</td>\n      <td>...</td>\n    </tr>\n    <tr>\n      <th>453</th>\n      <td>-0.406347</td>\n      <td>-1.100478</td>\n      <td>-0.593379</td>\n      <td>-1.567270</td>\n      <td>1.961135</td>\n      <td>-1.568589</td>\n      <td>1.672441</td>\n      <td>-0.304585</td>\n      <td>2.025184</td>\n      <td>-1.720910</td>\n      <td>1.526108</td>\n      <td>-0.195419</td>\n      <td>0.729224</td>\n    </tr>\n    <tr>\n      <th>454</th>\n      <td>0.394239</td>\n      <td>-0.465179</td>\n      <td>-0.601956</td>\n      <td>0.772805</td>\n      <td>1.665637</td>\n      <td>-0.702683</td>\n      <td>0.198756</td>\n      <td>1.521267</td>\n      <td>0.446416</td>\n      <td>-1.190234</td>\n      <td>1.117925</td>\n      <td>0.409073</td>\n      <td>0.510509</td>\n    </tr>\n    <tr>\n      <th>455</th>\n      <td>0.311703</td>\n      <td>-1.755726</td>\n      <td>0.415953</td>\n      <td>0.188553</td>\n      <td>0.256224</td>\n      <td>0.766453</td>\n      <td>-0.514771</td>\n      <td>0.348277</td>\n      <td>0.051459</td>\n      <td>1.082833</td>\n      <td>-0.321590</td>\n      <td>0.839859</td>\n      <td>0.526624</td>\n    </tr>\n    <tr>\n      <th>456</th>\n      <td>-0.484190</td>\n      <td>-0.292895</td>\n      <td>2.242387</td>\n      <td>-1.173275</td>\n      <td>0.496211</td>\n      <td>0.670454</td>\n      <td>0.131345</td>\n      <td>1.585086</td>\n      <td>-0.858768</td>\n      <td>-0.074743</td>\n      <td>0.286286</td>\n      <td>-1.069360</td>\n      <td>0.071286</td>\n    </tr>\n    <tr>\n      <th>457</th>\n      <td>1.294368</td>\n      <td>1.149696</td>\n      <td>0.418076</td>\n      <td>-1.150117</td>\n      <td>-0.111634</td>\n      <td>-1.592299</td>\n      <td>0.590124</td>\n      <td>-0.124933</td>\n      <td>-0.420228</td>\n      <td>-1.166661</td>\n      <td>0.968277</td>\n      <td>-0.477250</td>\n      <td>-0.950660</td>\n    </tr>\n  </tbody>\n</table>\n<p>458 rows × 13 columns</p>\n</div>"
     },
     "metadata": {},
     "execution_count": 6
    }
   ],
   "source": [
    "df = pd.read_spss('project3.sav')\n",
    "fca_data = df.iloc[:,49:62]\n",
    "fca_data"
   ]
  },
  {
   "cell_type": "markdown",
   "metadata": {},
   "source": [
    "### Set up environment"
   ]
  },
  {
   "cell_type": "code",
   "execution_count": 7,
   "metadata": {},
   "outputs": [
    {
     "output_type": "stream",
     "name": "stdout",
     "text": "\nSetup Succesfully Completed!\n"
    },
    {
     "output_type": "display_data",
     "data": {
      "text/plain": "<pandas.io.formats.style.Styler at 0x207b90003c8>",
      "text/html": "<style  type=\"text/css\" >\n</style><table id=\"T_2df24be8_90d7_11ea_8917_902b346d055b\" ><thead>    <tr>        <th class=\"blank level0\" ></th>        <th class=\"col_heading level0 col0\" >Description</th>        <th class=\"col_heading level0 col1\" >Value</th>    </tr></thead><tbody>\n                <tr>\n                        <th id=\"T_2df24be8_90d7_11ea_8917_902b346d055blevel0_row0\" class=\"row_heading level0 row0\" >0</th>\n                        <td id=\"T_2df24be8_90d7_11ea_8917_902b346d055brow0_col0\" class=\"data row0 col0\" >session_id </td>\n                        <td id=\"T_2df24be8_90d7_11ea_8917_902b346d055brow0_col1\" class=\"data row0 col1\" >6714</td>\n            </tr>\n            <tr>\n                        <th id=\"T_2df24be8_90d7_11ea_8917_902b346d055blevel0_row1\" class=\"row_heading level0 row1\" >1</th>\n                        <td id=\"T_2df24be8_90d7_11ea_8917_902b346d055brow1_col0\" class=\"data row1 col0\" >Original Data </td>\n                        <td id=\"T_2df24be8_90d7_11ea_8917_902b346d055brow1_col1\" class=\"data row1 col1\" >(458, 13)</td>\n            </tr>\n            <tr>\n                        <th id=\"T_2df24be8_90d7_11ea_8917_902b346d055blevel0_row2\" class=\"row_heading level0 row2\" >2</th>\n                        <td id=\"T_2df24be8_90d7_11ea_8917_902b346d055brow2_col0\" class=\"data row2 col0\" >Missing Values </td>\n                        <td id=\"T_2df24be8_90d7_11ea_8917_902b346d055brow2_col1\" class=\"data row2 col1\" >False</td>\n            </tr>\n            <tr>\n                        <th id=\"T_2df24be8_90d7_11ea_8917_902b346d055blevel0_row3\" class=\"row_heading level0 row3\" >3</th>\n                        <td id=\"T_2df24be8_90d7_11ea_8917_902b346d055brow3_col0\" class=\"data row3 col0\" >Numeric Features </td>\n                        <td id=\"T_2df24be8_90d7_11ea_8917_902b346d055brow3_col1\" class=\"data row3 col1\" >13</td>\n            </tr>\n            <tr>\n                        <th id=\"T_2df24be8_90d7_11ea_8917_902b346d055blevel0_row4\" class=\"row_heading level0 row4\" >4</th>\n                        <td id=\"T_2df24be8_90d7_11ea_8917_902b346d055brow4_col0\" class=\"data row4 col0\" >Categorical Features </td>\n                        <td id=\"T_2df24be8_90d7_11ea_8917_902b346d055brow4_col1\" class=\"data row4 col1\" >0</td>\n            </tr>\n            <tr>\n                        <th id=\"T_2df24be8_90d7_11ea_8917_902b346d055blevel0_row5\" class=\"row_heading level0 row5\" >5</th>\n                        <td id=\"T_2df24be8_90d7_11ea_8917_902b346d055brow5_col0\" class=\"data row5 col0\" >Ordinal Features </td>\n                        <td id=\"T_2df24be8_90d7_11ea_8917_902b346d055brow5_col1\" class=\"data row5 col1\" >False</td>\n            </tr>\n            <tr>\n                        <th id=\"T_2df24be8_90d7_11ea_8917_902b346d055blevel0_row6\" class=\"row_heading level0 row6\" >6</th>\n                        <td id=\"T_2df24be8_90d7_11ea_8917_902b346d055brow6_col0\" class=\"data row6 col0\" >High Cardinality Features </td>\n                        <td id=\"T_2df24be8_90d7_11ea_8917_902b346d055brow6_col1\" class=\"data row6 col1\" >False</td>\n            </tr>\n            <tr>\n                        <th id=\"T_2df24be8_90d7_11ea_8917_902b346d055blevel0_row7\" class=\"row_heading level0 row7\" >7</th>\n                        <td id=\"T_2df24be8_90d7_11ea_8917_902b346d055brow7_col0\" class=\"data row7 col0\" >Transformed Data </td>\n                        <td id=\"T_2df24be8_90d7_11ea_8917_902b346d055brow7_col1\" class=\"data row7 col1\" >(458, 13)</td>\n            </tr>\n            <tr>\n                        <th id=\"T_2df24be8_90d7_11ea_8917_902b346d055blevel0_row8\" class=\"row_heading level0 row8\" >8</th>\n                        <td id=\"T_2df24be8_90d7_11ea_8917_902b346d055brow8_col0\" class=\"data row8 col0\" >Numeric Imputer </td>\n                        <td id=\"T_2df24be8_90d7_11ea_8917_902b346d055brow8_col1\" class=\"data row8 col1\" >mean</td>\n            </tr>\n            <tr>\n                        <th id=\"T_2df24be8_90d7_11ea_8917_902b346d055blevel0_row9\" class=\"row_heading level0 row9\" >9</th>\n                        <td id=\"T_2df24be8_90d7_11ea_8917_902b346d055brow9_col0\" class=\"data row9 col0\" >Categorical Imputer </td>\n                        <td id=\"T_2df24be8_90d7_11ea_8917_902b346d055brow9_col1\" class=\"data row9 col1\" >constant</td>\n            </tr>\n            <tr>\n                        <th id=\"T_2df24be8_90d7_11ea_8917_902b346d055blevel0_row10\" class=\"row_heading level0 row10\" >10</th>\n                        <td id=\"T_2df24be8_90d7_11ea_8917_902b346d055brow10_col0\" class=\"data row10 col0\" >Normalize </td>\n                        <td id=\"T_2df24be8_90d7_11ea_8917_902b346d055brow10_col1\" class=\"data row10 col1\" >False</td>\n            </tr>\n            <tr>\n                        <th id=\"T_2df24be8_90d7_11ea_8917_902b346d055blevel0_row11\" class=\"row_heading level0 row11\" >11</th>\n                        <td id=\"T_2df24be8_90d7_11ea_8917_902b346d055brow11_col0\" class=\"data row11 col0\" >Normalize Method </td>\n                        <td id=\"T_2df24be8_90d7_11ea_8917_902b346d055brow11_col1\" class=\"data row11 col1\" >None</td>\n            </tr>\n            <tr>\n                        <th id=\"T_2df24be8_90d7_11ea_8917_902b346d055blevel0_row12\" class=\"row_heading level0 row12\" >12</th>\n                        <td id=\"T_2df24be8_90d7_11ea_8917_902b346d055brow12_col0\" class=\"data row12 col0\" >Transformation </td>\n                        <td id=\"T_2df24be8_90d7_11ea_8917_902b346d055brow12_col1\" class=\"data row12 col1\" >False</td>\n            </tr>\n            <tr>\n                        <th id=\"T_2df24be8_90d7_11ea_8917_902b346d055blevel0_row13\" class=\"row_heading level0 row13\" >13</th>\n                        <td id=\"T_2df24be8_90d7_11ea_8917_902b346d055brow13_col0\" class=\"data row13 col0\" >Transformation Method </td>\n                        <td id=\"T_2df24be8_90d7_11ea_8917_902b346d055brow13_col1\" class=\"data row13 col1\" >None</td>\n            </tr>\n            <tr>\n                        <th id=\"T_2df24be8_90d7_11ea_8917_902b346d055blevel0_row14\" class=\"row_heading level0 row14\" >14</th>\n                        <td id=\"T_2df24be8_90d7_11ea_8917_902b346d055brow14_col0\" class=\"data row14 col0\" >PCA </td>\n                        <td id=\"T_2df24be8_90d7_11ea_8917_902b346d055brow14_col1\" class=\"data row14 col1\" >False</td>\n            </tr>\n            <tr>\n                        <th id=\"T_2df24be8_90d7_11ea_8917_902b346d055blevel0_row15\" class=\"row_heading level0 row15\" >15</th>\n                        <td id=\"T_2df24be8_90d7_11ea_8917_902b346d055brow15_col0\" class=\"data row15 col0\" >PCA Method </td>\n                        <td id=\"T_2df24be8_90d7_11ea_8917_902b346d055brow15_col1\" class=\"data row15 col1\" >None</td>\n            </tr>\n            <tr>\n                        <th id=\"T_2df24be8_90d7_11ea_8917_902b346d055blevel0_row16\" class=\"row_heading level0 row16\" >16</th>\n                        <td id=\"T_2df24be8_90d7_11ea_8917_902b346d055brow16_col0\" class=\"data row16 col0\" >PCA components </td>\n                        <td id=\"T_2df24be8_90d7_11ea_8917_902b346d055brow16_col1\" class=\"data row16 col1\" >None</td>\n            </tr>\n            <tr>\n                        <th id=\"T_2df24be8_90d7_11ea_8917_902b346d055blevel0_row17\" class=\"row_heading level0 row17\" >17</th>\n                        <td id=\"T_2df24be8_90d7_11ea_8917_902b346d055brow17_col0\" class=\"data row17 col0\" >Ignore Low Variance </td>\n                        <td id=\"T_2df24be8_90d7_11ea_8917_902b346d055brow17_col1\" class=\"data row17 col1\" >False</td>\n            </tr>\n            <tr>\n                        <th id=\"T_2df24be8_90d7_11ea_8917_902b346d055blevel0_row18\" class=\"row_heading level0 row18\" >18</th>\n                        <td id=\"T_2df24be8_90d7_11ea_8917_902b346d055brow18_col0\" class=\"data row18 col0\" >Combine Rare Levels </td>\n                        <td id=\"T_2df24be8_90d7_11ea_8917_902b346d055brow18_col1\" class=\"data row18 col1\" >False</td>\n            </tr>\n            <tr>\n                        <th id=\"T_2df24be8_90d7_11ea_8917_902b346d055blevel0_row19\" class=\"row_heading level0 row19\" >19</th>\n                        <td id=\"T_2df24be8_90d7_11ea_8917_902b346d055brow19_col0\" class=\"data row19 col0\" >Rare Level Threshold </td>\n                        <td id=\"T_2df24be8_90d7_11ea_8917_902b346d055brow19_col1\" class=\"data row19 col1\" >None</td>\n            </tr>\n            <tr>\n                        <th id=\"T_2df24be8_90d7_11ea_8917_902b346d055blevel0_row20\" class=\"row_heading level0 row20\" >20</th>\n                        <td id=\"T_2df24be8_90d7_11ea_8917_902b346d055brow20_col0\" class=\"data row20 col0\" >Numeric Binning </td>\n                        <td id=\"T_2df24be8_90d7_11ea_8917_902b346d055brow20_col1\" class=\"data row20 col1\" >False</td>\n            </tr>\n            <tr>\n                        <th id=\"T_2df24be8_90d7_11ea_8917_902b346d055blevel0_row21\" class=\"row_heading level0 row21\" >21</th>\n                        <td id=\"T_2df24be8_90d7_11ea_8917_902b346d055brow21_col0\" class=\"data row21 col0\" >Remove Multicollinearity </td>\n                        <td id=\"T_2df24be8_90d7_11ea_8917_902b346d055brow21_col1\" class=\"data row21 col1\" >False</td>\n            </tr>\n            <tr>\n                        <th id=\"T_2df24be8_90d7_11ea_8917_902b346d055blevel0_row22\" class=\"row_heading level0 row22\" >22</th>\n                        <td id=\"T_2df24be8_90d7_11ea_8917_902b346d055brow22_col0\" class=\"data row22 col0\" >Multicollinearity Threshold </td>\n                        <td id=\"T_2df24be8_90d7_11ea_8917_902b346d055brow22_col1\" class=\"data row22 col1\" >None</td>\n            </tr>\n            <tr>\n                        <th id=\"T_2df24be8_90d7_11ea_8917_902b346d055blevel0_row23\" class=\"row_heading level0 row23\" >23</th>\n                        <td id=\"T_2df24be8_90d7_11ea_8917_902b346d055brow23_col0\" class=\"data row23 col0\" >Group Features </td>\n                        <td id=\"T_2df24be8_90d7_11ea_8917_902b346d055brow23_col1\" class=\"data row23 col1\" >False</td>\n            </tr>\n    </tbody></table>"
     },
     "metadata": {}
    }
   ],
   "source": [
    "clu1 = setup(fca_data)"
   ]
  },
  {
   "cell_type": "markdown",
   "metadata": {},
   "source": [
    "### Build Model"
   ]
  },
  {
   "cell_type": "code",
   "execution_count": 8,
   "metadata": {},
   "outputs": [],
   "source": [
    "kmeans = create_model('kmeans',num_clusters=5)\n"
   ]
  },
  {
   "cell_type": "code",
   "execution_count": 10,
   "metadata": {},
   "outputs": [
    {
     "output_type": "execute_result",
     "data": {
      "text/plain": "         FAC1      FAC2      FAC3      FAC4      FAC5      FAC6      FAC7  \\\n0    0.198913 -0.175019  1.089674 -0.130921  0.070177  0.289753  0.184707   \n1    1.499282  1.881683 -0.218417 -2.125715 -0.985151 -0.326985  1.136460   \n2    0.907833  0.332130 -1.190586 -0.714407  0.889189  0.199897  0.244788   \n3    0.466866  0.524069  0.738584  0.101138 -0.831536  0.346205 -0.506742   \n4    0.423948  0.662775 -0.033193  0.234243  0.880978  0.392306  0.275587   \n..        ...       ...       ...       ...       ...       ...       ...   \n453 -0.406347 -1.100478 -0.593379 -1.567270  1.961135 -1.568589  1.672441   \n454  0.394239 -0.465179 -0.601956  0.772805  1.665637 -0.702683  0.198756   \n455  0.311703 -1.755726  0.415953  0.188553  0.256224  0.766453 -0.514771   \n456 -0.484190 -0.292895  2.242387 -1.173275  0.496211  0.670454  0.131345   \n457  1.294368  1.149696  0.418076 -1.150117 -0.111634 -1.592299  0.590124   \n\n         FAC8      FAC9     FAC10     FAC11     FAC12     FAC13    Cluster  \n0    0.558053 -1.321927  1.606639  0.141024  0.272209 -0.786470  Cluster 0  \n1    1.442899  1.200609 -0.094909 -1.436634 -0.113045  1.743963  Cluster 2  \n2   -0.921362 -0.070024 -0.095636 -0.792641  1.017360 -0.682559  Cluster 4  \n3   -0.464816 -0.773009  0.631529 -0.261633 -0.124102 -0.563196  Cluster 0  \n4    0.591628 -1.566337  1.204995 -0.270782  0.442900 -1.055709  Cluster 0  \n..        ...       ...       ...       ...       ...       ...        ...  \n453 -0.304585  2.025184 -1.720910  1.526108 -0.195419  0.729224  Cluster 4  \n454  1.521267  0.446416 -1.190234  1.117925  0.409073  0.510509  Cluster 1  \n455  0.348277  0.051459  1.082833 -0.321590  0.839859  0.526624  Cluster 1  \n456  1.585086 -0.858768 -0.074743  0.286286 -1.069360  0.071286  Cluster 3  \n457 -0.124933 -0.420228 -1.166661  0.968277 -0.477250 -0.950660  Cluster 4  \n\n[458 rows x 14 columns]",
      "text/html": "<div>\n<style scoped>\n    .dataframe tbody tr th:only-of-type {\n        vertical-align: middle;\n    }\n\n    .dataframe tbody tr th {\n        vertical-align: top;\n    }\n\n    .dataframe thead th {\n        text-align: right;\n    }\n</style>\n<table border=\"1\" class=\"dataframe\">\n  <thead>\n    <tr style=\"text-align: right;\">\n      <th></th>\n      <th>FAC1</th>\n      <th>FAC2</th>\n      <th>FAC3</th>\n      <th>FAC4</th>\n      <th>FAC5</th>\n      <th>FAC6</th>\n      <th>FAC7</th>\n      <th>FAC8</th>\n      <th>FAC9</th>\n      <th>FAC10</th>\n      <th>FAC11</th>\n      <th>FAC12</th>\n      <th>FAC13</th>\n      <th>Cluster</th>\n    </tr>\n  </thead>\n  <tbody>\n    <tr>\n      <th>0</th>\n      <td>0.198913</td>\n      <td>-0.175019</td>\n      <td>1.089674</td>\n      <td>-0.130921</td>\n      <td>0.070177</td>\n      <td>0.289753</td>\n      <td>0.184707</td>\n      <td>0.558053</td>\n      <td>-1.321927</td>\n      <td>1.606639</td>\n      <td>0.141024</td>\n      <td>0.272209</td>\n      <td>-0.786470</td>\n      <td>Cluster 0</td>\n    </tr>\n    <tr>\n      <th>1</th>\n      <td>1.499282</td>\n      <td>1.881683</td>\n      <td>-0.218417</td>\n      <td>-2.125715</td>\n      <td>-0.985151</td>\n      <td>-0.326985</td>\n      <td>1.136460</td>\n      <td>1.442899</td>\n      <td>1.200609</td>\n      <td>-0.094909</td>\n      <td>-1.436634</td>\n      <td>-0.113045</td>\n      <td>1.743963</td>\n      <td>Cluster 2</td>\n    </tr>\n    <tr>\n      <th>2</th>\n      <td>0.907833</td>\n      <td>0.332130</td>\n      <td>-1.190586</td>\n      <td>-0.714407</td>\n      <td>0.889189</td>\n      <td>0.199897</td>\n      <td>0.244788</td>\n      <td>-0.921362</td>\n      <td>-0.070024</td>\n      <td>-0.095636</td>\n      <td>-0.792641</td>\n      <td>1.017360</td>\n      <td>-0.682559</td>\n      <td>Cluster 4</td>\n    </tr>\n    <tr>\n      <th>3</th>\n      <td>0.466866</td>\n      <td>0.524069</td>\n      <td>0.738584</td>\n      <td>0.101138</td>\n      <td>-0.831536</td>\n      <td>0.346205</td>\n      <td>-0.506742</td>\n      <td>-0.464816</td>\n      <td>-0.773009</td>\n      <td>0.631529</td>\n      <td>-0.261633</td>\n      <td>-0.124102</td>\n      <td>-0.563196</td>\n      <td>Cluster 0</td>\n    </tr>\n    <tr>\n      <th>4</th>\n      <td>0.423948</td>\n      <td>0.662775</td>\n      <td>-0.033193</td>\n      <td>0.234243</td>\n      <td>0.880978</td>\n      <td>0.392306</td>\n      <td>0.275587</td>\n      <td>0.591628</td>\n      <td>-1.566337</td>\n      <td>1.204995</td>\n      <td>-0.270782</td>\n      <td>0.442900</td>\n      <td>-1.055709</td>\n      <td>Cluster 0</td>\n    </tr>\n    <tr>\n      <th>...</th>\n      <td>...</td>\n      <td>...</td>\n      <td>...</td>\n      <td>...</td>\n      <td>...</td>\n      <td>...</td>\n      <td>...</td>\n      <td>...</td>\n      <td>...</td>\n      <td>...</td>\n      <td>...</td>\n      <td>...</td>\n      <td>...</td>\n      <td>...</td>\n    </tr>\n    <tr>\n      <th>453</th>\n      <td>-0.406347</td>\n      <td>-1.100478</td>\n      <td>-0.593379</td>\n      <td>-1.567270</td>\n      <td>1.961135</td>\n      <td>-1.568589</td>\n      <td>1.672441</td>\n      <td>-0.304585</td>\n      <td>2.025184</td>\n      <td>-1.720910</td>\n      <td>1.526108</td>\n      <td>-0.195419</td>\n      <td>0.729224</td>\n      <td>Cluster 4</td>\n    </tr>\n    <tr>\n      <th>454</th>\n      <td>0.394239</td>\n      <td>-0.465179</td>\n      <td>-0.601956</td>\n      <td>0.772805</td>\n      <td>1.665637</td>\n      <td>-0.702683</td>\n      <td>0.198756</td>\n      <td>1.521267</td>\n      <td>0.446416</td>\n      <td>-1.190234</td>\n      <td>1.117925</td>\n      <td>0.409073</td>\n      <td>0.510509</td>\n      <td>Cluster 1</td>\n    </tr>\n    <tr>\n      <th>455</th>\n      <td>0.311703</td>\n      <td>-1.755726</td>\n      <td>0.415953</td>\n      <td>0.188553</td>\n      <td>0.256224</td>\n      <td>0.766453</td>\n      <td>-0.514771</td>\n      <td>0.348277</td>\n      <td>0.051459</td>\n      <td>1.082833</td>\n      <td>-0.321590</td>\n      <td>0.839859</td>\n      <td>0.526624</td>\n      <td>Cluster 1</td>\n    </tr>\n    <tr>\n      <th>456</th>\n      <td>-0.484190</td>\n      <td>-0.292895</td>\n      <td>2.242387</td>\n      <td>-1.173275</td>\n      <td>0.496211</td>\n      <td>0.670454</td>\n      <td>0.131345</td>\n      <td>1.585086</td>\n      <td>-0.858768</td>\n      <td>-0.074743</td>\n      <td>0.286286</td>\n      <td>-1.069360</td>\n      <td>0.071286</td>\n      <td>Cluster 3</td>\n    </tr>\n    <tr>\n      <th>457</th>\n      <td>1.294368</td>\n      <td>1.149696</td>\n      <td>0.418076</td>\n      <td>-1.150117</td>\n      <td>-0.111634</td>\n      <td>-1.592299</td>\n      <td>0.590124</td>\n      <td>-0.124933</td>\n      <td>-0.420228</td>\n      <td>-1.166661</td>\n      <td>0.968277</td>\n      <td>-0.477250</td>\n      <td>-0.950660</td>\n      <td>Cluster 4</td>\n    </tr>\n  </tbody>\n</table>\n<p>458 rows × 14 columns</p>\n</div>"
     },
     "metadata": {},
     "execution_count": 10
    }
   ],
   "source": [
    "kmeans_df = assign_model(kmeans)\n",
    "kmeans_df"
   ]
  },
  {
   "cell_type": "markdown",
   "metadata": {},
   "source": [
    "### Plot Model"
   ]
  },
  {
   "cell_type": "code",
   "execution_count": 11,
   "metadata": {},
   "outputs": [
    {
     "output_type": "display_data",
     "data": {
      "text/html": "        <script type=\"text/javascript\">\n        window.PlotlyConfig = {MathJaxConfig: 'local'};\n        if (window.MathJax) {MathJax.Hub.Config({SVG: {font: \"STIX-Web\"}});}\n        if (typeof require !== 'undefined') {\n        require.undef(\"plotly\");\n        requirejs.config({\n            paths: {\n                'plotly': ['https://cdn.plot.ly/plotly-latest.min']\n            }\n        });\n        require(['plotly'], function(Plotly) {\n            window._Plotly = Plotly;\n        });\n        }\n        </script>\n        "
     },
     "metadata": {}
    },
    {
     "output_type": "display_data",
     "data": {
      "application/vnd.plotly.v1+json": {
       "config": {
        "plotlyServerURL": "https://plot.ly"
       },
       "data": [
        {
         "customdata": [
          [
           0.1989134183137831
          ],
          [
           1.499282428244103
          ],
          [
           0.907832558569684
          ],
          [
           0.46686643888181745
          ],
          [
           0.4239484314482108
          ],
          [
           0.46671881495853274
          ],
          [
           0.23455074102356732
          ],
          [
           -0.39264945021896924
          ],
          [
           -0.23480085080594582
          ],
          [
           0.14811306516563208
          ],
          [
           0.7103473038598006
          ],
          [
           1.4885028118854795
          ],
          [
           -0.08789371894920797
          ],
          [
           -2.0687894195685543
          ],
          [
           -0.598544356771403
          ],
          [
           -3.109365472873019
          ],
          [
           -0.07294981183217795
          ],
          [
           -0.37318725824800847
          ],
          [
           -0.4116115127138318
          ],
          [
           -0.2514725278179727
          ],
          [
           1.6622955914928568
          ],
          [
           -0.13262038241479274
          ],
          [
           -0.7314556908269894
          ],
          [
           0.41733956463540983
          ],
          [
           -0.38572230444422373
          ],
          [
           -0.11792365217465366
          ],
          [
           1.2520265286639787
          ],
          [
           0.3901478068997687
          ],
          [
           0.4089763491531486
          ],
          [
           0.9361424489999619
          ],
          [
           -0.027671736496154186
          ],
          [
           1.8924212266541172
          ],
          [
           -3.0023871344453705
          ],
          [
           1.1112970551743917
          ],
          [
           2.2479587220183093
          ],
          [
           0.3881643913390516
          ],
          [
           -0.9080885995241701
          ],
          [
           0.25646666007657465
          ],
          [
           -0.22130742900300537
          ],
          [
           -0.46980785130064423
          ],
          [
           1.0950335301503475
          ],
          [
           0.8340053467667256
          ],
          [
           -0.1272644958364888
          ],
          [
           0.0929212791032259
          ],
          [
           -1.904341067955119
          ],
          [
           -1.5609661151252097
          ],
          [
           1.2460027810520693
          ],
          [
           0.965863575429149
          ],
          [
           -0.7814136321611825
          ],
          [
           -0.12740179353045836
          ],
          [
           -0.3799441285395706
          ],
          [
           0.8660783009358252
          ],
          [
           -0.2602601534015177
          ],
          [
           0.17063393893226703
          ],
          [
           0.11518091265054212
          ],
          [
           0.8545933038413556
          ],
          [
           -0.24022235322821273
          ],
          [
           -0.29077873518208397
          ],
          [
           0.609011036160001
          ],
          [
           0.354160707884782
          ],
          [
           -1.5682784296394523
          ],
          [
           -2.5927638698814772
          ],
          [
           0.6858891207746206
          ],
          [
           -0.6414564595378839
          ],
          [
           0.3863670270346669
          ],
          [
           -0.2806805025658953
          ],
          [
           0.3167427057653993
          ],
          [
           -3.231179245538577
          ],
          [
           -0.43336076658212824
          ],
          [
           -0.6138832490257837
          ],
          [
           0.2617243480014088
          ],
          [
           -1.1521981547707385
          ],
          [
           -0.8506660044740565
          ],
          [
           -1.963825691183579
          ],
          [
           0.8394352648515033
          ],
          [
           0.6893371457636785
          ],
          [
           -0.10713017099900425
          ],
          [
           -0.40698487711032855
          ],
          [
           -0.3075706029232516
          ],
          [
           -1.6552406364453478
          ],
          [
           1.0994438469142247
          ],
          [
           0.4827631619225742
          ],
          [
           0.06137817171823405
          ],
          [
           0.7664954248986279
          ],
          [
           0.45735182250660056
          ],
          [
           -0.4209827108767675
          ],
          [
           -2.5170240073457384
          ],
          [
           0.4238166839146955
          ],
          [
           0.6943366827221684
          ],
          [
           -0.5978261484527609
          ],
          [
           0.8486371718258235
          ],
          [
           -0.332664167913485
          ],
          [
           -0.5353436085906226
          ],
          [
           -0.5490603491060876
          ],
          [
           -2.7365703687811807
          ],
          [
           0.6398429209838484
          ]
         ],
         "hoverlabel": {
          "namelength": 0
         },
         "hovertemplate": "Cluster=Cluster 0<br>PCA1=%{x}<br>PCA2=%{y}<br>Feature=%{customdata[0]}",
         "legendgroup": "Cluster=Cluster 0",
         "marker": {
          "color": "#636efa",
          "opacity": 0.5,
          "symbol": "circle"
         },
         "mode": "markers",
         "name": "Cluster=Cluster 0",
         "showlegend": true,
         "textposition": "top center",
         "type": "scatter",
         "x": [
          1.0986094724844764,
          -0.8066405596971773,
          0.1393732810969088,
          1.5868745919270448,
          0.10550785332108481,
          0.09859321710492287,
          -0.6055838118610107,
          -0.4927002054261846,
          0.2876984011782379,
          0.05284319960829724,
          1.6141354187286354,
          0.518508317858927,
          -0.49605172922789237,
          -0.31672700415177724,
          -0.26587012906660523,
          0.5848693532728191,
          2.4769741575093542,
          1.9621099624150264,
          0.026135179381933455,
          1.4268663095303638,
          0.44301956779266954,
          0.7339697339700949,
          0.3329313478423632,
          0.508572249173355,
          -0.9241421945592335,
          -1.0946833767833024,
          0.4491067884134043,
          1.2469650924410915,
          0.7936400268001635,
          0.18727553119096757,
          1.4565400604933547,
          -1.1718267426680915,
          -0.4618599184559757,
          0.9325328525413816,
          2.0491494054574426,
          1.4473606303244222,
          0.7500968174452373,
          1.23617672558942,
          -0.06279543199503267,
          0.8965200772916266,
          -1.1907118562807495,
          -0.2669555289865943,
          0.15057934273453136,
          0.32407499923085603,
          0.7802438360422937,
          -0.5911766267765065,
          0.4620576218748336,
          0.5871684448889906,
          1.7919383070364865,
          -0.3693475862842808,
          0.4038764058442893,
          0.7490021558700761,
          -0.19460918922553092,
          -0.12268755747999954,
          1.918799583623356,
          1.03984579282735,
          1.4041310297392984,
          -0.49222019155018126,
          0.9316825837510911,
          -0.03180653744098271,
          0.07957188381481588,
          0.6097896467809981,
          1.3345899863180974,
          -0.7352926558245542,
          2.4827434943630466,
          -0.1551427274083238,
          1.070653260761906,
          1.002954843450691,
          2.3291183977794394,
          -0.2231634086110032,
          -0.30226413903606436,
          0.3327810137137555,
          -0.3768558055415833,
          1.5822273787340193,
          0.22340507848909913,
          -0.14463826776060124,
          1.0249691210668024,
          3.2001071909679286,
          0.356770466426038,
          1.6340637606100945,
          0.07329528705620574,
          0.6877541642175756,
          1.1620473347011024,
          0.7094679961460251,
          1.5010380091913562,
          1.659512489038485,
          0.028202322922678394,
          0.4870978792005715,
          0.6359115333476875,
          -0.309036141843382,
          -0.2718876417573866,
          1.5446140519150366,
          1.466497443081504,
          1.7753300818851137,
          -0.3835701962920387,
          -0.2956332220319792
         ],
         "xaxis": "x",
         "y": [
          0.7139209810413468,
          1.4018020713506576,
          0.6765497090046055,
          0.7707273985588977,
          -0.8993543441206644,
          -0.8075950953906563,
          0.8165370763626651,
          -0.4632842616847678,
          -0.8495858537164754,
          -1.2891500723322076,
          0.763960828376291,
          0.3765692642838074,
          0.14733322675364624,
          -2.361175399548761,
          -1.0039533440188364,
          -0.4074353619081632,
          -0.16324906078239457,
          -0.21415147398792436,
          0.6050170451581205,
          -1.7091377735886721,
          0.0318543631295014,
          -0.2829322156823588,
          -0.48260052045481744,
          0.029807635179175705,
          0.5997278975330103,
          0.8204227614072402,
          0.16430807014308343,
          -0.1967801201469523,
          0.5080688636314148,
          0.33684591609855247,
          0.00999353466808683,
          -0.6827876101165582,
          -2.2260757288326887,
          -0.8189514225109823,
          -0.496214822612737,
          1.0396827862799578,
          -0.1757662661162677,
          1.3639649232507458,
          0.0676392170303823,
          0.09611206095626462,
          0.18782500641774205,
          0.8715834534260012,
          0.6492163072516683,
          -0.10287279359164458,
          0.3940499665468699,
          -0.4526560474834518,
          -0.7798194744466285,
          -0.13769670377189996,
          -1.5184329514386519,
          0.02629545497347427,
          -0.33017100776516395,
          0.10779692014758165,
          -0.1786454805455902,
          -2.915388832445672,
          0.5097767576082136,
          -0.6881753698206833,
          -0.9444727006856659,
          0.5375829736559433,
          1.396981945302291,
          -1.9207726781822372,
          -0.4307031966889602,
          -1.2615653224594723,
          -0.18409921695825,
          -0.21243917171847168,
          1.239759666746132,
          -0.2463344697754062,
          -2.051909567223328,
          0.05829960128971434,
          0.2507265759836802,
          -0.31510499095634376,
          -0.6778611142763448,
          -0.7273078355409044,
          0.33852539906364537,
          -0.1281959833670191,
          -0.8693613695757336,
          0.4353960600719597,
          -0.5140506340198975,
          0.036437047102851186,
          0.1875255101718503,
          2.4392544841782233,
          0.5330121334571756,
          0.7610755723656392,
          -1.9827564428259812,
          0.5871106427520714,
          0.5838432295095574,
          0.7727457466050478,
          -0.09076751919065913,
          -0.18232130174934086,
          0.20496448446046917,
          0.1871184534615344,
          1.9847961326269379,
          -0.6057679620304013,
          -0.23826070464521001,
          -0.4689871519771716,
          1.6365342866400123,
          -0.3750909364113489
         ],
         "yaxis": "y"
        },
        {
         "customdata": [
          [
           0.8276564211952814
          ],
          [
           0.25917577216832843
          ],
          [
           0.5187125731859836
          ],
          [
           -0.3359511924691319
          ],
          [
           0.14463095188661626
          ],
          [
           -0.42202867006368855
          ],
          [
           -0.7824811092346083
          ],
          [
           -2.4183893929742464
          ],
          [
           0.8731205237021274
          ],
          [
           0.6169197935943666
          ],
          [
           1.8686165994699688
          ],
          [
           0.945452136209644
          ],
          [
           -0.6382228039593283
          ],
          [
           1.821566915425819
          ],
          [
           -1.887168722125577
          ],
          [
           -3.21466533471976
          ],
          [
           0.7137221628179744
          ],
          [
           -0.7134544640629344
          ],
          [
           0.18365652881200134
          ],
          [
           0.8704856973971593
          ],
          [
           -0.7182812508549592
          ],
          [
           0.5391930579937024
          ],
          [
           1.2692754833123943
          ],
          [
           -1.7971060664041858
          ],
          [
           0.29285148403732164
          ],
          [
           -0.32298021768695345
          ],
          [
           -0.07854399841505319
          ],
          [
           -1.8299179737801732
          ],
          [
           1.9439350337718337
          ],
          [
           -0.48301744890796194
          ],
          [
           0.604662885999015
          ],
          [
           -0.9058639731531113
          ],
          [
           -0.5476139297115261
          ],
          [
           -0.4893826350906889
          ],
          [
           -0.262433691224295
          ],
          [
           -0.3007511069573523
          ],
          [
           0.025919129858958098
          ],
          [
           1.2416785043018859
          ],
          [
           0.5296267526182864
          ],
          [
           0.17736513823993066
          ],
          [
           0.7869298441146823
          ],
          [
           -0.16970360153816752
          ],
          [
           -1.3633930941426182
          ],
          [
           0.3145502519911013
          ],
          [
           0.2740250433941952
          ],
          [
           -0.03781833808561641
          ],
          [
           -0.4683179965713819
          ],
          [
           0.00023933919760027843
          ],
          [
           -0.6846073111377906
          ],
          [
           0.5737744993950356
          ],
          [
           0.032755208960812666
          ],
          [
           -0.25336748445886575
          ],
          [
           0.2525163162731246
          ],
          [
           0.43012969535279466
          ],
          [
           -0.42421472123254905
          ],
          [
           0.5482590629683834
          ],
          [
           -0.03935627603091615
          ],
          [
           -0.6283927624093816
          ],
          [
           1.5708884947237358
          ],
          [
           0.22956214172024322
          ],
          [
           -0.048081046769168925
          ],
          [
           0.017295094630673132
          ],
          [
           0.5182203534234814
          ],
          [
           -2.674948610830452
          ],
          [
           -0.32218355546051836
          ],
          [
           1.3165313232948581
          ],
          [
           -1.6279693351287312
          ],
          [
           -0.3963796225616083
          ],
          [
           -0.5758916728920682
          ],
          [
           0.4823438752846045
          ],
          [
           1.944210330540385
          ],
          [
           0.05776783139928011
          ],
          [
           -0.09701999876634751
          ],
          [
           1.4314826662261222
          ],
          [
           0.31632409095399605
          ],
          [
           -0.2693510473615264
          ],
          [
           0.2269381518110111
          ],
          [
           -0.2636983371688864
          ],
          [
           0.5901772743319594
          ],
          [
           -0.8668268570333555
          ],
          [
           1.8570922392031628
          ],
          [
           -0.5636398752667817
          ],
          [
           0.9930471850836778
          ],
          [
           0.29425748526835527
          ],
          [
           0.6052381727663134
          ],
          [
           0.8385924710611696
          ],
          [
           0.3084147768813575
          ],
          [
           -0.36034944163342286
          ],
          [
           0.6412381036688372
          ],
          [
           0.4769279356653913
          ],
          [
           -0.6725768689662224
          ],
          [
           -1.195524685907561
          ],
          [
           0.5267778471472767
          ],
          [
           -0.6816003767162608
          ],
          [
           0.7026572344869855
          ],
          [
           -3.043346023802656
          ],
          [
           -0.5008493130696107
          ],
          [
           0.838115819108892
          ],
          [
           -0.8528300900792961
          ],
          [
           -0.2810317368375153
          ]
         ],
         "hoverlabel": {
          "namelength": 0
         },
         "hovertemplate": "Cluster=Cluster 1<br>PCA1=%{x}<br>PCA2=%{y}<br>Feature=%{customdata[0]}",
         "legendgroup": "Cluster=Cluster 1",
         "marker": {
          "color": "#EF553B",
          "opacity": 0.5,
          "symbol": "circle"
         },
         "mode": "markers",
         "name": "Cluster=Cluster 1",
         "showlegend": true,
         "textposition": "top center",
         "type": "scatter",
         "x": [
          0.011857998446392076,
          -1.0024268758518997,
          -0.4446521633567441,
          0.7829374103604838,
          1.4225134576039844,
          -0.3052224160635604,
          -0.8678816438554581,
          0.6785978605721512,
          0.7882709969181858,
          -0.6307161456345777,
          0.7837970505970652,
          0.03050344443893839,
          0.8634296855164852,
          -0.7583333452364995,
          -2.0605061417997863,
          0.33845682962459,
          0.12747061506385535,
          -1.5352376561732937,
          0.4903273861481908,
          0.10890102580265419,
          0.10339528864732189,
          -0.280343768205047,
          -0.09772154326595814,
          2.7345322209178025,
          -1.072027894134912,
          -0.5483027666220588,
          2.5976407677772375,
          0.6605609303308138,
          -0.12564305102009388,
          1.299572230524352,
          0.031096341564899304,
          -1.0193540410688993,
          0.7614247756903461,
          -0.7974631194438921,
          0.7991331067756112,
          0.10232638197763541,
          0.7351626524251998,
          0.36141536990849166,
          -0.2827321740399949,
          -0.3640001547060794,
          0.998818507923983,
          -0.6064452957209486,
          0.7423715936001298,
          0.7581793136892915,
          0.8644802311238335,
          -0.0933844559935547,
          0.2960850026994643,
          0.2947576014759238,
          1.1559421534528218,
          0.380935608164267,
          -1.458744519913682,
          0.5150475890742546,
          0.08542084412827897,
          0.3725708430350862,
          -0.6215043905211902,
          -0.5527715547483137,
          1.1698909778140623,
          0.12530772218673092,
          -1.3533921236282356,
          0.17567227972230567,
          -0.40517439599093064,
          0.06740954539500496,
          -1.1242347316475845,
          1.4030320902184619,
          -0.3670202816199016,
          -0.2635587854524459,
          -0.38931798190371303,
          -0.8248738863312134,
          0.12472963251637156,
          -1.865269592147554,
          -0.9492923906974756,
          -0.7694964223995924,
          -0.177311539208802,
          -0.24134928526715038,
          0.5918258087998081,
          -1.114622267674047,
          -0.8127771779788903,
          -0.6608683919120553,
          -0.056787126801901844,
          0.14442481239764393,
          1.0489810678352196,
          -0.4051118339140487,
          0.43477916624281765,
          -0.007572099680050354,
          -2.9409597635563833,
          -0.40482527601893725,
          -0.8346835922950138,
          -0.28216559366127586,
          -0.37277210283563694,
          -1.3221701466132472,
          -0.06428177245320293,
          -2.0058852088184898,
          -0.8248967451658822,
          2.008339142905101,
          -0.3645130541968386,
          -1.3228040992689238,
          -1.2619773037966193,
          -0.7164053056616148,
          -1.5750908595656525,
          1.1131467707433989
         ],
         "xaxis": "x",
         "y": [
          0.31022080359314985,
          0.2660501491054787,
          -1.8131383851920064,
          -0.8530527641128869,
          0.6852390442429956,
          0.1456750647876432,
          2.570665578776038,
          0.7291012221039621,
          -1.5009894531561359,
          -1.8671946587657078,
          0.08489015385329814,
          -1.1220273029132575,
          -0.7427161118446515,
          -0.2679509968842984,
          0.211704762959934,
          0.7468491864718498,
          -0.3325383035204539,
          1.1690523094384866,
          -0.8254906615283487,
          1.6293036141305501,
          0.5710619473361137,
          -0.8528062985258332,
          -0.5924098879045895,
          0.871477078191176,
          -1.913020693929154,
          -1.7251990028206785,
          0.2654228536589662,
          0.5012362376558407,
          -0.5711969244492161,
          1.0370844518975169,
          -0.316742248344055,
          1.1465502560334937,
          -1.665130811216099,
          1.3948574465678842,
          0.05731918269730474,
          -1.153908625935662,
          -0.9755293791121712,
          -0.45285715493236955,
          -0.11176828413599298,
          -1.1269735386382003,
          0.12181125120625502,
          -1.1050652382541502,
          -0.6480951283835156,
          -0.4613954950011924,
          -1.4201676678548747,
          2.7136700817611703,
          -0.6035449091519346,
          -0.4353074864312425,
          -0.7209029118407292,
          0.04134556880659804,
          0.3001145463327668,
          0.9442822925295709,
          1.7857594053939605,
          0.13295099282604567,
          -1.6677366064399057,
          0.6609032344605957,
          0.8440921449999496,
          -1.0616771794608424,
          0.5239618404655371,
          -0.070143581534583,
          -0.8986391344231336,
          0.1596948047391414,
          0.4842183999921563,
          0.663542293212589,
          -0.13263025953217664,
          -0.1932650849466092,
          -1.6017720979246333,
          1.9396890942296388,
          -0.04875214183785954,
          0.5311449425384857,
          -0.7161099987212933,
          0.4824834904895074,
          0.6097870371075792,
          -0.7331239760030902,
          -1.964545149446956,
          0.4127425259583226,
          -0.45461803268149487,
          -1.0302082623386402,
          -0.1698800182573548,
          1.120933569092509,
          0.24563398510671705,
          -1.6270053675819234,
          1.043915892485898,
          -0.9273520317799394,
          -1.27971818118728,
          1.413460576873209,
          2.706686886986412,
          -0.8515527472258224,
          1.517414253393618,
          -0.3157917442962085,
          -1.7451582242273334,
          -0.513388340520668,
          0.540216488502116,
          0.5226565844477971,
          -1.1152816607540879,
          -0.39690609660487153,
          -1.7253283704118731,
          -0.38694695781262134,
          0.5941994355196515,
          2.2058275711146296
         ],
         "yaxis": "y"
        },
        {
         "customdata": [
          [
           -1.2085894284862233
          ],
          [
           -0.787268267344896
          ],
          [
           -0.5978904858569547
          ],
          [
           -1.0465076469117656
          ],
          [
           0.04387599150560691
          ],
          [
           0.7465139005628937
          ],
          [
           0.33457700377103244
          ],
          [
           -0.34610269131931487
          ],
          [
           0.49810304412102857
          ],
          [
           -0.5277765940078609
          ],
          [
           0.944215275896814
          ],
          [
           -0.3645288218948704
          ],
          [
           0.7977876847003516
          ],
          [
           0.868379416069504
          ],
          [
           0.06329533338239843
          ],
          [
           -0.3086577228625308
          ],
          [
           0.9056622213252288
          ],
          [
           -0.8993142074745001
          ],
          [
           0.06883274416452194
          ],
          [
           0.4390652085043079
          ],
          [
           0.5245985161825586
          ],
          [
           0.811482938517783
          ],
          [
           0.8200539188128965
          ],
          [
           -0.042278688408772615
          ],
          [
           0.2932366753774251
          ],
          [
           1.1919913602090122
          ],
          [
           0.614473328947585
          ],
          [
           -0.622092837998272
          ],
          [
           0.251966017704842
          ],
          [
           -1.2250741838275714
          ],
          [
           -1.3867184279963425
          ],
          [
           -1.1939494076852135
          ],
          [
           0.34440717550854066
          ],
          [
           -2.3200134042849596
          ],
          [
           0.37367118049966896
          ],
          [
           0.7043027857275385
          ],
          [
           0.8079456862949277
          ],
          [
           -0.003869316309322331
          ],
          [
           -0.7000646278087902
          ],
          [
           -1.007780917763298
          ],
          [
           -0.11933369753518579
          ],
          [
           -0.40101191454074125
          ],
          [
           0.3661056930950817
          ],
          [
           -0.7782321862800349
          ],
          [
           2.3536329102087032
          ],
          [
           0.7765389064568803
          ],
          [
           -0.7439244393649985
          ],
          [
           -1.1548255771439946
          ],
          [
           0.7140172115400907
          ],
          [
           1.8188309527999473
          ],
          [
           -0.8160659999297561
          ],
          [
           -0.6706338665850256
          ],
          [
           0.15373884152948897
          ],
          [
           0.393388122488478
          ],
          [
           0.2808553856322902
          ],
          [
           -0.5895056165253256
          ],
          [
           1.133134271672507
          ],
          [
           0.7125538741261358
          ],
          [
           -1.3508050742045108
          ],
          [
           -0.8627661133946559
          ],
          [
           -0.3487013431335691
          ],
          [
           0.12077766320164739
          ],
          [
           -0.012854037652468196
          ],
          [
           0.09732761652798114
          ],
          [
           1.2842351802647272
          ],
          [
           2.1869835768431867
          ],
          [
           -0.06448005659096391
          ],
          [
           0.014148712622890101
          ],
          [
           -0.26401570586409
          ],
          [
           -0.11079260605814012
          ],
          [
           0.023040883845019445
          ],
          [
           -0.5523695083557453
          ],
          [
           0.5695197057912557
          ],
          [
           1.5950488540959273
          ],
          [
           1.8243122905637132
          ],
          [
           -0.7059293516575184
          ],
          [
           0.03709733592796404
          ],
          [
           -0.055660131715914996
          ],
          [
           -0.4272858983457901
          ],
          [
           0.05472702139422777
          ],
          [
           0.9782545422705501
          ],
          [
           0.4053133273315772
          ],
          [
           1.580073372925783
          ],
          [
           -0.4202443282721627
          ]
         ],
         "hoverlabel": {
          "namelength": 0
         },
         "hovertemplate": "Cluster=Cluster 2<br>PCA1=%{x}<br>PCA2=%{y}<br>Feature=%{customdata[0]}",
         "legendgroup": "Cluster=Cluster 2",
         "marker": {
          "color": "#00cc96",
          "opacity": 0.5,
          "symbol": "circle"
         },
         "mode": "markers",
         "name": "Cluster=Cluster 2",
         "showlegend": true,
         "textposition": "top center",
         "type": "scatter",
         "x": [
          -0.35769347056856643,
          1.4586485240497826,
          -0.7858387326189309,
          0.28825468850513686,
          -0.8487122004294275,
          0.8634134521021801,
          1.3522856946086987,
          0.45365144518718076,
          -0.05286874673512413,
          1.7707024001450467,
          -0.5565231781953267,
          0.712804709544863,
          1.6521088453919086,
          -1.8362906253531779,
          -0.869848300296958,
          -0.09016870078170675,
          -0.1649463760462995,
          -0.04979494394521977,
          0.5958978785711542,
          0.949552137930881,
          -0.7338360681119523,
          0.47279634944310567,
          -0.49507196574314355,
          -0.090491112927888,
          0.6576092950817296,
          1.1047002112438062,
          0.7007614704788299,
          0.6579394593935258,
          1.4147193374653297,
          0.25168798233952305,
          1.226856181904313,
          0.7562358351406222,
          -0.6578699829981032,
          0.030963002308433605,
          0.24251493229473395,
          -0.32888951350046686,
          2.1794632904426487,
          0.8209129617725128,
          0.6910395040728154,
          0.7548382666838784,
          -0.29267877945527804,
          0.37312153081780997,
          0.019549902520786075,
          0.3783011486616978,
          -0.6151974120032744,
          0.6085640704755054,
          -1.2191919524575638,
          0.378177563055654,
          1.252581906046787,
          1.446831424409586,
          1.8407091288614585,
          0.9914882842411256,
          0.09254694553894972,
          -0.33179398875604915,
          -0.5705840769202027,
          0.35119987573222494,
          -1.138490259522369,
          0.3474756871243091,
          -0.11193335697256312,
          0.8312060911252845,
          -0.5356861349154768,
          -0.9650906297651342,
          -0.02335316789636325,
          0.4538602749333258,
          1.393827608206202,
          0.3238487381201743,
          0.5704446038252355,
          -0.32364124201856537,
          -1.2040228296410826,
          2.6496489249529174,
          -0.10879476472900147,
          -1.2054779378101799,
          -0.8557011819564482,
          0.21057617903053316,
          -1.730662119015797,
          0.18102742984657555,
          -1.5614912081062995,
          -0.09266001176533407,
          0.35065170273705915,
          0.8541468662709237,
          2.218161809247982,
          -0.533784858195845,
          -0.44964220616950396,
          -0.774343061734097
         ],
         "xaxis": "x",
         "y": [
          -1.0150081749936546,
          1.4201105718775942,
          -1.3187778983927487,
          -1.6306128135195703,
          1.0033604809986558,
          -0.7271473709799111,
          0.8238261168906844,
          -1.6672520225086516,
          -0.5051060936593703,
          -0.9849036764773453,
          -0.6478179656950201,
          -1.4679617537560605,
          0.3061128505699084,
          -1.0169251605351162,
          -1.997894877849794,
          -0.28718428072702185,
          -0.8852524059752241,
          1.1450036644683887,
          -0.2519078469335087,
          -1.2640935885497697,
          0.08470973224341152,
          -0.6971095616617072,
          0.4008294884840823,
          -1.6378391404153174,
          0.23133767208752676,
          0.33032868892065753,
          -1.6868855019192148,
          0.6149940724001232,
          0.8433194879605488,
          -0.5520814819737745,
          0.20662795266283104,
          0.025379563364853936,
          0.6358656722109546,
          -0.6272910006063775,
          -0.662495030568217,
          -0.4745560386752213,
          0.2274591114693098,
          0.365990134331348,
          -1.8244251345803137,
          1.6297810985242587,
          1.4714932101701015,
          -0.8262076849032721,
          -0.050646848375798255,
          -1.3971037531558352,
          -0.71818542065913,
          0.01948158566250459,
          -2.4070273876029575,
          0.21396072048566805,
          0.7728754732851499,
          -0.55299497564432,
          0.4315664987683624,
          -0.07970330327931252,
          -0.05847207253089864,
          0.46068562244623956,
          -0.011897744567935253,
          -0.998531397491923,
          -0.3963477920591551,
          -0.7449728347992484,
          -0.2001781076811791,
          -0.3849285591944202,
          -1.961393991719681,
          1.0535928154232208,
          1.6553085084893335,
          -1.7807462758855386,
          0.23264400054650752,
          -0.7375581828775511,
          0.05480016491755347,
          -1.0857667661683654,
          -0.20338329074436817,
          -0.033142525523993806,
          -0.4646085763492062,
          0.061528708550375386,
          -1.149983625534971,
          0.16884716089606833,
          0.03871282491371798,
          0.7919499394018382,
          -0.3158854682521322,
          -1.8704070365370054,
          1.2622439495613784,
          -0.1176659715986429,
          0.5588877089570938,
          -0.5190531877930857,
          -0.9755736532978578,
          3.2744491032891223
         ],
         "yaxis": "y"
        },
        {
         "customdata": [
          [
           -0.3183739305714041
          ],
          [
           -0.02951435725061857
          ],
          [
           -0.22191862965758372
          ],
          [
           -2.235861565723412
          ],
          [
           -1.5911926678032882
          ],
          [
           0.35920932066447514
          ],
          [
           -0.2604304715592651
          ],
          [
           -0.39738424087428775
          ],
          [
           0.7638281531594131
          ],
          [
           0.6428067522688516
          ],
          [
           0.39896952918332296
          ],
          [
           0.8650069509641418
          ],
          [
           1.6333608862973565
          ],
          [
           0.00015027103550535394
          ],
          [
           1.3254536682861555
          ],
          [
           2.2139048673135964
          ],
          [
           -0.21632070789309804
          ],
          [
           0.7691827055931926
          ],
          [
           -0.4060594714087398
          ],
          [
           -0.4687110798620175
          ],
          [
           -0.02137308479845754
          ],
          [
           1.2132379725609268
          ],
          [
           -1.3690845756925667
          ],
          [
           0.8488562248647475
          ],
          [
           -0.5140487536632548
          ],
          [
           -2.1902547364729394
          ],
          [
           -0.7756348269985375
          ],
          [
           1.477222792145142
          ],
          [
           0.49684496093779346
          ],
          [
           0.858844682345955
          ],
          [
           -0.8368465945939817
          ],
          [
           0.08216828915781445
          ],
          [
           0.12367073362945577
          ],
          [
           -0.09491408454121461
          ],
          [
           0.9127656374024679
          ],
          [
           -0.48716719143390036
          ],
          [
           -1.0037635387337944
          ],
          [
           -1.1334660501744978
          ],
          [
           1.3113455524009607
          ],
          [
           -2.0431617073565165
          ],
          [
           -2.407956282126115
          ],
          [
           0.09840375637007907
          ],
          [
           -0.8775266399448775
          ],
          [
           0.9226842381530027
          ],
          [
           1.0468231701686934
          ],
          [
           0.8838837315950453
          ],
          [
           0.9158302465209844
          ],
          [
           0.9616265956686997
          ],
          [
           1.7651620453566903
          ],
          [
           0.49125269471122934
          ],
          [
           -0.6660300690082319
          ],
          [
           -1.8095176053459652
          ],
          [
           -0.16752440081500458
          ],
          [
           0.020542390728363037
          ],
          [
           -0.12799861198446547
          ],
          [
           -1.100875641290957
          ],
          [
           0.7081951569973867
          ],
          [
           -0.06660278246086236
          ],
          [
           -1.4845647678833551
          ],
          [
           1.8055736908620008
          ],
          [
           1.0501519347428572
          ],
          [
           -0.4089909222972139
          ],
          [
           0.30446421800052087
          ],
          [
           0.0469115766744625
          ],
          [
           -1.9272950294252
          ],
          [
           -1.334972416269784
          ],
          [
           -0.09014299424966193
          ],
          [
           -1.9082363980715926
          ],
          [
           0.25302496414116477
          ],
          [
           1.1933179607264173
          ],
          [
           0.36209001495184834
          ],
          [
           -1.0598600509183926
          ],
          [
           0.14356211484303152
          ],
          [
           0.4540111737335666
          ],
          [
           1.2879594474539928
          ],
          [
           0.46309979686785563
          ]
         ],
         "hoverlabel": {
          "namelength": 0
         },
         "hovertemplate": "Cluster=Cluster 3<br>PCA1=%{x}<br>PCA2=%{y}<br>Feature=%{customdata[0]}",
         "legendgroup": "Cluster=Cluster 3",
         "marker": {
          "color": "#ab63fa",
          "opacity": 0.5,
          "symbol": "circle"
         },
         "mode": "markers",
         "name": "Cluster=Cluster 3",
         "showlegend": true,
         "textposition": "top center",
         "type": "scatter",
         "x": [
          -0.40638513482901195,
          0.9824058100733057,
          0.8604831541525342,
          -0.9855599320289746,
          0.3491430047312187,
          -2.1144482206736286,
          -2.0472820127121722,
          -0.4491537025761728,
          -0.9953248549511785,
          -0.5177199880921746,
          0.21409658376567176,
          -0.3749198520227818,
          -0.8796095950503053,
          -0.24832645846113366,
          0.4745194893060533,
          -0.7152359292300647,
          -0.43156154535055913,
          1.481916496449666,
          -0.10951025047941551,
          0.5737093608673823,
          0.4356642290688088,
          -1.2990958288436947,
          -0.41795353872816565,
          -1.7143560066336492,
          -0.1654858640870782,
          0.4082768819054118,
          -0.21074947611808942,
          0.5081206039759631,
          0.19277875373248565,
          1.230494892001427,
          0.4044558438410929,
          1.4905651588157156,
          -0.39323915277786525,
          3.3605641305491214,
          1.0058265933494752,
          -0.5089886462463464,
          -0.2454423924655873,
          0.7517769838081249,
          1.0083032552163387,
          -0.10447846032718043,
          -0.5499028036513789,
          0.4665821454469834,
          1.5710438610889883,
          -1.0311564859355091,
          0.19476005185233403,
          1.1314134685793613,
          -0.06117173082026518,
          -0.033283797082747785,
          0.8144917843391433,
          -1.004822964709788,
          0.17222683110637385,
          0.4933363697167543,
          0.5449005449652138,
          0.6557391212019501,
          -0.731055628420144,
          -0.3516669666142751,
          0.1816725315786967,
          -0.049143611008483495,
          -0.34852420924108374,
          2.039054396465452,
          -1.1873714051430997,
          -0.39650307502298815,
          -0.10772840842313751,
          0.38697585381980937,
          -0.6595779021567632,
          0.15909513892526855,
          0.5891754540713334,
          -0.5784847350280792,
          -0.6629747227091939,
          -0.2942413987937004,
          0.1693370072512276,
          0.7226461062289319,
          -0.27768093900277124,
          -0.5675260054041276,
          -1.3330163458223598,
          -1.6022489946297458
         ],
         "xaxis": "x",
         "y": [
          -0.8210742290593892,
          1.09412072291537,
          -0.14842603995201858,
          -0.882016020680539,
          0.05256035647634644,
          1.095388172748458,
          -0.39670207108734046,
          0.6176044443331403,
          0.8739562598577426,
          0.46090827275297513,
          -1.3277995980664297,
          -0.8126951622694624,
          0.25491099126567796,
          0.0960408472638299,
          -0.39856005131501404,
          -1.1830476168111799,
          1.7196944582711482,
          -0.6009563737321271,
          -1.0280314156736594,
          -2.521053308840779,
          0.012871055505920841,
          -1.1520927558849305,
          -0.48154531332037387,
          -0.9411247089854147,
          -0.2047292710652281,
          1.0588884485960182,
          0.3785311461634416,
          1.184875272956224,
          0.05090040398095691,
          -0.3829235078063296,
          -1.2826818164318543,
          -0.6997389810681598,
          -0.844333580799981,
          1.6779351569251506,
          0.5740709021312078,
          0.349861946065444,
          1.480733828228838,
          -0.22841861112351203,
          0.43002577830107974,
          0.6011273610686252,
          0.07790578311720014,
          2.154647736640427,
          0.2660201307793045,
          0.7079073226628916,
          -0.5640636383137577,
          -0.5224287535839681,
          1.0522204167070257,
          0.11041237096078706,
          0.4220178507752934,
          -0.6801461039800024,
          -0.5725687779018183,
          -0.31574757339446824,
          0.9147369225367163,
          1.2631397077203654,
          0.7924710474143674,
          0.9387687162896278,
          -0.7792872672255866,
          0.056065878486487336,
          0.6762576131305214,
          0.8632580590309332,
          -0.13224057676708326,
          -0.8364745946880376,
          0.18419595808688188,
          -0.753274641454537,
          -1.724371581634529,
          0.8455577098550667,
          0.12104670775369435,
          -0.1460055744771857,
          0.22231197189545718,
          0.6363577650057975,
          1.5974017813583272,
          -0.13301066355209779,
          0.2716058861040287,
          -1.0331322505600866,
          -0.13775564163169032,
          -0.1650631550806596
         ],
         "yaxis": "y"
        },
        {
         "customdata": [
          [
           -0.48258260781601015
          ],
          [
           1.2909402333451496
          ],
          [
           1.0641877986770605
          ],
          [
           -1.1766548863536543
          ],
          [
           0.6810141514462386
          ],
          [
           -0.5266510855919599
          ],
          [
           0.19277785205233786
          ],
          [
           1.551165027669614
          ],
          [
           1.113066435197687
          ],
          [
           0.6642775470817232
          ],
          [
           -0.9742162391098712
          ],
          [
           0.40275086405971633
          ],
          [
           0.110131346804343
          ],
          [
           -0.17262661233587667
          ],
          [
           0.8417188215173792
          ],
          [
           0.8994386252581879
          ],
          [
           0.7737271942850237
          ],
          [
           0.40756961279624737
          ],
          [
           0.24546602046424104
          ],
          [
           0.660785846042529
          ],
          [
           -1.4765029771812894
          ],
          [
           -0.11834427913742655
          ],
          [
           -1.7632169013922596
          ],
          [
           0.2672390998838073
          ],
          [
           0.9245462063053427
          ],
          [
           -2.487104658348425
          ],
          [
           -1.4554339087196575
          ],
          [
           1.6921815664216397
          ],
          [
           -0.6532937400685961
          ],
          [
           1.0459294462426119
          ],
          [
           1.201840326745573
          ],
          [
           -0.5354837757924581
          ],
          [
           1.1421153687303227
          ],
          [
           0.7950659473081623
          ],
          [
           -1.3721685354739521
          ],
          [
           -0.10421369568347413
          ],
          [
           0.33864613069153904
          ],
          [
           0.8273985604734009
          ],
          [
           1.0071563395687517
          ],
          [
           -0.0411915353374651
          ],
          [
           -0.8647446090593885
          ],
          [
           -0.8690884735546218
          ],
          [
           0.7240588926308258
          ],
          [
           -0.9284694725910727
          ],
          [
           0.14740668903948737
          ],
          [
           -0.8474577303684014
          ],
          [
           -1.4123324553836345
          ],
          [
           2.4625203841151624
          ],
          [
           -0.14937778845038718
          ],
          [
           0.20419320120479756
          ],
          [
           1.1726767405065404
          ],
          [
           -0.8816572376793979
          ],
          [
           -0.6557456536409654
          ],
          [
           -0.15654648616374012
          ],
          [
           -0.31173857172826525
          ],
          [
           -0.8231108890751612
          ],
          [
           -1.575632055650651
          ],
          [
           1.7075679346092356
          ],
          [
           -1.7519742721831733
          ],
          [
           -0.5096434925066761
          ],
          [
           -0.6712672124269975
          ],
          [
           0.2393649479682817
          ],
          [
           1.4450707862370662
          ],
          [
           -1.941438898903822
          ],
          [
           -0.024611053000678926
          ],
          [
           0.09701649950217787
          ],
          [
           -0.48513854881369
          ],
          [
           1.4688223207242939
          ],
          [
           1.4247167508481298
          ],
          [
           -0.8021185729847669
          ],
          [
           -0.08032090074204866
          ],
          [
           -0.2321477438097011
          ],
          [
           -0.27197806408066305
          ],
          [
           -0.2411314829462155
          ],
          [
           0.38893866625833196
          ],
          [
           -1.0274283815705847
          ],
          [
           0.6638480293509069
          ],
          [
           1.3707593741744164
          ],
          [
           -0.019400575977385873
          ],
          [
           0.22050045269398286
          ],
          [
           -2.2159881581339116
          ],
          [
           -0.18351771988596266
          ],
          [
           -1.498654768888127
          ],
          [
           0.6729883819109564
          ],
          [
           -1.3200349468167263
          ],
          [
           -0.006139295287077606
          ],
          [
           -0.20238956716057482
          ],
          [
           -0.3195067839056818
          ],
          [
           1.7052010705046636
          ],
          [
           1.1011767095623077
          ],
          [
           1.0789682760191865
          ],
          [
           1.3309721677564552
          ],
          [
           0.3131403931391467
          ],
          [
           1.3605283622148143
          ],
          [
           -1.2513343851667584
          ],
          [
           0.1870868097824259
          ],
          [
           -1.3588504589974069
          ],
          [
           -0.4063465171978302
          ],
          [
           0.3942392046060162
          ],
          [
           0.31170260897040936
          ],
          [
           -0.48419007081846394
          ],
          [
           1.2943683880327943
          ]
         ],
         "hoverlabel": {
          "namelength": 0
         },
         "hovertemplate": "Cluster=Cluster 4<br>PCA1=%{x}<br>PCA2=%{y}<br>Feature=%{customdata[0]}",
         "legendgroup": "Cluster=Cluster 4",
         "marker": {
          "color": "#FFA15A",
          "opacity": 0.5,
          "symbol": "circle"
         },
         "mode": "markers",
         "name": "Cluster=Cluster 4",
         "showlegend": true,
         "textposition": "top center",
         "type": "scatter",
         "x": [
          0.7675183797938782,
          -0.5697973874189014,
          -1.3279416607775996,
          -1.1923780443997993,
          -0.548757449529568,
          0.6928921220299753,
          0.13604747032960832,
          -0.19420848735229954,
          -0.9529399076444972,
          -0.1183674943138498,
          -0.6943335467566751,
          -1.06569405162722,
          -0.22808929466033095,
          -1.0599774321783697,
          -2.1825486126725515,
          -0.8661655877766864,
          0.38500332402563825,
          -0.8071525009889522,
          -0.7537762387279338,
          0.1939632968474627,
          0.7233998293445102,
          -0.22869351057706624,
          0.13760633389061044,
          -1.6730440730788474,
          -1.479950265498941,
          -0.516038533647174,
          -0.46445640159051105,
          1.0890984400802886,
          0.38263543151030793,
          -0.6847749232038033,
          -1.0892060733373314,
          -1.1715846561424919,
          0.40550881057365934,
          -0.9972104787929083,
          -1.0709715327256006,
          0.432142484992202,
          -1.8514753152547847,
          -1.8409840596077987,
          -0.24750123042018812,
          -2.1324668620038176,
          -0.7784872925650598,
          -0.39734777331709187,
          -2.438372811455619,
          -1.8584105296199305,
          -0.28529144028557596,
          -0.7750669584840052,
          -0.9814721052980668,
          -0.7729655321610595,
          -0.7219003969163208,
          -1.050257448638352,
          -0.49084227693530547,
          -2.624860318061068,
          0.08571134462164408,
          -0.7067076667090694,
          -2.5950818419811204,
          -1.536349969431881,
          -0.7235513281258817,
          0.43552094107103434,
          0.573224904088483,
          -0.13663224596016907,
          -0.44942674257330256,
          -1.093426726664136,
          1.7202582114224862,
          -1.3914376636061436,
          -1.7033457450216614,
          2.8261621486693094,
          -0.0502894670748653,
          -0.1036367661264705,
          -1.0802381667368495,
          -2.5860263053700376,
          -0.8963057201377109,
          -0.8688444616332653,
          -0.7742495403944691,
          0.5170222411534192,
          0.7492137886248432,
          0.8972772867097366,
          -0.6319958595564438,
          0.29329742890671456,
          -0.610593300956458,
          -1.0466866984612813,
          -0.7707617654943049,
          -0.25922667063406307,
          -1.2558808174568383,
          -1.0001258511138005,
          2.1020877976290855,
          -1.4799087254124095,
          -1.0951356811133015,
          -0.5753607421386335,
          1.6391814303792012,
          -1.036948199123216,
          -0.4621267406938741,
          0.005744483287646684,
          0.3698587265969763,
          -1.4047664392224821,
          0.16619040507767707,
          -0.35177225635339526,
          -1.058043406409384,
          -0.055697695138481364,
          -2.0848228219798135,
          -0.8052129944062515,
          -0.7125007360008264,
          -1.3291575146106458
         ],
         "xaxis": "x",
         "y": [
          -0.13367587250858998,
          -0.581086282434625,
          -0.7635218562797208,
          1.2160118630373424,
          0.01758181090379591,
          -0.23099014408179286,
          -0.24616679921265555,
          -1.7143606382135557,
          -0.47050787740148015,
          -0.015785497673416814,
          -1.3033943670726507,
          2.1048526517989035,
          -0.1743738985394654,
          -0.5485867199951012,
          0.38712436819078816,
          0.1020817848768789,
          -0.9999629280118026,
          0.13224919124805423,
          1.299753842195925,
          0.3283680757344082,
          0.7022978350837171,
          -0.13867922921965894,
          0.5756511242956955,
          0.7789880324970805,
          -0.6683100625446917,
          -0.7413930991359715,
          -0.13826067801086098,
          1.7200186573332943,
          1.192249622459654,
          -0.07682299433524176,
          0.528674226605016,
          -0.04927113105113922,
          0.014522704169883233,
          -0.03038893888323937,
          0.40542699388986575,
          -2.2359027462851953,
          1.4068996556917919,
          1.6760095084249333,
          0.7428570320886115,
          -0.35083907196422465,
          0.7702634844596041,
          2.9782227135373125,
          0.5062105091395761,
          0.9992304739936629,
          -1.388513799773792,
          0.15209531059124376,
          -0.14563722968217688,
          0.6934409453139946,
          1.3358673329594477,
          0.7106169737694411,
          -0.881190856736671,
          1.6572933768223226,
          -3.21202246372224,
          0.24750237949665033,
          -0.10699064314782875,
          0.9124335766291933,
          -0.13918770729845703,
          -0.8239859419442263,
          -0.14309505667741204,
          -1.454778567555632,
          -0.12659741460427415,
          2.893045501804426,
          -0.12015862045672247,
          1.0963214522667863,
          0.18577402560033926,
          0.5240870431117455,
          0.9704321328643873,
          0.28663539337828586,
          -0.38537998691183745,
          -0.5032949562951428,
          -0.053761868689190424,
          2.7717883136747963,
          0.7433682338190086,
          -0.4027445779287906,
          2.3139317522692644,
          0.49067238041363975,
          -0.3135654962421884,
          1.3841231201730166,
          -0.004561276552511203,
          -0.7609092750254111,
          -0.3508709606115078,
          -0.051867032561245516,
          0.7222336282881445,
          1.338860532955769,
          1.354987515450417,
          1.4277878742847105,
          -0.08739672824018152,
          0.033443824648086984,
          1.9332077344793333,
          0.2699430447632469,
          0.9297122467454738,
          2.209649498142497,
          0.3886485332226071,
          1.233191903563049,
          1.2785809054668855,
          0.44834724685469285,
          -0.2523842308718927,
          1.1789610102876773,
          0.2632671895404269,
          0.5099296549168336,
          1.7929880561448714,
          0.6523399578308492
         ],
         "yaxis": "y"
        }
       ],
       "layout": {
        "height": 600,
        "legend": {
         "tracegroupgap": 0
        },
        "margin": {
         "t": 60
        },
        "plot_bgcolor": "rgb(240,240,240)",
        "template": {
         "data": {
          "bar": [
           {
            "error_x": {
             "color": "#2a3f5f"
            },
            "error_y": {
             "color": "#2a3f5f"
            },
            "marker": {
             "line": {
              "color": "#E5ECF6",
              "width": 0.5
             }
            },
            "type": "bar"
           }
          ],
          "barpolar": [
           {
            "marker": {
             "line": {
              "color": "#E5ECF6",
              "width": 0.5
             }
            },
            "type": "barpolar"
           }
          ],
          "carpet": [
           {
            "aaxis": {
             "endlinecolor": "#2a3f5f",
             "gridcolor": "white",
             "linecolor": "white",
             "minorgridcolor": "white",
             "startlinecolor": "#2a3f5f"
            },
            "baxis": {
             "endlinecolor": "#2a3f5f",
             "gridcolor": "white",
             "linecolor": "white",
             "minorgridcolor": "white",
             "startlinecolor": "#2a3f5f"
            },
            "type": "carpet"
           }
          ],
          "choropleth": [
           {
            "colorbar": {
             "outlinewidth": 0,
             "ticks": ""
            },
            "type": "choropleth"
           }
          ],
          "contour": [
           {
            "colorbar": {
             "outlinewidth": 0,
             "ticks": ""
            },
            "colorscale": [
             [
              0,
              "#0d0887"
             ],
             [
              0.1111111111111111,
              "#46039f"
             ],
             [
              0.2222222222222222,
              "#7201a8"
             ],
             [
              0.3333333333333333,
              "#9c179e"
             ],
             [
              0.4444444444444444,
              "#bd3786"
             ],
             [
              0.5555555555555556,
              "#d8576b"
             ],
             [
              0.6666666666666666,
              "#ed7953"
             ],
             [
              0.7777777777777778,
              "#fb9f3a"
             ],
             [
              0.8888888888888888,
              "#fdca26"
             ],
             [
              1,
              "#f0f921"
             ]
            ],
            "type": "contour"
           }
          ],
          "contourcarpet": [
           {
            "colorbar": {
             "outlinewidth": 0,
             "ticks": ""
            },
            "type": "contourcarpet"
           }
          ],
          "heatmap": [
           {
            "colorbar": {
             "outlinewidth": 0,
             "ticks": ""
            },
            "colorscale": [
             [
              0,
              "#0d0887"
             ],
             [
              0.1111111111111111,
              "#46039f"
             ],
             [
              0.2222222222222222,
              "#7201a8"
             ],
             [
              0.3333333333333333,
              "#9c179e"
             ],
             [
              0.4444444444444444,
              "#bd3786"
             ],
             [
              0.5555555555555556,
              "#d8576b"
             ],
             [
              0.6666666666666666,
              "#ed7953"
             ],
             [
              0.7777777777777778,
              "#fb9f3a"
             ],
             [
              0.8888888888888888,
              "#fdca26"
             ],
             [
              1,
              "#f0f921"
             ]
            ],
            "type": "heatmap"
           }
          ],
          "heatmapgl": [
           {
            "colorbar": {
             "outlinewidth": 0,
             "ticks": ""
            },
            "colorscale": [
             [
              0,
              "#0d0887"
             ],
             [
              0.1111111111111111,
              "#46039f"
             ],
             [
              0.2222222222222222,
              "#7201a8"
             ],
             [
              0.3333333333333333,
              "#9c179e"
             ],
             [
              0.4444444444444444,
              "#bd3786"
             ],
             [
              0.5555555555555556,
              "#d8576b"
             ],
             [
              0.6666666666666666,
              "#ed7953"
             ],
             [
              0.7777777777777778,
              "#fb9f3a"
             ],
             [
              0.8888888888888888,
              "#fdca26"
             ],
             [
              1,
              "#f0f921"
             ]
            ],
            "type": "heatmapgl"
           }
          ],
          "histogram": [
           {
            "marker": {
             "colorbar": {
              "outlinewidth": 0,
              "ticks": ""
             }
            },
            "type": "histogram"
           }
          ],
          "histogram2d": [
           {
            "colorbar": {
             "outlinewidth": 0,
             "ticks": ""
            },
            "colorscale": [
             [
              0,
              "#0d0887"
             ],
             [
              0.1111111111111111,
              "#46039f"
             ],
             [
              0.2222222222222222,
              "#7201a8"
             ],
             [
              0.3333333333333333,
              "#9c179e"
             ],
             [
              0.4444444444444444,
              "#bd3786"
             ],
             [
              0.5555555555555556,
              "#d8576b"
             ],
             [
              0.6666666666666666,
              "#ed7953"
             ],
             [
              0.7777777777777778,
              "#fb9f3a"
             ],
             [
              0.8888888888888888,
              "#fdca26"
             ],
             [
              1,
              "#f0f921"
             ]
            ],
            "type": "histogram2d"
           }
          ],
          "histogram2dcontour": [
           {
            "colorbar": {
             "outlinewidth": 0,
             "ticks": ""
            },
            "colorscale": [
             [
              0,
              "#0d0887"
             ],
             [
              0.1111111111111111,
              "#46039f"
             ],
             [
              0.2222222222222222,
              "#7201a8"
             ],
             [
              0.3333333333333333,
              "#9c179e"
             ],
             [
              0.4444444444444444,
              "#bd3786"
             ],
             [
              0.5555555555555556,
              "#d8576b"
             ],
             [
              0.6666666666666666,
              "#ed7953"
             ],
             [
              0.7777777777777778,
              "#fb9f3a"
             ],
             [
              0.8888888888888888,
              "#fdca26"
             ],
             [
              1,
              "#f0f921"
             ]
            ],
            "type": "histogram2dcontour"
           }
          ],
          "mesh3d": [
           {
            "colorbar": {
             "outlinewidth": 0,
             "ticks": ""
            },
            "type": "mesh3d"
           }
          ],
          "parcoords": [
           {
            "line": {
             "colorbar": {
              "outlinewidth": 0,
              "ticks": ""
             }
            },
            "type": "parcoords"
           }
          ],
          "pie": [
           {
            "automargin": true,
            "type": "pie"
           }
          ],
          "scatter": [
           {
            "marker": {
             "colorbar": {
              "outlinewidth": 0,
              "ticks": ""
             }
            },
            "type": "scatter"
           }
          ],
          "scatter3d": [
           {
            "line": {
             "colorbar": {
              "outlinewidth": 0,
              "ticks": ""
             }
            },
            "marker": {
             "colorbar": {
              "outlinewidth": 0,
              "ticks": ""
             }
            },
            "type": "scatter3d"
           }
          ],
          "scattercarpet": [
           {
            "marker": {
             "colorbar": {
              "outlinewidth": 0,
              "ticks": ""
             }
            },
            "type": "scattercarpet"
           }
          ],
          "scattergeo": [
           {
            "marker": {
             "colorbar": {
              "outlinewidth": 0,
              "ticks": ""
             }
            },
            "type": "scattergeo"
           }
          ],
          "scattergl": [
           {
            "marker": {
             "colorbar": {
              "outlinewidth": 0,
              "ticks": ""
             }
            },
            "type": "scattergl"
           }
          ],
          "scattermapbox": [
           {
            "marker": {
             "colorbar": {
              "outlinewidth": 0,
              "ticks": ""
             }
            },
            "type": "scattermapbox"
           }
          ],
          "scatterpolar": [
           {
            "marker": {
             "colorbar": {
              "outlinewidth": 0,
              "ticks": ""
             }
            },
            "type": "scatterpolar"
           }
          ],
          "scatterpolargl": [
           {
            "marker": {
             "colorbar": {
              "outlinewidth": 0,
              "ticks": ""
             }
            },
            "type": "scatterpolargl"
           }
          ],
          "scatterternary": [
           {
            "marker": {
             "colorbar": {
              "outlinewidth": 0,
              "ticks": ""
             }
            },
            "type": "scatterternary"
           }
          ],
          "surface": [
           {
            "colorbar": {
             "outlinewidth": 0,
             "ticks": ""
            },
            "colorscale": [
             [
              0,
              "#0d0887"
             ],
             [
              0.1111111111111111,
              "#46039f"
             ],
             [
              0.2222222222222222,
              "#7201a8"
             ],
             [
              0.3333333333333333,
              "#9c179e"
             ],
             [
              0.4444444444444444,
              "#bd3786"
             ],
             [
              0.5555555555555556,
              "#d8576b"
             ],
             [
              0.6666666666666666,
              "#ed7953"
             ],
             [
              0.7777777777777778,
              "#fb9f3a"
             ],
             [
              0.8888888888888888,
              "#fdca26"
             ],
             [
              1,
              "#f0f921"
             ]
            ],
            "type": "surface"
           }
          ],
          "table": [
           {
            "cells": {
             "fill": {
              "color": "#EBF0F8"
             },
             "line": {
              "color": "white"
             }
            },
            "header": {
             "fill": {
              "color": "#C8D4E3"
             },
             "line": {
              "color": "white"
             }
            },
            "type": "table"
           }
          ]
         },
         "layout": {
          "annotationdefaults": {
           "arrowcolor": "#2a3f5f",
           "arrowhead": 0,
           "arrowwidth": 1
          },
          "coloraxis": {
           "colorbar": {
            "outlinewidth": 0,
            "ticks": ""
           }
          },
          "colorscale": {
           "diverging": [
            [
             0,
             "#8e0152"
            ],
            [
             0.1,
             "#c51b7d"
            ],
            [
             0.2,
             "#de77ae"
            ],
            [
             0.3,
             "#f1b6da"
            ],
            [
             0.4,
             "#fde0ef"
            ],
            [
             0.5,
             "#f7f7f7"
            ],
            [
             0.6,
             "#e6f5d0"
            ],
            [
             0.7,
             "#b8e186"
            ],
            [
             0.8,
             "#7fbc41"
            ],
            [
             0.9,
             "#4d9221"
            ],
            [
             1,
             "#276419"
            ]
           ],
           "sequential": [
            [
             0,
             "#0d0887"
            ],
            [
             0.1111111111111111,
             "#46039f"
            ],
            [
             0.2222222222222222,
             "#7201a8"
            ],
            [
             0.3333333333333333,
             "#9c179e"
            ],
            [
             0.4444444444444444,
             "#bd3786"
            ],
            [
             0.5555555555555556,
             "#d8576b"
            ],
            [
             0.6666666666666666,
             "#ed7953"
            ],
            [
             0.7777777777777778,
             "#fb9f3a"
            ],
            [
             0.8888888888888888,
             "#fdca26"
            ],
            [
             1,
             "#f0f921"
            ]
           ],
           "sequentialminus": [
            [
             0,
             "#0d0887"
            ],
            [
             0.1111111111111111,
             "#46039f"
            ],
            [
             0.2222222222222222,
             "#7201a8"
            ],
            [
             0.3333333333333333,
             "#9c179e"
            ],
            [
             0.4444444444444444,
             "#bd3786"
            ],
            [
             0.5555555555555556,
             "#d8576b"
            ],
            [
             0.6666666666666666,
             "#ed7953"
            ],
            [
             0.7777777777777778,
             "#fb9f3a"
            ],
            [
             0.8888888888888888,
             "#fdca26"
            ],
            [
             1,
             "#f0f921"
            ]
           ]
          },
          "colorway": [
           "#636efa",
           "#EF553B",
           "#00cc96",
           "#ab63fa",
           "#FFA15A",
           "#19d3f3",
           "#FF6692",
           "#B6E880",
           "#FF97FF",
           "#FECB52"
          ],
          "font": {
           "color": "#2a3f5f"
          },
          "geo": {
           "bgcolor": "white",
           "lakecolor": "white",
           "landcolor": "#E5ECF6",
           "showlakes": true,
           "showland": true,
           "subunitcolor": "white"
          },
          "hoverlabel": {
           "align": "left"
          },
          "hovermode": "closest",
          "mapbox": {
           "style": "light"
          },
          "paper_bgcolor": "white",
          "plot_bgcolor": "#E5ECF6",
          "polar": {
           "angularaxis": {
            "gridcolor": "white",
            "linecolor": "white",
            "ticks": ""
           },
           "bgcolor": "#E5ECF6",
           "radialaxis": {
            "gridcolor": "white",
            "linecolor": "white",
            "ticks": ""
           }
          },
          "scene": {
           "xaxis": {
            "backgroundcolor": "#E5ECF6",
            "gridcolor": "white",
            "gridwidth": 2,
            "linecolor": "white",
            "showbackground": true,
            "ticks": "",
            "zerolinecolor": "white"
           },
           "yaxis": {
            "backgroundcolor": "#E5ECF6",
            "gridcolor": "white",
            "gridwidth": 2,
            "linecolor": "white",
            "showbackground": true,
            "ticks": "",
            "zerolinecolor": "white"
           },
           "zaxis": {
            "backgroundcolor": "#E5ECF6",
            "gridcolor": "white",
            "gridwidth": 2,
            "linecolor": "white",
            "showbackground": true,
            "ticks": "",
            "zerolinecolor": "white"
           }
          },
          "shapedefaults": {
           "line": {
            "color": "#2a3f5f"
           }
          },
          "ternary": {
           "aaxis": {
            "gridcolor": "white",
            "linecolor": "white",
            "ticks": ""
           },
           "baxis": {
            "gridcolor": "white",
            "linecolor": "white",
            "ticks": ""
           },
           "bgcolor": "#E5ECF6",
           "caxis": {
            "gridcolor": "white",
            "linecolor": "white",
            "ticks": ""
           }
          },
          "title": {
           "x": 0.05
          },
          "xaxis": {
           "automargin": true,
           "gridcolor": "white",
           "linecolor": "white",
           "ticks": "",
           "title": {
            "standoff": 15
           },
           "zerolinecolor": "white",
           "zerolinewidth": 2
          },
          "yaxis": {
           "automargin": true,
           "gridcolor": "white",
           "linecolor": "white",
           "ticks": "",
           "title": {
            "standoff": 15
           },
           "zerolinecolor": "white",
           "zerolinewidth": 2
          }
         }
        },
        "title": {
         "text": "2D Cluster PCA Plot"
        },
        "xaxis": {
         "anchor": "y",
         "domain": [
          0,
          1
         ],
         "title": {
          "text": "PCA1"
         }
        },
        "yaxis": {
         "anchor": "x",
         "domain": [
          0,
          1
         ],
         "title": {
          "text": "PCA2"
         }
        }
       }
      },
      "text/html": "<div>\n        \n        \n            <div id=\"9c62188b-6b38-4897-bcac-c6d467da6890\" class=\"plotly-graph-div\" style=\"height:600px; width:100%;\"></div>\n            <script type=\"text/javascript\">\n                require([\"plotly\"], function(Plotly) {\n                    window.PLOTLYENV=window.PLOTLYENV || {};\n                    \n                if (document.getElementById(\"9c62188b-6b38-4897-bcac-c6d467da6890\")) {\n                    Plotly.newPlot(\n                        '9c62188b-6b38-4897-bcac-c6d467da6890',\n                        [{\"customdata\": [[0.1989134183137831], [1.499282428244103], [0.907832558569684], [0.46686643888181745], [0.4239484314482108], [0.46671881495853274], [0.23455074102356732], [-0.39264945021896924], [-0.23480085080594582], [0.14811306516563208], [0.7103473038598006], [1.4885028118854795], [-0.08789371894920797], [-2.0687894195685543], [-0.598544356771403], [-3.109365472873019], [-0.07294981183217795], [-0.37318725824800847], [-0.4116115127138318], [-0.2514725278179727], [1.6622955914928568], [-0.13262038241479274], [-0.7314556908269894], [0.41733956463540983], [-0.38572230444422373], [-0.11792365217465366], [1.2520265286639787], [0.3901478068997687], [0.4089763491531486], [0.9361424489999619], [-0.027671736496154186], [1.8924212266541172], [-3.0023871344453705], [1.1112970551743917], [2.2479587220183093], [0.3881643913390516], [-0.9080885995241701], [0.25646666007657465], [-0.22130742900300537], [-0.46980785130064423], [1.0950335301503475], [0.8340053467667256], [-0.1272644958364888], [0.0929212791032259], [-1.904341067955119], [-1.5609661151252097], [1.2460027810520693], [0.965863575429149], [-0.7814136321611825], [-0.12740179353045836], [-0.3799441285395706], [0.8660783009358252], [-0.2602601534015177], [0.17063393893226703], [0.11518091265054212], [0.8545933038413556], [-0.24022235322821273], [-0.29077873518208397], [0.609011036160001], [0.354160707884782], [-1.5682784296394523], [-2.5927638698814772], [0.6858891207746206], [-0.6414564595378839], [0.3863670270346669], [-0.2806805025658953], [0.3167427057653993], [-3.231179245538577], [-0.43336076658212824], [-0.6138832490257837], [0.2617243480014088], [-1.1521981547707385], [-0.8506660044740565], [-1.963825691183579], [0.8394352648515033], [0.6893371457636785], [-0.10713017099900425], [-0.40698487711032855], [-0.3075706029232516], [-1.6552406364453478], [1.0994438469142247], [0.4827631619225742], [0.06137817171823405], [0.7664954248986279], [0.45735182250660056], [-0.4209827108767675], [-2.5170240073457384], [0.4238166839146955], [0.6943366827221684], [-0.5978261484527609], [0.8486371718258235], [-0.332664167913485], [-0.5353436085906226], [-0.5490603491060876], [-2.7365703687811807], [0.6398429209838484]], \"hoverlabel\": {\"namelength\": 0}, \"hovertemplate\": \"Cluster=Cluster 0<br>PCA1=%{x}<br>PCA2=%{y}<br>Feature=%{customdata[0]}\", \"legendgroup\": \"Cluster=Cluster 0\", \"marker\": {\"color\": \"#636efa\", \"opacity\": 0.5, \"symbol\": \"circle\"}, \"mode\": \"markers\", \"name\": \"Cluster=Cluster 0\", \"showlegend\": true, \"textposition\": \"top center\", \"type\": \"scatter\", \"x\": [1.0986094724844764, -0.8066405596971773, 0.1393732810969088, 1.5868745919270448, 0.10550785332108481, 0.09859321710492287, -0.6055838118610107, -0.4927002054261846, 0.2876984011782379, 0.05284319960829724, 1.6141354187286354, 0.518508317858927, -0.49605172922789237, -0.31672700415177724, -0.26587012906660523, 0.5848693532728191, 2.4769741575093542, 1.9621099624150264, 0.026135179381933455, 1.4268663095303638, 0.44301956779266954, 0.7339697339700949, 0.3329313478423632, 0.508572249173355, -0.9241421945592335, -1.0946833767833024, 0.4491067884134043, 1.2469650924410915, 0.7936400268001635, 0.18727553119096757, 1.4565400604933547, -1.1718267426680915, -0.4618599184559757, 0.9325328525413816, 2.0491494054574426, 1.4473606303244222, 0.7500968174452373, 1.23617672558942, -0.06279543199503267, 0.8965200772916266, -1.1907118562807495, -0.2669555289865943, 0.15057934273453136, 0.32407499923085603, 0.7802438360422937, -0.5911766267765065, 0.4620576218748336, 0.5871684448889906, 1.7919383070364865, -0.3693475862842808, 0.4038764058442893, 0.7490021558700761, -0.19460918922553092, -0.12268755747999954, 1.918799583623356, 1.03984579282735, 1.4041310297392984, -0.49222019155018126, 0.9316825837510911, -0.03180653744098271, 0.07957188381481588, 0.6097896467809981, 1.3345899863180974, -0.7352926558245542, 2.4827434943630466, -0.1551427274083238, 1.070653260761906, 1.002954843450691, 2.3291183977794394, -0.2231634086110032, -0.30226413903606436, 0.3327810137137555, -0.3768558055415833, 1.5822273787340193, 0.22340507848909913, -0.14463826776060124, 1.0249691210668024, 3.2001071909679286, 0.356770466426038, 1.6340637606100945, 0.07329528705620574, 0.6877541642175756, 1.1620473347011024, 0.7094679961460251, 1.5010380091913562, 1.659512489038485, 0.028202322922678394, 0.4870978792005715, 0.6359115333476875, -0.309036141843382, -0.2718876417573866, 1.5446140519150366, 1.466497443081504, 1.7753300818851137, -0.3835701962920387, -0.2956332220319792], \"xaxis\": \"x\", \"y\": [0.7139209810413468, 1.4018020713506576, 0.6765497090046055, 0.7707273985588977, -0.8993543441206644, -0.8075950953906563, 0.8165370763626651, -0.4632842616847678, -0.8495858537164754, -1.2891500723322076, 0.763960828376291, 0.3765692642838074, 0.14733322675364624, -2.361175399548761, -1.0039533440188364, -0.4074353619081632, -0.16324906078239457, -0.21415147398792436, 0.6050170451581205, -1.7091377735886721, 0.0318543631295014, -0.2829322156823588, -0.48260052045481744, 0.029807635179175705, 0.5997278975330103, 0.8204227614072402, 0.16430807014308343, -0.1967801201469523, 0.5080688636314148, 0.33684591609855247, 0.00999353466808683, -0.6827876101165582, -2.2260757288326887, -0.8189514225109823, -0.496214822612737, 1.0396827862799578, -0.1757662661162677, 1.3639649232507458, 0.0676392170303823, 0.09611206095626462, 0.18782500641774205, 0.8715834534260012, 0.6492163072516683, -0.10287279359164458, 0.3940499665468699, -0.4526560474834518, -0.7798194744466285, -0.13769670377189996, -1.5184329514386519, 0.02629545497347427, -0.33017100776516395, 0.10779692014758165, -0.1786454805455902, -2.915388832445672, 0.5097767576082136, -0.6881753698206833, -0.9444727006856659, 0.5375829736559433, 1.396981945302291, -1.9207726781822372, -0.4307031966889602, -1.2615653224594723, -0.18409921695825, -0.21243917171847168, 1.239759666746132, -0.2463344697754062, -2.051909567223328, 0.05829960128971434, 0.2507265759836802, -0.31510499095634376, -0.6778611142763448, -0.7273078355409044, 0.33852539906364537, -0.1281959833670191, -0.8693613695757336, 0.4353960600719597, -0.5140506340198975, 0.036437047102851186, 0.1875255101718503, 2.4392544841782233, 0.5330121334571756, 0.7610755723656392, -1.9827564428259812, 0.5871106427520714, 0.5838432295095574, 0.7727457466050478, -0.09076751919065913, -0.18232130174934086, 0.20496448446046917, 0.1871184534615344, 1.9847961326269379, -0.6057679620304013, -0.23826070464521001, -0.4689871519771716, 1.6365342866400123, -0.3750909364113489], \"yaxis\": \"y\"}, {\"customdata\": [[0.8276564211952814], [0.25917577216832843], [0.5187125731859836], [-0.3359511924691319], [0.14463095188661626], [-0.42202867006368855], [-0.7824811092346083], [-2.4183893929742464], [0.8731205237021274], [0.6169197935943666], [1.8686165994699688], [0.945452136209644], [-0.6382228039593283], [1.821566915425819], [-1.887168722125577], [-3.21466533471976], [0.7137221628179744], [-0.7134544640629344], [0.18365652881200134], [0.8704856973971593], [-0.7182812508549592], [0.5391930579937024], [1.2692754833123943], [-1.7971060664041858], [0.29285148403732164], [-0.32298021768695345], [-0.07854399841505319], [-1.8299179737801732], [1.9439350337718337], [-0.48301744890796194], [0.604662885999015], [-0.9058639731531113], [-0.5476139297115261], [-0.4893826350906889], [-0.262433691224295], [-0.3007511069573523], [0.025919129858958098], [1.2416785043018859], [0.5296267526182864], [0.17736513823993066], [0.7869298441146823], [-0.16970360153816752], [-1.3633930941426182], [0.3145502519911013], [0.2740250433941952], [-0.03781833808561641], [-0.4683179965713819], [0.00023933919760027843], [-0.6846073111377906], [0.5737744993950356], [0.032755208960812666], [-0.25336748445886575], [0.2525163162731246], [0.43012969535279466], [-0.42421472123254905], [0.5482590629683834], [-0.03935627603091615], [-0.6283927624093816], [1.5708884947237358], [0.22956214172024322], [-0.048081046769168925], [0.017295094630673132], [0.5182203534234814], [-2.674948610830452], [-0.32218355546051836], [1.3165313232948581], [-1.6279693351287312], [-0.3963796225616083], [-0.5758916728920682], [0.4823438752846045], [1.944210330540385], [0.05776783139928011], [-0.09701999876634751], [1.4314826662261222], [0.31632409095399605], [-0.2693510473615264], [0.2269381518110111], [-0.2636983371688864], [0.5901772743319594], [-0.8668268570333555], [1.8570922392031628], [-0.5636398752667817], [0.9930471850836778], [0.29425748526835527], [0.6052381727663134], [0.8385924710611696], [0.3084147768813575], [-0.36034944163342286], [0.6412381036688372], [0.4769279356653913], [-0.6725768689662224], [-1.195524685907561], [0.5267778471472767], [-0.6816003767162608], [0.7026572344869855], [-3.043346023802656], [-0.5008493130696107], [0.838115819108892], [-0.8528300900792961], [-0.2810317368375153]], \"hoverlabel\": {\"namelength\": 0}, \"hovertemplate\": \"Cluster=Cluster 1<br>PCA1=%{x}<br>PCA2=%{y}<br>Feature=%{customdata[0]}\", \"legendgroup\": \"Cluster=Cluster 1\", \"marker\": {\"color\": \"#EF553B\", \"opacity\": 0.5, \"symbol\": \"circle\"}, \"mode\": \"markers\", \"name\": \"Cluster=Cluster 1\", \"showlegend\": true, \"textposition\": \"top center\", \"type\": \"scatter\", \"x\": [0.011857998446392076, -1.0024268758518997, -0.4446521633567441, 0.7829374103604838, 1.4225134576039844, -0.3052224160635604, -0.8678816438554581, 0.6785978605721512, 0.7882709969181858, -0.6307161456345777, 0.7837970505970652, 0.03050344443893839, 0.8634296855164852, -0.7583333452364995, -2.0605061417997863, 0.33845682962459, 0.12747061506385535, -1.5352376561732937, 0.4903273861481908, 0.10890102580265419, 0.10339528864732189, -0.280343768205047, -0.09772154326595814, 2.7345322209178025, -1.072027894134912, -0.5483027666220588, 2.5976407677772375, 0.6605609303308138, -0.12564305102009388, 1.299572230524352, 0.031096341564899304, -1.0193540410688993, 0.7614247756903461, -0.7974631194438921, 0.7991331067756112, 0.10232638197763541, 0.7351626524251998, 0.36141536990849166, -0.2827321740399949, -0.3640001547060794, 0.998818507923983, -0.6064452957209486, 0.7423715936001298, 0.7581793136892915, 0.8644802311238335, -0.0933844559935547, 0.2960850026994643, 0.2947576014759238, 1.1559421534528218, 0.380935608164267, -1.458744519913682, 0.5150475890742546, 0.08542084412827897, 0.3725708430350862, -0.6215043905211902, -0.5527715547483137, 1.1698909778140623, 0.12530772218673092, -1.3533921236282356, 0.17567227972230567, -0.40517439599093064, 0.06740954539500496, -1.1242347316475845, 1.4030320902184619, -0.3670202816199016, -0.2635587854524459, -0.38931798190371303, -0.8248738863312134, 0.12472963251637156, -1.865269592147554, -0.9492923906974756, -0.7694964223995924, -0.177311539208802, -0.24134928526715038, 0.5918258087998081, -1.114622267674047, -0.8127771779788903, -0.6608683919120553, -0.056787126801901844, 0.14442481239764393, 1.0489810678352196, -0.4051118339140487, 0.43477916624281765, -0.007572099680050354, -2.9409597635563833, -0.40482527601893725, -0.8346835922950138, -0.28216559366127586, -0.37277210283563694, -1.3221701466132472, -0.06428177245320293, -2.0058852088184898, -0.8248967451658822, 2.008339142905101, -0.3645130541968386, -1.3228040992689238, -1.2619773037966193, -0.7164053056616148, -1.5750908595656525, 1.1131467707433989], \"xaxis\": \"x\", \"y\": [0.31022080359314985, 0.2660501491054787, -1.8131383851920064, -0.8530527641128869, 0.6852390442429956, 0.1456750647876432, 2.570665578776038, 0.7291012221039621, -1.5009894531561359, -1.8671946587657078, 0.08489015385329814, -1.1220273029132575, -0.7427161118446515, -0.2679509968842984, 0.211704762959934, 0.7468491864718498, -0.3325383035204539, 1.1690523094384866, -0.8254906615283487, 1.6293036141305501, 0.5710619473361137, -0.8528062985258332, -0.5924098879045895, 0.871477078191176, -1.913020693929154, -1.7251990028206785, 0.2654228536589662, 0.5012362376558407, -0.5711969244492161, 1.0370844518975169, -0.316742248344055, 1.1465502560334937, -1.665130811216099, 1.3948574465678842, 0.05731918269730474, -1.153908625935662, -0.9755293791121712, -0.45285715493236955, -0.11176828413599298, -1.1269735386382003, 0.12181125120625502, -1.1050652382541502, -0.6480951283835156, -0.4613954950011924, -1.4201676678548747, 2.7136700817611703, -0.6035449091519346, -0.4353074864312425, -0.7209029118407292, 0.04134556880659804, 0.3001145463327668, 0.9442822925295709, 1.7857594053939605, 0.13295099282604567, -1.6677366064399057, 0.6609032344605957, 0.8440921449999496, -1.0616771794608424, 0.5239618404655371, -0.070143581534583, -0.8986391344231336, 0.1596948047391414, 0.4842183999921563, 0.663542293212589, -0.13263025953217664, -0.1932650849466092, -1.6017720979246333, 1.9396890942296388, -0.04875214183785954, 0.5311449425384857, -0.7161099987212933, 0.4824834904895074, 0.6097870371075792, -0.7331239760030902, -1.964545149446956, 0.4127425259583226, -0.45461803268149487, -1.0302082623386402, -0.1698800182573548, 1.120933569092509, 0.24563398510671705, -1.6270053675819234, 1.043915892485898, -0.9273520317799394, -1.27971818118728, 1.413460576873209, 2.706686886986412, -0.8515527472258224, 1.517414253393618, -0.3157917442962085, -1.7451582242273334, -0.513388340520668, 0.540216488502116, 0.5226565844477971, -1.1152816607540879, -0.39690609660487153, -1.7253283704118731, -0.38694695781262134, 0.5941994355196515, 2.2058275711146296], \"yaxis\": \"y\"}, {\"customdata\": [[-1.2085894284862233], [-0.787268267344896], [-0.5978904858569547], [-1.0465076469117656], [0.04387599150560691], [0.7465139005628937], [0.33457700377103244], [-0.34610269131931487], [0.49810304412102857], [-0.5277765940078609], [0.944215275896814], [-0.3645288218948704], [0.7977876847003516], [0.868379416069504], [0.06329533338239843], [-0.3086577228625308], [0.9056622213252288], [-0.8993142074745001], [0.06883274416452194], [0.4390652085043079], [0.5245985161825586], [0.811482938517783], [0.8200539188128965], [-0.042278688408772615], [0.2932366753774251], [1.1919913602090122], [0.614473328947585], [-0.622092837998272], [0.251966017704842], [-1.2250741838275714], [-1.3867184279963425], [-1.1939494076852135], [0.34440717550854066], [-2.3200134042849596], [0.37367118049966896], [0.7043027857275385], [0.8079456862949277], [-0.003869316309322331], [-0.7000646278087902], [-1.007780917763298], [-0.11933369753518579], [-0.40101191454074125], [0.3661056930950817], [-0.7782321862800349], [2.3536329102087032], [0.7765389064568803], [-0.7439244393649985], [-1.1548255771439946], [0.7140172115400907], [1.8188309527999473], [-0.8160659999297561], [-0.6706338665850256], [0.15373884152948897], [0.393388122488478], [0.2808553856322902], [-0.5895056165253256], [1.133134271672507], [0.7125538741261358], [-1.3508050742045108], [-0.8627661133946559], [-0.3487013431335691], [0.12077766320164739], [-0.012854037652468196], [0.09732761652798114], [1.2842351802647272], [2.1869835768431867], [-0.06448005659096391], [0.014148712622890101], [-0.26401570586409], [-0.11079260605814012], [0.023040883845019445], [-0.5523695083557453], [0.5695197057912557], [1.5950488540959273], [1.8243122905637132], [-0.7059293516575184], [0.03709733592796404], [-0.055660131715914996], [-0.4272858983457901], [0.05472702139422777], [0.9782545422705501], [0.4053133273315772], [1.580073372925783], [-0.4202443282721627]], \"hoverlabel\": {\"namelength\": 0}, \"hovertemplate\": \"Cluster=Cluster 2<br>PCA1=%{x}<br>PCA2=%{y}<br>Feature=%{customdata[0]}\", \"legendgroup\": \"Cluster=Cluster 2\", \"marker\": {\"color\": \"#00cc96\", \"opacity\": 0.5, \"symbol\": \"circle\"}, \"mode\": \"markers\", \"name\": \"Cluster=Cluster 2\", \"showlegend\": true, \"textposition\": \"top center\", \"type\": \"scatter\", \"x\": [-0.35769347056856643, 1.4586485240497826, -0.7858387326189309, 0.28825468850513686, -0.8487122004294275, 0.8634134521021801, 1.3522856946086987, 0.45365144518718076, -0.05286874673512413, 1.7707024001450467, -0.5565231781953267, 0.712804709544863, 1.6521088453919086, -1.8362906253531779, -0.869848300296958, -0.09016870078170675, -0.1649463760462995, -0.04979494394521977, 0.5958978785711542, 0.949552137930881, -0.7338360681119523, 0.47279634944310567, -0.49507196574314355, -0.090491112927888, 0.6576092950817296, 1.1047002112438062, 0.7007614704788299, 0.6579394593935258, 1.4147193374653297, 0.25168798233952305, 1.226856181904313, 0.7562358351406222, -0.6578699829981032, 0.030963002308433605, 0.24251493229473395, -0.32888951350046686, 2.1794632904426487, 0.8209129617725128, 0.6910395040728154, 0.7548382666838784, -0.29267877945527804, 0.37312153081780997, 0.019549902520786075, 0.3783011486616978, -0.6151974120032744, 0.6085640704755054, -1.2191919524575638, 0.378177563055654, 1.252581906046787, 1.446831424409586, 1.8407091288614585, 0.9914882842411256, 0.09254694553894972, -0.33179398875604915, -0.5705840769202027, 0.35119987573222494, -1.138490259522369, 0.3474756871243091, -0.11193335697256312, 0.8312060911252845, -0.5356861349154768, -0.9650906297651342, -0.02335316789636325, 0.4538602749333258, 1.393827608206202, 0.3238487381201743, 0.5704446038252355, -0.32364124201856537, -1.2040228296410826, 2.6496489249529174, -0.10879476472900147, -1.2054779378101799, -0.8557011819564482, 0.21057617903053316, -1.730662119015797, 0.18102742984657555, -1.5614912081062995, -0.09266001176533407, 0.35065170273705915, 0.8541468662709237, 2.218161809247982, -0.533784858195845, -0.44964220616950396, -0.774343061734097], \"xaxis\": \"x\", \"y\": [-1.0150081749936546, 1.4201105718775942, -1.3187778983927487, -1.6306128135195703, 1.0033604809986558, -0.7271473709799111, 0.8238261168906844, -1.6672520225086516, -0.5051060936593703, -0.9849036764773453, -0.6478179656950201, -1.4679617537560605, 0.3061128505699084, -1.0169251605351162, -1.997894877849794, -0.28718428072702185, -0.8852524059752241, 1.1450036644683887, -0.2519078469335087, -1.2640935885497697, 0.08470973224341152, -0.6971095616617072, 0.4008294884840823, -1.6378391404153174, 0.23133767208752676, 0.33032868892065753, -1.6868855019192148, 0.6149940724001232, 0.8433194879605488, -0.5520814819737745, 0.20662795266283104, 0.025379563364853936, 0.6358656722109546, -0.6272910006063775, -0.662495030568217, -0.4745560386752213, 0.2274591114693098, 0.365990134331348, -1.8244251345803137, 1.6297810985242587, 1.4714932101701015, -0.8262076849032721, -0.050646848375798255, -1.3971037531558352, -0.71818542065913, 0.01948158566250459, -2.4070273876029575, 0.21396072048566805, 0.7728754732851499, -0.55299497564432, 0.4315664987683624, -0.07970330327931252, -0.05847207253089864, 0.46068562244623956, -0.011897744567935253, -0.998531397491923, -0.3963477920591551, -0.7449728347992484, -0.2001781076811791, -0.3849285591944202, -1.961393991719681, 1.0535928154232208, 1.6553085084893335, -1.7807462758855386, 0.23264400054650752, -0.7375581828775511, 0.05480016491755347, -1.0857667661683654, -0.20338329074436817, -0.033142525523993806, -0.4646085763492062, 0.061528708550375386, -1.149983625534971, 0.16884716089606833, 0.03871282491371798, 0.7919499394018382, -0.3158854682521322, -1.8704070365370054, 1.2622439495613784, -0.1176659715986429, 0.5588877089570938, -0.5190531877930857, -0.9755736532978578, 3.2744491032891223], \"yaxis\": \"y\"}, {\"customdata\": [[-0.3183739305714041], [-0.02951435725061857], [-0.22191862965758372], [-2.235861565723412], [-1.5911926678032882], [0.35920932066447514], [-0.2604304715592651], [-0.39738424087428775], [0.7638281531594131], [0.6428067522688516], [0.39896952918332296], [0.8650069509641418], [1.6333608862973565], [0.00015027103550535394], [1.3254536682861555], [2.2139048673135964], [-0.21632070789309804], [0.7691827055931926], [-0.4060594714087398], [-0.4687110798620175], [-0.02137308479845754], [1.2132379725609268], [-1.3690845756925667], [0.8488562248647475], [-0.5140487536632548], [-2.1902547364729394], [-0.7756348269985375], [1.477222792145142], [0.49684496093779346], [0.858844682345955], [-0.8368465945939817], [0.08216828915781445], [0.12367073362945577], [-0.09491408454121461], [0.9127656374024679], [-0.48716719143390036], [-1.0037635387337944], [-1.1334660501744978], [1.3113455524009607], [-2.0431617073565165], [-2.407956282126115], [0.09840375637007907], [-0.8775266399448775], [0.9226842381530027], [1.0468231701686934], [0.8838837315950453], [0.9158302465209844], [0.9616265956686997], [1.7651620453566903], [0.49125269471122934], [-0.6660300690082319], [-1.8095176053459652], [-0.16752440081500458], [0.020542390728363037], [-0.12799861198446547], [-1.100875641290957], [0.7081951569973867], [-0.06660278246086236], [-1.4845647678833551], [1.8055736908620008], [1.0501519347428572], [-0.4089909222972139], [0.30446421800052087], [0.0469115766744625], [-1.9272950294252], [-1.334972416269784], [-0.09014299424966193], [-1.9082363980715926], [0.25302496414116477], [1.1933179607264173], [0.36209001495184834], [-1.0598600509183926], [0.14356211484303152], [0.4540111737335666], [1.2879594474539928], [0.46309979686785563]], \"hoverlabel\": {\"namelength\": 0}, \"hovertemplate\": \"Cluster=Cluster 3<br>PCA1=%{x}<br>PCA2=%{y}<br>Feature=%{customdata[0]}\", \"legendgroup\": \"Cluster=Cluster 3\", \"marker\": {\"color\": \"#ab63fa\", \"opacity\": 0.5, \"symbol\": \"circle\"}, \"mode\": \"markers\", \"name\": \"Cluster=Cluster 3\", \"showlegend\": true, \"textposition\": \"top center\", \"type\": \"scatter\", \"x\": [-0.40638513482901195, 0.9824058100733057, 0.8604831541525342, -0.9855599320289746, 0.3491430047312187, -2.1144482206736286, -2.0472820127121722, -0.4491537025761728, -0.9953248549511785, -0.5177199880921746, 0.21409658376567176, -0.3749198520227818, -0.8796095950503053, -0.24832645846113366, 0.4745194893060533, -0.7152359292300647, -0.43156154535055913, 1.481916496449666, -0.10951025047941551, 0.5737093608673823, 0.4356642290688088, -1.2990958288436947, -0.41795353872816565, -1.7143560066336492, -0.1654858640870782, 0.4082768819054118, -0.21074947611808942, 0.5081206039759631, 0.19277875373248565, 1.230494892001427, 0.4044558438410929, 1.4905651588157156, -0.39323915277786525, 3.3605641305491214, 1.0058265933494752, -0.5089886462463464, -0.2454423924655873, 0.7517769838081249, 1.0083032552163387, -0.10447846032718043, -0.5499028036513789, 0.4665821454469834, 1.5710438610889883, -1.0311564859355091, 0.19476005185233403, 1.1314134685793613, -0.06117173082026518, -0.033283797082747785, 0.8144917843391433, -1.004822964709788, 0.17222683110637385, 0.4933363697167543, 0.5449005449652138, 0.6557391212019501, -0.731055628420144, -0.3516669666142751, 0.1816725315786967, -0.049143611008483495, -0.34852420924108374, 2.039054396465452, -1.1873714051430997, -0.39650307502298815, -0.10772840842313751, 0.38697585381980937, -0.6595779021567632, 0.15909513892526855, 0.5891754540713334, -0.5784847350280792, -0.6629747227091939, -0.2942413987937004, 0.1693370072512276, 0.7226461062289319, -0.27768093900277124, -0.5675260054041276, -1.3330163458223598, -1.6022489946297458], \"xaxis\": \"x\", \"y\": [-0.8210742290593892, 1.09412072291537, -0.14842603995201858, -0.882016020680539, 0.05256035647634644, 1.095388172748458, -0.39670207108734046, 0.6176044443331403, 0.8739562598577426, 0.46090827275297513, -1.3277995980664297, -0.8126951622694624, 0.25491099126567796, 0.0960408472638299, -0.39856005131501404, -1.1830476168111799, 1.7196944582711482, -0.6009563737321271, -1.0280314156736594, -2.521053308840779, 0.012871055505920841, -1.1520927558849305, -0.48154531332037387, -0.9411247089854147, -0.2047292710652281, 1.0588884485960182, 0.3785311461634416, 1.184875272956224, 0.05090040398095691, -0.3829235078063296, -1.2826818164318543, -0.6997389810681598, -0.844333580799981, 1.6779351569251506, 0.5740709021312078, 0.349861946065444, 1.480733828228838, -0.22841861112351203, 0.43002577830107974, 0.6011273610686252, 0.07790578311720014, 2.154647736640427, 0.2660201307793045, 0.7079073226628916, -0.5640636383137577, -0.5224287535839681, 1.0522204167070257, 0.11041237096078706, 0.4220178507752934, -0.6801461039800024, -0.5725687779018183, -0.31574757339446824, 0.9147369225367163, 1.2631397077203654, 0.7924710474143674, 0.9387687162896278, -0.7792872672255866, 0.056065878486487336, 0.6762576131305214, 0.8632580590309332, -0.13224057676708326, -0.8364745946880376, 0.18419595808688188, -0.753274641454537, -1.724371581634529, 0.8455577098550667, 0.12104670775369435, -0.1460055744771857, 0.22231197189545718, 0.6363577650057975, 1.5974017813583272, -0.13301066355209779, 0.2716058861040287, -1.0331322505600866, -0.13775564163169032, -0.1650631550806596], \"yaxis\": \"y\"}, {\"customdata\": [[-0.48258260781601015], [1.2909402333451496], [1.0641877986770605], [-1.1766548863536543], [0.6810141514462386], [-0.5266510855919599], [0.19277785205233786], [1.551165027669614], [1.113066435197687], [0.6642775470817232], [-0.9742162391098712], [0.40275086405971633], [0.110131346804343], [-0.17262661233587667], [0.8417188215173792], [0.8994386252581879], [0.7737271942850237], [0.40756961279624737], [0.24546602046424104], [0.660785846042529], [-1.4765029771812894], [-0.11834427913742655], [-1.7632169013922596], [0.2672390998838073], [0.9245462063053427], [-2.487104658348425], [-1.4554339087196575], [1.6921815664216397], [-0.6532937400685961], [1.0459294462426119], [1.201840326745573], [-0.5354837757924581], [1.1421153687303227], [0.7950659473081623], [-1.3721685354739521], [-0.10421369568347413], [0.33864613069153904], [0.8273985604734009], [1.0071563395687517], [-0.0411915353374651], [-0.8647446090593885], [-0.8690884735546218], [0.7240588926308258], [-0.9284694725910727], [0.14740668903948737], [-0.8474577303684014], [-1.4123324553836345], [2.4625203841151624], [-0.14937778845038718], [0.20419320120479756], [1.1726767405065404], [-0.8816572376793979], [-0.6557456536409654], [-0.15654648616374012], [-0.31173857172826525], [-0.8231108890751612], [-1.575632055650651], [1.7075679346092356], [-1.7519742721831733], [-0.5096434925066761], [-0.6712672124269975], [0.2393649479682817], [1.4450707862370662], [-1.941438898903822], [-0.024611053000678926], [0.09701649950217787], [-0.48513854881369], [1.4688223207242939], [1.4247167508481298], [-0.8021185729847669], [-0.08032090074204866], [-0.2321477438097011], [-0.27197806408066305], [-0.2411314829462155], [0.38893866625833196], [-1.0274283815705847], [0.6638480293509069], [1.3707593741744164], [-0.019400575977385873], [0.22050045269398286], [-2.2159881581339116], [-0.18351771988596266], [-1.498654768888127], [0.6729883819109564], [-1.3200349468167263], [-0.006139295287077606], [-0.20238956716057482], [-0.3195067839056818], [1.7052010705046636], [1.1011767095623077], [1.0789682760191865], [1.3309721677564552], [0.3131403931391467], [1.3605283622148143], [-1.2513343851667584], [0.1870868097824259], [-1.3588504589974069], [-0.4063465171978302], [0.3942392046060162], [0.31170260897040936], [-0.48419007081846394], [1.2943683880327943]], \"hoverlabel\": {\"namelength\": 0}, \"hovertemplate\": \"Cluster=Cluster 4<br>PCA1=%{x}<br>PCA2=%{y}<br>Feature=%{customdata[0]}\", \"legendgroup\": \"Cluster=Cluster 4\", \"marker\": {\"color\": \"#FFA15A\", \"opacity\": 0.5, \"symbol\": \"circle\"}, \"mode\": \"markers\", \"name\": \"Cluster=Cluster 4\", \"showlegend\": true, \"textposition\": \"top center\", \"type\": \"scatter\", \"x\": [0.7675183797938782, -0.5697973874189014, -1.3279416607775996, -1.1923780443997993, -0.548757449529568, 0.6928921220299753, 0.13604747032960832, -0.19420848735229954, -0.9529399076444972, -0.1183674943138498, -0.6943335467566751, -1.06569405162722, -0.22808929466033095, -1.0599774321783697, -2.1825486126725515, -0.8661655877766864, 0.38500332402563825, -0.8071525009889522, -0.7537762387279338, 0.1939632968474627, 0.7233998293445102, -0.22869351057706624, 0.13760633389061044, -1.6730440730788474, -1.479950265498941, -0.516038533647174, -0.46445640159051105, 1.0890984400802886, 0.38263543151030793, -0.6847749232038033, -1.0892060733373314, -1.1715846561424919, 0.40550881057365934, -0.9972104787929083, -1.0709715327256006, 0.432142484992202, -1.8514753152547847, -1.8409840596077987, -0.24750123042018812, -2.1324668620038176, -0.7784872925650598, -0.39734777331709187, -2.438372811455619, -1.8584105296199305, -0.28529144028557596, -0.7750669584840052, -0.9814721052980668, -0.7729655321610595, -0.7219003969163208, -1.050257448638352, -0.49084227693530547, -2.624860318061068, 0.08571134462164408, -0.7067076667090694, -2.5950818419811204, -1.536349969431881, -0.7235513281258817, 0.43552094107103434, 0.573224904088483, -0.13663224596016907, -0.44942674257330256, -1.093426726664136, 1.7202582114224862, -1.3914376636061436, -1.7033457450216614, 2.8261621486693094, -0.0502894670748653, -0.1036367661264705, -1.0802381667368495, -2.5860263053700376, -0.8963057201377109, -0.8688444616332653, -0.7742495403944691, 0.5170222411534192, 0.7492137886248432, 0.8972772867097366, -0.6319958595564438, 0.29329742890671456, -0.610593300956458, -1.0466866984612813, -0.7707617654943049, -0.25922667063406307, -1.2558808174568383, -1.0001258511138005, 2.1020877976290855, -1.4799087254124095, -1.0951356811133015, -0.5753607421386335, 1.6391814303792012, -1.036948199123216, -0.4621267406938741, 0.005744483287646684, 0.3698587265969763, -1.4047664392224821, 0.16619040507767707, -0.35177225635339526, -1.058043406409384, -0.055697695138481364, -2.0848228219798135, -0.8052129944062515, -0.7125007360008264, -1.3291575146106458], \"xaxis\": \"x\", \"y\": [-0.13367587250858998, -0.581086282434625, -0.7635218562797208, 1.2160118630373424, 0.01758181090379591, -0.23099014408179286, -0.24616679921265555, -1.7143606382135557, -0.47050787740148015, -0.015785497673416814, -1.3033943670726507, 2.1048526517989035, -0.1743738985394654, -0.5485867199951012, 0.38712436819078816, 0.1020817848768789, -0.9999629280118026, 0.13224919124805423, 1.299753842195925, 0.3283680757344082, 0.7022978350837171, -0.13867922921965894, 0.5756511242956955, 0.7789880324970805, -0.6683100625446917, -0.7413930991359715, -0.13826067801086098, 1.7200186573332943, 1.192249622459654, -0.07682299433524176, 0.528674226605016, -0.04927113105113922, 0.014522704169883233, -0.03038893888323937, 0.40542699388986575, -2.2359027462851953, 1.4068996556917919, 1.6760095084249333, 0.7428570320886115, -0.35083907196422465, 0.7702634844596041, 2.9782227135373125, 0.5062105091395761, 0.9992304739936629, -1.388513799773792, 0.15209531059124376, -0.14563722968217688, 0.6934409453139946, 1.3358673329594477, 0.7106169737694411, -0.881190856736671, 1.6572933768223226, -3.21202246372224, 0.24750237949665033, -0.10699064314782875, 0.9124335766291933, -0.13918770729845703, -0.8239859419442263, -0.14309505667741204, -1.454778567555632, -0.12659741460427415, 2.893045501804426, -0.12015862045672247, 1.0963214522667863, 0.18577402560033926, 0.5240870431117455, 0.9704321328643873, 0.28663539337828586, -0.38537998691183745, -0.5032949562951428, -0.053761868689190424, 2.7717883136747963, 0.7433682338190086, -0.4027445779287906, 2.3139317522692644, 0.49067238041363975, -0.3135654962421884, 1.3841231201730166, -0.004561276552511203, -0.7609092750254111, -0.3508709606115078, -0.051867032561245516, 0.7222336282881445, 1.338860532955769, 1.354987515450417, 1.4277878742847105, -0.08739672824018152, 0.033443824648086984, 1.9332077344793333, 0.2699430447632469, 0.9297122467454738, 2.209649498142497, 0.3886485332226071, 1.233191903563049, 1.2785809054668855, 0.44834724685469285, -0.2523842308718927, 1.1789610102876773, 0.2632671895404269, 0.5099296549168336, 1.7929880561448714, 0.6523399578308492], \"yaxis\": \"y\"}],\n                        {\"height\": 600, \"legend\": {\"tracegroupgap\": 0}, \"margin\": {\"t\": 60}, \"plot_bgcolor\": \"rgb(240,240,240)\", \"template\": {\"data\": {\"bar\": [{\"error_x\": {\"color\": \"#2a3f5f\"}, \"error_y\": {\"color\": \"#2a3f5f\"}, \"marker\": {\"line\": {\"color\": \"#E5ECF6\", \"width\": 0.5}}, \"type\": \"bar\"}], \"barpolar\": [{\"marker\": {\"line\": {\"color\": \"#E5ECF6\", \"width\": 0.5}}, \"type\": \"barpolar\"}], \"carpet\": [{\"aaxis\": {\"endlinecolor\": \"#2a3f5f\", \"gridcolor\": \"white\", \"linecolor\": \"white\", \"minorgridcolor\": \"white\", \"startlinecolor\": \"#2a3f5f\"}, \"baxis\": {\"endlinecolor\": \"#2a3f5f\", \"gridcolor\": \"white\", \"linecolor\": \"white\", \"minorgridcolor\": \"white\", \"startlinecolor\": \"#2a3f5f\"}, \"type\": \"carpet\"}], \"choropleth\": [{\"colorbar\": {\"outlinewidth\": 0, \"ticks\": \"\"}, \"type\": \"choropleth\"}], \"contour\": [{\"colorbar\": {\"outlinewidth\": 0, \"ticks\": \"\"}, \"colorscale\": [[0.0, \"#0d0887\"], [0.1111111111111111, \"#46039f\"], [0.2222222222222222, \"#7201a8\"], [0.3333333333333333, \"#9c179e\"], [0.4444444444444444, \"#bd3786\"], [0.5555555555555556, \"#d8576b\"], [0.6666666666666666, \"#ed7953\"], [0.7777777777777778, \"#fb9f3a\"], [0.8888888888888888, \"#fdca26\"], [1.0, \"#f0f921\"]], \"type\": \"contour\"}], \"contourcarpet\": [{\"colorbar\": {\"outlinewidth\": 0, \"ticks\": \"\"}, \"type\": \"contourcarpet\"}], \"heatmap\": [{\"colorbar\": {\"outlinewidth\": 0, \"ticks\": \"\"}, \"colorscale\": [[0.0, \"#0d0887\"], [0.1111111111111111, \"#46039f\"], [0.2222222222222222, \"#7201a8\"], [0.3333333333333333, \"#9c179e\"], [0.4444444444444444, \"#bd3786\"], [0.5555555555555556, \"#d8576b\"], [0.6666666666666666, \"#ed7953\"], [0.7777777777777778, \"#fb9f3a\"], [0.8888888888888888, \"#fdca26\"], [1.0, \"#f0f921\"]], \"type\": \"heatmap\"}], \"heatmapgl\": [{\"colorbar\": {\"outlinewidth\": 0, \"ticks\": \"\"}, \"colorscale\": [[0.0, \"#0d0887\"], [0.1111111111111111, \"#46039f\"], [0.2222222222222222, \"#7201a8\"], [0.3333333333333333, \"#9c179e\"], [0.4444444444444444, \"#bd3786\"], [0.5555555555555556, \"#d8576b\"], [0.6666666666666666, \"#ed7953\"], [0.7777777777777778, \"#fb9f3a\"], [0.8888888888888888, \"#fdca26\"], [1.0, \"#f0f921\"]], \"type\": \"heatmapgl\"}], \"histogram\": [{\"marker\": {\"colorbar\": {\"outlinewidth\": 0, \"ticks\": \"\"}}, \"type\": \"histogram\"}], \"histogram2d\": [{\"colorbar\": {\"outlinewidth\": 0, \"ticks\": \"\"}, \"colorscale\": [[0.0, \"#0d0887\"], [0.1111111111111111, \"#46039f\"], [0.2222222222222222, \"#7201a8\"], [0.3333333333333333, \"#9c179e\"], [0.4444444444444444, \"#bd3786\"], [0.5555555555555556, \"#d8576b\"], [0.6666666666666666, \"#ed7953\"], [0.7777777777777778, \"#fb9f3a\"], [0.8888888888888888, \"#fdca26\"], [1.0, \"#f0f921\"]], \"type\": \"histogram2d\"}], \"histogram2dcontour\": [{\"colorbar\": {\"outlinewidth\": 0, \"ticks\": \"\"}, \"colorscale\": [[0.0, \"#0d0887\"], [0.1111111111111111, \"#46039f\"], [0.2222222222222222, \"#7201a8\"], [0.3333333333333333, \"#9c179e\"], [0.4444444444444444, \"#bd3786\"], [0.5555555555555556, \"#d8576b\"], [0.6666666666666666, \"#ed7953\"], [0.7777777777777778, \"#fb9f3a\"], [0.8888888888888888, \"#fdca26\"], [1.0, \"#f0f921\"]], \"type\": \"histogram2dcontour\"}], \"mesh3d\": [{\"colorbar\": {\"outlinewidth\": 0, \"ticks\": \"\"}, \"type\": \"mesh3d\"}], \"parcoords\": [{\"line\": {\"colorbar\": {\"outlinewidth\": 0, \"ticks\": \"\"}}, \"type\": \"parcoords\"}], \"pie\": [{\"automargin\": true, \"type\": \"pie\"}], \"scatter\": [{\"marker\": {\"colorbar\": {\"outlinewidth\": 0, \"ticks\": \"\"}}, \"type\": \"scatter\"}], \"scatter3d\": [{\"line\": {\"colorbar\": {\"outlinewidth\": 0, \"ticks\": \"\"}}, \"marker\": {\"colorbar\": {\"outlinewidth\": 0, \"ticks\": \"\"}}, \"type\": \"scatter3d\"}], \"scattercarpet\": [{\"marker\": {\"colorbar\": {\"outlinewidth\": 0, \"ticks\": \"\"}}, \"type\": \"scattercarpet\"}], \"scattergeo\": [{\"marker\": {\"colorbar\": {\"outlinewidth\": 0, \"ticks\": \"\"}}, \"type\": \"scattergeo\"}], \"scattergl\": [{\"marker\": {\"colorbar\": {\"outlinewidth\": 0, \"ticks\": \"\"}}, \"type\": \"scattergl\"}], \"scattermapbox\": [{\"marker\": {\"colorbar\": {\"outlinewidth\": 0, \"ticks\": \"\"}}, \"type\": \"scattermapbox\"}], \"scatterpolar\": [{\"marker\": {\"colorbar\": {\"outlinewidth\": 0, \"ticks\": \"\"}}, \"type\": \"scatterpolar\"}], \"scatterpolargl\": [{\"marker\": {\"colorbar\": {\"outlinewidth\": 0, \"ticks\": \"\"}}, \"type\": \"scatterpolargl\"}], \"scatterternary\": [{\"marker\": {\"colorbar\": {\"outlinewidth\": 0, \"ticks\": \"\"}}, \"type\": \"scatterternary\"}], \"surface\": [{\"colorbar\": {\"outlinewidth\": 0, \"ticks\": \"\"}, \"colorscale\": [[0.0, \"#0d0887\"], [0.1111111111111111, \"#46039f\"], [0.2222222222222222, \"#7201a8\"], [0.3333333333333333, \"#9c179e\"], [0.4444444444444444, \"#bd3786\"], [0.5555555555555556, \"#d8576b\"], [0.6666666666666666, \"#ed7953\"], [0.7777777777777778, \"#fb9f3a\"], [0.8888888888888888, \"#fdca26\"], [1.0, \"#f0f921\"]], \"type\": \"surface\"}], \"table\": [{\"cells\": {\"fill\": {\"color\": \"#EBF0F8\"}, \"line\": {\"color\": \"white\"}}, \"header\": {\"fill\": {\"color\": \"#C8D4E3\"}, \"line\": {\"color\": \"white\"}}, \"type\": \"table\"}]}, \"layout\": {\"annotationdefaults\": {\"arrowcolor\": \"#2a3f5f\", \"arrowhead\": 0, \"arrowwidth\": 1}, \"coloraxis\": {\"colorbar\": {\"outlinewidth\": 0, \"ticks\": \"\"}}, \"colorscale\": {\"diverging\": [[0, \"#8e0152\"], [0.1, \"#c51b7d\"], [0.2, \"#de77ae\"], [0.3, \"#f1b6da\"], [0.4, \"#fde0ef\"], [0.5, \"#f7f7f7\"], [0.6, \"#e6f5d0\"], [0.7, \"#b8e186\"], [0.8, \"#7fbc41\"], [0.9, \"#4d9221\"], [1, \"#276419\"]], \"sequential\": [[0.0, \"#0d0887\"], [0.1111111111111111, \"#46039f\"], [0.2222222222222222, \"#7201a8\"], [0.3333333333333333, \"#9c179e\"], [0.4444444444444444, \"#bd3786\"], [0.5555555555555556, \"#d8576b\"], [0.6666666666666666, \"#ed7953\"], [0.7777777777777778, \"#fb9f3a\"], [0.8888888888888888, \"#fdca26\"], [1.0, \"#f0f921\"]], \"sequentialminus\": [[0.0, \"#0d0887\"], [0.1111111111111111, \"#46039f\"], [0.2222222222222222, \"#7201a8\"], [0.3333333333333333, \"#9c179e\"], [0.4444444444444444, \"#bd3786\"], [0.5555555555555556, \"#d8576b\"], [0.6666666666666666, \"#ed7953\"], [0.7777777777777778, \"#fb9f3a\"], [0.8888888888888888, \"#fdca26\"], [1.0, \"#f0f921\"]]}, \"colorway\": [\"#636efa\", \"#EF553B\", \"#00cc96\", \"#ab63fa\", \"#FFA15A\", \"#19d3f3\", \"#FF6692\", \"#B6E880\", \"#FF97FF\", \"#FECB52\"], \"font\": {\"color\": \"#2a3f5f\"}, \"geo\": {\"bgcolor\": \"white\", \"lakecolor\": \"white\", \"landcolor\": \"#E5ECF6\", \"showlakes\": true, \"showland\": true, \"subunitcolor\": \"white\"}, \"hoverlabel\": {\"align\": \"left\"}, \"hovermode\": \"closest\", \"mapbox\": {\"style\": \"light\"}, \"paper_bgcolor\": \"white\", \"plot_bgcolor\": \"#E5ECF6\", \"polar\": {\"angularaxis\": {\"gridcolor\": \"white\", \"linecolor\": \"white\", \"ticks\": \"\"}, \"bgcolor\": \"#E5ECF6\", \"radialaxis\": {\"gridcolor\": \"white\", \"linecolor\": \"white\", \"ticks\": \"\"}}, \"scene\": {\"xaxis\": {\"backgroundcolor\": \"#E5ECF6\", \"gridcolor\": \"white\", \"gridwidth\": 2, \"linecolor\": \"white\", \"showbackground\": true, \"ticks\": \"\", \"zerolinecolor\": \"white\"}, \"yaxis\": {\"backgroundcolor\": \"#E5ECF6\", \"gridcolor\": \"white\", \"gridwidth\": 2, \"linecolor\": \"white\", \"showbackground\": true, \"ticks\": \"\", \"zerolinecolor\": \"white\"}, \"zaxis\": {\"backgroundcolor\": \"#E5ECF6\", \"gridcolor\": \"white\", \"gridwidth\": 2, \"linecolor\": \"white\", \"showbackground\": true, \"ticks\": \"\", \"zerolinecolor\": \"white\"}}, \"shapedefaults\": {\"line\": {\"color\": \"#2a3f5f\"}}, \"ternary\": {\"aaxis\": {\"gridcolor\": \"white\", \"linecolor\": \"white\", \"ticks\": \"\"}, \"baxis\": {\"gridcolor\": \"white\", \"linecolor\": \"white\", \"ticks\": \"\"}, \"bgcolor\": \"#E5ECF6\", \"caxis\": {\"gridcolor\": \"white\", \"linecolor\": \"white\", \"ticks\": \"\"}}, \"title\": {\"x\": 0.05}, \"xaxis\": {\"automargin\": true, \"gridcolor\": \"white\", \"linecolor\": \"white\", \"ticks\": \"\", \"title\": {\"standoff\": 15}, \"zerolinecolor\": \"white\", \"zerolinewidth\": 2}, \"yaxis\": {\"automargin\": true, \"gridcolor\": \"white\", \"linecolor\": \"white\", \"ticks\": \"\", \"title\": {\"standoff\": 15}, \"zerolinecolor\": \"white\", \"zerolinewidth\": 2}}}, \"title\": {\"text\": \"2D Cluster PCA Plot\"}, \"xaxis\": {\"anchor\": \"y\", \"domain\": [0.0, 1.0], \"title\": {\"text\": \"PCA1\"}}, \"yaxis\": {\"anchor\": \"x\", \"domain\": [0.0, 1.0], \"title\": {\"text\": \"PCA2\"}}},\n                        {\"responsive\": true}\n                    ).then(function(){\n                            \nvar gd = document.getElementById('9c62188b-6b38-4897-bcac-c6d467da6890');\nvar x = new MutationObserver(function (mutations, observer) {{\n        var display = window.getComputedStyle(gd).display;\n        if (!display || display === 'none') {{\n            console.log([gd, 'removed!']);\n            Plotly.purge(gd);\n            observer.disconnect();\n        }}\n}});\n\n// Listen for the removal of the full notebook cells\nvar notebookContainer = gd.closest('#notebook-container');\nif (notebookContainer) {{\n    x.observe(notebookContainer, {childList: true});\n}}\n\n// Listen for the clearing of the current output cell\nvar outputEl = gd.closest('.output');\nif (outputEl) {{\n    x.observe(outputEl, {childList: true});\n}}\n\n                        })\n                };\n                });\n            </script>\n        </div>"
     },
     "metadata": {}
    }
   ],
   "source": [
    "plot_model(kmeans) "
   ]
  },
  {
   "cell_type": "code",
   "execution_count": 12,
   "metadata": {},
   "outputs": [
    {
     "output_type": "display_data",
     "data": {
      "text/html": "        <script type=\"text/javascript\">\n        window.PlotlyConfig = {MathJaxConfig: 'local'};\n        if (window.MathJax) {MathJax.Hub.Config({SVG: {font: \"STIX-Web\"}});}\n        if (typeof require !== 'undefined') {\n        require.undef(\"plotly\");\n        requirejs.config({\n            paths: {\n                'plotly': ['https://cdn.plot.ly/plotly-latest.min']\n            }\n        });\n        require(['plotly'], function(Plotly) {\n            window._Plotly = Plotly;\n        });\n        }\n        </script>\n        "
     },
     "metadata": {}
    },
    {
     "output_type": "display_data",
     "data": {
      "application/vnd.plotly.v1+json": {
       "config": {
        "plotlyServerURL": "https://plot.ly"
       },
       "data": [
        {
         "customdata": [
          [
           0.1989134183137831
          ],
          [
           1.499282428244103
          ],
          [
           0.907832558569684
          ],
          [
           0.46686643888181745
          ],
          [
           0.4239484314482108
          ],
          [
           0.46671881495853274
          ],
          [
           0.23455074102356732
          ],
          [
           -0.39264945021896924
          ],
          [
           -0.23480085080594582
          ],
          [
           0.14811306516563208
          ],
          [
           0.7103473038598006
          ],
          [
           1.4885028118854795
          ],
          [
           -0.08789371894920797
          ],
          [
           -2.0687894195685543
          ],
          [
           -0.598544356771403
          ],
          [
           -3.109365472873019
          ],
          [
           -0.07294981183217795
          ],
          [
           -0.37318725824800847
          ],
          [
           -0.4116115127138318
          ],
          [
           -0.2514725278179727
          ],
          [
           1.6622955914928568
          ],
          [
           -0.13262038241479274
          ],
          [
           -0.7314556908269894
          ],
          [
           0.41733956463540983
          ],
          [
           -0.38572230444422373
          ],
          [
           -0.11792365217465366
          ],
          [
           1.2520265286639787
          ],
          [
           0.3901478068997687
          ],
          [
           0.4089763491531486
          ],
          [
           0.9361424489999619
          ],
          [
           -0.027671736496154186
          ],
          [
           1.8924212266541172
          ],
          [
           -3.0023871344453705
          ],
          [
           1.1112970551743917
          ],
          [
           2.2479587220183093
          ],
          [
           0.3881643913390516
          ],
          [
           -0.9080885995241701
          ],
          [
           0.25646666007657465
          ],
          [
           -0.22130742900300537
          ],
          [
           -0.46980785130064423
          ],
          [
           1.0950335301503475
          ],
          [
           0.8340053467667256
          ],
          [
           -0.1272644958364888
          ],
          [
           0.0929212791032259
          ],
          [
           -1.904341067955119
          ],
          [
           -1.5609661151252097
          ],
          [
           1.2460027810520693
          ],
          [
           0.965863575429149
          ],
          [
           -0.7814136321611825
          ],
          [
           -0.12740179353045836
          ],
          [
           -0.3799441285395706
          ],
          [
           0.8660783009358252
          ],
          [
           -0.2602601534015177
          ],
          [
           0.17063393893226703
          ],
          [
           0.11518091265054212
          ],
          [
           0.8545933038413556
          ],
          [
           -0.24022235322821273
          ],
          [
           -0.29077873518208397
          ],
          [
           0.609011036160001
          ],
          [
           0.354160707884782
          ],
          [
           -1.5682784296394523
          ],
          [
           -2.5927638698814772
          ],
          [
           0.6858891207746206
          ],
          [
           -0.6414564595378839
          ],
          [
           0.3863670270346669
          ],
          [
           -0.2806805025658953
          ],
          [
           0.3167427057653993
          ],
          [
           -3.231179245538577
          ],
          [
           -0.43336076658212824
          ],
          [
           -0.6138832490257837
          ],
          [
           0.2617243480014088
          ],
          [
           -1.1521981547707385
          ],
          [
           -0.8506660044740565
          ],
          [
           -1.963825691183579
          ],
          [
           0.8394352648515033
          ],
          [
           0.6893371457636785
          ],
          [
           -0.10713017099900425
          ],
          [
           -0.40698487711032855
          ],
          [
           -0.3075706029232516
          ],
          [
           -1.6552406364453478
          ],
          [
           1.0994438469142247
          ],
          [
           0.4827631619225742
          ],
          [
           0.06137817171823405
          ],
          [
           0.7664954248986279
          ],
          [
           0.45735182250660056
          ],
          [
           -0.4209827108767675
          ],
          [
           -2.5170240073457384
          ],
          [
           0.4238166839146955
          ],
          [
           0.6943366827221684
          ],
          [
           -0.5978261484527609
          ],
          [
           0.8486371718258235
          ],
          [
           -0.332664167913485
          ],
          [
           -0.5353436085906226
          ],
          [
           -0.5490603491060876
          ],
          [
           -2.7365703687811807
          ],
          [
           0.6398429209838484
          ]
         ],
         "hoverlabel": {
          "namelength": 0
         },
         "hovertemplate": "Cluster=Cluster 0<br>0=%{x}<br>1=%{y}<br>2=%{z}<br>Feature=%{customdata[0]}",
         "legendgroup": "Cluster=Cluster 0",
         "marker": {
          "color": "#636efa",
          "opacity": 0.7,
          "symbol": "circle"
         },
         "mode": "markers",
         "name": "Cluster=Cluster 0",
         "scene": "scene",
         "showlegend": true,
         "type": "scatter3d",
         "x": [
          -60.53382873535156,
          -77.6728744506836,
          -61.044891357421875,
          96.73741912841797,
          1.7127257585525513,
          -5.131511211395264,
          -103.7577896118164,
          -14.316230773925781,
          -21.05248260498047,
          9.274412155151367,
          -62.48409652709961,
          47.85668182373047,
          -24.690404891967773,
          93.9137954711914,
          29.401805877685547,
          131.7965545654297,
          -90.9480209350586,
          -2.3845510482788086,
          -13.510335922241211,
          -38.756919860839844,
          28.653690338134766,
          0.7012122273445129,
          -77.60997772216797,
          28.876188278198242,
          145.78228759765625,
          -81.84339904785156,
          6.6449174880981445,
          33.70582962036133,
          -68.83663177490234,
          13.497221946716309,
          3.6444385051727295,
          9.868693351745605,
          -118.98152160644531,
          -37.78173065185547,
          136.22718811035156,
          -11.072128295898438,
          -10.010960578918457,
          49.060630798339844,
          30.485036849975586,
          13.9185152053833,
          -114.4241943359375,
          6.169803142547607,
          -56.072513580322266,
          28.560199737548828,
          43.094810485839844,
          35.87691116333008,
          28.975074768066406,
          -77.09483337402344,
          -136.9598846435547,
          -93.93048858642578,
          -31.418912887573242,
          24.869760513305664,
          -54.85808181762695,
          -80.54879760742188,
          -42.587425231933594,
          79.86174774169922,
          -55.11727523803711,
          3.33237624168396,
          113.44692993164062,
          89.53713989257812,
          -104.90005493164062,
          -47.50641632080078,
          -21.429357528686523,
          33.64658737182617,
          151.03268432617188,
          34.911678314208984,
          80.11619567871094,
          -99.75914764404297,
          54.373043060302734,
          -24.507230758666992,
          27.30695152282715,
          -20.768617630004883,
          -103.71731567382812,
          -53.44858169555664,
          -57.840538024902344,
          -126.65141296386719,
          -128.64102172851562,
          102.62200927734375,
          62.13016891479492,
          127.89115142822266,
          19.51325225830078,
          41.49847412109375,
          95.50775146484375,
          46.483219146728516,
          -60.6595344543457,
          97.5279312133789,
          62.78126907348633,
          -49.40421676635742,
          9.377729415893555,
          9.261045455932617,
          -47.28871536254883,
          89.4028091430664,
          -10.736833572387695,
          -131.51522827148438,
          -43.417091369628906,
          -8.702311515808105
         ],
         "y": [
          -24.510957717895508,
          54.47581100463867,
          -9.458849906921387,
          36.760498046875,
          -121.88581085205078,
          -137.11337280273438,
          -21.797880172729492,
          -52.514705657958984,
          -18.9049072265625,
          32.2276725769043,
          103.6839599609375,
          -7.341339588165283,
          28.88591194152832,
          -34.01885986328125,
          32.862709045410156,
          -44.70767593383789,
          11.185079574584961,
          -69.82035064697266,
          10.41808032989502,
          61.30739974975586,
          -6.390814781188965,
          -1.5879979133605957,
          -15.60041332244873,
          0.5494598746299744,
          -13.77683162689209,
          11.01619815826416,
          131.3665771484375,
          13.61094856262207,
          2.84470272064209,
          -56.090057373046875,
          -7.567988395690918,
          -34.37657165527344,
          61.556243896484375,
          50.1817741394043,
          31.227811813354492,
          -42.36811065673828,
          7.672044277191162,
          56.225711822509766,
          -18.73941421508789,
          79.89714050292969,
          -14.306506156921387,
          -24.34967613220215,
          -24.074134826660156,
          0.873345136642456,
          39.854591369628906,
          -26.34092140197754,
          -31.850425720214844,
          -4.8614606857299805,
          35.60932540893555,
          -14.800457000732422,
          173.6179656982422,
          6.016373634338379,
          -44.61740493774414,
          99.48870849609375,
          4.20724630355835,
          12.166838645935059,
          7.560638904571533,
          59.37603759765625,
          8.722761154174805,
          -15.15311336517334,
          -14.368620872497559,
          32.29988098144531,
          -19.28092384338379,
          -39.106475830078125,
          -1.875074028968811,
          -54.732398986816406,
          -24.552736282348633,
          102.26364135742188,
          -22.869056701660156,
          -76.00222778320312,
          102.74821472167969,
          51.93971252441406,
          74.69918823242188,
          23.807044982910156,
          -71.03144073486328,
          54.97907257080078,
          -91.23967742919922,
          73.71630859375,
          -28.225814819335938,
          28.08911895751953,
          -11.8866548538208,
          10.62247085571289,
          9.877220153808594,
          2.251948833465576,
          13.329300880432129,
          31.89482879638672,
          40.738189697265625,
          -20.932523727416992,
          -141.77499389648438,
          -60.860076904296875,
          27.56273651123047,
          -20.691728591918945,
          -4.862970352172852,
          -4.301907062530518,
          -9.486113548278809,
          163.35472106933594
         ],
         "z": [
          92.77983856201172,
          -128.54664611816406,
          -67.61161041259766,
          -22.221540451049805,
          -53.67841339111328,
          24.371971130371094,
          105.90306091308594,
          -40.32855987548828,
          -20.2471981048584,
          -2.0677385330200195,
          39.021366119384766,
          18.553329467773438,
          10.035933494567871,
          -88.05779266357422,
          -13.74194622039795,
          -61.49494934082031,
          77.60804748535156,
          136.3963165283203,
          -136.41024780273438,
          50.961544036865234,
          117.55430603027344,
          91.41606903076172,
          64.65338897705078,
          -41.97804641723633,
          -58.89442825317383,
          -48.41886901855469,
          -53.83418273925781,
          36.490116119384766,
          61.36454391479492,
          -95.8409423828125,
          18.257030487060547,
          -33.792747497558594,
          -83.42439270019531,
          32.50654983520508,
          19.382200241088867,
          -147.54066467285156,
          -4.565430164337158,
          -116.60753631591797,
          -56.592647552490234,
          92.6081771850586,
          89.82008361816406,
          -59.82970428466797,
          -16.594921112060547,
          -0.4247138202190399,
          -88.26759338378906,
          -19.72391700744629,
          9.00287914276123,
          -21.960294723510742,
          -51.179779052734375,
          -35.65586471557617,
          152.92149353027344,
          72.83162689208984,
          37.062171936035156,
          -30.305694580078125,
          72.34442138671875,
          -120.2922592163086,
          -132.0263671875,
          -4.365421295166016,
          -23.190351486206055,
          -83.64207458496094,
          -69.70590209960938,
          37.665157318115234,
          -108.8709716796875,
          -34.252227783203125,
          -20.589508056640625,
          29.657970428466797,
          -59.33865737915039,
          51.7930908203125,
          -148.7263946533203,
          -22.804479598999023,
          -4.033341884613037,
          19.243677139282227,
          -48.116336822509766,
          61.014129638671875,
          -32.58359146118164,
          -17.390884399414062,
          -30.44032096862793,
          60.09956359863281,
          -24.301725387573242,
          -34.51919937133789,
          41.22211456298828,
          -26.9414119720459,
          -88.02722930908203,
          63.323020935058594,
          84.39512634277344,
          -41.29901885986328,
          -20.520549774169922,
          -128.2403106689453,
          46.26929473876953,
          -18.944120407104492,
          132.08282470703125,
          -9.432039260864258,
          -41.13972091674805,
          -51.28614044189453,
          5.334921360015869,
          -12.821714401245117
         ]
        },
        {
         "customdata": [
          [
           0.8276564211952814
          ],
          [
           0.25917577216832843
          ],
          [
           0.5187125731859836
          ],
          [
           -0.3359511924691319
          ],
          [
           0.14463095188661626
          ],
          [
           -0.42202867006368855
          ],
          [
           -0.7824811092346083
          ],
          [
           -2.4183893929742464
          ],
          [
           0.8731205237021274
          ],
          [
           0.6169197935943666
          ],
          [
           1.8686165994699688
          ],
          [
           0.945452136209644
          ],
          [
           -0.6382228039593283
          ],
          [
           1.821566915425819
          ],
          [
           -1.887168722125577
          ],
          [
           -3.21466533471976
          ],
          [
           0.7137221628179744
          ],
          [
           -0.7134544640629344
          ],
          [
           0.18365652881200134
          ],
          [
           0.8704856973971593
          ],
          [
           -0.7182812508549592
          ],
          [
           0.5391930579937024
          ],
          [
           1.2692754833123943
          ],
          [
           -1.7971060664041858
          ],
          [
           0.29285148403732164
          ],
          [
           -0.32298021768695345
          ],
          [
           -0.07854399841505319
          ],
          [
           -1.8299179737801732
          ],
          [
           1.9439350337718337
          ],
          [
           -0.48301744890796194
          ],
          [
           0.604662885999015
          ],
          [
           -0.9058639731531113
          ],
          [
           -0.5476139297115261
          ],
          [
           -0.4893826350906889
          ],
          [
           -0.262433691224295
          ],
          [
           -0.3007511069573523
          ],
          [
           0.025919129858958098
          ],
          [
           1.2416785043018859
          ],
          [
           0.5296267526182864
          ],
          [
           0.17736513823993066
          ],
          [
           0.7869298441146823
          ],
          [
           -0.16970360153816752
          ],
          [
           -1.3633930941426182
          ],
          [
           0.3145502519911013
          ],
          [
           0.2740250433941952
          ],
          [
           -0.03781833808561641
          ],
          [
           -0.4683179965713819
          ],
          [
           0.00023933919760027843
          ],
          [
           -0.6846073111377906
          ],
          [
           0.5737744993950356
          ],
          [
           0.032755208960812666
          ],
          [
           -0.25336748445886575
          ],
          [
           0.2525163162731246
          ],
          [
           0.43012969535279466
          ],
          [
           -0.42421472123254905
          ],
          [
           0.5482590629683834
          ],
          [
           -0.03935627603091615
          ],
          [
           -0.6283927624093816
          ],
          [
           1.5708884947237358
          ],
          [
           0.22956214172024322
          ],
          [
           -0.048081046769168925
          ],
          [
           0.017295094630673132
          ],
          [
           0.5182203534234814
          ],
          [
           -2.674948610830452
          ],
          [
           -0.32218355546051836
          ],
          [
           1.3165313232948581
          ],
          [
           -1.6279693351287312
          ],
          [
           -0.3963796225616083
          ],
          [
           -0.5758916728920682
          ],
          [
           0.4823438752846045
          ],
          [
           1.944210330540385
          ],
          [
           0.05776783139928011
          ],
          [
           -0.09701999876634751
          ],
          [
           1.4314826662261222
          ],
          [
           0.31632409095399605
          ],
          [
           -0.2693510473615264
          ],
          [
           0.2269381518110111
          ],
          [
           -0.2636983371688864
          ],
          [
           0.5901772743319594
          ],
          [
           -0.8668268570333555
          ],
          [
           1.8570922392031628
          ],
          [
           -0.5636398752667817
          ],
          [
           0.9930471850836778
          ],
          [
           0.29425748526835527
          ],
          [
           0.6052381727663134
          ],
          [
           0.8385924710611696
          ],
          [
           0.3084147768813575
          ],
          [
           -0.36034944163342286
          ],
          [
           0.6412381036688372
          ],
          [
           0.4769279356653913
          ],
          [
           -0.6725768689662224
          ],
          [
           -1.195524685907561
          ],
          [
           0.5267778471472767
          ],
          [
           -0.6816003767162608
          ],
          [
           0.7026572344869855
          ],
          [
           -3.043346023802656
          ],
          [
           -0.5008493130696107
          ],
          [
           0.838115819108892
          ],
          [
           -0.8528300900792961
          ],
          [
           -0.2810317368375153
          ]
         ],
         "hoverlabel": {
          "namelength": 0
         },
         "hovertemplate": "Cluster=Cluster 1<br>0=%{x}<br>1=%{y}<br>2=%{z}<br>Feature=%{customdata[0]}",
         "legendgroup": "Cluster=Cluster 1",
         "marker": {
          "color": "#EF553B",
          "opacity": 0.7,
          "symbol": "circle"
         },
         "mode": "markers",
         "name": "Cluster=Cluster 1",
         "scene": "scene",
         "showlegend": true,
         "type": "scatter3d",
         "x": [
          -17.808433532714844,
          117.28692626953125,
          -11.770411491394043,
          -135.45111083984375,
          -44.2100944519043,
          -61.84711837768555,
          -78.3537368774414,
          73.1088638305664,
          45.57633972167969,
          22.17943572998047,
          122.58500671386719,
          -34.43389129638672,
          11.63718032836914,
          -1.4559091329574585,
          -49.4700813293457,
          -4.033958435058594,
          -34.41740417480469,
          1.9170984029769897,
          38.86968231201172,
          -102.73751831054688,
          -40.03057861328125,
          -0.06679723411798477,
          27.763084411621094,
          -9.553943634033203,
          -60.57014465332031,
          -9.1525239944458,
          -54.8907470703125,
          -68.8418960571289,
          -7.056630611419678,
          128.31910705566406,
          13.030376434326172,
          -107.36094665527344,
          76.19141387939453,
          80.04232025146484,
          39.48571014404297,
          40.01555252075195,
          35.761627197265625,
          69.90541076660156,
          70.42514038085938,
          6.803685665130615,
          -137.8594512939453,
          91.42931365966797,
          0.13703134655952454,
          -40.134490966796875,
          -65.27881622314453,
          45.39751052856445,
          18.44029998779297,
          8.985766410827637,
          62.280555725097656,
          86.28649139404297,
          28.795726776123047,
          84.36646270751953,
          69.39948272705078,
          -5.99594783782959,
          10.406736373901367,
          87.6573257446289,
          -101.21873474121094,
          29.98295021057129,
          -116.83666229248047,
          -78.1890869140625,
          -21.798418045043945,
          1.4479029178619385,
          63.99338912963867,
          -41.03544616699219,
          57.42026901245117,
          10.500235557556152,
          -12.910684585571289,
          25.808269500732422,
          -113.2542495727539,
          -101.32574462890625,
          -34.04734802246094,
          104.77993774414062,
          10.624850273132324,
          8.117656707763672,
          -44.64241409301758,
          28.943769454956055,
          -40.29457473754883,
          9.10477352142334,
          -7.162259101867676,
          65.18624114990234,
          -9.728342056274414,
          4.270668983459473,
          116.81301879882812,
          49.15911865234375,
          -76.53073120117188,
          67.98395538330078,
          9.2079439163208,
          33.63282012939453,
          11.188458442687988,
          -90.96575927734375,
          -130.0266571044922,
          -58.8023681640625,
          -62.34255599975586,
          -45.59546661376953,
          60.14257049560547,
          46.46491241455078,
          -66.78520965576172,
          -6.912353038787842,
          -108.46118927001953,
          -31.168317794799805
         ],
         "y": [
          79.02252960205078,
          57.784950256347656,
          -85.66951751708984,
          -39.92133712768555,
          56.96643829345703,
          -104.89356994628906,
          24.451906204223633,
          -39.36054229736328,
          31.214435577392578,
          134.08680725097656,
          -69.53353118896484,
          -104.8173828125,
          100.93560028076172,
          100.49768829345703,
          -133.92919921875,
          78.25582122802734,
          12.07797622680664,
          -130.81527709960938,
          46.18263626098633,
          33.916744232177734,
          -68.20664978027344,
          43.97270965576172,
          13.431384086608887,
          -66.46324157714844,
          23.099376678466797,
          157.53530883789062,
          132.174560546875,
          9.855259895324707,
          62.9901237487793,
          76.30615997314453,
          59.427860260009766,
          68.27249908447266,
          45.450443267822266,
          -98.95591735839844,
          72.47077941894531,
          83.52606964111328,
          83.2814712524414,
          -21.198320388793945,
          -0.24270884692668915,
          -10.72899341583252,
          83.79560089111328,
          -30.627212524414062,
          -64.36223602294922,
          45.839988708496094,
          -2.774850845336914,
          137.23361206054688,
          -16.647123336791992,
          19.083471298217773,
          54.80680465698242,
          66.81177520751953,
          -96.58086395263672,
          -73.16089630126953,
          -70.3948745727539,
          -8.554506301879883,
          32.160186767578125,
          25.563369750976562,
          29.72399139404297,
          -71.56915283203125,
          -95.93811798095703,
          67.86157989501953,
          68.85762786865234,
          87.31344604492188,
          -20.14694595336914,
          99.6781234741211,
          -49.19465637207031,
          109.87628936767578,
          100.0391616821289,
          -37.33347702026367,
          -29.55035400390625,
          112.32189178466797,
          36.21413040161133,
          -3.3992598056793213,
          125.48194885253906,
          98.75502014160156,
          89.72499084472656,
          102.53348541259766,
          88.5772476196289,
          63.73163604736328,
          36.565330505371094,
          154.3083038330078,
          -7.923402309417725,
          70.63833618164062,
          6.587935924530029,
          3.4788763523101807,
          145.45164489746094,
          94.77580261230469,
          113.73976135253906,
          58.56110382080078,
          -125.1060791015625,
          -30.740751266479492,
          -15.866283416748047,
          -119.7469253540039,
          -52.52647399902344,
          -10.633496284484863,
          -59.88896179199219,
          -27.400646209716797,
          42.576725006103516,
          109.71207427978516,
          -52.993961334228516,
          -1.3519154787063599
         ],
         "z": [
          31.9307861328125,
          -6.653482437133789,
          -129.1951904296875,
          65.12525939941406,
          -25.17159080505371,
          -34.60020446777344,
          129.52174377441406,
          84.19160461425781,
          136.23431396484375,
          8.072341918945312,
          50.77433776855469,
          23.090497970581055,
          54.549041748046875,
          -21.321319580078125,
          43.29502487182617,
          123.03308868408203,
          -20.012189865112305,
          84.18856811523438,
          111.44791412353516,
          -34.152103424072266,
          25.47673225402832,
          80.69063568115234,
          -74.72046661376953,
          12.399842262268066,
          -69.36784362792969,
          37.27851867675781,
          -14.536937713623047,
          26.171066284179688,
          51.57105255126953,
          26.768274307250977,
          24.30096435546875,
          14.994816780090332,
          -69.39165496826172,
          -40.568965911865234,
          18.39328956604004,
          53.18769836425781,
          -78.12574005126953,
          13.016376495361328,
          132.8091583251953,
          -15.285144805908203,
          26.926769256591797,
          41.77855682373047,
          -70.2013931274414,
          -87.38251495361328,
          -101.5550308227539,
          42.19746017456055,
          -90.75088500976562,
          22.693946838378906,
          119.8329849243164,
          -46.22953796386719,
          -32.260520935058594,
          54.5414924621582,
          77.82421875,
          155.3139190673828,
          100.67253875732422,
          8.333965301513672,
          -73.0334701538086,
          -77.91822052001953,
          58.97349548339844,
          -74.8126449584961,
          89.36691284179688,
          19.946462631225586,
          50.19080352783203,
          13.505138397216797,
          56.946205139160156,
          32.66313552856445,
          62.558868408203125,
          144.63973999023438,
          41.169029235839844,
          13.479921340942383,
          -117.68168640136719,
          21.95146942138672,
          74.2317123413086,
          -47.76869201660156,
          72.12646484375,
          27.464859008789062,
          -19.42434310913086,
          60.31543731689453,
          35.07626724243164,
          -16.407102584838867,
          -84.31920623779297,
          -50.41190719604492,
          -1.899776577949524,
          -95.63933563232422,
          11.782234191894531,
          -58.115814208984375,
          -98.17060089111328,
          43.5496826171875,
          -20.43007469177246,
          1.3216763734817505,
          -13.4204683303833,
          17.363744735717773,
          4.428874492645264,
          41.49702072143555,
          -15.072070121765137,
          38.79291534423828,
          -60.94599151611328,
          -0.6979451179504395,
          -13.429327964782715,
          104.65739440917969
         ]
        },
        {
         "customdata": [
          [
           -1.2085894284862233
          ],
          [
           -0.787268267344896
          ],
          [
           -0.5978904858569547
          ],
          [
           -1.0465076469117656
          ],
          [
           0.04387599150560691
          ],
          [
           0.7465139005628937
          ],
          [
           0.33457700377103244
          ],
          [
           -0.34610269131931487
          ],
          [
           0.49810304412102857
          ],
          [
           -0.5277765940078609
          ],
          [
           0.944215275896814
          ],
          [
           -0.3645288218948704
          ],
          [
           0.7977876847003516
          ],
          [
           0.868379416069504
          ],
          [
           0.06329533338239843
          ],
          [
           -0.3086577228625308
          ],
          [
           0.9056622213252288
          ],
          [
           -0.8993142074745001
          ],
          [
           0.06883274416452194
          ],
          [
           0.4390652085043079
          ],
          [
           0.5245985161825586
          ],
          [
           0.811482938517783
          ],
          [
           0.8200539188128965
          ],
          [
           -0.042278688408772615
          ],
          [
           0.2932366753774251
          ],
          [
           1.1919913602090122
          ],
          [
           0.614473328947585
          ],
          [
           -0.622092837998272
          ],
          [
           0.251966017704842
          ],
          [
           -1.2250741838275714
          ],
          [
           -1.3867184279963425
          ],
          [
           -1.1939494076852135
          ],
          [
           0.34440717550854066
          ],
          [
           -2.3200134042849596
          ],
          [
           0.37367118049966896
          ],
          [
           0.7043027857275385
          ],
          [
           0.8079456862949277
          ],
          [
           -0.003869316309322331
          ],
          [
           -0.7000646278087902
          ],
          [
           -1.007780917763298
          ],
          [
           -0.11933369753518579
          ],
          [
           -0.40101191454074125
          ],
          [
           0.3661056930950817
          ],
          [
           -0.7782321862800349
          ],
          [
           2.3536329102087032
          ],
          [
           0.7765389064568803
          ],
          [
           -0.7439244393649985
          ],
          [
           -1.1548255771439946
          ],
          [
           0.7140172115400907
          ],
          [
           1.8188309527999473
          ],
          [
           -0.8160659999297561
          ],
          [
           -0.6706338665850256
          ],
          [
           0.15373884152948897
          ],
          [
           0.393388122488478
          ],
          [
           0.2808553856322902
          ],
          [
           -0.5895056165253256
          ],
          [
           1.133134271672507
          ],
          [
           0.7125538741261358
          ],
          [
           -1.3508050742045108
          ],
          [
           -0.8627661133946559
          ],
          [
           -0.3487013431335691
          ],
          [
           0.12077766320164739
          ],
          [
           -0.012854037652468196
          ],
          [
           0.09732761652798114
          ],
          [
           1.2842351802647272
          ],
          [
           2.1869835768431867
          ],
          [
           -0.06448005659096391
          ],
          [
           0.014148712622890101
          ],
          [
           -0.26401570586409
          ],
          [
           -0.11079260605814012
          ],
          [
           0.023040883845019445
          ],
          [
           -0.5523695083557453
          ],
          [
           0.5695197057912557
          ],
          [
           1.5950488540959273
          ],
          [
           1.8243122905637132
          ],
          [
           -0.7059293516575184
          ],
          [
           0.03709733592796404
          ],
          [
           -0.055660131715914996
          ],
          [
           -0.4272858983457901
          ],
          [
           0.05472702139422777
          ],
          [
           0.9782545422705501
          ],
          [
           0.4053133273315772
          ],
          [
           1.580073372925783
          ],
          [
           -0.4202443282721627
          ]
         ],
         "hoverlabel": {
          "namelength": 0
         },
         "hovertemplate": "Cluster=Cluster 2<br>0=%{x}<br>1=%{y}<br>2=%{z}<br>Feature=%{customdata[0]}",
         "legendgroup": "Cluster=Cluster 2",
         "marker": {
          "color": "#00cc96",
          "opacity": 0.7,
          "symbol": "circle"
         },
         "mode": "markers",
         "name": "Cluster=Cluster 2",
         "scene": "scene",
         "showlegend": true,
         "type": "scatter3d",
         "x": [
          -40.028358459472656,
          35.65119552612305,
          82.94434356689453,
          -87.19104766845703,
          48.669063568115234,
          -22.572580337524414,
          -31.824291229248047,
          -51.13764572143555,
          81.09715270996094,
          96.30142974853516,
          -0.1136246919631958,
          -83.81674194335938,
          118.35708618164062,
          102.10111236572266,
          -86.35584259033203,
          34.2130241394043,
          -30.96701431274414,
          -39.543296813964844,
          -16.667953491210938,
          14.529229164123535,
          69.61920166015625,
          -85.09656524658203,
          96.80607604980469,
          72.71332550048828,
          -33.788570404052734,
          2.39998722076416,
          -18.280792236328125,
          140.95176696777344,
          32.423587799072266,
          58.81128692626953,
          -31.421119689941406,
          19.818925857543945,
          59.837406158447266,
          11.640177726745605,
          -72.27810668945312,
          15.492436408996582,
          -20.77123260498047,
          -86.61868286132812,
          -28.25900650024414,
          -94.6430892944336,
          83.34078979492188,
          10.317462921142578,
          67.9424819946289,
          -38.628456115722656,
          42.996192932128906,
          -13.474796295166016,
          91.5650863647461,
          58.91619873046875,
          -9.228588104248047,
          -19.72947120666504,
          -7.549846172332764,
          32.09465408325195,
          35.10507583618164,
          76.7660903930664,
          52.98086166381836,
          22.85617446899414,
          -78.81840515136719,
          71.39888000488281,
          113.9400634765625,
          16.463558197021484,
          -1.8359887599945068,
          -63.90299606323242,
          135.47344970703125,
          -91.93753051757812,
          11.8964204788208,
          71.435302734375,
          84.12734985351562,
          62.456573486328125,
          -30.485666275024414,
          121.95851135253906,
          58.07487487792969,
          89.73870086669922,
          -67.20097351074219,
          29.33168601989746,
          -129.4532928466797,
          -76.52178955078125,
          -51.179481506347656,
          6.971354007720947,
          -147.68585205078125,
          -10.255561828613281,
          -39.853424072265625,
          111.2094497680664,
          6.709503173828125,
          -146.7970428466797
         ],
         "y": [
          -87.48397827148438,
          -91.12364959716797,
          40.091392517089844,
          -34.575321197509766,
          31.998098373413086,
          26.915489196777344,
          5.7949676513671875,
          26.437511444091797,
          20.930709838867188,
          109.34136199951172,
          -104.18988037109375,
          86.39106750488281,
          -40.0085334777832,
          -67.34581756591797,
          -89.89936828613281,
          38.029998779296875,
          -48.9062385559082,
          -74.96134185791016,
          -81.28095245361328,
          5.566755771636963,
          98.92993927001953,
          -12.693312644958496,
          30.99984359741211,
          22.77066993713379,
          -44.58388900756836,
          48.74199295043945,
          37.85153579711914,
          -25.040639877319336,
          -70.39383697509766,
          41.763484954833984,
          6.0087361335754395,
          24.183364868164062,
          -49.08655548095703,
          -87.4050521850586,
          19.464759826660156,
          72.90900421142578,
          126.67399597167969,
          -16.50257110595703,
          -149.5584716796875,
          41.33376693725586,
          107.09013366699219,
          41.486236572265625,
          7.551220893859863,
          113.55599212646484,
          -104.07219696044922,
          51.2325325012207,
          -53.23237991333008,
          28.097312927246094,
          71.23297119140625,
          53.87529373168945,
          -46.88272476196289,
          -7.915393352508545,
          -53.75994110107422,
          26.8433837890625,
          27.5891056060791,
          58.26585388183594,
          -130.58961486816406,
          3.9451920986175537,
          36.730072021484375,
          40.156639099121094,
          -39.09553146362305,
          -84.31725311279297,
          6.421046733856201,
          -4.309042453765869,
          52.703582763671875,
          2.209850311279297,
          52.292205810546875,
          28.295001983642578,
          -104.35774993896484,
          -78.22166442871094,
          95.06996154785156,
          0.21077176928520203,
          -92.8720703125,
          30.666597366333008,
          12.07145881652832,
          72.72628021240234,
          93.21643829345703,
          -95.28536987304688,
          44.17345428466797,
          -43.87635040283203,
          125.52294921875,
          13.414474487304688,
          18.019113540649414,
          5.268924236297607
         ],
         "z": [
          -1.77748703956604,
          115.828369140625,
          82.74945068359375,
          -92.58321380615234,
          -52.16868209838867,
          63.2706184387207,
          -81.64222717285156,
          -2.402756452560425,
          82.03395080566406,
          -36.510860443115234,
          34.9320068359375,
          90.63001251220703,
          24.29173469543457,
          13.936646461486816,
          -79.07866668701172,
          -36.19121551513672,
          -17.704004287719727,
          -101.08421325683594,
          -73.26558685302734,
          -105.07909393310547,
          -21.41385269165039,
          -77.78755187988281,
          30.663101196289062,
          -77.32022094726562,
          6.157370090484619,
          -96.873291015625,
          -23.396709442138672,
          63.49171447753906,
          94.4277114868164,
          20.969467163085938,
          -107.89871978759766,
          -117.47521209716797,
          122.36062622070312,
          63.00810241699219,
          -12.039901733398438,
          -17.172521591186523,
          28.672231674194336,
          31.294614791870117,
          13.326767921447754,
          -113.69637298583984,
          48.032955169677734,
          -49.566551208496094,
          -2.5876946449279785,
          -93.9045181274414,
          26.30508041381836,
          -68.73216247558594,
          -2.6454455852508545,
          -2.5415661334991455,
          -91.40929412841797,
          -38.10614013671875,
          -122.0082778930664,
          -120.27266693115234,
          106.16423034667969,
          56.32201385498047,
          77.90727996826172,
          -44.43464279174805,
          -13.822872161865234,
          94.77008056640625,
          58.93626403808594,
          -133.75355529785156,
          -1.374886393547058,
          -100.53337097167969,
          61.2132682800293,
          -109.38150787353516,
          -80.93070983886719,
          -24.337005615234375,
          31.7957763671875,
          36.370216369628906,
          -45.74232864379883,
          -44.218048095703125,
          -107.72393798828125,
          60.2524299621582,
          -73.46829223632812,
          48.33781051635742,
          -91.10877227783203,
          43.84882736206055,
          -74.41004943847656,
          -96.16738891601562,
          10.84278392791748,
          -77.858642578125,
          12.069537162780762,
          101.49435424804688,
          -28.775205612182617,
          56.16400146484375
         ]
        },
        {
         "customdata": [
          [
           -0.3183739305714041
          ],
          [
           -0.02951435725061857
          ],
          [
           -0.22191862965758372
          ],
          [
           -2.235861565723412
          ],
          [
           -1.5911926678032882
          ],
          [
           0.35920932066447514
          ],
          [
           -0.2604304715592651
          ],
          [
           -0.39738424087428775
          ],
          [
           0.7638281531594131
          ],
          [
           0.6428067522688516
          ],
          [
           0.39896952918332296
          ],
          [
           0.8650069509641418
          ],
          [
           1.6333608862973565
          ],
          [
           0.00015027103550535394
          ],
          [
           1.3254536682861555
          ],
          [
           2.2139048673135964
          ],
          [
           -0.21632070789309804
          ],
          [
           0.7691827055931926
          ],
          [
           -0.4060594714087398
          ],
          [
           -0.4687110798620175
          ],
          [
           -0.02137308479845754
          ],
          [
           1.2132379725609268
          ],
          [
           -1.3690845756925667
          ],
          [
           0.8488562248647475
          ],
          [
           -0.5140487536632548
          ],
          [
           -2.1902547364729394
          ],
          [
           -0.7756348269985375
          ],
          [
           1.477222792145142
          ],
          [
           0.49684496093779346
          ],
          [
           0.858844682345955
          ],
          [
           -0.8368465945939817
          ],
          [
           0.08216828915781445
          ],
          [
           0.12367073362945577
          ],
          [
           -0.09491408454121461
          ],
          [
           0.9127656374024679
          ],
          [
           -0.48716719143390036
          ],
          [
           -1.0037635387337944
          ],
          [
           -1.1334660501744978
          ],
          [
           1.3113455524009607
          ],
          [
           -2.0431617073565165
          ],
          [
           -2.407956282126115
          ],
          [
           0.09840375637007907
          ],
          [
           -0.8775266399448775
          ],
          [
           0.9226842381530027
          ],
          [
           1.0468231701686934
          ],
          [
           0.8838837315950453
          ],
          [
           0.9158302465209844
          ],
          [
           0.9616265956686997
          ],
          [
           1.7651620453566903
          ],
          [
           0.49125269471122934
          ],
          [
           -0.6660300690082319
          ],
          [
           -1.8095176053459652
          ],
          [
           -0.16752440081500458
          ],
          [
           0.020542390728363037
          ],
          [
           -0.12799861198446547
          ],
          [
           -1.100875641290957
          ],
          [
           0.7081951569973867
          ],
          [
           -0.06660278246086236
          ],
          [
           -1.4845647678833551
          ],
          [
           1.8055736908620008
          ],
          [
           1.0501519347428572
          ],
          [
           -0.4089909222972139
          ],
          [
           0.30446421800052087
          ],
          [
           0.0469115766744625
          ],
          [
           -1.9272950294252
          ],
          [
           -1.334972416269784
          ],
          [
           -0.09014299424966193
          ],
          [
           -1.9082363980715926
          ],
          [
           0.25302496414116477
          ],
          [
           1.1933179607264173
          ],
          [
           0.36209001495184834
          ],
          [
           -1.0598600509183926
          ],
          [
           0.14356211484303152
          ],
          [
           0.4540111737335666
          ],
          [
           1.2879594474539928
          ],
          [
           0.46309979686785563
          ]
         ],
         "hoverlabel": {
          "namelength": 0
         },
         "hovertemplate": "Cluster=Cluster 3<br>0=%{x}<br>1=%{y}<br>2=%{z}<br>Feature=%{customdata[0]}",
         "legendgroup": "Cluster=Cluster 3",
         "marker": {
          "color": "#ab63fa",
          "opacity": 0.7,
          "symbol": "circle"
         },
         "mode": "markers",
         "name": "Cluster=Cluster 3",
         "scene": "scene",
         "showlegend": true,
         "type": "scatter3d",
         "x": [
          26.578763961791992,
          -71.05620574951172,
          67.82215118408203,
          -79.01361083984375,
          91.33434295654297,
          -119.95478820800781,
          107.38888549804688,
          -110.676025390625,
          55.7844123840332,
          -57.31378936767578,
          105.3893051147461,
          -61.38422775268555,
          -88.74508666992188,
          -41.31706237792969,
          -20.38120460510254,
          -15.783614158630371,
          -53.34467315673828,
          -41.35995864868164,
          6.052519798278809,
          -24.459447860717773,
          78.55014038085938,
          89.81888580322266,
          125.80772399902344,
          -28.842145919799805,
          -85.25392150878906,
          -54.19745635986328,
          126.72623443603516,
          6.233573913574219,
          88.63275909423828,
          114.61837005615234,
          17.063302993774414,
          -40.34988784790039,
          -22.45852279663086,
          -58.427001953125,
          30.838247299194336,
          140.40028381347656,
          -20.36436653137207,
          -100.54451751708984,
          -102.94234466552734,
          -4.672545909881592,
          -77.34213256835938,
          -15.838018417358398,
          -33.05511474609375,
          -76.48446655273438,
          -36.82379913330078,
          138.14950561523438,
          44.28107452392578,
          81.56673431396484,
          -96.0891342163086,
          -153.58724975585938,
          -52.085906982421875,
          -5.4139885902404785,
          -43.2055549621582,
          -37.24942398071289,
          -15.987699508666992,
          82.89349365234375,
          66.51415252685547,
          13.928560256958008,
          -77.51740264892578,
          -13.574978828430176,
          28.380910873413086,
          32.478694915771484,
          -134.48684692382812,
          46.89227294921875,
          -72.76602172851562,
          -86.5973892211914,
          45.73210144042969,
          15.839993476867676,
          -15.449576377868652,
          -111.31539916992188,
          11.076250076293945,
          77.28775024414062,
          40.793033599853516,
          -43.93370056152344,
          -92.59010314941406,
          -83.56170654296875
         ],
         "y": [
          -123.59162902832031,
          -82.88549041748047,
          -130.2132568359375,
          -85.9055404663086,
          76.26387786865234,
          32.54185104370117,
          -24.176315307617188,
          -93.25452423095703,
          -143.48095703125,
          57.16633605957031,
          -107.98057556152344,
          -75.93363189697266,
          -69.60645294189453,
          -81.24483489990234,
          -16.552120208740234,
          131.0746307373047,
          -58.827301025390625,
          -114.02828979492188,
          -19.651214599609375,
          -100.25917053222656,
          61.72076416015625,
          -23.391265869140625,
          -52.06688690185547,
          -122.84548950195312,
          -50.84192657470703,
          57.971702575683594,
          -31.312091827392578,
          44.98698043823242,
          -97.97777557373047,
          -6.74977970123291,
          -138.95921325683594,
          99.96862030029297,
          74.46317291259766,
          37.20682144165039,
          -42.23904800415039,
          -13.576639175415039,
          -25.791213989257812,
          0.374759703874588,
          13.66562271118164,
          -52.55583572387695,
          65.48356628417969,
          -41.767887115478516,
          65.15330505371094,
          45.7181510925293,
          -91.97008514404297,
          -70.02034759521484,
          -145.64845275878906,
          79.47842407226562,
          -56.928306579589844,
          -45.75246047973633,
          104.06761169433594,
          -91.48937225341797,
          -36.259456634521484,
          -54.23197555541992,
          -71.10891723632812,
          53.694183349609375,
          -49.53308868408203,
          -41.5715446472168,
          -46.40434265136719,
          18.719345092773438,
          -56.58375549316406,
          -79.9183578491211,
          -65.93732452392578,
          -36.26484298706055,
          -10.807781219482422,
          44.86129379272461,
          21.836061477661133,
          -81.4273681640625,
          -41.08809280395508,
          -66.92716217041016,
          -21.045562744140625,
          -129.6048126220703,
          65.39045715332031,
          -65.70024871826172,
          -75.85433197021484,
          -53.86747741699219
         ],
         "z": [
          6.578092575073242,
          106.67278289794922,
          36.742530822753906,
          -4.882737636566162,
          9.704732894897461,
          70.10926055908203,
          79.4666976928711,
          4.650462627410889,
          -30.886613845825195,
          103.97159576416016,
          25.866514205932617,
          51.3108024597168,
          62.99371337890625,
          77.71287536621094,
          62.29633712768555,
          -20.822908401489258,
          92.62125396728516,
          85.34100341796875,
          92.96609497070312,
          110.5612564086914,
          4.3777995109558105,
          120.75149536132812,
          -94.9874038696289,
          -83.54753112792969,
          65.06898498535156,
          -2.1864233016967773,
          -9.691893577575684,
          140.41452026367188,
          -91.2945327758789,
          -115.9248046875,
          -48.76605224609375,
          111.3946762084961,
          -4.69407320022583,
          -31.81353187561035,
          71.72933959960938,
          22.541584014892578,
          24.373558044433594,
          7.647527694702148,
          -6.993586540222168,
          98.0232162475586,
          -37.38146209716797,
          41.72798538208008,
          -54.95258712768555,
          13.421736717224121,
          -67.17497253417969,
          -1.8680224418640137,
          74.69979858398438,
          91.1661605834961,
          83.64177703857422,
          -17.931278228759766,
          -42.06852722167969,
          100.64824676513672,
          65.66229248046875,
          66.62682342529297,
          75.62055206298828,
          -98.39916229248047,
          20.550933837890625,
          25.250682830810547,
          -26.344112396240234,
          123.2072525024414,
          -11.58498764038086,
          7.522071361541748,
          31.417226791381836,
          -107.03894805908203,
          121.02940368652344,
          98.03396606445312,
          16.61580467224121,
          22.594783782958984,
          80.42981719970703,
          16.82862091064453,
          58.049991607666016,
          5.256849765777588,
          -3.8685054779052734,
          -44.95725631713867,
          8.724575996398926,
          31.92412567138672
         ]
        },
        {
         "customdata": [
          [
           -0.48258260781601015
          ],
          [
           1.2909402333451496
          ],
          [
           1.0641877986770605
          ],
          [
           -1.1766548863536543
          ],
          [
           0.6810141514462386
          ],
          [
           -0.5266510855919599
          ],
          [
           0.19277785205233786
          ],
          [
           1.551165027669614
          ],
          [
           1.113066435197687
          ],
          [
           0.6642775470817232
          ],
          [
           -0.9742162391098712
          ],
          [
           0.40275086405971633
          ],
          [
           0.110131346804343
          ],
          [
           -0.17262661233587667
          ],
          [
           0.8417188215173792
          ],
          [
           0.8994386252581879
          ],
          [
           0.7737271942850237
          ],
          [
           0.40756961279624737
          ],
          [
           0.24546602046424104
          ],
          [
           0.660785846042529
          ],
          [
           -1.4765029771812894
          ],
          [
           -0.11834427913742655
          ],
          [
           -1.7632169013922596
          ],
          [
           0.2672390998838073
          ],
          [
           0.9245462063053427
          ],
          [
           -2.487104658348425
          ],
          [
           -1.4554339087196575
          ],
          [
           1.6921815664216397
          ],
          [
           -0.6532937400685961
          ],
          [
           1.0459294462426119
          ],
          [
           1.201840326745573
          ],
          [
           -0.5354837757924581
          ],
          [
           1.1421153687303227
          ],
          [
           0.7950659473081623
          ],
          [
           -1.3721685354739521
          ],
          [
           -0.10421369568347413
          ],
          [
           0.33864613069153904
          ],
          [
           0.8273985604734009
          ],
          [
           1.0071563395687517
          ],
          [
           -0.0411915353374651
          ],
          [
           -0.8647446090593885
          ],
          [
           -0.8690884735546218
          ],
          [
           0.7240588926308258
          ],
          [
           -0.9284694725910727
          ],
          [
           0.14740668903948737
          ],
          [
           -0.8474577303684014
          ],
          [
           -1.4123324553836345
          ],
          [
           2.4625203841151624
          ],
          [
           -0.14937778845038718
          ],
          [
           0.20419320120479756
          ],
          [
           1.1726767405065404
          ],
          [
           -0.8816572376793979
          ],
          [
           -0.6557456536409654
          ],
          [
           -0.15654648616374012
          ],
          [
           -0.31173857172826525
          ],
          [
           -0.8231108890751612
          ],
          [
           -1.575632055650651
          ],
          [
           1.7075679346092356
          ],
          [
           -1.7519742721831733
          ],
          [
           -0.5096434925066761
          ],
          [
           -0.6712672124269975
          ],
          [
           0.2393649479682817
          ],
          [
           1.4450707862370662
          ],
          [
           -1.941438898903822
          ],
          [
           -0.024611053000678926
          ],
          [
           0.09701649950217787
          ],
          [
           -0.48513854881369
          ],
          [
           1.4688223207242939
          ],
          [
           1.4247167508481298
          ],
          [
           -0.8021185729847669
          ],
          [
           -0.08032090074204866
          ],
          [
           -0.2321477438097011
          ],
          [
           -0.27197806408066305
          ],
          [
           -0.2411314829462155
          ],
          [
           0.38893866625833196
          ],
          [
           -1.0274283815705847
          ],
          [
           0.6638480293509069
          ],
          [
           1.3707593741744164
          ],
          [
           -0.019400575977385873
          ],
          [
           0.22050045269398286
          ],
          [
           -2.2159881581339116
          ],
          [
           -0.18351771988596266
          ],
          [
           -1.498654768888127
          ],
          [
           0.6729883819109564
          ],
          [
           -1.3200349468167263
          ],
          [
           -0.006139295287077606
          ],
          [
           -0.20238956716057482
          ],
          [
           -0.3195067839056818
          ],
          [
           1.7052010705046636
          ],
          [
           1.1011767095623077
          ],
          [
           1.0789682760191865
          ],
          [
           1.3309721677564552
          ],
          [
           0.3131403931391467
          ],
          [
           1.3605283622148143
          ],
          [
           -1.2513343851667584
          ],
          [
           0.1870868097824259
          ],
          [
           -1.3588504589974069
          ],
          [
           -0.4063465171978302
          ],
          [
           0.3942392046060162
          ],
          [
           0.31170260897040936
          ],
          [
           -0.48419007081846394
          ],
          [
           1.2943683880327943
          ]
         ],
         "hoverlabel": {
          "namelength": 0
         },
         "hovertemplate": "Cluster=Cluster 4<br>0=%{x}<br>1=%{y}<br>2=%{z}<br>Feature=%{customdata[0]}",
         "legendgroup": "Cluster=Cluster 4",
         "marker": {
          "color": "#FFA15A",
          "opacity": 0.7,
          "symbol": "circle"
         },
         "mode": "markers",
         "name": "Cluster=Cluster 4",
         "scene": "scene",
         "showlegend": true,
         "type": "scatter3d",
         "x": [
          56.67601013183594,
          -34.08209991455078,
          -23.524991989135742,
          96.50959014892578,
          -64.02509307861328,
          -15.369400978088379,
          -46.441375732421875,
          66.00971984863281,
          45.18954086303711,
          39.09371566772461,
          30.56704330444336,
          50.064918518066406,
          53.46256637573242,
          -118.11466979980469,
          50.54997253417969,
          48.129173278808594,
          48.44486999511719,
          2.9316322803497314,
          1.3183186054229736,
          -96.90801239013672,
          106.70466613769531,
          33.092376708984375,
          -15.637810707092285,
          -5.780784606933594,
          35.48725128173828,
          79.46617126464844,
          46.00410079956055,
          65.69094848632812,
          -39.67382049560547,
          -88.38331604003906,
          83.18335723876953,
          24.3380069732666,
          -2.959223508834839,
          87.36868286132812,
          3.7066948413848877,
          9.792393684387207,
          74.95403289794922,
          -109.64605712890625,
          -40.06800079345703,
          45.23507308959961,
          67.87300109863281,
          -19.254005432128906,
          -84.74185943603516,
          -72.90314483642578,
          -61.77653884887695,
          -59.069740295410156,
          65.19451904296875,
          -125.8655014038086,
          -34.30450439453125,
          -61.93854522705078,
          81.16697692871094,
          -32.51017761230469,
          85.6272201538086,
          -81.18517303466797,
          57.58335876464844,
          -61.40030288696289,
          -28.097625732421875,
          17.55876350402832,
          9.734040260314941,
          116.61083984375,
          -33.03339767456055,
          -132.7023468017578,
          58.643314361572266,
          -18.574121475219727,
          -29.118392944335938,
          125.40785217285156,
          41.97164535522461,
          -51.99321746826172,
          37.37328338623047,
          -14.156944274902344,
          -108.76773071289062,
          -119.6356201171875,
          -16.684833526611328,
          59.675506591796875,
          27.99456787109375,
          -39.00947189331055,
          97.34391021728516,
          -58.26261901855469,
          47.38953399658203,
          -44.10616683959961,
          49.63766860961914,
          94.5814437866211,
          45.65719985961914,
          74.08183288574219,
          -6.427610874176025,
          -95.04067993164062,
          58.47511672973633,
          68.9081039428711,
          -73.81806182861328,
          -152.29161071777344,
          120.5496826171875,
          149.1073760986328,
          -34.44382858276367,
          -43.251834869384766,
          -121.53860473632812,
          -70.15094757080078,
          47.40525436401367,
          134.8323211669922,
          -77.2424545288086,
          -1.990849256515503,
          -101.31182098388672,
          -125.70341491699219
         ],
         "y": [
          -96.00875091552734,
          25.457500457763672,
          97.30144500732422,
          -64.90275573730469,
          52.59916305541992,
          94.81632232666016,
          -40.01824188232422,
          4.4473395347595215,
          47.55916213989258,
          -80.48570251464844,
          -59.315528869628906,
          -106.90692901611328,
          -49.3623161315918,
          26.492231369018555,
          116.15535736083984,
          -93.05445861816406,
          67.3592300415039,
          -9.977958679199219,
          -93.18417358398438,
          31.420040130615234,
          -42.549964904785156,
          -35.79152297973633,
          63.74040985107422,
          -104.80554962158203,
          132.9836883544922,
          -62.66486740112305,
          89.8504638671875,
          104.6553955078125,
          75.8346176147461,
          61.101566314697266,
          -109.12689208984375,
          -57.22481155395508,
          23.229963302612305,
          -84.86375427246094,
          -80.85844421386719,
          -162.6345977783203,
          -62.66291427612305,
          5.704876899719238,
          124.28607177734375,
          103.55633544921875,
          79.1718521118164,
          -111.21411895751953,
          -101.14015197753906,
          -107.04387664794922,
          39.46293258666992,
          -34.92078399658203,
          72.53715515136719,
          -48.51909255981445,
          9.978292465209961,
          -56.07551574707031,
          -65.3326187133789,
          -22.353925704956055,
          -0.6732749938964844,
          43.92168045043945,
          -97.93382263183594,
          -24.76055908203125,
          126.93818664550781,
          79.30996704101562,
          -54.60907745361328,
          52.76618576049805,
          -142.80662536621094,
          12.994726181030273,
          18.68811798095703,
          5.891320705413818,
          -34.903724670410156,
          93.45817565917969,
          -21.85858726501465,
          -23.669965744018555,
          -107.08760070800781,
          -24.64093017578125,
          68.49099731445312,
          -52.90243911743164,
          -73.40007019042969,
          -112.56304931640625,
          -118.31371307373047,
          29.612815856933594,
          -92.7528076171875,
          71.16212463378906,
          68.69307708740234,
          -52.81914520263672,
          -17.981306076049805,
          119.68346405029297,
          120.22325134277344,
          -84.69195556640625,
          12.645783424377441,
          -77.80413818359375,
          115.15127563476562,
          -80.46703338623047,
          94.85009002685547,
          -11.9339017868042,
          5.233205318450928,
          41.95342254638672,
          -128.07070922851562,
          -5.475107669830322,
          96.94447326660156,
          -41.89829635620117,
          -70.52764129638672,
          19.757396697998047,
          87.92684936523438,
          8.80015754699707,
          -49.389225006103516,
          43.18038558959961
         ],
         "z": [
          -16.40810775756836,
          -52.20576477050781,
          -31.46567153930664,
          82.17367553710938,
          74.42658996582031,
          -70.11537170410156,
          -92.27357482910156,
          -65.39693450927734,
          69.9512710571289,
          51.91362762451172,
          -130.0956268310547,
          78.63068389892578,
          -57.2323112487793,
          108.09284210205078,
          76.82986450195312,
          -93.7958984375,
          -66.1031494140625,
          -131.7432098388672,
          -14.789140701293945,
          28.519594192504883,
          -36.80744552612305,
          -77.07864379882812,
          -121.1415786743164,
          0.9256383776664734,
          -25.204275131225586,
          -35.19678497314453,
          -41.10160446166992,
          23.197494506835938,
          -106.28861999511719,
          -14.3269681930542,
          75.83264923095703,
          -49.105751037597656,
          -80.19644927978516,
          104.2783432006836,
          -42.23482131958008,
          -11.98603630065918,
          -113.05757141113281,
          45.13722610473633,
          60.678192138671875,
          98.06429290771484,
          37.711181640625,
          60.48373794555664,
          33.14978790283203,
          51.992252349853516,
          -98.93755340576172,
          -34.85734558105469,
          -22.765317916870117,
          -47.53110122680664,
          13.506598472595215,
          -129.4807891845703,
          -70.12169647216797,
          -57.741825103759766,
          -51.51435852050781,
          50.16996765136719,
          -63.603965759277344,
          16.469654083251953,
          -58.75400161743164,
          -121.78871154785156,
          54.889556884765625,
          -74.2494125366211,
          -30.34079360961914,
          18.241952896118164,
          -132.63760375976562,
          35.41492462158203,
          117.31121063232422,
          -6.541542053222656,
          87.28864288330078,
          143.91732788085938,
          -75.83659362792969,
          124.88179779052734,
          65.1144790649414,
          -87.62909698486328,
          42.94282531738281,
          -7.643639087677002,
          53.7259407043457,
          89.59584045410156,
          -11.292093276977539,
          19.864463806152344,
          82.715576171875,
          -71.11680603027344,
          -77.6739501953125,
          5.622683525085449,
          -55.0628547668457,
          38.1086540222168,
          -55.75343322753906,
          -44.37891387939453,
          -17.00651741027832,
          10.925586700439453,
          -100.7476806640625,
          18.943092346191406,
          -62.060184478759766,
          -16.138551712036133,
          -15.029411315917969,
          -43.151668548583984,
          -20.287458419799805,
          -57.52501678466797,
          -47.6171760559082,
          -73.73735046386719,
          0.941963255405426,
          52.462242126464844,
          -44.94833755493164,
          46.62302780151367
         ]
        }
       ],
       "layout": {
        "height": 800,
        "legend": {
         "tracegroupgap": 0
        },
        "scene": {
         "domain": {
          "x": [
           0,
           1
          ],
          "y": [
           0,
           1
          ]
         },
         "xaxis": {
          "title": {
           "text": "0"
          }
         },
         "yaxis": {
          "title": {
           "text": "1"
          }
         },
         "zaxis": {
          "title": {
           "text": "2"
          }
         }
        },
        "template": {
         "data": {
          "bar": [
           {
            "error_x": {
             "color": "#2a3f5f"
            },
            "error_y": {
             "color": "#2a3f5f"
            },
            "marker": {
             "line": {
              "color": "#E5ECF6",
              "width": 0.5
             }
            },
            "type": "bar"
           }
          ],
          "barpolar": [
           {
            "marker": {
             "line": {
              "color": "#E5ECF6",
              "width": 0.5
             }
            },
            "type": "barpolar"
           }
          ],
          "carpet": [
           {
            "aaxis": {
             "endlinecolor": "#2a3f5f",
             "gridcolor": "white",
             "linecolor": "white",
             "minorgridcolor": "white",
             "startlinecolor": "#2a3f5f"
            },
            "baxis": {
             "endlinecolor": "#2a3f5f",
             "gridcolor": "white",
             "linecolor": "white",
             "minorgridcolor": "white",
             "startlinecolor": "#2a3f5f"
            },
            "type": "carpet"
           }
          ],
          "choropleth": [
           {
            "colorbar": {
             "outlinewidth": 0,
             "ticks": ""
            },
            "type": "choropleth"
           }
          ],
          "contour": [
           {
            "colorbar": {
             "outlinewidth": 0,
             "ticks": ""
            },
            "colorscale": [
             [
              0,
              "#0d0887"
             ],
             [
              0.1111111111111111,
              "#46039f"
             ],
             [
              0.2222222222222222,
              "#7201a8"
             ],
             [
              0.3333333333333333,
              "#9c179e"
             ],
             [
              0.4444444444444444,
              "#bd3786"
             ],
             [
              0.5555555555555556,
              "#d8576b"
             ],
             [
              0.6666666666666666,
              "#ed7953"
             ],
             [
              0.7777777777777778,
              "#fb9f3a"
             ],
             [
              0.8888888888888888,
              "#fdca26"
             ],
             [
              1,
              "#f0f921"
             ]
            ],
            "type": "contour"
           }
          ],
          "contourcarpet": [
           {
            "colorbar": {
             "outlinewidth": 0,
             "ticks": ""
            },
            "type": "contourcarpet"
           }
          ],
          "heatmap": [
           {
            "colorbar": {
             "outlinewidth": 0,
             "ticks": ""
            },
            "colorscale": [
             [
              0,
              "#0d0887"
             ],
             [
              0.1111111111111111,
              "#46039f"
             ],
             [
              0.2222222222222222,
              "#7201a8"
             ],
             [
              0.3333333333333333,
              "#9c179e"
             ],
             [
              0.4444444444444444,
              "#bd3786"
             ],
             [
              0.5555555555555556,
              "#d8576b"
             ],
             [
              0.6666666666666666,
              "#ed7953"
             ],
             [
              0.7777777777777778,
              "#fb9f3a"
             ],
             [
              0.8888888888888888,
              "#fdca26"
             ],
             [
              1,
              "#f0f921"
             ]
            ],
            "type": "heatmap"
           }
          ],
          "heatmapgl": [
           {
            "colorbar": {
             "outlinewidth": 0,
             "ticks": ""
            },
            "colorscale": [
             [
              0,
              "#0d0887"
             ],
             [
              0.1111111111111111,
              "#46039f"
             ],
             [
              0.2222222222222222,
              "#7201a8"
             ],
             [
              0.3333333333333333,
              "#9c179e"
             ],
             [
              0.4444444444444444,
              "#bd3786"
             ],
             [
              0.5555555555555556,
              "#d8576b"
             ],
             [
              0.6666666666666666,
              "#ed7953"
             ],
             [
              0.7777777777777778,
              "#fb9f3a"
             ],
             [
              0.8888888888888888,
              "#fdca26"
             ],
             [
              1,
              "#f0f921"
             ]
            ],
            "type": "heatmapgl"
           }
          ],
          "histogram": [
           {
            "marker": {
             "colorbar": {
              "outlinewidth": 0,
              "ticks": ""
             }
            },
            "type": "histogram"
           }
          ],
          "histogram2d": [
           {
            "colorbar": {
             "outlinewidth": 0,
             "ticks": ""
            },
            "colorscale": [
             [
              0,
              "#0d0887"
             ],
             [
              0.1111111111111111,
              "#46039f"
             ],
             [
              0.2222222222222222,
              "#7201a8"
             ],
             [
              0.3333333333333333,
              "#9c179e"
             ],
             [
              0.4444444444444444,
              "#bd3786"
             ],
             [
              0.5555555555555556,
              "#d8576b"
             ],
             [
              0.6666666666666666,
              "#ed7953"
             ],
             [
              0.7777777777777778,
              "#fb9f3a"
             ],
             [
              0.8888888888888888,
              "#fdca26"
             ],
             [
              1,
              "#f0f921"
             ]
            ],
            "type": "histogram2d"
           }
          ],
          "histogram2dcontour": [
           {
            "colorbar": {
             "outlinewidth": 0,
             "ticks": ""
            },
            "colorscale": [
             [
              0,
              "#0d0887"
             ],
             [
              0.1111111111111111,
              "#46039f"
             ],
             [
              0.2222222222222222,
              "#7201a8"
             ],
             [
              0.3333333333333333,
              "#9c179e"
             ],
             [
              0.4444444444444444,
              "#bd3786"
             ],
             [
              0.5555555555555556,
              "#d8576b"
             ],
             [
              0.6666666666666666,
              "#ed7953"
             ],
             [
              0.7777777777777778,
              "#fb9f3a"
             ],
             [
              0.8888888888888888,
              "#fdca26"
             ],
             [
              1,
              "#f0f921"
             ]
            ],
            "type": "histogram2dcontour"
           }
          ],
          "mesh3d": [
           {
            "colorbar": {
             "outlinewidth": 0,
             "ticks": ""
            },
            "type": "mesh3d"
           }
          ],
          "parcoords": [
           {
            "line": {
             "colorbar": {
              "outlinewidth": 0,
              "ticks": ""
             }
            },
            "type": "parcoords"
           }
          ],
          "pie": [
           {
            "automargin": true,
            "type": "pie"
           }
          ],
          "scatter": [
           {
            "marker": {
             "colorbar": {
              "outlinewidth": 0,
              "ticks": ""
             }
            },
            "type": "scatter"
           }
          ],
          "scatter3d": [
           {
            "line": {
             "colorbar": {
              "outlinewidth": 0,
              "ticks": ""
             }
            },
            "marker": {
             "colorbar": {
              "outlinewidth": 0,
              "ticks": ""
             }
            },
            "type": "scatter3d"
           }
          ],
          "scattercarpet": [
           {
            "marker": {
             "colorbar": {
              "outlinewidth": 0,
              "ticks": ""
             }
            },
            "type": "scattercarpet"
           }
          ],
          "scattergeo": [
           {
            "marker": {
             "colorbar": {
              "outlinewidth": 0,
              "ticks": ""
             }
            },
            "type": "scattergeo"
           }
          ],
          "scattergl": [
           {
            "marker": {
             "colorbar": {
              "outlinewidth": 0,
              "ticks": ""
             }
            },
            "type": "scattergl"
           }
          ],
          "scattermapbox": [
           {
            "marker": {
             "colorbar": {
              "outlinewidth": 0,
              "ticks": ""
             }
            },
            "type": "scattermapbox"
           }
          ],
          "scatterpolar": [
           {
            "marker": {
             "colorbar": {
              "outlinewidth": 0,
              "ticks": ""
             }
            },
            "type": "scatterpolar"
           }
          ],
          "scatterpolargl": [
           {
            "marker": {
             "colorbar": {
              "outlinewidth": 0,
              "ticks": ""
             }
            },
            "type": "scatterpolargl"
           }
          ],
          "scatterternary": [
           {
            "marker": {
             "colorbar": {
              "outlinewidth": 0,
              "ticks": ""
             }
            },
            "type": "scatterternary"
           }
          ],
          "surface": [
           {
            "colorbar": {
             "outlinewidth": 0,
             "ticks": ""
            },
            "colorscale": [
             [
              0,
              "#0d0887"
             ],
             [
              0.1111111111111111,
              "#46039f"
             ],
             [
              0.2222222222222222,
              "#7201a8"
             ],
             [
              0.3333333333333333,
              "#9c179e"
             ],
             [
              0.4444444444444444,
              "#bd3786"
             ],
             [
              0.5555555555555556,
              "#d8576b"
             ],
             [
              0.6666666666666666,
              "#ed7953"
             ],
             [
              0.7777777777777778,
              "#fb9f3a"
             ],
             [
              0.8888888888888888,
              "#fdca26"
             ],
             [
              1,
              "#f0f921"
             ]
            ],
            "type": "surface"
           }
          ],
          "table": [
           {
            "cells": {
             "fill": {
              "color": "#EBF0F8"
             },
             "line": {
              "color": "white"
             }
            },
            "header": {
             "fill": {
              "color": "#C8D4E3"
             },
             "line": {
              "color": "white"
             }
            },
            "type": "table"
           }
          ]
         },
         "layout": {
          "annotationdefaults": {
           "arrowcolor": "#2a3f5f",
           "arrowhead": 0,
           "arrowwidth": 1
          },
          "coloraxis": {
           "colorbar": {
            "outlinewidth": 0,
            "ticks": ""
           }
          },
          "colorscale": {
           "diverging": [
            [
             0,
             "#8e0152"
            ],
            [
             0.1,
             "#c51b7d"
            ],
            [
             0.2,
             "#de77ae"
            ],
            [
             0.3,
             "#f1b6da"
            ],
            [
             0.4,
             "#fde0ef"
            ],
            [
             0.5,
             "#f7f7f7"
            ],
            [
             0.6,
             "#e6f5d0"
            ],
            [
             0.7,
             "#b8e186"
            ],
            [
             0.8,
             "#7fbc41"
            ],
            [
             0.9,
             "#4d9221"
            ],
            [
             1,
             "#276419"
            ]
           ],
           "sequential": [
            [
             0,
             "#0d0887"
            ],
            [
             0.1111111111111111,
             "#46039f"
            ],
            [
             0.2222222222222222,
             "#7201a8"
            ],
            [
             0.3333333333333333,
             "#9c179e"
            ],
            [
             0.4444444444444444,
             "#bd3786"
            ],
            [
             0.5555555555555556,
             "#d8576b"
            ],
            [
             0.6666666666666666,
             "#ed7953"
            ],
            [
             0.7777777777777778,
             "#fb9f3a"
            ],
            [
             0.8888888888888888,
             "#fdca26"
            ],
            [
             1,
             "#f0f921"
            ]
           ],
           "sequentialminus": [
            [
             0,
             "#0d0887"
            ],
            [
             0.1111111111111111,
             "#46039f"
            ],
            [
             0.2222222222222222,
             "#7201a8"
            ],
            [
             0.3333333333333333,
             "#9c179e"
            ],
            [
             0.4444444444444444,
             "#bd3786"
            ],
            [
             0.5555555555555556,
             "#d8576b"
            ],
            [
             0.6666666666666666,
             "#ed7953"
            ],
            [
             0.7777777777777778,
             "#fb9f3a"
            ],
            [
             0.8888888888888888,
             "#fdca26"
            ],
            [
             1,
             "#f0f921"
            ]
           ]
          },
          "colorway": [
           "#636efa",
           "#EF553B",
           "#00cc96",
           "#ab63fa",
           "#FFA15A",
           "#19d3f3",
           "#FF6692",
           "#B6E880",
           "#FF97FF",
           "#FECB52"
          ],
          "font": {
           "color": "#2a3f5f"
          },
          "geo": {
           "bgcolor": "white",
           "lakecolor": "white",
           "landcolor": "#E5ECF6",
           "showlakes": true,
           "showland": true,
           "subunitcolor": "white"
          },
          "hoverlabel": {
           "align": "left"
          },
          "hovermode": "closest",
          "mapbox": {
           "style": "light"
          },
          "paper_bgcolor": "white",
          "plot_bgcolor": "#E5ECF6",
          "polar": {
           "angularaxis": {
            "gridcolor": "white",
            "linecolor": "white",
            "ticks": ""
           },
           "bgcolor": "#E5ECF6",
           "radialaxis": {
            "gridcolor": "white",
            "linecolor": "white",
            "ticks": ""
           }
          },
          "scene": {
           "xaxis": {
            "backgroundcolor": "#E5ECF6",
            "gridcolor": "white",
            "gridwidth": 2,
            "linecolor": "white",
            "showbackground": true,
            "ticks": "",
            "zerolinecolor": "white"
           },
           "yaxis": {
            "backgroundcolor": "#E5ECF6",
            "gridcolor": "white",
            "gridwidth": 2,
            "linecolor": "white",
            "showbackground": true,
            "ticks": "",
            "zerolinecolor": "white"
           },
           "zaxis": {
            "backgroundcolor": "#E5ECF6",
            "gridcolor": "white",
            "gridwidth": 2,
            "linecolor": "white",
            "showbackground": true,
            "ticks": "",
            "zerolinecolor": "white"
           }
          },
          "shapedefaults": {
           "line": {
            "color": "#2a3f5f"
           }
          },
          "ternary": {
           "aaxis": {
            "gridcolor": "white",
            "linecolor": "white",
            "ticks": ""
           },
           "baxis": {
            "gridcolor": "white",
            "linecolor": "white",
            "ticks": ""
           },
           "bgcolor": "#E5ECF6",
           "caxis": {
            "gridcolor": "white",
            "linecolor": "white",
            "ticks": ""
           }
          },
          "title": {
           "x": 0.05
          },
          "xaxis": {
           "automargin": true,
           "gridcolor": "white",
           "linecolor": "white",
           "ticks": "",
           "title": {
            "standoff": 15
           },
           "zerolinecolor": "white",
           "zerolinewidth": 2
          },
          "yaxis": {
           "automargin": true,
           "gridcolor": "white",
           "linecolor": "white",
           "ticks": "",
           "title": {
            "standoff": 15
           },
           "zerolinecolor": "white",
           "zerolinewidth": 2
          }
         }
        },
        "title": {
         "text": "3d TSNE Plot for Clusters"
        },
        "width": 900
       }
      },
      "text/html": "<div>\n        \n        \n            <div id=\"742659c6-2dd8-45c9-be4e-eb8296fd7a6a\" class=\"plotly-graph-div\" style=\"height:800px; width:900px;\"></div>\n            <script type=\"text/javascript\">\n                require([\"plotly\"], function(Plotly) {\n                    window.PLOTLYENV=window.PLOTLYENV || {};\n                    \n                if (document.getElementById(\"742659c6-2dd8-45c9-be4e-eb8296fd7a6a\")) {\n                    Plotly.newPlot(\n                        '742659c6-2dd8-45c9-be4e-eb8296fd7a6a',\n                        [{\"customdata\": [[0.1989134183137831], [1.499282428244103], [0.907832558569684], [0.46686643888181745], [0.4239484314482108], [0.46671881495853274], [0.23455074102356732], [-0.39264945021896924], [-0.23480085080594582], [0.14811306516563208], [0.7103473038598006], [1.4885028118854795], [-0.08789371894920797], [-2.0687894195685543], [-0.598544356771403], [-3.109365472873019], [-0.07294981183217795], [-0.37318725824800847], [-0.4116115127138318], [-0.2514725278179727], [1.6622955914928568], [-0.13262038241479274], [-0.7314556908269894], [0.41733956463540983], [-0.38572230444422373], [-0.11792365217465366], [1.2520265286639787], [0.3901478068997687], [0.4089763491531486], [0.9361424489999619], [-0.027671736496154186], [1.8924212266541172], [-3.0023871344453705], [1.1112970551743917], [2.2479587220183093], [0.3881643913390516], [-0.9080885995241701], [0.25646666007657465], [-0.22130742900300537], [-0.46980785130064423], [1.0950335301503475], [0.8340053467667256], [-0.1272644958364888], [0.0929212791032259], [-1.904341067955119], [-1.5609661151252097], [1.2460027810520693], [0.965863575429149], [-0.7814136321611825], [-0.12740179353045836], [-0.3799441285395706], [0.8660783009358252], [-0.2602601534015177], [0.17063393893226703], [0.11518091265054212], [0.8545933038413556], [-0.24022235322821273], [-0.29077873518208397], [0.609011036160001], [0.354160707884782], [-1.5682784296394523], [-2.5927638698814772], [0.6858891207746206], [-0.6414564595378839], [0.3863670270346669], [-0.2806805025658953], [0.3167427057653993], [-3.231179245538577], [-0.43336076658212824], [-0.6138832490257837], [0.2617243480014088], [-1.1521981547707385], [-0.8506660044740565], [-1.963825691183579], [0.8394352648515033], [0.6893371457636785], [-0.10713017099900425], [-0.40698487711032855], [-0.3075706029232516], [-1.6552406364453478], [1.0994438469142247], [0.4827631619225742], [0.06137817171823405], [0.7664954248986279], [0.45735182250660056], [-0.4209827108767675], [-2.5170240073457384], [0.4238166839146955], [0.6943366827221684], [-0.5978261484527609], [0.8486371718258235], [-0.332664167913485], [-0.5353436085906226], [-0.5490603491060876], [-2.7365703687811807], [0.6398429209838484]], \"hoverlabel\": {\"namelength\": 0}, \"hovertemplate\": \"Cluster=Cluster 0<br>0=%{x}<br>1=%{y}<br>2=%{z}<br>Feature=%{customdata[0]}\", \"legendgroup\": \"Cluster=Cluster 0\", \"marker\": {\"color\": \"#636efa\", \"opacity\": 0.7, \"symbol\": \"circle\"}, \"mode\": \"markers\", \"name\": \"Cluster=Cluster 0\", \"scene\": \"scene\", \"showlegend\": true, \"type\": \"scatter3d\", \"x\": [-60.53382873535156, -77.6728744506836, -61.044891357421875, 96.73741912841797, 1.7127257585525513, -5.131511211395264, -103.7577896118164, -14.316230773925781, -21.05248260498047, 9.274412155151367, -62.48409652709961, 47.85668182373047, -24.690404891967773, 93.9137954711914, 29.401805877685547, 131.7965545654297, -90.9480209350586, -2.3845510482788086, -13.510335922241211, -38.756919860839844, 28.653690338134766, 0.7012122273445129, -77.60997772216797, 28.876188278198242, 145.78228759765625, -81.84339904785156, 6.6449174880981445, 33.70582962036133, -68.83663177490234, 13.497221946716309, 3.6444385051727295, 9.868693351745605, -118.98152160644531, -37.78173065185547, 136.22718811035156, -11.072128295898438, -10.010960578918457, 49.060630798339844, 30.485036849975586, 13.9185152053833, -114.4241943359375, 6.169803142547607, -56.072513580322266, 28.560199737548828, 43.094810485839844, 35.87691116333008, 28.975074768066406, -77.09483337402344, -136.9598846435547, -93.93048858642578, -31.418912887573242, 24.869760513305664, -54.85808181762695, -80.54879760742188, -42.587425231933594, 79.86174774169922, -55.11727523803711, 3.33237624168396, 113.44692993164062, 89.53713989257812, -104.90005493164062, -47.50641632080078, -21.429357528686523, 33.64658737182617, 151.03268432617188, 34.911678314208984, 80.11619567871094, -99.75914764404297, 54.373043060302734, -24.507230758666992, 27.30695152282715, -20.768617630004883, -103.71731567382812, -53.44858169555664, -57.840538024902344, -126.65141296386719, -128.64102172851562, 102.62200927734375, 62.13016891479492, 127.89115142822266, 19.51325225830078, 41.49847412109375, 95.50775146484375, 46.483219146728516, -60.6595344543457, 97.5279312133789, 62.78126907348633, -49.40421676635742, 9.377729415893555, 9.261045455932617, -47.28871536254883, 89.4028091430664, -10.736833572387695, -131.51522827148438, -43.417091369628906, -8.702311515808105], \"y\": [-24.510957717895508, 54.47581100463867, -9.458849906921387, 36.760498046875, -121.88581085205078, -137.11337280273438, -21.797880172729492, -52.514705657958984, -18.9049072265625, 32.2276725769043, 103.6839599609375, -7.341339588165283, 28.88591194152832, -34.01885986328125, 32.862709045410156, -44.70767593383789, 11.185079574584961, -69.82035064697266, 10.41808032989502, 61.30739974975586, -6.390814781188965, -1.5879979133605957, -15.60041332244873, 0.5494598746299744, -13.77683162689209, 11.01619815826416, 131.3665771484375, 13.61094856262207, 2.84470272064209, -56.090057373046875, -7.567988395690918, -34.37657165527344, 61.556243896484375, 50.1817741394043, 31.227811813354492, -42.36811065673828, 7.672044277191162, 56.225711822509766, -18.73941421508789, 79.89714050292969, -14.306506156921387, -24.34967613220215, -24.074134826660156, 0.873345136642456, 39.854591369628906, -26.34092140197754, -31.850425720214844, -4.8614606857299805, 35.60932540893555, -14.800457000732422, 173.6179656982422, 6.016373634338379, -44.61740493774414, 99.48870849609375, 4.20724630355835, 12.166838645935059, 7.560638904571533, 59.37603759765625, 8.722761154174805, -15.15311336517334, -14.368620872497559, 32.29988098144531, -19.28092384338379, -39.106475830078125, -1.875074028968811, -54.732398986816406, -24.552736282348633, 102.26364135742188, -22.869056701660156, -76.00222778320312, 102.74821472167969, 51.93971252441406, 74.69918823242188, 23.807044982910156, -71.03144073486328, 54.97907257080078, -91.23967742919922, 73.71630859375, -28.225814819335938, 28.08911895751953, -11.8866548538208, 10.62247085571289, 9.877220153808594, 2.251948833465576, 13.329300880432129, 31.89482879638672, 40.738189697265625, -20.932523727416992, -141.77499389648438, -60.860076904296875, 27.56273651123047, -20.691728591918945, -4.862970352172852, -4.301907062530518, -9.486113548278809, 163.35472106933594], \"z\": [92.77983856201172, -128.54664611816406, -67.61161041259766, -22.221540451049805, -53.67841339111328, 24.371971130371094, 105.90306091308594, -40.32855987548828, -20.2471981048584, -2.0677385330200195, 39.021366119384766, 18.553329467773438, 10.035933494567871, -88.05779266357422, -13.74194622039795, -61.49494934082031, 77.60804748535156, 136.3963165283203, -136.41024780273438, 50.961544036865234, 117.55430603027344, 91.41606903076172, 64.65338897705078, -41.97804641723633, -58.89442825317383, -48.41886901855469, -53.83418273925781, 36.490116119384766, 61.36454391479492, -95.8409423828125, 18.257030487060547, -33.792747497558594, -83.42439270019531, 32.50654983520508, 19.382200241088867, -147.54066467285156, -4.565430164337158, -116.60753631591797, -56.592647552490234, 92.6081771850586, 89.82008361816406, -59.82970428466797, -16.594921112060547, -0.4247138202190399, -88.26759338378906, -19.72391700744629, 9.00287914276123, -21.960294723510742, -51.179779052734375, -35.65586471557617, 152.92149353027344, 72.83162689208984, 37.062171936035156, -30.305694580078125, 72.34442138671875, -120.2922592163086, -132.0263671875, -4.365421295166016, -23.190351486206055, -83.64207458496094, -69.70590209960938, 37.665157318115234, -108.8709716796875, -34.252227783203125, -20.589508056640625, 29.657970428466797, -59.33865737915039, 51.7930908203125, -148.7263946533203, -22.804479598999023, -4.033341884613037, 19.243677139282227, -48.116336822509766, 61.014129638671875, -32.58359146118164, -17.390884399414062, -30.44032096862793, 60.09956359863281, -24.301725387573242, -34.51919937133789, 41.22211456298828, -26.9414119720459, -88.02722930908203, 63.323020935058594, 84.39512634277344, -41.29901885986328, -20.520549774169922, -128.2403106689453, 46.26929473876953, -18.944120407104492, 132.08282470703125, -9.432039260864258, -41.13972091674805, -51.28614044189453, 5.334921360015869, -12.821714401245117]}, {\"customdata\": [[0.8276564211952814], [0.25917577216832843], [0.5187125731859836], [-0.3359511924691319], [0.14463095188661626], [-0.42202867006368855], [-0.7824811092346083], [-2.4183893929742464], [0.8731205237021274], [0.6169197935943666], [1.8686165994699688], [0.945452136209644], [-0.6382228039593283], [1.821566915425819], [-1.887168722125577], [-3.21466533471976], [0.7137221628179744], [-0.7134544640629344], [0.18365652881200134], [0.8704856973971593], [-0.7182812508549592], [0.5391930579937024], [1.2692754833123943], [-1.7971060664041858], [0.29285148403732164], [-0.32298021768695345], [-0.07854399841505319], [-1.8299179737801732], [1.9439350337718337], [-0.48301744890796194], [0.604662885999015], [-0.9058639731531113], [-0.5476139297115261], [-0.4893826350906889], [-0.262433691224295], [-0.3007511069573523], [0.025919129858958098], [1.2416785043018859], [0.5296267526182864], [0.17736513823993066], [0.7869298441146823], [-0.16970360153816752], [-1.3633930941426182], [0.3145502519911013], [0.2740250433941952], [-0.03781833808561641], [-0.4683179965713819], [0.00023933919760027843], [-0.6846073111377906], [0.5737744993950356], [0.032755208960812666], [-0.25336748445886575], [0.2525163162731246], [0.43012969535279466], [-0.42421472123254905], [0.5482590629683834], [-0.03935627603091615], [-0.6283927624093816], [1.5708884947237358], [0.22956214172024322], [-0.048081046769168925], [0.017295094630673132], [0.5182203534234814], [-2.674948610830452], [-0.32218355546051836], [1.3165313232948581], [-1.6279693351287312], [-0.3963796225616083], [-0.5758916728920682], [0.4823438752846045], [1.944210330540385], [0.05776783139928011], [-0.09701999876634751], [1.4314826662261222], [0.31632409095399605], [-0.2693510473615264], [0.2269381518110111], [-0.2636983371688864], [0.5901772743319594], [-0.8668268570333555], [1.8570922392031628], [-0.5636398752667817], [0.9930471850836778], [0.29425748526835527], [0.6052381727663134], [0.8385924710611696], [0.3084147768813575], [-0.36034944163342286], [0.6412381036688372], [0.4769279356653913], [-0.6725768689662224], [-1.195524685907561], [0.5267778471472767], [-0.6816003767162608], [0.7026572344869855], [-3.043346023802656], [-0.5008493130696107], [0.838115819108892], [-0.8528300900792961], [-0.2810317368375153]], \"hoverlabel\": {\"namelength\": 0}, \"hovertemplate\": \"Cluster=Cluster 1<br>0=%{x}<br>1=%{y}<br>2=%{z}<br>Feature=%{customdata[0]}\", \"legendgroup\": \"Cluster=Cluster 1\", \"marker\": {\"color\": \"#EF553B\", \"opacity\": 0.7, \"symbol\": \"circle\"}, \"mode\": \"markers\", \"name\": \"Cluster=Cluster 1\", \"scene\": \"scene\", \"showlegend\": true, \"type\": \"scatter3d\", \"x\": [-17.808433532714844, 117.28692626953125, -11.770411491394043, -135.45111083984375, -44.2100944519043, -61.84711837768555, -78.3537368774414, 73.1088638305664, 45.57633972167969, 22.17943572998047, 122.58500671386719, -34.43389129638672, 11.63718032836914, -1.4559091329574585, -49.4700813293457, -4.033958435058594, -34.41740417480469, 1.9170984029769897, 38.86968231201172, -102.73751831054688, -40.03057861328125, -0.06679723411798477, 27.763084411621094, -9.553943634033203, -60.57014465332031, -9.1525239944458, -54.8907470703125, -68.8418960571289, -7.056630611419678, 128.31910705566406, 13.030376434326172, -107.36094665527344, 76.19141387939453, 80.04232025146484, 39.48571014404297, 40.01555252075195, 35.761627197265625, 69.90541076660156, 70.42514038085938, 6.803685665130615, -137.8594512939453, 91.42931365966797, 0.13703134655952454, -40.134490966796875, -65.27881622314453, 45.39751052856445, 18.44029998779297, 8.985766410827637, 62.280555725097656, 86.28649139404297, 28.795726776123047, 84.36646270751953, 69.39948272705078, -5.99594783782959, 10.406736373901367, 87.6573257446289, -101.21873474121094, 29.98295021057129, -116.83666229248047, -78.1890869140625, -21.798418045043945, 1.4479029178619385, 63.99338912963867, -41.03544616699219, 57.42026901245117, 10.500235557556152, -12.910684585571289, 25.808269500732422, -113.2542495727539, -101.32574462890625, -34.04734802246094, 104.77993774414062, 10.624850273132324, 8.117656707763672, -44.64241409301758, 28.943769454956055, -40.29457473754883, 9.10477352142334, -7.162259101867676, 65.18624114990234, -9.728342056274414, 4.270668983459473, 116.81301879882812, 49.15911865234375, -76.53073120117188, 67.98395538330078, 9.2079439163208, 33.63282012939453, 11.188458442687988, -90.96575927734375, -130.0266571044922, -58.8023681640625, -62.34255599975586, -45.59546661376953, 60.14257049560547, 46.46491241455078, -66.78520965576172, -6.912353038787842, -108.46118927001953, -31.168317794799805], \"y\": [79.02252960205078, 57.784950256347656, -85.66951751708984, -39.92133712768555, 56.96643829345703, -104.89356994628906, 24.451906204223633, -39.36054229736328, 31.214435577392578, 134.08680725097656, -69.53353118896484, -104.8173828125, 100.93560028076172, 100.49768829345703, -133.92919921875, 78.25582122802734, 12.07797622680664, -130.81527709960938, 46.18263626098633, 33.916744232177734, -68.20664978027344, 43.97270965576172, 13.431384086608887, -66.46324157714844, 23.099376678466797, 157.53530883789062, 132.174560546875, 9.855259895324707, 62.9901237487793, 76.30615997314453, 59.427860260009766, 68.27249908447266, 45.450443267822266, -98.95591735839844, 72.47077941894531, 83.52606964111328, 83.2814712524414, -21.198320388793945, -0.24270884692668915, -10.72899341583252, 83.79560089111328, -30.627212524414062, -64.36223602294922, 45.839988708496094, -2.774850845336914, 137.23361206054688, -16.647123336791992, 19.083471298217773, 54.80680465698242, 66.81177520751953, -96.58086395263672, -73.16089630126953, -70.3948745727539, -8.554506301879883, 32.160186767578125, 25.563369750976562, 29.72399139404297, -71.56915283203125, -95.93811798095703, 67.86157989501953, 68.85762786865234, 87.31344604492188, -20.14694595336914, 99.6781234741211, -49.19465637207031, 109.87628936767578, 100.0391616821289, -37.33347702026367, -29.55035400390625, 112.32189178466797, 36.21413040161133, -3.3992598056793213, 125.48194885253906, 98.75502014160156, 89.72499084472656, 102.53348541259766, 88.5772476196289, 63.73163604736328, 36.565330505371094, 154.3083038330078, -7.923402309417725, 70.63833618164062, 6.587935924530029, 3.4788763523101807, 145.45164489746094, 94.77580261230469, 113.73976135253906, 58.56110382080078, -125.1060791015625, -30.740751266479492, -15.866283416748047, -119.7469253540039, -52.52647399902344, -10.633496284484863, -59.88896179199219, -27.400646209716797, 42.576725006103516, 109.71207427978516, -52.993961334228516, -1.3519154787063599], \"z\": [31.9307861328125, -6.653482437133789, -129.1951904296875, 65.12525939941406, -25.17159080505371, -34.60020446777344, 129.52174377441406, 84.19160461425781, 136.23431396484375, 8.072341918945312, 50.77433776855469, 23.090497970581055, 54.549041748046875, -21.321319580078125, 43.29502487182617, 123.03308868408203, -20.012189865112305, 84.18856811523438, 111.44791412353516, -34.152103424072266, 25.47673225402832, 80.69063568115234, -74.72046661376953, 12.399842262268066, -69.36784362792969, 37.27851867675781, -14.536937713623047, 26.171066284179688, 51.57105255126953, 26.768274307250977, 24.30096435546875, 14.994816780090332, -69.39165496826172, -40.568965911865234, 18.39328956604004, 53.18769836425781, -78.12574005126953, 13.016376495361328, 132.8091583251953, -15.285144805908203, 26.926769256591797, 41.77855682373047, -70.2013931274414, -87.38251495361328, -101.5550308227539, 42.19746017456055, -90.75088500976562, 22.693946838378906, 119.8329849243164, -46.22953796386719, -32.260520935058594, 54.5414924621582, 77.82421875, 155.3139190673828, 100.67253875732422, 8.333965301513672, -73.0334701538086, -77.91822052001953, 58.97349548339844, -74.8126449584961, 89.36691284179688, 19.946462631225586, 50.19080352783203, 13.505138397216797, 56.946205139160156, 32.66313552856445, 62.558868408203125, 144.63973999023438, 41.169029235839844, 13.479921340942383, -117.68168640136719, 21.95146942138672, 74.2317123413086, -47.76869201660156, 72.12646484375, 27.464859008789062, -19.42434310913086, 60.31543731689453, 35.07626724243164, -16.407102584838867, -84.31920623779297, -50.41190719604492, -1.899776577949524, -95.63933563232422, 11.782234191894531, -58.115814208984375, -98.17060089111328, 43.5496826171875, -20.43007469177246, 1.3216763734817505, -13.4204683303833, 17.363744735717773, 4.428874492645264, 41.49702072143555, -15.072070121765137, 38.79291534423828, -60.94599151611328, -0.6979451179504395, -13.429327964782715, 104.65739440917969]}, {\"customdata\": [[-1.2085894284862233], [-0.787268267344896], [-0.5978904858569547], [-1.0465076469117656], [0.04387599150560691], [0.7465139005628937], [0.33457700377103244], [-0.34610269131931487], [0.49810304412102857], [-0.5277765940078609], [0.944215275896814], [-0.3645288218948704], [0.7977876847003516], [0.868379416069504], [0.06329533338239843], [-0.3086577228625308], [0.9056622213252288], [-0.8993142074745001], [0.06883274416452194], [0.4390652085043079], [0.5245985161825586], [0.811482938517783], [0.8200539188128965], [-0.042278688408772615], [0.2932366753774251], [1.1919913602090122], [0.614473328947585], [-0.622092837998272], [0.251966017704842], [-1.2250741838275714], [-1.3867184279963425], [-1.1939494076852135], [0.34440717550854066], [-2.3200134042849596], [0.37367118049966896], [0.7043027857275385], [0.8079456862949277], [-0.003869316309322331], [-0.7000646278087902], [-1.007780917763298], [-0.11933369753518579], [-0.40101191454074125], [0.3661056930950817], [-0.7782321862800349], [2.3536329102087032], [0.7765389064568803], [-0.7439244393649985], [-1.1548255771439946], [0.7140172115400907], [1.8188309527999473], [-0.8160659999297561], [-0.6706338665850256], [0.15373884152948897], [0.393388122488478], [0.2808553856322902], [-0.5895056165253256], [1.133134271672507], [0.7125538741261358], [-1.3508050742045108], [-0.8627661133946559], [-0.3487013431335691], [0.12077766320164739], [-0.012854037652468196], [0.09732761652798114], [1.2842351802647272], [2.1869835768431867], [-0.06448005659096391], [0.014148712622890101], [-0.26401570586409], [-0.11079260605814012], [0.023040883845019445], [-0.5523695083557453], [0.5695197057912557], [1.5950488540959273], [1.8243122905637132], [-0.7059293516575184], [0.03709733592796404], [-0.055660131715914996], [-0.4272858983457901], [0.05472702139422777], [0.9782545422705501], [0.4053133273315772], [1.580073372925783], [-0.4202443282721627]], \"hoverlabel\": {\"namelength\": 0}, \"hovertemplate\": \"Cluster=Cluster 2<br>0=%{x}<br>1=%{y}<br>2=%{z}<br>Feature=%{customdata[0]}\", \"legendgroup\": \"Cluster=Cluster 2\", \"marker\": {\"color\": \"#00cc96\", \"opacity\": 0.7, \"symbol\": \"circle\"}, \"mode\": \"markers\", \"name\": \"Cluster=Cluster 2\", \"scene\": \"scene\", \"showlegend\": true, \"type\": \"scatter3d\", \"x\": [-40.028358459472656, 35.65119552612305, 82.94434356689453, -87.19104766845703, 48.669063568115234, -22.572580337524414, -31.824291229248047, -51.13764572143555, 81.09715270996094, 96.30142974853516, -0.1136246919631958, -83.81674194335938, 118.35708618164062, 102.10111236572266, -86.35584259033203, 34.2130241394043, -30.96701431274414, -39.543296813964844, -16.667953491210938, 14.529229164123535, 69.61920166015625, -85.09656524658203, 96.80607604980469, 72.71332550048828, -33.788570404052734, 2.39998722076416, -18.280792236328125, 140.95176696777344, 32.423587799072266, 58.81128692626953, -31.421119689941406, 19.818925857543945, 59.837406158447266, 11.640177726745605, -72.27810668945312, 15.492436408996582, -20.77123260498047, -86.61868286132812, -28.25900650024414, -94.6430892944336, 83.34078979492188, 10.317462921142578, 67.9424819946289, -38.628456115722656, 42.996192932128906, -13.474796295166016, 91.5650863647461, 58.91619873046875, -9.228588104248047, -19.72947120666504, -7.549846172332764, 32.09465408325195, 35.10507583618164, 76.7660903930664, 52.98086166381836, 22.85617446899414, -78.81840515136719, 71.39888000488281, 113.9400634765625, 16.463558197021484, -1.8359887599945068, -63.90299606323242, 135.47344970703125, -91.93753051757812, 11.8964204788208, 71.435302734375, 84.12734985351562, 62.456573486328125, -30.485666275024414, 121.95851135253906, 58.07487487792969, 89.73870086669922, -67.20097351074219, 29.33168601989746, -129.4532928466797, -76.52178955078125, -51.179481506347656, 6.971354007720947, -147.68585205078125, -10.255561828613281, -39.853424072265625, 111.2094497680664, 6.709503173828125, -146.7970428466797], \"y\": [-87.48397827148438, -91.12364959716797, 40.091392517089844, -34.575321197509766, 31.998098373413086, 26.915489196777344, 5.7949676513671875, 26.437511444091797, 20.930709838867188, 109.34136199951172, -104.18988037109375, 86.39106750488281, -40.0085334777832, -67.34581756591797, -89.89936828613281, 38.029998779296875, -48.9062385559082, -74.96134185791016, -81.28095245361328, 5.566755771636963, 98.92993927001953, -12.693312644958496, 30.99984359741211, 22.77066993713379, -44.58388900756836, 48.74199295043945, 37.85153579711914, -25.040639877319336, -70.39383697509766, 41.763484954833984, 6.0087361335754395, 24.183364868164062, -49.08655548095703, -87.4050521850586, 19.464759826660156, 72.90900421142578, 126.67399597167969, -16.50257110595703, -149.5584716796875, 41.33376693725586, 107.09013366699219, 41.486236572265625, 7.551220893859863, 113.55599212646484, -104.07219696044922, 51.2325325012207, -53.23237991333008, 28.097312927246094, 71.23297119140625, 53.87529373168945, -46.88272476196289, -7.915393352508545, -53.75994110107422, 26.8433837890625, 27.5891056060791, 58.26585388183594, -130.58961486816406, 3.9451920986175537, 36.730072021484375, 40.156639099121094, -39.09553146362305, -84.31725311279297, 6.421046733856201, -4.309042453765869, 52.703582763671875, 2.209850311279297, 52.292205810546875, 28.295001983642578, -104.35774993896484, -78.22166442871094, 95.06996154785156, 0.21077176928520203, -92.8720703125, 30.666597366333008, 12.07145881652832, 72.72628021240234, 93.21643829345703, -95.28536987304688, 44.17345428466797, -43.87635040283203, 125.52294921875, 13.414474487304688, 18.019113540649414, 5.268924236297607], \"z\": [-1.77748703956604, 115.828369140625, 82.74945068359375, -92.58321380615234, -52.16868209838867, 63.2706184387207, -81.64222717285156, -2.402756452560425, 82.03395080566406, -36.510860443115234, 34.9320068359375, 90.63001251220703, 24.29173469543457, 13.936646461486816, -79.07866668701172, -36.19121551513672, -17.704004287719727, -101.08421325683594, -73.26558685302734, -105.07909393310547, -21.41385269165039, -77.78755187988281, 30.663101196289062, -77.32022094726562, 6.157370090484619, -96.873291015625, -23.396709442138672, 63.49171447753906, 94.4277114868164, 20.969467163085938, -107.89871978759766, -117.47521209716797, 122.36062622070312, 63.00810241699219, -12.039901733398438, -17.172521591186523, 28.672231674194336, 31.294614791870117, 13.326767921447754, -113.69637298583984, 48.032955169677734, -49.566551208496094, -2.5876946449279785, -93.9045181274414, 26.30508041381836, -68.73216247558594, -2.6454455852508545, -2.5415661334991455, -91.40929412841797, -38.10614013671875, -122.0082778930664, -120.27266693115234, 106.16423034667969, 56.32201385498047, 77.90727996826172, -44.43464279174805, -13.822872161865234, 94.77008056640625, 58.93626403808594, -133.75355529785156, -1.374886393547058, -100.53337097167969, 61.2132682800293, -109.38150787353516, -80.93070983886719, -24.337005615234375, 31.7957763671875, 36.370216369628906, -45.74232864379883, -44.218048095703125, -107.72393798828125, 60.2524299621582, -73.46829223632812, 48.33781051635742, -91.10877227783203, 43.84882736206055, -74.41004943847656, -96.16738891601562, 10.84278392791748, -77.858642578125, 12.069537162780762, 101.49435424804688, -28.775205612182617, 56.16400146484375]}, {\"customdata\": [[-0.3183739305714041], [-0.02951435725061857], [-0.22191862965758372], [-2.235861565723412], [-1.5911926678032882], [0.35920932066447514], [-0.2604304715592651], [-0.39738424087428775], [0.7638281531594131], [0.6428067522688516], [0.39896952918332296], [0.8650069509641418], [1.6333608862973565], [0.00015027103550535394], [1.3254536682861555], [2.2139048673135964], [-0.21632070789309804], [0.7691827055931926], [-0.4060594714087398], [-0.4687110798620175], [-0.02137308479845754], [1.2132379725609268], [-1.3690845756925667], [0.8488562248647475], [-0.5140487536632548], [-2.1902547364729394], [-0.7756348269985375], [1.477222792145142], [0.49684496093779346], [0.858844682345955], [-0.8368465945939817], [0.08216828915781445], [0.12367073362945577], [-0.09491408454121461], [0.9127656374024679], [-0.48716719143390036], [-1.0037635387337944], [-1.1334660501744978], [1.3113455524009607], [-2.0431617073565165], [-2.407956282126115], [0.09840375637007907], [-0.8775266399448775], [0.9226842381530027], [1.0468231701686934], [0.8838837315950453], [0.9158302465209844], [0.9616265956686997], [1.7651620453566903], [0.49125269471122934], [-0.6660300690082319], [-1.8095176053459652], [-0.16752440081500458], [0.020542390728363037], [-0.12799861198446547], [-1.100875641290957], [0.7081951569973867], [-0.06660278246086236], [-1.4845647678833551], [1.8055736908620008], [1.0501519347428572], [-0.4089909222972139], [0.30446421800052087], [0.0469115766744625], [-1.9272950294252], [-1.334972416269784], [-0.09014299424966193], [-1.9082363980715926], [0.25302496414116477], [1.1933179607264173], [0.36209001495184834], [-1.0598600509183926], [0.14356211484303152], [0.4540111737335666], [1.2879594474539928], [0.46309979686785563]], \"hoverlabel\": {\"namelength\": 0}, \"hovertemplate\": \"Cluster=Cluster 3<br>0=%{x}<br>1=%{y}<br>2=%{z}<br>Feature=%{customdata[0]}\", \"legendgroup\": \"Cluster=Cluster 3\", \"marker\": {\"color\": \"#ab63fa\", \"opacity\": 0.7, \"symbol\": \"circle\"}, \"mode\": \"markers\", \"name\": \"Cluster=Cluster 3\", \"scene\": \"scene\", \"showlegend\": true, \"type\": \"scatter3d\", \"x\": [26.578763961791992, -71.05620574951172, 67.82215118408203, -79.01361083984375, 91.33434295654297, -119.95478820800781, 107.38888549804688, -110.676025390625, 55.7844123840332, -57.31378936767578, 105.3893051147461, -61.38422775268555, -88.74508666992188, -41.31706237792969, -20.38120460510254, -15.783614158630371, -53.34467315673828, -41.35995864868164, 6.052519798278809, -24.459447860717773, 78.55014038085938, 89.81888580322266, 125.80772399902344, -28.842145919799805, -85.25392150878906, -54.19745635986328, 126.72623443603516, 6.233573913574219, 88.63275909423828, 114.61837005615234, 17.063302993774414, -40.34988784790039, -22.45852279663086, -58.427001953125, 30.838247299194336, 140.40028381347656, -20.36436653137207, -100.54451751708984, -102.94234466552734, -4.672545909881592, -77.34213256835938, -15.838018417358398, -33.05511474609375, -76.48446655273438, -36.82379913330078, 138.14950561523438, 44.28107452392578, 81.56673431396484, -96.0891342163086, -153.58724975585938, -52.085906982421875, -5.4139885902404785, -43.2055549621582, -37.24942398071289, -15.987699508666992, 82.89349365234375, 66.51415252685547, 13.928560256958008, -77.51740264892578, -13.574978828430176, 28.380910873413086, 32.478694915771484, -134.48684692382812, 46.89227294921875, -72.76602172851562, -86.5973892211914, 45.73210144042969, 15.839993476867676, -15.449576377868652, -111.31539916992188, 11.076250076293945, 77.28775024414062, 40.793033599853516, -43.93370056152344, -92.59010314941406, -83.56170654296875], \"y\": [-123.59162902832031, -82.88549041748047, -130.2132568359375, -85.9055404663086, 76.26387786865234, 32.54185104370117, -24.176315307617188, -93.25452423095703, -143.48095703125, 57.16633605957031, -107.98057556152344, -75.93363189697266, -69.60645294189453, -81.24483489990234, -16.552120208740234, 131.0746307373047, -58.827301025390625, -114.02828979492188, -19.651214599609375, -100.25917053222656, 61.72076416015625, -23.391265869140625, -52.06688690185547, -122.84548950195312, -50.84192657470703, 57.971702575683594, -31.312091827392578, 44.98698043823242, -97.97777557373047, -6.74977970123291, -138.95921325683594, 99.96862030029297, 74.46317291259766, 37.20682144165039, -42.23904800415039, -13.576639175415039, -25.791213989257812, 0.374759703874588, 13.66562271118164, -52.55583572387695, 65.48356628417969, -41.767887115478516, 65.15330505371094, 45.7181510925293, -91.97008514404297, -70.02034759521484, -145.64845275878906, 79.47842407226562, -56.928306579589844, -45.75246047973633, 104.06761169433594, -91.48937225341797, -36.259456634521484, -54.23197555541992, -71.10891723632812, 53.694183349609375, -49.53308868408203, -41.5715446472168, -46.40434265136719, 18.719345092773438, -56.58375549316406, -79.9183578491211, -65.93732452392578, -36.26484298706055, -10.807781219482422, 44.86129379272461, 21.836061477661133, -81.4273681640625, -41.08809280395508, -66.92716217041016, -21.045562744140625, -129.6048126220703, 65.39045715332031, -65.70024871826172, -75.85433197021484, -53.86747741699219], \"z\": [6.578092575073242, 106.67278289794922, 36.742530822753906, -4.882737636566162, 9.704732894897461, 70.10926055908203, 79.4666976928711, 4.650462627410889, -30.886613845825195, 103.97159576416016, 25.866514205932617, 51.3108024597168, 62.99371337890625, 77.71287536621094, 62.29633712768555, -20.822908401489258, 92.62125396728516, 85.34100341796875, 92.96609497070312, 110.5612564086914, 4.3777995109558105, 120.75149536132812, -94.9874038696289, -83.54753112792969, 65.06898498535156, -2.1864233016967773, -9.691893577575684, 140.41452026367188, -91.2945327758789, -115.9248046875, -48.76605224609375, 111.3946762084961, -4.69407320022583, -31.81353187561035, 71.72933959960938, 22.541584014892578, 24.373558044433594, 7.647527694702148, -6.993586540222168, 98.0232162475586, -37.38146209716797, 41.72798538208008, -54.95258712768555, 13.421736717224121, -67.17497253417969, -1.8680224418640137, 74.69979858398438, 91.1661605834961, 83.64177703857422, -17.931278228759766, -42.06852722167969, 100.64824676513672, 65.66229248046875, 66.62682342529297, 75.62055206298828, -98.39916229248047, 20.550933837890625, 25.250682830810547, -26.344112396240234, 123.2072525024414, -11.58498764038086, 7.522071361541748, 31.417226791381836, -107.03894805908203, 121.02940368652344, 98.03396606445312, 16.61580467224121, 22.594783782958984, 80.42981719970703, 16.82862091064453, 58.049991607666016, 5.256849765777588, -3.8685054779052734, -44.95725631713867, 8.724575996398926, 31.92412567138672]}, {\"customdata\": [[-0.48258260781601015], [1.2909402333451496], [1.0641877986770605], [-1.1766548863536543], [0.6810141514462386], [-0.5266510855919599], [0.19277785205233786], [1.551165027669614], [1.113066435197687], [0.6642775470817232], [-0.9742162391098712], [0.40275086405971633], [0.110131346804343], [-0.17262661233587667], [0.8417188215173792], [0.8994386252581879], [0.7737271942850237], [0.40756961279624737], [0.24546602046424104], [0.660785846042529], [-1.4765029771812894], [-0.11834427913742655], [-1.7632169013922596], [0.2672390998838073], [0.9245462063053427], [-2.487104658348425], [-1.4554339087196575], [1.6921815664216397], [-0.6532937400685961], [1.0459294462426119], [1.201840326745573], [-0.5354837757924581], [1.1421153687303227], [0.7950659473081623], [-1.3721685354739521], [-0.10421369568347413], [0.33864613069153904], [0.8273985604734009], [1.0071563395687517], [-0.0411915353374651], [-0.8647446090593885], [-0.8690884735546218], [0.7240588926308258], [-0.9284694725910727], [0.14740668903948737], [-0.8474577303684014], [-1.4123324553836345], [2.4625203841151624], [-0.14937778845038718], [0.20419320120479756], [1.1726767405065404], [-0.8816572376793979], [-0.6557456536409654], [-0.15654648616374012], [-0.31173857172826525], [-0.8231108890751612], [-1.575632055650651], [1.7075679346092356], [-1.7519742721831733], [-0.5096434925066761], [-0.6712672124269975], [0.2393649479682817], [1.4450707862370662], [-1.941438898903822], [-0.024611053000678926], [0.09701649950217787], [-0.48513854881369], [1.4688223207242939], [1.4247167508481298], [-0.8021185729847669], [-0.08032090074204866], [-0.2321477438097011], [-0.27197806408066305], [-0.2411314829462155], [0.38893866625833196], [-1.0274283815705847], [0.6638480293509069], [1.3707593741744164], [-0.019400575977385873], [0.22050045269398286], [-2.2159881581339116], [-0.18351771988596266], [-1.498654768888127], [0.6729883819109564], [-1.3200349468167263], [-0.006139295287077606], [-0.20238956716057482], [-0.3195067839056818], [1.7052010705046636], [1.1011767095623077], [1.0789682760191865], [1.3309721677564552], [0.3131403931391467], [1.3605283622148143], [-1.2513343851667584], [0.1870868097824259], [-1.3588504589974069], [-0.4063465171978302], [0.3942392046060162], [0.31170260897040936], [-0.48419007081846394], [1.2943683880327943]], \"hoverlabel\": {\"namelength\": 0}, \"hovertemplate\": \"Cluster=Cluster 4<br>0=%{x}<br>1=%{y}<br>2=%{z}<br>Feature=%{customdata[0]}\", \"legendgroup\": \"Cluster=Cluster 4\", \"marker\": {\"color\": \"#FFA15A\", \"opacity\": 0.7, \"symbol\": \"circle\"}, \"mode\": \"markers\", \"name\": \"Cluster=Cluster 4\", \"scene\": \"scene\", \"showlegend\": true, \"type\": \"scatter3d\", \"x\": [56.67601013183594, -34.08209991455078, -23.524991989135742, 96.50959014892578, -64.02509307861328, -15.369400978088379, -46.441375732421875, 66.00971984863281, 45.18954086303711, 39.09371566772461, 30.56704330444336, 50.064918518066406, 53.46256637573242, -118.11466979980469, 50.54997253417969, 48.129173278808594, 48.44486999511719, 2.9316322803497314, 1.3183186054229736, -96.90801239013672, 106.70466613769531, 33.092376708984375, -15.637810707092285, -5.780784606933594, 35.48725128173828, 79.46617126464844, 46.00410079956055, 65.69094848632812, -39.67382049560547, -88.38331604003906, 83.18335723876953, 24.3380069732666, -2.959223508834839, 87.36868286132812, 3.7066948413848877, 9.792393684387207, 74.95403289794922, -109.64605712890625, -40.06800079345703, 45.23507308959961, 67.87300109863281, -19.254005432128906, -84.74185943603516, -72.90314483642578, -61.77653884887695, -59.069740295410156, 65.19451904296875, -125.8655014038086, -34.30450439453125, -61.93854522705078, 81.16697692871094, -32.51017761230469, 85.6272201538086, -81.18517303466797, 57.58335876464844, -61.40030288696289, -28.097625732421875, 17.55876350402832, 9.734040260314941, 116.61083984375, -33.03339767456055, -132.7023468017578, 58.643314361572266, -18.574121475219727, -29.118392944335938, 125.40785217285156, 41.97164535522461, -51.99321746826172, 37.37328338623047, -14.156944274902344, -108.76773071289062, -119.6356201171875, -16.684833526611328, 59.675506591796875, 27.99456787109375, -39.00947189331055, 97.34391021728516, -58.26261901855469, 47.38953399658203, -44.10616683959961, 49.63766860961914, 94.5814437866211, 45.65719985961914, 74.08183288574219, -6.427610874176025, -95.04067993164062, 58.47511672973633, 68.9081039428711, -73.81806182861328, -152.29161071777344, 120.5496826171875, 149.1073760986328, -34.44382858276367, -43.251834869384766, -121.53860473632812, -70.15094757080078, 47.40525436401367, 134.8323211669922, -77.2424545288086, -1.990849256515503, -101.31182098388672, -125.70341491699219], \"y\": [-96.00875091552734, 25.457500457763672, 97.30144500732422, -64.90275573730469, 52.59916305541992, 94.81632232666016, -40.01824188232422, 4.4473395347595215, 47.55916213989258, -80.48570251464844, -59.315528869628906, -106.90692901611328, -49.3623161315918, 26.492231369018555, 116.15535736083984, -93.05445861816406, 67.3592300415039, -9.977958679199219, -93.18417358398438, 31.420040130615234, -42.549964904785156, -35.79152297973633, 63.74040985107422, -104.80554962158203, 132.9836883544922, -62.66486740112305, 89.8504638671875, 104.6553955078125, 75.8346176147461, 61.101566314697266, -109.12689208984375, -57.22481155395508, 23.229963302612305, -84.86375427246094, -80.85844421386719, -162.6345977783203, -62.66291427612305, 5.704876899719238, 124.28607177734375, 103.55633544921875, 79.1718521118164, -111.21411895751953, -101.14015197753906, -107.04387664794922, 39.46293258666992, -34.92078399658203, 72.53715515136719, -48.51909255981445, 9.978292465209961, -56.07551574707031, -65.3326187133789, -22.353925704956055, -0.6732749938964844, 43.92168045043945, -97.93382263183594, -24.76055908203125, 126.93818664550781, 79.30996704101562, -54.60907745361328, 52.76618576049805, -142.80662536621094, 12.994726181030273, 18.68811798095703, 5.891320705413818, -34.903724670410156, 93.45817565917969, -21.85858726501465, -23.669965744018555, -107.08760070800781, -24.64093017578125, 68.49099731445312, -52.90243911743164, -73.40007019042969, -112.56304931640625, -118.31371307373047, 29.612815856933594, -92.7528076171875, 71.16212463378906, 68.69307708740234, -52.81914520263672, -17.981306076049805, 119.68346405029297, 120.22325134277344, -84.69195556640625, 12.645783424377441, -77.80413818359375, 115.15127563476562, -80.46703338623047, 94.85009002685547, -11.9339017868042, 5.233205318450928, 41.95342254638672, -128.07070922851562, -5.475107669830322, 96.94447326660156, -41.89829635620117, -70.52764129638672, 19.757396697998047, 87.92684936523438, 8.80015754699707, -49.389225006103516, 43.18038558959961], \"z\": [-16.40810775756836, -52.20576477050781, -31.46567153930664, 82.17367553710938, 74.42658996582031, -70.11537170410156, -92.27357482910156, -65.39693450927734, 69.9512710571289, 51.91362762451172, -130.0956268310547, 78.63068389892578, -57.2323112487793, 108.09284210205078, 76.82986450195312, -93.7958984375, -66.1031494140625, -131.7432098388672, -14.789140701293945, 28.519594192504883, -36.80744552612305, -77.07864379882812, -121.1415786743164, 0.9256383776664734, -25.204275131225586, -35.19678497314453, -41.10160446166992, 23.197494506835938, -106.28861999511719, -14.3269681930542, 75.83264923095703, -49.105751037597656, -80.19644927978516, 104.2783432006836, -42.23482131958008, -11.98603630065918, -113.05757141113281, 45.13722610473633, 60.678192138671875, 98.06429290771484, 37.711181640625, 60.48373794555664, 33.14978790283203, 51.992252349853516, -98.93755340576172, -34.85734558105469, -22.765317916870117, -47.53110122680664, 13.506598472595215, -129.4807891845703, -70.12169647216797, -57.741825103759766, -51.51435852050781, 50.16996765136719, -63.603965759277344, 16.469654083251953, -58.75400161743164, -121.78871154785156, 54.889556884765625, -74.2494125366211, -30.34079360961914, 18.241952896118164, -132.63760375976562, 35.41492462158203, 117.31121063232422, -6.541542053222656, 87.28864288330078, 143.91732788085938, -75.83659362792969, 124.88179779052734, 65.1144790649414, -87.62909698486328, 42.94282531738281, -7.643639087677002, 53.7259407043457, 89.59584045410156, -11.292093276977539, 19.864463806152344, 82.715576171875, -71.11680603027344, -77.6739501953125, 5.622683525085449, -55.0628547668457, 38.1086540222168, -55.75343322753906, -44.37891387939453, -17.00651741027832, 10.925586700439453, -100.7476806640625, 18.943092346191406, -62.060184478759766, -16.138551712036133, -15.029411315917969, -43.151668548583984, -20.287458419799805, -57.52501678466797, -47.6171760559082, -73.73735046386719, 0.941963255405426, 52.462242126464844, -44.94833755493164, 46.62302780151367]}],\n                        {\"height\": 800, \"legend\": {\"tracegroupgap\": 0}, \"scene\": {\"domain\": {\"x\": [0.0, 1.0], \"y\": [0.0, 1.0]}, \"xaxis\": {\"title\": {\"text\": \"0\"}}, \"yaxis\": {\"title\": {\"text\": \"1\"}}, \"zaxis\": {\"title\": {\"text\": \"2\"}}}, \"template\": {\"data\": {\"bar\": [{\"error_x\": {\"color\": \"#2a3f5f\"}, \"error_y\": {\"color\": \"#2a3f5f\"}, \"marker\": {\"line\": {\"color\": \"#E5ECF6\", \"width\": 0.5}}, \"type\": \"bar\"}], \"barpolar\": [{\"marker\": {\"line\": {\"color\": \"#E5ECF6\", \"width\": 0.5}}, \"type\": \"barpolar\"}], \"carpet\": [{\"aaxis\": {\"endlinecolor\": \"#2a3f5f\", \"gridcolor\": \"white\", \"linecolor\": \"white\", \"minorgridcolor\": \"white\", \"startlinecolor\": \"#2a3f5f\"}, \"baxis\": {\"endlinecolor\": \"#2a3f5f\", \"gridcolor\": \"white\", \"linecolor\": \"white\", \"minorgridcolor\": \"white\", \"startlinecolor\": \"#2a3f5f\"}, \"type\": \"carpet\"}], \"choropleth\": [{\"colorbar\": {\"outlinewidth\": 0, \"ticks\": \"\"}, \"type\": \"choropleth\"}], \"contour\": [{\"colorbar\": {\"outlinewidth\": 0, \"ticks\": \"\"}, \"colorscale\": [[0.0, \"#0d0887\"], [0.1111111111111111, \"#46039f\"], [0.2222222222222222, \"#7201a8\"], [0.3333333333333333, \"#9c179e\"], [0.4444444444444444, \"#bd3786\"], [0.5555555555555556, \"#d8576b\"], [0.6666666666666666, \"#ed7953\"], [0.7777777777777778, \"#fb9f3a\"], [0.8888888888888888, \"#fdca26\"], [1.0, \"#f0f921\"]], \"type\": \"contour\"}], \"contourcarpet\": [{\"colorbar\": {\"outlinewidth\": 0, \"ticks\": \"\"}, \"type\": \"contourcarpet\"}], \"heatmap\": [{\"colorbar\": {\"outlinewidth\": 0, \"ticks\": \"\"}, \"colorscale\": [[0.0, \"#0d0887\"], [0.1111111111111111, \"#46039f\"], [0.2222222222222222, \"#7201a8\"], [0.3333333333333333, \"#9c179e\"], [0.4444444444444444, \"#bd3786\"], [0.5555555555555556, \"#d8576b\"], [0.6666666666666666, \"#ed7953\"], [0.7777777777777778, \"#fb9f3a\"], [0.8888888888888888, \"#fdca26\"], [1.0, \"#f0f921\"]], \"type\": \"heatmap\"}], \"heatmapgl\": [{\"colorbar\": {\"outlinewidth\": 0, \"ticks\": \"\"}, \"colorscale\": [[0.0, \"#0d0887\"], [0.1111111111111111, \"#46039f\"], [0.2222222222222222, \"#7201a8\"], [0.3333333333333333, \"#9c179e\"], [0.4444444444444444, \"#bd3786\"], [0.5555555555555556, \"#d8576b\"], [0.6666666666666666, \"#ed7953\"], [0.7777777777777778, \"#fb9f3a\"], [0.8888888888888888, \"#fdca26\"], [1.0, \"#f0f921\"]], \"type\": \"heatmapgl\"}], \"histogram\": [{\"marker\": {\"colorbar\": {\"outlinewidth\": 0, \"ticks\": \"\"}}, \"type\": \"histogram\"}], \"histogram2d\": [{\"colorbar\": {\"outlinewidth\": 0, \"ticks\": \"\"}, \"colorscale\": [[0.0, \"#0d0887\"], [0.1111111111111111, \"#46039f\"], [0.2222222222222222, \"#7201a8\"], [0.3333333333333333, \"#9c179e\"], [0.4444444444444444, \"#bd3786\"], [0.5555555555555556, \"#d8576b\"], [0.6666666666666666, \"#ed7953\"], [0.7777777777777778, \"#fb9f3a\"], [0.8888888888888888, \"#fdca26\"], [1.0, \"#f0f921\"]], \"type\": \"histogram2d\"}], \"histogram2dcontour\": [{\"colorbar\": {\"outlinewidth\": 0, \"ticks\": \"\"}, \"colorscale\": [[0.0, \"#0d0887\"], [0.1111111111111111, \"#46039f\"], [0.2222222222222222, \"#7201a8\"], [0.3333333333333333, \"#9c179e\"], [0.4444444444444444, \"#bd3786\"], [0.5555555555555556, \"#d8576b\"], [0.6666666666666666, \"#ed7953\"], [0.7777777777777778, \"#fb9f3a\"], [0.8888888888888888, \"#fdca26\"], [1.0, \"#f0f921\"]], \"type\": \"histogram2dcontour\"}], \"mesh3d\": [{\"colorbar\": {\"outlinewidth\": 0, \"ticks\": \"\"}, \"type\": \"mesh3d\"}], \"parcoords\": [{\"line\": {\"colorbar\": {\"outlinewidth\": 0, \"ticks\": \"\"}}, \"type\": \"parcoords\"}], \"pie\": [{\"automargin\": true, \"type\": \"pie\"}], \"scatter\": [{\"marker\": {\"colorbar\": {\"outlinewidth\": 0, \"ticks\": \"\"}}, \"type\": \"scatter\"}], \"scatter3d\": [{\"line\": {\"colorbar\": {\"outlinewidth\": 0, \"ticks\": \"\"}}, \"marker\": {\"colorbar\": {\"outlinewidth\": 0, \"ticks\": \"\"}}, \"type\": \"scatter3d\"}], \"scattercarpet\": [{\"marker\": {\"colorbar\": {\"outlinewidth\": 0, \"ticks\": \"\"}}, \"type\": \"scattercarpet\"}], \"scattergeo\": [{\"marker\": {\"colorbar\": {\"outlinewidth\": 0, \"ticks\": \"\"}}, \"type\": \"scattergeo\"}], \"scattergl\": [{\"marker\": {\"colorbar\": {\"outlinewidth\": 0, \"ticks\": \"\"}}, \"type\": \"scattergl\"}], \"scattermapbox\": [{\"marker\": {\"colorbar\": {\"outlinewidth\": 0, \"ticks\": \"\"}}, \"type\": \"scattermapbox\"}], \"scatterpolar\": [{\"marker\": {\"colorbar\": {\"outlinewidth\": 0, \"ticks\": \"\"}}, \"type\": \"scatterpolar\"}], \"scatterpolargl\": [{\"marker\": {\"colorbar\": {\"outlinewidth\": 0, \"ticks\": \"\"}}, \"type\": \"scatterpolargl\"}], \"scatterternary\": [{\"marker\": {\"colorbar\": {\"outlinewidth\": 0, \"ticks\": \"\"}}, \"type\": \"scatterternary\"}], \"surface\": [{\"colorbar\": {\"outlinewidth\": 0, \"ticks\": \"\"}, \"colorscale\": [[0.0, \"#0d0887\"], [0.1111111111111111, \"#46039f\"], [0.2222222222222222, \"#7201a8\"], [0.3333333333333333, \"#9c179e\"], [0.4444444444444444, \"#bd3786\"], [0.5555555555555556, \"#d8576b\"], [0.6666666666666666, \"#ed7953\"], [0.7777777777777778, \"#fb9f3a\"], [0.8888888888888888, \"#fdca26\"], [1.0, \"#f0f921\"]], \"type\": \"surface\"}], \"table\": [{\"cells\": {\"fill\": {\"color\": \"#EBF0F8\"}, \"line\": {\"color\": \"white\"}}, \"header\": {\"fill\": {\"color\": \"#C8D4E3\"}, \"line\": {\"color\": \"white\"}}, \"type\": \"table\"}]}, \"layout\": {\"annotationdefaults\": {\"arrowcolor\": \"#2a3f5f\", \"arrowhead\": 0, \"arrowwidth\": 1}, \"coloraxis\": {\"colorbar\": {\"outlinewidth\": 0, \"ticks\": \"\"}}, \"colorscale\": {\"diverging\": [[0, \"#8e0152\"], [0.1, \"#c51b7d\"], [0.2, \"#de77ae\"], [0.3, \"#f1b6da\"], [0.4, \"#fde0ef\"], [0.5, \"#f7f7f7\"], [0.6, \"#e6f5d0\"], [0.7, \"#b8e186\"], [0.8, \"#7fbc41\"], [0.9, \"#4d9221\"], [1, \"#276419\"]], \"sequential\": [[0.0, \"#0d0887\"], [0.1111111111111111, \"#46039f\"], [0.2222222222222222, \"#7201a8\"], [0.3333333333333333, \"#9c179e\"], [0.4444444444444444, \"#bd3786\"], [0.5555555555555556, \"#d8576b\"], [0.6666666666666666, \"#ed7953\"], [0.7777777777777778, \"#fb9f3a\"], [0.8888888888888888, \"#fdca26\"], [1.0, \"#f0f921\"]], \"sequentialminus\": [[0.0, \"#0d0887\"], [0.1111111111111111, \"#46039f\"], [0.2222222222222222, \"#7201a8\"], [0.3333333333333333, \"#9c179e\"], [0.4444444444444444, \"#bd3786\"], [0.5555555555555556, \"#d8576b\"], [0.6666666666666666, \"#ed7953\"], [0.7777777777777778, \"#fb9f3a\"], [0.8888888888888888, \"#fdca26\"], [1.0, \"#f0f921\"]]}, \"colorway\": [\"#636efa\", \"#EF553B\", \"#00cc96\", \"#ab63fa\", \"#FFA15A\", \"#19d3f3\", \"#FF6692\", \"#B6E880\", \"#FF97FF\", \"#FECB52\"], \"font\": {\"color\": \"#2a3f5f\"}, \"geo\": {\"bgcolor\": \"white\", \"lakecolor\": \"white\", \"landcolor\": \"#E5ECF6\", \"showlakes\": true, \"showland\": true, \"subunitcolor\": \"white\"}, \"hoverlabel\": {\"align\": \"left\"}, \"hovermode\": \"closest\", \"mapbox\": {\"style\": \"light\"}, \"paper_bgcolor\": \"white\", \"plot_bgcolor\": \"#E5ECF6\", \"polar\": {\"angularaxis\": {\"gridcolor\": \"white\", \"linecolor\": \"white\", \"ticks\": \"\"}, \"bgcolor\": \"#E5ECF6\", \"radialaxis\": {\"gridcolor\": \"white\", \"linecolor\": \"white\", \"ticks\": \"\"}}, \"scene\": {\"xaxis\": {\"backgroundcolor\": \"#E5ECF6\", \"gridcolor\": \"white\", \"gridwidth\": 2, \"linecolor\": \"white\", \"showbackground\": true, \"ticks\": \"\", \"zerolinecolor\": \"white\"}, \"yaxis\": {\"backgroundcolor\": \"#E5ECF6\", \"gridcolor\": \"white\", \"gridwidth\": 2, \"linecolor\": \"white\", \"showbackground\": true, \"ticks\": \"\", \"zerolinecolor\": \"white\"}, \"zaxis\": {\"backgroundcolor\": \"#E5ECF6\", \"gridcolor\": \"white\", \"gridwidth\": 2, \"linecolor\": \"white\", \"showbackground\": true, \"ticks\": \"\", \"zerolinecolor\": \"white\"}}, \"shapedefaults\": {\"line\": {\"color\": \"#2a3f5f\"}}, \"ternary\": {\"aaxis\": {\"gridcolor\": \"white\", \"linecolor\": \"white\", \"ticks\": \"\"}, \"baxis\": {\"gridcolor\": \"white\", \"linecolor\": \"white\", \"ticks\": \"\"}, \"bgcolor\": \"#E5ECF6\", \"caxis\": {\"gridcolor\": \"white\", \"linecolor\": \"white\", \"ticks\": \"\"}}, \"title\": {\"x\": 0.05}, \"xaxis\": {\"automargin\": true, \"gridcolor\": \"white\", \"linecolor\": \"white\", \"ticks\": \"\", \"title\": {\"standoff\": 15}, \"zerolinecolor\": \"white\", \"zerolinewidth\": 2}, \"yaxis\": {\"automargin\": true, \"gridcolor\": \"white\", \"linecolor\": \"white\", \"ticks\": \"\", \"title\": {\"standoff\": 15}, \"zerolinecolor\": \"white\", \"zerolinewidth\": 2}}}, \"title\": {\"text\": \"3d TSNE Plot for Clusters\"}, \"width\": 900},\n                        {\"responsive\": true}\n                    ).then(function(){\n                            \nvar gd = document.getElementById('742659c6-2dd8-45c9-be4e-eb8296fd7a6a');\nvar x = new MutationObserver(function (mutations, observer) {{\n        var display = window.getComputedStyle(gd).display;\n        if (!display || display === 'none') {{\n            console.log([gd, 'removed!']);\n            Plotly.purge(gd);\n            observer.disconnect();\n        }}\n}});\n\n// Listen for the removal of the full notebook cells\nvar notebookContainer = gd.closest('#notebook-container');\nif (notebookContainer) {{\n    x.observe(notebookContainer, {childList: true});\n}}\n\n// Listen for the clearing of the current output cell\nvar outputEl = gd.closest('.output');\nif (outputEl) {{\n    x.observe(outputEl, {childList: true});\n}}\n\n                        })\n                };\n                });\n            </script>\n        </div>"
     },
     "metadata": {}
    }
   ],
   "source": [
    "plot_model(kmeans, plot=\"tsne\") "
   ]
  },
  {
   "cell_type": "code",
   "execution_count": 13,
   "metadata": {},
   "outputs": [
    {
     "output_type": "display_data",
     "data": {
      "text/html": "        <script type=\"text/javascript\">\n        window.PlotlyConfig = {MathJaxConfig: 'local'};\n        if (window.MathJax) {MathJax.Hub.Config({SVG: {font: \"STIX-Web\"}});}\n        if (typeof require !== 'undefined') {\n        require.undef(\"plotly\");\n        requirejs.config({\n            paths: {\n                'plotly': ['https://cdn.plot.ly/plotly-latest.min']\n            }\n        });\n        require(['plotly'], function(Plotly) {\n            window._Plotly = Plotly;\n        });\n        }\n        </script>\n        "
     },
     "metadata": {}
    },
    {
     "output_type": "display_data",
     "data": {
      "text/plain": "<Figure size 576x396 with 1 Axes>",
      "image/svg+xml": "<?xml version=\"1.0\" encoding=\"utf-8\" standalone=\"no\"?>\r\n<!DOCTYPE svg PUBLIC \"-//W3C//DTD SVG 1.1//EN\"\r\n  \"http://www.w3.org/Graphics/SVG/1.1/DTD/svg11.dtd\">\r\n<!-- Created with matplotlib (https://matplotlib.org/) -->\r\n<svg height=\"358.320781pt\" version=\"1.1\" viewBox=\"0 0 504.103594 358.320781\" width=\"504.103594pt\" xmlns=\"http://www.w3.org/2000/svg\" xmlns:xlink=\"http://www.w3.org/1999/xlink\">\r\n <defs>\r\n  <style type=\"text/css\">\r\n*{stroke-linecap:butt;stroke-linejoin:round;}\r\n  </style>\r\n </defs>\r\n <g id=\"figure_1\">\r\n  <g id=\"patch_1\">\r\n   <path d=\"M 0 358.320781 \r\nL 504.103594 358.320781 \r\nL 504.103594 0 \r\nL 0 0 \r\nz\r\n\" style=\"fill:#ffffff;\"/>\r\n  </g>\r\n  <g id=\"axes_1\">\r\n   <g id=\"patch_2\">\r\n    <path d=\"M 50.503594 320.915625 \r\nL 496.903594 320.915625 \r\nL 496.903594 21.935625 \r\nL 50.503594 21.935625 \r\nz\r\n\" style=\"fill:#ffffff;\"/>\r\n   </g>\r\n   <g id=\"matplotlib.axis_1\">\r\n    <g id=\"xtick_1\">\r\n     <g id=\"line2d_1\">\r\n      <path clip-path=\"url(#p6c10e6e77f)\" d=\"M 70.794503 320.915625 \r\nL 70.794503 21.935625 \r\n\" style=\"fill:none;stroke:#cccccc;stroke-linecap:round;\"/>\r\n     </g>\r\n     <g id=\"line2d_2\"/>\r\n     <g id=\"text_1\">\r\n      <!-- 2 -->\r\n      <defs>\r\n       <path d=\"M 50.34375 8.453125 \r\nL 50.34375 0 \r\nL 3.03125 0 \r\nQ 2.9375 3.171875 4.046875 6.109375 \r\nQ 5.859375 10.9375 9.828125 15.625 \r\nQ 13.8125 20.3125 21.34375 26.46875 \r\nQ 33.015625 36.03125 37.109375 41.625 \r\nQ 41.21875 47.21875 41.21875 52.203125 \r\nQ 41.21875 57.421875 37.46875 61 \r\nQ 33.734375 64.59375 27.734375 64.59375 \r\nQ 21.390625 64.59375 17.578125 60.78125 \r\nQ 13.765625 56.984375 13.71875 50.25 \r\nL 4.6875 51.171875 \r\nQ 5.609375 61.28125 11.65625 66.578125 \r\nQ 17.71875 71.875 27.9375 71.875 \r\nQ 38.234375 71.875 44.234375 66.15625 \r\nQ 50.25 60.453125 50.25 52 \r\nQ 50.25 47.703125 48.484375 43.546875 \r\nQ 46.734375 39.40625 42.65625 34.8125 \r\nQ 38.578125 30.21875 29.109375 22.21875 \r\nQ 21.1875 15.578125 18.9375 13.203125 \r\nQ 16.703125 10.84375 15.234375 8.453125 \r\nz\r\n\" id=\"ArialMT-50\"/>\r\n      </defs>\r\n      <g style=\"fill:#262626;\" transform=\"translate(68.014034 335.073437)scale(0.1 -0.1)\">\r\n       <use xlink:href=\"#ArialMT-50\"/>\r\n      </g>\r\n     </g>\r\n    </g>\r\n    <g id=\"xtick_2\">\r\n     <g id=\"line2d_3\">\r\n      <path clip-path=\"url(#p6c10e6e77f)\" d=\"M 121.521776 320.915625 \r\nL 121.521776 21.935625 \r\n\" style=\"fill:none;stroke:#cccccc;stroke-linecap:round;\"/>\r\n     </g>\r\n     <g id=\"line2d_4\"/>\r\n     <g id=\"text_2\">\r\n      <!-- 3 -->\r\n      <defs>\r\n       <path d=\"M 4.203125 18.890625 \r\nL 12.984375 20.0625 \r\nQ 14.5 12.59375 18.140625 9.296875 \r\nQ 21.78125 6 27 6 \r\nQ 33.203125 6 37.46875 10.296875 \r\nQ 41.75 14.59375 41.75 20.953125 \r\nQ 41.75 27 37.796875 30.921875 \r\nQ 33.84375 34.859375 27.734375 34.859375 \r\nQ 25.25 34.859375 21.53125 33.890625 \r\nL 22.515625 41.609375 \r\nQ 23.390625 41.5 23.921875 41.5 \r\nQ 29.546875 41.5 34.03125 44.421875 \r\nQ 38.53125 47.359375 38.53125 53.46875 \r\nQ 38.53125 58.296875 35.25 61.46875 \r\nQ 31.984375 64.65625 26.8125 64.65625 \r\nQ 21.6875 64.65625 18.265625 61.421875 \r\nQ 14.84375 58.203125 13.875 51.765625 \r\nL 5.078125 53.328125 \r\nQ 6.6875 62.15625 12.390625 67.015625 \r\nQ 18.109375 71.875 26.609375 71.875 \r\nQ 32.46875 71.875 37.390625 69.359375 \r\nQ 42.328125 66.84375 44.9375 62.5 \r\nQ 47.5625 58.15625 47.5625 53.265625 \r\nQ 47.5625 48.640625 45.0625 44.828125 \r\nQ 42.578125 41.015625 37.703125 38.765625 \r\nQ 44.046875 37.3125 47.5625 32.6875 \r\nQ 51.078125 28.078125 51.078125 21.140625 \r\nQ 51.078125 11.765625 44.234375 5.25 \r\nQ 37.40625 -1.265625 26.953125 -1.265625 \r\nQ 17.53125 -1.265625 11.296875 4.34375 \r\nQ 5.078125 9.96875 4.203125 18.890625 \r\nz\r\n\" id=\"ArialMT-51\"/>\r\n      </defs>\r\n      <g style=\"fill:#262626;\" transform=\"translate(118.741307 335.073437)scale(0.1 -0.1)\">\r\n       <use xlink:href=\"#ArialMT-51\"/>\r\n      </g>\r\n     </g>\r\n    </g>\r\n    <g id=\"xtick_3\">\r\n     <g id=\"line2d_5\">\r\n      <path clip-path=\"url(#p6c10e6e77f)\" d=\"M 172.249048 320.915625 \r\nL 172.249048 21.935625 \r\n\" style=\"fill:none;stroke:#cccccc;stroke-linecap:round;\"/>\r\n     </g>\r\n     <g id=\"line2d_6\"/>\r\n     <g id=\"text_3\">\r\n      <!-- 4 -->\r\n      <defs>\r\n       <path d=\"M 32.328125 0 \r\nL 32.328125 17.140625 \r\nL 1.265625 17.140625 \r\nL 1.265625 25.203125 \r\nL 33.9375 71.578125 \r\nL 41.109375 71.578125 \r\nL 41.109375 25.203125 \r\nL 50.78125 25.203125 \r\nL 50.78125 17.140625 \r\nL 41.109375 17.140625 \r\nL 41.109375 0 \r\nz\r\nM 32.328125 25.203125 \r\nL 32.328125 57.46875 \r\nL 9.90625 25.203125 \r\nz\r\n\" id=\"ArialMT-52\"/>\r\n      </defs>\r\n      <g style=\"fill:#262626;\" transform=\"translate(169.46858 335.073437)scale(0.1 -0.1)\">\r\n       <use xlink:href=\"#ArialMT-52\"/>\r\n      </g>\r\n     </g>\r\n    </g>\r\n    <g id=\"xtick_4\">\r\n     <g id=\"line2d_7\">\r\n      <path clip-path=\"url(#p6c10e6e77f)\" d=\"M 222.976321 320.915625 \r\nL 222.976321 21.935625 \r\n\" style=\"fill:none;stroke:#cccccc;stroke-linecap:round;\"/>\r\n     </g>\r\n     <g id=\"line2d_8\"/>\r\n     <g id=\"text_4\">\r\n      <!-- 5 -->\r\n      <defs>\r\n       <path d=\"M 4.15625 18.75 \r\nL 13.375 19.53125 \r\nQ 14.40625 12.796875 18.140625 9.390625 \r\nQ 21.875 6 27.15625 6 \r\nQ 33.5 6 37.890625 10.78125 \r\nQ 42.28125 15.578125 42.28125 23.484375 \r\nQ 42.28125 31 38.0625 35.34375 \r\nQ 33.84375 39.703125 27 39.703125 \r\nQ 22.75 39.703125 19.328125 37.765625 \r\nQ 15.921875 35.84375 13.96875 32.765625 \r\nL 5.71875 33.84375 \r\nL 12.640625 70.609375 \r\nL 48.25 70.609375 \r\nL 48.25 62.203125 \r\nL 19.671875 62.203125 \r\nL 15.828125 42.96875 \r\nQ 22.265625 47.46875 29.34375 47.46875 \r\nQ 38.71875 47.46875 45.15625 40.96875 \r\nQ 51.609375 34.46875 51.609375 24.265625 \r\nQ 51.609375 14.546875 45.953125 7.46875 \r\nQ 39.0625 -1.21875 27.15625 -1.21875 \r\nQ 17.390625 -1.21875 11.203125 4.25 \r\nQ 5.03125 9.71875 4.15625 18.75 \r\nz\r\n\" id=\"ArialMT-53\"/>\r\n      </defs>\r\n      <g style=\"fill:#262626;\" transform=\"translate(220.195852 335.073437)scale(0.1 -0.1)\">\r\n       <use xlink:href=\"#ArialMT-53\"/>\r\n      </g>\r\n     </g>\r\n    </g>\r\n    <g id=\"xtick_5\">\r\n     <g id=\"line2d_9\">\r\n      <path clip-path=\"url(#p6c10e6e77f)\" d=\"M 273.703594 320.915625 \r\nL 273.703594 21.935625 \r\n\" style=\"fill:none;stroke:#cccccc;stroke-linecap:round;\"/>\r\n     </g>\r\n     <g id=\"line2d_10\"/>\r\n     <g id=\"text_5\">\r\n      <!-- 6 -->\r\n      <defs>\r\n       <path d=\"M 49.75 54.046875 \r\nL 41.015625 53.375 \r\nQ 39.84375 58.546875 37.703125 60.890625 \r\nQ 34.125 64.65625 28.90625 64.65625 \r\nQ 24.703125 64.65625 21.53125 62.3125 \r\nQ 17.390625 59.28125 14.984375 53.46875 \r\nQ 12.59375 47.65625 12.5 36.921875 \r\nQ 15.671875 41.75 20.265625 44.09375 \r\nQ 24.859375 46.4375 29.890625 46.4375 \r\nQ 38.671875 46.4375 44.84375 39.96875 \r\nQ 51.03125 33.5 51.03125 23.25 \r\nQ 51.03125 16.5 48.125 10.71875 \r\nQ 45.21875 4.9375 40.140625 1.859375 \r\nQ 35.0625 -1.21875 28.609375 -1.21875 \r\nQ 17.625 -1.21875 10.6875 6.859375 \r\nQ 3.765625 14.9375 3.765625 33.5 \r\nQ 3.765625 54.25 11.421875 63.671875 \r\nQ 18.109375 71.875 29.4375 71.875 \r\nQ 37.890625 71.875 43.28125 67.140625 \r\nQ 48.6875 62.40625 49.75 54.046875 \r\nz\r\nM 13.875 23.1875 \r\nQ 13.875 18.65625 15.796875 14.5 \r\nQ 17.71875 10.359375 21.1875 8.171875 \r\nQ 24.65625 6 28.46875 6 \r\nQ 34.03125 6 38.03125 10.484375 \r\nQ 42.046875 14.984375 42.046875 22.703125 \r\nQ 42.046875 30.125 38.078125 34.390625 \r\nQ 34.125 38.671875 28.125 38.671875 \r\nQ 22.171875 38.671875 18.015625 34.390625 \r\nQ 13.875 30.125 13.875 23.1875 \r\nz\r\n\" id=\"ArialMT-54\"/>\r\n      </defs>\r\n      <g style=\"fill:#262626;\" transform=\"translate(270.923125 335.073437)scale(0.1 -0.1)\">\r\n       <use xlink:href=\"#ArialMT-54\"/>\r\n      </g>\r\n     </g>\r\n    </g>\r\n    <g id=\"xtick_6\">\r\n     <g id=\"line2d_11\">\r\n      <path clip-path=\"url(#p6c10e6e77f)\" d=\"M 324.430866 320.915625 \r\nL 324.430866 21.935625 \r\n\" style=\"fill:none;stroke:#cccccc;stroke-linecap:round;\"/>\r\n     </g>\r\n     <g id=\"line2d_12\"/>\r\n     <g id=\"text_6\">\r\n      <!-- 7 -->\r\n      <defs>\r\n       <path d=\"M 4.734375 62.203125 \r\nL 4.734375 70.65625 \r\nL 51.078125 70.65625 \r\nL 51.078125 63.8125 \r\nQ 44.234375 56.546875 37.515625 44.484375 \r\nQ 30.8125 32.421875 27.15625 19.671875 \r\nQ 24.515625 10.6875 23.78125 0 \r\nL 14.75 0 \r\nQ 14.890625 8.453125 18.0625 20.40625 \r\nQ 21.234375 32.375 27.171875 43.484375 \r\nQ 33.109375 54.59375 39.796875 62.203125 \r\nz\r\n\" id=\"ArialMT-55\"/>\r\n      </defs>\r\n      <g style=\"fill:#262626;\" transform=\"translate(321.650398 335.073437)scale(0.1 -0.1)\">\r\n       <use xlink:href=\"#ArialMT-55\"/>\r\n      </g>\r\n     </g>\r\n    </g>\r\n    <g id=\"xtick_7\">\r\n     <g id=\"line2d_13\">\r\n      <path clip-path=\"url(#p6c10e6e77f)\" d=\"M 375.158139 320.915625 \r\nL 375.158139 21.935625 \r\n\" style=\"fill:none;stroke:#cccccc;stroke-linecap:round;\"/>\r\n     </g>\r\n     <g id=\"line2d_14\"/>\r\n     <g id=\"text_7\">\r\n      <!-- 8 -->\r\n      <defs>\r\n       <path d=\"M 17.671875 38.8125 \r\nQ 12.203125 40.828125 9.5625 44.53125 \r\nQ 6.9375 48.25 6.9375 53.421875 \r\nQ 6.9375 61.234375 12.546875 66.546875 \r\nQ 18.171875 71.875 27.484375 71.875 \r\nQ 36.859375 71.875 42.578125 66.421875 \r\nQ 48.296875 60.984375 48.296875 53.171875 \r\nQ 48.296875 48.1875 45.671875 44.5 \r\nQ 43.0625 40.828125 37.75 38.8125 \r\nQ 44.34375 36.671875 47.78125 31.875 \r\nQ 51.21875 27.09375 51.21875 20.453125 \r\nQ 51.21875 11.28125 44.71875 5.03125 \r\nQ 38.234375 -1.21875 27.640625 -1.21875 \r\nQ 17.046875 -1.21875 10.546875 5.046875 \r\nQ 4.046875 11.328125 4.046875 20.703125 \r\nQ 4.046875 27.6875 7.59375 32.390625 \r\nQ 11.140625 37.109375 17.671875 38.8125 \r\nz\r\nM 15.921875 53.71875 \r\nQ 15.921875 48.640625 19.1875 45.40625 \r\nQ 22.46875 42.1875 27.6875 42.1875 \r\nQ 32.765625 42.1875 36.015625 45.375 \r\nQ 39.265625 48.578125 39.265625 53.21875 \r\nQ 39.265625 58.0625 35.90625 61.359375 \r\nQ 32.5625 64.65625 27.59375 64.65625 \r\nQ 22.5625 64.65625 19.234375 61.421875 \r\nQ 15.921875 58.203125 15.921875 53.71875 \r\nz\r\nM 13.09375 20.65625 \r\nQ 13.09375 16.890625 14.875 13.375 \r\nQ 16.65625 9.859375 20.171875 7.921875 \r\nQ 23.6875 6 27.734375 6 \r\nQ 34.03125 6 38.125 10.046875 \r\nQ 42.234375 14.109375 42.234375 20.359375 \r\nQ 42.234375 26.703125 38.015625 30.859375 \r\nQ 33.796875 35.015625 27.4375 35.015625 \r\nQ 21.234375 35.015625 17.15625 30.90625 \r\nQ 13.09375 26.8125 13.09375 20.65625 \r\nz\r\n\" id=\"ArialMT-56\"/>\r\n      </defs>\r\n      <g style=\"fill:#262626;\" transform=\"translate(372.37767 335.073437)scale(0.1 -0.1)\">\r\n       <use xlink:href=\"#ArialMT-56\"/>\r\n      </g>\r\n     </g>\r\n    </g>\r\n    <g id=\"xtick_8\">\r\n     <g id=\"line2d_15\">\r\n      <path clip-path=\"url(#p6c10e6e77f)\" d=\"M 425.885412 320.915625 \r\nL 425.885412 21.935625 \r\n\" style=\"fill:none;stroke:#cccccc;stroke-linecap:round;\"/>\r\n     </g>\r\n     <g id=\"line2d_16\"/>\r\n     <g id=\"text_8\">\r\n      <!-- 9 -->\r\n      <defs>\r\n       <path d=\"M 5.46875 16.546875 \r\nL 13.921875 17.328125 \r\nQ 14.984375 11.375 18.015625 8.6875 \r\nQ 21.046875 6 25.78125 6 \r\nQ 29.828125 6 32.875 7.859375 \r\nQ 35.9375 9.71875 37.890625 12.8125 \r\nQ 39.84375 15.921875 41.15625 21.1875 \r\nQ 42.484375 26.46875 42.484375 31.9375 \r\nQ 42.484375 32.515625 42.4375 33.6875 \r\nQ 39.796875 29.5 35.234375 26.875 \r\nQ 30.671875 24.265625 25.34375 24.265625 \r\nQ 16.453125 24.265625 10.296875 30.703125 \r\nQ 4.15625 37.15625 4.15625 47.703125 \r\nQ 4.15625 58.59375 10.578125 65.234375 \r\nQ 17 71.875 26.65625 71.875 \r\nQ 33.640625 71.875 39.421875 68.109375 \r\nQ 45.21875 64.359375 48.21875 57.390625 \r\nQ 51.21875 50.4375 51.21875 37.25 \r\nQ 51.21875 23.53125 48.234375 15.40625 \r\nQ 45.265625 7.28125 39.375 3.03125 \r\nQ 33.5 -1.21875 25.59375 -1.21875 \r\nQ 17.1875 -1.21875 11.859375 3.4375 \r\nQ 6.546875 8.109375 5.46875 16.546875 \r\nz\r\nM 41.453125 48.140625 \r\nQ 41.453125 55.71875 37.421875 60.15625 \r\nQ 33.40625 64.59375 27.734375 64.59375 \r\nQ 21.875 64.59375 17.53125 59.8125 \r\nQ 13.1875 55.03125 13.1875 47.40625 \r\nQ 13.1875 40.578125 17.3125 36.296875 \r\nQ 21.4375 32.03125 27.484375 32.03125 \r\nQ 33.59375 32.03125 37.515625 36.296875 \r\nQ 41.453125 40.578125 41.453125 48.140625 \r\nz\r\n\" id=\"ArialMT-57\"/>\r\n      </defs>\r\n      <g style=\"fill:#262626;\" transform=\"translate(423.104943 335.073437)scale(0.1 -0.1)\">\r\n       <use xlink:href=\"#ArialMT-57\"/>\r\n      </g>\r\n     </g>\r\n    </g>\r\n    <g id=\"xtick_9\">\r\n     <g id=\"line2d_17\">\r\n      <path clip-path=\"url(#p6c10e6e77f)\" d=\"M 476.612685 320.915625 \r\nL 476.612685 21.935625 \r\n\" style=\"fill:none;stroke:#cccccc;stroke-linecap:round;\"/>\r\n     </g>\r\n     <g id=\"line2d_18\"/>\r\n     <g id=\"text_9\">\r\n      <!-- 10 -->\r\n      <defs>\r\n       <path d=\"M 37.25 0 \r\nL 28.46875 0 \r\nL 28.46875 56 \r\nQ 25.296875 52.984375 20.140625 49.953125 \r\nQ 14.984375 46.921875 10.890625 45.40625 \r\nL 10.890625 53.90625 \r\nQ 18.265625 57.375 23.78125 62.296875 \r\nQ 29.296875 67.234375 31.59375 71.875 \r\nL 37.25 71.875 \r\nz\r\n\" id=\"ArialMT-49\"/>\r\n       <path d=\"M 4.15625 35.296875 \r\nQ 4.15625 48 6.765625 55.734375 \r\nQ 9.375 63.484375 14.515625 67.671875 \r\nQ 19.671875 71.875 27.484375 71.875 \r\nQ 33.25 71.875 37.59375 69.546875 \r\nQ 41.9375 67.234375 44.765625 62.859375 \r\nQ 47.609375 58.5 49.21875 52.21875 \r\nQ 50.828125 45.953125 50.828125 35.296875 \r\nQ 50.828125 22.703125 48.234375 14.96875 \r\nQ 45.65625 7.234375 40.5 3 \r\nQ 35.359375 -1.21875 27.484375 -1.21875 \r\nQ 17.140625 -1.21875 11.234375 6.203125 \r\nQ 4.15625 15.140625 4.15625 35.296875 \r\nz\r\nM 13.1875 35.296875 \r\nQ 13.1875 17.671875 17.3125 11.828125 \r\nQ 21.4375 6 27.484375 6 \r\nQ 33.546875 6 37.671875 11.859375 \r\nQ 41.796875 17.71875 41.796875 35.296875 \r\nQ 41.796875 52.984375 37.671875 58.78125 \r\nQ 33.546875 64.59375 27.390625 64.59375 \r\nQ 21.34375 64.59375 17.71875 59.46875 \r\nQ 13.1875 52.9375 13.1875 35.296875 \r\nz\r\n\" id=\"ArialMT-48\"/>\r\n      </defs>\r\n      <g style=\"fill:#262626;\" transform=\"translate(471.051747 335.073437)scale(0.1 -0.1)\">\r\n       <use xlink:href=\"#ArialMT-49\"/>\r\n       <use x=\"55.615234\" xlink:href=\"#ArialMT-48\"/>\r\n      </g>\r\n     </g>\r\n    </g>\r\n    <g id=\"text_10\">\r\n     <!-- k -->\r\n     <defs>\r\n      <path d=\"M 6.640625 0 \r\nL 6.640625 71.578125 \r\nL 15.4375 71.578125 \r\nL 15.4375 30.765625 \r\nL 36.234375 51.859375 \r\nL 47.609375 51.859375 \r\nL 27.78125 32.625 \r\nL 49.609375 0 \r\nL 38.765625 0 \r\nL 21.625 26.515625 \r\nL 15.4375 20.5625 \r\nL 15.4375 0 \r\nz\r\n\" id=\"ArialMT-107\"/>\r\n     </defs>\r\n     <g style=\"fill:#262626;\" transform=\"translate(270.953594 348.934531)scale(0.11 -0.11)\">\r\n      <use xlink:href=\"#ArialMT-107\"/>\r\n     </g>\r\n    </g>\r\n   </g>\r\n   <g id=\"matplotlib.axis_2\">\r\n    <g id=\"ytick_1\">\r\n     <g id=\"line2d_19\">\r\n      <path clip-path=\"url(#p6c10e6e77f)\" d=\"M 50.503594 306.744801 \r\nL 496.903594 306.744801 \r\n\" style=\"fill:none;stroke:#cccccc;stroke-linecap:round;\"/>\r\n     </g>\r\n     <g id=\"line2d_20\"/>\r\n     <g id=\"text_11\">\r\n      <!-- 4400 -->\r\n      <g style=\"fill:#262626;\" transform=\"translate(21.259844 310.323707)scale(0.1 -0.1)\">\r\n       <use xlink:href=\"#ArialMT-52\"/>\r\n       <use x=\"55.615234\" xlink:href=\"#ArialMT-52\"/>\r\n       <use x=\"111.230469\" xlink:href=\"#ArialMT-48\"/>\r\n       <use x=\"166.845703\" xlink:href=\"#ArialMT-48\"/>\r\n      </g>\r\n     </g>\r\n    </g>\r\n    <g id=\"ytick_2\">\r\n     <g id=\"line2d_21\">\r\n      <path clip-path=\"url(#p6c10e6e77f)\" d=\"M 50.503594 262.870924 \r\nL 496.903594 262.870924 \r\n\" style=\"fill:none;stroke:#cccccc;stroke-linecap:round;\"/>\r\n     </g>\r\n     <g id=\"line2d_22\"/>\r\n     <g id=\"text_12\">\r\n      <!-- 4600 -->\r\n      <g style=\"fill:#262626;\" transform=\"translate(21.259844 266.44983)scale(0.1 -0.1)\">\r\n       <use xlink:href=\"#ArialMT-52\"/>\r\n       <use x=\"55.615234\" xlink:href=\"#ArialMT-54\"/>\r\n       <use x=\"111.230469\" xlink:href=\"#ArialMT-48\"/>\r\n       <use x=\"166.845703\" xlink:href=\"#ArialMT-48\"/>\r\n      </g>\r\n     </g>\r\n    </g>\r\n    <g id=\"ytick_3\">\r\n     <g id=\"line2d_23\">\r\n      <path clip-path=\"url(#p6c10e6e77f)\" d=\"M 50.503594 218.997046 \r\nL 496.903594 218.997046 \r\n\" style=\"fill:none;stroke:#cccccc;stroke-linecap:round;\"/>\r\n     </g>\r\n     <g id=\"line2d_24\"/>\r\n     <g id=\"text_13\">\r\n      <!-- 4800 -->\r\n      <g style=\"fill:#262626;\" transform=\"translate(21.259844 222.575953)scale(0.1 -0.1)\">\r\n       <use xlink:href=\"#ArialMT-52\"/>\r\n       <use x=\"55.615234\" xlink:href=\"#ArialMT-56\"/>\r\n       <use x=\"111.230469\" xlink:href=\"#ArialMT-48\"/>\r\n       <use x=\"166.845703\" xlink:href=\"#ArialMT-48\"/>\r\n      </g>\r\n     </g>\r\n    </g>\r\n    <g id=\"ytick_4\">\r\n     <g id=\"line2d_25\">\r\n      <path clip-path=\"url(#p6c10e6e77f)\" d=\"M 50.503594 175.123169 \r\nL 496.903594 175.123169 \r\n\" style=\"fill:none;stroke:#cccccc;stroke-linecap:round;\"/>\r\n     </g>\r\n     <g id=\"line2d_26\"/>\r\n     <g id=\"text_14\">\r\n      <!-- 5000 -->\r\n      <g style=\"fill:#262626;\" transform=\"translate(21.259844 178.702075)scale(0.1 -0.1)\">\r\n       <use xlink:href=\"#ArialMT-53\"/>\r\n       <use x=\"55.615234\" xlink:href=\"#ArialMT-48\"/>\r\n       <use x=\"111.230469\" xlink:href=\"#ArialMT-48\"/>\r\n       <use x=\"166.845703\" xlink:href=\"#ArialMT-48\"/>\r\n      </g>\r\n     </g>\r\n    </g>\r\n    <g id=\"ytick_5\">\r\n     <g id=\"line2d_27\">\r\n      <path clip-path=\"url(#p6c10e6e77f)\" d=\"M 50.503594 131.249292 \r\nL 496.903594 131.249292 \r\n\" style=\"fill:none;stroke:#cccccc;stroke-linecap:round;\"/>\r\n     </g>\r\n     <g id=\"line2d_28\"/>\r\n     <g id=\"text_15\">\r\n      <!-- 5200 -->\r\n      <g style=\"fill:#262626;\" transform=\"translate(21.259844 134.828198)scale(0.1 -0.1)\">\r\n       <use xlink:href=\"#ArialMT-53\"/>\r\n       <use x=\"55.615234\" xlink:href=\"#ArialMT-50\"/>\r\n       <use x=\"111.230469\" xlink:href=\"#ArialMT-48\"/>\r\n       <use x=\"166.845703\" xlink:href=\"#ArialMT-48\"/>\r\n      </g>\r\n     </g>\r\n    </g>\r\n    <g id=\"ytick_6\">\r\n     <g id=\"line2d_29\">\r\n      <path clip-path=\"url(#p6c10e6e77f)\" d=\"M 50.503594 87.375414 \r\nL 496.903594 87.375414 \r\n\" style=\"fill:none;stroke:#cccccc;stroke-linecap:round;\"/>\r\n     </g>\r\n     <g id=\"line2d_30\"/>\r\n     <g id=\"text_16\">\r\n      <!-- 5400 -->\r\n      <g style=\"fill:#262626;\" transform=\"translate(21.259844 90.954321)scale(0.1 -0.1)\">\r\n       <use xlink:href=\"#ArialMT-53\"/>\r\n       <use x=\"55.615234\" xlink:href=\"#ArialMT-52\"/>\r\n       <use x=\"111.230469\" xlink:href=\"#ArialMT-48\"/>\r\n       <use x=\"166.845703\" xlink:href=\"#ArialMT-48\"/>\r\n      </g>\r\n     </g>\r\n    </g>\r\n    <g id=\"ytick_7\">\r\n     <g id=\"line2d_31\">\r\n      <path clip-path=\"url(#p6c10e6e77f)\" d=\"M 50.503594 43.501537 \r\nL 496.903594 43.501537 \r\n\" style=\"fill:none;stroke:#cccccc;stroke-linecap:round;\"/>\r\n     </g>\r\n     <g id=\"line2d_32\"/>\r\n     <g id=\"text_17\">\r\n      <!-- 5600 -->\r\n      <g style=\"fill:#262626;\" transform=\"translate(21.259844 47.080443)scale(0.1 -0.1)\">\r\n       <use xlink:href=\"#ArialMT-53\"/>\r\n       <use x=\"55.615234\" xlink:href=\"#ArialMT-54\"/>\r\n       <use x=\"111.230469\" xlink:href=\"#ArialMT-48\"/>\r\n       <use x=\"166.845703\" xlink:href=\"#ArialMT-48\"/>\r\n      </g>\r\n     </g>\r\n    </g>\r\n    <g id=\"text_18\">\r\n     <!-- distortion score -->\r\n     <defs>\r\n      <path d=\"M 40.234375 0 \r\nL 40.234375 6.546875 \r\nQ 35.296875 -1.171875 25.734375 -1.171875 \r\nQ 19.53125 -1.171875 14.328125 2.25 \r\nQ 9.125 5.671875 6.265625 11.796875 \r\nQ 3.421875 17.921875 3.421875 25.875 \r\nQ 3.421875 33.640625 6 39.96875 \r\nQ 8.59375 46.296875 13.765625 49.65625 \r\nQ 18.953125 53.03125 25.34375 53.03125 \r\nQ 30.03125 53.03125 33.6875 51.046875 \r\nQ 37.359375 49.078125 39.65625 45.90625 \r\nL 39.65625 71.578125 \r\nL 48.390625 71.578125 \r\nL 48.390625 0 \r\nz\r\nM 12.453125 25.875 \r\nQ 12.453125 15.921875 16.640625 10.984375 \r\nQ 20.84375 6.0625 26.5625 6.0625 \r\nQ 32.328125 6.0625 36.34375 10.765625 \r\nQ 40.375 15.484375 40.375 25.140625 \r\nQ 40.375 35.796875 36.265625 40.765625 \r\nQ 32.171875 45.75 26.171875 45.75 \r\nQ 20.3125 45.75 16.375 40.96875 \r\nQ 12.453125 36.1875 12.453125 25.875 \r\nz\r\n\" id=\"ArialMT-100\"/>\r\n      <path d=\"M 6.640625 61.46875 \r\nL 6.640625 71.578125 \r\nL 15.4375 71.578125 \r\nL 15.4375 61.46875 \r\nz\r\nM 6.640625 0 \r\nL 6.640625 51.859375 \r\nL 15.4375 51.859375 \r\nL 15.4375 0 \r\nz\r\n\" id=\"ArialMT-105\"/>\r\n      <path d=\"M 3.078125 15.484375 \r\nL 11.765625 16.84375 \r\nQ 12.5 11.625 15.84375 8.84375 \r\nQ 19.1875 6.0625 25.203125 6.0625 \r\nQ 31.25 6.0625 34.171875 8.515625 \r\nQ 37.109375 10.984375 37.109375 14.3125 \r\nQ 37.109375 17.28125 34.515625 19 \r\nQ 32.71875 20.171875 25.53125 21.96875 \r\nQ 15.875 24.421875 12.140625 26.203125 \r\nQ 8.40625 27.984375 6.46875 31.125 \r\nQ 4.546875 34.28125 4.546875 38.09375 \r\nQ 4.546875 41.546875 6.125 44.5 \r\nQ 7.71875 47.46875 10.453125 49.421875 \r\nQ 12.5 50.921875 16.03125 51.96875 \r\nQ 19.578125 53.03125 23.640625 53.03125 \r\nQ 29.734375 53.03125 34.34375 51.265625 \r\nQ 38.96875 49.515625 41.15625 46.5 \r\nQ 43.359375 43.5 44.1875 38.484375 \r\nL 35.59375 37.3125 \r\nQ 35.015625 41.3125 32.203125 43.546875 \r\nQ 29.390625 45.796875 24.265625 45.796875 \r\nQ 18.21875 45.796875 15.625 43.796875 \r\nQ 13.03125 41.796875 13.03125 39.109375 \r\nQ 13.03125 37.40625 14.109375 36.03125 \r\nQ 15.1875 34.625 17.484375 33.6875 \r\nQ 18.796875 33.203125 25.25 31.453125 \r\nQ 34.578125 28.953125 38.25 27.359375 \r\nQ 41.9375 25.78125 44.03125 22.75 \r\nQ 46.140625 19.734375 46.140625 15.234375 \r\nQ 46.140625 10.84375 43.578125 6.953125 \r\nQ 41.015625 3.078125 36.171875 0.953125 \r\nQ 31.34375 -1.171875 25.25 -1.171875 \r\nQ 15.140625 -1.171875 9.84375 3.03125 \r\nQ 4.546875 7.234375 3.078125 15.484375 \r\nz\r\n\" id=\"ArialMT-115\"/>\r\n      <path d=\"M 25.78125 7.859375 \r\nL 27.046875 0.09375 \r\nQ 23.34375 -0.6875 20.40625 -0.6875 \r\nQ 15.625 -0.6875 12.984375 0.828125 \r\nQ 10.359375 2.34375 9.28125 4.8125 \r\nQ 8.203125 7.28125 8.203125 15.1875 \r\nL 8.203125 45.015625 \r\nL 1.765625 45.015625 \r\nL 1.765625 51.859375 \r\nL 8.203125 51.859375 \r\nL 8.203125 64.703125 \r\nL 16.9375 69.96875 \r\nL 16.9375 51.859375 \r\nL 25.78125 51.859375 \r\nL 25.78125 45.015625 \r\nL 16.9375 45.015625 \r\nL 16.9375 14.703125 \r\nQ 16.9375 10.9375 17.40625 9.859375 \r\nQ 17.875 8.796875 18.921875 8.15625 \r\nQ 19.96875 7.515625 21.921875 7.515625 \r\nQ 23.390625 7.515625 25.78125 7.859375 \r\nz\r\n\" id=\"ArialMT-116\"/>\r\n      <path d=\"M 3.328125 25.921875 \r\nQ 3.328125 40.328125 11.328125 47.265625 \r\nQ 18.015625 53.03125 27.640625 53.03125 \r\nQ 38.328125 53.03125 45.109375 46.015625 \r\nQ 51.90625 39.015625 51.90625 26.65625 \r\nQ 51.90625 16.65625 48.90625 10.90625 \r\nQ 45.90625 5.171875 40.15625 2 \r\nQ 34.421875 -1.171875 27.640625 -1.171875 \r\nQ 16.75 -1.171875 10.03125 5.8125 \r\nQ 3.328125 12.796875 3.328125 25.921875 \r\nz\r\nM 12.359375 25.921875 \r\nQ 12.359375 15.96875 16.703125 11.015625 \r\nQ 21.046875 6.0625 27.640625 6.0625 \r\nQ 34.1875 6.0625 38.53125 11.03125 \r\nQ 42.875 16.015625 42.875 26.21875 \r\nQ 42.875 35.84375 38.5 40.796875 \r\nQ 34.125 45.75 27.640625 45.75 \r\nQ 21.046875 45.75 16.703125 40.8125 \r\nQ 12.359375 35.890625 12.359375 25.921875 \r\nz\r\n\" id=\"ArialMT-111\"/>\r\n      <path d=\"M 6.5 0 \r\nL 6.5 51.859375 \r\nL 14.40625 51.859375 \r\nL 14.40625 44 \r\nQ 17.4375 49.515625 20 51.265625 \r\nQ 22.5625 53.03125 25.640625 53.03125 \r\nQ 30.078125 53.03125 34.671875 50.203125 \r\nL 31.640625 42.046875 \r\nQ 28.421875 43.953125 25.203125 43.953125 \r\nQ 22.3125 43.953125 20.015625 42.21875 \r\nQ 17.71875 40.484375 16.75 37.40625 \r\nQ 15.28125 32.71875 15.28125 27.15625 \r\nL 15.28125 0 \r\nz\r\n\" id=\"ArialMT-114\"/>\r\n      <path d=\"M 6.59375 0 \r\nL 6.59375 51.859375 \r\nL 14.5 51.859375 \r\nL 14.5 44.484375 \r\nQ 20.21875 53.03125 31 53.03125 \r\nQ 35.6875 53.03125 39.625 51.34375 \r\nQ 43.5625 49.65625 45.515625 46.921875 \r\nQ 47.46875 44.1875 48.25 40.4375 \r\nQ 48.734375 37.984375 48.734375 31.890625 \r\nL 48.734375 0 \r\nL 39.9375 0 \r\nL 39.9375 31.546875 \r\nQ 39.9375 36.921875 38.90625 39.578125 \r\nQ 37.890625 42.234375 35.28125 43.8125 \r\nQ 32.671875 45.40625 29.15625 45.40625 \r\nQ 23.53125 45.40625 19.453125 41.84375 \r\nQ 15.375 38.28125 15.375 28.328125 \r\nL 15.375 0 \r\nz\r\n\" id=\"ArialMT-110\"/>\r\n      <path id=\"ArialMT-32\"/>\r\n      <path d=\"M 40.4375 19 \r\nL 49.078125 17.875 \r\nQ 47.65625 8.9375 41.8125 3.875 \r\nQ 35.984375 -1.171875 27.484375 -1.171875 \r\nQ 16.84375 -1.171875 10.375 5.78125 \r\nQ 3.90625 12.75 3.90625 25.734375 \r\nQ 3.90625 34.125 6.6875 40.421875 \r\nQ 9.46875 46.734375 15.15625 49.875 \r\nQ 20.84375 53.03125 27.546875 53.03125 \r\nQ 35.984375 53.03125 41.359375 48.75 \r\nQ 46.734375 44.484375 48.25 36.625 \r\nL 39.703125 35.296875 \r\nQ 38.484375 40.53125 35.375 43.15625 \r\nQ 32.28125 45.796875 27.875 45.796875 \r\nQ 21.234375 45.796875 17.078125 41.03125 \r\nQ 12.9375 36.28125 12.9375 25.984375 \r\nQ 12.9375 15.53125 16.9375 10.796875 \r\nQ 20.953125 6.0625 27.390625 6.0625 \r\nQ 32.5625 6.0625 36.03125 9.234375 \r\nQ 39.5 12.40625 40.4375 19 \r\nz\r\n\" id=\"ArialMT-99\"/>\r\n      <path d=\"M 42.09375 16.703125 \r\nL 51.171875 15.578125 \r\nQ 49.03125 7.625 43.21875 3.21875 \r\nQ 37.40625 -1.171875 28.375 -1.171875 \r\nQ 17 -1.171875 10.328125 5.828125 \r\nQ 3.65625 12.84375 3.65625 25.484375 \r\nQ 3.65625 38.578125 10.390625 45.796875 \r\nQ 17.140625 53.03125 27.875 53.03125 \r\nQ 38.28125 53.03125 44.875 45.953125 \r\nQ 51.46875 38.875 51.46875 26.03125 \r\nQ 51.46875 25.25 51.421875 23.6875 \r\nL 12.75 23.6875 \r\nQ 13.234375 15.140625 17.578125 10.59375 \r\nQ 21.921875 6.0625 28.421875 6.0625 \r\nQ 33.25 6.0625 36.671875 8.59375 \r\nQ 40.09375 11.140625 42.09375 16.703125 \r\nz\r\nM 13.234375 30.90625 \r\nL 42.1875 30.90625 \r\nQ 41.609375 37.453125 38.875 40.71875 \r\nQ 34.671875 45.796875 27.984375 45.796875 \r\nQ 21.921875 45.796875 17.796875 41.75 \r\nQ 13.671875 37.703125 13.234375 30.90625 \r\nz\r\n\" id=\"ArialMT-101\"/>\r\n     </defs>\r\n     <g style=\"fill:#262626;\" transform=\"translate(15.073594 208.717344)rotate(-90)scale(0.11 -0.11)\">\r\n      <use xlink:href=\"#ArialMT-100\"/>\r\n      <use x=\"55.615234\" xlink:href=\"#ArialMT-105\"/>\r\n      <use x=\"77.832031\" xlink:href=\"#ArialMT-115\"/>\r\n      <use x=\"127.832031\" xlink:href=\"#ArialMT-116\"/>\r\n      <use x=\"155.615234\" xlink:href=\"#ArialMT-111\"/>\r\n      <use x=\"211.230469\" xlink:href=\"#ArialMT-114\"/>\r\n      <use x=\"244.53125\" xlink:href=\"#ArialMT-116\"/>\r\n      <use x=\"272.314453\" xlink:href=\"#ArialMT-105\"/>\r\n      <use x=\"294.53125\" xlink:href=\"#ArialMT-111\"/>\r\n      <use x=\"350.146484\" xlink:href=\"#ArialMT-110\"/>\r\n      <use x=\"405.761719\" xlink:href=\"#ArialMT-32\"/>\r\n      <use x=\"433.544922\" xlink:href=\"#ArialMT-115\"/>\r\n      <use x=\"483.544922\" xlink:href=\"#ArialMT-99\"/>\r\n      <use x=\"533.544922\" xlink:href=\"#ArialMT-111\"/>\r\n      <use x=\"589.160156\" xlink:href=\"#ArialMT-114\"/>\r\n      <use x=\"622.460938\" xlink:href=\"#ArialMT-101\"/>\r\n     </g>\r\n    </g>\r\n   </g>\r\n   <g id=\"line2d_33\">\r\n    <path clip-path=\"url(#p6c10e6e77f)\" d=\"M 70.794503 35.525625 \r\nL 121.521776 93.473164 \r\nL 172.249048 134.129239 \r\nL 222.976321 174.550787 \r\nL 273.703594 207.641261 \r\nL 324.430866 240.59315 \r\nL 375.158139 267.551973 \r\nL 425.885412 288.308637 \r\nL 476.612685 307.325625 \r\n\" style=\"fill:none;stroke:#0272a2;stroke-linecap:round;stroke-width:1.75;\"/>\r\n    <defs>\r\n     <path d=\"M 0 4.949747 \r\nL 4.949747 0 \r\nL 0 -4.949747 \r\nL -4.949747 0 \r\nz\r\n\" id=\"m1da2ea9da1\"/>\r\n    </defs>\r\n    <g clip-path=\"url(#p6c10e6e77f)\">\r\n     <use style=\"fill:#0272a2;\" x=\"70.794503\" xlink:href=\"#m1da2ea9da1\" y=\"35.525625\"/>\r\n     <use style=\"fill:#0272a2;\" x=\"121.521776\" xlink:href=\"#m1da2ea9da1\" y=\"93.473164\"/>\r\n     <use style=\"fill:#0272a2;\" x=\"172.249048\" xlink:href=\"#m1da2ea9da1\" y=\"134.129239\"/>\r\n     <use style=\"fill:#0272a2;\" x=\"222.976321\" xlink:href=\"#m1da2ea9da1\" y=\"174.550787\"/>\r\n     <use style=\"fill:#0272a2;\" x=\"273.703594\" xlink:href=\"#m1da2ea9da1\" y=\"207.641261\"/>\r\n     <use style=\"fill:#0272a2;\" x=\"324.430866\" xlink:href=\"#m1da2ea9da1\" y=\"240.59315\"/>\r\n     <use style=\"fill:#0272a2;\" x=\"375.158139\" xlink:href=\"#m1da2ea9da1\" y=\"267.551973\"/>\r\n     <use style=\"fill:#0272a2;\" x=\"425.885412\" xlink:href=\"#m1da2ea9da1\" y=\"288.308637\"/>\r\n     <use style=\"fill:#0272a2;\" x=\"476.612685\" xlink:href=\"#m1da2ea9da1\" y=\"307.325625\"/>\r\n    </g>\r\n   </g>\r\n   <g id=\"patch_3\">\r\n    <path d=\"M 50.503594 320.915625 \r\nL 50.503594 21.935625 \r\n\" style=\"fill:none;stroke:#cccccc;stroke-linecap:square;stroke-linejoin:miter;stroke-width:1.25;\"/>\r\n   </g>\r\n   <g id=\"patch_4\">\r\n    <path d=\"M 496.903594 320.915625 \r\nL 496.903594 21.935625 \r\n\" style=\"fill:none;stroke:#cccccc;stroke-linecap:square;stroke-linejoin:miter;stroke-width:1.25;\"/>\r\n   </g>\r\n   <g id=\"patch_5\">\r\n    <path d=\"M 50.503594 320.915625 \r\nL 496.903594 320.915625 \r\n\" style=\"fill:none;stroke:#cccccc;stroke-linecap:square;stroke-linejoin:miter;stroke-width:1.25;\"/>\r\n   </g>\r\n   <g id=\"patch_6\">\r\n    <path d=\"M 50.503594 21.935625 \r\nL 496.903594 21.935625 \r\n\" style=\"fill:none;stroke:#cccccc;stroke-linecap:square;stroke-linejoin:miter;stroke-width:1.25;\"/>\r\n   </g>\r\n   <g id=\"text_19\">\r\n    <!-- Distortion Score Elbow for KMeans Clustering -->\r\n    <defs>\r\n     <path d=\"M 7.71875 0 \r\nL 7.71875 71.578125 \r\nL 32.375 71.578125 \r\nQ 40.71875 71.578125 45.125 70.5625 \r\nQ 51.265625 69.140625 55.609375 65.4375 \r\nQ 61.28125 60.640625 64.078125 53.1875 \r\nQ 66.890625 45.75 66.890625 36.1875 \r\nQ 66.890625 28.03125 64.984375 21.734375 \r\nQ 63.09375 15.4375 60.109375 11.296875 \r\nQ 57.125 7.171875 53.578125 4.796875 \r\nQ 50.046875 2.4375 45.046875 1.21875 \r\nQ 40.046875 0 33.546875 0 \r\nz\r\nM 17.1875 8.453125 \r\nL 32.46875 8.453125 \r\nQ 39.546875 8.453125 43.578125 9.765625 \r\nQ 47.609375 11.078125 50 13.484375 \r\nQ 53.375 16.84375 55.25 22.53125 \r\nQ 57.125 28.21875 57.125 36.328125 \r\nQ 57.125 47.5625 53.4375 53.59375 \r\nQ 49.75 59.625 44.484375 61.671875 \r\nQ 40.671875 63.140625 32.234375 63.140625 \r\nL 17.1875 63.140625 \r\nz\r\n\" id=\"ArialMT-68\"/>\r\n     <path d=\"M 4.5 23 \r\nL 13.421875 23.78125 \r\nQ 14.0625 18.40625 16.375 14.96875 \r\nQ 18.703125 11.53125 23.578125 9.40625 \r\nQ 28.46875 7.28125 34.578125 7.28125 \r\nQ 39.984375 7.28125 44.140625 8.890625 \r\nQ 48.296875 10.5 50.3125 13.296875 \r\nQ 52.34375 16.109375 52.34375 19.4375 \r\nQ 52.34375 22.796875 50.390625 25.3125 \r\nQ 48.4375 27.828125 43.953125 29.546875 \r\nQ 41.0625 30.671875 31.203125 33.03125 \r\nQ 21.34375 35.40625 17.390625 37.5 \r\nQ 12.25 40.1875 9.734375 44.15625 \r\nQ 7.234375 48.140625 7.234375 53.078125 \r\nQ 7.234375 58.5 10.296875 63.203125 \r\nQ 13.375 67.921875 19.28125 70.359375 \r\nQ 25.203125 72.796875 32.421875 72.796875 \r\nQ 40.375 72.796875 46.453125 70.234375 \r\nQ 52.546875 67.671875 55.8125 62.6875 \r\nQ 59.078125 57.71875 59.328125 51.421875 \r\nL 50.25 50.734375 \r\nQ 49.515625 57.515625 45.28125 60.984375 \r\nQ 41.0625 64.453125 32.8125 64.453125 \r\nQ 24.21875 64.453125 20.28125 61.296875 \r\nQ 16.359375 58.15625 16.359375 53.71875 \r\nQ 16.359375 49.859375 19.140625 47.359375 \r\nQ 21.875 44.875 33.421875 42.265625 \r\nQ 44.96875 39.65625 49.265625 37.703125 \r\nQ 55.515625 34.8125 58.484375 30.390625 \r\nQ 61.46875 25.984375 61.46875 20.21875 \r\nQ 61.46875 14.5 58.203125 9.4375 \r\nQ 54.9375 4.390625 48.796875 1.578125 \r\nQ 42.671875 -1.21875 35.015625 -1.21875 \r\nQ 25.296875 -1.21875 18.71875 1.609375 \r\nQ 12.15625 4.4375 8.421875 10.125 \r\nQ 4.6875 15.828125 4.5 23 \r\nz\r\n\" id=\"ArialMT-83\"/>\r\n     <path d=\"M 7.90625 0 \r\nL 7.90625 71.578125 \r\nL 59.671875 71.578125 \r\nL 59.671875 63.140625 \r\nL 17.390625 63.140625 \r\nL 17.390625 41.21875 \r\nL 56.984375 41.21875 \r\nL 56.984375 32.8125 \r\nL 17.390625 32.8125 \r\nL 17.390625 8.453125 \r\nL 61.328125 8.453125 \r\nL 61.328125 0 \r\nz\r\n\" id=\"ArialMT-69\"/>\r\n     <path d=\"M 6.390625 0 \r\nL 6.390625 71.578125 \r\nL 15.1875 71.578125 \r\nL 15.1875 0 \r\nz\r\n\" id=\"ArialMT-108\"/>\r\n     <path d=\"M 14.703125 0 \r\nL 6.546875 0 \r\nL 6.546875 71.578125 \r\nL 15.328125 71.578125 \r\nL 15.328125 46.046875 \r\nQ 20.90625 53.03125 29.546875 53.03125 \r\nQ 34.328125 53.03125 38.59375 51.09375 \r\nQ 42.875 49.171875 45.625 45.671875 \r\nQ 48.390625 42.1875 49.953125 37.25 \r\nQ 51.515625 32.328125 51.515625 26.703125 \r\nQ 51.515625 13.375 44.921875 6.09375 \r\nQ 38.328125 -1.171875 29.109375 -1.171875 \r\nQ 19.921875 -1.171875 14.703125 6.5 \r\nz\r\nM 14.59375 26.3125 \r\nQ 14.59375 17 17.140625 12.84375 \r\nQ 21.296875 6.0625 28.375 6.0625 \r\nQ 34.125 6.0625 38.328125 11.0625 \r\nQ 42.53125 16.0625 42.53125 25.984375 \r\nQ 42.53125 36.140625 38.5 40.96875 \r\nQ 34.46875 45.796875 28.765625 45.796875 \r\nQ 23 45.796875 18.796875 40.796875 \r\nQ 14.59375 35.796875 14.59375 26.3125 \r\nz\r\n\" id=\"ArialMT-98\"/>\r\n     <path d=\"M 16.15625 0 \r\nL 0.296875 51.859375 \r\nL 9.375 51.859375 \r\nL 17.625 21.921875 \r\nL 20.703125 10.796875 \r\nQ 20.90625 11.625 23.390625 21.484375 \r\nL 31.640625 51.859375 \r\nL 40.671875 51.859375 \r\nL 48.4375 21.78125 \r\nL 51.03125 11.859375 \r\nL 54 21.875 \r\nL 62.890625 51.859375 \r\nL 71.4375 51.859375 \r\nL 55.21875 0 \r\nL 46.09375 0 \r\nL 37.84375 31.0625 \r\nL 35.84375 39.890625 \r\nL 25.34375 0 \r\nz\r\n\" id=\"ArialMT-119\"/>\r\n     <path d=\"M 8.6875 0 \r\nL 8.6875 45.015625 \r\nL 0.921875 45.015625 \r\nL 0.921875 51.859375 \r\nL 8.6875 51.859375 \r\nL 8.6875 57.375 \r\nQ 8.6875 62.59375 9.625 65.140625 \r\nQ 10.890625 68.5625 14.078125 70.671875 \r\nQ 17.28125 72.796875 23.046875 72.796875 \r\nQ 26.765625 72.796875 31.25 71.921875 \r\nL 29.9375 64.265625 \r\nQ 27.203125 64.75 24.75 64.75 \r\nQ 20.75 64.75 19.09375 63.03125 \r\nQ 17.4375 61.328125 17.4375 56.640625 \r\nL 17.4375 51.859375 \r\nL 27.546875 51.859375 \r\nL 27.546875 45.015625 \r\nL 17.4375 45.015625 \r\nL 17.4375 0 \r\nz\r\n\" id=\"ArialMT-102\"/>\r\n     <path d=\"M 7.328125 0 \r\nL 7.328125 71.578125 \r\nL 16.796875 71.578125 \r\nL 16.796875 36.078125 \r\nL 52.34375 71.578125 \r\nL 65.1875 71.578125 \r\nL 35.15625 42.578125 \r\nL 66.5 0 \r\nL 54 0 \r\nL 28.515625 36.234375 \r\nL 16.796875 24.8125 \r\nL 16.796875 0 \r\nz\r\n\" id=\"ArialMT-75\"/>\r\n     <path d=\"M 7.421875 0 \r\nL 7.421875 71.578125 \r\nL 21.6875 71.578125 \r\nL 38.625 20.90625 \r\nQ 40.96875 13.8125 42.046875 10.296875 \r\nQ 43.265625 14.203125 45.84375 21.78125 \r\nL 62.984375 71.578125 \r\nL 75.734375 71.578125 \r\nL 75.734375 0 \r\nL 66.609375 0 \r\nL 66.609375 59.90625 \r\nL 45.796875 0 \r\nL 37.25 0 \r\nL 16.546875 60.9375 \r\nL 16.546875 0 \r\nz\r\n\" id=\"ArialMT-77\"/>\r\n     <path d=\"M 40.4375 6.390625 \r\nQ 35.546875 2.25 31.03125 0.53125 \r\nQ 26.515625 -1.171875 21.34375 -1.171875 \r\nQ 12.796875 -1.171875 8.203125 3 \r\nQ 3.609375 7.171875 3.609375 13.671875 \r\nQ 3.609375 17.484375 5.34375 20.625 \r\nQ 7.078125 23.78125 9.890625 25.6875 \r\nQ 12.703125 27.59375 16.21875 28.5625 \r\nQ 18.796875 29.25 24.03125 29.890625 \r\nQ 34.671875 31.15625 39.703125 32.90625 \r\nQ 39.75 34.71875 39.75 35.203125 \r\nQ 39.75 40.578125 37.25 42.78125 \r\nQ 33.890625 45.75 27.25 45.75 \r\nQ 21.046875 45.75 18.09375 43.578125 \r\nQ 15.140625 41.40625 13.71875 35.890625 \r\nL 5.125 37.0625 \r\nQ 6.296875 42.578125 8.984375 45.96875 \r\nQ 11.671875 49.359375 16.75 51.1875 \r\nQ 21.828125 53.03125 28.515625 53.03125 \r\nQ 35.15625 53.03125 39.296875 51.46875 \r\nQ 43.453125 49.90625 45.40625 47.53125 \r\nQ 47.359375 45.171875 48.140625 41.546875 \r\nQ 48.578125 39.3125 48.578125 33.453125 \r\nL 48.578125 21.734375 \r\nQ 48.578125 9.46875 49.140625 6.21875 \r\nQ 49.703125 2.984375 51.375 0 \r\nL 42.1875 0 \r\nQ 40.828125 2.734375 40.4375 6.390625 \r\nz\r\nM 39.703125 26.03125 \r\nQ 34.90625 24.078125 25.34375 22.703125 \r\nQ 19.921875 21.921875 17.671875 20.9375 \r\nQ 15.4375 19.96875 14.203125 18.09375 \r\nQ 12.984375 16.21875 12.984375 13.921875 \r\nQ 12.984375 10.40625 15.640625 8.0625 \r\nQ 18.3125 5.71875 23.4375 5.71875 \r\nQ 28.515625 5.71875 32.46875 7.9375 \r\nQ 36.421875 10.15625 38.28125 14.015625 \r\nQ 39.703125 17 39.703125 22.796875 \r\nz\r\n\" id=\"ArialMT-97\"/>\r\n     <path d=\"M 58.796875 25.09375 \r\nL 68.265625 22.703125 \r\nQ 65.28125 11.03125 57.546875 4.90625 \r\nQ 49.8125 -1.21875 38.625 -1.21875 \r\nQ 27.046875 -1.21875 19.796875 3.484375 \r\nQ 12.546875 8.203125 8.765625 17.140625 \r\nQ 4.984375 26.078125 4.984375 36.328125 \r\nQ 4.984375 47.515625 9.25 55.828125 \r\nQ 13.53125 64.15625 21.40625 68.46875 \r\nQ 29.296875 72.796875 38.765625 72.796875 \r\nQ 49.515625 72.796875 56.828125 67.328125 \r\nQ 64.15625 61.859375 67.046875 51.953125 \r\nL 57.71875 49.75 \r\nQ 55.21875 57.5625 50.484375 61.125 \r\nQ 45.75 64.703125 38.578125 64.703125 \r\nQ 30.328125 64.703125 24.78125 60.734375 \r\nQ 19.234375 56.78125 16.984375 50.109375 \r\nQ 14.75 43.453125 14.75 36.375 \r\nQ 14.75 27.25 17.40625 20.4375 \r\nQ 20.0625 13.625 25.671875 10.25 \r\nQ 31.296875 6.890625 37.84375 6.890625 \r\nQ 45.796875 6.890625 51.3125 11.46875 \r\nQ 56.84375 16.0625 58.796875 25.09375 \r\nz\r\n\" id=\"ArialMT-67\"/>\r\n     <path d=\"M 40.578125 0 \r\nL 40.578125 7.625 \r\nQ 34.515625 -1.171875 24.125 -1.171875 \r\nQ 19.53125 -1.171875 15.546875 0.578125 \r\nQ 11.578125 2.34375 9.640625 5 \r\nQ 7.71875 7.671875 6.9375 11.53125 \r\nQ 6.390625 14.109375 6.390625 19.734375 \r\nL 6.390625 51.859375 \r\nL 15.1875 51.859375 \r\nL 15.1875 23.09375 \r\nQ 15.1875 16.21875 15.71875 13.8125 \r\nQ 16.546875 10.359375 19.234375 8.375 \r\nQ 21.921875 6.390625 25.875 6.390625 \r\nQ 29.828125 6.390625 33.296875 8.421875 \r\nQ 36.765625 10.453125 38.203125 13.9375 \r\nQ 39.65625 17.4375 39.65625 24.078125 \r\nL 39.65625 51.859375 \r\nL 48.4375 51.859375 \r\nL 48.4375 0 \r\nz\r\n\" id=\"ArialMT-117\"/>\r\n     <path d=\"M 4.984375 -4.296875 \r\nL 13.53125 -5.5625 \r\nQ 14.0625 -9.515625 16.5 -11.328125 \r\nQ 19.78125 -13.765625 25.4375 -13.765625 \r\nQ 31.546875 -13.765625 34.859375 -11.328125 \r\nQ 38.1875 -8.890625 39.359375 -4.5 \r\nQ 40.046875 -1.8125 39.984375 6.78125 \r\nQ 34.234375 0 25.640625 0 \r\nQ 14.9375 0 9.078125 7.71875 \r\nQ 3.21875 15.4375 3.21875 26.21875 \r\nQ 3.21875 33.640625 5.90625 39.90625 \r\nQ 8.59375 46.1875 13.6875 49.609375 \r\nQ 18.796875 53.03125 25.6875 53.03125 \r\nQ 34.859375 53.03125 40.828125 45.609375 \r\nL 40.828125 51.859375 \r\nL 48.921875 51.859375 \r\nL 48.921875 7.03125 \r\nQ 48.921875 -5.078125 46.453125 -10.125 \r\nQ 44 -15.1875 38.640625 -18.109375 \r\nQ 33.296875 -21.046875 25.484375 -21.046875 \r\nQ 16.21875 -21.046875 10.5 -16.875 \r\nQ 4.78125 -12.703125 4.984375 -4.296875 \r\nz\r\nM 12.25 26.859375 \r\nQ 12.25 16.65625 16.296875 11.96875 \r\nQ 20.359375 7.28125 26.46875 7.28125 \r\nQ 32.515625 7.28125 36.609375 11.9375 \r\nQ 40.71875 16.609375 40.71875 26.5625 \r\nQ 40.71875 36.078125 36.5 40.90625 \r\nQ 32.28125 45.75 26.3125 45.75 \r\nQ 20.453125 45.75 16.34375 40.984375 \r\nQ 12.25 36.234375 12.25 26.859375 \r\nz\r\n\" id=\"ArialMT-103\"/>\r\n    </defs>\r\n    <g style=\"fill:#262626;\" transform=\"translate(151.992656 15.935625)scale(0.12 -0.12)\">\r\n     <use xlink:href=\"#ArialMT-68\"/>\r\n     <use x=\"72.216797\" xlink:href=\"#ArialMT-105\"/>\r\n     <use x=\"94.433594\" xlink:href=\"#ArialMT-115\"/>\r\n     <use x=\"144.433594\" xlink:href=\"#ArialMT-116\"/>\r\n     <use x=\"172.216797\" xlink:href=\"#ArialMT-111\"/>\r\n     <use x=\"227.832031\" xlink:href=\"#ArialMT-114\"/>\r\n     <use x=\"261.132812\" xlink:href=\"#ArialMT-116\"/>\r\n     <use x=\"288.916016\" xlink:href=\"#ArialMT-105\"/>\r\n     <use x=\"311.132812\" xlink:href=\"#ArialMT-111\"/>\r\n     <use x=\"366.748047\" xlink:href=\"#ArialMT-110\"/>\r\n     <use x=\"422.363281\" xlink:href=\"#ArialMT-32\"/>\r\n     <use x=\"450.146484\" xlink:href=\"#ArialMT-83\"/>\r\n     <use x=\"516.845703\" xlink:href=\"#ArialMT-99\"/>\r\n     <use x=\"566.845703\" xlink:href=\"#ArialMT-111\"/>\r\n     <use x=\"622.460938\" xlink:href=\"#ArialMT-114\"/>\r\n     <use x=\"655.761719\" xlink:href=\"#ArialMT-101\"/>\r\n     <use x=\"711.376953\" xlink:href=\"#ArialMT-32\"/>\r\n     <use x=\"739.160156\" xlink:href=\"#ArialMT-69\"/>\r\n     <use x=\"805.859375\" xlink:href=\"#ArialMT-108\"/>\r\n     <use x=\"828.076172\" xlink:href=\"#ArialMT-98\"/>\r\n     <use x=\"883.691406\" xlink:href=\"#ArialMT-111\"/>\r\n     <use x=\"939.306641\" xlink:href=\"#ArialMT-119\"/>\r\n     <use x=\"1011.523438\" xlink:href=\"#ArialMT-32\"/>\r\n     <use x=\"1039.306641\" xlink:href=\"#ArialMT-102\"/>\r\n     <use x=\"1067.089844\" xlink:href=\"#ArialMT-111\"/>\r\n     <use x=\"1122.705078\" xlink:href=\"#ArialMT-114\"/>\r\n     <use x=\"1156.005859\" xlink:href=\"#ArialMT-32\"/>\r\n     <use x=\"1183.789062\" xlink:href=\"#ArialMT-75\"/>\r\n     <use x=\"1250.488281\" xlink:href=\"#ArialMT-77\"/>\r\n     <use x=\"1333.789062\" xlink:href=\"#ArialMT-101\"/>\r\n     <use x=\"1389.404297\" xlink:href=\"#ArialMT-97\"/>\r\n     <use x=\"1445.019531\" xlink:href=\"#ArialMT-110\"/>\r\n     <use x=\"1500.634766\" xlink:href=\"#ArialMT-115\"/>\r\n     <use x=\"1550.634766\" xlink:href=\"#ArialMT-32\"/>\r\n     <use x=\"1578.417969\" xlink:href=\"#ArialMT-67\"/>\r\n     <use x=\"1650.634766\" xlink:href=\"#ArialMT-108\"/>\r\n     <use x=\"1672.851562\" xlink:href=\"#ArialMT-117\"/>\r\n     <use x=\"1728.466797\" xlink:href=\"#ArialMT-115\"/>\r\n     <use x=\"1778.466797\" xlink:href=\"#ArialMT-116\"/>\r\n     <use x=\"1806.25\" xlink:href=\"#ArialMT-101\"/>\r\n     <use x=\"1861.865234\" xlink:href=\"#ArialMT-114\"/>\r\n     <use x=\"1895.166016\" xlink:href=\"#ArialMT-105\"/>\r\n     <use x=\"1917.382812\" xlink:href=\"#ArialMT-110\"/>\r\n     <use x=\"1972.998047\" xlink:href=\"#ArialMT-103\"/>\r\n    </g>\r\n   </g>\r\n  </g>\r\n </g>\r\n <defs>\r\n  <clipPath id=\"p6c10e6e77f\">\r\n   <rect height=\"298.98\" width=\"446.4\" x=\"50.503594\" y=\"21.935625\"/>\r\n  </clipPath>\r\n </defs>\r\n</svg>\r\n",
      "image/png": "[encoded data removed]"
     },
     "metadata": {}
    }
   ],
   "source": [
    "plot_model(kmeans, plot=\"elbow\") "
   ]
  },
  {
   "cell_type": "code",
   "execution_count": 14,
   "metadata": {},
   "outputs": [
    {
     "output_type": "display_data",
     "data": {
      "text/html": "        <script type=\"text/javascript\">\n        window.PlotlyConfig = {MathJaxConfig: 'local'};\n        if (window.MathJax) {MathJax.Hub.Config({SVG: {font: \"STIX-Web\"}});}\n        if (typeof require !== 'undefined') {\n        require.undef(\"plotly\");\n        requirejs.config({\n            paths: {\n                'plotly': ['https://cdn.plot.ly/plotly-latest.min']\n            }\n        });\n        require(['plotly'], function(Plotly) {\n            window._Plotly = Plotly;\n        });\n        }\n        </script>\n        "
     },
     "metadata": {}
    },
    {
     "output_type": "display_data",
     "data": {
      "text/plain": "<Figure size 576x396 with 1 Axes>",
      "image/svg+xml": "<?xml version=\"1.0\" encoding=\"utf-8\" standalone=\"no\"?>\r\n<!DOCTYPE svg PUBLIC \"-//W3C//DTD SVG 1.1//EN\"\r\n  \"http://www.w3.org/Graphics/SVG/1.1/DTD/svg11.dtd\">\r\n<!-- Created with matplotlib (https://matplotlib.org/) -->\r\n<svg height=\"358.320781pt\" version=\"1.1\" viewBox=\"0 0 494.370781 358.320781\" width=\"494.370781pt\" xmlns=\"http://www.w3.org/2000/svg\" xmlns:xlink=\"http://www.w3.org/1999/xlink\">\r\n <defs>\r\n  <style type=\"text/css\">\r\n*{stroke-linecap:butt;stroke-linejoin:round;}\r\n  </style>\r\n </defs>\r\n <g id=\"figure_1\">\r\n  <g id=\"patch_1\">\r\n   <path d=\"M 0 358.320781 \r\nL 494.370781 358.320781 \r\nL 494.370781 0 \r\nL 0 0 \r\nz\r\n\" style=\"fill:#ffffff;\"/>\r\n  </g>\r\n  <g id=\"axes_1\">\r\n   <g id=\"patch_2\">\r\n    <path d=\"M 33.820781 320.915625 \r\nL 480.220781 320.915625 \r\nL 480.220781 21.935625 \r\nL 33.820781 21.935625 \r\nz\r\n\" style=\"fill:#ffffff;\"/>\r\n   </g>\r\n   <g id=\"matplotlib.axis_1\">\r\n    <g id=\"xtick_1\">\r\n     <g id=\"line2d_1\">\r\n      <path clip-path=\"url(#p097e70d6c2)\" d=\"M 33.820781 320.915625 \r\nL 33.820781 21.935625 \r\n\" style=\"fill:none;stroke:#cccccc;stroke-linecap:round;\"/>\r\n     </g>\r\n     <g id=\"line2d_2\"/>\r\n     <g id=\"text_1\">\r\n      <!-- −0.2 -->\r\n      <defs>\r\n       <path d=\"M 52.828125 31.203125 \r\nL 5.5625 31.203125 \r\nL 5.5625 39.40625 \r\nL 52.828125 39.40625 \r\nz\r\n\" id=\"ArialMT-8722\"/>\r\n       <path d=\"M 4.15625 35.296875 \r\nQ 4.15625 48 6.765625 55.734375 \r\nQ 9.375 63.484375 14.515625 67.671875 \r\nQ 19.671875 71.875 27.484375 71.875 \r\nQ 33.25 71.875 37.59375 69.546875 \r\nQ 41.9375 67.234375 44.765625 62.859375 \r\nQ 47.609375 58.5 49.21875 52.21875 \r\nQ 50.828125 45.953125 50.828125 35.296875 \r\nQ 50.828125 22.703125 48.234375 14.96875 \r\nQ 45.65625 7.234375 40.5 3 \r\nQ 35.359375 -1.21875 27.484375 -1.21875 \r\nQ 17.140625 -1.21875 11.234375 6.203125 \r\nQ 4.15625 15.140625 4.15625 35.296875 \r\nz\r\nM 13.1875 35.296875 \r\nQ 13.1875 17.671875 17.3125 11.828125 \r\nQ 21.4375 6 27.484375 6 \r\nQ 33.546875 6 37.671875 11.859375 \r\nQ 41.796875 17.71875 41.796875 35.296875 \r\nQ 41.796875 52.984375 37.671875 58.78125 \r\nQ 33.546875 64.59375 27.390625 64.59375 \r\nQ 21.34375 64.59375 17.71875 59.46875 \r\nQ 13.1875 52.9375 13.1875 35.296875 \r\nz\r\n\" id=\"ArialMT-48\"/>\r\n       <path d=\"M 9.078125 0 \r\nL 9.078125 10.015625 \r\nL 19.09375 10.015625 \r\nL 19.09375 0 \r\nz\r\n\" id=\"ArialMT-46\"/>\r\n       <path d=\"M 50.34375 8.453125 \r\nL 50.34375 0 \r\nL 3.03125 0 \r\nQ 2.9375 3.171875 4.046875 6.109375 \r\nQ 5.859375 10.9375 9.828125 15.625 \r\nQ 13.8125 20.3125 21.34375 26.46875 \r\nQ 33.015625 36.03125 37.109375 41.625 \r\nQ 41.21875 47.21875 41.21875 52.203125 \r\nQ 41.21875 57.421875 37.46875 61 \r\nQ 33.734375 64.59375 27.734375 64.59375 \r\nQ 21.390625 64.59375 17.578125 60.78125 \r\nQ 13.765625 56.984375 13.71875 50.25 \r\nL 4.6875 51.171875 \r\nQ 5.609375 61.28125 11.65625 66.578125 \r\nQ 17.71875 71.875 27.9375 71.875 \r\nQ 38.234375 71.875 44.234375 66.15625 \r\nQ 50.25 60.453125 50.25 52 \r\nQ 50.25 47.703125 48.484375 43.546875 \r\nQ 46.734375 39.40625 42.65625 34.8125 \r\nQ 38.578125 30.21875 29.109375 22.21875 \r\nQ 21.1875 15.578125 18.9375 13.203125 \r\nQ 16.703125 10.84375 15.234375 8.453125 \r\nz\r\n\" id=\"ArialMT-50\"/>\r\n      </defs>\r\n      <g style=\"fill:#262626;\" transform=\"translate(23.950469 335.073437)scale(0.1 -0.1)\">\r\n       <use xlink:href=\"#ArialMT-8722\"/>\r\n       <use x=\"58.398438\" xlink:href=\"#ArialMT-48\"/>\r\n       <use x=\"114.013672\" xlink:href=\"#ArialMT-46\"/>\r\n       <use x=\"141.796875\" xlink:href=\"#ArialMT-50\"/>\r\n      </g>\r\n     </g>\r\n    </g>\r\n    <g id=\"xtick_2\">\r\n     <g id=\"line2d_3\">\r\n      <path clip-path=\"url(#p097e70d6c2)\" d=\"M 123.100781 320.915625 \r\nL 123.100781 21.935625 \r\n\" style=\"fill:none;stroke:#cccccc;stroke-linecap:round;\"/>\r\n     </g>\r\n     <g id=\"line2d_4\"/>\r\n     <g id=\"text_2\">\r\n      <!-- −0.1 -->\r\n      <defs>\r\n       <path d=\"M 37.25 0 \r\nL 28.46875 0 \r\nL 28.46875 56 \r\nQ 25.296875 52.984375 20.140625 49.953125 \r\nQ 14.984375 46.921875 10.890625 45.40625 \r\nL 10.890625 53.90625 \r\nQ 18.265625 57.375 23.78125 62.296875 \r\nQ 29.296875 67.234375 31.59375 71.875 \r\nL 37.25 71.875 \r\nz\r\n\" id=\"ArialMT-49\"/>\r\n      </defs>\r\n      <g style=\"fill:#262626;\" transform=\"translate(113.230469 335.073437)scale(0.1 -0.1)\">\r\n       <use xlink:href=\"#ArialMT-8722\"/>\r\n       <use x=\"58.398438\" xlink:href=\"#ArialMT-48\"/>\r\n       <use x=\"114.013672\" xlink:href=\"#ArialMT-46\"/>\r\n       <use x=\"141.796875\" xlink:href=\"#ArialMT-49\"/>\r\n      </g>\r\n     </g>\r\n    </g>\r\n    <g id=\"xtick_3\">\r\n     <g id=\"line2d_5\">\r\n      <path clip-path=\"url(#p097e70d6c2)\" d=\"M 212.380781 320.915625 \r\nL 212.380781 21.935625 \r\n\" style=\"fill:none;stroke:#cccccc;stroke-linecap:round;\"/>\r\n     </g>\r\n     <g id=\"line2d_6\"/>\r\n     <g id=\"text_3\">\r\n      <!-- 0.0 -->\r\n      <g style=\"fill:#262626;\" transform=\"translate(205.430781 335.073437)scale(0.1 -0.1)\">\r\n       <use xlink:href=\"#ArialMT-48\"/>\r\n       <use x=\"55.615234\" xlink:href=\"#ArialMT-46\"/>\r\n       <use x=\"83.398438\" xlink:href=\"#ArialMT-48\"/>\r\n      </g>\r\n     </g>\r\n    </g>\r\n    <g id=\"xtick_4\">\r\n     <g id=\"line2d_7\">\r\n      <path clip-path=\"url(#p097e70d6c2)\" d=\"M 301.660781 320.915625 \r\nL 301.660781 21.935625 \r\n\" style=\"fill:none;stroke:#cccccc;stroke-linecap:round;\"/>\r\n     </g>\r\n     <g id=\"line2d_8\"/>\r\n     <g id=\"text_4\">\r\n      <!-- 0.1 -->\r\n      <g style=\"fill:#262626;\" transform=\"translate(294.710781 335.073437)scale(0.1 -0.1)\">\r\n       <use xlink:href=\"#ArialMT-48\"/>\r\n       <use x=\"55.615234\" xlink:href=\"#ArialMT-46\"/>\r\n       <use x=\"83.398438\" xlink:href=\"#ArialMT-49\"/>\r\n      </g>\r\n     </g>\r\n    </g>\r\n    <g id=\"xtick_5\">\r\n     <g id=\"line2d_9\">\r\n      <path clip-path=\"url(#p097e70d6c2)\" d=\"M 390.940781 320.915625 \r\nL 390.940781 21.935625 \r\n\" style=\"fill:none;stroke:#cccccc;stroke-linecap:round;\"/>\r\n     </g>\r\n     <g id=\"line2d_10\"/>\r\n     <g id=\"text_5\">\r\n      <!-- 0.2 -->\r\n      <g style=\"fill:#262626;\" transform=\"translate(383.990781 335.073437)scale(0.1 -0.1)\">\r\n       <use xlink:href=\"#ArialMT-48\"/>\r\n       <use x=\"55.615234\" xlink:href=\"#ArialMT-46\"/>\r\n       <use x=\"83.398438\" xlink:href=\"#ArialMT-50\"/>\r\n      </g>\r\n     </g>\r\n    </g>\r\n    <g id=\"xtick_6\">\r\n     <g id=\"line2d_11\">\r\n      <path clip-path=\"url(#p097e70d6c2)\" d=\"M 480.220781 320.915625 \r\nL 480.220781 21.935625 \r\n\" style=\"fill:none;stroke:#cccccc;stroke-linecap:round;\"/>\r\n     </g>\r\n     <g id=\"line2d_12\"/>\r\n     <g id=\"text_6\">\r\n      <!-- 0.3 -->\r\n      <defs>\r\n       <path d=\"M 4.203125 18.890625 \r\nL 12.984375 20.0625 \r\nQ 14.5 12.59375 18.140625 9.296875 \r\nQ 21.78125 6 27 6 \r\nQ 33.203125 6 37.46875 10.296875 \r\nQ 41.75 14.59375 41.75 20.953125 \r\nQ 41.75 27 37.796875 30.921875 \r\nQ 33.84375 34.859375 27.734375 34.859375 \r\nQ 25.25 34.859375 21.53125 33.890625 \r\nL 22.515625 41.609375 \r\nQ 23.390625 41.5 23.921875 41.5 \r\nQ 29.546875 41.5 34.03125 44.421875 \r\nQ 38.53125 47.359375 38.53125 53.46875 \r\nQ 38.53125 58.296875 35.25 61.46875 \r\nQ 31.984375 64.65625 26.8125 64.65625 \r\nQ 21.6875 64.65625 18.265625 61.421875 \r\nQ 14.84375 58.203125 13.875 51.765625 \r\nL 5.078125 53.328125 \r\nQ 6.6875 62.15625 12.390625 67.015625 \r\nQ 18.109375 71.875 26.609375 71.875 \r\nQ 32.46875 71.875 37.390625 69.359375 \r\nQ 42.328125 66.84375 44.9375 62.5 \r\nQ 47.5625 58.15625 47.5625 53.265625 \r\nQ 47.5625 48.640625 45.0625 44.828125 \r\nQ 42.578125 41.015625 37.703125 38.765625 \r\nQ 44.046875 37.3125 47.5625 32.6875 \r\nQ 51.078125 28.078125 51.078125 21.140625 \r\nQ 51.078125 11.765625 44.234375 5.25 \r\nQ 37.40625 -1.265625 26.953125 -1.265625 \r\nQ 17.53125 -1.265625 11.296875 4.34375 \r\nQ 5.078125 9.96875 4.203125 18.890625 \r\nz\r\n\" id=\"ArialMT-51\"/>\r\n      </defs>\r\n      <g style=\"fill:#262626;\" transform=\"translate(473.270781 335.073437)scale(0.1 -0.1)\">\r\n       <use xlink:href=\"#ArialMT-48\"/>\r\n       <use x=\"55.615234\" xlink:href=\"#ArialMT-46\"/>\r\n       <use x=\"83.398438\" xlink:href=\"#ArialMT-51\"/>\r\n      </g>\r\n     </g>\r\n    </g>\r\n    <g id=\"text_7\">\r\n     <!-- silhouette coefficient values -->\r\n     <defs>\r\n      <path d=\"M 3.078125 15.484375 \r\nL 11.765625 16.84375 \r\nQ 12.5 11.625 15.84375 8.84375 \r\nQ 19.1875 6.0625 25.203125 6.0625 \r\nQ 31.25 6.0625 34.171875 8.515625 \r\nQ 37.109375 10.984375 37.109375 14.3125 \r\nQ 37.109375 17.28125 34.515625 19 \r\nQ 32.71875 20.171875 25.53125 21.96875 \r\nQ 15.875 24.421875 12.140625 26.203125 \r\nQ 8.40625 27.984375 6.46875 31.125 \r\nQ 4.546875 34.28125 4.546875 38.09375 \r\nQ 4.546875 41.546875 6.125 44.5 \r\nQ 7.71875 47.46875 10.453125 49.421875 \r\nQ 12.5 50.921875 16.03125 51.96875 \r\nQ 19.578125 53.03125 23.640625 53.03125 \r\nQ 29.734375 53.03125 34.34375 51.265625 \r\nQ 38.96875 49.515625 41.15625 46.5 \r\nQ 43.359375 43.5 44.1875 38.484375 \r\nL 35.59375 37.3125 \r\nQ 35.015625 41.3125 32.203125 43.546875 \r\nQ 29.390625 45.796875 24.265625 45.796875 \r\nQ 18.21875 45.796875 15.625 43.796875 \r\nQ 13.03125 41.796875 13.03125 39.109375 \r\nQ 13.03125 37.40625 14.109375 36.03125 \r\nQ 15.1875 34.625 17.484375 33.6875 \r\nQ 18.796875 33.203125 25.25 31.453125 \r\nQ 34.578125 28.953125 38.25 27.359375 \r\nQ 41.9375 25.78125 44.03125 22.75 \r\nQ 46.140625 19.734375 46.140625 15.234375 \r\nQ 46.140625 10.84375 43.578125 6.953125 \r\nQ 41.015625 3.078125 36.171875 0.953125 \r\nQ 31.34375 -1.171875 25.25 -1.171875 \r\nQ 15.140625 -1.171875 9.84375 3.03125 \r\nQ 4.546875 7.234375 3.078125 15.484375 \r\nz\r\n\" id=\"ArialMT-115\"/>\r\n      <path d=\"M 6.640625 61.46875 \r\nL 6.640625 71.578125 \r\nL 15.4375 71.578125 \r\nL 15.4375 61.46875 \r\nz\r\nM 6.640625 0 \r\nL 6.640625 51.859375 \r\nL 15.4375 51.859375 \r\nL 15.4375 0 \r\nz\r\n\" id=\"ArialMT-105\"/>\r\n      <path d=\"M 6.390625 0 \r\nL 6.390625 71.578125 \r\nL 15.1875 71.578125 \r\nL 15.1875 0 \r\nz\r\n\" id=\"ArialMT-108\"/>\r\n      <path d=\"M 6.59375 0 \r\nL 6.59375 71.578125 \r\nL 15.375 71.578125 \r\nL 15.375 45.90625 \r\nQ 21.53125 53.03125 30.90625 53.03125 \r\nQ 36.671875 53.03125 40.921875 50.75 \r\nQ 45.171875 48.484375 47 44.484375 \r\nQ 48.828125 40.484375 48.828125 32.859375 \r\nL 48.828125 0 \r\nL 40.046875 0 \r\nL 40.046875 32.859375 \r\nQ 40.046875 39.453125 37.1875 42.453125 \r\nQ 34.328125 45.453125 29.109375 45.453125 \r\nQ 25.203125 45.453125 21.75 43.421875 \r\nQ 18.3125 41.40625 16.84375 37.9375 \r\nQ 15.375 34.46875 15.375 28.375 \r\nL 15.375 0 \r\nz\r\n\" id=\"ArialMT-104\"/>\r\n      <path d=\"M 3.328125 25.921875 \r\nQ 3.328125 40.328125 11.328125 47.265625 \r\nQ 18.015625 53.03125 27.640625 53.03125 \r\nQ 38.328125 53.03125 45.109375 46.015625 \r\nQ 51.90625 39.015625 51.90625 26.65625 \r\nQ 51.90625 16.65625 48.90625 10.90625 \r\nQ 45.90625 5.171875 40.15625 2 \r\nQ 34.421875 -1.171875 27.640625 -1.171875 \r\nQ 16.75 -1.171875 10.03125 5.8125 \r\nQ 3.328125 12.796875 3.328125 25.921875 \r\nz\r\nM 12.359375 25.921875 \r\nQ 12.359375 15.96875 16.703125 11.015625 \r\nQ 21.046875 6.0625 27.640625 6.0625 \r\nQ 34.1875 6.0625 38.53125 11.03125 \r\nQ 42.875 16.015625 42.875 26.21875 \r\nQ 42.875 35.84375 38.5 40.796875 \r\nQ 34.125 45.75 27.640625 45.75 \r\nQ 21.046875 45.75 16.703125 40.8125 \r\nQ 12.359375 35.890625 12.359375 25.921875 \r\nz\r\n\" id=\"ArialMT-111\"/>\r\n      <path d=\"M 40.578125 0 \r\nL 40.578125 7.625 \r\nQ 34.515625 -1.171875 24.125 -1.171875 \r\nQ 19.53125 -1.171875 15.546875 0.578125 \r\nQ 11.578125 2.34375 9.640625 5 \r\nQ 7.71875 7.671875 6.9375 11.53125 \r\nQ 6.390625 14.109375 6.390625 19.734375 \r\nL 6.390625 51.859375 \r\nL 15.1875 51.859375 \r\nL 15.1875 23.09375 \r\nQ 15.1875 16.21875 15.71875 13.8125 \r\nQ 16.546875 10.359375 19.234375 8.375 \r\nQ 21.921875 6.390625 25.875 6.390625 \r\nQ 29.828125 6.390625 33.296875 8.421875 \r\nQ 36.765625 10.453125 38.203125 13.9375 \r\nQ 39.65625 17.4375 39.65625 24.078125 \r\nL 39.65625 51.859375 \r\nL 48.4375 51.859375 \r\nL 48.4375 0 \r\nz\r\n\" id=\"ArialMT-117\"/>\r\n      <path d=\"M 42.09375 16.703125 \r\nL 51.171875 15.578125 \r\nQ 49.03125 7.625 43.21875 3.21875 \r\nQ 37.40625 -1.171875 28.375 -1.171875 \r\nQ 17 -1.171875 10.328125 5.828125 \r\nQ 3.65625 12.84375 3.65625 25.484375 \r\nQ 3.65625 38.578125 10.390625 45.796875 \r\nQ 17.140625 53.03125 27.875 53.03125 \r\nQ 38.28125 53.03125 44.875 45.953125 \r\nQ 51.46875 38.875 51.46875 26.03125 \r\nQ 51.46875 25.25 51.421875 23.6875 \r\nL 12.75 23.6875 \r\nQ 13.234375 15.140625 17.578125 10.59375 \r\nQ 21.921875 6.0625 28.421875 6.0625 \r\nQ 33.25 6.0625 36.671875 8.59375 \r\nQ 40.09375 11.140625 42.09375 16.703125 \r\nz\r\nM 13.234375 30.90625 \r\nL 42.1875 30.90625 \r\nQ 41.609375 37.453125 38.875 40.71875 \r\nQ 34.671875 45.796875 27.984375 45.796875 \r\nQ 21.921875 45.796875 17.796875 41.75 \r\nQ 13.671875 37.703125 13.234375 30.90625 \r\nz\r\n\" id=\"ArialMT-101\"/>\r\n      <path d=\"M 25.78125 7.859375 \r\nL 27.046875 0.09375 \r\nQ 23.34375 -0.6875 20.40625 -0.6875 \r\nQ 15.625 -0.6875 12.984375 0.828125 \r\nQ 10.359375 2.34375 9.28125 4.8125 \r\nQ 8.203125 7.28125 8.203125 15.1875 \r\nL 8.203125 45.015625 \r\nL 1.765625 45.015625 \r\nL 1.765625 51.859375 \r\nL 8.203125 51.859375 \r\nL 8.203125 64.703125 \r\nL 16.9375 69.96875 \r\nL 16.9375 51.859375 \r\nL 25.78125 51.859375 \r\nL 25.78125 45.015625 \r\nL 16.9375 45.015625 \r\nL 16.9375 14.703125 \r\nQ 16.9375 10.9375 17.40625 9.859375 \r\nQ 17.875 8.796875 18.921875 8.15625 \r\nQ 19.96875 7.515625 21.921875 7.515625 \r\nQ 23.390625 7.515625 25.78125 7.859375 \r\nz\r\n\" id=\"ArialMT-116\"/>\r\n      <path id=\"ArialMT-32\"/>\r\n      <path d=\"M 40.4375 19 \r\nL 49.078125 17.875 \r\nQ 47.65625 8.9375 41.8125 3.875 \r\nQ 35.984375 -1.171875 27.484375 -1.171875 \r\nQ 16.84375 -1.171875 10.375 5.78125 \r\nQ 3.90625 12.75 3.90625 25.734375 \r\nQ 3.90625 34.125 6.6875 40.421875 \r\nQ 9.46875 46.734375 15.15625 49.875 \r\nQ 20.84375 53.03125 27.546875 53.03125 \r\nQ 35.984375 53.03125 41.359375 48.75 \r\nQ 46.734375 44.484375 48.25 36.625 \r\nL 39.703125 35.296875 \r\nQ 38.484375 40.53125 35.375 43.15625 \r\nQ 32.28125 45.796875 27.875 45.796875 \r\nQ 21.234375 45.796875 17.078125 41.03125 \r\nQ 12.9375 36.28125 12.9375 25.984375 \r\nQ 12.9375 15.53125 16.9375 10.796875 \r\nQ 20.953125 6.0625 27.390625 6.0625 \r\nQ 32.5625 6.0625 36.03125 9.234375 \r\nQ 39.5 12.40625 40.4375 19 \r\nz\r\n\" id=\"ArialMT-99\"/>\r\n      <path d=\"M 8.6875 0 \r\nL 8.6875 45.015625 \r\nL 0.921875 45.015625 \r\nL 0.921875 51.859375 \r\nL 8.6875 51.859375 \r\nL 8.6875 57.375 \r\nQ 8.6875 62.59375 9.625 65.140625 \r\nQ 10.890625 68.5625 14.078125 70.671875 \r\nQ 17.28125 72.796875 23.046875 72.796875 \r\nQ 26.765625 72.796875 31.25 71.921875 \r\nL 29.9375 64.265625 \r\nQ 27.203125 64.75 24.75 64.75 \r\nQ 20.75 64.75 19.09375 63.03125 \r\nQ 17.4375 61.328125 17.4375 56.640625 \r\nL 17.4375 51.859375 \r\nL 27.546875 51.859375 \r\nL 27.546875 45.015625 \r\nL 17.4375 45.015625 \r\nL 17.4375 0 \r\nz\r\n\" id=\"ArialMT-102\"/>\r\n      <path d=\"M 6.59375 0 \r\nL 6.59375 51.859375 \r\nL 14.5 51.859375 \r\nL 14.5 44.484375 \r\nQ 20.21875 53.03125 31 53.03125 \r\nQ 35.6875 53.03125 39.625 51.34375 \r\nQ 43.5625 49.65625 45.515625 46.921875 \r\nQ 47.46875 44.1875 48.25 40.4375 \r\nQ 48.734375 37.984375 48.734375 31.890625 \r\nL 48.734375 0 \r\nL 39.9375 0 \r\nL 39.9375 31.546875 \r\nQ 39.9375 36.921875 38.90625 39.578125 \r\nQ 37.890625 42.234375 35.28125 43.8125 \r\nQ 32.671875 45.40625 29.15625 45.40625 \r\nQ 23.53125 45.40625 19.453125 41.84375 \r\nQ 15.375 38.28125 15.375 28.328125 \r\nL 15.375 0 \r\nz\r\n\" id=\"ArialMT-110\"/>\r\n      <path d=\"M 21 0 \r\nL 1.265625 51.859375 \r\nL 10.546875 51.859375 \r\nL 21.6875 20.796875 \r\nQ 23.484375 15.765625 25 10.359375 \r\nQ 26.171875 14.453125 28.265625 20.21875 \r\nL 39.796875 51.859375 \r\nL 48.828125 51.859375 \r\nL 29.203125 0 \r\nz\r\n\" id=\"ArialMT-118\"/>\r\n      <path d=\"M 40.4375 6.390625 \r\nQ 35.546875 2.25 31.03125 0.53125 \r\nQ 26.515625 -1.171875 21.34375 -1.171875 \r\nQ 12.796875 -1.171875 8.203125 3 \r\nQ 3.609375 7.171875 3.609375 13.671875 \r\nQ 3.609375 17.484375 5.34375 20.625 \r\nQ 7.078125 23.78125 9.890625 25.6875 \r\nQ 12.703125 27.59375 16.21875 28.5625 \r\nQ 18.796875 29.25 24.03125 29.890625 \r\nQ 34.671875 31.15625 39.703125 32.90625 \r\nQ 39.75 34.71875 39.75 35.203125 \r\nQ 39.75 40.578125 37.25 42.78125 \r\nQ 33.890625 45.75 27.25 45.75 \r\nQ 21.046875 45.75 18.09375 43.578125 \r\nQ 15.140625 41.40625 13.71875 35.890625 \r\nL 5.125 37.0625 \r\nQ 6.296875 42.578125 8.984375 45.96875 \r\nQ 11.671875 49.359375 16.75 51.1875 \r\nQ 21.828125 53.03125 28.515625 53.03125 \r\nQ 35.15625 53.03125 39.296875 51.46875 \r\nQ 43.453125 49.90625 45.40625 47.53125 \r\nQ 47.359375 45.171875 48.140625 41.546875 \r\nQ 48.578125 39.3125 48.578125 33.453125 \r\nL 48.578125 21.734375 \r\nQ 48.578125 9.46875 49.140625 6.21875 \r\nQ 49.703125 2.984375 51.375 0 \r\nL 42.1875 0 \r\nQ 40.828125 2.734375 40.4375 6.390625 \r\nz\r\nM 39.703125 26.03125 \r\nQ 34.90625 24.078125 25.34375 22.703125 \r\nQ 19.921875 21.921875 17.671875 20.9375 \r\nQ 15.4375 19.96875 14.203125 18.09375 \r\nQ 12.984375 16.21875 12.984375 13.921875 \r\nQ 12.984375 10.40625 15.640625 8.0625 \r\nQ 18.3125 5.71875 23.4375 5.71875 \r\nQ 28.515625 5.71875 32.46875 7.9375 \r\nQ 36.421875 10.15625 38.28125 14.015625 \r\nQ 39.703125 17 39.703125 22.796875 \r\nz\r\n\" id=\"ArialMT-97\"/>\r\n     </defs>\r\n     <g style=\"fill:#262626;\" transform=\"translate(189.858906 348.934531)scale(0.11 -0.11)\">\r\n      <use xlink:href=\"#ArialMT-115\"/>\r\n      <use x=\"50\" xlink:href=\"#ArialMT-105\"/>\r\n      <use x=\"72.216797\" xlink:href=\"#ArialMT-108\"/>\r\n      <use x=\"94.433594\" xlink:href=\"#ArialMT-104\"/>\r\n      <use x=\"150.048828\" xlink:href=\"#ArialMT-111\"/>\r\n      <use x=\"205.664062\" xlink:href=\"#ArialMT-117\"/>\r\n      <use x=\"261.279297\" xlink:href=\"#ArialMT-101\"/>\r\n      <use x=\"316.894531\" xlink:href=\"#ArialMT-116\"/>\r\n      <use x=\"344.677734\" xlink:href=\"#ArialMT-116\"/>\r\n      <use x=\"372.460938\" xlink:href=\"#ArialMT-101\"/>\r\n      <use x=\"428.076172\" xlink:href=\"#ArialMT-32\"/>\r\n      <use x=\"455.859375\" xlink:href=\"#ArialMT-99\"/>\r\n      <use x=\"505.859375\" xlink:href=\"#ArialMT-111\"/>\r\n      <use x=\"561.474609\" xlink:href=\"#ArialMT-101\"/>\r\n      <use x=\"617.089844\" xlink:href=\"#ArialMT-102\"/>\r\n      <use x=\"643.123047\" xlink:href=\"#ArialMT-102\"/>\r\n      <use x=\"670.90625\" xlink:href=\"#ArialMT-105\"/>\r\n      <use x=\"693.123047\" xlink:href=\"#ArialMT-99\"/>\r\n      <use x=\"743.123047\" xlink:href=\"#ArialMT-105\"/>\r\n      <use x=\"765.339844\" xlink:href=\"#ArialMT-101\"/>\r\n      <use x=\"820.955078\" xlink:href=\"#ArialMT-110\"/>\r\n      <use x=\"876.570312\" xlink:href=\"#ArialMT-116\"/>\r\n      <use x=\"904.353516\" xlink:href=\"#ArialMT-32\"/>\r\n      <use x=\"932.136719\" xlink:href=\"#ArialMT-118\"/>\r\n      <use x=\"982.136719\" xlink:href=\"#ArialMT-97\"/>\r\n      <use x=\"1037.751953\" xlink:href=\"#ArialMT-108\"/>\r\n      <use x=\"1059.96875\" xlink:href=\"#ArialMT-117\"/>\r\n      <use x=\"1115.583984\" xlink:href=\"#ArialMT-101\"/>\r\n      <use x=\"1171.199219\" xlink:href=\"#ArialMT-115\"/>\r\n     </g>\r\n    </g>\r\n   </g>\r\n   <g id=\"matplotlib.axis_2\">\r\n    <g id=\"ytick_1\">\r\n     <g id=\"line2d_13\">\r\n      <path clip-path=\"url(#p097e70d6c2)\" d=\"M 33.820781 287.4391 \r\nL 480.220781 287.4391 \r\n\" style=\"fill:none;stroke:#cccccc;stroke-linecap:round;\"/>\r\n     </g>\r\n     <g id=\"line2d_14\"/>\r\n     <g id=\"text_8\">\r\n      <!-- 0 -->\r\n      <g style=\"fill:#262626;\" transform=\"translate(21.259844 291.018006)scale(0.1 -0.1)\">\r\n       <use xlink:href=\"#ArialMT-48\"/>\r\n      </g>\r\n     </g>\r\n    </g>\r\n    <g id=\"ytick_2\">\r\n     <g id=\"line2d_15\">\r\n      <path clip-path=\"url(#p097e70d6c2)\" d=\"M 33.820781 225.103501 \r\nL 480.220781 225.103501 \r\n\" style=\"fill:none;stroke:#cccccc;stroke-linecap:round;\"/>\r\n     </g>\r\n     <g id=\"line2d_16\"/>\r\n     <g id=\"text_9\">\r\n      <!-- 1 -->\r\n      <g style=\"fill:#262626;\" transform=\"translate(21.259844 228.682408)scale(0.1 -0.1)\">\r\n       <use xlink:href=\"#ArialMT-49\"/>\r\n      </g>\r\n     </g>\r\n    </g>\r\n    <g id=\"ytick_3\">\r\n     <g id=\"line2d_17\">\r\n      <path clip-path=\"url(#p097e70d6c2)\" d=\"M 33.820781 166.230992 \r\nL 480.220781 166.230992 \r\n\" style=\"fill:none;stroke:#cccccc;stroke-linecap:round;\"/>\r\n     </g>\r\n     <g id=\"line2d_18\"/>\r\n     <g id=\"text_10\">\r\n      <!-- 2 -->\r\n      <g style=\"fill:#262626;\" transform=\"translate(21.259844 169.809898)scale(0.1 -0.1)\">\r\n       <use xlink:href=\"#ArialMT-50\"/>\r\n      </g>\r\n     </g>\r\n    </g>\r\n    <g id=\"ytick_4\">\r\n     <g id=\"line2d_19\">\r\n      <path clip-path=\"url(#p097e70d6c2)\" d=\"M 33.820781 114.28466 \r\nL 480.220781 114.28466 \r\n\" style=\"fill:none;stroke:#cccccc;stroke-linecap:round;\"/>\r\n     </g>\r\n     <g id=\"line2d_20\"/>\r\n     <g id=\"text_11\">\r\n      <!-- 3 -->\r\n      <g style=\"fill:#262626;\" transform=\"translate(21.259844 117.863566)scale(0.1 -0.1)\">\r\n       <use xlink:href=\"#ArialMT-51\"/>\r\n      </g>\r\n     </g>\r\n    </g>\r\n    <g id=\"ytick_5\">\r\n     <g id=\"line2d_21\">\r\n      <path clip-path=\"url(#p097e70d6c2)\" d=\"M 33.820781 57.143694 \r\nL 480.220781 57.143694 \r\n\" style=\"fill:none;stroke:#cccccc;stroke-linecap:round;\"/>\r\n     </g>\r\n     <g id=\"line2d_22\"/>\r\n     <g id=\"text_12\">\r\n      <!-- 4 -->\r\n      <defs>\r\n       <path d=\"M 32.328125 0 \r\nL 32.328125 17.140625 \r\nL 1.265625 17.140625 \r\nL 1.265625 25.203125 \r\nL 33.9375 71.578125 \r\nL 41.109375 71.578125 \r\nL 41.109375 25.203125 \r\nL 50.78125 25.203125 \r\nL 50.78125 17.140625 \r\nL 41.109375 17.140625 \r\nL 41.109375 0 \r\nz\r\nM 32.328125 25.203125 \r\nL 32.328125 57.46875 \r\nL 9.90625 25.203125 \r\nz\r\n\" id=\"ArialMT-52\"/>\r\n      </defs>\r\n      <g style=\"fill:#262626;\" transform=\"translate(21.259844 60.722601)scale(0.1 -0.1)\">\r\n       <use xlink:href=\"#ArialMT-52\"/>\r\n      </g>\r\n     </g>\r\n    </g>\r\n    <g id=\"text_13\">\r\n     <!-- cluster label -->\r\n     <defs>\r\n      <path d=\"M 6.5 0 \r\nL 6.5 51.859375 \r\nL 14.40625 51.859375 \r\nL 14.40625 44 \r\nQ 17.4375 49.515625 20 51.265625 \r\nQ 22.5625 53.03125 25.640625 53.03125 \r\nQ 30.078125 53.03125 34.671875 50.203125 \r\nL 31.640625 42.046875 \r\nQ 28.421875 43.953125 25.203125 43.953125 \r\nQ 22.3125 43.953125 20.015625 42.21875 \r\nQ 17.71875 40.484375 16.75 37.40625 \r\nQ 15.28125 32.71875 15.28125 27.15625 \r\nL 15.28125 0 \r\nz\r\n\" id=\"ArialMT-114\"/>\r\n      <path d=\"M 14.703125 0 \r\nL 6.546875 0 \r\nL 6.546875 71.578125 \r\nL 15.328125 71.578125 \r\nL 15.328125 46.046875 \r\nQ 20.90625 53.03125 29.546875 53.03125 \r\nQ 34.328125 53.03125 38.59375 51.09375 \r\nQ 42.875 49.171875 45.625 45.671875 \r\nQ 48.390625 42.1875 49.953125 37.25 \r\nQ 51.515625 32.328125 51.515625 26.703125 \r\nQ 51.515625 13.375 44.921875 6.09375 \r\nQ 38.328125 -1.171875 29.109375 -1.171875 \r\nQ 19.921875 -1.171875 14.703125 6.5 \r\nz\r\nM 14.59375 26.3125 \r\nQ 14.59375 17 17.140625 12.84375 \r\nQ 21.296875 6.0625 28.375 6.0625 \r\nQ 34.125 6.0625 38.328125 11.0625 \r\nQ 42.53125 16.0625 42.53125 25.984375 \r\nQ 42.53125 36.140625 38.5 40.96875 \r\nQ 34.46875 45.796875 28.765625 45.796875 \r\nQ 23 45.796875 18.796875 40.796875 \r\nQ 14.59375 35.796875 14.59375 26.3125 \r\nz\r\n\" id=\"ArialMT-98\"/>\r\n     </defs>\r\n     <g style=\"fill:#262626;\" transform=\"translate(15.073594 200.771562)rotate(-90)scale(0.11 -0.11)\">\r\n      <use xlink:href=\"#ArialMT-99\"/>\r\n      <use x=\"50\" xlink:href=\"#ArialMT-108\"/>\r\n      <use x=\"72.216797\" xlink:href=\"#ArialMT-117\"/>\r\n      <use x=\"127.832031\" xlink:href=\"#ArialMT-115\"/>\r\n      <use x=\"177.832031\" xlink:href=\"#ArialMT-116\"/>\r\n      <use x=\"205.615234\" xlink:href=\"#ArialMT-101\"/>\r\n      <use x=\"261.230469\" xlink:href=\"#ArialMT-114\"/>\r\n      <use x=\"294.53125\" xlink:href=\"#ArialMT-32\"/>\r\n      <use x=\"322.314453\" xlink:href=\"#ArialMT-108\"/>\r\n      <use x=\"344.53125\" xlink:href=\"#ArialMT-97\"/>\r\n      <use x=\"400.146484\" xlink:href=\"#ArialMT-98\"/>\r\n      <use x=\"455.761719\" xlink:href=\"#ArialMT-101\"/>\r\n      <use x=\"511.376953\" xlink:href=\"#ArialMT-108\"/>\r\n     </g>\r\n    </g>\r\n   </g>\r\n   <g id=\"PolyCollection_1\">\r\n    <defs>\r\n     <path d=\"M 235.752354 -43.176971 \r\nL 212.380781 -43.176971 \r\nL 212.380781 -43.754152 \r\nL 212.380781 -44.331334 \r\nL 212.380781 -44.908515 \r\nL 212.380781 -45.485697 \r\nL 212.380781 -46.062878 \r\nL 212.380781 -46.64006 \r\nL 212.380781 -47.217241 \r\nL 212.380781 -47.794423 \r\nL 212.380781 -48.371604 \r\nL 212.380781 -48.948786 \r\nL 212.380781 -49.525967 \r\nL 212.380781 -50.103149 \r\nL 212.380781 -50.68033 \r\nL 212.380781 -51.257511 \r\nL 212.380781 -51.834693 \r\nL 212.380781 -52.411874 \r\nL 212.380781 -52.989056 \r\nL 212.380781 -53.566237 \r\nL 212.380781 -54.143419 \r\nL 212.380781 -54.7206 \r\nL 212.380781 -55.297782 \r\nL 212.380781 -55.874963 \r\nL 212.380781 -56.452145 \r\nL 212.380781 -57.029326 \r\nL 212.380781 -57.606508 \r\nL 212.380781 -58.183689 \r\nL 212.380781 -58.760871 \r\nL 212.380781 -59.338052 \r\nL 212.380781 -59.915233 \r\nL 212.380781 -60.492415 \r\nL 212.380781 -61.069596 \r\nL 212.380781 -61.646778 \r\nL 212.380781 -62.223959 \r\nL 212.380781 -62.801141 \r\nL 212.380781 -63.378322 \r\nL 212.380781 -63.955504 \r\nL 212.380781 -64.532685 \r\nL 212.380781 -65.109867 \r\nL 212.380781 -65.687048 \r\nL 212.380781 -66.26423 \r\nL 212.380781 -66.841411 \r\nL 212.380781 -67.418593 \r\nL 212.380781 -67.995774 \r\nL 212.380781 -68.572955 \r\nL 212.380781 -69.150137 \r\nL 212.380781 -69.727318 \r\nL 212.380781 -70.3045 \r\nL 212.380781 -70.881681 \r\nL 212.380781 -71.458863 \r\nL 212.380781 -72.036044 \r\nL 212.380781 -72.613226 \r\nL 212.380781 -73.190407 \r\nL 212.380781 -73.767589 \r\nL 212.380781 -74.34477 \r\nL 212.380781 -74.921952 \r\nL 212.380781 -75.499133 \r\nL 212.380781 -76.076315 \r\nL 212.380781 -76.653496 \r\nL 212.380781 -77.230677 \r\nL 212.380781 -77.807859 \r\nL 212.380781 -78.38504 \r\nL 212.380781 -78.962222 \r\nL 212.380781 -79.539403 \r\nL 212.380781 -80.116585 \r\nL 212.380781 -80.693766 \r\nL 212.380781 -81.270948 \r\nL 212.380781 -81.848129 \r\nL 212.380781 -82.425311 \r\nL 212.380781 -83.002492 \r\nL 212.380781 -83.579674 \r\nL 212.380781 -84.156855 \r\nL 212.380781 -84.734037 \r\nL 212.380781 -85.311218 \r\nL 212.380781 -85.888399 \r\nL 212.380781 -86.465581 \r\nL 212.380781 -87.042762 \r\nL 212.380781 -87.619944 \r\nL 212.380781 -88.197125 \r\nL 212.380781 -88.774307 \r\nL 212.380781 -89.351488 \r\nL 212.380781 -89.92867 \r\nL 212.380781 -90.505851 \r\nL 212.380781 -91.083033 \r\nL 212.380781 -91.660214 \r\nL 212.380781 -92.237396 \r\nL 212.380781 -92.814577 \r\nL 212.380781 -93.391759 \r\nL 212.380781 -93.96894 \r\nL 212.380781 -94.546122 \r\nL 212.380781 -95.123303 \r\nL 212.380781 -95.700484 \r\nL 212.380781 -96.277666 \r\nL 212.380781 -96.854847 \r\nL 212.380781 -97.432029 \r\nL 212.380781 -98.00921 \r\nL 398.576438 -98.00921 \r\nL 398.576438 -98.00921 \r\nL 388.961588 -97.432029 \r\nL 377.087299 -96.854847 \r\nL 366.703195 -96.277666 \r\nL 354.336393 -95.700484 \r\nL 347.025439 -95.123303 \r\nL 345.390158 -94.546122 \r\nL 345.231346 -93.96894 \r\nL 340.414398 -93.391759 \r\nL 340.20473 -92.814577 \r\nL 332.509635 -92.237396 \r\nL 326.318276 -91.660214 \r\nL 324.46388 -91.083033 \r\nL 321.865098 -90.505851 \r\nL 321.215245 -89.92867 \r\nL 319.460345 -89.351488 \r\nL 318.024506 -88.774307 \r\nL 317.988296 -88.197125 \r\nL 312.663995 -87.619944 \r\nL 312.03144 -87.042762 \r\nL 310.463253 -86.465581 \r\nL 309.833011 -85.888399 \r\nL 308.756915 -85.311218 \r\nL 304.103396 -84.734037 \r\nL 300.290093 -84.156855 \r\nL 300.238483 -83.579674 \r\nL 296.706085 -83.002492 \r\nL 295.280674 -82.425311 \r\nL 294.396586 -81.848129 \r\nL 293.748843 -81.270948 \r\nL 293.318995 -80.693766 \r\nL 292.736166 -80.116585 \r\nL 291.643912 -79.539403 \r\nL 290.005447 -78.962222 \r\nL 289.438901 -78.38504 \r\nL 289.022227 -77.807859 \r\nL 288.626417 -77.230677 \r\nL 286.971028 -76.653496 \r\nL 286.764351 -76.076315 \r\nL 284.565414 -75.499133 \r\nL 284.398398 -74.921952 \r\nL 284.370617 -74.34477 \r\nL 284.221793 -73.767589 \r\nL 283.69791 -73.190407 \r\nL 283.401454 -72.613226 \r\nL 282.831461 -72.036044 \r\nL 281.700087 -71.458863 \r\nL 281.588898 -70.881681 \r\nL 281.031717 -70.3045 \r\nL 278.818718 -69.727318 \r\nL 278.292628 -69.150137 \r\nL 276.331099 -68.572955 \r\nL 275.602834 -67.995774 \r\nL 274.586627 -67.418593 \r\nL 274.35771 -66.841411 \r\nL 273.770242 -66.26423 \r\nL 273.650625 -65.687048 \r\nL 271.407608 -65.109867 \r\nL 270.904586 -64.532685 \r\nL 270.795414 -63.955504 \r\nL 269.958174 -63.378322 \r\nL 268.412832 -62.801141 \r\nL 268.019754 -62.223959 \r\nL 266.998565 -61.646778 \r\nL 263.227828 -61.069596 \r\nL 263.181295 -60.492415 \r\nL 262.844751 -59.915233 \r\nL 261.79493 -59.338052 \r\nL 261.015851 -58.760871 \r\nL 260.823618 -58.183689 \r\nL 260.814566 -57.606508 \r\nL 260.489169 -57.029326 \r\nL 258.516891 -56.452145 \r\nL 258.303011 -55.874963 \r\nL 255.778895 -55.297782 \r\nL 254.24206 -54.7206 \r\nL 253.550213 -54.143419 \r\nL 253.549757 -53.566237 \r\nL 253.288494 -52.989056 \r\nL 251.841431 -52.411874 \r\nL 250.699596 -51.834693 \r\nL 249.062708 -51.257511 \r\nL 246.396437 -50.68033 \r\nL 245.531512 -50.103149 \r\nL 244.871066 -49.525967 \r\nL 244.216513 -48.948786 \r\nL 244.164497 -48.371604 \r\nL 242.144692 -47.794423 \r\nL 242.087951 -47.217241 \r\nL 241.218663 -46.64006 \r\nL 241.144981 -46.062878 \r\nL 241.134665 -45.485697 \r\nL 240.074889 -44.908515 \r\nL 237.871448 -44.331334 \r\nL 236.388844 -43.754152 \r\nL 235.752354 -43.176971 \r\nz\r\n\" id=\"ma3d0745ab0\" style=\"stroke:#0272a2;stroke-opacity:0.5;stroke-width:0.3;\"/>\r\n    </defs>\r\n    <g clip-path=\"url(#p097e70d6c2)\">\r\n     <use style=\"fill:#0272a2;fill-opacity:0.5;stroke:#0272a2;stroke-opacity:0.5;stroke-width:0.3;\" x=\"0\" xlink:href=\"#ma3d0745ab0\" y=\"358.320781\"/>\r\n    </g>\r\n   </g>\r\n   <g id=\"PolyCollection_2\">\r\n    <defs>\r\n     <path d=\"M 177.497976 -104.358206 \r\nL 212.380781 -104.358206 \r\nL 212.380781 -104.935388 \r\nL 212.380781 -105.512569 \r\nL 212.380781 -106.089751 \r\nL 212.380781 -106.666932 \r\nL 212.380781 -107.244114 \r\nL 212.380781 -107.821295 \r\nL 212.380781 -108.398477 \r\nL 212.380781 -108.975658 \r\nL 212.380781 -109.55284 \r\nL 212.380781 -110.130021 \r\nL 212.380781 -110.707203 \r\nL 212.380781 -111.284384 \r\nL 212.380781 -111.861566 \r\nL 212.380781 -112.438747 \r\nL 212.380781 -113.015928 \r\nL 212.380781 -113.59311 \r\nL 212.380781 -114.170291 \r\nL 212.380781 -114.747473 \r\nL 212.380781 -115.324654 \r\nL 212.380781 -115.901836 \r\nL 212.380781 -116.479017 \r\nL 212.380781 -117.056199 \r\nL 212.380781 -117.63338 \r\nL 212.380781 -118.210562 \r\nL 212.380781 -118.787743 \r\nL 212.380781 -119.364925 \r\nL 212.380781 -119.942106 \r\nL 212.380781 -120.519288 \r\nL 212.380781 -121.096469 \r\nL 212.380781 -121.67365 \r\nL 212.380781 -122.250832 \r\nL 212.380781 -122.828013 \r\nL 212.380781 -123.405195 \r\nL 212.380781 -123.982376 \r\nL 212.380781 -124.559558 \r\nL 212.380781 -125.136739 \r\nL 212.380781 -125.713921 \r\nL 212.380781 -126.291102 \r\nL 212.380781 -126.868284 \r\nL 212.380781 -127.445465 \r\nL 212.380781 -128.022647 \r\nL 212.380781 -128.599828 \r\nL 212.380781 -129.17701 \r\nL 212.380781 -129.754191 \r\nL 212.380781 -130.331372 \r\nL 212.380781 -130.908554 \r\nL 212.380781 -131.485735 \r\nL 212.380781 -132.062917 \r\nL 212.380781 -132.640098 \r\nL 212.380781 -133.21728 \r\nL 212.380781 -133.794461 \r\nL 212.380781 -134.371643 \r\nL 212.380781 -134.948824 \r\nL 212.380781 -135.526006 \r\nL 212.380781 -136.103187 \r\nL 212.380781 -136.680369 \r\nL 212.380781 -137.25755 \r\nL 212.380781 -137.834732 \r\nL 212.380781 -138.411913 \r\nL 212.380781 -138.989094 \r\nL 212.380781 -139.566276 \r\nL 212.380781 -140.143457 \r\nL 212.380781 -140.720639 \r\nL 212.380781 -141.29782 \r\nL 212.380781 -141.875002 \r\nL 212.380781 -142.452183 \r\nL 212.380781 -143.029365 \r\nL 212.380781 -143.606546 \r\nL 212.380781 -144.183728 \r\nL 212.380781 -144.760909 \r\nL 212.380781 -145.338091 \r\nL 212.380781 -145.915272 \r\nL 212.380781 -146.492454 \r\nL 212.380781 -147.069635 \r\nL 212.380781 -147.646816 \r\nL 212.380781 -148.223998 \r\nL 212.380781 -148.801179 \r\nL 212.380781 -149.378361 \r\nL 212.380781 -149.955542 \r\nL 212.380781 -150.532724 \r\nL 212.380781 -151.109905 \r\nL 212.380781 -151.687087 \r\nL 212.380781 -152.264268 \r\nL 212.380781 -152.84145 \r\nL 212.380781 -153.418631 \r\nL 212.380781 -153.995813 \r\nL 212.380781 -154.572994 \r\nL 212.380781 -155.150176 \r\nL 212.380781 -155.727357 \r\nL 212.380781 -156.304538 \r\nL 212.380781 -156.88172 \r\nL 212.380781 -157.458901 \r\nL 212.380781 -158.036083 \r\nL 212.380781 -158.613264 \r\nL 212.380781 -159.190446 \r\nL 212.380781 -159.767627 \r\nL 212.380781 -160.344809 \r\nL 212.380781 -160.92199 \r\nL 212.380781 -161.499172 \r\nL 371.191066 -161.499172 \r\nL 371.191066 -161.499172 \r\nL 336.412592 -160.92199 \r\nL 320.1166 -160.344809 \r\nL 314.838067 -159.767627 \r\nL 310.969638 -159.190446 \r\nL 307.883399 -158.613264 \r\nL 304.051496 -158.036083 \r\nL 303.994794 -157.458901 \r\nL 299.806664 -156.88172 \r\nL 297.200678 -156.304538 \r\nL 289.693371 -155.727357 \r\nL 289.202748 -155.150176 \r\nL 286.359229 -154.572994 \r\nL 284.783164 -153.995813 \r\nL 282.509183 -153.418631 \r\nL 282.065413 -152.84145 \r\nL 280.856844 -152.264268 \r\nL 278.283099 -151.687087 \r\nL 276.897388 -151.109905 \r\nL 275.519663 -150.532724 \r\nL 275.118164 -149.955542 \r\nL 273.480544 -149.378361 \r\nL 272.705904 -148.801179 \r\nL 272.019333 -148.223998 \r\nL 270.964914 -147.646816 \r\nL 269.64646 -147.069635 \r\nL 269.052891 -146.492454 \r\nL 268.992361 -145.915272 \r\nL 268.835701 -145.338091 \r\nL 267.669411 -144.760909 \r\nL 266.716117 -144.183728 \r\nL 265.678384 -143.606546 \r\nL 263.651569 -143.029365 \r\nL 263.362282 -142.452183 \r\nL 262.135866 -141.875002 \r\nL 261.058561 -141.29782 \r\nL 259.573794 -140.720639 \r\nL 259.102583 -140.143457 \r\nL 258.566194 -139.566276 \r\nL 256.601827 -138.989094 \r\nL 254.306685 -138.411913 \r\nL 253.418369 -137.834732 \r\nL 253.132273 -137.25755 \r\nL 253.032137 -136.680369 \r\nL 252.949608 -136.103187 \r\nL 252.027506 -135.526006 \r\nL 250.212695 -134.948824 \r\nL 249.767217 -134.371643 \r\nL 249.003472 -133.794461 \r\nL 248.513489 -133.21728 \r\nL 248.396124 -132.640098 \r\nL 248.263836 -132.062917 \r\nL 246.34173 -131.485735 \r\nL 245.077556 -130.908554 \r\nL 244.38065 -130.331372 \r\nL 244.119148 -129.754191 \r\nL 241.889404 -129.17701 \r\nL 241.038031 -128.599828 \r\nL 240.90845 -128.022647 \r\nL 238.227292 -127.445465 \r\nL 237.006968 -126.868284 \r\nL 235.025634 -126.291102 \r\nL 234.950302 -125.713921 \r\nL 233.252588 -125.136739 \r\nL 232.973548 -124.559558 \r\nL 232.730958 -123.982376 \r\nL 232.14771 -123.405195 \r\nL 230.710253 -122.828013 \r\nL 229.676715 -122.250832 \r\nL 227.879213 -121.67365 \r\nL 226.040231 -121.096469 \r\nL 225.678392 -120.519288 \r\nL 225.332342 -119.942106 \r\nL 219.582642 -119.364925 \r\nL 217.184402 -118.787743 \r\nL 216.431479 -118.210562 \r\nL 215.6868 -117.63338 \r\nL 215.635478 -117.056199 \r\nL 214.745757 -116.479017 \r\nL 214.660639 -115.901836 \r\nL 213.851588 -115.324654 \r\nL 212.623538 -114.747473 \r\nL 211.233287 -114.170291 \r\nL 211.138201 -113.59311 \r\nL 211.003 -113.015928 \r\nL 209.150377 -112.438747 \r\nL 209.035658 -111.861566 \r\nL 207.259174 -111.284384 \r\nL 205.45836 -110.707203 \r\nL 203.885761 -110.130021 \r\nL 203.829512 -109.55284 \r\nL 201.955847 -108.975658 \r\nL 200.146946 -108.398477 \r\nL 199.319861 -107.821295 \r\nL 197.047141 -107.244114 \r\nL 196.647537 -106.666932 \r\nL 195.234136 -106.089751 \r\nL 191.836881 -105.512569 \r\nL 189.332768 -104.935388 \r\nL 177.497976 -104.358206 \r\nz\r\n\" id=\"mb3fa4d5cf2\" style=\"stroke:#9fc377;stroke-opacity:0.5;stroke-width:0.3;\"/>\r\n    </defs>\r\n    <g clip-path=\"url(#p097e70d6c2)\">\r\n     <use style=\"fill:#9fc377;fill-opacity:0.5;stroke:#9fc377;stroke-opacity:0.5;stroke-width:0.3;\" x=\"0\" xlink:href=\"#mb3fa4d5cf2\" y=\"358.320781\"/>\r\n    </g>\r\n   </g>\r\n   <g id=\"PolyCollection_3\">\r\n    <defs>\r\n     <path d=\"M 165.039985 -167.848168 \r\nL 212.380781 -167.848168 \r\nL 212.380781 -168.425349 \r\nL 212.380781 -169.002531 \r\nL 212.380781 -169.579712 \r\nL 212.380781 -170.156894 \r\nL 212.380781 -170.734075 \r\nL 212.380781 -171.311257 \r\nL 212.380781 -171.888438 \r\nL 212.380781 -172.46562 \r\nL 212.380781 -173.042801 \r\nL 212.380781 -173.619983 \r\nL 212.380781 -174.197164 \r\nL 212.380781 -174.774345 \r\nL 212.380781 -175.351527 \r\nL 212.380781 -175.928708 \r\nL 212.380781 -176.50589 \r\nL 212.380781 -177.083071 \r\nL 212.380781 -177.660253 \r\nL 212.380781 -178.237434 \r\nL 212.380781 -178.814616 \r\nL 212.380781 -179.391797 \r\nL 212.380781 -179.968979 \r\nL 212.380781 -180.54616 \r\nL 212.380781 -181.123342 \r\nL 212.380781 -181.700523 \r\nL 212.380781 -182.277705 \r\nL 212.380781 -182.854886 \r\nL 212.380781 -183.432067 \r\nL 212.380781 -184.009249 \r\nL 212.380781 -184.58643 \r\nL 212.380781 -185.163612 \r\nL 212.380781 -185.740793 \r\nL 212.380781 -186.317975 \r\nL 212.380781 -186.895156 \r\nL 212.380781 -187.472338 \r\nL 212.380781 -188.049519 \r\nL 212.380781 -188.626701 \r\nL 212.380781 -189.203882 \r\nL 212.380781 -189.781064 \r\nL 212.380781 -190.358245 \r\nL 212.380781 -190.935427 \r\nL 212.380781 -191.512608 \r\nL 212.380781 -192.089789 \r\nL 212.380781 -192.666971 \r\nL 212.380781 -193.244152 \r\nL 212.380781 -193.821334 \r\nL 212.380781 -194.398515 \r\nL 212.380781 -194.975697 \r\nL 212.380781 -195.552878 \r\nL 212.380781 -196.13006 \r\nL 212.380781 -196.707241 \r\nL 212.380781 -197.284423 \r\nL 212.380781 -197.861604 \r\nL 212.380781 -198.438786 \r\nL 212.380781 -199.015967 \r\nL 212.380781 -199.593149 \r\nL 212.380781 -200.17033 \r\nL 212.380781 -200.747511 \r\nL 212.380781 -201.324693 \r\nL 212.380781 -201.901874 \r\nL 212.380781 -202.479056 \r\nL 212.380781 -203.056237 \r\nL 212.380781 -203.633419 \r\nL 212.380781 -204.2106 \r\nL 212.380781 -204.787782 \r\nL 212.380781 -205.364963 \r\nL 212.380781 -205.942145 \r\nL 212.380781 -206.519326 \r\nL 212.380781 -207.096508 \r\nL 212.380781 -207.673689 \r\nL 212.380781 -208.250871 \r\nL 212.380781 -208.828052 \r\nL 212.380781 -209.405233 \r\nL 212.380781 -209.982415 \r\nL 212.380781 -210.559596 \r\nL 212.380781 -211.136778 \r\nL 212.380781 -211.713959 \r\nL 212.380781 -212.291141 \r\nL 212.380781 -212.868322 \r\nL 212.380781 -213.445504 \r\nL 212.380781 -214.022685 \r\nL 212.380781 -214.599867 \r\nL 212.380781 -215.177048 \r\nL 212.380781 -215.75423 \r\nL 350.295014 -215.75423 \r\nL 350.295014 -215.75423 \r\nL 344.691295 -215.177048 \r\nL 336.98893 -214.599867 \r\nL 336.426261 -214.022685 \r\nL 328.978354 -213.445504 \r\nL 322.630776 -212.868322 \r\nL 316.415568 -212.291141 \r\nL 299.046014 -211.713959 \r\nL 294.249037 -211.136778 \r\nL 293.659093 -210.559596 \r\nL 292.044844 -209.982415 \r\nL 286.628211 -209.405233 \r\nL 285.481221 -208.828052 \r\nL 284.107802 -208.250871 \r\nL 283.641792 -207.673689 \r\nL 279.579442 -207.096508 \r\nL 279.436821 -206.519326 \r\nL 277.15753 -205.942145 \r\nL 275.706617 -205.364963 \r\nL 275.64476 -204.787782 \r\nL 275.38249 -204.2106 \r\nL 273.911989 -203.633419 \r\nL 273.834306 -203.056237 \r\nL 272.968808 -202.479056 \r\nL 269.543395 -201.901874 \r\nL 267.590805 -201.324693 \r\nL 267.146042 -200.747511 \r\nL 266.248823 -200.17033 \r\nL 260.662088 -199.593149 \r\nL 259.89321 -199.015967 \r\nL 257.293111 -198.438786 \r\nL 254.106461 -197.861604 \r\nL 253.718112 -197.284423 \r\nL 253.337578 -196.707241 \r\nL 251.059781 -196.13006 \r\nL 250.708865 -195.552878 \r\nL 250.056184 -194.975697 \r\nL 248.109559 -194.398515 \r\nL 244.730185 -193.821334 \r\nL 243.72552 -193.244152 \r\nL 240.657209 -192.666971 \r\nL 240.363456 -192.089789 \r\nL 238.715626 -191.512608 \r\nL 236.210973 -190.935427 \r\nL 236.084475 -190.358245 \r\nL 235.799837 -189.781064 \r\nL 231.863958 -189.203882 \r\nL 228.799711 -188.626701 \r\nL 227.739143 -188.049519 \r\nL 227.124904 -187.472338 \r\nL 225.385843 -186.895156 \r\nL 225.202102 -186.317975 \r\nL 224.657816 -185.740793 \r\nL 223.412997 -185.163612 \r\nL 223.281891 -184.58643 \r\nL 220.465789 -184.009249 \r\nL 218.032349 -183.432067 \r\nL 216.929345 -182.854886 \r\nL 215.753496 -182.277705 \r\nL 213.264494 -181.700523 \r\nL 212.605039 -181.123342 \r\nL 212.332479 -180.54616 \r\nL 211.988467 -179.968979 \r\nL 210.247414 -179.391797 \r\nL 210.030075 -178.814616 \r\nL 205.716729 -178.237434 \r\nL 205.187112 -177.660253 \r\nL 204.772483 -177.083071 \r\nL 204.513194 -176.50589 \r\nL 204.201637 -175.928708 \r\nL 203.426143 -175.351527 \r\nL 197.884202 -174.774345 \r\nL 193.90837 -174.197164 \r\nL 191.940751 -173.619983 \r\nL 191.191272 -173.042801 \r\nL 184.703931 -172.46562 \r\nL 183.091389 -171.888438 \r\nL 182.449988 -171.311257 \r\nL 180.501086 -170.734075 \r\nL 177.213868 -170.156894 \r\nL 176.652197 -169.579712 \r\nL 173.482012 -169.002531 \r\nL 167.522068 -168.425349 \r\nL 165.039985 -167.848168 \r\nz\r\n\" id=\"m467b6284f0\" style=\"stroke:#ca0b03;stroke-opacity:0.5;stroke-width:0.3;\"/>\r\n    </defs>\r\n    <g clip-path=\"url(#p097e70d6c2)\">\r\n     <use style=\"fill:#ca0b03;fill-opacity:0.5;stroke:#ca0b03;stroke-opacity:0.5;stroke-width:0.3;\" x=\"0\" xlink:href=\"#m467b6284f0\" y=\"358.320781\"/>\r\n    </g>\r\n   </g>\r\n   <g id=\"PolyCollection_4\">\r\n    <defs>\r\n     <path d=\"M 164.16999 -222.103226 \r\nL 212.380781 -222.103226 \r\nL 212.380781 -222.680407 \r\nL 212.380781 -223.257589 \r\nL 212.380781 -223.83477 \r\nL 212.380781 -224.411952 \r\nL 212.380781 -224.989133 \r\nL 212.380781 -225.566315 \r\nL 212.380781 -226.143496 \r\nL 212.380781 -226.720677 \r\nL 212.380781 -227.297859 \r\nL 212.380781 -227.87504 \r\nL 212.380781 -228.452222 \r\nL 212.380781 -229.029403 \r\nL 212.380781 -229.606585 \r\nL 212.380781 -230.183766 \r\nL 212.380781 -230.760948 \r\nL 212.380781 -231.338129 \r\nL 212.380781 -231.915311 \r\nL 212.380781 -232.492492 \r\nL 212.380781 -233.069674 \r\nL 212.380781 -233.646855 \r\nL 212.380781 -234.224037 \r\nL 212.380781 -234.801218 \r\nL 212.380781 -235.378399 \r\nL 212.380781 -235.955581 \r\nL 212.380781 -236.532762 \r\nL 212.380781 -237.109944 \r\nL 212.380781 -237.687125 \r\nL 212.380781 -238.264307 \r\nL 212.380781 -238.841488 \r\nL 212.380781 -239.41867 \r\nL 212.380781 -239.995851 \r\nL 212.380781 -240.573033 \r\nL 212.380781 -241.150214 \r\nL 212.380781 -241.727396 \r\nL 212.380781 -242.304577 \r\nL 212.380781 -242.881759 \r\nL 212.380781 -243.45894 \r\nL 212.380781 -244.036122 \r\nL 212.380781 -244.613303 \r\nL 212.380781 -245.190484 \r\nL 212.380781 -245.767666 \r\nL 212.380781 -246.344847 \r\nL 212.380781 -246.922029 \r\nL 212.380781 -247.49921 \r\nL 212.380781 -248.076392 \r\nL 212.380781 -248.653573 \r\nL 212.380781 -249.230755 \r\nL 212.380781 -249.807936 \r\nL 212.380781 -250.385118 \r\nL 212.380781 -250.962299 \r\nL 212.380781 -251.539481 \r\nL 212.380781 -252.116662 \r\nL 212.380781 -252.693844 \r\nL 212.380781 -253.271025 \r\nL 212.380781 -253.848206 \r\nL 212.380781 -254.425388 \r\nL 212.380781 -255.002569 \r\nL 212.380781 -255.579751 \r\nL 212.380781 -256.156932 \r\nL 212.380781 -256.734114 \r\nL 212.380781 -257.311295 \r\nL 212.380781 -257.888477 \r\nL 212.380781 -258.465658 \r\nL 212.380781 -259.04284 \r\nL 212.380781 -259.620021 \r\nL 212.380781 -260.197203 \r\nL 212.380781 -260.774384 \r\nL 212.380781 -261.351566 \r\nL 212.380781 -261.928747 \r\nL 212.380781 -262.505928 \r\nL 212.380781 -263.08311 \r\nL 212.380781 -263.660291 \r\nL 212.380781 -264.237473 \r\nL 212.380781 -264.814654 \r\nL 212.380781 -265.391836 \r\nL 376.176277 -265.391836 \r\nL 376.176277 -265.391836 \r\nL 340.079919 -264.814654 \r\nL 334.542799 -264.237473 \r\nL 332.726316 -263.660291 \r\nL 329.935826 -263.08311 \r\nL 329.036454 -262.505928 \r\nL 325.403966 -261.928747 \r\nL 325.249112 -261.351566 \r\nL 323.774398 -260.774384 \r\nL 311.399117 -260.197203 \r\nL 304.028712 -259.620021 \r\nL 303.040233 -259.04284 \r\nL 302.536702 -258.465658 \r\nL 301.439743 -257.888477 \r\nL 292.791337 -257.311295 \r\nL 290.871296 -256.734114 \r\nL 283.455444 -256.156932 \r\nL 279.528063 -255.579751 \r\nL 277.790427 -255.002569 \r\nL 269.412768 -254.425388 \r\nL 265.929826 -253.848206 \r\nL 263.438596 -253.271025 \r\nL 261.374379 -252.693844 \r\nL 261.004505 -252.116662 \r\nL 259.887868 -251.539481 \r\nL 259.776897 -250.962299 \r\nL 258.881152 -250.385118 \r\nL 257.712228 -249.807936 \r\nL 255.043665 -249.230755 \r\nL 252.934114 -248.653573 \r\nL 252.224404 -248.076392 \r\nL 251.457122 -247.49921 \r\nL 248.675467 -246.922029 \r\nL 248.495261 -246.344847 \r\nL 244.845875 -245.767666 \r\nL 242.932544 -245.190484 \r\nL 242.358112 -244.613303 \r\nL 241.890915 -244.036122 \r\nL 240.131513 -243.45894 \r\nL 239.022275 -242.881759 \r\nL 238.255698 -242.304577 \r\nL 236.372889 -241.727396 \r\nL 234.245404 -241.150214 \r\nL 234.007983 -240.573033 \r\nL 233.958424 -239.995851 \r\nL 233.690544 -239.41867 \r\nL 232.642396 -238.841488 \r\nL 232.458146 -238.264307 \r\nL 231.598152 -237.687125 \r\nL 228.714982 -237.109944 \r\nL 226.90417 -236.532762 \r\nL 225.301523 -235.955581 \r\nL 224.974665 -235.378399 \r\nL 224.088974 -234.801218 \r\nL 223.159968 -234.224037 \r\nL 222.921085 -233.646855 \r\nL 222.908757 -233.069674 \r\nL 222.153657 -232.492492 \r\nL 220.553156 -231.915311 \r\nL 219.723195 -231.338129 \r\nL 216.045638 -230.760948 \r\nL 212.992433 -230.183766 \r\nL 211.795044 -229.606585 \r\nL 211.428553 -229.029403 \r\nL 211.318435 -228.452222 \r\nL 211.255866 -227.87504 \r\nL 210.378396 -227.297859 \r\nL 206.619402 -226.720677 \r\nL 202.204463 -226.143496 \r\nL 201.72392 -225.566315 \r\nL 196.471725 -224.989133 \r\nL 193.285813 -224.411952 \r\nL 193.07526 -223.83477 \r\nL 191.02021 -223.257589 \r\nL 183.582513 -222.680407 \r\nL 164.16999 -222.103226 \r\nz\r\n\" id=\"m48f662d774\" style=\"stroke:#a50258;stroke-opacity:0.5;stroke-width:0.3;\"/>\r\n    </defs>\r\n    <g clip-path=\"url(#p097e70d6c2)\">\r\n     <use style=\"fill:#a50258;fill-opacity:0.5;stroke:#a50258;stroke-opacity:0.5;stroke-width:0.3;\" x=\"0\" xlink:href=\"#m48f662d774\" y=\"358.320781\"/>\r\n    </g>\r\n   </g>\r\n   <g id=\"PolyCollection_5\">\r\n    <defs>\r\n     <path d=\"M 189.606223 -271.740832 \r\nL 212.380781 -271.740832 \r\nL 212.380781 -272.318013 \r\nL 212.380781 -272.895195 \r\nL 212.380781 -273.472376 \r\nL 212.380781 -274.049558 \r\nL 212.380781 -274.626739 \r\nL 212.380781 -275.203921 \r\nL 212.380781 -275.781102 \r\nL 212.380781 -276.358284 \r\nL 212.380781 -276.935465 \r\nL 212.380781 -277.512647 \r\nL 212.380781 -278.089828 \r\nL 212.380781 -278.66701 \r\nL 212.380781 -279.244191 \r\nL 212.380781 -279.821372 \r\nL 212.380781 -280.398554 \r\nL 212.380781 -280.975735 \r\nL 212.380781 -281.552917 \r\nL 212.380781 -282.130098 \r\nL 212.380781 -282.70728 \r\nL 212.380781 -283.284461 \r\nL 212.380781 -283.861643 \r\nL 212.380781 -284.438824 \r\nL 212.380781 -285.016006 \r\nL 212.380781 -285.593187 \r\nL 212.380781 -286.170369 \r\nL 212.380781 -286.74755 \r\nL 212.380781 -287.324732 \r\nL 212.380781 -287.901913 \r\nL 212.380781 -288.479094 \r\nL 212.380781 -289.056276 \r\nL 212.380781 -289.633457 \r\nL 212.380781 -290.210639 \r\nL 212.380781 -290.78782 \r\nL 212.380781 -291.365002 \r\nL 212.380781 -291.942183 \r\nL 212.380781 -292.519365 \r\nL 212.380781 -293.096546 \r\nL 212.380781 -293.673728 \r\nL 212.380781 -294.250909 \r\nL 212.380781 -294.828091 \r\nL 212.380781 -295.405272 \r\nL 212.380781 -295.982454 \r\nL 212.380781 -296.559635 \r\nL 212.380781 -297.136816 \r\nL 212.380781 -297.713998 \r\nL 212.380781 -298.291179 \r\nL 212.380781 -298.868361 \r\nL 212.380781 -299.445542 \r\nL 212.380781 -300.022724 \r\nL 212.380781 -300.599905 \r\nL 212.380781 -301.177087 \r\nL 212.380781 -301.754268 \r\nL 212.380781 -302.33145 \r\nL 212.380781 -302.908631 \r\nL 212.380781 -303.485813 \r\nL 212.380781 -304.062994 \r\nL 212.380781 -304.640176 \r\nL 212.380781 -305.217357 \r\nL 212.380781 -305.794538 \r\nL 212.380781 -306.37172 \r\nL 212.380781 -306.948901 \r\nL 212.380781 -307.526083 \r\nL 212.380781 -308.103264 \r\nL 212.380781 -308.680446 \r\nL 212.380781 -309.257627 \r\nL 212.380781 -309.834809 \r\nL 212.380781 -310.41199 \r\nL 212.380781 -310.989172 \r\nL 212.380781 -311.566353 \r\nL 212.380781 -312.143535 \r\nL 212.380781 -312.720716 \r\nL 212.380781 -313.297898 \r\nL 212.380781 -313.875079 \r\nL 212.380781 -314.45226 \r\nL 212.380781 -315.029442 \r\nL 212.380781 -315.606623 \r\nL 212.380781 -316.183805 \r\nL 212.380781 -316.760986 \r\nL 212.380781 -317.338168 \r\nL 212.380781 -317.915349 \r\nL 212.380781 -318.492531 \r\nL 212.380781 -319.069712 \r\nL 212.380781 -319.646894 \r\nL 212.380781 -320.224075 \r\nL 212.380781 -320.801257 \r\nL 212.380781 -321.378438 \r\nL 212.380781 -321.95562 \r\nL 212.380781 -322.532801 \r\nL 212.380781 -323.109983 \r\nL 212.380781 -323.687164 \r\nL 212.380781 -324.264345 \r\nL 212.380781 -324.841527 \r\nL 212.380781 -325.418708 \r\nL 212.380781 -325.99589 \r\nL 212.380781 -326.573071 \r\nL 212.380781 -327.150253 \r\nL 212.380781 -327.727434 \r\nL 212.380781 -328.304616 \r\nL 212.380781 -328.881797 \r\nL 212.380781 -329.458979 \r\nL 212.380781 -330.03616 \r\nL 377.725353 -330.03616 \r\nL 377.725353 -330.03616 \r\nL 370.932387 -329.458979 \r\nL 364.884772 -328.881797 \r\nL 346.177723 -328.304616 \r\nL 327.555391 -327.727434 \r\nL 323.875776 -327.150253 \r\nL 322.390058 -326.573071 \r\nL 315.427286 -325.99589 \r\nL 314.152957 -325.418708 \r\nL 313.069875 -324.841527 \r\nL 312.243507 -324.264345 \r\nL 311.796562 -323.687164 \r\nL 310.836633 -323.109983 \r\nL 310.208657 -322.532801 \r\nL 306.80097 -321.95562 \r\nL 302.13716 -321.378438 \r\nL 301.383577 -320.801257 \r\nL 297.674214 -320.224075 \r\nL 297.572671 -319.646894 \r\nL 297.510796 -319.069712 \r\nL 296.00259 -318.492531 \r\nL 293.829248 -317.915349 \r\nL 292.582466 -317.338168 \r\nL 290.064692 -316.760986 \r\nL 290.007032 -316.183805 \r\nL 289.496732 -315.606623 \r\nL 288.152268 -315.029442 \r\nL 285.846982 -314.45226 \r\nL 283.931795 -313.875079 \r\nL 281.387094 -313.297898 \r\nL 281.082161 -312.720716 \r\nL 279.983476 -312.143535 \r\nL 277.589733 -311.566353 \r\nL 275.917413 -310.989172 \r\nL 275.82716 -310.41199 \r\nL 275.155776 -309.834809 \r\nL 274.165731 -309.257627 \r\nL 273.117505 -308.680446 \r\nL 272.734716 -308.103264 \r\nL 272.562511 -307.526083 \r\nL 272.424522 -306.948901 \r\nL 270.855588 -306.37172 \r\nL 270.771546 -305.794538 \r\nL 266.670522 -305.217357 \r\nL 266.170686 -304.640176 \r\nL 266.105127 -304.062994 \r\nL 263.664799 -303.485813 \r\nL 260.994739 -302.908631 \r\nL 259.996312 -302.33145 \r\nL 259.155792 -301.754268 \r\nL 258.917866 -301.177087 \r\nL 258.623479 -300.599905 \r\nL 257.929044 -300.022724 \r\nL 256.854265 -299.445542 \r\nL 255.474071 -298.868361 \r\nL 254.726891 -298.291179 \r\nL 252.963955 -297.713998 \r\nL 252.898135 -297.136816 \r\nL 250.262821 -296.559635 \r\nL 250.204058 -295.982454 \r\nL 248.625887 -295.405272 \r\nL 245.898536 -294.828091 \r\nL 245.138645 -294.250909 \r\nL 244.871209 -293.673728 \r\nL 239.957731 -293.096546 \r\nL 238.703463 -292.519365 \r\nL 238.696554 -291.942183 \r\nL 238.274717 -291.365002 \r\nL 238.048132 -290.78782 \r\nL 237.87542 -290.210639 \r\nL 237.747511 -289.633457 \r\nL 237.465061 -289.056276 \r\nL 236.70124 -288.479094 \r\nL 235.314284 -287.901913 \r\nL 233.052801 -287.324732 \r\nL 232.788573 -286.74755 \r\nL 231.215001 -286.170369 \r\nL 230.732996 -285.593187 \r\nL 230.114993 -285.016006 \r\nL 230.026739 -284.438824 \r\nL 226.587981 -283.861643 \r\nL 225.38662 -283.284461 \r\nL 225.060832 -282.70728 \r\nL 224.944199 -282.130098 \r\nL 223.071676 -281.552917 \r\nL 220.985461 -280.975735 \r\nL 219.874528 -280.398554 \r\nL 219.190114 -279.821372 \r\nL 218.08379 -279.244191 \r\nL 217.650679 -278.66701 \r\nL 217.130698 -278.089828 \r\nL 216.604403 -277.512647 \r\nL 216.554213 -276.935465 \r\nL 215.457648 -276.358284 \r\nL 213.254169 -275.781102 \r\nL 210.780914 -275.203921 \r\nL 209.429867 -274.626739 \r\nL 206.983033 -274.049558 \r\nL 198.34268 -273.472376 \r\nL 197.865725 -272.895195 \r\nL 195.695138 -272.318013 \r\nL 189.606223 -271.740832 \r\nz\r\n\" id=\"me6cccf5834\" style=\"stroke:#d7c703;stroke-opacity:0.5;stroke-width:0.3;\"/>\r\n    </defs>\r\n    <g clip-path=\"url(#p097e70d6c2)\">\r\n     <use style=\"fill:#d7c703;fill-opacity:0.5;stroke:#d7c703;stroke-opacity:0.5;stroke-width:0.3;\" x=\"0\" xlink:href=\"#me6cccf5834\" y=\"358.320781\"/>\r\n    </g>\r\n   </g>\r\n   <g id=\"line2d_23\">\r\n    <path clip-path=\"url(#p097e70d6c2)\" d=\"M 258.632352 320.915625 \r\nL 258.632352 21.935625 \r\n\" style=\"fill:none;stroke:#ff0000;stroke-dasharray:6.475,2.8;stroke-dashoffset:0;stroke-width:1.75;\"/>\r\n   </g>\r\n   <g id=\"patch_3\">\r\n    <path d=\"M 33.820781 320.915625 \r\nL 33.820781 21.935625 \r\n\" style=\"fill:none;stroke:#cccccc;stroke-linecap:square;stroke-linejoin:miter;stroke-width:1.25;\"/>\r\n   </g>\r\n   <g id=\"patch_4\">\r\n    <path d=\"M 480.220781 320.915625 \r\nL 480.220781 21.935625 \r\n\" style=\"fill:none;stroke:#cccccc;stroke-linecap:square;stroke-linejoin:miter;stroke-width:1.25;\"/>\r\n   </g>\r\n   <g id=\"patch_5\">\r\n    <path d=\"M 33.820781 320.915625 \r\nL 480.220781 320.915625 \r\n\" style=\"fill:none;stroke:#cccccc;stroke-linecap:square;stroke-linejoin:miter;stroke-width:1.25;\"/>\r\n   </g>\r\n   <g id=\"patch_6\">\r\n    <path d=\"M 33.820781 21.935625 \r\nL 480.220781 21.935625 \r\n\" style=\"fill:none;stroke:#cccccc;stroke-linecap:square;stroke-linejoin:miter;stroke-width:1.25;\"/>\r\n   </g>\r\n   <g id=\"text_14\">\r\n    <!-- Silhouette Plot of KMeans Clustering for 458 Samples in 5 Centers -->\r\n    <defs>\r\n     <path d=\"M 4.5 23 \r\nL 13.421875 23.78125 \r\nQ 14.0625 18.40625 16.375 14.96875 \r\nQ 18.703125 11.53125 23.578125 9.40625 \r\nQ 28.46875 7.28125 34.578125 7.28125 \r\nQ 39.984375 7.28125 44.140625 8.890625 \r\nQ 48.296875 10.5 50.3125 13.296875 \r\nQ 52.34375 16.109375 52.34375 19.4375 \r\nQ 52.34375 22.796875 50.390625 25.3125 \r\nQ 48.4375 27.828125 43.953125 29.546875 \r\nQ 41.0625 30.671875 31.203125 33.03125 \r\nQ 21.34375 35.40625 17.390625 37.5 \r\nQ 12.25 40.1875 9.734375 44.15625 \r\nQ 7.234375 48.140625 7.234375 53.078125 \r\nQ 7.234375 58.5 10.296875 63.203125 \r\nQ 13.375 67.921875 19.28125 70.359375 \r\nQ 25.203125 72.796875 32.421875 72.796875 \r\nQ 40.375 72.796875 46.453125 70.234375 \r\nQ 52.546875 67.671875 55.8125 62.6875 \r\nQ 59.078125 57.71875 59.328125 51.421875 \r\nL 50.25 50.734375 \r\nQ 49.515625 57.515625 45.28125 60.984375 \r\nQ 41.0625 64.453125 32.8125 64.453125 \r\nQ 24.21875 64.453125 20.28125 61.296875 \r\nQ 16.359375 58.15625 16.359375 53.71875 \r\nQ 16.359375 49.859375 19.140625 47.359375 \r\nQ 21.875 44.875 33.421875 42.265625 \r\nQ 44.96875 39.65625 49.265625 37.703125 \r\nQ 55.515625 34.8125 58.484375 30.390625 \r\nQ 61.46875 25.984375 61.46875 20.21875 \r\nQ 61.46875 14.5 58.203125 9.4375 \r\nQ 54.9375 4.390625 48.796875 1.578125 \r\nQ 42.671875 -1.21875 35.015625 -1.21875 \r\nQ 25.296875 -1.21875 18.71875 1.609375 \r\nQ 12.15625 4.4375 8.421875 10.125 \r\nQ 4.6875 15.828125 4.5 23 \r\nz\r\n\" id=\"ArialMT-83\"/>\r\n     <path d=\"M 7.71875 0 \r\nL 7.71875 71.578125 \r\nL 34.71875 71.578125 \r\nQ 41.84375 71.578125 45.609375 70.90625 \r\nQ 50.875 70.015625 54.4375 67.546875 \r\nQ 58.015625 65.09375 60.1875 60.640625 \r\nQ 62.359375 56.203125 62.359375 50.875 \r\nQ 62.359375 41.75 56.546875 35.421875 \r\nQ 50.734375 29.109375 35.546875 29.109375 \r\nL 17.1875 29.109375 \r\nL 17.1875 0 \r\nz\r\nM 17.1875 37.546875 \r\nL 35.6875 37.546875 \r\nQ 44.875 37.546875 48.734375 40.96875 \r\nQ 52.59375 44.390625 52.59375 50.59375 \r\nQ 52.59375 55.078125 50.3125 58.265625 \r\nQ 48.046875 61.46875 44.34375 62.5 \r\nQ 41.9375 63.140625 35.5 63.140625 \r\nL 17.1875 63.140625 \r\nz\r\n\" id=\"ArialMT-80\"/>\r\n     <path d=\"M 7.328125 0 \r\nL 7.328125 71.578125 \r\nL 16.796875 71.578125 \r\nL 16.796875 36.078125 \r\nL 52.34375 71.578125 \r\nL 65.1875 71.578125 \r\nL 35.15625 42.578125 \r\nL 66.5 0 \r\nL 54 0 \r\nL 28.515625 36.234375 \r\nL 16.796875 24.8125 \r\nL 16.796875 0 \r\nz\r\n\" id=\"ArialMT-75\"/>\r\n     <path d=\"M 7.421875 0 \r\nL 7.421875 71.578125 \r\nL 21.6875 71.578125 \r\nL 38.625 20.90625 \r\nQ 40.96875 13.8125 42.046875 10.296875 \r\nQ 43.265625 14.203125 45.84375 21.78125 \r\nL 62.984375 71.578125 \r\nL 75.734375 71.578125 \r\nL 75.734375 0 \r\nL 66.609375 0 \r\nL 66.609375 59.90625 \r\nL 45.796875 0 \r\nL 37.25 0 \r\nL 16.546875 60.9375 \r\nL 16.546875 0 \r\nz\r\n\" id=\"ArialMT-77\"/>\r\n     <path d=\"M 58.796875 25.09375 \r\nL 68.265625 22.703125 \r\nQ 65.28125 11.03125 57.546875 4.90625 \r\nQ 49.8125 -1.21875 38.625 -1.21875 \r\nQ 27.046875 -1.21875 19.796875 3.484375 \r\nQ 12.546875 8.203125 8.765625 17.140625 \r\nQ 4.984375 26.078125 4.984375 36.328125 \r\nQ 4.984375 47.515625 9.25 55.828125 \r\nQ 13.53125 64.15625 21.40625 68.46875 \r\nQ 29.296875 72.796875 38.765625 72.796875 \r\nQ 49.515625 72.796875 56.828125 67.328125 \r\nQ 64.15625 61.859375 67.046875 51.953125 \r\nL 57.71875 49.75 \r\nQ 55.21875 57.5625 50.484375 61.125 \r\nQ 45.75 64.703125 38.578125 64.703125 \r\nQ 30.328125 64.703125 24.78125 60.734375 \r\nQ 19.234375 56.78125 16.984375 50.109375 \r\nQ 14.75 43.453125 14.75 36.375 \r\nQ 14.75 27.25 17.40625 20.4375 \r\nQ 20.0625 13.625 25.671875 10.25 \r\nQ 31.296875 6.890625 37.84375 6.890625 \r\nQ 45.796875 6.890625 51.3125 11.46875 \r\nQ 56.84375 16.0625 58.796875 25.09375 \r\nz\r\n\" id=\"ArialMT-67\"/>\r\n     <path d=\"M 4.984375 -4.296875 \r\nL 13.53125 -5.5625 \r\nQ 14.0625 -9.515625 16.5 -11.328125 \r\nQ 19.78125 -13.765625 25.4375 -13.765625 \r\nQ 31.546875 -13.765625 34.859375 -11.328125 \r\nQ 38.1875 -8.890625 39.359375 -4.5 \r\nQ 40.046875 -1.8125 39.984375 6.78125 \r\nQ 34.234375 0 25.640625 0 \r\nQ 14.9375 0 9.078125 7.71875 \r\nQ 3.21875 15.4375 3.21875 26.21875 \r\nQ 3.21875 33.640625 5.90625 39.90625 \r\nQ 8.59375 46.1875 13.6875 49.609375 \r\nQ 18.796875 53.03125 25.6875 53.03125 \r\nQ 34.859375 53.03125 40.828125 45.609375 \r\nL 40.828125 51.859375 \r\nL 48.921875 51.859375 \r\nL 48.921875 7.03125 \r\nQ 48.921875 -5.078125 46.453125 -10.125 \r\nQ 44 -15.1875 38.640625 -18.109375 \r\nQ 33.296875 -21.046875 25.484375 -21.046875 \r\nQ 16.21875 -21.046875 10.5 -16.875 \r\nQ 4.78125 -12.703125 4.984375 -4.296875 \r\nz\r\nM 12.25 26.859375 \r\nQ 12.25 16.65625 16.296875 11.96875 \r\nQ 20.359375 7.28125 26.46875 7.28125 \r\nQ 32.515625 7.28125 36.609375 11.9375 \r\nQ 40.71875 16.609375 40.71875 26.5625 \r\nQ 40.71875 36.078125 36.5 40.90625 \r\nQ 32.28125 45.75 26.3125 45.75 \r\nQ 20.453125 45.75 16.34375 40.984375 \r\nQ 12.25 36.234375 12.25 26.859375 \r\nz\r\n\" id=\"ArialMT-103\"/>\r\n     <path d=\"M 4.15625 18.75 \r\nL 13.375 19.53125 \r\nQ 14.40625 12.796875 18.140625 9.390625 \r\nQ 21.875 6 27.15625 6 \r\nQ 33.5 6 37.890625 10.78125 \r\nQ 42.28125 15.578125 42.28125 23.484375 \r\nQ 42.28125 31 38.0625 35.34375 \r\nQ 33.84375 39.703125 27 39.703125 \r\nQ 22.75 39.703125 19.328125 37.765625 \r\nQ 15.921875 35.84375 13.96875 32.765625 \r\nL 5.71875 33.84375 \r\nL 12.640625 70.609375 \r\nL 48.25 70.609375 \r\nL 48.25 62.203125 \r\nL 19.671875 62.203125 \r\nL 15.828125 42.96875 \r\nQ 22.265625 47.46875 29.34375 47.46875 \r\nQ 38.71875 47.46875 45.15625 40.96875 \r\nQ 51.609375 34.46875 51.609375 24.265625 \r\nQ 51.609375 14.546875 45.953125 7.46875 \r\nQ 39.0625 -1.21875 27.15625 -1.21875 \r\nQ 17.390625 -1.21875 11.203125 4.25 \r\nQ 5.03125 9.71875 4.15625 18.75 \r\nz\r\n\" id=\"ArialMT-53\"/>\r\n     <path d=\"M 17.671875 38.8125 \r\nQ 12.203125 40.828125 9.5625 44.53125 \r\nQ 6.9375 48.25 6.9375 53.421875 \r\nQ 6.9375 61.234375 12.546875 66.546875 \r\nQ 18.171875 71.875 27.484375 71.875 \r\nQ 36.859375 71.875 42.578125 66.421875 \r\nQ 48.296875 60.984375 48.296875 53.171875 \r\nQ 48.296875 48.1875 45.671875 44.5 \r\nQ 43.0625 40.828125 37.75 38.8125 \r\nQ 44.34375 36.671875 47.78125 31.875 \r\nQ 51.21875 27.09375 51.21875 20.453125 \r\nQ 51.21875 11.28125 44.71875 5.03125 \r\nQ 38.234375 -1.21875 27.640625 -1.21875 \r\nQ 17.046875 -1.21875 10.546875 5.046875 \r\nQ 4.046875 11.328125 4.046875 20.703125 \r\nQ 4.046875 27.6875 7.59375 32.390625 \r\nQ 11.140625 37.109375 17.671875 38.8125 \r\nz\r\nM 15.921875 53.71875 \r\nQ 15.921875 48.640625 19.1875 45.40625 \r\nQ 22.46875 42.1875 27.6875 42.1875 \r\nQ 32.765625 42.1875 36.015625 45.375 \r\nQ 39.265625 48.578125 39.265625 53.21875 \r\nQ 39.265625 58.0625 35.90625 61.359375 \r\nQ 32.5625 64.65625 27.59375 64.65625 \r\nQ 22.5625 64.65625 19.234375 61.421875 \r\nQ 15.921875 58.203125 15.921875 53.71875 \r\nz\r\nM 13.09375 20.65625 \r\nQ 13.09375 16.890625 14.875 13.375 \r\nQ 16.65625 9.859375 20.171875 7.921875 \r\nQ 23.6875 6 27.734375 6 \r\nQ 34.03125 6 38.125 10.046875 \r\nQ 42.234375 14.109375 42.234375 20.359375 \r\nQ 42.234375 26.703125 38.015625 30.859375 \r\nQ 33.796875 35.015625 27.4375 35.015625 \r\nQ 21.234375 35.015625 17.15625 30.90625 \r\nQ 13.09375 26.8125 13.09375 20.65625 \r\nz\r\n\" id=\"ArialMT-56\"/>\r\n     <path d=\"M 6.59375 0 \r\nL 6.59375 51.859375 \r\nL 14.453125 51.859375 \r\nL 14.453125 44.578125 \r\nQ 16.890625 48.390625 20.9375 50.703125 \r\nQ 25 53.03125 30.171875 53.03125 \r\nQ 35.9375 53.03125 39.625 50.640625 \r\nQ 43.3125 48.25 44.828125 43.953125 \r\nQ 50.984375 53.03125 60.84375 53.03125 \r\nQ 68.5625 53.03125 72.703125 48.75 \r\nQ 76.859375 44.484375 76.859375 35.59375 \r\nL 76.859375 0 \r\nL 68.109375 0 \r\nL 68.109375 32.671875 \r\nQ 68.109375 37.9375 67.25 40.25 \r\nQ 66.40625 42.578125 64.15625 43.984375 \r\nQ 61.921875 45.40625 58.890625 45.40625 \r\nQ 53.421875 45.40625 49.796875 41.765625 \r\nQ 46.1875 38.140625 46.1875 30.125 \r\nL 46.1875 0 \r\nL 37.40625 0 \r\nL 37.40625 33.6875 \r\nQ 37.40625 39.546875 35.25 42.46875 \r\nQ 33.109375 45.40625 28.21875 45.40625 \r\nQ 24.515625 45.40625 21.359375 43.453125 \r\nQ 18.21875 41.5 16.796875 37.734375 \r\nQ 15.375 33.984375 15.375 26.90625 \r\nL 15.375 0 \r\nz\r\n\" id=\"ArialMT-109\"/>\r\n     <path d=\"M 6.59375 -19.875 \r\nL 6.59375 51.859375 \r\nL 14.59375 51.859375 \r\nL 14.59375 45.125 \r\nQ 17.4375 49.078125 21 51.046875 \r\nQ 24.5625 53.03125 29.640625 53.03125 \r\nQ 36.28125 53.03125 41.359375 49.609375 \r\nQ 46.4375 46.1875 49.015625 39.953125 \r\nQ 51.609375 33.734375 51.609375 26.3125 \r\nQ 51.609375 18.359375 48.75 11.984375 \r\nQ 45.90625 5.609375 40.453125 2.21875 \r\nQ 35.015625 -1.171875 29 -1.171875 \r\nQ 24.609375 -1.171875 21.109375 0.6875 \r\nQ 17.625 2.546875 15.375 5.375 \r\nL 15.375 -19.875 \r\nz\r\nM 14.546875 25.640625 \r\nQ 14.546875 15.625 18.59375 10.84375 \r\nQ 22.65625 6.0625 28.421875 6.0625 \r\nQ 34.28125 6.0625 38.453125 11.015625 \r\nQ 42.625 15.96875 42.625 26.375 \r\nQ 42.625 36.28125 38.546875 41.203125 \r\nQ 34.46875 46.140625 28.8125 46.140625 \r\nQ 23.1875 46.140625 18.859375 40.890625 \r\nQ 14.546875 35.640625 14.546875 25.640625 \r\nz\r\n\" id=\"ArialMT-112\"/>\r\n    </defs>\r\n    <g style=\"fill:#262626;\" transform=\"translate(79.937344 15.935625)scale(0.12 -0.12)\">\r\n     <use xlink:href=\"#ArialMT-83\"/>\r\n     <use x=\"66.699219\" xlink:href=\"#ArialMT-105\"/>\r\n     <use x=\"88.916016\" xlink:href=\"#ArialMT-108\"/>\r\n     <use x=\"111.132812\" xlink:href=\"#ArialMT-104\"/>\r\n     <use x=\"166.748047\" xlink:href=\"#ArialMT-111\"/>\r\n     <use x=\"222.363281\" xlink:href=\"#ArialMT-117\"/>\r\n     <use x=\"277.978516\" xlink:href=\"#ArialMT-101\"/>\r\n     <use x=\"333.59375\" xlink:href=\"#ArialMT-116\"/>\r\n     <use x=\"361.376953\" xlink:href=\"#ArialMT-116\"/>\r\n     <use x=\"389.160156\" xlink:href=\"#ArialMT-101\"/>\r\n     <use x=\"444.775391\" xlink:href=\"#ArialMT-32\"/>\r\n     <use x=\"472.558594\" xlink:href=\"#ArialMT-80\"/>\r\n     <use x=\"539.257812\" xlink:href=\"#ArialMT-108\"/>\r\n     <use x=\"561.474609\" xlink:href=\"#ArialMT-111\"/>\r\n     <use x=\"617.089844\" xlink:href=\"#ArialMT-116\"/>\r\n     <use x=\"644.873047\" xlink:href=\"#ArialMT-32\"/>\r\n     <use x=\"672.65625\" xlink:href=\"#ArialMT-111\"/>\r\n     <use x=\"728.271484\" xlink:href=\"#ArialMT-102\"/>\r\n     <use x=\"756.054688\" xlink:href=\"#ArialMT-32\"/>\r\n     <use x=\"783.837891\" xlink:href=\"#ArialMT-75\"/>\r\n     <use x=\"850.537109\" xlink:href=\"#ArialMT-77\"/>\r\n     <use x=\"933.837891\" xlink:href=\"#ArialMT-101\"/>\r\n     <use x=\"989.453125\" xlink:href=\"#ArialMT-97\"/>\r\n     <use x=\"1045.068359\" xlink:href=\"#ArialMT-110\"/>\r\n     <use x=\"1100.683594\" xlink:href=\"#ArialMT-115\"/>\r\n     <use x=\"1150.683594\" xlink:href=\"#ArialMT-32\"/>\r\n     <use x=\"1178.466797\" xlink:href=\"#ArialMT-67\"/>\r\n     <use x=\"1250.683594\" xlink:href=\"#ArialMT-108\"/>\r\n     <use x=\"1272.900391\" xlink:href=\"#ArialMT-117\"/>\r\n     <use x=\"1328.515625\" xlink:href=\"#ArialMT-115\"/>\r\n     <use x=\"1378.515625\" xlink:href=\"#ArialMT-116\"/>\r\n     <use x=\"1406.298828\" xlink:href=\"#ArialMT-101\"/>\r\n     <use x=\"1461.914062\" xlink:href=\"#ArialMT-114\"/>\r\n     <use x=\"1495.214844\" xlink:href=\"#ArialMT-105\"/>\r\n     <use x=\"1517.431641\" xlink:href=\"#ArialMT-110\"/>\r\n     <use x=\"1573.046875\" xlink:href=\"#ArialMT-103\"/>\r\n     <use x=\"1628.662109\" xlink:href=\"#ArialMT-32\"/>\r\n     <use x=\"1656.445312\" xlink:href=\"#ArialMT-102\"/>\r\n     <use x=\"1684.228516\" xlink:href=\"#ArialMT-111\"/>\r\n     <use x=\"1739.84375\" xlink:href=\"#ArialMT-114\"/>\r\n     <use x=\"1773.144531\" xlink:href=\"#ArialMT-32\"/>\r\n     <use x=\"1800.927734\" xlink:href=\"#ArialMT-52\"/>\r\n     <use x=\"1856.542969\" xlink:href=\"#ArialMT-53\"/>\r\n     <use x=\"1912.158203\" xlink:href=\"#ArialMT-56\"/>\r\n     <use x=\"1967.773438\" xlink:href=\"#ArialMT-32\"/>\r\n     <use x=\"1995.556641\" xlink:href=\"#ArialMT-83\"/>\r\n     <use x=\"2062.255859\" xlink:href=\"#ArialMT-97\"/>\r\n     <use x=\"2117.871094\" xlink:href=\"#ArialMT-109\"/>\r\n     <use x=\"2201.171875\" xlink:href=\"#ArialMT-112\"/>\r\n     <use x=\"2256.787109\" xlink:href=\"#ArialMT-108\"/>\r\n     <use x=\"2279.003906\" xlink:href=\"#ArialMT-101\"/>\r\n     <use x=\"2334.619141\" xlink:href=\"#ArialMT-115\"/>\r\n     <use x=\"2384.619141\" xlink:href=\"#ArialMT-32\"/>\r\n     <use x=\"2412.402344\" xlink:href=\"#ArialMT-105\"/>\r\n     <use x=\"2434.619141\" xlink:href=\"#ArialMT-110\"/>\r\n     <use x=\"2490.234375\" xlink:href=\"#ArialMT-32\"/>\r\n     <use x=\"2518.017578\" xlink:href=\"#ArialMT-53\"/>\r\n     <use x=\"2573.632812\" xlink:href=\"#ArialMT-32\"/>\r\n     <use x=\"2601.416016\" xlink:href=\"#ArialMT-67\"/>\r\n     <use x=\"2673.632812\" xlink:href=\"#ArialMT-101\"/>\r\n     <use x=\"2729.248047\" xlink:href=\"#ArialMT-110\"/>\r\n     <use x=\"2784.863281\" xlink:href=\"#ArialMT-116\"/>\r\n     <use x=\"2812.646484\" xlink:href=\"#ArialMT-101\"/>\r\n     <use x=\"2868.261719\" xlink:href=\"#ArialMT-114\"/>\r\n     <use x=\"2901.5625\" xlink:href=\"#ArialMT-115\"/>\r\n    </g>\r\n   </g>\r\n   <g id=\"legend_1\">\r\n    <g id=\"line2d_24\">\r\n     <path d=\"M 329.998906 34.715312 \r\nL 349.998906 34.715312 \r\n\" style=\"fill:none;stroke:#ff0000;stroke-dasharray:6.475,2.8;stroke-dashoffset:0;stroke-width:1.75;\"/>\r\n    </g>\r\n    <g id=\"line2d_25\"/>\r\n    <g id=\"text_15\">\r\n     <!-- Average Silhouette Score -->\r\n     <defs>\r\n      <path d=\"M -0.140625 0 \r\nL 27.34375 71.578125 \r\nL 37.546875 71.578125 \r\nL 66.84375 0 \r\nL 56.0625 0 \r\nL 47.703125 21.6875 \r\nL 17.78125 21.6875 \r\nL 9.90625 0 \r\nz\r\nM 20.515625 29.390625 \r\nL 44.78125 29.390625 \r\nL 37.3125 49.21875 \r\nQ 33.890625 58.25 32.234375 64.0625 \r\nQ 30.859375 57.171875 28.375 50.390625 \r\nz\r\n\" id=\"ArialMT-65\"/>\r\n     </defs>\r\n     <g style=\"fill:#262626;\" transform=\"translate(357.998906 38.215312)scale(0.1 -0.1)\">\r\n      <use xlink:href=\"#ArialMT-65\"/>\r\n      <use x=\"64.949219\" xlink:href=\"#ArialMT-118\"/>\r\n      <use x=\"114.949219\" xlink:href=\"#ArialMT-101\"/>\r\n      <use x=\"170.564453\" xlink:href=\"#ArialMT-114\"/>\r\n      <use x=\"203.865234\" xlink:href=\"#ArialMT-97\"/>\r\n      <use x=\"259.480469\" xlink:href=\"#ArialMT-103\"/>\r\n      <use x=\"315.095703\" xlink:href=\"#ArialMT-101\"/>\r\n      <use x=\"370.710938\" xlink:href=\"#ArialMT-32\"/>\r\n      <use x=\"398.494141\" xlink:href=\"#ArialMT-83\"/>\r\n      <use x=\"465.193359\" xlink:href=\"#ArialMT-105\"/>\r\n      <use x=\"487.410156\" xlink:href=\"#ArialMT-108\"/>\r\n      <use x=\"509.626953\" xlink:href=\"#ArialMT-104\"/>\r\n      <use x=\"565.242188\" xlink:href=\"#ArialMT-111\"/>\r\n      <use x=\"620.857422\" xlink:href=\"#ArialMT-117\"/>\r\n      <use x=\"676.472656\" xlink:href=\"#ArialMT-101\"/>\r\n      <use x=\"732.087891\" xlink:href=\"#ArialMT-116\"/>\r\n      <use x=\"759.871094\" xlink:href=\"#ArialMT-116\"/>\r\n      <use x=\"787.654297\" xlink:href=\"#ArialMT-101\"/>\r\n      <use x=\"843.269531\" xlink:href=\"#ArialMT-32\"/>\r\n      <use x=\"871.052734\" xlink:href=\"#ArialMT-83\"/>\r\n      <use x=\"937.751953\" xlink:href=\"#ArialMT-99\"/>\r\n      <use x=\"987.751953\" xlink:href=\"#ArialMT-111\"/>\r\n      <use x=\"1043.367188\" xlink:href=\"#ArialMT-114\"/>\r\n      <use x=\"1076.667969\" xlink:href=\"#ArialMT-101\"/>\r\n     </g>\r\n    </g>\r\n   </g>\r\n  </g>\r\n </g>\r\n <defs>\r\n  <clipPath id=\"p097e70d6c2\">\r\n   <rect height=\"298.98\" width=\"446.4\" x=\"33.820781\" y=\"21.935625\"/>\r\n  </clipPath>\r\n </defs>\r\n</svg>\r\n",
      "image/png": "[encoded data removed]"
     },
     "metadata": {}
    }
   ],
   "source": [
    "plot_model(kmeans, plot=\"silhouette\") "
   ]
  },
  {
   "cell_type": "code",
   "execution_count": 15,
   "metadata": {},
   "outputs": [
    {
     "output_type": "display_data",
     "data": {
      "text/html": "        <script type=\"text/javascript\">\n        window.PlotlyConfig = {MathJaxConfig: 'local'};\n        if (window.MathJax) {MathJax.Hub.Config({SVG: {font: \"STIX-Web\"}});}\n        if (typeof require !== 'undefined') {\n        require.undef(\"plotly\");\n        requirejs.config({\n            paths: {\n                'plotly': ['https://cdn.plot.ly/plotly-latest.min']\n            }\n        });\n        require(['plotly'], function(Plotly) {\n            window._Plotly = Plotly;\n        });\n        }\n        </script>\n        "
     },
     "metadata": {}
    },
    {
     "output_type": "display_data",
     "data": {
      "text/plain": "<Figure size 576x396 with 2 Axes>",
      "image/svg+xml": "<?xml version=\"1.0\" encoding=\"utf-8\" standalone=\"no\"?>\r\n<!DOCTYPE svg PUBLIC \"-//W3C//DTD SVG 1.1//EN\"\r\n  \"http://www.w3.org/Graphics/SVG/1.1/DTD/svg11.dtd\">\r\n<!-- Created with matplotlib (https://matplotlib.org/) -->\r\n<svg height=\"349.175469pt\" version=\"1.1\" viewBox=\"0 0 481.859844 349.175469\" width=\"481.859844pt\" xmlns=\"http://www.w3.org/2000/svg\" xmlns:xlink=\"http://www.w3.org/1999/xlink\">\r\n <defs>\r\n  <style type=\"text/css\">\r\n*{stroke-linecap:butt;stroke-linejoin:round;}\r\n  </style>\r\n </defs>\r\n <g id=\"figure_1\">\r\n  <g id=\"patch_1\">\r\n   <path d=\"M 0 349.175469 \r\nL 481.859844 349.175469 \r\nL 481.859844 0 \r\nL 0 0 \r\nz\r\n\" style=\"fill:#ffffff;\"/>\r\n  </g>\r\n  <g id=\"axes_1\">\r\n   <g id=\"patch_2\">\r\n    <path d=\"M 28.259844 320.915625 \r\nL 474.659844 320.915625 \r\nL 474.659844 21.935625 \r\nL 28.259844 21.935625 \r\nz\r\n\" style=\"fill:#ffffff;\"/>\r\n   </g>\r\n   <g id=\"matplotlib.axis_1\">\r\n    <g id=\"xtick_1\">\r\n     <g id=\"line2d_1\">\r\n      <path clip-path=\"url(#p285b138d4e)\" d=\"M 281.720501 320.915625 \r\nL 281.720501 21.935625 \r\n\" style=\"fill:none;stroke:#cccccc;stroke-linecap:round;\"/>\r\n     </g>\r\n     <g id=\"line2d_2\"/>\r\n    </g>\r\n    <g id=\"text_1\">\r\n     <!-- PC2 -->\r\n     <defs>\r\n      <path d=\"M 7.71875 0 \r\nL 7.71875 71.578125 \r\nL 34.71875 71.578125 \r\nQ 41.84375 71.578125 45.609375 70.90625 \r\nQ 50.875 70.015625 54.4375 67.546875 \r\nQ 58.015625 65.09375 60.1875 60.640625 \r\nQ 62.359375 56.203125 62.359375 50.875 \r\nQ 62.359375 41.75 56.546875 35.421875 \r\nQ 50.734375 29.109375 35.546875 29.109375 \r\nL 17.1875 29.109375 \r\nL 17.1875 0 \r\nz\r\nM 17.1875 37.546875 \r\nL 35.6875 37.546875 \r\nQ 44.875 37.546875 48.734375 40.96875 \r\nQ 52.59375 44.390625 52.59375 50.59375 \r\nQ 52.59375 55.078125 50.3125 58.265625 \r\nQ 48.046875 61.46875 44.34375 62.5 \r\nQ 41.9375 63.140625 35.5 63.140625 \r\nL 17.1875 63.140625 \r\nz\r\n\" id=\"ArialMT-80\"/>\r\n      <path d=\"M 58.796875 25.09375 \r\nL 68.265625 22.703125 \r\nQ 65.28125 11.03125 57.546875 4.90625 \r\nQ 49.8125 -1.21875 38.625 -1.21875 \r\nQ 27.046875 -1.21875 19.796875 3.484375 \r\nQ 12.546875 8.203125 8.765625 17.140625 \r\nQ 4.984375 26.078125 4.984375 36.328125 \r\nQ 4.984375 47.515625 9.25 55.828125 \r\nQ 13.53125 64.15625 21.40625 68.46875 \r\nQ 29.296875 72.796875 38.765625 72.796875 \r\nQ 49.515625 72.796875 56.828125 67.328125 \r\nQ 64.15625 61.859375 67.046875 51.953125 \r\nL 57.71875 49.75 \r\nQ 55.21875 57.5625 50.484375 61.125 \r\nQ 45.75 64.703125 38.578125 64.703125 \r\nQ 30.328125 64.703125 24.78125 60.734375 \r\nQ 19.234375 56.78125 16.984375 50.109375 \r\nQ 14.75 43.453125 14.75 36.375 \r\nQ 14.75 27.25 17.40625 20.4375 \r\nQ 20.0625 13.625 25.671875 10.25 \r\nQ 31.296875 6.890625 37.84375 6.890625 \r\nQ 45.796875 6.890625 51.3125 11.46875 \r\nQ 56.84375 16.0625 58.796875 25.09375 \r\nz\r\n\" id=\"ArialMT-67\"/>\r\n      <path d=\"M 50.34375 8.453125 \r\nL 50.34375 0 \r\nL 3.03125 0 \r\nQ 2.9375 3.171875 4.046875 6.109375 \r\nQ 5.859375 10.9375 9.828125 15.625 \r\nQ 13.8125 20.3125 21.34375 26.46875 \r\nQ 33.015625 36.03125 37.109375 41.625 \r\nQ 41.21875 47.21875 41.21875 52.203125 \r\nQ 41.21875 57.421875 37.46875 61 \r\nQ 33.734375 64.59375 27.734375 64.59375 \r\nQ 21.390625 64.59375 17.578125 60.78125 \r\nQ 13.765625 56.984375 13.71875 50.25 \r\nL 4.6875 51.171875 \r\nQ 5.609375 61.28125 11.65625 66.578125 \r\nQ 17.71875 71.875 27.9375 71.875 \r\nQ 38.234375 71.875 44.234375 66.15625 \r\nQ 50.25 60.453125 50.25 52 \r\nQ 50.25 47.703125 48.484375 43.546875 \r\nQ 46.734375 39.40625 42.65625 34.8125 \r\nQ 38.578125 30.21875 29.109375 22.21875 \r\nQ 21.1875 15.578125 18.9375 13.203125 \r\nQ 16.703125 10.84375 15.234375 8.453125 \r\nz\r\n\" id=\"ArialMT-50\"/>\r\n     </defs>\r\n     <g style=\"fill:#262626;\" transform=\"translate(240.760625 339.789219)scale(0.11 -0.11)\">\r\n      <use xlink:href=\"#ArialMT-80\"/>\r\n      <use x=\"66.699219\" xlink:href=\"#ArialMT-67\"/>\r\n      <use x=\"138.916016\" xlink:href=\"#ArialMT-50\"/>\r\n     </g>\r\n    </g>\r\n   </g>\r\n   <g id=\"matplotlib.axis_2\">\r\n    <g id=\"ytick_1\">\r\n     <g id=\"line2d_3\">\r\n      <path clip-path=\"url(#p285b138d4e)\" d=\"M 28.259844 159.896256 \r\nL 474.659844 159.896256 \r\n\" style=\"fill:none;stroke:#cccccc;stroke-linecap:round;\"/>\r\n     </g>\r\n     <g id=\"line2d_4\"/>\r\n    </g>\r\n    <g id=\"text_2\">\r\n     <!-- PC1 -->\r\n     <defs>\r\n      <path d=\"M 37.25 0 \r\nL 28.46875 0 \r\nL 28.46875 56 \r\nQ 25.296875 52.984375 20.140625 49.953125 \r\nQ 14.984375 46.921875 10.890625 45.40625 \r\nL 10.890625 53.90625 \r\nQ 18.265625 57.375 23.78125 62.296875 \r\nQ 29.296875 67.234375 31.59375 71.875 \r\nL 37.25 71.875 \r\nz\r\n\" id=\"ArialMT-49\"/>\r\n     </defs>\r\n     <g style=\"fill:#262626;\" transform=\"translate(15.073594 182.124844)rotate(-90)scale(0.11 -0.11)\">\r\n      <use xlink:href=\"#ArialMT-80\"/>\r\n      <use x=\"66.699219\" xlink:href=\"#ArialMT-67\"/>\r\n      <use x=\"138.916016\" xlink:href=\"#ArialMT-49\"/>\r\n     </g>\r\n    </g>\r\n   </g>\r\n   <g id=\"PathCollection_1\">\r\n    <path clip-path=\"url(#p285b138d4e)\" d=\"M 454.368935 301.000884 \r\nC 474.026025 301.000884 492.880659 293.191039 506.780321 279.291377 \r\nC 520.679983 265.391715 528.489828 246.537081 528.489828 226.879991 \r\nC 528.489828 207.2229 520.679983 188.368266 506.780321 174.468604 \r\nC 492.880659 160.568942 474.026025 152.759097 454.368935 152.759097 \r\nC 434.711844 152.759097 415.857211 160.568942 401.957548 174.468604 \r\nC 388.057886 188.368266 380.248041 207.2229 380.248041 226.879991 \r\nC 380.248041 246.537081 388.057886 265.391715 401.957548 279.291377 \r\nC 415.857211 293.191039 434.711844 301.000884 454.368935 301.000884 \r\nz\r\n\" style=\"fill:#2e7193;fill-opacity:0.266667;stroke:#2e7193;stroke-opacity:0.6;\"/>\r\n    <path clip-path=\"url(#p285b138d4e)\" d=\"M 191.488136 116.685957 \r\nC 212.045617 116.685957 231.763884 108.518383 246.300219 93.982049 \r\nC 260.836553 79.445715 269.004127 59.727447 269.004127 39.169966 \r\nC 269.004127 18.612485 260.836553 -1.105783 246.300219 -15.642117 \r\nC 231.763884 -30.178451 212.045617 -38.346025 191.488136 -38.346025 \r\nC 170.930655 -38.346025 151.212387 -30.178451 136.676053 -15.642117 \r\nC 122.139718 -1.105783 113.972145 18.612485 113.972145 39.169966 \r\nC 113.972145 59.727447 122.139718 79.445715 136.676053 93.982049 \r\nC 151.212387 108.518383 170.930655 116.685957 191.488136 116.685957 \r\nz\r\n\" style=\"fill:#2e7193;fill-opacity:0.266667;stroke:#2e7193;stroke-opacity:0.6;\"/>\r\n    <path clip-path=\"url(#p285b138d4e)\" d=\"M 447.310928 94.782744 \r\nC 463.0261 94.782744 478.099734 88.539041 489.212039 77.426736 \r\nC 500.324343 66.314431 506.568047 51.240797 506.568047 35.525625 \r\nC 506.568047 19.810453 500.324343 4.736819 489.212039 -6.375486 \r\nC 478.099734 -17.487791 463.0261 -23.731494 447.310928 -23.731494 \r\nC 431.595756 -23.731494 416.522121 -17.487791 405.409817 -6.375486 \r\nC 394.297512 4.736819 388.053808 19.810453 388.053808 35.525625 \r\nC 388.053808 51.240797 394.297512 66.314431 405.409817 77.426736 \r\nC 416.522121 88.539041 431.595756 94.782744 447.310928 94.782744 \r\nz\r\n\" style=\"fill:#2e7193;fill-opacity:0.266667;stroke:#2e7193;stroke-opacity:0.6;\"/>\r\n    <path clip-path=\"url(#p285b138d4e)\" d=\"M 48.550753 200.580074 \r\nC 51.202784 200.580074 53.746552 199.526411 55.621821 197.651142 \r\nC 57.49709 195.775873 58.550753 193.232105 58.550753 190.580074 \r\nC 58.550753 187.928043 57.49709 185.384275 55.621821 183.509006 \r\nC 53.746552 181.633737 51.202784 180.580074 48.550753 180.580074 \r\nC 45.898722 180.580074 43.354954 181.633737 41.479685 183.509006 \r\nC 39.604416 185.384275 38.550753 187.928043 38.550753 190.580074 \r\nC 38.550753 193.232105 39.604416 195.775873 41.479685 197.651142 \r\nC 43.354954 199.526411 45.898722 200.580074 48.550753 200.580074 \r\nz\r\n\" style=\"fill:#2e7193;fill-opacity:0.266667;stroke:#2e7193;stroke-opacity:0.6;\"/>\r\n    <path clip-path=\"url(#p285b138d4e)\" d=\"M 266.883753 386.382567 \r\nC 287.849899 386.382567 307.960148 378.052628 322.785452 363.227324 \r\nC 337.610756 348.40202 345.940694 328.291771 345.940694 307.325625 \r\nC 345.940694 286.359479 337.610756 266.24923 322.785452 251.423926 \r\nC 307.960148 236.598622 287.849899 228.268683 266.883753 228.268683 \r\nC 245.917607 228.268683 225.807357 236.598622 210.982053 251.423926 \r\nC 196.156749 266.24923 187.826811 286.359479 187.826811 307.325625 \r\nC 187.826811 328.291771 196.156749 348.40202 210.982053 363.227324 \r\nC 225.807357 378.052628 245.917607 386.382567 266.883753 386.382567 \r\nz\r\n\" style=\"fill:#2e7193;fill-opacity:0.266667;stroke:#2e7193;stroke-opacity:0.6;\"/>\r\n   </g>\r\n   <g id=\"patch_3\">\r\n    <path d=\"M 28.259844 320.915625 \r\nL 28.259844 21.935625 \r\n\" style=\"fill:none;stroke:#cccccc;stroke-linecap:square;stroke-linejoin:miter;stroke-width:1.25;\"/>\r\n   </g>\r\n   <g id=\"patch_4\">\r\n    <path d=\"M 474.659844 320.915625 \r\nL 474.659844 21.935625 \r\n\" style=\"fill:none;stroke:#cccccc;stroke-linecap:square;stroke-linejoin:miter;stroke-width:1.25;\"/>\r\n   </g>\r\n   <g id=\"patch_5\">\r\n    <path d=\"M 28.259844 320.915625 \r\nL 474.659844 320.915625 \r\n\" style=\"fill:none;stroke:#cccccc;stroke-linecap:square;stroke-linejoin:miter;stroke-width:1.25;\"/>\r\n   </g>\r\n   <g id=\"patch_6\">\r\n    <path d=\"M 28.259844 21.935625 \r\nL 474.659844 21.935625 \r\n\" style=\"fill:none;stroke:#cccccc;stroke-linecap:square;stroke-linejoin:miter;stroke-width:1.25;\"/>\r\n   </g>\r\n   <g id=\"text_3\">\r\n    <!-- 0 -->\r\n    <defs>\r\n     <path d=\"M 27.4375 71.875 \r\nQ 37.84375 71.875 43.703125 64.453125 \r\nQ 50.6875 55.671875 50.6875 35.296875 \r\nQ 50.6875 14.984375 43.65625 6.109375 \r\nQ 37.84375 -1.21875 27.4375 -1.21875 \r\nQ 17 -1.21875 10.59375 6.8125 \r\nQ 4.203125 14.84375 4.203125 35.453125 \r\nQ 4.203125 55.671875 11.234375 64.546875 \r\nQ 17.046875 71.875 27.4375 71.875 \r\nz\r\nM 27.4375 60.5 \r\nQ 24.953125 60.5 23 58.90625 \r\nQ 21.046875 57.328125 19.96875 53.21875 \r\nQ 18.5625 47.90625 18.5625 35.296875 \r\nQ 18.5625 22.703125 19.828125 17.984375 \r\nQ 21.09375 13.28125 23.015625 11.71875 \r\nQ 24.953125 10.15625 27.4375 10.15625 \r\nQ 29.9375 10.15625 31.890625 11.734375 \r\nQ 33.84375 13.328125 34.90625 17.4375 \r\nQ 36.328125 22.703125 36.328125 35.296875 \r\nQ 36.328125 47.90625 35.0625 52.609375 \r\nQ 33.796875 57.328125 31.859375 58.90625 \r\nQ 29.9375 60.5 27.4375 60.5 \r\nz\r\n\" id=\"Arial-BoldMT-48\"/>\r\n    </defs>\r\n    <g style=\"fill:#262626;\" transform=\"translate(451.032372 229.990616)scale(0.12 -0.12)\">\r\n     <use xlink:href=\"#Arial-BoldMT-48\"/>\r\n    </g>\r\n   </g>\r\n   <g id=\"text_4\">\r\n    <!-- 1 -->\r\n    <defs>\r\n     <path d=\"M 39.359375 0 \r\nL 25.640625 0 \r\nL 25.640625 51.703125 \r\nQ 18.109375 44.671875 7.90625 41.3125 \r\nL 7.90625 53.765625 \r\nQ 13.28125 55.515625 19.578125 60.421875 \r\nQ 25.875 65.328125 28.21875 71.875 \r\nL 39.359375 71.875 \r\nz\r\n\" id=\"Arial-BoldMT-49\"/>\r\n    </defs>\r\n    <g style=\"fill:#262626;\" transform=\"translate(188.151573 42.280591)scale(0.12 -0.12)\">\r\n     <use xlink:href=\"#Arial-BoldMT-49\"/>\r\n    </g>\r\n   </g>\r\n   <g id=\"text_5\">\r\n    <!-- 2 -->\r\n    <defs>\r\n     <path d=\"M 50.59375 12.75 \r\nL 50.59375 0 \r\nL 2.484375 0 \r\nQ 3.265625 7.234375 7.171875 13.703125 \r\nQ 11.078125 20.171875 22.609375 30.859375 \r\nQ 31.890625 39.5 33.984375 42.578125 \r\nQ 36.8125 46.828125 36.8125 50.984375 \r\nQ 36.8125 55.5625 34.34375 58.03125 \r\nQ 31.890625 60.5 27.546875 60.5 \r\nQ 23.25 60.5 20.703125 57.90625 \r\nQ 18.171875 55.328125 17.78125 49.3125 \r\nL 4.109375 50.6875 \r\nQ 5.328125 62.015625 11.765625 66.9375 \r\nQ 18.21875 71.875 27.875 71.875 \r\nQ 38.484375 71.875 44.53125 66.15625 \r\nQ 50.59375 60.453125 50.59375 51.953125 \r\nQ 50.59375 47.125 48.859375 42.75 \r\nQ 47.125 38.375 43.359375 33.59375 \r\nQ 40.875 30.421875 34.375 24.453125 \r\nQ 27.875 18.5 26.140625 16.546875 \r\nQ 24.421875 14.59375 23.34375 12.75 \r\nz\r\n\" id=\"Arial-BoldMT-50\"/>\r\n    </defs>\r\n    <g style=\"fill:#262626;\" transform=\"translate(443.974365 38.63625)scale(0.12 -0.12)\">\r\n     <use xlink:href=\"#Arial-BoldMT-50\"/>\r\n    </g>\r\n   </g>\r\n   <g id=\"text_6\">\r\n    <!-- 3 -->\r\n    <defs>\r\n     <path d=\"M 3.765625 19 \r\nL 17.046875 20.609375 \r\nQ 17.671875 15.53125 20.453125 12.84375 \r\nQ 23.25 10.15625 27.203125 10.15625 \r\nQ 31.453125 10.15625 34.34375 13.375 \r\nQ 37.25 16.609375 37.25 22.078125 \r\nQ 37.25 27.25 34.46875 30.265625 \r\nQ 31.6875 33.296875 27.6875 33.296875 \r\nQ 25.046875 33.296875 21.390625 32.28125 \r\nL 22.90625 43.453125 \r\nQ 28.46875 43.3125 31.390625 45.875 \r\nQ 34.328125 48.4375 34.328125 52.6875 \r\nQ 34.328125 56.296875 32.171875 58.4375 \r\nQ 30.03125 60.59375 26.46875 60.59375 \r\nQ 22.953125 60.59375 20.453125 58.15625 \r\nQ 17.96875 55.71875 17.4375 51.03125 \r\nL 4.78125 53.171875 \r\nQ 6.109375 59.671875 8.765625 63.546875 \r\nQ 11.421875 67.4375 16.1875 69.65625 \r\nQ 20.953125 71.875 26.859375 71.875 \r\nQ 36.96875 71.875 43.0625 65.4375 \r\nQ 48.09375 60.15625 48.09375 53.515625 \r\nQ 48.09375 44.09375 37.796875 38.484375 \r\nQ 43.953125 37.15625 47.625 32.5625 \r\nQ 51.3125 27.984375 51.3125 21.484375 \r\nQ 51.3125 12.0625 44.421875 5.421875 \r\nQ 37.546875 -1.21875 27.296875 -1.21875 \r\nQ 17.578125 -1.21875 11.171875 4.375 \r\nQ 4.78125 9.96875 3.765625 19 \r\nz\r\n\" id=\"Arial-BoldMT-51\"/>\r\n    </defs>\r\n    <g style=\"fill:#262626;\" transform=\"translate(45.21419 193.690699)scale(0.12 -0.12)\">\r\n     <use xlink:href=\"#Arial-BoldMT-51\"/>\r\n    </g>\r\n   </g>\r\n   <g id=\"text_7\">\r\n    <!-- 4 -->\r\n    <defs>\r\n     <path d=\"M 31.15625 0 \r\nL 31.15625 14.40625 \r\nL 1.859375 14.40625 \r\nL 1.859375 26.421875 \r\nL 32.90625 71.875 \r\nL 44.4375 71.875 \r\nL 44.4375 26.46875 \r\nL 53.328125 26.46875 \r\nL 53.328125 14.40625 \r\nL 44.4375 14.40625 \r\nL 44.4375 0 \r\nz\r\nM 31.15625 26.46875 \r\nL 31.15625 50.921875 \r\nL 14.703125 26.46875 \r\nz\r\n\" id=\"Arial-BoldMT-52\"/>\r\n    </defs>\r\n    <g style=\"fill:#262626;\" transform=\"translate(263.54719 310.43625)scale(0.12 -0.12)\">\r\n     <use xlink:href=\"#Arial-BoldMT-52\"/>\r\n    </g>\r\n   </g>\r\n   <g id=\"text_8\">\r\n    <!-- KMeans Intercluster Distance Map (via MDS) -->\r\n    <defs>\r\n     <path d=\"M 7.328125 0 \r\nL 7.328125 71.578125 \r\nL 16.796875 71.578125 \r\nL 16.796875 36.078125 \r\nL 52.34375 71.578125 \r\nL 65.1875 71.578125 \r\nL 35.15625 42.578125 \r\nL 66.5 0 \r\nL 54 0 \r\nL 28.515625 36.234375 \r\nL 16.796875 24.8125 \r\nL 16.796875 0 \r\nz\r\n\" id=\"ArialMT-75\"/>\r\n     <path d=\"M 7.421875 0 \r\nL 7.421875 71.578125 \r\nL 21.6875 71.578125 \r\nL 38.625 20.90625 \r\nQ 40.96875 13.8125 42.046875 10.296875 \r\nQ 43.265625 14.203125 45.84375 21.78125 \r\nL 62.984375 71.578125 \r\nL 75.734375 71.578125 \r\nL 75.734375 0 \r\nL 66.609375 0 \r\nL 66.609375 59.90625 \r\nL 45.796875 0 \r\nL 37.25 0 \r\nL 16.546875 60.9375 \r\nL 16.546875 0 \r\nz\r\n\" id=\"ArialMT-77\"/>\r\n     <path d=\"M 42.09375 16.703125 \r\nL 51.171875 15.578125 \r\nQ 49.03125 7.625 43.21875 3.21875 \r\nQ 37.40625 -1.171875 28.375 -1.171875 \r\nQ 17 -1.171875 10.328125 5.828125 \r\nQ 3.65625 12.84375 3.65625 25.484375 \r\nQ 3.65625 38.578125 10.390625 45.796875 \r\nQ 17.140625 53.03125 27.875 53.03125 \r\nQ 38.28125 53.03125 44.875 45.953125 \r\nQ 51.46875 38.875 51.46875 26.03125 \r\nQ 51.46875 25.25 51.421875 23.6875 \r\nL 12.75 23.6875 \r\nQ 13.234375 15.140625 17.578125 10.59375 \r\nQ 21.921875 6.0625 28.421875 6.0625 \r\nQ 33.25 6.0625 36.671875 8.59375 \r\nQ 40.09375 11.140625 42.09375 16.703125 \r\nz\r\nM 13.234375 30.90625 \r\nL 42.1875 30.90625 \r\nQ 41.609375 37.453125 38.875 40.71875 \r\nQ 34.671875 45.796875 27.984375 45.796875 \r\nQ 21.921875 45.796875 17.796875 41.75 \r\nQ 13.671875 37.703125 13.234375 30.90625 \r\nz\r\n\" id=\"ArialMT-101\"/>\r\n     <path d=\"M 40.4375 6.390625 \r\nQ 35.546875 2.25 31.03125 0.53125 \r\nQ 26.515625 -1.171875 21.34375 -1.171875 \r\nQ 12.796875 -1.171875 8.203125 3 \r\nQ 3.609375 7.171875 3.609375 13.671875 \r\nQ 3.609375 17.484375 5.34375 20.625 \r\nQ 7.078125 23.78125 9.890625 25.6875 \r\nQ 12.703125 27.59375 16.21875 28.5625 \r\nQ 18.796875 29.25 24.03125 29.890625 \r\nQ 34.671875 31.15625 39.703125 32.90625 \r\nQ 39.75 34.71875 39.75 35.203125 \r\nQ 39.75 40.578125 37.25 42.78125 \r\nQ 33.890625 45.75 27.25 45.75 \r\nQ 21.046875 45.75 18.09375 43.578125 \r\nQ 15.140625 41.40625 13.71875 35.890625 \r\nL 5.125 37.0625 \r\nQ 6.296875 42.578125 8.984375 45.96875 \r\nQ 11.671875 49.359375 16.75 51.1875 \r\nQ 21.828125 53.03125 28.515625 53.03125 \r\nQ 35.15625 53.03125 39.296875 51.46875 \r\nQ 43.453125 49.90625 45.40625 47.53125 \r\nQ 47.359375 45.171875 48.140625 41.546875 \r\nQ 48.578125 39.3125 48.578125 33.453125 \r\nL 48.578125 21.734375 \r\nQ 48.578125 9.46875 49.140625 6.21875 \r\nQ 49.703125 2.984375 51.375 0 \r\nL 42.1875 0 \r\nQ 40.828125 2.734375 40.4375 6.390625 \r\nz\r\nM 39.703125 26.03125 \r\nQ 34.90625 24.078125 25.34375 22.703125 \r\nQ 19.921875 21.921875 17.671875 20.9375 \r\nQ 15.4375 19.96875 14.203125 18.09375 \r\nQ 12.984375 16.21875 12.984375 13.921875 \r\nQ 12.984375 10.40625 15.640625 8.0625 \r\nQ 18.3125 5.71875 23.4375 5.71875 \r\nQ 28.515625 5.71875 32.46875 7.9375 \r\nQ 36.421875 10.15625 38.28125 14.015625 \r\nQ 39.703125 17 39.703125 22.796875 \r\nz\r\n\" id=\"ArialMT-97\"/>\r\n     <path d=\"M 6.59375 0 \r\nL 6.59375 51.859375 \r\nL 14.5 51.859375 \r\nL 14.5 44.484375 \r\nQ 20.21875 53.03125 31 53.03125 \r\nQ 35.6875 53.03125 39.625 51.34375 \r\nQ 43.5625 49.65625 45.515625 46.921875 \r\nQ 47.46875 44.1875 48.25 40.4375 \r\nQ 48.734375 37.984375 48.734375 31.890625 \r\nL 48.734375 0 \r\nL 39.9375 0 \r\nL 39.9375 31.546875 \r\nQ 39.9375 36.921875 38.90625 39.578125 \r\nQ 37.890625 42.234375 35.28125 43.8125 \r\nQ 32.671875 45.40625 29.15625 45.40625 \r\nQ 23.53125 45.40625 19.453125 41.84375 \r\nQ 15.375 38.28125 15.375 28.328125 \r\nL 15.375 0 \r\nz\r\n\" id=\"ArialMT-110\"/>\r\n     <path d=\"M 3.078125 15.484375 \r\nL 11.765625 16.84375 \r\nQ 12.5 11.625 15.84375 8.84375 \r\nQ 19.1875 6.0625 25.203125 6.0625 \r\nQ 31.25 6.0625 34.171875 8.515625 \r\nQ 37.109375 10.984375 37.109375 14.3125 \r\nQ 37.109375 17.28125 34.515625 19 \r\nQ 32.71875 20.171875 25.53125 21.96875 \r\nQ 15.875 24.421875 12.140625 26.203125 \r\nQ 8.40625 27.984375 6.46875 31.125 \r\nQ 4.546875 34.28125 4.546875 38.09375 \r\nQ 4.546875 41.546875 6.125 44.5 \r\nQ 7.71875 47.46875 10.453125 49.421875 \r\nQ 12.5 50.921875 16.03125 51.96875 \r\nQ 19.578125 53.03125 23.640625 53.03125 \r\nQ 29.734375 53.03125 34.34375 51.265625 \r\nQ 38.96875 49.515625 41.15625 46.5 \r\nQ 43.359375 43.5 44.1875 38.484375 \r\nL 35.59375 37.3125 \r\nQ 35.015625 41.3125 32.203125 43.546875 \r\nQ 29.390625 45.796875 24.265625 45.796875 \r\nQ 18.21875 45.796875 15.625 43.796875 \r\nQ 13.03125 41.796875 13.03125 39.109375 \r\nQ 13.03125 37.40625 14.109375 36.03125 \r\nQ 15.1875 34.625 17.484375 33.6875 \r\nQ 18.796875 33.203125 25.25 31.453125 \r\nQ 34.578125 28.953125 38.25 27.359375 \r\nQ 41.9375 25.78125 44.03125 22.75 \r\nQ 46.140625 19.734375 46.140625 15.234375 \r\nQ 46.140625 10.84375 43.578125 6.953125 \r\nQ 41.015625 3.078125 36.171875 0.953125 \r\nQ 31.34375 -1.171875 25.25 -1.171875 \r\nQ 15.140625 -1.171875 9.84375 3.03125 \r\nQ 4.546875 7.234375 3.078125 15.484375 \r\nz\r\n\" id=\"ArialMT-115\"/>\r\n     <path id=\"ArialMT-32\"/>\r\n     <path d=\"M 9.328125 0 \r\nL 9.328125 71.578125 \r\nL 18.796875 71.578125 \r\nL 18.796875 0 \r\nz\r\n\" id=\"ArialMT-73\"/>\r\n     <path d=\"M 25.78125 7.859375 \r\nL 27.046875 0.09375 \r\nQ 23.34375 -0.6875 20.40625 -0.6875 \r\nQ 15.625 -0.6875 12.984375 0.828125 \r\nQ 10.359375 2.34375 9.28125 4.8125 \r\nQ 8.203125 7.28125 8.203125 15.1875 \r\nL 8.203125 45.015625 \r\nL 1.765625 45.015625 \r\nL 1.765625 51.859375 \r\nL 8.203125 51.859375 \r\nL 8.203125 64.703125 \r\nL 16.9375 69.96875 \r\nL 16.9375 51.859375 \r\nL 25.78125 51.859375 \r\nL 25.78125 45.015625 \r\nL 16.9375 45.015625 \r\nL 16.9375 14.703125 \r\nQ 16.9375 10.9375 17.40625 9.859375 \r\nQ 17.875 8.796875 18.921875 8.15625 \r\nQ 19.96875 7.515625 21.921875 7.515625 \r\nQ 23.390625 7.515625 25.78125 7.859375 \r\nz\r\n\" id=\"ArialMT-116\"/>\r\n     <path d=\"M 6.5 0 \r\nL 6.5 51.859375 \r\nL 14.40625 51.859375 \r\nL 14.40625 44 \r\nQ 17.4375 49.515625 20 51.265625 \r\nQ 22.5625 53.03125 25.640625 53.03125 \r\nQ 30.078125 53.03125 34.671875 50.203125 \r\nL 31.640625 42.046875 \r\nQ 28.421875 43.953125 25.203125 43.953125 \r\nQ 22.3125 43.953125 20.015625 42.21875 \r\nQ 17.71875 40.484375 16.75 37.40625 \r\nQ 15.28125 32.71875 15.28125 27.15625 \r\nL 15.28125 0 \r\nz\r\n\" id=\"ArialMT-114\"/>\r\n     <path d=\"M 40.4375 19 \r\nL 49.078125 17.875 \r\nQ 47.65625 8.9375 41.8125 3.875 \r\nQ 35.984375 -1.171875 27.484375 -1.171875 \r\nQ 16.84375 -1.171875 10.375 5.78125 \r\nQ 3.90625 12.75 3.90625 25.734375 \r\nQ 3.90625 34.125 6.6875 40.421875 \r\nQ 9.46875 46.734375 15.15625 49.875 \r\nQ 20.84375 53.03125 27.546875 53.03125 \r\nQ 35.984375 53.03125 41.359375 48.75 \r\nQ 46.734375 44.484375 48.25 36.625 \r\nL 39.703125 35.296875 \r\nQ 38.484375 40.53125 35.375 43.15625 \r\nQ 32.28125 45.796875 27.875 45.796875 \r\nQ 21.234375 45.796875 17.078125 41.03125 \r\nQ 12.9375 36.28125 12.9375 25.984375 \r\nQ 12.9375 15.53125 16.9375 10.796875 \r\nQ 20.953125 6.0625 27.390625 6.0625 \r\nQ 32.5625 6.0625 36.03125 9.234375 \r\nQ 39.5 12.40625 40.4375 19 \r\nz\r\n\" id=\"ArialMT-99\"/>\r\n     <path d=\"M 6.390625 0 \r\nL 6.390625 71.578125 \r\nL 15.1875 71.578125 \r\nL 15.1875 0 \r\nz\r\n\" id=\"ArialMT-108\"/>\r\n     <path d=\"M 40.578125 0 \r\nL 40.578125 7.625 \r\nQ 34.515625 -1.171875 24.125 -1.171875 \r\nQ 19.53125 -1.171875 15.546875 0.578125 \r\nQ 11.578125 2.34375 9.640625 5 \r\nQ 7.71875 7.671875 6.9375 11.53125 \r\nQ 6.390625 14.109375 6.390625 19.734375 \r\nL 6.390625 51.859375 \r\nL 15.1875 51.859375 \r\nL 15.1875 23.09375 \r\nQ 15.1875 16.21875 15.71875 13.8125 \r\nQ 16.546875 10.359375 19.234375 8.375 \r\nQ 21.921875 6.390625 25.875 6.390625 \r\nQ 29.828125 6.390625 33.296875 8.421875 \r\nQ 36.765625 10.453125 38.203125 13.9375 \r\nQ 39.65625 17.4375 39.65625 24.078125 \r\nL 39.65625 51.859375 \r\nL 48.4375 51.859375 \r\nL 48.4375 0 \r\nz\r\n\" id=\"ArialMT-117\"/>\r\n     <path d=\"M 7.71875 0 \r\nL 7.71875 71.578125 \r\nL 32.375 71.578125 \r\nQ 40.71875 71.578125 45.125 70.5625 \r\nQ 51.265625 69.140625 55.609375 65.4375 \r\nQ 61.28125 60.640625 64.078125 53.1875 \r\nQ 66.890625 45.75 66.890625 36.1875 \r\nQ 66.890625 28.03125 64.984375 21.734375 \r\nQ 63.09375 15.4375 60.109375 11.296875 \r\nQ 57.125 7.171875 53.578125 4.796875 \r\nQ 50.046875 2.4375 45.046875 1.21875 \r\nQ 40.046875 0 33.546875 0 \r\nz\r\nM 17.1875 8.453125 \r\nL 32.46875 8.453125 \r\nQ 39.546875 8.453125 43.578125 9.765625 \r\nQ 47.609375 11.078125 50 13.484375 \r\nQ 53.375 16.84375 55.25 22.53125 \r\nQ 57.125 28.21875 57.125 36.328125 \r\nQ 57.125 47.5625 53.4375 53.59375 \r\nQ 49.75 59.625 44.484375 61.671875 \r\nQ 40.671875 63.140625 32.234375 63.140625 \r\nL 17.1875 63.140625 \r\nz\r\n\" id=\"ArialMT-68\"/>\r\n     <path d=\"M 6.640625 61.46875 \r\nL 6.640625 71.578125 \r\nL 15.4375 71.578125 \r\nL 15.4375 61.46875 \r\nz\r\nM 6.640625 0 \r\nL 6.640625 51.859375 \r\nL 15.4375 51.859375 \r\nL 15.4375 0 \r\nz\r\n\" id=\"ArialMT-105\"/>\r\n     <path d=\"M 6.59375 -19.875 \r\nL 6.59375 51.859375 \r\nL 14.59375 51.859375 \r\nL 14.59375 45.125 \r\nQ 17.4375 49.078125 21 51.046875 \r\nQ 24.5625 53.03125 29.640625 53.03125 \r\nQ 36.28125 53.03125 41.359375 49.609375 \r\nQ 46.4375 46.1875 49.015625 39.953125 \r\nQ 51.609375 33.734375 51.609375 26.3125 \r\nQ 51.609375 18.359375 48.75 11.984375 \r\nQ 45.90625 5.609375 40.453125 2.21875 \r\nQ 35.015625 -1.171875 29 -1.171875 \r\nQ 24.609375 -1.171875 21.109375 0.6875 \r\nQ 17.625 2.546875 15.375 5.375 \r\nL 15.375 -19.875 \r\nz\r\nM 14.546875 25.640625 \r\nQ 14.546875 15.625 18.59375 10.84375 \r\nQ 22.65625 6.0625 28.421875 6.0625 \r\nQ 34.28125 6.0625 38.453125 11.015625 \r\nQ 42.625 15.96875 42.625 26.375 \r\nQ 42.625 36.28125 38.546875 41.203125 \r\nQ 34.46875 46.140625 28.8125 46.140625 \r\nQ 23.1875 46.140625 18.859375 40.890625 \r\nQ 14.546875 35.640625 14.546875 25.640625 \r\nz\r\n\" id=\"ArialMT-112\"/>\r\n     <path d=\"M 23.390625 -21.046875 \r\nQ 16.109375 -11.859375 11.078125 0.4375 \r\nQ 6.0625 12.75 6.0625 25.921875 \r\nQ 6.0625 37.546875 9.8125 48.1875 \r\nQ 14.203125 60.546875 23.390625 72.796875 \r\nL 29.6875 72.796875 \r\nQ 23.78125 62.640625 21.875 58.296875 \r\nQ 18.890625 51.5625 17.1875 44.234375 \r\nQ 15.09375 35.109375 15.09375 25.875 \r\nQ 15.09375 2.390625 29.6875 -21.046875 \r\nz\r\n\" id=\"ArialMT-40\"/>\r\n     <path d=\"M 21 0 \r\nL 1.265625 51.859375 \r\nL 10.546875 51.859375 \r\nL 21.6875 20.796875 \r\nQ 23.484375 15.765625 25 10.359375 \r\nQ 26.171875 14.453125 28.265625 20.21875 \r\nL 39.796875 51.859375 \r\nL 48.828125 51.859375 \r\nL 29.203125 0 \r\nz\r\n\" id=\"ArialMT-118\"/>\r\n     <path d=\"M 4.5 23 \r\nL 13.421875 23.78125 \r\nQ 14.0625 18.40625 16.375 14.96875 \r\nQ 18.703125 11.53125 23.578125 9.40625 \r\nQ 28.46875 7.28125 34.578125 7.28125 \r\nQ 39.984375 7.28125 44.140625 8.890625 \r\nQ 48.296875 10.5 50.3125 13.296875 \r\nQ 52.34375 16.109375 52.34375 19.4375 \r\nQ 52.34375 22.796875 50.390625 25.3125 \r\nQ 48.4375 27.828125 43.953125 29.546875 \r\nQ 41.0625 30.671875 31.203125 33.03125 \r\nQ 21.34375 35.40625 17.390625 37.5 \r\nQ 12.25 40.1875 9.734375 44.15625 \r\nQ 7.234375 48.140625 7.234375 53.078125 \r\nQ 7.234375 58.5 10.296875 63.203125 \r\nQ 13.375 67.921875 19.28125 70.359375 \r\nQ 25.203125 72.796875 32.421875 72.796875 \r\nQ 40.375 72.796875 46.453125 70.234375 \r\nQ 52.546875 67.671875 55.8125 62.6875 \r\nQ 59.078125 57.71875 59.328125 51.421875 \r\nL 50.25 50.734375 \r\nQ 49.515625 57.515625 45.28125 60.984375 \r\nQ 41.0625 64.453125 32.8125 64.453125 \r\nQ 24.21875 64.453125 20.28125 61.296875 \r\nQ 16.359375 58.15625 16.359375 53.71875 \r\nQ 16.359375 49.859375 19.140625 47.359375 \r\nQ 21.875 44.875 33.421875 42.265625 \r\nQ 44.96875 39.65625 49.265625 37.703125 \r\nQ 55.515625 34.8125 58.484375 30.390625 \r\nQ 61.46875 25.984375 61.46875 20.21875 \r\nQ 61.46875 14.5 58.203125 9.4375 \r\nQ 54.9375 4.390625 48.796875 1.578125 \r\nQ 42.671875 -1.21875 35.015625 -1.21875 \r\nQ 25.296875 -1.21875 18.71875 1.609375 \r\nQ 12.15625 4.4375 8.421875 10.125 \r\nQ 4.6875 15.828125 4.5 23 \r\nz\r\n\" id=\"ArialMT-83\"/>\r\n     <path d=\"M 12.359375 -21.046875 \r\nL 6.0625 -21.046875 \r\nQ 20.65625 2.390625 20.65625 25.875 \r\nQ 20.65625 35.0625 18.5625 44.09375 \r\nQ 16.890625 51.421875 13.921875 58.15625 \r\nQ 12.015625 62.546875 6.0625 72.796875 \r\nL 12.359375 72.796875 \r\nQ 21.53125 60.546875 25.921875 48.1875 \r\nQ 29.6875 37.546875 29.6875 25.921875 \r\nQ 29.6875 12.75 24.625 0.4375 \r\nQ 19.578125 -11.859375 12.359375 -21.046875 \r\nz\r\n\" id=\"ArialMT-41\"/>\r\n    </defs>\r\n    <g style=\"fill:#262626;\" transform=\"translate(131.427969 15.935625)scale(0.12 -0.12)\">\r\n     <use xlink:href=\"#ArialMT-75\"/>\r\n     <use x=\"66.699219\" xlink:href=\"#ArialMT-77\"/>\r\n     <use x=\"150\" xlink:href=\"#ArialMT-101\"/>\r\n     <use x=\"205.615234\" xlink:href=\"#ArialMT-97\"/>\r\n     <use x=\"261.230469\" xlink:href=\"#ArialMT-110\"/>\r\n     <use x=\"316.845703\" xlink:href=\"#ArialMT-115\"/>\r\n     <use x=\"366.845703\" xlink:href=\"#ArialMT-32\"/>\r\n     <use x=\"394.628906\" xlink:href=\"#ArialMT-73\"/>\r\n     <use x=\"422.412109\" xlink:href=\"#ArialMT-110\"/>\r\n     <use x=\"478.027344\" xlink:href=\"#ArialMT-116\"/>\r\n     <use x=\"505.810547\" xlink:href=\"#ArialMT-101\"/>\r\n     <use x=\"561.425781\" xlink:href=\"#ArialMT-114\"/>\r\n     <use x=\"594.726562\" xlink:href=\"#ArialMT-99\"/>\r\n     <use x=\"644.726562\" xlink:href=\"#ArialMT-108\"/>\r\n     <use x=\"666.943359\" xlink:href=\"#ArialMT-117\"/>\r\n     <use x=\"722.558594\" xlink:href=\"#ArialMT-115\"/>\r\n     <use x=\"772.558594\" xlink:href=\"#ArialMT-116\"/>\r\n     <use x=\"800.341797\" xlink:href=\"#ArialMT-101\"/>\r\n     <use x=\"855.957031\" xlink:href=\"#ArialMT-114\"/>\r\n     <use x=\"889.257812\" xlink:href=\"#ArialMT-32\"/>\r\n     <use x=\"917.041016\" xlink:href=\"#ArialMT-68\"/>\r\n     <use x=\"989.257812\" xlink:href=\"#ArialMT-105\"/>\r\n     <use x=\"1011.474609\" xlink:href=\"#ArialMT-115\"/>\r\n     <use x=\"1061.474609\" xlink:href=\"#ArialMT-116\"/>\r\n     <use x=\"1089.257812\" xlink:href=\"#ArialMT-97\"/>\r\n     <use x=\"1144.873047\" xlink:href=\"#ArialMT-110\"/>\r\n     <use x=\"1200.488281\" xlink:href=\"#ArialMT-99\"/>\r\n     <use x=\"1250.488281\" xlink:href=\"#ArialMT-101\"/>\r\n     <use x=\"1306.103516\" xlink:href=\"#ArialMT-32\"/>\r\n     <use x=\"1333.886719\" xlink:href=\"#ArialMT-77\"/>\r\n     <use x=\"1417.1875\" xlink:href=\"#ArialMT-97\"/>\r\n     <use x=\"1472.802734\" xlink:href=\"#ArialMT-112\"/>\r\n     <use x=\"1528.417969\" xlink:href=\"#ArialMT-32\"/>\r\n     <use x=\"1556.201172\" xlink:href=\"#ArialMT-40\"/>\r\n     <use x=\"1589.501953\" xlink:href=\"#ArialMT-118\"/>\r\n     <use x=\"1639.501953\" xlink:href=\"#ArialMT-105\"/>\r\n     <use x=\"1661.71875\" xlink:href=\"#ArialMT-97\"/>\r\n     <use x=\"1717.333984\" xlink:href=\"#ArialMT-32\"/>\r\n     <use x=\"1745.117188\" xlink:href=\"#ArialMT-77\"/>\r\n     <use x=\"1828.417969\" xlink:href=\"#ArialMT-68\"/>\r\n     <use x=\"1900.634766\" xlink:href=\"#ArialMT-83\"/>\r\n     <use x=\"1967.333984\" xlink:href=\"#ArialMT-41\"/>\r\n    </g>\r\n   </g>\r\n  </g>\r\n  <g id=\"axes_2\">\r\n   <g id=\"matplotlib.axis_3\"/>\r\n   <g id=\"matplotlib.axis_4\"/>\r\n   <g id=\"patch_7\">\r\n    <path clip-path=\"url(#pac76ddff04)\" d=\"M 75.688415 280.580679 \r\nC 83.278061 280.580679 90.557877 277.56528 95.924568 272.19859 \r\nC 101.291258 266.8319 104.306656 259.552084 104.306656 251.962438 \r\nC 104.306656 244.372791 101.291258 237.092976 95.924568 231.726285 \r\nC 90.557877 226.359595 83.278061 223.344196 75.688415 223.344196 \r\nC 68.098769 223.344196 60.818953 226.359595 55.452263 231.726285 \r\nC 50.085572 237.092976 47.070174 244.372791 47.070174 251.962438 \r\nC 47.070174 259.552084 50.085572 266.8319 55.452263 272.19859 \r\nC 60.818953 277.56528 68.098769 280.580679 75.688415 280.580679 \r\nz\r\n\" style=\"fill:none;stroke:#2e7193;stroke-dasharray:5.55,2.4;stroke-dashoffset:0;stroke-linejoin:miter;stroke-width:1.5;\"/>\r\n   </g>\r\n   <g id=\"patch_8\">\r\n    <path clip-path=\"url(#pac76ddff04)\" d=\"M 75.688415 295.524442 \r\nC 85.259628 295.524442 94.440117 291.721759 101.207986 284.95389 \r\nC 107.975855 278.186021 111.778538 269.005532 111.778538 259.434319 \r\nC 111.778538 249.863107 107.975855 240.682618 101.207986 233.914749 \r\nC 94.440117 227.146879 85.259628 223.344196 75.688415 223.344196 \r\nC 66.117203 223.344196 56.936714 227.146879 50.168845 233.914749 \r\nC 43.400975 240.682618 39.598292 249.863107 39.598292 259.434319 \r\nC 39.598292 269.005532 43.400975 278.186021 50.168845 284.95389 \r\nC 56.936714 291.721759 66.117203 295.524442 75.688415 295.524442 \r\nz\r\n\" style=\"fill:none;stroke:#2e7193;stroke-dasharray:5.55,2.4;stroke-dashoffset:0;stroke-linejoin:miter;stroke-width:1.5;\"/>\r\n   </g>\r\n   <g id=\"patch_9\">\r\n    <path clip-path=\"url(#pac76ddff04)\" d=\"M 75.688415 298.937811 \r\nC 85.712246 298.937811 95.326875 294.955301 102.414794 287.867382 \r\nC 109.502712 280.779464 113.485222 271.164834 113.485222 261.141003 \r\nC 113.485222 251.117173 109.502712 241.502543 102.414794 234.414625 \r\nC 95.326875 227.326706 85.712246 223.344196 75.688415 223.344196 \r\nC 65.664585 223.344196 56.049955 227.326706 48.962037 234.414625 \r\nC 41.874118 241.502543 37.891608 251.117173 37.891608 261.141003 \r\nC 37.891608 271.164834 41.874118 280.779464 48.962037 287.867382 \r\nC 56.049955 294.955301 65.664585 298.937811 75.688415 298.937811 \r\nz\r\n\" style=\"fill:none;stroke:#2e7193;stroke-dasharray:5.55,2.4;stroke-dashoffset:0;stroke-linejoin:miter;stroke-width:1.5;\"/>\r\n   </g>\r\n   <g id=\"patch_10\">\r\n    <path d=\"M 115.158697 278.780679 \r\nQ 96.423322 279.680679 77.687947 280.580679 \r\nL 77.687947 280.580679 \r\nQ 96.423322 281.480679 115.158697 282.380679 \r\nz\r\n\" style=\"fill:#2e7193;stroke:#2e7193;stroke-linecap:round;stroke-width:0.3;\"/>\r\n   </g>\r\n   <g id=\"text_9\">\r\n    <!-- 84 -->\r\n    <defs>\r\n     <path d=\"M 17.671875 38.8125 \r\nQ 12.203125 40.828125 9.5625 44.53125 \r\nQ 6.9375 48.25 6.9375 53.421875 \r\nQ 6.9375 61.234375 12.546875 66.546875 \r\nQ 18.171875 71.875 27.484375 71.875 \r\nQ 36.859375 71.875 42.578125 66.421875 \r\nQ 48.296875 60.984375 48.296875 53.171875 \r\nQ 48.296875 48.1875 45.671875 44.5 \r\nQ 43.0625 40.828125 37.75 38.8125 \r\nQ 44.34375 36.671875 47.78125 31.875 \r\nQ 51.21875 27.09375 51.21875 20.453125 \r\nQ 51.21875 11.28125 44.71875 5.03125 \r\nQ 38.234375 -1.21875 27.640625 -1.21875 \r\nQ 17.046875 -1.21875 10.546875 5.046875 \r\nQ 4.046875 11.328125 4.046875 20.703125 \r\nQ 4.046875 27.6875 7.59375 32.390625 \r\nQ 11.140625 37.109375 17.671875 38.8125 \r\nz\r\nM 15.921875 53.71875 \r\nQ 15.921875 48.640625 19.1875 45.40625 \r\nQ 22.46875 42.1875 27.6875 42.1875 \r\nQ 32.765625 42.1875 36.015625 45.375 \r\nQ 39.265625 48.578125 39.265625 53.21875 \r\nQ 39.265625 58.0625 35.90625 61.359375 \r\nQ 32.5625 64.65625 27.59375 64.65625 \r\nQ 22.5625 64.65625 19.234375 61.421875 \r\nQ 15.921875 58.203125 15.921875 53.71875 \r\nz\r\nM 13.09375 20.65625 \r\nQ 13.09375 16.890625 14.875 13.375 \r\nQ 16.65625 9.859375 20.171875 7.921875 \r\nQ 23.6875 6 27.734375 6 \r\nQ 34.03125 6 38.125 10.046875 \r\nQ 42.234375 14.109375 42.234375 20.359375 \r\nQ 42.234375 26.703125 38.015625 30.859375 \r\nQ 33.796875 35.015625 27.4375 35.015625 \r\nQ 21.234375 35.015625 17.15625 30.90625 \r\nQ 13.09375 26.8125 13.09375 20.65625 \r\nz\r\n\" id=\"ArialMT-56\"/>\r\n     <path d=\"M 32.328125 0 \r\nL 32.328125 17.140625 \r\nL 1.265625 17.140625 \r\nL 1.265625 25.203125 \r\nL 33.9375 71.578125 \r\nL 41.109375 71.578125 \r\nL 41.109375 25.203125 \r\nL 50.78125 25.203125 \r\nL 50.78125 17.140625 \r\nL 41.109375 17.140625 \r\nL 41.109375 0 \r\nz\r\nM 32.328125 25.203125 \r\nL 32.328125 57.46875 \r\nL 9.90625 25.203125 \r\nz\r\n\" id=\"ArialMT-52\"/>\r\n    </defs>\r\n    <g style=\"fill:#262626;\" transform=\"translate(119.158147 283.682866)scale(0.12 -0.12)\">\r\n     <use xlink:href=\"#ArialMT-56\"/>\r\n     <use x=\"55.615234\" xlink:href=\"#ArialMT-52\"/>\r\n    </g>\r\n   </g>\r\n   <g id=\"patch_11\">\r\n    <path d=\"M 115.158697 293.724442 \r\nQ 96.423322 294.624442 77.687947 295.524442 \r\nL 77.687947 295.524442 \r\nQ 96.423322 296.424442 115.158697 297.324442 \r\nz\r\n\" style=\"fill:#2e7193;stroke:#2e7193;stroke-linecap:round;stroke-width:0.3;\"/>\r\n   </g>\r\n   <g id=\"text_10\">\r\n    <!-- 96 -->\r\n    <defs>\r\n     <path d=\"M 5.46875 16.546875 \r\nL 13.921875 17.328125 \r\nQ 14.984375 11.375 18.015625 8.6875 \r\nQ 21.046875 6 25.78125 6 \r\nQ 29.828125 6 32.875 7.859375 \r\nQ 35.9375 9.71875 37.890625 12.8125 \r\nQ 39.84375 15.921875 41.15625 21.1875 \r\nQ 42.484375 26.46875 42.484375 31.9375 \r\nQ 42.484375 32.515625 42.4375 33.6875 \r\nQ 39.796875 29.5 35.234375 26.875 \r\nQ 30.671875 24.265625 25.34375 24.265625 \r\nQ 16.453125 24.265625 10.296875 30.703125 \r\nQ 4.15625 37.15625 4.15625 47.703125 \r\nQ 4.15625 58.59375 10.578125 65.234375 \r\nQ 17 71.875 26.65625 71.875 \r\nQ 33.640625 71.875 39.421875 68.109375 \r\nQ 45.21875 64.359375 48.21875 57.390625 \r\nQ 51.21875 50.4375 51.21875 37.25 \r\nQ 51.21875 23.53125 48.234375 15.40625 \r\nQ 45.265625 7.28125 39.375 3.03125 \r\nQ 33.5 -1.21875 25.59375 -1.21875 \r\nQ 17.1875 -1.21875 11.859375 3.4375 \r\nQ 6.546875 8.109375 5.46875 16.546875 \r\nz\r\nM 41.453125 48.140625 \r\nQ 41.453125 55.71875 37.421875 60.15625 \r\nQ 33.40625 64.59375 27.734375 64.59375 \r\nQ 21.875 64.59375 17.53125 59.8125 \r\nQ 13.1875 55.03125 13.1875 47.40625 \r\nQ 13.1875 40.578125 17.3125 36.296875 \r\nQ 21.4375 32.03125 27.484375 32.03125 \r\nQ 33.59375 32.03125 37.515625 36.296875 \r\nQ 41.453125 40.578125 41.453125 48.140625 \r\nz\r\n\" id=\"ArialMT-57\"/>\r\n     <path d=\"M 49.75 54.046875 \r\nL 41.015625 53.375 \r\nQ 39.84375 58.546875 37.703125 60.890625 \r\nQ 34.125 64.65625 28.90625 64.65625 \r\nQ 24.703125 64.65625 21.53125 62.3125 \r\nQ 17.390625 59.28125 14.984375 53.46875 \r\nQ 12.59375 47.65625 12.5 36.921875 \r\nQ 15.671875 41.75 20.265625 44.09375 \r\nQ 24.859375 46.4375 29.890625 46.4375 \r\nQ 38.671875 46.4375 44.84375 39.96875 \r\nQ 51.03125 33.5 51.03125 23.25 \r\nQ 51.03125 16.5 48.125 10.71875 \r\nQ 45.21875 4.9375 40.140625 1.859375 \r\nQ 35.0625 -1.21875 28.609375 -1.21875 \r\nQ 17.625 -1.21875 10.6875 6.859375 \r\nQ 3.765625 14.9375 3.765625 33.5 \r\nQ 3.765625 54.25 11.421875 63.671875 \r\nQ 18.109375 71.875 29.4375 71.875 \r\nQ 37.890625 71.875 43.28125 67.140625 \r\nQ 48.6875 62.40625 49.75 54.046875 \r\nz\r\nM 13.875 23.1875 \r\nQ 13.875 18.65625 15.796875 14.5 \r\nQ 17.71875 10.359375 21.1875 8.171875 \r\nQ 24.65625 6 28.46875 6 \r\nQ 34.03125 6 38.03125 10.484375 \r\nQ 42.046875 14.984375 42.046875 22.703125 \r\nQ 42.046875 30.125 38.078125 34.390625 \r\nQ 34.125 38.671875 28.125 38.671875 \r\nQ 22.171875 38.671875 18.015625 34.390625 \r\nQ 13.875 30.125 13.875 23.1875 \r\nz\r\n\" id=\"ArialMT-54\"/>\r\n    </defs>\r\n    <g style=\"fill:#262626;\" transform=\"translate(119.158147 298.626629)scale(0.12 -0.12)\">\r\n     <use xlink:href=\"#ArialMT-57\"/>\r\n     <use x=\"55.615234\" xlink:href=\"#ArialMT-54\"/>\r\n    </g>\r\n   </g>\r\n   <g id=\"patch_12\">\r\n    <path d=\"M 111.822076 297.137811 \r\nQ 94.754303 298.037811 77.686529 298.937811 \r\nL 77.686529 298.937811 \r\nQ 94.754303 299.837811 111.822076 300.737811 \r\nz\r\n\" style=\"fill:#2e7193;stroke:#2e7193;stroke-linecap:round;stroke-width:0.3;\"/>\r\n   </g>\r\n   <g id=\"text_11\">\r\n    <!-- 100 -->\r\n    <defs>\r\n     <path d=\"M 4.15625 35.296875 \r\nQ 4.15625 48 6.765625 55.734375 \r\nQ 9.375 63.484375 14.515625 67.671875 \r\nQ 19.671875 71.875 27.484375 71.875 \r\nQ 33.25 71.875 37.59375 69.546875 \r\nQ 41.9375 67.234375 44.765625 62.859375 \r\nQ 47.609375 58.5 49.21875 52.21875 \r\nQ 50.828125 45.953125 50.828125 35.296875 \r\nQ 50.828125 22.703125 48.234375 14.96875 \r\nQ 45.65625 7.234375 40.5 3 \r\nQ 35.359375 -1.21875 27.484375 -1.21875 \r\nQ 17.140625 -1.21875 11.234375 6.203125 \r\nQ 4.15625 15.140625 4.15625 35.296875 \r\nz\r\nM 13.1875 35.296875 \r\nQ 13.1875 17.671875 17.3125 11.828125 \r\nQ 21.4375 6 27.484375 6 \r\nQ 33.546875 6 37.671875 11.859375 \r\nQ 41.796875 17.71875 41.796875 35.296875 \r\nQ 41.796875 52.984375 37.671875 58.78125 \r\nQ 33.546875 64.59375 27.390625 64.59375 \r\nQ 21.34375 64.59375 17.71875 59.46875 \r\nQ 13.1875 52.9375 13.1875 35.296875 \r\nz\r\n\" id=\"ArialMT-48\"/>\r\n    </defs>\r\n    <g style=\"fill:#262626;\" transform=\"translate(115.821585 302.039998)scale(0.12 -0.12)\">\r\n     <use xlink:href=\"#ArialMT-49\"/>\r\n     <use x=\"55.615234\" xlink:href=\"#ArialMT-48\"/>\r\n     <use x=\"111.230469\" xlink:href=\"#ArialMT-48\"/>\r\n    </g>\r\n   </g>\r\n   <g id=\"text_12\">\r\n    <!-- membership -->\r\n    <defs>\r\n     <path d=\"M 6.59375 0 \r\nL 6.59375 51.859375 \r\nL 14.453125 51.859375 \r\nL 14.453125 44.578125 \r\nQ 16.890625 48.390625 20.9375 50.703125 \r\nQ 25 53.03125 30.171875 53.03125 \r\nQ 35.9375 53.03125 39.625 50.640625 \r\nQ 43.3125 48.25 44.828125 43.953125 \r\nQ 50.984375 53.03125 60.84375 53.03125 \r\nQ 68.5625 53.03125 72.703125 48.75 \r\nQ 76.859375 44.484375 76.859375 35.59375 \r\nL 76.859375 0 \r\nL 68.109375 0 \r\nL 68.109375 32.671875 \r\nQ 68.109375 37.9375 67.25 40.25 \r\nQ 66.40625 42.578125 64.15625 43.984375 \r\nQ 61.921875 45.40625 58.890625 45.40625 \r\nQ 53.421875 45.40625 49.796875 41.765625 \r\nQ 46.1875 38.140625 46.1875 30.125 \r\nL 46.1875 0 \r\nL 37.40625 0 \r\nL 37.40625 33.6875 \r\nQ 37.40625 39.546875 35.25 42.46875 \r\nQ 33.109375 45.40625 28.21875 45.40625 \r\nQ 24.515625 45.40625 21.359375 43.453125 \r\nQ 18.21875 41.5 16.796875 37.734375 \r\nQ 15.375 33.984375 15.375 26.90625 \r\nL 15.375 0 \r\nz\r\n\" id=\"ArialMT-109\"/>\r\n     <path d=\"M 14.703125 0 \r\nL 6.546875 0 \r\nL 6.546875 71.578125 \r\nL 15.328125 71.578125 \r\nL 15.328125 46.046875 \r\nQ 20.90625 53.03125 29.546875 53.03125 \r\nQ 34.328125 53.03125 38.59375 51.09375 \r\nQ 42.875 49.171875 45.625 45.671875 \r\nQ 48.390625 42.1875 49.953125 37.25 \r\nQ 51.515625 32.328125 51.515625 26.703125 \r\nQ 51.515625 13.375 44.921875 6.09375 \r\nQ 38.328125 -1.171875 29.109375 -1.171875 \r\nQ 19.921875 -1.171875 14.703125 6.5 \r\nz\r\nM 14.59375 26.3125 \r\nQ 14.59375 17 17.140625 12.84375 \r\nQ 21.296875 6.0625 28.375 6.0625 \r\nQ 34.125 6.0625 38.328125 11.0625 \r\nQ 42.53125 16.0625 42.53125 25.984375 \r\nQ 42.53125 36.140625 38.5 40.96875 \r\nQ 34.46875 45.796875 28.765625 45.796875 \r\nQ 23 45.796875 18.796875 40.796875 \r\nQ 14.59375 35.796875 14.59375 26.3125 \r\nz\r\n\" id=\"ArialMT-98\"/>\r\n     <path d=\"M 6.59375 0 \r\nL 6.59375 71.578125 \r\nL 15.375 71.578125 \r\nL 15.375 45.90625 \r\nQ 21.53125 53.03125 30.90625 53.03125 \r\nQ 36.671875 53.03125 40.921875 50.75 \r\nQ 45.171875 48.484375 47 44.484375 \r\nQ 48.828125 40.484375 48.828125 32.859375 \r\nL 48.828125 0 \r\nL 40.046875 0 \r\nL 40.046875 32.859375 \r\nQ 40.046875 39.453125 37.1875 42.453125 \r\nQ 34.328125 45.453125 29.109375 45.453125 \r\nQ 25.203125 45.453125 21.75 43.421875 \r\nQ 18.3125 41.40625 16.84375 37.9375 \r\nQ 15.375 34.46875 15.375 28.375 \r\nL 15.375 0 \r\nz\r\n\" id=\"ArialMT-104\"/>\r\n    </defs>\r\n    <g style=\"fill:#262626;\" transform=\"translate(54.250469 218.732098)scale(0.12 -0.12)\">\r\n     <use xlink:href=\"#ArialMT-109\"/>\r\n     <use x=\"83.300781\" xlink:href=\"#ArialMT-101\"/>\r\n     <use x=\"138.916016\" xlink:href=\"#ArialMT-109\"/>\r\n     <use x=\"222.216797\" xlink:href=\"#ArialMT-98\"/>\r\n     <use x=\"277.832031\" xlink:href=\"#ArialMT-101\"/>\r\n     <use x=\"333.447266\" xlink:href=\"#ArialMT-114\"/>\r\n     <use x=\"366.748047\" xlink:href=\"#ArialMT-115\"/>\r\n     <use x=\"416.748047\" xlink:href=\"#ArialMT-104\"/>\r\n     <use x=\"472.363281\" xlink:href=\"#ArialMT-105\"/>\r\n     <use x=\"494.580078\" xlink:href=\"#ArialMT-112\"/>\r\n    </g>\r\n   </g>\r\n  </g>\r\n </g>\r\n <defs>\r\n  <clipPath id=\"p285b138d4e\">\r\n   <rect height=\"298.98\" width=\"446.4\" x=\"28.259844\" y=\"21.935625\"/>\r\n  </clipPath>\r\n  <clipPath id=\"pac76ddff04\">\r\n   <rect height=\"108\" width=\"108\" x=\"33.259844\" y=\"207.915625\"/>\r\n  </clipPath>\r\n </defs>\r\n</svg>\r\n",
      "image/png": "[encoded data removed]"
     },
     "metadata": {}
    }
   ],
   "source": [
    "plot_model(kmeans, plot=\"distance\")"
   ]
  },
  {
   "cell_type": "code",
   "execution_count": 16,
   "metadata": {},
   "outputs": [
    {
     "output_type": "display_data",
     "data": {
      "text/html": "        <script type=\"text/javascript\">\n        window.PlotlyConfig = {MathJaxConfig: 'local'};\n        if (window.MathJax) {MathJax.Hub.Config({SVG: {font: \"STIX-Web\"}});}\n        if (typeof require !== 'undefined') {\n        require.undef(\"plotly\");\n        requirejs.config({\n            paths: {\n                'plotly': ['https://cdn.plot.ly/plotly-latest.min']\n            }\n        });\n        require(['plotly'], function(Plotly) {\n            window._Plotly = Plotly;\n        });\n        }\n        </script>\n        "
     },
     "metadata": {}
    },
    {
     "output_type": "display_data",
     "data": {
      "application/vnd.plotly.v1+json": {
       "config": {
        "plotlyServerURL": "https://plot.ly"
       },
       "data": [
        {
         "alignmentgroup": "True",
         "bingroup": "x",
         "hoverlabel": {
          "namelength": 0
         },
         "hovertemplate": "Cluster=%{x}<br>count=%{y}",
         "legendgroup": "Cluster=Cluster 0",
         "marker": {
          "color": "#636efa",
          "opacity": 0.7
         },
         "name": "Cluster=Cluster 0",
         "offsetgroup": "Cluster=Cluster 0",
         "orientation": "v",
         "showlegend": true,
         "type": "histogram",
         "x": [
          "Cluster 0",
          "Cluster 0",
          "Cluster 0",
          "Cluster 0",
          "Cluster 0",
          "Cluster 0",
          "Cluster 0",
          "Cluster 0",
          "Cluster 0",
          "Cluster 0",
          "Cluster 0",
          "Cluster 0",
          "Cluster 0",
          "Cluster 0",
          "Cluster 0",
          "Cluster 0",
          "Cluster 0",
          "Cluster 0",
          "Cluster 0",
          "Cluster 0",
          "Cluster 0",
          "Cluster 0",
          "Cluster 0",
          "Cluster 0",
          "Cluster 0",
          "Cluster 0",
          "Cluster 0",
          "Cluster 0",
          "Cluster 0",
          "Cluster 0",
          "Cluster 0",
          "Cluster 0",
          "Cluster 0",
          "Cluster 0",
          "Cluster 0",
          "Cluster 0",
          "Cluster 0",
          "Cluster 0",
          "Cluster 0",
          "Cluster 0",
          "Cluster 0",
          "Cluster 0",
          "Cluster 0",
          "Cluster 0",
          "Cluster 0",
          "Cluster 0",
          "Cluster 0",
          "Cluster 0",
          "Cluster 0",
          "Cluster 0",
          "Cluster 0",
          "Cluster 0",
          "Cluster 0",
          "Cluster 0",
          "Cluster 0",
          "Cluster 0",
          "Cluster 0",
          "Cluster 0",
          "Cluster 0",
          "Cluster 0",
          "Cluster 0",
          "Cluster 0",
          "Cluster 0",
          "Cluster 0",
          "Cluster 0",
          "Cluster 0",
          "Cluster 0",
          "Cluster 0",
          "Cluster 0",
          "Cluster 0",
          "Cluster 0",
          "Cluster 0",
          "Cluster 0",
          "Cluster 0",
          "Cluster 0",
          "Cluster 0",
          "Cluster 0",
          "Cluster 0",
          "Cluster 0",
          "Cluster 0",
          "Cluster 0",
          "Cluster 0",
          "Cluster 0",
          "Cluster 0",
          "Cluster 0",
          "Cluster 0",
          "Cluster 0",
          "Cluster 0",
          "Cluster 0",
          "Cluster 0",
          "Cluster 0",
          "Cluster 0",
          "Cluster 0",
          "Cluster 0",
          "Cluster 0",
          "Cluster 0"
         ],
         "xaxis": "x",
         "yaxis": "y"
        },
        {
         "alignmentgroup": "True",
         "customdata": [
          [
           0.1989134183137831,
           -0.17501868840358317,
           1.0896739001988074,
           -0.1309209501525409,
           0.07017728276628708,
           0.2897529862411182,
           0.18470726940907556,
           0.558053476333554,
           -1.3219273577793764,
           1.6066385020188363,
           0.14102408538266697,
           0.2722086678387985,
           -0.7864703549243692,
           "Cluster 0"
          ],
          [
           -0.5895056165253256,
           -1.0950224082162787,
           0.7030832200858295,
           -0.44575992556151944,
           -2.2777266903589912,
           -1.2068158127876387,
           1.5995949924814916,
           -1.1292276800061474,
           1.6389082249694884,
           -0.16851625802586948,
           2.5982043511535204,
           1.2907739614724592,
           -0.7724193052394057,
           "Cluster 0"
          ],
          [
           -0.06448005659096391,
           0.060311572687145924,
           0.7872099273452211,
           -0.7370649903680138,
           0.09886571897084169,
           -0.3583260947369343,
           0.35892790883024484,
           0.46074781455192776,
           -0.6617398515564124,
           -0.11437129932100439,
           -0.15882512516228434,
           0.6187187344592819,
           -0.6901834883673483,
           "Cluster 0"
          ],
          [
           -0.26401570586409,
           -1.513105402506907,
           -0.11774888141985697,
           -0.07588953742593532,
           1.0741011872767816,
           -0.09127575492105058,
           -0.04503197131042506,
           1.0886681456475735,
           0.07952608913777873,
           0.31038100086919473,
           2.0043297793639474,
           -0.3189209871513081,
           -1.2440370882438965,
           "Cluster 0"
          ],
          [
           -0.11079260605814012,
           1.1912282623403436,
           0.8246652344052279,
           0.6834733759693478,
           0.15060319158048,
           1.294820236479031,
           0.7233276900807133,
           -0.4724107478617854,
           1.068704694884191,
           -0.8917274560618058,
           0.7314556568354443,
           0.44227989977239845,
           -1.4962747082269974,
           "Cluster 0"
          ],
          [
           1.8243122905637132,
           1.0817625818058467,
           -0.9105794475603229,
           -0.5128364423175212,
           0.18184841425698586,
           0.03332845382635926,
           -0.011653477765139354,
           0.8056053806063799,
           -0.6845104017757447,
           1.9302985062871227,
           0.6804001006428989,
           -0.646198007834363,
           -0.5040268778805557,
           "Cluster 0"
          ],
          [
           0.6169197935943666,
           2.034262201899721,
           0.9108443883865673,
           0.2420686461206331,
           -0.5556628362577839,
           -1.4283720304729417,
           1.7712745971095076,
           0.16936077569004923,
           -0.9186674784394573,
           2.8553409344030194,
           1.0017789801643475,
           -0.4284993580592828,
           -0.7236516980979524,
           "Cluster 0"
          ],
          [
           -0.02951435725061857,
           -0.3150661948929498,
           -1.7823730391195327,
           0.632114836750069,
           -0.1446625817884503,
           -0.6660544120326598,
           0.10624590623303745,
           -0.11469929783743447,
           -0.5142127788989221,
           0.698283312255818,
           -0.10378368054278081,
           0.2728622304698055,
           -0.8549361186198843,
           "Cluster 0"
          ],
          [
           -0.42202867006368855,
           -0.5522336215353898,
           -0.5313612572761424,
           -1.0697891446062429,
           -0.21646107447321603,
           0.6591617648769006,
           0.1006441798946787,
           -0.11163815416665983,
           0.9792082437148423,
           0.15185568422750317,
           0.8485057122397075,
           -0.37010332094026605,
           -1.3663458468824847,
           "Cluster 0"
          ],
          [
           -1.5911926678032882,
           0.3855640976334624,
           -0.46671535293711147,
           -0.4995436684777592,
           -0.31625398995111265,
           0.4943088683632801,
           -0.46462568202257737,
           -0.037969816168524545,
           1.3641540875631004,
           1.6938934055197756,
           -1.7380110146624799,
           0.43185854203099083,
           -2.1657102278159046,
           "Cluster 0"
          ],
          [
           0.7691827055931926,
           -0.5890302866007483,
           0.6075776022633067,
           0.8297628704826228,
           0.373071746740441,
           -0.463946727480092,
           -0.3305558707409937,
           1.3980752841575164,
           0.0033280198103130716,
           0.2294846682297334,
           0.5420724457228858,
           -1.3920302147989692,
           0.23274855467236247,
           "Cluster 0"
          ],
          [
           1.2132379725609268,
           0.025734209557764717,
           0.8945681574442261,
           0.3226062104784981,
           0.5174306394202826,
           0.24390710425639875,
           -0.2470021946813338,
           0.02478461905161748,
           0.4261639416657195,
           -0.4502962047242534,
           0.5639066597013966,
           0.4121605534826545,
           -1.439663905475827,
           "Cluster 0"
          ],
          [
           -0.5353436085906226,
           0.0121376286857148,
           -0.390618792327384,
           1.4630232754296484,
           0.12271814739123327,
           -0.4455889523797284,
           0.6837548893511552,
           -1.0189730908323407,
           0.8449126957841895,
           0.479941822562987,
           1.0933165352917202,
           0.20497298650805595,
           -1.1771740767327679,
           "Cluster 0"
          ],
          [
           1.2692754833123943,
           0.895751191085529,
           -1.9004753534460048,
           -0.9646463038093805,
           -1.2046339150520224,
           0.44344085371534325,
           0.29460799524910875,
           -0.04835568458413573,
           -1.2774378084278892,
           1.91335991446298,
           -0.2911352112764576,
           -1.051418390060271,
           -3.078569185075529,
           "Cluster 0"
          ],
          [
           -2.1902547364729394,
           0.3588139607757753,
           -1.203823352221031,
           -0.6648744675137416,
           0.5201761775784729,
           -0.2343036354320254,
           -1.0585688287016863,
           0.4302526790278462,
           1.4507611010992005,
           0.750320559929007,
           -0.9980168822951541,
           -0.48592790976333783,
           -0.607972462190719,
           "Cluster 0"
          ],
          [
           0.9127656374024679,
           0.8307481435216395,
           0.47628580296473244,
           -0.39962871789283594,
           1.6810394532507769,
           0.8182403580283092,
           1.4540578660584518,
           0.8322658516480651,
           0.24067974045408513,
           2.3250759777429466,
           -2.195547322614049,
           2.246877610313453,
           -2.2880204334875844,
           "Cluster 0"
          ],
          [
           -2.407956282126115,
           -0.6368090678507865,
           1.202246779468626,
           1.119533021328333,
           0.886730093277988,
           1.379198884183297,
           0.9247339657738856,
           1.31949116237419,
           0.020453660495131813,
           -0.8442193218706228,
           0.37012042535344475,
           -0.8872108581088526,
           -0.9187636905837618,
           "Cluster 0"
          ],
          [
           1.0468231701686934,
           1.0843320490333175,
           1.3773694304912685,
           2.3457078686542885,
           0.9487036960415987,
           1.3590954533500221,
           0.5818528853509565,
           1.0677682662970636,
           -1.2026818293227883,
           0.45022329208773687,
           0.24434890109432922,
           0.4326902776103393,
           -2.0426024086945587,
           "Cluster 0"
          ],
          [
           -0.16752440081500458,
           -1.0836550599948225,
           0.0269722738311727,
           -0.22133191997924515,
           -0.17404995918783842,
           -0.49548586922123394,
           0.5437450207387912,
           -0.4662020789269461,
           0.9859438037480353,
           0.9887562534360852,
           0.2294600172349518,
           0.19585514387600372,
           -0.5709390542756722,
           "Cluster 0"
          ],
          [
           -0.40698487711032855,
           0.29342091297362854,
           -0.3914162822333389,
           1.0682504897665084,
           -0.6691518903515871,
           1.684178454319364,
           1.0497967453360546,
           0.5190334482054677,
           1.0356493886856049,
           1.1586369072565115,
           1.2550603294502751,
           0.4941599363489253,
           -3.0116350486771086,
           "Cluster 0"
          ],
          [
           -1.4845647678833551,
           0.0011434472687537449,
           0.19103422448388288,
           -0.256663571000766,
           0.3445853797132912,
           0.5577202624384956,
           -0.4703679108336029,
           0.3172931354153087,
           -0.9879805932924728,
           0.5340205976399025,
           -0.27294574522855486,
           0.9701256103238722,
           -0.7046100216433492,
           "Cluster 0"
          ],
          [
           -1.963825691183579,
           0.5627209312985482,
           -0.7637278207903729,
           -0.16841379583312296,
           1.9298375826292122,
           -0.6436678395988649,
           -0.08484318082777693,
           1.8312416762259838,
           1.4429598411696432,
           0.2835244057321411,
           0.7222915588697129,
           -0.8365127156336714,
           -1.144864276916321,
           "Cluster 0"
          ],
          [
           -1.9272950294252,
           0.11358082180527121,
           -0.10736926199276015,
           -0.9051284168414866,
           0.44150945568891464,
           0.5505973430012447,
           0.35831744584364894,
           0.20071974427674974,
           -0.7619759446887242,
           0.18087406954648494,
           0.6616788557787947,
           -1.2652084736544527,
           -0.046290366395170014,
           "Cluster 0"
          ],
          [
           -1.334972416269784,
           -0.4760015020884407,
           -0.43490907023112724,
           0.6243248456188615,
           -0.7606436389491275,
           -0.08224841580246615,
           -1.3151367878154718,
           0.3118655205409113,
           -0.0083036464450798,
           1.542489762630491,
           -0.5398137753457946,
           0.6054882182660457,
           -0.13749215946165105,
           "Cluster 0"
          ],
          [
           -0.6138832490257837,
           0.256819308879649,
           -0.6557196436377402,
           0.2532593981005158,
           -0.283292032377404,
           -1.721954039788995,
           -0.0326441452697852,
           -0.18460149067381781,
           -0.537986760454506,
           0.5854097410276422,
           0.19233763051840527,
           0.016407430363779202,
           -0.982992281391211,
           "Cluster 0"
          ],
          [
           -0.43336076658212824,
           0.30293713388520616,
           -0.022372639689523383,
           0.08978951363446207,
           -0.577377573939236,
           -1.6972804516461686,
           -0.6905272624759831,
           -0.8339077774258629,
           -0.5169597959879414,
           1.1760768191874469,
           -0.4360402611928231,
           -0.11078855137735652,
           -1.2104394934436191,
           "Cluster 0"
          ],
          [
           0.46309979686785563,
           0.05407521084108072,
           0.08288701065328206,
           0.5623457605078318,
           -1.194081190778103,
           -0.5144715871262066,
           -0.3666104087777001,
           0.48942293830569605,
           -0.5013338909415985,
           0.0945953305057361,
           0.9155846621749332,
           -0.8524525508469031,
           -0.12462603203434701,
           "Cluster 0"
          ],
          [
           0.6943366827221684,
           -0.466192413888379,
           1.387062659567955,
           1.0544207629662876,
           -0.8408775256156842,
           0.9692150626991602,
           -0.0784216694183022,
           -0.362306268045942,
           1.1989992394922206,
           0.3905617320164274,
           -0.4900456738572759,
           0.040951891009808755,
           -1.920433870673714,
           "Cluster 0"
          ],
          [
           -1.1766548863536543,
           0.03765891796576567,
           0.9890263602988474,
           -0.03912799425750614,
           0.917373796838132,
           0.02859351811337034,
           0.5385143687488808,
           0.2987137992498979,
           -0.2953028381254468,
           0.8270889434201637,
           0.1323435930378353,
           -1.2571035952201535,
           -0.22963735937038737,
           "Cluster 0"
          ],
          [
           -0.6706338665850256,
           -0.6164699926942607,
           -0.07218716780586626,
           0.5789756489872797,
           0.1314454703697118,
           -0.5541880676540712,
           -0.4083940405265622,
           -0.1302050790216815,
           0.3410944757044316,
           -0.585187674284954,
           0.2126428865160689,
           -0.5493961830483923,
           -0.8007239883578114,
           "Cluster 0"
          ],
          [
           -0.07854399841505319,
           -1.1143772089487578,
           -0.04200421677652987,
           -0.06950531872595458,
           -0.6677733440897335,
           0.19226439928168682,
           1.1065834198629845,
           1.6401781150399222,
           2.0757425001562906,
           0.5450629501695974,
           0.353336388381459,
           1.4969003110961028,
           -0.7352138484657492,
           "Cluster 0"
          ],
          [
           -0.2636983371688864,
           0.5968817558088516,
           -1.2575041910666278,
           0.92501868657689,
           -0.7487167004364651,
           -0.5040166155865179,
           -0.7680277178807247,
           -1.1853460969052623,
           -0.6091696705722129,
           0.33316591401716616,
           0.25421366363283876,
           -0.6687547795869329,
           -0.5262186673627752,
           "Cluster 0"
          ],
          [
           -1.6279693351287312,
           2.1566573730852423,
           -1.6231009051200254,
           -0.7178521729465108,
           0.17068582870988416,
           -0.49491211076733493,
           1.2674267682540663,
           1.3028871979607344,
           0.6947020563178741,
           0.24632798940375228,
           -0.23500693968067154,
           -2.7067995776902536,
           -0.7138223779233476,
           "Cluster 0"
          ],
          [
           -0.5636398752667817,
           0.3257182722975845,
           -0.19942747391912571,
           0.7756938540484639,
           0.3429488221051138,
           1.1776210828304923,
           0.062035129797157015,
           0.2464606397318416,
           -0.10880358836981398,
           1.5649772356939415,
           0.43147692665384696,
           0.7314069317110652,
           -2.025868926486384,
           "Cluster 0"
          ],
          [
           -2.674948610830452,
           -2.043780290081104,
           -1.5373850298521792,
           0.8334889673670821,
           0.7684846655718055,
           0.9425689352140874,
           1.3496691327296904,
           1.7464181277475832,
           -0.9601057120271399,
           -1.7089482377702585,
           2.052020132762007,
           1.0707383585389263,
           -1.9836787745286795,
           "Cluster 0"
          ],
          [
           0.5182203534234814,
           -1.2977878026230822,
           1.2278640254878417,
           -0.5761011201419595,
           -1.4877246156447494,
           0.2894591984142494,
           0.1735571396455365,
           0.18979799476303705,
           -1.916523943617943,
           1.4674913605247413,
           1.7015145146209867,
           -1.247727284670987,
           0.450181235215379,
           "Cluster 0"
          ],
          [
           0.3084147768813575,
           0.26420485297615226,
           1.288767883949596,
           -0.5453823809311455,
           0.6222190404562793,
           0.8586826562412172,
           -0.07121559708354608,
           0.024011216467162932,
           2.2091340327428846,
           0.8429400914447543,
           -0.0832135297450083,
           -0.8278941436033513,
           -0.09185694057668335,
           "Cluster 0"
          ],
          [
           -0.6283927624093816,
           -0.6852141883657437,
           1.1350098899062326,
           1.4059599385810244,
           0.44737189568637975,
           -0.163408172795299,
           -0.2382329626113719,
           0.37894274279831647,
           0.6985199631930528,
           0.7275469912503099,
           1.2858462679761553,
           0.07339484308488552,
           0.25788448643848993,
           "Cluster 0"
          ],
          [
           -0.6725768689662224,
           -0.5161964158531875,
           -0.6504968526134292,
           0.48295836313880275,
           -0.8692536927098641,
           -0.866869255765883,
           -1.513881206066461,
           -0.033633912808875344,
           -0.686228005379232,
           0.2545167590224854,
           -0.9591468974044021,
           -0.3029282940710338,
           -0.781962276071873,
           "Cluster 0"
          ],
          [
           -0.2810317368375153,
           -0.21466273490905374,
           0.0992004837136183,
           0.815748358309767,
           -0.47324491838337046,
           0.18815343557386494,
           -0.007894347712029504,
           0.6981863376648495,
           -1.5700959221221022,
           0.21122386497738505,
           -0.007493433090864097,
           1.1426557079748854,
           -1.8212527093087527,
           "Cluster 0"
          ],
          [
           -0.42421472123254905,
           1.7737791061946493,
           0.3087028133353963,
           -0.574962091935612,
           0.2459356155486385,
           -0.9288676221532715,
           2.0522096782209513,
           -0.35503191414073637,
           -0.32726150451279773,
           0.7965088599109186,
           1.4478415126935127,
           -0.13790392150895056,
           -1.453924058531394,
           "Cluster 0"
          ],
          [
           -0.787268267344896,
           -0.6742740377956563,
           -0.4848341941107611,
           0.4698032940887368,
           -1.0524823762697435,
           -1.7593215731716105,
           -1.3383727843798903,
           -0.3053580485587727,
           -1.0725109963008967,
           0.4540653837848444,
           0.6404448353924125,
           -0.9231768286569171,
           -1.2993874411029736,
           "Cluster 0"
          ],
          [
           -0.5277765940078609,
           -0.8013308268423716,
           0.8395210159682055,
           0.6161379861946001,
           -0.1403629086817364,
           0.5118969182535582,
           -1.154906637156059,
           -1.7666081159250755,
           0.35549519486961606,
           1.5657222503631245,
           0.750932227735498,
           -0.3277040446868086,
           -0.4657002670658109,
           "Cluster 0"
          ],
          [
           -0.32298021768695345,
           0.9961352618227053,
           0.06499968489215689,
           1.3833089012121367,
           0.10339511296673179,
           -0.7379214052460099,
           0.05711498547647039,
           0.4917340574217011,
           0.5238903972280897,
           0.15287021475784748,
           1.0777318471034798,
           -1.1380888920299927,
           -1.613522703750981,
           "Cluster 0"
          ],
          [
           0.5737744993950356,
           0.2773596744307337,
           -0.25293947653609533,
           0.1833924240228129,
           1.2053000995640293,
           -1.1841633914208483,
           1.2091370410080595,
           1.960711861932505,
           -1.2215728019745486,
           -0.4969007121716341,
           -0.019961330042537643,
           0.04631780450394116,
           -2.303806309869583,
           "Cluster 0"
          ],
          [
           -0.03781833808561641,
           0.24121094526385933,
           -0.7211933092731819,
           0.7469479065035267,
           -0.37987105509841895,
           -0.3645672695392608,
           -0.6480295774230174,
           -0.6904501529152587,
           1.2115925683533142,
           0.8283752904339011,
           -0.26028568504886357,
           0.043300459095811816,
           -0.7544289739769572,
           "Cluster 0"
          ],
          [
           -0.042278688408772615,
           0.3069980726900095,
           -0.29952524672078934,
           -0.5039413060926101,
           1.2982858533289428,
           1.186852647073051,
           -0.2066665799870719,
           -0.04888869194979608,
           -0.2503662874542967,
           0.4221636355415079,
           1.2731906100761556,
           -0.23222266202334685,
           -1.6110237753693004,
           "Cluster 0"
          ],
          [
           0.3145502519911013,
           -0.8631014814254351,
           -0.3561586519317951,
           0.1096219782080663,
           -0.5141840607944048,
           -0.10138991180372753,
           0.106547970809032,
           -0.1273848950431043,
           -0.006686085483609405,
           1.460023858560807,
           0.09942478185988891,
           -1.0808691681266105,
           -0.7668521497631821,
           "Cluster 0"
          ],
          [
           -0.16970360153816752,
           -1.0293882341093508,
           -0.8613417348138027,
           0.16420339961226532,
           0.2933820806206719,
           1.9914000992752832,
           -1.7852313424389823,
           -0.07379790032525188,
           0.5085482088350427,
           2.014546218692407,
           0.9700418049343829,
           -2.015753019594978,
           -0.9299548253667416,
           "Cluster 0"
          ],
          [
           0.7869298441146823,
           0.11705758469812229,
           0.20078860093775155,
           -0.7070756042783246,
           0.15259016573426898,
           -0.12159386026681718,
           0.6620150808845071,
           -0.6051280101120945,
           -0.13669200877627938,
           1.239197093100985,
           -0.3741339683538552,
           -0.3673549728256139,
           -0.674447628563422,
           "Cluster 0"
          ],
          [
           0.17736513823993066,
           -0.683507127167322,
           -0.2576457717389023,
           0.0204158464210702,
           -0.5052503005558887,
           0.24807446099427763,
           0.17649353652400349,
           0.034556863935523804,
           -0.3792824498319994,
           0.04389438828708772,
           -0.6051707172701879,
           0.3005060147064696,
           -1.163477972901329,
           "Cluster 0"
          ],
          [
           -1.2250741838275714,
           -1.723843787128807,
           -0.037617388343363964,
           -0.22577887237631558,
           -1.2631602794710437,
           0.014097618072335406,
           -0.20584979637210407,
           -0.1850634927088724,
           0.36470037851324855,
           0.3864353799155401,
           -0.1429498660021143,
           -0.5390258360220738,
           -0.4958343532319126,
           "Cluster 0"
          ],
          [
           -0.3007511069573523,
           -0.3892545931170501,
           -0.9202905384243749,
           -0.3936854996778737,
           -0.6998044142074343,
           -1.1540483255546614,
           -1.0880576026909217,
           0.07862274027637334,
           0.31193085198493803,
           1.099641738699393,
           -0.5492669283508796,
           -0.8977371301751549,
           -1.4410680164352512,
           "Cluster 0"
          ],
          [
           -1.007780917763298,
           1.7527968359838284,
           -1.3630390962264416,
           -0.11091601221058874,
           0.5022723071132585,
           2.183173363388634,
           0.46128240032807144,
           -0.039435754568719776,
           -0.048869939085554356,
           -0.11991965613808309,
           0.14678445486652844,
           -0.42320600836158245,
           -1.1341461410398517,
           "Cluster 0"
          ],
          [
           -0.40101191454074125,
           -1.6721421184273169,
           0.7302645110461019,
           -0.27830081655161387,
           0.06377762923450853,
           0.5032831284908776,
           1.083656436581552,
           0.9327708799420606,
           -0.241193808448245,
           0.5764850145977066,
           0.47343070837028833,
           -1.2725343243886675,
           0.38059917702856794,
           "Cluster 0"
          ],
          [
           2.3536329102087032,
           -1.1272884985229235,
           -0.10650891768400414,
           0.7356576312961778,
           -0.9193611459423631,
           0.514801267286743,
           0.8595812219651904,
           -0.16362358554141238,
           -0.10858351098210493,
           -0.04416649793884201,
           -0.3676679730896583,
           -1.3428910757600991,
           -1.3140723040162738,
           "Cluster 0"
          ],
          [
           -1.1548255771439946,
           0.7546720050632175,
           -0.030206589730872813,
           0.903164731784529,
           0.5766035235945456,
           1.208599276507645,
           -0.15332077571738406,
           1.3375469247725325,
           -1.1504914434524691,
           0.48373511670650493,
           -0.4258750510290844,
           -0.2997121070106493,
           -0.296653415188111,
           "Cluster 0"
          ],
          [
           -0.4683179965713819,
           -0.5590695312212967,
           -0.10836954619028771,
           0.1731444982368739,
           -1.4549508133345943,
           -0.7742937987613316,
           0.2397012704631374,
           -0.6550527026805744,
           -0.6018014965273567,
           0.10122282704980387,
           0.6087293324006238,
           0.4847463317353092,
           -0.6656073803634647,
           "Cluster 0"
          ],
          [
           0.19277785205233786,
           -1.726622898736047,
           0.1592276211514877,
           0.24732093341114159,
           1.4149326279614858,
           -0.9247106976619304,
           1.4259300772089083,
           0.6139442590026272,
           -0.06547230695905878,
           0.5929140760562025,
           -0.13744186523066956,
           0.6942032804244566,
           -1.6333850152847382,
           "Cluster 0"
          ],
          [
           0.06137817171823405,
           0.11852349531585996,
           -1.5495326393215878,
           -1.7728492707740837,
           -2.0507386003877044,
           0.03203791707967337,
           1.044018422278249,
           0.5865397104112307,
           -0.31045697876983824,
           0.5142744184252028,
           0.5935389051529432,
           -1.0496920162300485,
           -2.6219781517474368,
           "Cluster 0"
          ],
          [
           0.7240588926308258,
           0.269374026691906,
           -0.8117063302954924,
           -1.0694117094005178,
           -0.449917307809505,
           -0.6419260748448025,
           -0.1982759469252598,
           1.2317295092979637,
           0.04391672802653582,
           0.1300201689585854,
           0.2726269927579724,
           -0.44975677207945614,
           -0.3864403578113072,
           "Cluster 0"
          ],
          [
           -1.5609661151252097,
           -0.018084297415040442,
           -0.4156680574359025,
           -0.20267096735868234,
           0.29464708489650926,
           1.5055502834439618,
           0.5287964782133996,
           -0.28167943762945236,
           0.6053922925922273,
           1.8231975105020521,
           0.008512793545575478,
           -0.08770564223845062,
           -1.1389092474460107,
           "Cluster 0"
          ],
          [
           -1.904341067955119,
           -1.7256797398769235,
           -0.4025869126333716,
           -1.5308109229295768,
           0.6132797184502681,
           1.4913635994228054,
           -0.11675924384738322,
           0.45530221204281784,
           -1.6753781542545285,
           1.6527135305817304,
           -0.30256487934081505,
           0.3139971601395918,
           0.25796389491691607,
           "Cluster 0"
          ],
          [
           -0.08789371894920797,
           0.32771552939514353,
           -0.48975910977102266,
           0.9815861767912981,
           -0.21252862154452845,
           -0.5298414371424881,
           -1.0736814190890733,
           -1.0881697414314677,
           0.40679237102476523,
           0.42974171811038053,
           -0.11692558365942975,
           -0.2858630736416935,
           -1.3256350661434986,
           "Cluster 0"
          ],
          [
           -0.019400575977385873,
           -1.626570962506749,
           1.1904486495072113,
           0.2447462995559535,
           0.7588267081513973,
           -0.5516784843679583,
           -1.9184751554644726,
           1.9713945237504187,
           0.9296054636228173,
           0.3204307084163643,
           -0.9744179321893083,
           -0.8664125367047352,
           -0.8450700062080979,
           "Cluster 0"
          ],
          [
           -1.4554339087196575,
           -0.7260235432202158,
           -0.9240257891726895,
           -2.9595207223046747,
           1.4852454366727228,
           0.8568966482034548,
           0.0094297385485899,
           0.27339974339355205,
           -0.5433061287535441,
           -0.2989529444005536,
           1.664771712731095,
           2.305450091397724,
           -2.505708604688683,
           "Cluster 0"
          ],
          [
           1.201840326745573,
           -0.5809597314105084,
           -0.9069259474981511,
           -1.1817490472771404,
           -1.4260332186508329,
           1.6693190484018408,
           -0.25474231875629433,
           0.5047337300608415,
           0.13325408052943527,
           -0.5502780198820237,
           0.9249753821660072,
           -0.862930067751531,
           -1.8120073000491967,
           "Cluster 0"
          ],
          [
           -0.598544356771403,
           -0.004725633951070842,
           0.43756711641731333,
           1.3538283602057763,
           -0.35086956139053604,
           0.8926605832209845,
           -1.0119791744684916,
           -0.5653434924565348,
           1.130777054227202,
           3.4346875390775606,
           1.6451571092139314,
           0.03767550558760481,
           -0.6964870595551613,
           "Cluster 0"
          ],
          [
           0.38893866625833196,
           -2.6953776749880127,
           0.6739713208610354,
           -0.7911170631844099,
           -0.8849649045510016,
           0.6171242655027255,
           0.9908974298980411,
           1.375617494537389,
           1.69918882451524,
           -1.415561606490964,
           1.004010979997202,
           0.7112132585565313,
           -2.4799549069515283,
           "Cluster 0"
          ],
          [
           -0.37318725824800847,
           -0.2212150781453222,
           -1.0242883095052917,
           0.18744182378511054,
           -0.4425745394634664,
           -0.5214437896560365,
           0.17054607968101837,
           0.03900940366653389,
           -1.6758879877435218,
           0.2413629733843204,
           -0.5687908653104693,
           -0.15250606433195574,
           -0.9732150660378059,
           "Cluster 0"
          ],
          [
           -0.2411314829462155,
           -0.10874493982891108,
           -0.26907038425496543,
           0.4884466220140455,
           -1.0617688684270647,
           0.1017156989618834,
           0.3869307196747905,
           -0.8801325667616884,
           0.5836769510631797,
           -0.11189986135871008,
           -0.048770312925112844,
           -0.4964066422299254,
           -1.069734667903583,
           "Cluster 0"
          ],
          [
           -0.27197806408066305,
           -0.10195468556133279,
           -0.6575491697060005,
           1.2852761154109873,
           -0.11478339084077534,
           0.6375869281557919,
           0.552563377480471,
           -0.14134963821358365,
           0.7066235358556561,
           0.7995282285985514,
           -0.06965925328568245,
           1.0364553431163073,
           -1.18329008173837,
           "Cluster 0"
          ],
          [
           1.6622955914928568,
           -0.3878481558908351,
           -0.8750083220843989,
           -0.18146836846521128,
           -0.39482083922464367,
           -0.8979213194346506,
           -0.06581307035272807,
           -0.04950409507036175,
           0.13177468415334104,
           0.14897146420593158,
           2.016055969450791,
           0.29598739872919977,
           -1.1668756196343737,
           "Cluster 0"
          ],
          [
           -0.9080885995241701,
           -0.9462867244297939,
           0.8870695700092174,
           0.13068978499424722,
           0.1265306266814343,
           1.6026664709187792,
           1.0630491321609807,
           -0.16987723380365974,
           0.5564246083605651,
           1.90799513792939,
           0.7997934950887884,
           -0.8552441547140168,
           0.32264007664075867,
           "Cluster 0"
          ],
          [
           0.3881643913390516,
           0.7462273045850322,
           0.7724184430746808,
           -0.6533198225335364,
           -0.37119647719716786,
           1.9358163979138785,
           1.2119758257184203,
           -0.6726934988859773,
           -1.1018040275082854,
           0.8639722971191705,
           0.6916958857739598,
           -0.09750984726562742,
           0.2016826028866458,
           "Cluster 0"
          ],
          [
           -0.8647446090593885,
           -1.767100510864764,
           -0.8995544475547789,
           -0.08435367730974909,
           -0.38226919578501645,
           -1.0139406922761411,
           0.9274743019703758,
           -0.4297617355038429,
           0.6981222481559137,
           0.8330264218781595,
           -0.4944072983403079,
           0.026869878304647345,
           -0.6677381251462372,
           "Cluster 0"
          ],
          [
           -0.7314556908269894,
           -0.0151189092420141,
           -0.8887026538429387,
           1.266324601325729,
           -0.33612171960896503,
           -0.1026360932710683,
           1.5288852757025821,
           0.9658690003066315,
           -0.9091491423596955,
           0.6475508760720238,
           1.880816442008083,
           -1.7539616352147225,
           -0.23297562892912474,
           "Cluster 0"
          ],
          [
           1.4688223207242939,
           -2.1171282068927937,
           0.3483544112782589,
           -1.1104326553819455,
           0.4263547713709026,
           0.5677469354622615,
           -1.002651368462614,
           1.7627236969479116,
           0.1812822322731416,
           1.3440239701438819,
           1.9714389637234098,
           -3.1903814722024237,
           -2.174268154502702,
           "Cluster 0"
          ],
          [
           -0.15654648616374012,
           0.2554728355454121,
           -0.319513464757026,
           0.17239633342608054,
           0.38546658312222815,
           -0.6397243081331613,
           -0.6448324350314266,
           0.7230898079102561,
           0.6492519550492184,
           1.815070438675864,
           0.12294975745649066,
           -0.5089350478927447,
           -0.06552767368282837,
           "Cluster 0"
          ],
          [
           0.14740668903948737,
           -2.1446363937828874,
           1.5073154935422974,
           -0.8472881242300102,
           0.06807271728286642,
           -2.378732494566744,
           0.9501837934230156,
           1.8947651115748876,
           1.0517092488521005,
           0.2989013556418393,
           -0.5505540326564535,
           -0.32485989747658545,
           -1.8360337498999781,
           "Cluster 0"
          ],
          [
           -2.2159881581339116,
           0.10524083576053246,
           0.7062389630588067,
           -1.4281757034985387,
           0.08101706272775983,
           -0.1317560581147809,
           0.9897439727548222,
           0.7644843997243054,
           1.3860988976794788,
           0.032794025292669796,
           0.8647137917074147,
           1.5549887630382837,
           -0.5178779672797958,
           "Cluster 0"
          ],
          [
           -1.7632169013922596,
           -1.0821423291062167,
           0.4018661568500964,
           0.009611883951345181,
           0.3472645509459163,
           -0.3395089965292328,
           -1.0218569289928425,
           0.1580358997995782,
           0.6774905153458544,
           0.7204552935451527,
           -0.6117929515124876,
           -0.29174186868388935,
           0.041072785079201334,
           "Cluster 0"
          ],
          [
           0.0929212791032259,
           0.014873180545309983,
           -0.7874756924671439,
           -0.2272502905532943,
           -0.7385583111610617,
           0.8929673474115667,
           2.4393121669966056,
           0.6161268127802738,
           -0.2234021848805965,
           0.5291136052904315,
           0.8541859915720315,
           -2.8146142841061312,
           -2.0200899912522225,
           "Cluster 0"
          ],
          [
           -0.006139295287077606,
           -1.5534349069930538,
           -0.5810287428138484,
           -0.0648518074275003,
           -1.4137539002368247,
           -1.1050485074307594,
           -0.32137007132724177,
           0.8203150099973274,
           -0.28854419981920776,
           0.46461886855359924,
           0.19681272297047775,
           -0.3702814962838828,
           -0.2264211827136008,
           "Cluster 0"
          ],
          [
           -0.29077873518208397,
           -1.1244019940245835,
           1.4640315416266054,
           0.8238054228012998,
           0.14021585338939874,
           0.9965467289273844,
           0.983024824610747,
           -0.5782934654925153,
           -1.119060316275918,
           0.830257253941097,
           0.47810195970028263,
           -1.4006794095527721,
           -0.2573277423367568,
           "Cluster 0"
          ],
          [
           0.40275086405971633,
           -0.5833744696157794,
           0.668002355122276,
           0.21068147758385,
           0.5747563870033505,
           -0.6818072058625889,
           0.621457785605429,
           1.430013838849357,
           0.25017671433190164,
           0.838894028630395,
           1.1861733778786943,
           -1.2093448472076056,
           -1.8025888450690861,
           "Cluster 0"
          ],
          [
           0.46686643888181745,
           0.52406865254357,
           0.7385838594993419,
           0.10113776100352266,
           -0.8315356005024338,
           0.3462053613636636,
           -0.5067421728134881,
           -0.46481598325826445,
           -0.7730088133933521,
           0.6315293522780715,
           -0.26163292955217204,
           -0.12410189459484194,
           -0.5631957202566601,
           "Cluster 0"
          ],
          [
           0.4239484314482108,
           0.6627752564664366,
           -0.03319286690184927,
           0.2342426622960445,
           0.8809778064153719,
           0.3923056307493291,
           0.27558707733297205,
           0.591627648828258,
           -1.5663373474561277,
           1.2049947769840588,
           -0.2707815530574231,
           0.44289970645388993,
           -1.0557091321233536,
           "Cluster 0"
          ],
          [
           0.8545933038413556,
           -0.08474889293384075,
           0.29749478987060124,
           0.1787161419704618,
           0.40084886737350073,
           0.23376341131480613,
           -0.2836532107330331,
           0.2562181098455831,
           -0.8998583733894607,
           0.6185014123842555,
           0.22008964516362745,
           -0.32570485167865826,
           -0.4287124211722958,
           "Cluster 0"
          ],
          [
           0.11518091265054212,
           1.115576031601577,
           0.0740059267140401,
           0.2670598410169037,
           -0.0462340272780169,
           -0.44339676829353586,
           -0.7190756027972961,
           0.059099303949422616,
           -0.07919929366107492,
           1.7926158659126878,
           0.3702166784955342,
           0.45972255942717827,
           -0.6403023194921993,
           "Cluster 0"
          ],
          [
           -0.2602601534015177,
           0.2587427910811933,
           1.797269898433779,
           0.43760962519011337,
           -0.49392479928374106,
           -1.5571105490968893,
           0.34805622258952296,
           -0.6260465621007486,
           0.3321495736742299,
           1.3982414472915463,
           1.0652506920913616,
           -0.8956312116082238,
           0.47512871994287553,
           "Cluster 0"
          ],
          [
           -0.17262661233587667,
           -1.2698799962194625,
           -0.1650098714395152,
           0.43392816609039914,
           0.14782334741632866,
           1.3178295645386098,
           -0.3385130838213188,
           0.38220111577510807,
           0.18348062930593514,
           -0.15752203645604632,
           0.1876586567952842,
           -0.9670253737631095,
           0.27280629384736216,
           "Cluster 0"
          ],
          [
           0.17063393893226703,
           -1.2724545372004759,
           0.965132848507078,
           -1.0691855682456373,
           0.4924381401768856,
           1.8416474668623957,
           -0.15565065542256284,
           -0.18978686519865196,
           -0.2695101674492552,
           0.0017818665788555813,
           0.3963093064858642,
           -0.19324237781738646,
           -1.3777982737887957,
           "Cluster 0"
          ],
          [
           1.1726767405065404,
           -2.1914624478560216,
           -1.7607043136599192,
           -0.17415034931257256,
           -0.08332149713957747,
           -0.41313411222589413,
           -0.8241215196720774,
           1.8374337825097233,
           0.20888613573244347,
           0.15903167936187598,
           -0.020088300880573787,
           -1.0453709398934254,
           -1.3170892095498823,
           "Cluster 0"
          ],
          [
           -1.4765029771812894,
           -0.36569607016683003,
           1.177226947184083,
           0.6673252843055963,
           -0.46287914963504656,
           -0.9219584310646787,
           -0.6318969642633541,
           -1.0214442185901103,
           0.666509827409887,
           0.2510241722998854,
           1.1999179388093015,
           0.5478820550735731,
           -0.11878978803197426,
           "Cluster 0"
          ],
          [
           0.40756961279624737,
           0.8964985160797592,
           0.8192454517007468,
           0.0526123481097564,
           1.7346895876143005,
           1.1526543849529383,
           -0.33225824640196383,
           -1.0491690151544815,
           1.2137406027243463,
           -0.12516256472935766,
           -0.07777909519067149,
           1.472663987264789,
           -2.6452804638973753,
           "Cluster 0"
          ]
         ],
         "hoverlabel": {
          "namelength": 0
         },
         "hovertemplate": "Cluster=%{customdata[13]}<br>FAC1=%{customdata[0]}<br>FAC2=%{customdata[1]}<br>FAC3=%{customdata[2]}<br>FAC4=%{customdata[3]}<br>FAC5=%{customdata[4]}<br>FAC6=%{customdata[5]}<br>FAC7=%{customdata[6]}<br>FAC8=%{customdata[7]}<br>FAC9=%{customdata[8]}<br>FAC10=%{customdata[9]}<br>FAC11=%{customdata[10]}<br>FAC12=%{customdata[11]}<br>FAC13=%{customdata[12]}",
         "legendgroup": "Cluster=Cluster 0",
         "marker": {
          "color": "#636efa"
         },
         "name": "Cluster=Cluster 0",
         "notched": true,
         "offsetgroup": "Cluster=Cluster 0",
         "showlegend": false,
         "type": "box",
         "x": [
          "Cluster 0",
          "Cluster 0",
          "Cluster 0",
          "Cluster 0",
          "Cluster 0",
          "Cluster 0",
          "Cluster 0",
          "Cluster 0",
          "Cluster 0",
          "Cluster 0",
          "Cluster 0",
          "Cluster 0",
          "Cluster 0",
          "Cluster 0",
          "Cluster 0",
          "Cluster 0",
          "Cluster 0",
          "Cluster 0",
          "Cluster 0",
          "Cluster 0",
          "Cluster 0",
          "Cluster 0",
          "Cluster 0",
          "Cluster 0",
          "Cluster 0",
          "Cluster 0",
          "Cluster 0",
          "Cluster 0",
          "Cluster 0",
          "Cluster 0",
          "Cluster 0",
          "Cluster 0",
          "Cluster 0",
          "Cluster 0",
          "Cluster 0",
          "Cluster 0",
          "Cluster 0",
          "Cluster 0",
          "Cluster 0",
          "Cluster 0",
          "Cluster 0",
          "Cluster 0",
          "Cluster 0",
          "Cluster 0",
          "Cluster 0",
          "Cluster 0",
          "Cluster 0",
          "Cluster 0",
          "Cluster 0",
          "Cluster 0",
          "Cluster 0",
          "Cluster 0",
          "Cluster 0",
          "Cluster 0",
          "Cluster 0",
          "Cluster 0",
          "Cluster 0",
          "Cluster 0",
          "Cluster 0",
          "Cluster 0",
          "Cluster 0",
          "Cluster 0",
          "Cluster 0",
          "Cluster 0",
          "Cluster 0",
          "Cluster 0",
          "Cluster 0",
          "Cluster 0",
          "Cluster 0",
          "Cluster 0",
          "Cluster 0",
          "Cluster 0",
          "Cluster 0",
          "Cluster 0",
          "Cluster 0",
          "Cluster 0",
          "Cluster 0",
          "Cluster 0",
          "Cluster 0",
          "Cluster 0",
          "Cluster 0",
          "Cluster 0",
          "Cluster 0",
          "Cluster 0",
          "Cluster 0",
          "Cluster 0",
          "Cluster 0",
          "Cluster 0",
          "Cluster 0",
          "Cluster 0",
          "Cluster 0",
          "Cluster 0",
          "Cluster 0",
          "Cluster 0",
          "Cluster 0",
          "Cluster 0"
         ],
         "xaxis": "x2",
         "yaxis": "y2"
        },
        {
         "alignmentgroup": "True",
         "bingroup": "x",
         "hoverlabel": {
          "namelength": 0
         },
         "hovertemplate": "Cluster=%{x}<br>count=%{y}",
         "legendgroup": "Cluster=Cluster 1",
         "marker": {
          "color": "#EF553B",
          "opacity": 0.7
         },
         "name": "Cluster=Cluster 1",
         "offsetgroup": "Cluster=Cluster 1",
         "orientation": "v",
         "showlegend": true,
         "type": "histogram",
         "x": [
          "Cluster 1",
          "Cluster 1",
          "Cluster 1",
          "Cluster 1",
          "Cluster 1",
          "Cluster 1",
          "Cluster 1",
          "Cluster 1",
          "Cluster 1",
          "Cluster 1",
          "Cluster 1",
          "Cluster 1",
          "Cluster 1",
          "Cluster 1",
          "Cluster 1",
          "Cluster 1",
          "Cluster 1",
          "Cluster 1",
          "Cluster 1",
          "Cluster 1",
          "Cluster 1",
          "Cluster 1",
          "Cluster 1",
          "Cluster 1",
          "Cluster 1",
          "Cluster 1",
          "Cluster 1",
          "Cluster 1",
          "Cluster 1",
          "Cluster 1",
          "Cluster 1",
          "Cluster 1",
          "Cluster 1",
          "Cluster 1",
          "Cluster 1",
          "Cluster 1",
          "Cluster 1",
          "Cluster 1",
          "Cluster 1",
          "Cluster 1",
          "Cluster 1",
          "Cluster 1",
          "Cluster 1",
          "Cluster 1",
          "Cluster 1",
          "Cluster 1",
          "Cluster 1",
          "Cluster 1",
          "Cluster 1",
          "Cluster 1",
          "Cluster 1",
          "Cluster 1",
          "Cluster 1",
          "Cluster 1",
          "Cluster 1",
          "Cluster 1",
          "Cluster 1",
          "Cluster 1",
          "Cluster 1",
          "Cluster 1",
          "Cluster 1",
          "Cluster 1",
          "Cluster 1",
          "Cluster 1",
          "Cluster 1",
          "Cluster 1",
          "Cluster 1",
          "Cluster 1",
          "Cluster 1",
          "Cluster 1",
          "Cluster 1",
          "Cluster 1",
          "Cluster 1",
          "Cluster 1",
          "Cluster 1",
          "Cluster 1",
          "Cluster 1",
          "Cluster 1",
          "Cluster 1",
          "Cluster 1",
          "Cluster 1",
          "Cluster 1",
          "Cluster 1",
          "Cluster 1",
          "Cluster 1",
          "Cluster 1",
          "Cluster 1",
          "Cluster 1",
          "Cluster 1",
          "Cluster 1",
          "Cluster 1",
          "Cluster 1",
          "Cluster 1",
          "Cluster 1",
          "Cluster 1",
          "Cluster 1",
          "Cluster 1",
          "Cluster 1",
          "Cluster 1",
          "Cluster 1"
         ],
         "xaxis": "x",
         "yaxis": "y"
        },
        {
         "alignmentgroup": "True",
         "customdata": [
          [
           0.7140172115400907,
           -0.35816477617332865,
           -0.0955647680583381,
           1.4467441591282288,
           -0.11425381313017287,
           0.3097740997281532,
           0.490320379557595,
           -0.8018229295971352,
           -0.5450596863961195,
           0.6766703553705516,
           0.6730088261340915,
           0.7502214091411131,
           0.132976714095145,
           "Cluster 1"
          ],
          [
           -0.3195067839056818,
           -0.8293612606426245,
           -1.5803290666572567,
           0.09009662322070126,
           1.9332306986905685,
           -0.7427598994244642,
           0.7502532686476421,
           -0.5666395826629153,
           -0.38003734400438927,
           -0.8792907635446171,
           -0.2519051456049518,
           0.3812267962672626,
           0.22437680809444943,
           "Cluster 1"
          ],
          [
           1.7075679346092356,
           0.5069580841503747,
           -1.6354044074321734,
           -0.3434568062665081,
           0.30876879621530795,
           0.3660200951779205,
           1.1818008710151127,
           0.8401650391248956,
           1.2494412190814703,
           -1.5106965969521566,
           -1.477228458977947,
           0.6946004398961644,
           -0.3808129104977779,
           "Cluster 1"
          ],
          [
           0.2393649479682817,
           -1.3434290438671155,
           -2.0550738622067932,
           0.3325410859036868,
           0.33493989364057614,
           0.39164736674601197,
           -1.9440881348154757,
           1.3576142717471587,
           1.6639368307691762,
           -0.4871399575427141,
           -0.8847625363226564,
           0.6317529785429308,
           1.7466212519957252,
           "Cluster 1"
          ],
          [
           0.31170260897040936,
           -1.755726266088951,
           0.415952742353385,
           0.18855338415679299,
           0.2562242814952205,
           0.7664532422734391,
           -0.5147710832107425,
           0.3482773973131898,
           0.05145914276348612,
           1.0828330401645447,
           -0.3215897575208402,
           0.8398585062597764,
           0.5266235523503814,
           "Cluster 1"
          ],
          [
           -0.7000646278087902,
           -0.20508484804878271,
           -0.5975303879992182,
           0.7930607170576763,
           -0.46080739309055735,
           -0.0473139894724305,
           -0.5911419505290486,
           -0.5087494313830487,
           -1.2659135243019262,
           0.47226942723797444,
           0.2239451049648539,
           0.5464886925258124,
           0.45839432648621536,
           "Cluster 1"
          ],
          [
           0.37367118049966896,
           -0.9488569619102863,
           0.5814867357781884,
           0.9017367086918969,
           -0.3732993435504914,
           -1.734902371273872,
           0.6327892593878321,
           -1.5057314888639122,
           -0.4892887468734986,
           2.8053550276292327,
           1.30568249376804,
           1.284541992217549,
           0.6057102527880096,
           "Cluster 1"
          ],
          [
           0.3942392046060162,
           -0.4651792595683203,
           -0.6019555391842271,
           0.7728054842856595,
           1.6656365355658183,
           -0.7026826056195778,
           0.19875571156254854,
           1.5212669571562782,
           0.4464163556493675,
           -1.1902341154851623,
           1.117925074492597,
           0.40907282046721205,
           0.5105093877332689,
           "Cluster 1"
          ],
          [
           1.8570922392031628,
           -0.4558109432082334,
           -1.0813743672619045,
           1.1209780867555463,
           -0.9936234544345892,
           1.5255610319004211,
           0.06498058896617395,
           -0.21999844833393892,
           0.522129795356635,
           -0.5104500821490904,
           2.0956729696115604,
           -1.947799020578852,
           1.6651704077202887,
           "Cluster 1"
          ],
          [
           -1.3867184279963425,
           0.8184811690959879,
           -1.3278452792788529,
           1.6012662885897435,
           -0.5296659934120659,
           0.25392855306863577,
           0.9062024490283513,
           -0.6387772949401155,
           1.485533832746212,
           -0.33375273568701125,
           -0.9979597588590849,
           -0.8748533922789309,
           -0.5649935161939768,
           "Cluster 1"
          ],
          [
           1.4247167508481298,
           0.8968758389612539,
           0.7821039367641162,
           1.1753651318292957,
           0.2248324345288728,
           -0.26208973325364465,
           1.216265881469343,
           1.0990370743851645,
           0.06276434359855741,
           -1.6261427470598773,
           1.3755825839955906,
           -1.101123381050801,
           -0.5325825793000898,
           "Cluster 1"
          ],
          [
           0.7977876847003516,
           -0.27758646179836877,
           -1.2044742208360424,
           0.23307027751866272,
           -1.2019042233422959,
           0.6637493822769744,
           -0.26214457020637405,
           -0.20076276756862813,
           -0.34155172569630976,
           -0.2299235761089652,
           0.8490783398298364,
           -0.7460405878269923,
           0.6747345980070931,
           "Cluster 1"
          ],
          [
           -0.622092837998272,
           0.7361501112053408,
           -0.38391643183418894,
           1.4086047469445109,
           1.533080204844466,
           0.9205813912277993,
           0.981260467132751,
           1.224994811984589,
           -0.6885990269966542,
           0.3874498819392025,
           -1.5877932807500714,
           1.1843449274929283,
           -0.1934650091782202,
           "Cluster 1"
          ],
          [
           0.33457700377103244,
           0.2191893907479349,
           -0.9746150278323653,
           -0.3082857445262461,
           1.5317854242463682,
           0.5189477870387129,
           0.4731533518553437,
           -0.4455948309263992,
           -0.06977072753263523,
           1.2620934695150852,
           -0.6090158286329679,
           1.4887831398045352,
           0.8251105556191894,
           "Cluster 1"
          ],
          [
           0.6412381036688372,
           -0.13805733668889203,
           -1.2783950124330137,
           0.18383427817011352,
           -0.5431444541922534,
           -0.984016473481322,
           1.0693220849270966,
           -1.7185437138761575,
           -0.6841725687628967,
           -1.555965279886256,
           1.716313469936106,
           -1.724877282397694,
           3.3713831324107675,
           "Cluster 1"
          ],
          [
           -1.498654768888127,
           -0.26730331515131345,
           -1.197341267972358,
           0.8108815744588026,
           1.5277780322736079,
           -1.345082957948489,
           0.8126844055701238,
           1.5316972552953285,
           -0.7711676537372153,
           0.14952776732785986,
           0.6380344717403442,
           0.36486260158451755,
           -0.020337755334549106,
           "Cluster 1"
          ],
          [
           0.2932366753774251,
           0.7065839015575396,
           0.2845490945820897,
           0.5570140283328863,
           0.3797181571019091,
           0.612965377228398,
           0.9617031512251965,
           0.08205779656646274,
           1.1164985212160807,
           0.8758925494968948,
           -0.08692320222866312,
           0.27696958938556976,
           0.8724678391124608,
           "Cluster 1"
          ],
          [
           1.8188309527999473,
           0.7334190266306173,
           -0.9583911057756416,
           0.9494053677042215,
           1.525110162530023,
           -2.556005426714764,
           0.1231147637172121,
           -0.19691935542329836,
           -0.6893964121268694,
           0.012669545972344109,
           -0.021033470843746203,
           -1.4767231365866138,
           1.6116802119480553,
           "Cluster 1"
          ],
          [
           1.3605283622148143,
           -0.19279455168233206,
           -0.6720893670555899,
           1.1450774784400428,
           -0.9348479074187208,
           0.7227220671770106,
           -0.45780958128875404,
           0.33983168594715346,
           1.261421426987352,
           -0.3842983604986899,
           0.36131235459728306,
           0.19341951363252063,
           1.1719529126201884,
           "Cluster 1"
          ],
          [
           0.6638480293509069,
           1.2835867601955653,
           1.3260435904975776,
           1.8301930243637707,
           1.2566309872966437,
           -1.2728629022549087,
           1.185453143205547,
           0.7458801865223551,
           1.4992220990578984,
           1.3670346179512722,
           0.5435372493387279,
           1.3093558600631308,
           -0.01006008544043436,
           "Cluster 1"
          ],
          [
           0.29425748526835527,
           0.8909814081474291,
           1.5376868898646454,
           0.8770125072461863,
           0.8580044938395988,
           0.39326121132351793,
           1.01756581763233,
           -0.5154499942045867,
           -0.002209270648493934,
           -0.15674256410974788,
           0.6861797849868702,
           -0.3721860728999096,
           0.29918216341965875,
           "Cluster 1"
          ],
          [
           0.8200539188128965,
           -0.3682133305929336,
           -1.4360505954177851,
           0.24352319004477285,
           1.0477854853954103,
           0.3153333612961996,
           -0.6224853397215843,
           -0.2815476038611373,
           -0.3639188549285494,
           -0.5574222854241391,
           -0.9633993717983272,
           -0.22521299245222037,
           -0.17918659707024887,
           "Cluster 1"
          ],
          [
           0.4390652085043079,
           0.41390781719396447,
           -1.0175586503166247,
           1.1301156465357638,
           0.8999897607892755,
           0.36632215397009943,
           0.9879526269623261,
           -0.12689632464681555,
           -1.962251857264852,
           0.6587905387720683,
           -0.38911747313844675,
           0.6213944611474014,
           -1.0977423537890054,
           "Cluster 1"
          ],
          [
           0.8385924710611696,
           -1.223458050827384,
           0.864301214524346,
           2.938202297375431,
           1.4867323284147704,
           0.11823008314218739,
           -1.2441871445672366,
           1.4751202873021823,
           0.3876142220047722,
           0.003177584052728773,
           -0.5139230738591635,
           -2.142161694991309,
           1.1873959102598486,
           "Cluster 1"
          ],
          [
           1.3309721677564552,
           1.8650847582892467,
           -0.9063798918157776,
           0.6147993489623144,
           0.2539603828368706,
           0.8008537541620615,
           1.2462762769705482,
           -0.624634148161074,
           0.9481525395831537,
           -0.6956915345185626,
           -0.11952036261288713,
           -0.25501972923226923,
           -0.3822335191396162,
           "Cluster 1"
          ],
          [
           0.22050045269398286,
           0.5075446313118102,
           -2.1641532968724984,
           2.193753733333956,
           1.384581700959521,
           0.09027071242750186,
           -0.11038110007124553,
           -0.49667301169831196,
           -1.2457927719540176,
           -0.586828367589569,
           -2.689195898875239,
           -1.350902083632919,
           -0.4036933111886142,
           "Cluster 1"
          ],
          [
           0.6642775470817232,
           -0.7669558006415543,
           1.3573955949306664,
           2.1631457696016216,
           1.1552940067645645,
           2.16681897968933,
           1.0004102093116427,
           1.6624610770751673,
           -1.5935803845939414,
           -2.529100770938272,
           -0.08770956370977089,
           0.8442948243963126,
           1.9100095765600758,
           "Cluster 1"
          ],
          [
           -1.4123324553836345,
           0.4232508099852285,
           0.3369244360813737,
           1.1774393740048001,
           0.8415211210069882,
           -0.06299188239222843,
           1.4057342220349267,
           0.7711157241506351,
           0.48034367101781605,
           0.8356929869388386,
           1.206235339267088,
           -0.4391900183634508,
           1.484656786305315,
           "Cluster 1"
          ],
          [
           0.8488562248647475,
           0.3878538181368507,
           -0.6678563458016537,
           0.9205502580459076,
           -0.6861489159943192,
           0.4953476494129812,
           -0.8267168420663321,
           -0.17264302039134832,
           -0.030326125931336927,
           0.9502985544632605,
           -0.10034526129227021,
           1.110591356899895,
           0.16986835369658446,
           "Cluster 1"
          ],
          [
           1.477222792145142,
           -2.597907422904731,
           0.09430735549966718,
           0.09713401400696657,
           1.3036168669510022,
           -0.09931740106641528,
           0.9435480482066837,
           0.3985193921458381,
           1.4002603962672548,
           1.2176827044130027,
           -1.5104032689942222,
           0.0809620432048068,
           1.0281441236103406,
           "Cluster 1"
          ],
          [
           0.49684496093779346,
           -1.252998408072228,
           -1.5074040733061018,
           1.3784959690210188,
           -0.11011444997699067,
           -0.10129335540276872,
           0.7530159142584729,
           -0.017201100190615146,
           0.3218230529769752,
           -0.8210233300181643,
           -0.33434645100962807,
           1.6205475666736497,
           -0.8207315314686806,
           "Cluster 1"
          ],
          [
           -0.8368465945939817,
           -1.3005704697675697,
           -0.7529133393935701,
           1.7844592713988432,
           1.1810639592444505,
           -1.2003546569873127,
           0.7372749778915048,
           -1.622361761904695,
           1.090233821976745,
           0.19342158879061477,
           -0.35937906194075747,
           -0.1891056078667153,
           1.69652952657926,
           "Cluster 1"
          ],
          [
           -1.1334660501744978,
           0.06106369217401411,
           -1.2013123711888152,
           2.1130967616520553,
           0.36775828558835627,
           0.7328422875189964,
           2.0689512977053877,
           0.5552684157359453,
           -0.6777190610920725,
           -2.311628790070984,
           -0.09436666098822255,
           -2.385598881421424,
           0.5304264645900435,
           "Cluster 1"
          ],
          [
           -0.2693510473615264,
           0.2905344762700979,
           0.3666274110709746,
           0.9868668073627909,
           0.1545264493326174,
           -1.0947260036503763,
           -0.18691049923381847,
           -0.5005618246111239,
           -0.026530788210865148,
           0.1429866834754443,
           0.849219618718845,
           1.0842100638227676,
           0.8485157931463934,
           "Cluster 1"
          ],
          [
           0.09840375637007907,
           -0.7462951474061671,
           -0.5656315300575112,
           1.0713321529830422,
           -0.751485409950845,
           0.3408196504464329,
           -0.4717152359733414,
           0.8749642649531042,
           -0.5090970951080143,
           -0.8992130243946618,
           0.8395134628207629,
           1.4773474405588098,
           0.30290547772105836,
           "Cluster 1"
          ],
          [
           0.9158302465209844,
           1.415407349758907,
           -0.7296144087508287,
           1.8990683259621433,
           -0.2684509605187566,
           0.6988080321207969,
           0.3666734085168358,
           0.8151838737115101,
           -0.8037412627876772,
           -1.196371106853866,
           -0.056971601193530626,
           0.8693435345354801,
           0.41205485011921145,
           "Cluster 1"
          ],
          [
           0.9245462063053427,
           -0.7006683121894828,
           -1.379168053657783,
           -0.5320269286850512,
           0.07435683928081979,
           0.5912096718079778,
           -0.3860819378009186,
           0.8000399530453303,
           1.0978088702810158,
           1.251920292879221,
           0.30381363380767035,
           -0.5321010421167053,
           0.529223711722731,
           "Cluster 1"
          ],
          [
           0.8994386252581879,
           0.1466688204983296,
           0.31499849892749276,
           1.1883989508338162,
           0.6829345740449457,
           0.9499169074475995,
           -0.8749530461099012,
           -0.5893333665229022,
           0.8798138216068146,
           -0.49155740729662856,
           -0.12717328298641067,
           -0.42870293919151625,
           -0.033604261958832406,
           "Cluster 1"
          ],
          [
           1.8055736908620008,
           1.0580252741648164,
           -0.8992513057101695,
           0.8566734043680356,
           1.87990785860954,
           0.17699498411660494,
           2.116261680034795,
           0.46046315472827637,
           0.23509649022581172,
           1.0581455476215826,
           1.743650352389755,
           1.471773103021439,
           -0.07663871360226097,
           "Cluster 1"
          ],
          [
           0.110131346804343,
           0.6321881587310691,
           -0.4663824776648638,
           0.8193137777496305,
           1.1517720511427951,
           0.8836336067127748,
           1.2640188520700837,
           -1.0125209680152791,
           0.8802154140366976,
           0.4009436632812741,
           -0.2364440269221977,
           -1.0174552561256052,
           -0.08524225498910494,
           "Cluster 1"
          ],
          [
           1.0501519347428572,
           -0.025756375624272923,
           -0.8900393591213548,
           2.509783467480785,
           1.3623855838003254,
           -0.28303711096479645,
           -0.9251394946393763,
           1.214794274894971,
           0.4256052099812084,
           0.9120070461311599,
           -0.5411413321207297,
           0.4828780739730115,
           0.3258066449691121,
           "Cluster 1"
          ],
          [
           -0.09014299424966193,
           1.6252022067809528,
           -1.438737475821272,
           1.3373702626012602,
           0.34051159093974864,
           -0.38204796321372975,
           -0.15689294047051425,
           0.4645490940954442,
           -0.07957554063200023,
           -0.0728260101648586,
           0.12730346154577493,
           0.3638580033394539,
           -1.2812341437980528,
           "Cluster 1"
          ],
          [
           -1.9082363980715926,
           -0.41007368077675177,
           -0.5703955624269856,
           0.09952246447730939,
           0.6535302909481907,
           0.8343148005984206,
           1.0047020845032368,
           0.6916551074306267,
           1.2836009044805465,
           -0.21528259402324773,
           0.7782773045528032,
           -0.1715189800975186,
           0.7391624716575161,
           "Cluster 1"
          ],
          [
           0.25302496414116477,
           -1.9252017193220576,
           -1.315793515516073,
           0.5204031187743501,
           -1.3588693563189294,
           0.6185911352038518,
           0.81068847867482,
           0.37269116600548474,
           0.19824046863065656,
           -0.1670373660960085,
           0.3154537031142557,
           0.4240438871977632,
           1.7914037962604672,
           "Cluster 1"
          ],
          [
           0.36209001495184834,
           -0.07500234163826713,
           -0.9803729417580815,
           2.2277665407592497,
           -1.1456128447863256,
           0.5804487864712008,
           -0.7813702283216805,
           0.7269081014842608,
           -0.40975767923260037,
           -1.6701437893092355,
           -1.2115209744284647,
           0.0881608168328571,
           -1.0443153474969706,
           "Cluster 1"
          ],
          [
           0.4540111737335666,
           -0.7098828076979078,
           1.1904897138855142,
           0.9212464943093529,
           0.435303846265954,
           -1.9948505480888263,
           0.373412701935514,
           0.10142913372087406,
           0.04203791062809914,
           -0.08722823171203595,
           1.1106559596800045,
           0.5490577987267353,
           1.0651893459396635,
           "Cluster 1"
          ],
          [
           0.020542390728363037,
           -0.4690539528037907,
           -0.7549006410483305,
           0.1797568531107105,
           0.38426375499555226,
           0.7111772406033027,
           -0.17850870234103497,
           -0.06610186091302149,
           -0.7005621599649948,
           -0.24272452248525414,
           -0.015298783494942085,
           -0.23042146845109568,
           0.06215000756664698,
           "Cluster 1"
          ],
          [
           -0.8816572376793979,
           0.22885542282887852,
           -0.8462681357504013,
           -0.6581307475270178,
           1.5972118681462377,
           0.6741071544433112,
           1.1358510530287254,
           0.9979320382893353,
           1.7460893327067875,
           1.4513911296439563,
           0.828106783240143,
           1.5234878892156096,
           0.3151269594203036,
           "Cluster 1"
          ],
          [
           2.2139048673135964,
           -1.5099980241074684,
           -1.2125871126122918,
           1.41624917193127,
           -1.3809384925681851,
           0.6709985377874472,
           0.14492460331710702,
           0.5934260520735537,
           -0.6124571501434918,
           -0.4797767368401379,
           0.02409448032454107,
           -0.16270266684211906,
           0.9531822559905136,
           "Cluster 1"
          ],
          [
           0.6428067522688516,
           -0.40054502300801015,
           -0.6002774142010263,
           0.7282296761974275,
           0.8313604310204121,
           0.03533867606375517,
           0.34303197761631515,
           0.03153029922328936,
           0.1988201262854989,
           1.349584448176113,
           0.3637583282535798,
           -0.4991465479968764,
           0.45248081333056844,
           "Cluster 1"
          ],
          [
           0.15373884152948897,
           0.7326211768680311,
           -0.5356975619601679,
           0.12138035096837611,
           -0.11590471814521092,
           -1.517751888563023,
           0.551346391038115,
           -0.29648994312555377,
           0.3266945439173565,
           -1.0367291573520492,
           0.08850801886511403,
           0.12693909965348016,
           0.03455982629393336,
           "Cluster 1"
          ],
          [
           0.2808553856322902,
           -2.187436930586348,
           -1.0352311179965599,
           -0.5835157880233507,
           0.7515792523031128,
           -1.4651786394557273,
           0.13072338643792503,
           1.0625228638420545,
           1.4385341931526212,
           -0.18684566033910036,
           -0.26753597573582016,
           -0.5389271715594777,
           0.937896817369901,
           "Cluster 1"
          ],
          [
           -0.9284694725910727,
           -2.3688013545753575,
           -1.7666783920677926,
           -1.2151015395834666,
           1.1624048000305216,
           -2.8589821320103304,
           0.9435364297998976,
           2.2762285870410963,
           0.511412987884745,
           -2.1113639720267687,
           1.0377096085051678,
           1.0616031789282072,
           -0.00017014653654405087,
           "Cluster 1"
          ],
          [
           1.133134271672507,
           -0.8981797505496849,
           -0.005673129528096887,
           -0.3767090146537485,
           -0.0290351430714415,
           -0.08766074732938471,
           0.1387990838825646,
           0.6161552995059841,
           0.6906156763446741,
           -1.6317025524071096,
           -0.44508286573449596,
           -0.18082496913958265,
           1.0362927287072492,
           "Cluster 1"
          ],
          [
           0.7125538741261358,
           -1.0468259385630052,
           -2.3500883172483378,
           0.8062568516599952,
           2.3907132087239282,
           1.532881419866088,
           -0.6888416607173381,
           -1.1066569551818537,
           1.3566539166409717,
           -2.175233424123973,
           -1.459643409067819,
           0.34103654760626023,
           1.2934050914840516,
           "Cluster 1"
          ],
          [
           0.12077766320164739,
           0.2741883969503963,
           0.03446576072956657,
           0.48568789614158964,
           -0.1865529164019538,
           -0.7138090798852001,
           -0.2304808303376089,
           -0.2370624644855978,
           -0.9197255189287211,
           -0.15620986176163168,
           0.30242928762731347,
           0.8134568782376338,
           -0.23835433197934094,
           "Cluster 1"
          ],
          [
           1.551165027669614,
           -2.6724831514194216,
           -1.544752425313182,
           1.129970531428362,
           0.31982270218700687,
           0.1941091745957854,
           0.39561078469733213,
           0.4315617858920009,
           0.6934406629988074,
           2.256999484814859,
           1.5384543077436394,
           2.260211023077435,
           0.6758003093314994,
           "Cluster 1"
          ],
          [
           -0.8690884735546218,
           -0.4826690629355565,
           -1.922303660913026,
           0.46900755431106383,
           -0.7673443367563707,
           0.4283722376863582,
           1.9713391887592624,
           0.7626365504781222,
           1.6152992686676397,
           0.5230023930680316,
           1.2595913353141366,
           0.5303218954495184,
           2.035094043828528,
           "Cluster 1"
          ],
          [
           1.6333608862973565,
           1.0875039061616054,
           -0.2605911485743518,
           -0.570771871970919,
           -0.5033803744085257,
           -1.501279277122124,
           1.1380469965556905,
           0.3703206842595558,
           1.864197357587444,
           0.42326872721820324,
           0.8267649577785846,
           1.3910928631661352,
           0.5758085080265085,
           "Cluster 1"
          ],
          [
           0.023040883845019445,
           -0.3449565309507659,
           -0.36637117135120734,
           1.2701709900529419,
           -0.381305025064758,
           -0.4745575598968422,
           1.325676558997648,
           0.022185472715297035,
           1.4363041527775997,
           0.017032884592003854,
           0.5244754399642038,
           -0.738042891192699,
           0.3449148387227004,
           "Cluster 1"
          ],
          [
           -0.7059293516575184,
           -0.5447663169546184,
           -1.5635143204320523,
           1.0369631431810495,
           -0.6831461307380269,
           0.56674429477166,
           -1.6405159938192975,
           -0.6157707656171418,
           0.5329682644473468,
           -0.40428114899721396,
           -0.41986963284416245,
           0.6568813622629133,
           1.2460828614730224,
           "Cluster 1"
          ],
          [
           0.03709733592796404,
           -0.5250442283322877,
           -0.9799264784278423,
           1.8482393196306413,
           0.7963148131333043,
           0.052571855862607014,
           2.0851005401151017,
           0.05449846882125024,
           -0.18040072414666514,
           0.02685345486035246,
           0.5229279766396976,
           0.9952071892142949,
           1.1471037878586923,
           "Cluster 1"
          ],
          [
           -0.055660131715914996,
           1.1086157482095105,
           -0.8462365561187144,
           1.3504091692898093,
           0.09052241538730818,
           -1.7869124769841196,
           -0.2926246842181608,
           -0.16221053568024768,
           0.16258029056932016,
           1.2630743582110238,
           0.2995567195004789,
           -0.4040091863874539,
           0.5450737681015013,
           "Cluster 1"
          ],
          [
           1.0071563395687517,
           0.592450435790276,
           1.5816059282422155,
           2.295976062379502,
           -0.22444309943758525,
           0.6748253112036187,
           0.3861463201308117,
           0.8792085983614937,
           0.4820374754552834,
           0.01767167182883124,
           1.059007726078638,
           0.9776087577963396,
           0.6317663602077076,
           "Cluster 1"
          ],
          [
           0.33864613069153904,
           0.5632323496988383,
           -1.0544654508071352,
           0.8169565093534507,
           1.6699489954975473,
           -0.5311572623604655,
           -1.1280602442259182,
           0.34055851058924946,
           0.7582748138841151,
           0.03970448985759923,
           -0.2498325667423903,
           -0.5815452026133271,
           1.1394137724562736,
           "Cluster 1"
          ],
          [
           -0.22191862965758372,
           -0.35700607859826694,
           -0.7534981525213654,
           1.2263422561188435,
           1.4609109640426454,
           0.3310507500111954,
           0.6729897037774275,
           -0.39437337799619476,
           0.0576151623901798,
           -0.20590542106528786,
           -1.6734650219974538,
           1.0579651949442974,
           0.6029636273838166,
           "Cluster 1"
          ],
          [
           1.1421153687303227,
           1.9008339137952726,
           -0.8454599218452873,
           0.3899309130750174,
           1.7173043704691644,
           0.9015389278916706,
           0.9380609321838571,
           0.45162905111063134,
           0.5519813464067115,
           1.4627200799287288,
           -2.248670312321266,
           1.0457753507830883,
           -0.49944042533199495,
           "Cluster 1"
          ],
          [
           -0.2604304715592651,
           -0.20854337262485442,
           0.012324822480631603,
           0.05946588847038703,
           0.25164875273594994,
           -1.8363713363929437,
           1.3896319301597855,
           0.05984262912704452,
           -3.3137078176276384,
           -0.7735628861098212,
           1.4328236258306193,
           0.27375296579871067,
           0.8497003336152139,
           "Cluster 1"
          ],
          [
           -0.5523695083557453,
           -0.292818106847687,
           -0.713032808703171,
           0.0860256959590484,
           0.16573431337717853,
           0.0883729081362624,
           -0.2682774575112095,
           0.5797771833616993,
           0.7745013236609946,
           0.341395207846631,
           0.13853200391502493,
           1.3004384513948923,
           0.5731675532755269,
           "Cluster 1"
          ],
          [
           1.4314826662261222,
           0.31570787115653204,
           -1.0006769768972246,
           1.7188422714047493,
           0.3365313303429131,
           -0.6098894873408055,
           0.07858219886774839,
           -1.7527757625429101,
           0.6401085236386691,
           -0.723066811099745,
           1.6301388467778748,
           0.9913123669318554,
           2.0215013923108685,
           "Cluster 1"
          ],
          [
           0.34440717550854066,
           -0.2882966105679402,
           -1.331189606296915,
           -0.39778831359030925,
           -0.7617722732860509,
           0.25262086962447344,
           0.24546941312597562,
           -0.5028901258279661,
           0.47367426602175616,
           -0.3359655918718941,
           -0.11388100840300917,
           1.5072337930191975,
           0.4989691947377063,
           "Cluster 1"
          ],
          [
           1.2416785043018859,
           -0.7663997997762748,
           -2.375643301571164,
           0.803953014117239,
           1.117003322260439,
           -2.0686920727963996,
           1.1907495854650243,
           0.9979126591461315,
           0.6773698789637715,
           -0.4044218584521322,
           -0.2651883085178247,
           1.780250460995434,
           -0.5250456918947846,
           "Cluster 1"
          ],
          [
           -0.03935627603091615,
           0.21601004733782633,
           0.14711406244175138,
           0.7449983788453483,
           -0.5192664716573013,
           -0.6959423167053737,
           0.09480603690936944,
           0.19590132631377,
           -0.8410343579900992,
           -1.040132836913434,
           0.9625148346269367,
           -0.08733867688916508,
           0.6327040719886358,
           "Cluster 1"
          ],
          [
           0.609011036160001,
           1.038393010755452,
           -0.6226637034441022,
           0.4741517638615653,
           0.6487439276129322,
           0.40056267862023415,
           0.1589525318202086,
           0.022226490917264728,
           0.11846343184089207,
           0.2822385138492318,
           0.8711199670521247,
           -0.08352282389451329,
           -0.2582753666264311,
           "Cluster 1"
          ],
          [
           0.7664954248986279,
           0.42026347642947337,
           -1.5845920239599718,
           1.0852058258233563,
           0.14701856316804002,
           0.7857071509603963,
           -0.21947179120571605,
           1.0816054073495283,
           0.682403986828867,
           0.17192435411685522,
           -2.2155141523696384,
           -0.601569187670342,
           0.6928539116343047,
           "Cluster 1"
          ],
          [
           0.18365652881200134,
           -0.2979572226728785,
           -1.392634091776747,
           1.4005147155649944,
           0.45949549667622924,
           -0.8718192695664188,
           0.17725327905281296,
           -0.3627118076357619,
           -0.5532416387253243,
           -0.28985156738361295,
           -1.2412991265300668,
           1.7531928646051105,
           1.5179944898025441,
           "Cluster 1"
          ],
          [
           0.5296267526182864,
           0.23854310078013824,
           -1.1047472932508768,
           0.36078796193320034,
           0.2793483973961823,
           -0.5498883340167394,
           0.5195354550280777,
           -0.11572074760429059,
           0.5281408003325879,
           -0.41716400769791023,
           -0.6335884064149713,
           0.5031536441632408,
           -0.30473588122006395,
           "Cluster 1"
          ],
          [
           0.3167427057653993,
           0.3847273496002357,
           -1.3654549562496567,
           0.6341683904495179,
           -0.629223649115113,
           0.7407390417175221,
           -0.9791823003119422,
           -0.6922641892923812,
           -0.49237610803330534,
           0.658289976445136,
           0.044916777495887475,
           1.493462414453649,
           -0.33226289484034965,
           "Cluster 1"
          ],
          [
           0.5391930579937024,
           -0.3114011741476858,
           -0.5579170204609899,
           0.17268109937164933,
           -0.027631602594708475,
           -0.02109980628713784,
           0.3145089393222079,
           -0.054479506560997294,
           1.0235662313420237,
           0.6027379045528873,
           0.2010339704732939,
           0.350196061998027,
           0.12509373810566335,
           "Cluster 1"
          ],
          [
           1.0994438469142247,
           -0.5606268766742102,
           -0.23404663756771035,
           -1.868681617440776,
           1.015964014796777,
           -1.799296021907168,
           1.7589440779928673,
           1.6251086646128412,
           -0.6060870547513045,
           0.23283173571424015,
           0.23277458931012895,
           -1.9033510836047178,
           1.7447872826002895,
           "Cluster 1"
          ],
          [
           -0.39264945021896924,
           -0.662903560800478,
           -0.3584823345744803,
           0.015328280798590083,
           0.6088488802159704,
           -0.19402017729713023,
           0.7640068769254478,
           1.499802226838659,
           -1.9387130478438832,
           -0.015337753465276036,
           -0.7702875073895459,
           -0.30899786534331936,
           0.4329105467293549,
           "Cluster 1"
          ],
          [
           -2.0687894195685543,
           1.3208169260711364,
           -1.3341712851792613,
           1.330593114487074,
           -1.131252352447386,
           1.5646202046456525,
           0.01314616645030825,
           -0.056334907611671405,
           0.038530206711357436,
           0.6284795228579179,
           0.8360434236615945,
           1.2846677712790586,
           2.3687590725390772,
           "Cluster 1"
          ],
          [
           0.6893371457636785,
           -1.8403067353212001,
           -0.6914728829418997,
           0.7004867389498235,
           1.3785122153677443,
           -1.6211002275647617,
           0.9136766936207067,
           0.7434310438590729,
           0.34507871197848505,
           -0.2776174566993327,
           -2.0253302995683273,
           0.21634416414541593,
           -0.6850436981556958,
           "Cluster 1"
          ],
          [
           0.945452136209644,
           -1.0179995674585256,
           -1.9748939261342426,
           0.8543513533816053,
           -0.2587996723720209,
           0.22539913449482904,
           0.6438570717650925,
           -0.41079929350503014,
           -1.9441237234752409,
           0.10704789086786368,
           -0.24958711983765602,
           -0.6249913786301423,
           -0.25809407692967007,
           "Cluster 1"
          ],
          [
           2.2479587220183093,
           1.6408958083456713,
           -1.7110701232126488,
           -0.11902399447581541,
           0.8112190689509705,
           -0.4923546007863078,
           2.1486288617267153,
           -2.1893294012276687,
           -1.7158934868098756,
           -0.14941387030855835,
           -1.5511611362873663,
           -2.0049291429416733,
           2.0126526126154003,
           "Cluster 1"
          ],
          [
           1.0950335301503475,
           -0.04021087627021014,
           0.6128750367722329,
           0.6985302618032965,
           -0.09416800631103778,
           -1.0663139955327956,
           0.8406881675745982,
           -0.283793276894011,
           -1.0234157594698072,
           1.9889624928244716,
           -1.2825160520077346,
           1.200116121845308,
           0.7083159333949055,
           "Cluster 1"
          ],
          [
           -3.109365472873019,
           0.2500007066269828,
           1.2101525130487745,
           2.161544215884949,
           1.5926974280938375,
           -1.69899286859757,
           -0.38054930676752863,
           -1.0371928680529032,
           -1.6507422038599955,
           1.219090466117239,
           -0.853856096845416,
           1.0065631262249488,
           1.4069903134696147,
           "Cluster 1"
          ],
          [
           1.5708884947237358,
           -0.04361469149898887,
           -1.2243744854008234,
           0.4892892060696546,
           -0.29206231651109665,
           0.1947502801543141,
           -0.7427406844328899,
           0.11325584638122124,
           -0.24035913599205466,
           -1.2258072981906651,
           -0.4363458923913338,
           0.889988953390478,
           -0.62517464454914,
           "Cluster 1"
          ],
          [
           -1.887168722125577,
           -0.027822253719678048,
           1.059874134671482,
           1.0155160611693699,
           0.12484480624619937,
           -1.1494752974627427,
           0.9832490203221732,
           -0.32392755280101976,
           -0.5785017521129957,
           -1.270845069264183,
           0.46275379198209743,
           -0.3438565501228794,
           1.186826969096517,
           "Cluster 1"
          ],
          [
           -1.7971060664041858,
           0.36933115151720497,
           -0.5676570272231325,
           1.4335540162832212,
           0.15672884580990878,
           0.2511867196982322,
           0.7070581424917095,
           -1.6470195388562976,
           1.1031326210520584,
           -1.3267105102145234,
           0.9525562512761463,
           0.36571768532862664,
           1.1977005658371922,
           "Cluster 1"
          ],
          [
           1.8924212266541172,
           -0.5467092517875074,
           -2.7053093157807813,
           1.3499637966164593,
           -0.7396338402188596,
           1.3494425059174668,
           0.14696570478428128,
           -0.42272580328880244,
           0.14033949806167093,
           2.436580685344781,
           -0.2241463026033768,
           1.2706309987922098,
           1.31271295036363,
           "Cluster 1"
          ],
          [
           -0.07294981183217795,
           0.9581207233956338,
           -1.728485415786215,
           -0.326772803483797,
           -0.7297620566734304,
           -0.8937056946666618,
           -0.10505467490818046,
           -0.7162633509779246,
           -0.3147237823085134,
           -0.08591900044326799,
           0.7449733922807459,
           0.2532098973062004,
           1.1869639091142137,
           "Cluster 1"
          ],
          [
           0.017295094630673132,
           0.5586561113131917,
           0.128758449354791,
           1.327465978835823,
           0.005893189553678598,
           -0.9450168545572941,
           0.6068810502795798,
           -0.7522810454413323,
           0.34643418781764973,
           0.03384146379681393,
           0.15321772238221074,
           -0.24424955948600865,
           0.42938622144617977,
           "Cluster 1"
          ],
          [
           0.8660783009358252,
           -0.3838779083950174,
           0.513277039163343,
           1.4228350194372108,
           0.8501891872173588,
           0.5328715708335335,
           0.2862113001080373,
           1.6125709641443515,
           -1.0599747975495857,
           0.1622266373796427,
           1.0868202559052424,
           -0.604029776547042,
           0.8141333800372061,
           "Cluster 1"
          ],
          [
           -0.32218355546051836,
           1.4584948075592559,
           -0.44670876653017216,
           0.7921329825602506,
           0.3324333768998554,
           0.538649018894713,
           1.149550178624638,
           -0.36872539536107496,
           -1.8274967602901782,
           0.9474393942399992,
           -0.7885497428286146,
           -1.4810507126546895,
           0.5142538429787289,
           "Cluster 1"
          ],
          [
           -0.4116115127138318,
           1.5431188008731955,
           -0.6093304802545458,
           1.4678886761897139,
           -0.5677672454523678,
           -0.8588155621140295,
           -0.9250745084909977,
           -0.9652088477477173,
           0.33189821018878074,
           0.3261314944228088,
           0.2583586505272733,
           -0.8077444906154888,
           0.143157392578434,
           "Cluster 1"
          ],
          [
           1.9439350337718337,
           1.6127795287235227,
           -1.2015373640342712,
           -0.18744226659697327,
           0.09514219402193295,
           0.4434194467799508,
           0.39055597931354863,
           -0.7582208864130331,
           0.5045517076440483,
           0.021849079373737347,
           0.15743121962019635,
           -1.6309124003141662,
           0.9591086544148852,
           "Cluster 1"
          ],
          [
           -0.22130742900300537,
           0.7663592526829834,
           -0.14233272225587648,
           0.31906638781873126,
           1.7812184219639144,
           0.9391133146181637,
           0.33004230298252946,
           -0.7996733132215358,
           0.6919946571654777,
           -0.25916975801415243,
           -0.17355925506462935,
           1.0011522435156728,
           0.6791182778030099,
           "Cluster 1"
          ],
          [
           -0.8506660044740565,
           -0.3965787759924846,
           -0.8865748837962554,
           0.7857112235754264,
           0.03361138485698309,
           -0.37061692945926983,
           -0.5706389991212735,
           -1.9472549319824917,
           1.4259338965897532,
           1.54395672227287,
           0.5776689306241095,
           1.7173186486693743,
           1.3494203859069906,
           "Cluster 1"
          ],
          [
           0.8394352648515033,
           -1.6619983639195604,
           0.029379400324711775,
           1.6484503392097796,
           0.5158920323440627,
           -1.2889380932280223,
           1.4776738478324256,
           1.2589015986577394,
           1.4819710028250537,
           1.0226610189842826,
           2.347755100114906,
           2.0294771259362516,
           0.6745946334244893,
           "Cluster 1"
          ]
         ],
         "hoverlabel": {
          "namelength": 0
         },
         "hovertemplate": "Cluster=%{customdata[13]}<br>FAC1=%{customdata[0]}<br>FAC2=%{customdata[1]}<br>FAC3=%{customdata[2]}<br>FAC4=%{customdata[3]}<br>FAC5=%{customdata[4]}<br>FAC6=%{customdata[5]}<br>FAC7=%{customdata[6]}<br>FAC8=%{customdata[7]}<br>FAC9=%{customdata[8]}<br>FAC10=%{customdata[9]}<br>FAC11=%{customdata[10]}<br>FAC12=%{customdata[11]}<br>FAC13=%{customdata[12]}",
         "legendgroup": "Cluster=Cluster 1",
         "marker": {
          "color": "#EF553B"
         },
         "name": "Cluster=Cluster 1",
         "notched": true,
         "offsetgroup": "Cluster=Cluster 1",
         "showlegend": false,
         "type": "box",
         "x": [
          "Cluster 1",
          "Cluster 1",
          "Cluster 1",
          "Cluster 1",
          "Cluster 1",
          "Cluster 1",
          "Cluster 1",
          "Cluster 1",
          "Cluster 1",
          "Cluster 1",
          "Cluster 1",
          "Cluster 1",
          "Cluster 1",
          "Cluster 1",
          "Cluster 1",
          "Cluster 1",
          "Cluster 1",
          "Cluster 1",
          "Cluster 1",
          "Cluster 1",
          "Cluster 1",
          "Cluster 1",
          "Cluster 1",
          "Cluster 1",
          "Cluster 1",
          "Cluster 1",
          "Cluster 1",
          "Cluster 1",
          "Cluster 1",
          "Cluster 1",
          "Cluster 1",
          "Cluster 1",
          "Cluster 1",
          "Cluster 1",
          "Cluster 1",
          "Cluster 1",
          "Cluster 1",
          "Cluster 1",
          "Cluster 1",
          "Cluster 1",
          "Cluster 1",
          "Cluster 1",
          "Cluster 1",
          "Cluster 1",
          "Cluster 1",
          "Cluster 1",
          "Cluster 1",
          "Cluster 1",
          "Cluster 1",
          "Cluster 1",
          "Cluster 1",
          "Cluster 1",
          "Cluster 1",
          "Cluster 1",
          "Cluster 1",
          "Cluster 1",
          "Cluster 1",
          "Cluster 1",
          "Cluster 1",
          "Cluster 1",
          "Cluster 1",
          "Cluster 1",
          "Cluster 1",
          "Cluster 1",
          "Cluster 1",
          "Cluster 1",
          "Cluster 1",
          "Cluster 1",
          "Cluster 1",
          "Cluster 1",
          "Cluster 1",
          "Cluster 1",
          "Cluster 1",
          "Cluster 1",
          "Cluster 1",
          "Cluster 1",
          "Cluster 1",
          "Cluster 1",
          "Cluster 1",
          "Cluster 1",
          "Cluster 1",
          "Cluster 1",
          "Cluster 1",
          "Cluster 1",
          "Cluster 1",
          "Cluster 1",
          "Cluster 1",
          "Cluster 1",
          "Cluster 1",
          "Cluster 1",
          "Cluster 1",
          "Cluster 1",
          "Cluster 1",
          "Cluster 1",
          "Cluster 1",
          "Cluster 1",
          "Cluster 1",
          "Cluster 1",
          "Cluster 1",
          "Cluster 1"
         ],
         "xaxis": "x2",
         "yaxis": "y2"
        },
        {
         "alignmentgroup": "True",
         "bingroup": "x",
         "hoverlabel": {
          "namelength": 0
         },
         "hovertemplate": "Cluster=%{x}<br>count=%{y}",
         "legendgroup": "Cluster=Cluster 2",
         "marker": {
          "color": "#00cc96",
          "opacity": 0.7
         },
         "name": "Cluster=Cluster 2",
         "offsetgroup": "Cluster=Cluster 2",
         "orientation": "v",
         "showlegend": true,
         "type": "histogram",
         "x": [
          "Cluster 2",
          "Cluster 2",
          "Cluster 2",
          "Cluster 2",
          "Cluster 2",
          "Cluster 2",
          "Cluster 2",
          "Cluster 2",
          "Cluster 2",
          "Cluster 2",
          "Cluster 2",
          "Cluster 2",
          "Cluster 2",
          "Cluster 2",
          "Cluster 2",
          "Cluster 2",
          "Cluster 2",
          "Cluster 2",
          "Cluster 2",
          "Cluster 2",
          "Cluster 2",
          "Cluster 2",
          "Cluster 2",
          "Cluster 2",
          "Cluster 2",
          "Cluster 2",
          "Cluster 2",
          "Cluster 2",
          "Cluster 2",
          "Cluster 2",
          "Cluster 2",
          "Cluster 2",
          "Cluster 2",
          "Cluster 2",
          "Cluster 2",
          "Cluster 2",
          "Cluster 2",
          "Cluster 2",
          "Cluster 2",
          "Cluster 2",
          "Cluster 2",
          "Cluster 2",
          "Cluster 2",
          "Cluster 2",
          "Cluster 2",
          "Cluster 2",
          "Cluster 2",
          "Cluster 2",
          "Cluster 2",
          "Cluster 2",
          "Cluster 2",
          "Cluster 2",
          "Cluster 2",
          "Cluster 2",
          "Cluster 2",
          "Cluster 2",
          "Cluster 2",
          "Cluster 2",
          "Cluster 2",
          "Cluster 2",
          "Cluster 2",
          "Cluster 2",
          "Cluster 2",
          "Cluster 2",
          "Cluster 2",
          "Cluster 2",
          "Cluster 2",
          "Cluster 2",
          "Cluster 2",
          "Cluster 2",
          "Cluster 2",
          "Cluster 2",
          "Cluster 2",
          "Cluster 2",
          "Cluster 2",
          "Cluster 2",
          "Cluster 2",
          "Cluster 2",
          "Cluster 2",
          "Cluster 2",
          "Cluster 2",
          "Cluster 2",
          "Cluster 2",
          "Cluster 2"
         ],
         "xaxis": "x",
         "yaxis": "y"
        },
        {
         "alignmentgroup": "True",
         "customdata": [
          [
           0.014148712622890101,
           0.13502962486312484,
           -1.2124853926164976,
           0.08264000780332371,
           -1.3969174682355094,
           0.06869633240801018,
           -0.3348782600377502,
           0.029314208634197283,
           -0.4840525237248542,
           0.20522451864852853,
           -0.426052222595905,
           0.35821506788142654,
           -0.33379964624915526,
           "Cluster 2"
          ],
          [
           2.1869835768431867,
           -0.3258907314299429,
           1.1995925145387927,
           1.228590528527265,
           -1.122612910840298,
           -2.02182048127044,
           -0.1414441892792155,
           2.053751739393297,
           2.1566194987495186,
           -0.07471669562211815,
           0.5413907326870634,
           -1.887329757740017,
           1.0535540263649563,
           "Cluster 2"
          ],
          [
           -0.10421369568347413,
           1.0792932460512201,
           -0.09231070752113259,
           -0.15519959143308543,
           -1.7067515033755059,
           0.36344681633485204,
           0.5543772780317561,
           0.06750216766576161,
           1.7693732910143452,
           -1.299460962246071,
           -1.4340247626078209,
           1.502054607112391,
           -0.3954013614782409,
           "Cluster 2"
          ],
          [
           -0.48301744890796194,
           0.6061232049546448,
           -1.4989894235561432,
           -0.6292150185044852,
           -0.47330092491299675,
           -0.2336899069526538,
           1.6724621329105573,
           1.686832266030306,
           -0.24949463827319573,
           -0.3241737728647969,
           -0.5779468329068445,
           -1.2515912605363493,
           -0.5409536421200188,
           "Cluster 2"
          ],
          [
           -1.941438898903822,
           0.4716302162982427,
           -0.7142118562242055,
           0.42384474202624806,
           0.6133828565997683,
           -2.3323309042526534,
           -0.0013919636271869063,
           0.9305196875191734,
           -0.7071579798896652,
           0.48299500782907157,
           -1.7729771097963902,
           0.5335889156401075,
           0.4489825471686466,
           "Cluster 2"
          ],
          [
           -0.7134544640629344,
           -0.3179166478381376,
           -0.35125828112618246,
           -0.5752854394530077,
           0.3713555733353041,
           0.705849911320116,
           0.45577698964876695,
           1.0150854280014658,
           0.46336816520241975,
           0.37683659267593217,
           -0.8083959406678611,
           -0.5381539123606149,
           0.7666429317860688,
           "Cluster 2"
          ],
          [
           -1.100875641290957,
           -0.4595821392760179,
           1.2748807603715946,
           -0.29475202857354443,
           0.30411546073490825,
           0.24149337488504807,
           -0.010604258550648676,
           1.035655819718848,
           -0.7918918758318388,
           0.5360046438948022,
           -0.313926105689951,
           -0.24302607358801895,
           0.42131554359155304,
           "Cluster 2"
          ],
          [
           -0.13262038241479274,
           0.39991895041499687,
           -0.12976767604530945,
           -1.254846959053085,
           -1.195105069312804,
           1.601040166935824,
           1.015658280131988,
           0.2887978712367921,
           0.5054571067540302,
           1.0984961014201255,
           -0.45771676272857464,
           -1.101783286134078,
           1.4530286390083684,
           "Cluster 2"
          ],
          [
           -0.3487013431335691,
           1.2266881460556474,
           0.6233926087061785,
           0.4801221753089473,
           -1.9950155083215935,
           -0.1278894230759516,
           0.4762927108201091,
           0.9519963398244632,
           0.9415149537182633,
           -1.131133467326801,
           -0.7480069163559082,
           1.480201869385995,
           -0.426470230065772,
           "Cluster 2"
          ],
          [
           -0.8627661133946559,
           0.22957076784297697,
           1.0997301245607949,
           1.6237606595804428,
           -0.7677055362651358,
           1.5247460213113941,
           2.48625897005875,
           1.0695278453771528,
           -0.1501630940809457,
           0.05499565806487568,
           -2.031617336644711,
           -0.4430248841099877,
           0.7202639117230251,
           "Cluster 2"
          ],
          [
           -1.3508050742045108,
           0.4896525892727851,
           -0.5799729550647537,
           -1.2019602117420745,
           0.11882808430088737,
           -0.31159070948577733,
           0.36830818984280295,
           0.43600576615459014,
           0.5289801469438147,
           1.2977303497686057,
           -2.49875524901133,
           0.3485925721058813,
           0.1758658792839026,
           "Cluster 2"
          ],
          [
           -3.21466533471976,
           -0.16966421152355077,
           -0.3590836979118138,
           -0.1207300643664155,
           0.10961143388100884,
           1.3696463351694124,
           1.4211386884508341,
           0.21906038875011313,
           1.7070368610242952,
           0.2827169498655219,
           -0.44028103727957013,
           -1.385813684411604,
           1.0974294251076144,
           "Cluster 2"
          ],
          [
           0.41733956463540983,
           -0.015900386455353063,
           0.7315620754778226,
           1.1511343084120764,
           -0.2323553304319867,
           0.28547575009396775,
           -0.8341358960901756,
           1.7360517296285594,
           -0.5523360769911768,
           -0.47925848637612123,
           -0.21667815282666358,
           -0.41172591133596476,
           1.350217708655175,
           "Cluster 2"
          ],
          [
           -0.024611053000678926,
           1.1640679784139445,
           -0.9274270968719281,
           -1.1679028020567301,
           -1.7438921931302123,
           -0.5484079582281294,
           0.5350158627127098,
           -0.7658228439247702,
           0.6947421222016738,
           0.9694063672830003,
           -0.8692772066444188,
           0.6671565313455309,
           -0.1903896919911358,
           "Cluster 2"
          ],
          [
           1.8686165994699688,
           2.272154232548216,
           -1.225263049742525,
           -0.8173103265533965,
           -1.6990351022510257,
           -0.9206932732903239,
           0.2351008788091489,
           1.2711832687220583,
           1.141289318850828,
           0.226541966259061,
           -1.2372129352829475,
           -1.843485369604066,
           0.22530843348268112,
           "Cluster 2"
          ],
          [
           -2.4183893929742464,
           0.08986512574476917,
           -1.355949358641825,
           -0.05881765207254788,
           0.18299202175469065,
           -0.7028004929379422,
           -0.23293158544523682,
           1.1536025954296798,
           0.34768697063523074,
           0.5269372673884539,
           -0.4983019043152438,
           0.2536870379498126,
           0.8723735720425843,
           "Cluster 2"
          ],
          [
           -0.6382228039593283,
           1.4565810646348332,
           0.96769785055471,
           -0.5078701535828598,
           -2.3273197973414614,
           1.0003559773513753,
           1.498191743452862,
           0.02207736607803515,
           -0.3199158120497955,
           0.09503817048560748,
           0.5050502823729516,
           0.8711269272411626,
           -0.2501736128593272,
           "Cluster 2"
          ],
          [
           -0.8474577303684014,
           -0.37924954022387725,
           1.5355485739692023,
           -1.72795088094164,
           -0.18097987536068463,
           -1.4213177560465045,
           1.0098873916390865,
           0.5201390718527992,
           2.3267444896767344,
           -0.1630827337434022,
           -1.0415236804834147,
           -1.5249742055417428,
           1.305497092329686,
           "Cluster 2"
          ],
          [
           -1.3690845756925667,
           -0.4879957683380574,
           0.4580288362378801,
           -0.44472140380787284,
           0.10599241279377036,
           1.1275611349743329,
           0.12455712982904112,
           0.2828780638894919,
           1.0716216367289457,
           -1.4200391965423376,
           0.466105929546644,
           -0.48540369239145076,
           2.239652938767298,
           "Cluster 2"
          ],
          [
           -0.09491408454121461,
           -0.18282446740160233,
           -0.6165694687518158,
           0.07615303117410126,
           -1.1146027044123807,
           0.9693486141045653,
           -0.45826239237939737,
           0.9372972615113365,
           -1.3170797086157124,
           -0.6603891546295083,
           -0.7489480666430742,
           -0.24722837056334676,
           -0.3973898334169683,
           "Cluster 2"
          ],
          [
           -0.02137308479845754,
           0.4352133157517563,
           0.7063523820816173,
           0.04899895997833165,
           -0.9246131990665104,
           -0.2824590182041935,
           1.2732625491687537,
           -0.6400216271116038,
           -0.6819064539574745,
           -0.6761003257662764,
           -1.350165301821202,
           0.2724748489159885,
           0.029142908297037768,
           "Cluster 2"
          ],
          [
           -0.4209827108767675,
           0.47146282449220817,
           -0.12969118545505884,
           -0.4088647476617235,
           -0.16061829828946478,
           0.07472391967735331,
           -0.15578474454619862,
           1.0559436393718447,
           0.15136527521477613,
           -0.3636565065613098,
           -0.6195618580027702,
           -0.46957884348701223,
           -0.6247518604002086,
           "Cluster 2"
          ],
          [
           -0.4060594714087398,
           0.053389195474560475,
           0.17145649054085849,
           0.24476063394515768,
           -0.3257166957238238,
           -0.46138494157995297,
           -0.6574608033602938,
           -0.10944851880910868,
           -0.1850978375125096,
           -0.924094170114918,
           -0.9615593588835297,
           1.009216301400207,
           0.2823495489849621,
           "Cluster 2"
          ],
          [
           -0.14937778845038718,
           0.03540447475366624,
           -1.3418041072101499,
           -0.6297450527595803,
           -1.0397336458738737,
           0.15452472574759657,
           1.3019739838408215,
           0.18882915695402552,
           -1.2771808884458882,
           -0.7530074797272335,
           -0.15400823879064726,
           -2.74423071927972,
           0.2962196749297111,
           "Cluster 2"
          ],
          [
           -0.21632070789309804,
           0.7158462602173149,
           1.219004952916856,
           0.3251758192217888,
           -0.9532009199653236,
           0.23639926874357856,
           1.040717678022658,
           0.7011929728897629,
           -1.2808743579072355,
           -0.715483555672692,
           0.9355943207534856,
           -0.08511864596932589,
           -0.2502415657786823,
           "Cluster 2"
          ],
          [
           0.20419320120479756,
           -0.9956950718564717,
           1.2687933829800206,
           -0.5767145537515332,
           -1.0705041535615072,
           0.5710407307442517,
           0.08803930162023514,
           0.24528875474991305,
           -0.6068987320128213,
           0.4002469160771494,
           -1.2221833370125983,
           -0.2553948028094881,
           0.18256457221372288,
           "Cluster 2"
          ],
          [
           -0.48716719143390036,
           0.038103429978374286,
           0.04757649880164649,
           -0.7534719568820253,
           -1.218055891262827,
           2.108328372534553,
           -0.34843110177463094,
           -0.022592498100802074,
           0.7943726374793493,
           0.32647844723180486,
           -0.48826572795355855,
           0.03101960735772446,
           0.23266022427788355,
           "Cluster 2"
          ],
          [
           -1.0037635387337944,
           1.007318332691701,
           1.7559857728322286,
           -0.03771892312910435,
           0.9107756449498688,
           -0.405680290193517,
           0.8229733658120201,
           0.8372539908800475,
           -0.9121989376285784,
           2.6717538589246264,
           -3.841004465847069,
           -0.6907805968401828,
           0.3850717708456617,
           "Cluster 2"
          ],
          [
           0.8276564211952814,
           -0.5532184281918616,
           1.3373728062573758,
           0.036792881674570066,
           -1.8822075664675135,
           -0.9289332974569635,
           0.006110869785869461,
           1.792348949755407,
           1.792455037744367,
           -1.7560052176481862,
           1.6550733893458458,
           -0.16675069630736913,
           -1.0280478928667747,
           "Cluster 2"
          ],
          [
           -0.0411915353374651,
           0.7545290900652706,
           1.1597831203277953,
           -0.334219401023945,
           -0.27923941629272575,
           0.9163453125257188,
           -0.018579448993709627,
           -0.04350673376001653,
           0.748215966869323,
           -0.007674617640735621,
           -1.3459618650209155,
           0.25150605558237904,
           -0.44237138345713456,
           "Cluster 2"
          ],
          [
           -3.0023871344453705,
           0.0016960374025277883,
           0.9013457276757394,
           0.4181358854581814,
           -0.6460659500476992,
           1.3424936629258222,
           0.9770282167599671,
           0.49275841602801895,
           -2.4682192903732183,
           2.0013272183919115,
           -0.025059477645902613,
           0.5172753886889085,
           1.4853536769466809,
           "Cluster 2"
          ],
          [
           -0.39738424087428775,
           -0.9404721970684738,
           0.04566987248341296,
           -0.3931015084088947,
           -1.2754763797760045,
           0.2939478726887348,
           -0.40939007844470593,
           0.8459922862138088,
           -2.6768535545905037,
           -0.9255109143563518,
           -1.5747215125060736,
           0.2740101877847535,
           0.8023165674275539,
           "Cluster 2"
          ],
          [
           0.5187125731859836,
           -0.15694669713278858,
           -0.19693521792693597,
           -0.5342958824731757,
           -2.961515849279703,
           -1.5281592276262046,
           -1.1765668787126908,
           0.5549396984624578,
           1.3510001938529979,
           -0.6771961759069676,
           1.1795468662706279,
           0.5061003773565853,
           1.5961346346439267,
           "Cluster 2"
          ],
          [
           0.4827631619225742,
           1.5275787784893724,
           0.6641011865977121,
           -0.29928459594795254,
           -1.183718867694753,
           0.5144406909469077,
           1.3536403099021426,
           0.3578631614835388,
           -0.2601858260493798,
           -0.09655836909239761,
           1.789378761945225,
           -0.5309710835361869,
           -0.14593986174343046,
           "Cluster 2"
          ],
          [
           -0.3359511924691319,
           -0.16349546693644246,
           -0.12361934077726512,
           0.2567883471582592,
           -0.3177088273464754,
           0.2932271241904747,
           0.8335044267049714,
           -0.21093264978371074,
           0.9844811691376117,
           1.0133730419104057,
           -1.0397774913809814,
           -1.07722181910452,
           0.36035078064657994,
           "Cluster 2"
          ],
          [
           -2.235861565723412,
           0.6478194586396834,
           -0.681632982714521,
           1.28190406264199,
           -2.6841859291465684,
           -0.7648980304908063,
           0.6363924148068967,
           0.3606130065355554,
           0.14043185306034828,
           0.12933654427249786,
           0.7975705488403603,
           0.7615111049709301,
           -0.6346972786567582,
           "Cluster 2"
          ],
          [
           0.9226842381530027,
           -0.8635782021190392,
           1.2746624198901022,
           -0.5301818911953053,
           0.260461432513707,
           1.5798535197251908,
           0.2418048247701656,
           2.139718555700945,
           -0.8937534100125867,
           -0.2843844681134581,
           -1.9891592975716015,
           1.5928880428300476,
           1.5575986251443672,
           "Cluster 2"
          ],
          [
           1.580073372925783,
           0.7017795838409012,
           2.0394298829821014,
           -0.21428060629567133,
           -2.587234274030594,
           0.608864974230435,
           -0.40632419770276446,
           0.8961682419880647,
           -0.41949719202396113,
           -1.6168966865717256,
           1.3858843966995547,
           1.1225611105652529,
           -0.07469391531503873,
           "Cluster 2"
          ],
          [
           0.4053133273315772,
           0.6665734502501346,
           -1.2583358817124635,
           -1.54894302972102,
           -1.344902251111037,
           1.0543899012276137,
           0.34737932350044903,
           1.443034728979928,
           -1.2006660984261683,
           1.5194395135125174,
           0.6970756460190037,
           -1.4116406408978588,
           1.0526813261297383,
           "Cluster 2"
          ],
          [
           -0.5096434925066761,
           -0.9829660477834165,
           1.259176142460113,
           -0.2595155036386068,
           -1.6990711586462297,
           -1.1401807467555125,
           1.2142812133456675,
           0.8353866849068741,
           0.4835974160915443,
           1.1147571145664215,
           0.6438212550655591,
           0.7654998433974012,
           0.18656659929318706,
           "Cluster 2"
          ],
          [
           0.05472702139422777,
           -1.0113303821141448,
           0.6142974422388537,
           2.0076776413330975,
           -2.331162464244043,
           -1.8303461190379524,
           -0.42091484255605316,
           -0.4448326896225191,
           0.8417448251067405,
           -0.9628520451035002,
           -0.5810326880823121,
           1.4277088599253747,
           -0.6071145779192447,
           "Cluster 2"
          ],
          [
           -1.6552406364453478,
           -0.9783438058132067,
           -1.4113485056279926,
           -0.06797813117556473,
           -1.2605033359297564,
           0.48023597516996824,
           -0.7241148980889948,
           0.4622592616390355,
           -0.25195172539572636,
           -0.2773185457342852,
           0.16740432668414174,
           0.16567524423408264,
           0.9041313523053179,
           "Cluster 2"
          ],
          [
           -0.38572230444422373,
           0.8974709487777447,
           0.9197542051574945,
           0.9142553481913042,
           -1.0840345966776146,
           0.34878107303679184,
           -0.51575149131397,
           -0.10596852799165014,
           0.39255712528627434,
           -0.3974375439733503,
           0.04610048650492068,
           0.1222433194408749,
           0.9859589730246867,
           "Cluster 2"
          ],
          [
           1.2520265286639787,
           1.0275286430518702,
           0.010619422397078427,
           -1.2879786286241248,
           -1.8361005277865676,
           0.6472064497159595,
           0.687237278330535,
           2.0756198403085877,
           0.14410009068733204,
           0.9580105221823415,
           -4.145791367048149,
           2.0135490876350994,
           0.9773384833758424,
           "Cluster 2"
          ],
          [
           0.7765389064568803,
           0.628176818851979,
           -0.5695955114297087,
           -0.035008128175830294,
           -2.086134664625831,
           -0.5798983474659541,
           -1.0787198722258284,
           0.08904071708872234,
           -0.2250923879653679,
           -1.4873509222541117,
           0.4229683924191632,
           -0.207045285028728,
           -0.9456648011761901,
           "Cluster 2"
          ],
          [
           -0.9058639731531113,
           -0.7688460368135319,
           0.8214583887989613,
           -0.8441368182531964,
           -2.160954896201884,
           1.2114087559084068,
           -0.4506067211478056,
           -0.06841028151970154,
           -0.8887227527028958,
           -0.11295922340905705,
           0.35197715857941,
           0.6686776867960312,
           1.5339105498331878,
           "Cluster 2"
          ],
          [
           0.3661056930950817,
           0.9586981500323078,
           -1.578585341989692,
           -0.627286165651654,
           -1.6563514181268262,
           0.8366976390811793,
           0.2433341252472419,
           -0.5582807096325302,
           1.3133996003065105,
           -0.7547547588549864,
           -0.7825929612639405,
           0.2127961106238224,
           -0.045286320876030135,
           "Cluster 2"
          ],
          [
           0.06329533338239843,
           -0.10082004653553443,
           0.9754087109064632,
           0.38341988072958616,
           -1.1484485566378284,
           0.053456174085626446,
           -0.3103834972160825,
           -0.20846812882137913,
           0.4655684424061002,
           0.07405221351486611,
           -0.219864335632184,
           -0.12304173670163188,
           -0.40998060744284126,
           "Cluster 2"
          ],
          [
           0.868379416069504,
           -0.9825309982098921,
           1.9375578868413077,
           -0.6401276924109167,
           -1.1632674385881885,
           0.9418267901647235,
           1.016814847774742,
           0.5709316503548528,
           -0.9218770278920608,
           -1.110579216728761,
           -0.19182603047727417,
           0.5342313473912613,
           1.2205085694701,
           "Cluster 2"
          ],
          [
           -0.3645288218948704,
           -0.8192431601102707,
           0.5889125925491998,
           0.8041207724392511,
           -0.8935508065377242,
           1.865130265036193,
           0.4033422903036568,
           0.32246155263761983,
           0.5608274652228823,
           -0.10106568998572457,
           -0.14035189712168242,
           0.9157202446926167,
           0.7847631010477268,
           "Cluster 2"
          ],
          [
           0.944215275896814,
           -0.7542854034016558,
           1.1624342460549821,
           0.12400737017610917,
           -1.5066764715830423,
           0.1300697342395776,
           0.5904717897729099,
           1.294127229564436,
           -0.8525594490980017,
           1.0797704595785578,
           -0.24992436271628918,
           -2.2297087503668784,
           2.1141784485564044,
           "Cluster 2"
          ],
          [
           -0.24022235322821273,
           -1.2834535997820358,
           0.38811420924095175,
           0.5229454072991028,
           -1.600485738003235,
           0.12473060327343388,
           0.1862948823318674,
           -0.0275748547811248,
           -1.4927666656077843,
           -0.5771359562012094,
           -1.012736832118565,
           -1.4467301308630285,
           -0.2860625900345603,
           "Cluster 2"
          ],
          [
           0.6729883819109564,
           1.311697785680113,
           0.9241393627497664,
           -0.5401035809430219,
           -2.205714089078255,
           -1.243691790203912,
           0.05986144127364437,
           1.8964217965824683,
           1.1252352666657452,
           -2.3626835992972754,
           0.11808888063053727,
           -0.634625264060284,
           0.2930380657561416,
           "Cluster 2"
          ],
          [
           -1.2513343851667584,
           0.8107603345543086,
           1.5840456069320341,
           -0.8123680522357328,
           -0.6457381281132586,
           -0.4055386762618703,
           0.5243480565219065,
           0.22806815640409123,
           1.0568006145959827,
           -1.2564817473340046,
           -0.45276399434338743,
           0.9350305519497321,
           -0.9199814905647795,
           "Cluster 2"
          ],
          [
           0.22956214172024322,
           0.23275377892355067,
           -0.052483821722262014,
           -0.11184554559082024,
           -0.5254520868413581,
           -0.4605451070681093,
           0.02001088398706953,
           0.008829214434019725,
           0.5177333638812159,
           -1.4633341881118933,
           0.034293795403455715,
           0.7103575788041228,
           -0.46752172839745865,
           "Cluster 2"
          ],
          [
           -3.043346023802656,
           0.6476297175680855,
           -0.8063100784308415,
           -0.06682832204127641,
           -1.3065236882499283,
           0.5288341183132403,
           -0.757363765333994,
           1.4345179229100107,
           -0.4145124440169185,
           -0.7958073388449717,
           0.22917621666785779,
           0.6035601691739747,
           1.2311998519314795,
           "Cluster 2"
          ],
          [
           -0.48258260781601015,
           0.6501569348759918,
           -0.36561144242967797,
           -0.18068522622642902,
           -2.5878769365781134,
           -1.4304198666186216,
           -0.7365391728854661,
           -0.3679557693066558,
           -0.1579004274045299,
           0.2775785747853648,
           -1.5935078904767273,
           -0.5655259006320521,
           -0.5862056921752972,
           "Cluster 2"
          ],
          [
           -0.08032090074204866,
           0.798978455321823,
           -0.2710422810100141,
           1.6361011523959226,
           -1.5241729178885595,
           -0.5198314861398503,
           0.19267349960783725,
           1.4210070047195722,
           1.3010483029662427,
           -1.2249636294293142,
           -1.3073288898635544,
           -0.018089080498618893,
           0.8907785746226204,
           "Cluster 2"
          ],
          [
           -2.5927638698814772,
           1.0271158487034888,
           0.4720043302321378,
           -0.6026285475613625,
           -0.6214232315712903,
           -1.0467534646560244,
           -0.3075347846002359,
           1.5136774551971905,
           0.7333288486590405,
           -1.4049403387899377,
           -2.2572627978914013,
           -0.5110088280240052,
           0.5394909827551259,
           "Cluster 2"
          ],
          [
           0.6810141514462386,
           -0.3294284057900722,
           -0.05660265223316864,
           -0.5743031830882508,
           -2.2077988846682226,
           0.9162764235764984,
           -1.1518848507913044,
           1.309394644609264,
           -2.1252539218150104,
           -0.3329697038724213,
           -0.9211605809118512,
           0.4771073046741846,
           3.04091822044403,
           "Cluster 2"
          ],
          [
           0.43012969535279466,
           0.20568052012190768,
           -1.6472249196618263,
           0.06598291071428797,
           -2.7719907116413807,
           0.6008536146498116,
           -0.09251389247995456,
           -0.22669563878593582,
           0.45538230405982233,
           0.26266660761289584,
           -0.5411331251181908,
           -0.11325529880056667,
           0.838492805466138,
           "Cluster 2"
          ],
          [
           0.3131403931391467,
           1.8542172598823157,
           1.1642542752758644,
           -1.6838968674518364,
           -0.17016843840583323,
           -2.6523416806404847,
           -0.6904929062505024,
           1.479554156545546,
           0.5647054630141389,
           -0.34558678427386263,
           -1.830157025040207,
           -1.7380370563313003,
           1.5209481380793703,
           "Cluster 2"
          ],
          [
           0.8340053467667256,
           0.6246694062498264,
           1.2088028825050474,
           1.2185759739430826,
           -0.9338613628589727,
           -1.8920657884777574,
           0.9944261133162441,
           0.8220640429216236,
           -1.8488190902394819,
           1.7476537083801365,
           -2.4164521874452087,
           0.9569840499353521,
           0.4280595177026058,
           "Cluster 2"
          ],
          [
           1.1011767095623077,
           1.893597543535618,
           -0.8928170673585383,
           0.7757245945192646,
           -0.5143168656645657,
           -0.539932223817826,
           -0.2853229868294334,
           2.3652168987433706,
           0.19767527498216383,
           -2.24452186318162,
           -1.2050147792161596,
           -0.916003143782847,
           -1.7160378018414404,
           "Cluster 2"
          ],
          [
           -0.5008493130696107,
           -0.9295107946453411,
           1.1475061877430435,
           -0.18269781698696813,
           -1.8946809206191997,
           0.795671916740076,
           0.41921807314827275,
           0.7338052274956652,
           -0.7170208388151481,
           1.082303744701956,
           -1.2069823082064133,
           1.0312573064700867,
           0.22870679765477434,
           "Cluster 2"
          ],
          [
           -0.36034944163342286,
           1.4469055162737083,
           0.25114957062282567,
           0.5109218133577511,
           -1.8832315176108831,
           -0.16980657779852362,
           -0.7543585337535796,
           0.9620577492296982,
           0.15060029247155204,
           0.57713600742378,
           -0.15448954622485545,
           -1.2180076831639475,
           0.775921540063553,
           "Cluster 2"
          ],
          [
           -1.3588504589974069,
           0.2854174477317007,
           1.220989871199922,
           1.1686241088562939,
           0.3856596757549086,
           0.918072072110891,
           -0.6403927392275454,
           -0.029926222717053197,
           0.6234232382947685,
           -0.8452097153043173,
           -1.3740306380931748,
           1.1511209419491273,
           -0.06118156649639123,
           "Cluster 2"
          ],
          [
           -0.3799441285395706,
           1.0169216934575325,
           0.7938114596333018,
           -0.3786655638716086,
           -0.7037320762623996,
           0.749213019494296,
           -0.39596011497815753,
           -0.49440610928892,
           0.5857245829208523,
           -1.3433878589404669,
           -1.424058604080196,
           0.06146027232554692,
           -1.6839989080483353,
           "Cluster 2"
          ],
          [
           -1.0598600509183926,
           1.6404240740169778,
           0.5565696450704439,
           -1.8161588082862972,
           -0.7305722399148978,
           0.0081050975413723,
           -0.004943236499170803,
           0.22808163802210368,
           0.5055951356346035,
           0.06833599981895241,
           -0.7707671734767926,
           1.31434215194964,
           1.4406225932128702,
           "Cluster 2"
          ],
          [
           -0.5978261484527609,
           -0.24142504654012462,
           1.9712437659951787,
           0.938400324856542,
           -0.6830812714757949,
           0.7791699540561852,
           -0.7846681028325477,
           1.741974821099677,
           0.3524981192814029,
           -0.4563168251784549,
           -0.9442838423609513,
           -1.6748648580855194,
           -0.45077108590036286,
           "Cluster 2"
          ],
          [
           -0.11933369753518579,
           0.653613765129834,
           1.5846342376013194,
           -1.9636895135969226,
           -2.1988768669074084,
           0.68831404655045,
           1.9807740980543445,
           0.037140181172062824,
           -0.27143129435919694,
           -1.6550388924773403,
           0.6474093034090102,
           -0.35539888894784294,
           -0.14642243670694502,
           "Cluster 2"
          ],
          [
           -0.5476139297115261,
           1.3429366838353511,
           0.4123831212388282,
           -0.6649280431556178,
           -0.9907368930245967,
           -0.8089997676230087,
           -0.147705040639952,
           0.12589434772655805,
           0.5394256973582159,
           -2.033172705467853,
           0.37886170578769685,
           0.1432833596238096,
           0.8645741667766003,
           "Cluster 2"
          ],
          [
           1.499282428244103,
           1.8816831532428013,
           -0.21841687454097658,
           -2.1257146919702525,
           -0.985151003425583,
           -0.3269848981480583,
           1.1364595260152677,
           1.4428986146894989,
           1.2006087150740115,
           -0.09490891487073407,
           -1.4366342862438994,
           -0.11304529582203908,
           1.743962777426812,
           "Cluster 2"
          ],
          [
           0.24546602046424104,
           0.236742003865383,
           0.8987987824024559,
           0.7463270215144685,
           -1.171553450272629,
           0.08676242594725819,
           -0.6929218246508525,
           -0.1601380882578617,
           0.8297816220038328,
           0.18327763598874758,
           -0.4259222877396909,
           1.0554042489325117,
           -0.8721338993521038,
           "Cluster 2"
          ],
          [
           -1.1939494076852135,
           1.8070592596570814,
           -0.30441512104622037,
           -0.634817068792711,
           -0.865477819352962,
           -1.8913914652228916,
           1.2862623786965985,
           -0.17342160903922627,
           -0.44621434496200646,
           1.2174399967521916,
           -0.45009686942642857,
           -1.0951527113255126,
           0.34423245447209444,
           "Cluster 2"
          ],
          [
           0.2672390998838073,
           -0.8362478438875485,
           0.8372250465429663,
           -1.3426704382462553,
           -1.3417536774660934,
           -0.10593176569546547,
           -0.44563245322707234,
           0.3049856526159978,
           0.41888844783314694,
           -0.2864580120097975,
           0.13620837735828537,
           2.265569423835898,
           -0.9667282006984216,
           "Cluster 2"
          ],
          [
           0.025919129858958098,
           1.7067158246413834,
           -0.6872659885453133,
           -1.5314139712406902,
           -2.3946023354708164,
           -1.5368246076187642,
           0.5486910611581185,
           1.6107051876821037,
           0.04945244863704346,
           -0.8450343898286878,
           -1.228694079229067,
           2.2915161663817982,
           1.1179300563807029,
           "Cluster 2"
          ],
          [
           -1.3633930941426182,
           0.4437172300472144,
           -1.042180717529033,
           -1.3944754677060298,
           -0.7177158283998879,
           1.7924636520313675,
           2.6512993630341533,
           0.5659055223218928,
           -1.2913576759193643,
           -0.1672844636999905,
           -0.44237781948215255,
           0.86575209953752,
           1.2067718859801024,
           "Cluster 2"
          ],
          [
           0.2269381518110111,
           -0.03544568898265951,
           1.2624156830526296,
           1.2029288550358501,
           -1.409335115577666,
           -1.3300609452360466,
           -0.3811574922486944,
           0.4507959100399177,
           -0.3437706046189707,
           0.18179068409471788,
           -1.1663453683487492,
           0.48016504208967115,
           -0.39551071311349434,
           "Cluster 2"
          ],
          [
           -1.0274283815705847,
           0.022065416514224227,
           -0.012155245577134289,
           -0.047045877891981856,
           -0.3479943040119783,
           0.007691023013335804,
           1.4999734239782132,
           1.2667715913411224,
           0.48633583810313474,
           0.8817182388659135,
           0.5896482362181221,
           -0.21710554525484765,
           0.45785018355338347,
           "Cluster 2"
          ],
          [
           0.3863670270346669,
           -0.22942035096597646,
           1.6388728712515714,
           1.7256866082097861,
           -0.2719079260465008,
           0.8939120345435166,
           -0.4634724429897543,
           1.6310082540087438,
           -0.07072137289829948,
           0.3024299852115042,
           -1.1110164488895709,
           0.6783579066501821,
           1.1112983632610283,
           "Cluster 2"
          ],
          [
           -0.6846073111377906,
           -0.3044435882902465,
           -0.9253965693498467,
           -1.46317371296326,
           -1.0708809420210177,
           -0.0763847369431271,
           0.5934029501261495,
           0.05885920112631078,
           0.5860864885468553,
           0.5346382457983926,
           0.45713060435441305,
           0.29537420204653864,
           0.5293439200834374,
           "Cluster 2"
          ],
          [
           -0.46980785130064423,
           1.5154388734895743,
           0.13422504367223392,
           0.05166915324996539,
           -1.0241347357965482,
           0.9621313393894677,
           -0.9964599234909358,
           -0.23357902028141975,
           0.4851698945113548,
           1.6196494745707493,
           -1.1514680002319837,
           1.423404616041223,
           0.3617803080303901,
           "Cluster 2"
          ],
          [
           1.0789682760191865,
           -0.6038149154485984,
           1.9744886344321815,
           -3.0313917579880236,
           -1.2342168247954912,
           -3.3031361143131255,
           -0.40223978829061924,
           0.9422397451403408,
           2.2658509738959234,
           1.363537535081518,
           0.1762495852486647,
           0.8108942879557637,
           1.5626467217714468,
           "Cluster 2"
          ]
         ],
         "hoverlabel": {
          "namelength": 0
         },
         "hovertemplate": "Cluster=%{customdata[13]}<br>FAC1=%{customdata[0]}<br>FAC2=%{customdata[1]}<br>FAC3=%{customdata[2]}<br>FAC4=%{customdata[3]}<br>FAC5=%{customdata[4]}<br>FAC6=%{customdata[5]}<br>FAC7=%{customdata[6]}<br>FAC8=%{customdata[7]}<br>FAC9=%{customdata[8]}<br>FAC10=%{customdata[9]}<br>FAC11=%{customdata[10]}<br>FAC12=%{customdata[11]}<br>FAC13=%{customdata[12]}",
         "legendgroup": "Cluster=Cluster 2",
         "marker": {
          "color": "#00cc96"
         },
         "name": "Cluster=Cluster 2",
         "notched": true,
         "offsetgroup": "Cluster=Cluster 2",
         "showlegend": false,
         "type": "box",
         "x": [
          "Cluster 2",
          "Cluster 2",
          "Cluster 2",
          "Cluster 2",
          "Cluster 2",
          "Cluster 2",
          "Cluster 2",
          "Cluster 2",
          "Cluster 2",
          "Cluster 2",
          "Cluster 2",
          "Cluster 2",
          "Cluster 2",
          "Cluster 2",
          "Cluster 2",
          "Cluster 2",
          "Cluster 2",
          "Cluster 2",
          "Cluster 2",
          "Cluster 2",
          "Cluster 2",
          "Cluster 2",
          "Cluster 2",
          "Cluster 2",
          "Cluster 2",
          "Cluster 2",
          "Cluster 2",
          "Cluster 2",
          "Cluster 2",
          "Cluster 2",
          "Cluster 2",
          "Cluster 2",
          "Cluster 2",
          "Cluster 2",
          "Cluster 2",
          "Cluster 2",
          "Cluster 2",
          "Cluster 2",
          "Cluster 2",
          "Cluster 2",
          "Cluster 2",
          "Cluster 2",
          "Cluster 2",
          "Cluster 2",
          "Cluster 2",
          "Cluster 2",
          "Cluster 2",
          "Cluster 2",
          "Cluster 2",
          "Cluster 2",
          "Cluster 2",
          "Cluster 2",
          "Cluster 2",
          "Cluster 2",
          "Cluster 2",
          "Cluster 2",
          "Cluster 2",
          "Cluster 2",
          "Cluster 2",
          "Cluster 2",
          "Cluster 2",
          "Cluster 2",
          "Cluster 2",
          "Cluster 2",
          "Cluster 2",
          "Cluster 2",
          "Cluster 2",
          "Cluster 2",
          "Cluster 2",
          "Cluster 2",
          "Cluster 2",
          "Cluster 2",
          "Cluster 2",
          "Cluster 2",
          "Cluster 2",
          "Cluster 2",
          "Cluster 2",
          "Cluster 2",
          "Cluster 2",
          "Cluster 2",
          "Cluster 2",
          "Cluster 2",
          "Cluster 2",
          "Cluster 2"
         ],
         "xaxis": "x2",
         "yaxis": "y2"
        },
        {
         "alignmentgroup": "True",
         "bingroup": "x",
         "hoverlabel": {
          "namelength": 0
         },
         "hovertemplate": "Cluster=%{x}<br>count=%{y}",
         "legendgroup": "Cluster=Cluster 3",
         "marker": {
          "color": "#ab63fa",
          "opacity": 0.7
         },
         "name": "Cluster=Cluster 3",
         "offsetgroup": "Cluster=Cluster 3",
         "orientation": "v",
         "showlegend": true,
         "type": "histogram",
         "x": [
          "Cluster 3",
          "Cluster 3",
          "Cluster 3",
          "Cluster 3",
          "Cluster 3",
          "Cluster 3",
          "Cluster 3",
          "Cluster 3",
          "Cluster 3",
          "Cluster 3",
          "Cluster 3",
          "Cluster 3",
          "Cluster 3",
          "Cluster 3",
          "Cluster 3",
          "Cluster 3",
          "Cluster 3",
          "Cluster 3",
          "Cluster 3",
          "Cluster 3",
          "Cluster 3",
          "Cluster 3",
          "Cluster 3",
          "Cluster 3",
          "Cluster 3",
          "Cluster 3",
          "Cluster 3",
          "Cluster 3",
          "Cluster 3",
          "Cluster 3",
          "Cluster 3",
          "Cluster 3",
          "Cluster 3",
          "Cluster 3",
          "Cluster 3",
          "Cluster 3",
          "Cluster 3",
          "Cluster 3",
          "Cluster 3",
          "Cluster 3",
          "Cluster 3",
          "Cluster 3",
          "Cluster 3",
          "Cluster 3",
          "Cluster 3",
          "Cluster 3",
          "Cluster 3",
          "Cluster 3",
          "Cluster 3",
          "Cluster 3",
          "Cluster 3",
          "Cluster 3",
          "Cluster 3",
          "Cluster 3",
          "Cluster 3",
          "Cluster 3",
          "Cluster 3",
          "Cluster 3",
          "Cluster 3",
          "Cluster 3",
          "Cluster 3",
          "Cluster 3",
          "Cluster 3",
          "Cluster 3",
          "Cluster 3",
          "Cluster 3",
          "Cluster 3",
          "Cluster 3",
          "Cluster 3",
          "Cluster 3",
          "Cluster 3",
          "Cluster 3",
          "Cluster 3",
          "Cluster 3",
          "Cluster 3",
          "Cluster 3"
         ],
         "xaxis": "x",
         "yaxis": "y"
        },
        {
         "alignmentgroup": "True",
         "customdata": [
          [
           -0.7814136321611825,
           1.291857899918428,
           -0.3087536299114275,
           0.6076457071789333,
           0.9853567117389292,
           1.021873637126025,
           0.01597235056563185,
           -0.1675506480491342,
           -0.010497515810071138,
           -0.8120786378551651,
           0.5672731314947862,
           0.8634981625495958,
           0.09323516002237826,
           "Cluster 3"
          ],
          [
           1.944210330540385,
           -0.39693066242855274,
           1.1422023446453917,
           -0.9111100460840084,
           1.2170654936146104,
           0.09068779770332015,
           -1.6994257798468069,
           0.4330677704197611,
           0.9140052587511971,
           1.312197014788154,
           1.230164884979733,
           -0.6113212306753507,
           0.1122411271706001,
           "Cluster 3"
          ],
          [
           0.7737271942850237,
           0.5583096886968291,
           -0.38754156262171696,
           1.7425155702505057,
           0.9440731384642618,
           0.8976853323018419,
           -2.010448733479431,
           0.4629868510062046,
           -2.137264842892252,
           0.4303880905930336,
           0.7824242889897618,
           -1.082012415870226,
           2.14800466383088,
           "Cluster 3"
          ],
          [
           0.08216828915781445,
           1.497116234458012,
           -1.4250885832326616,
           -1.7942019522832904,
           1.468003071452232,
           0.04194747241600432,
           -0.7503648843395251,
           1.0047308452479657,
           1.3741960208133654,
           -0.05282514173556365,
           0.9125714080487082,
           0.5848160910172914,
           1.2561620508043105,
           "Cluster 3"
          ],
          [
           -0.9742162391098712,
           1.0972039538816352,
           1.3047432097157705,
           0.3451805508078412,
           1.044995415320115,
           0.7034336350048649,
           -0.8889670668056711,
           0.016708714507982513,
           -0.44228688439516334,
           0.8752953883044008,
           -1.864933680243179,
           -0.22158528635448133,
           0.5795029471022077,
           "Cluster 3"
          ],
          [
           1.2460027810520693,
           2.2372325481428117,
           0.7659318260514169,
           -0.5304187491114882,
           0.7321932315722929,
           -1.4515599324905297,
           0.3488573112236759,
           -1.1034026696276797,
           -0.4603819082185443,
           0.43168711785726455,
           1.512175957227479,
           -0.3725681987510619,
           0.666698036191383,
           "Cluster 3"
          ],
          [
           -2.0431617073565165,
           2.24194605854556,
           -0.46550212038048716,
           -0.23983433085871184,
           -0.6881970608059703,
           0.1422157026865618,
           0.7848245991545627,
           -0.41602690971338124,
           -2.212707318520881,
           -3.060339491585467,
           2.342956742956994,
           2.318394539313594,
           0.23799247943943064,
           "Cluster 3"
          ],
          [
           -0.1272644958364888,
           0.42361595128184276,
           -0.12044759514156224,
           -2.269666327436638,
           1.413250315575015,
           -0.7665966115287616,
           0.21132072212559733,
           0.9774566222247306,
           -0.049282664917787614,
           0.9990438713812826,
           -0.10524707048941519,
           1.0567567735331003,
           -0.36285391593005956,
           "Cluster 3"
          ],
          [
           1.6921815664216397,
           1.4915879746677785,
           0.2683905548899586,
           -0.3350308921214586,
           0.47211941761220744,
           -1.2594022493202035,
           -2.4151133428955562,
           0.23879614293883564,
           -0.5557651513726463,
           -0.6318006645278317,
           0.9386552069364633,
           0.32448235704124495,
           -0.05716176684275546,
           "Cluster 3"
          ],
          [
           -0.8775266399448775,
           0.920024493578276,
           0.5231324735719198,
           -0.16619932221266745,
           0.8521555384338989,
           0.013016950613789602,
           -0.44370059008595936,
           -0.7549510956940897,
           -1.3242330728269416,
           -0.33594660949408733,
           2.116989338274608,
           -0.8108261834527097,
           -0.3543662941185829,
           "Cluster 3"
          ],
          [
           -0.4089909222972139,
           0.12720756916340087,
           -0.2705127633510618,
           -2.104659523223167,
           -1.1719356676028045,
           1.415497484854069,
           -2.869949159003567,
           0.04988652914946619,
           1.2966606786441168,
           0.7842171133237128,
           0.12956217144137253,
           -0.24975253945202272,
           0.40913514431469633,
           "Cluster 3"
          ],
          [
           -1.3721685354739521,
           0.9023450777683548,
           -1.6176909062020832,
           -1.69670509623473,
           1.692229606559318,
           -0.04533306871530934,
           -3.0379535705465845,
           1.1025990649785433,
           0.721962608029797,
           -0.32479923558391083,
           1.1290178157149964,
           -0.747612967211209,
           0.6706310936495524,
           "Cluster 3"
          ],
          [
           0.0469115766744625,
           1.2487529616660613,
           -1.3277538767685695,
           -0.8840423392735199,
           0.5907423960142997,
           -0.9789524613079765,
           -2.1686374798971353,
           0.9531142907582448,
           -1.0447112126466882,
           0.799236053366963,
           1.5004390233108118,
           0.46425311917528556,
           1.1606797937330933,
           "Cluster 3"
          ],
          [
           -0.12799861198446547,
           1.370781907893247,
           0.9210595664414281,
           -1.3296386219245613,
           0.6829489195684747,
           0.5075288373475972,
           -0.7152856187277804,
           0.33960103339531644,
           0.5857520298406497,
           -0.20147298299895333,
           1.1800237237388511,
           0.00804521630763808,
           1.0937157251433451,
           "Cluster 3"
          ],
          [
           0.8273985604734009,
           0.9907123817775771,
           0.37455887168926233,
           0.4947152459897549,
           -0.7901220634018731,
           0.746251446510357,
           -0.5312601132958591,
           0.556040595500405,
           -1.4412895176959646,
           0.32579874769824363,
           0.22166586001102287,
           0.4570695830300234,
           0.10684864541324755,
           "Cluster 3"
          ],
          [
           -0.2806805025658953,
           1.4672581022056,
           -0.24223572555871642,
           -1.1256533627365304,
           1.0276370859624515,
           1.092070975129229,
           -0.7923320749193498,
           -0.042320789792960695,
           -0.29393099453485066,
           -0.6921860077933504,
           -1.0393013659294326,
           0.5636727666164189,
           0.14305230037547131,
           "Cluster 3"
          ],
          [
           1.1933179607264173,
           1.0319110379804854,
           1.6153696936815871,
           -0.7909666414325751,
           0.4804069537715999,
           -0.6086351176535658,
           -0.9553029123809565,
           0.27337867825262513,
           0.5037903313410516,
           0.8871701502797155,
           1.074198423177999,
           1.900209485294562,
           0.7339577587806467,
           "Cluster 3"
          ],
          [
           0.25646666007657465,
           -0.7737872039883567,
           0.10072872640926411,
           -0.44225734362100627,
           0.3587875974235888,
           1.655097509192135,
           -1.6873419175807436,
           0.4824350964243482,
           0.36584573455389036,
           0.46944500029613084,
           0.4627667647392561,
           -0.5429531484427654,
           0.32363181636898564,
           "Cluster 3"
          ],
          [
           -1.8095176053459652,
           1.2523988307430987,
           -1.6514840632662178,
           -0.12875962412336747,
           0.9604412871324016,
           -0.27378543076946515,
           -1.4613890170831576,
           1.2994214642428679,
           1.2035240685221216,
           -0.031197563059331416,
           1.5616177858262223,
           -0.283157943206716,
           -0.5984085449871833,
           "Cluster 3"
          ],
          [
           0.14356211484303152,
           1.3129412672538532,
           -0.6923572124857522,
           -1.4640649529374627,
           0.21940260729922084,
           2.230313113786705,
           -3.002861223727034,
           0.8141762373015576,
           0.3409592123657533,
           -1.7709748128607425,
           0.670234867410546,
           -0.48606905538218864,
           -1.5648535128633907,
           "Cluster 3"
          ],
          [
           -0.6414564595378839,
           0.9000184361431699,
           1.0232965640618092,
           -0.33326015343490245,
           1.6410280769303534,
           0.5705638366930634,
           -1.3191503984744262,
           0.5866861060893164,
           0.47272194638752096,
           -0.36622014784242396,
           -1.1709683595083464,
           -0.2701229918596473,
           0.4304657772115321,
           "Cluster 3"
          ],
          [
           1.0459294462426119,
           0.9113515230844292,
           -1.6568078967130409,
           -1.6674771957223498,
           2.5332088885594843,
           1.3568066130102183,
           1.0578759010839027,
           -0.4618865697003441,
           0.6684360404515239,
           -0.18111101093597815,
           1.8038970717195761,
           1.2153878940839202,
           1.03675612637261,
           "Cluster 3"
          ],
          [
           1.7651620453566903,
           2.5326332329819774,
           1.5270248186705035,
           -1.1272904373437371,
           2.193199375037421,
           1.1467908800638553,
           0.8364213625861819,
           0.6757680056311328,
           0.09944599361714959,
           -1.056209597726341,
           -1.7010144282253503,
           1.9948603797237607,
           -0.7979250437659222,
           "Cluster 3"
          ],
          [
           0.9616265956686997,
           2.3316396209260244,
           0.6370455380470648,
           -0.5464633569984608,
           0.9885120333814273,
           1.7845419473860715,
           0.46396470141941115,
           -1.588051796869804,
           0.9370966559594552,
           -0.2558070128556822,
           -0.012929279558723576,
           2.240369205697198,
           0.6095128720504686,
           "Cluster 3"
          ],
          [
           -0.6532937400685961,
           0.3684266260605531,
           -1.9732389389182043,
           -0.7161037886427014,
           1.2381613943802454,
           -0.48060732629406505,
           -0.9960828745901996,
           1.4099143858926233,
           -1.8052270719274113,
           0.18631255310826925,
           1.218521397973167,
           0.48026043474257485,
           0.258780766382977,
           "Cluster 3"
          ],
          [
           0.8838837315950453,
           -0.48099106340099657,
           1.1530002555083438,
           -1.1034753805672124,
           1.0736792849966899,
           0.5992297297259619,
           -1.1912470140229994,
           0.14962664991579658,
           -0.4897490921731047,
           0.7627964733257216,
           -1.02502668971614,
           1.0019008273087278,
           1.7580923769866277,
           "Cluster 3"
          ],
          [
           -0.5266510855919599,
           1.0424877269034742,
           0.7645838894985814,
           0.18788046973957906,
           0.1604767482752232,
           0.11766683801162732,
           0.8158399453027396,
           0.20952670087203584,
           -1.2026951730147075,
           -1.1199044199126376,
           1.1493917223384371,
           0.4796928240167555,
           0.3732033631827267,
           "Cluster 3"
          ],
          [
           -2.487104658348425,
           0.9729227208336656,
           1.710051282698017,
           -0.5924681768141947,
           -0.36719695103624517,
           -0.134535276051404,
           -1.495757500550355,
           0.5789665543378163,
           -0.15692028322888452,
           2.5235979738081697,
           0.6478505097965636,
           -0.05140387877985829,
           1.4456933973523411,
           "Cluster 3"
          ],
          [
           -2.5170240073457384,
           -0.7887197635980872,
           0.20993335049576176,
           0.28541923188104495,
           1.0108018493936664,
           1.2751639930863945,
           -1.5654770851806246,
           -0.5304193473023859,
           -1.1132985835573053,
           -3.0977951226763167,
           -0.03517169282881041,
           1.399895426117351,
           -0.2619065397870197,
           "Cluster 3"
          ],
          [
           0.12367073362945577,
           -0.017957955597248495,
           0.43756472814032493,
           0.0007395383575607237,
           0.610349588730317,
           0.823445975873425,
           -0.37801577469093234,
           1.4733836477805273,
           -1.331526067311101,
           -2.256957108192978,
           -0.8969867068837707,
           -0.3372462769949443,
           0.23888696646246146,
           "Cluster 3"
          ],
          [
           0.4238166839146955,
           1.9174187636974847,
           1.2983638923520051,
           -0.16165546045884385,
           0.6005450642527225,
           2.083340474828095,
           0.6613215573311447,
           0.26439094211052044,
           0.2763870886554754,
           -2.4519556807507015,
           1.2057880706840873,
           -0.11135017055023357,
           -0.5358589601131675,
           "Cluster 3"
          ],
          [
           -2.3200134042849596,
           0.47396427958537213,
           -0.16456863031269844,
           0.8164685723070267,
           0.0397775404970324,
           0.8101089525642771,
           -2.9056474073271263,
           1.5241202456913323,
           0.2899801200382666,
           -0.4521532111687895,
           0.8229182307977098,
           -1.735604731965113,
           1.6038083928940623,
           "Cluster 3"
          ],
          [
           0.858844682345955,
           1.012619974436941,
           -0.8614539703032347,
           -0.29034406667715656,
           1.1385661175528383,
           0.24186070886301056,
           0.09499975343352007,
           0.3160268724189538,
           -0.4523232687548331,
           -0.8937457141394082,
           0.7701285458097844,
           -0.8053019532150044,
           0.05819169148123326,
           "Cluster 3"
          ],
          [
           0.251966017704842,
           -2.46322897029859,
           2.220671183163439,
           0.7949513156317166,
           1.5627099515773903,
           1.490056476681587,
           -2.743822378530513,
           1.40358412377073,
           0.5022107592240563,
           0.8482550558688953,
           -1.5821892215376643,
           1.5284846788872022,
           0.10786916656547163,
           "Cluster 3"
          ],
          [
           0.614473328947585,
           1.4022451315643054,
           1.365473861942726,
           1.8283164435071273,
           1.0335768816138853,
           -0.6526650302886151,
           -2.9255775056997475,
           0.7812833637192204,
           0.9578117554028244,
           0.5903260639394611,
           -0.2096815985950324,
           -2.550950002754938,
           0.35995300361176735,
           "Cluster 3"
          ],
          [
           1.1919913602090122,
           0.529276678055352,
           -0.1581988931886343,
           -0.1962905015166169,
           0.990288680986185,
           0.14703217720161751,
           0.727413301615706,
           -0.29320010400237445,
           -2.026523625852591,
           -0.048999830812890714,
           1.2839149875758706,
           0.7698999009718053,
           -0.26500518756346164,
           "Cluster 3"
          ],
          [
           0.2740250433941952,
           0.07913770964229293,
           0.8319945955728423,
           0.5589598010879188,
           -0.2597637651949769,
           -1.4259296660573184,
           -0.49486965234710945,
           -0.07643400327865336,
           0.23940183285388808,
           -1.111716511564354,
           2.1196296117707822,
           -1.1016967027148579,
           0.8052502884020916,
           "Cluster 3"
          ],
          [
           1.4885028118854795,
           -0.16510576920400974,
           0.7852332353683443,
           0.5297287357297482,
           -0.045699726973883595,
           1.6089404260202294,
           -0.8130223408667882,
           -0.11459755447079722,
           -1.181765860502344,
           -1.7316680996704927,
           0.20004869764802705,
           1.1780996518690066,
           -0.43141905983459405,
           "Cluster 3"
          ],
          [
           0.9056622213252288,
           0.00232942274809408,
           1.0254472079069554,
           1.3948895612993857,
           0.770164921031943,
           1.0006673514895557,
           -0.7277608513657902,
           0.029425110828849552,
           -1.0989519235075274,
           -0.42327724143972967,
           0.2547968167467653,
           0.44489462144656994,
           -0.029384802053988034,
           "Cluster 3"
          ],
          [
           0.7103473038598006,
           1.3543253843764835,
           0.9296877001363776,
           0.5230668598259974,
           1.3003209007657848,
           -0.35519352277946875,
           -0.7372958748584675,
           0.11590629500372715,
           -1.2622779194300213,
           0.6090881532861316,
           -0.7321068681913299,
           -0.4894373677900901,
           0.07502553935969618,
           "Cluster 3"
          ],
          [
           -0.18351771988596266,
           0.1988973156750814,
           -0.5728636191808881,
           -1.157471924427965,
           0.02011629993212938,
           -0.7257516152846464,
           -0.6781377809038084,
           0.38995099523118704,
           0.426708612981978,
           -1.105787451730856,
           1.5685383294599273,
           -0.05950503461346308,
           -0.4972459287077369,
           "Cluster 3"
          ],
          [
           0.14811306516563208,
           0.6119935895117489,
           2.0360840428102094,
           1.7706468922310772,
           1.2204855842187374,
           -1.654647481506129,
           -1.4846786245482493,
           0.23274717200819722,
           -1.1939389858096805,
           -1.3803534591455084,
           0.6311714976382982,
           -2.4267564942874817,
           0.692848306889453,
           "Cluster 3"
          ],
          [
           -0.34610269131931487,
           -0.010871744047880539,
           1.5315134767293428,
           0.2760817899260655,
           -0.7573074168567312,
           1.829986929144625,
           -0.2906172396213947,
           0.7166388010839745,
           -0.7769936244077651,
           0.12510740382198743,
           1.4605400315449388,
           1.5449665299804356,
           0.4461433093707404,
           "Cluster 3"
          ],
          [
           0.8079456862949277,
           -0.3682986104953303,
           0.07238384623151053,
           -2.754087624052621,
           0.6221749247731871,
           0.08991902730274662,
           -2.9282527143838952,
           -0.7980987615036503,
           -0.07783666107200939,
           -0.2652531911032075,
           0.7364959049902456,
           -0.011078404355520611,
           2.08818531935349,
           "Cluster 3"
          ],
          [
           -0.23480085080594582,
           0.8196614740456234,
           0.460414353415516,
           -1.8055045549713054,
           0.22652507775826736,
           0.8036219477024393,
           -0.24427199850660122,
           1.0340597938105154,
           1.1077067532711031,
           -0.5572768656942122,
           0.12890679760446844,
           -0.322405439626282,
           1.813075481486895,
           "Cluster 3"
          ],
          [
           -0.5978904858569547,
           1.3500890949456763,
           1.5301521283310022,
           0.5970933940651403,
           2.214543548480316,
           1.9500209883766246,
           -1.3906921341076002,
           0.5081888366295816,
           1.1813125718782103,
           -1.2869570373867656,
           0.277466596961721,
           -1.1183786138055591,
           1.3648349090122112,
           "Cluster 3"
          ],
          [
           0.5482590629683834,
           0.547480446392341,
           0.1413829261834949,
           -1.1613654413315468,
           0.2545353552085744,
           -0.511317597229488,
           0.16135097186292865,
           1.2431941657658951,
           -3.4537539998440963,
           0.40186218053659684,
           0.658831497941433,
           1.9868196859261404,
           -0.19013848649636392,
           "Cluster 3"
          ],
          [
           0.838115819108892,
           0.9032119658535767,
           0.6243642980180792,
           -0.9800713876637309,
           0.3384985159218809,
           -0.14554390631569203,
           -0.41782651717521313,
           0.3950338698283182,
           0.740163599154763,
           0.5861774595717404,
           0.5958258661565048,
           -0.8919217619932501,
           0.4742114746435113,
           "Cluster 3"
          ],
          [
           0.23455074102356732,
           -0.11677376441112451,
           -0.4646117878808628,
           -1.0466223898853475,
           1.2900365042964255,
           0.0023072407764272796,
           -1.6245176649752826,
           1.082551930172578,
           -2.2419343181927123,
           1.4415937332527788,
           1.1484653738845108,
           -1.120319350330439,
           0.5477516117882166,
           "Cluster 3"
          ],
          [
           -1.195524685907561,
           0.3851319405349326,
           -2.3527043999584536,
           0.08112739782653511,
           -0.3793353634589482,
           -1.103906190987549,
           -2.2926330207423202,
           -0.09642059880022233,
           -2.9304557515289043,
           -0.17879813530446592,
           0.27974699033629213,
           -1.3044017155419443,
           -0.5271282194396567,
           "Cluster 3"
          ],
          [
           0.46671881495853274,
           0.5072832884896177,
           -0.09805558261553221,
           -0.2792028039575491,
           0.8768616851601223,
           0.9544387856555637,
           0.5189680633889084,
           -0.03418001043428873,
           0.14690145174648303,
           0.49070415061578815,
           0.9079033533396256,
           -0.09370475424798087,
           -0.1244272473728522,
           "Cluster 3"
          ],
          [
           0.6052381727663134,
           2.335844052789562,
           1.327454169902644,
           0.8250225260893074,
           0.29093565898423557,
           0.48211910088280374,
           -3.759960157592376,
           0.8738642463612202,
           -0.4599035003285115,
           -1.8535286100780484,
           0.36547755848260843,
           0.29799246798110846,
           -2.0393651870509375,
           "Cluster 3"
          ],
          [
           0.9930471850836778,
           0.45266744836965944,
           1.991312721838984,
           -0.5829293289294741,
           -0.39599648325670167,
           0.21666371209957433,
           -1.28085591536538,
           0.2608690487770254,
           -0.9600192746731601,
           -0.3065365582801422,
           -0.025598801481461594,
           -0.2715295917673117,
           0.558247267137429,
           "Cluster 3"
          ],
          [
           0.1870868097824259,
           1.0909986876948792,
           2.0258772461553236,
           -0.37882748638946034,
           0.41025650490330046,
           -0.35129812358260704,
           -1.5800907468955043,
           1.0460981585929117,
           -0.5915519422269357,
           -0.14329734531352065,
           0.4733579468654483,
           0.08961198338446634,
           -0.05266340197514897,
           "Cluster 3"
          ],
          [
           -0.5758916728920682,
           1.0147158910822074,
           0.7882420056289792,
           -0.7346640937027681,
           0.8792915984855552,
           -0.13788819044104408,
           -2.564009195565792,
           -0.6834402371104288,
           0.23884922528004113,
           0.536796837170136,
           1.152785243026882,
           0.529982077875957,
           -0.18958889981999097,
           "Cluster 3"
          ],
          [
           0.31632409095399605,
           0.5430793780353099,
           0.3237769756301531,
           -0.04119868302347986,
           -0.26132452648589416,
           -1.1962006274167811,
           -0.8865519073076265,
           0.32696224744601543,
           0.13321704240847576,
           0.2694833156107173,
           1.0845334315298418,
           0.21744151425625027,
           -0.1663054946195685,
           "Cluster 3"
          ],
          [
           0.4823438752846045,
           0.019724403069234165,
           -0.3088565838257975,
           -0.24892905050415923,
           0.7795034461173492,
           0.7766240664895482,
           -1.7648229505452362,
           -0.17023388245170784,
           0.21489441969771306,
           0.2174829245652832,
           -1.5264602723021408,
           -0.3996650231266488,
           -0.17068945695222248,
           "Cluster 3"
          ],
          [
           -0.20238956716057482,
           -0.4972591975788677,
           -0.8927915984139235,
           -0.2948639360099975,
           1.9435884819506293,
           0.5773992506039166,
           -0.6212226316500569,
           -0.16258429947063005,
           -0.48260838682129226,
           -0.5687770967303494,
           1.3694971276317878,
           1.0119834074955616,
           -0.6433170108324573,
           "Cluster 3"
          ],
          [
           -0.2514725278179727,
           0.3993517400098382,
           1.6372494836625602,
           0.17186784996906834,
           0.04260941042888819,
           1.0250126296215263,
           0.19899874605499304,
           -1.6050900755491269,
           0.6821736401975399,
           1.0894142832224738,
           0.9417828914414301,
           0.9730090663697398,
           0.6941249698457626,
           "Cluster 3"
          ],
          [
           -0.48419007081846394,
           -0.2928954761737647,
           2.2423865031174963,
           -1.1732751493548463,
           0.4962112689419309,
           0.6704535841746406,
           0.13134514698573937,
           1.5850860668409668,
           -0.8587678778045228,
           -0.07474265701155369,
           0.2862862126499072,
           -1.0693596834983075,
           0.07128583223994596,
           "Cluster 3"
          ],
          [
           -0.2321477438097011,
           1.1841624356373612,
           -0.9611502497556423,
           0.08504614447751326,
           -0.2904515367327773,
           -0.8572593680602478,
           -1.5106055391667859,
           -0.09043946035307597,
           0.45007791861864826,
           1.286136843690681,
           -0.08575581701446833,
           1.0168453337039478,
           0.10929897574977417,
           "Cluster 3"
          ],
          [
           -0.027671736496154186,
           1.3286536420220674,
           -0.004068520707896018,
           0.02712339871894767,
           -0.567457111784357,
           0.5194692286668046,
           -0.31182207689171243,
           -0.08371280328666723,
           1.4761755203462494,
           -0.5764298383114851,
           1.659299207325104,
           -0.1742749063831316,
           0.1663806098613382,
           "Cluster 3"
          ],
          [
           2.4625203841151624,
           0.9456097349869955,
           -0.2899209207121127,
           -0.43826928250948616,
           1.4344707840544888,
           -0.8500153238100737,
           -1.129309939148997,
           1.1100308078078074,
           1.4803261613275118,
           -0.18321924831883116,
           0.8403520830174829,
           0.0693830169346865,
           -0.7781818620348805,
           "Cluster 3"
          ],
          [
           -0.4687110798620175,
           -0.9566127584864375,
           -1.2278009530935365,
           -1.0812074999149426,
           0.42198569810373127,
           1.5539865901262806,
           0.029221998146014682,
           0.35045682677676177,
           -1.6024912800717683,
           -0.3643314356222653,
           0.4169415213051866,
           1.0865562221013865,
           1.1250070309772777,
           "Cluster 3"
          ],
          [
           0.7638281531594131,
           1.4022168082882387,
           -1.0777772000629138,
           -1.919670289448561,
           -0.43844418679525127,
           1.3379269379119232,
           -0.5319292326303441,
           0.2996754627524936,
           1.0852456510089474,
           1.184720751790046,
           0.8397461479608603,
           1.832626834459478,
           -0.59092210360283,
           "Cluster 3"
          ],
          [
           -0.8231108890751612,
           -0.334959536148046,
           0.421497221845824,
           0.06501164509231191,
           1.4066831512303157,
           0.5928514152991636,
           -0.8643388966017383,
           -0.44789897496993064,
           0.3643846473973124,
           -0.21162315337702517,
           2.1326413469045558,
           0.7074492587533343,
           0.6370670959804063,
           "Cluster 3"
          ],
          [
           -0.4893826350906889,
           0.6405940079317739,
           1.7324259329361593,
           -0.6693644099038868,
           0.11180013770227215,
           0.3994194000715749,
           -1.071547991616914,
           0.3227944400270034,
           1.5885649846351142,
           -0.6334144862143123,
           -0.06622645017498535,
           -0.347941676500973,
           -0.9699202099905962,
           "Cluster 3"
          ],
          [
           -0.4202443282721627,
           0.7981246654178472,
           -0.026095975462142658,
           -0.06173752491508369,
           -0.14364523981848776,
           0.5203622160021212,
           -1.2537167119279826,
           -0.18469038154123407,
           0.3093316827970762,
           -1.3476657394160134,
           1.4510077949417055,
           1.3019837534387981,
           0.49008577256009667,
           "Cluster 3"
          ],
          [
           -0.4272858983457901,
           1.0584848238950186,
           0.47727258518125676,
           0.6074051648783791,
           0.6063921424423264,
           -0.03683010934736837,
           -0.6680267708512557,
           -0.8773933555097341,
           -0.48037233439298743,
           0.4536403086121394,
           -0.024217531034361327,
           -0.20021044414658182,
           0.09725591224914824,
           "Cluster 3"
          ],
          [
           0.8731205237021274,
           0.14820532512853515,
           0.0981606570182343,
           -0.9266652431883597,
           1.2878297875333313,
           -0.3466174712318194,
           -0.7211870689464585,
           0.5120866198848764,
           0.38496951475171826,
           -0.7862481091014145,
           0.3055486927605433,
           1.3075663579204138,
           -0.2108832338924755,
           "Cluster 3"
          ],
          [
           -1.7519742721831733,
           0.5594570433975649,
           0.7927306414378855,
           0.002069604137625596,
           0.7293756964238505,
           -1.4159824667178713,
           -0.13772203450563694,
           1.5092808914417524,
           0.9432780826911766,
           0.16859522946442,
           0.7974791630690159,
           1.3326902550786188,
           0.44029395237982216,
           "Cluster 3"
          ],
          [
           0.965863575429149,
           -0.39261457276527756,
           0.36297546523620455,
           0.1296480559938796,
           -0.3846187017890913,
           1.191431090747136,
           -1.9217338197925398,
           -0.6778959628195886,
           -0.11253522361000039,
           1.06690695130887,
           1.4207201450040545,
           -1.1894115142899417,
           0.934335788578484,
           "Cluster 3"
          ],
          [
           -0.7439244393649985,
           0.7380922229000065,
           0.03023223613092773,
           0.8168297659753283,
           -0.678256944341099,
           -0.046042700718762146,
           0.15474640478162013,
           0.3048049950976096,
           -0.8385272547996002,
           -1.1904090943508066,
           1.6760671867996868,
           1.968440081712687,
           -0.5105048623524205,
           "Cluster 3"
          ],
          [
           0.7137221628179744,
           1.8270973156414188,
           1.1938203678867685,
           -0.6747239253885691,
           -0.19296026106689862,
           1.7776463413793284,
           1.5273637202393056,
           -0.9779055643570606,
           0.16398998442304227,
           0.16933678407131145,
           0.41696463189446686,
           0.3377719265202793,
           0.10256485679435447,
           "Cluster 3"
          ],
          [
           -0.012854037652468196,
           0.6953370188146504,
           -0.8926329842184918,
           -1.967851779942851,
           0.5146573218590484,
           -0.19774950583490083,
           -1.044078339096519,
           -0.03807924605424057,
           0.1226847245323796,
           -0.04273453788254963,
           0.610467595380758,
           1.306630834387742,
           0.5168301314022035,
           "Cluster 3"
          ],
          [
           -0.7182812508549592,
           0.9898767000570008,
           -1.2315740800694788,
           -0.7139041548094421,
           1.2935016570733444,
           -1.3009725629557531,
           -1.2866944525745116,
           -0.6296205582058448,
           -0.1268348263616673,
           0.1617004920118785,
           0.019427524723163395,
           -1.8403228594261456,
           0.4584362004182207,
           "Cluster 3"
          ]
         ],
         "hoverlabel": {
          "namelength": 0
         },
         "hovertemplate": "Cluster=%{customdata[13]}<br>FAC1=%{customdata[0]}<br>FAC2=%{customdata[1]}<br>FAC3=%{customdata[2]}<br>FAC4=%{customdata[3]}<br>FAC5=%{customdata[4]}<br>FAC6=%{customdata[5]}<br>FAC7=%{customdata[6]}<br>FAC8=%{customdata[7]}<br>FAC9=%{customdata[8]}<br>FAC10=%{customdata[9]}<br>FAC11=%{customdata[10]}<br>FAC12=%{customdata[11]}<br>FAC13=%{customdata[12]}",
         "legendgroup": "Cluster=Cluster 3",
         "marker": {
          "color": "#ab63fa"
         },
         "name": "Cluster=Cluster 3",
         "notched": true,
         "offsetgroup": "Cluster=Cluster 3",
         "showlegend": false,
         "type": "box",
         "x": [
          "Cluster 3",
          "Cluster 3",
          "Cluster 3",
          "Cluster 3",
          "Cluster 3",
          "Cluster 3",
          "Cluster 3",
          "Cluster 3",
          "Cluster 3",
          "Cluster 3",
          "Cluster 3",
          "Cluster 3",
          "Cluster 3",
          "Cluster 3",
          "Cluster 3",
          "Cluster 3",
          "Cluster 3",
          "Cluster 3",
          "Cluster 3",
          "Cluster 3",
          "Cluster 3",
          "Cluster 3",
          "Cluster 3",
          "Cluster 3",
          "Cluster 3",
          "Cluster 3",
          "Cluster 3",
          "Cluster 3",
          "Cluster 3",
          "Cluster 3",
          "Cluster 3",
          "Cluster 3",
          "Cluster 3",
          "Cluster 3",
          "Cluster 3",
          "Cluster 3",
          "Cluster 3",
          "Cluster 3",
          "Cluster 3",
          "Cluster 3",
          "Cluster 3",
          "Cluster 3",
          "Cluster 3",
          "Cluster 3",
          "Cluster 3",
          "Cluster 3",
          "Cluster 3",
          "Cluster 3",
          "Cluster 3",
          "Cluster 3",
          "Cluster 3",
          "Cluster 3",
          "Cluster 3",
          "Cluster 3",
          "Cluster 3",
          "Cluster 3",
          "Cluster 3",
          "Cluster 3",
          "Cluster 3",
          "Cluster 3",
          "Cluster 3",
          "Cluster 3",
          "Cluster 3",
          "Cluster 3",
          "Cluster 3",
          "Cluster 3",
          "Cluster 3",
          "Cluster 3",
          "Cluster 3",
          "Cluster 3",
          "Cluster 3",
          "Cluster 3",
          "Cluster 3",
          "Cluster 3",
          "Cluster 3",
          "Cluster 3"
         ],
         "xaxis": "x2",
         "yaxis": "y2"
        },
        {
         "alignmentgroup": "True",
         "bingroup": "x",
         "hoverlabel": {
          "namelength": 0
         },
         "hovertemplate": "Cluster=%{x}<br>count=%{y}",
         "legendgroup": "Cluster=Cluster 4",
         "marker": {
          "color": "#FFA15A",
          "opacity": 0.7
         },
         "name": "Cluster=Cluster 4",
         "offsetgroup": "Cluster=Cluster 4",
         "orientation": "v",
         "showlegend": true,
         "type": "histogram",
         "x": [
          "Cluster 4",
          "Cluster 4",
          "Cluster 4",
          "Cluster 4",
          "Cluster 4",
          "Cluster 4",
          "Cluster 4",
          "Cluster 4",
          "Cluster 4",
          "Cluster 4",
          "Cluster 4",
          "Cluster 4",
          "Cluster 4",
          "Cluster 4",
          "Cluster 4",
          "Cluster 4",
          "Cluster 4",
          "Cluster 4",
          "Cluster 4",
          "Cluster 4",
          "Cluster 4",
          "Cluster 4",
          "Cluster 4",
          "Cluster 4",
          "Cluster 4",
          "Cluster 4",
          "Cluster 4",
          "Cluster 4",
          "Cluster 4",
          "Cluster 4",
          "Cluster 4",
          "Cluster 4",
          "Cluster 4",
          "Cluster 4",
          "Cluster 4",
          "Cluster 4",
          "Cluster 4",
          "Cluster 4",
          "Cluster 4",
          "Cluster 4",
          "Cluster 4",
          "Cluster 4",
          "Cluster 4",
          "Cluster 4",
          "Cluster 4",
          "Cluster 4",
          "Cluster 4",
          "Cluster 4",
          "Cluster 4",
          "Cluster 4",
          "Cluster 4",
          "Cluster 4",
          "Cluster 4",
          "Cluster 4",
          "Cluster 4",
          "Cluster 4",
          "Cluster 4",
          "Cluster 4",
          "Cluster 4",
          "Cluster 4",
          "Cluster 4",
          "Cluster 4",
          "Cluster 4",
          "Cluster 4",
          "Cluster 4",
          "Cluster 4",
          "Cluster 4",
          "Cluster 4",
          "Cluster 4",
          "Cluster 4",
          "Cluster 4",
          "Cluster 4",
          "Cluster 4",
          "Cluster 4",
          "Cluster 4",
          "Cluster 4",
          "Cluster 4",
          "Cluster 4",
          "Cluster 4",
          "Cluster 4",
          "Cluster 4",
          "Cluster 4",
          "Cluster 4",
          "Cluster 4",
          "Cluster 4",
          "Cluster 4",
          "Cluster 4",
          "Cluster 4",
          "Cluster 4",
          "Cluster 4",
          "Cluster 4",
          "Cluster 4",
          "Cluster 4",
          "Cluster 4",
          "Cluster 4",
          "Cluster 4",
          "Cluster 4",
          "Cluster 4",
          "Cluster 4",
          "Cluster 4",
          "Cluster 4",
          "Cluster 4"
         ],
         "xaxis": "x",
         "yaxis": "y"
        },
        {
         "alignmentgroup": "True",
         "customdata": [
          [
           0.9361424489999619,
           -0.8258158281354318,
           0.8210339810388187,
           -0.48584077361042727,
           -0.9270433504611367,
           0.9829147029339982,
           -1.9402107552437453,
           -0.783499113830415,
           -0.8229262409338172,
           0.6779484700582823,
           -0.4579454673317945,
           -0.34866544142286243,
           -1.5582376745735989,
           "Cluster 4"
          ],
          [
           -0.8021185729847669,
           0.850168761033988,
           1.088492385179951,
           0.9337960692735114,
           -0.8465963880401455,
           0.4648637660317187,
           1.042793700168515,
           -1.5182218373546885,
           1.1922475679115883,
           -1.2784327998530314,
           0.23330548847038393,
           -0.580572081746452,
           -1.4705070343198696,
           "Cluster 4"
          ],
          [
           0.907832558569684,
           0.332130334472944,
           -1.1905857749767554,
           -0.7144070380581198,
           0.8891891373534213,
           0.1998971919951755,
           0.2447876817739735,
           -0.9213624902225668,
           -0.07002440052143757,
           -0.09563579190702523,
           -0.7926406801468694,
           1.0173599798628323,
           -0.6825588197322474,
           "Cluster 4"
          ],
          [
           -0.4063465171978302,
           -1.100478470887157,
           -0.5933792812495349,
           -1.5672703952007447,
           1.9611348175213414,
           -1.568589236120392,
           1.6724412860515894,
           -0.30458519144461227,
           2.0251838579267054,
           -1.7209096806003221,
           1.5261081289576341,
           -0.1954191791968197,
           0.7292235715489408,
           "Cluster 4"
          ],
          [
           -0.48513854881369,
           -0.49208474112422074,
           -0.47682335529786757,
           -1.074754342445227,
           0.982015740963814,
           0.06148450417495174,
           0.07330801574090566,
           -0.7435209523436206,
           -0.8875823602350232,
           -0.6640152559697373,
           0.5521137879722364,
           -0.8311435718006887,
           0.030717973368124946,
           "Cluster 4"
          ],
          [
           0.4089763491531486,
           -1.873326601056437,
           0.6476284616621147,
           -0.5883802467255942,
           1.0901466737380503,
           2.127641861511535,
           -0.8111748654975331,
           -1.353359521497806,
           0.6541357082804922,
           -0.14689298577789967,
           -1.7637152243048448,
           0.9303719771853752,
           -0.11203830291520335,
           "Cluster 4"
          ],
          [
           0.3901478068997687,
           -0.21159495336720044,
           0.9164417732779504,
           -0.9819688204179342,
           -0.10737972774397439,
           0.26209285298163737,
           0.9966782580281399,
           -0.7743430931102014,
           0.0150164305318529,
           0.8424857118548632,
           -1.1808147038511463,
           -2.426754628302269,
           0.11712842168520811,
           "Cluster 4"
          ],
          [
           -0.6557456536409654,
           -0.4746344410992047,
           -1.4820131706594837,
           -1.3170508180586855,
           -0.7226892730368204,
           0.43444105116844217,
           -0.1444523711026627,
           -0.11313726105509421,
           -0.28405657029064335,
           -1.3561078497979964,
           -0.13040998631881992,
           -1.7073641333456935,
           -0.9962100616420337,
           "Cluster 4"
          ],
          [
           1.1112970551743917,
           -0.05234434678101125,
           -0.104080949293164,
           0.07644634206141973,
           -0.3508227152817609,
           0.31961657071565797,
           0.44044676673729993,
           -1.3296846282793313,
           0.8817547061579335,
           -1.25004972087087,
           -0.3341987977954189,
           0.3457395641350802,
           -0.15683207609494362,
           "Cluster 4"
          ],
          [
           1.4450707862370662,
           0.31097798159496376,
           0.41170988364293165,
           -0.30196080772277367,
           0.22640871765645462,
           0.6978814849839796,
           1.2365942799675322,
           -0.5964134145555694,
           -1.591169266545191,
           0.09004330819155962,
           1.005822706169329,
           -0.642599464345091,
           0.6106118829853548,
           "Cluster 4"
          ],
          [
           1.3707593741744164,
           -0.09095517611702943,
           -1.7398540440472412,
           -0.8456455425408395,
           0.933222498348764,
           0.16055285482014708,
           -0.6771722946648787,
           -0.11736085599834346,
           0.11528703309665157,
           -1.134338432169516,
           -1.0638312401690657,
           -1.0310525934082146,
           0.3403835876230977,
           "Cluster 4"
          ],
          [
           1.7052010705046636,
           -0.5911675540765677,
           1.3679661274142256,
           -2.045389986141741,
           1.641470933858183,
           -1.6540633465014578,
           0.5485247483455777,
           -0.5825437224916876,
           -1.8235609204556922,
           -1.4634520352538625,
           -1.3970361642494857,
           -0.44703974876695673,
           0.29259496163362186,
           "Cluster 4"
          ],
          [
           -1.575632055650651,
           -0.3637898930367255,
           0.16381918324832134,
           -0.18134018415980638,
           0.06858101884594081,
           -0.12234289366939709,
           -0.7780100246850187,
           -0.8813349987830646,
           0.8716375944508034,
           -0.3045209542213572,
           -0.6292132805036363,
           -0.6928524164964797,
           -1.500781425607556,
           "Cluster 4"
          ],
          [
           -0.11792365217465366,
           0.11835358934971052,
           -0.4162715057633929,
           -0.18622863025588765,
           -0.8293054316312451,
           0.1428544075287811,
           -0.9539868156454953,
           -1.0373850501712552,
           -0.3658985278002369,
           -0.3523071212294001,
           -1.9091764356854868,
           0.22551532677960875,
           0.991512203562752,
           "Cluster 4"
          ],
          [
           -0.5354837757924581,
           0.2789552465543858,
           0.017118054014245605,
           -1.472766933320225,
           1.6598198951272272,
           -0.6826123856426933,
           1.783776403604943,
           -2.1785001455856268,
           1.2394221695025456,
           0.42022164690767094,
           -0.41754287279173535,
           -0.6635791963713453,
           0.591851008737843,
           "Cluster 4"
          ],
          [
           -1.3200349468167263,
           -1.1992473165552677,
           0.33256158788622747,
           -1.358315321412214,
           -1.042847485610115,
           0.8294405814200235,
           -0.7709818920033623,
           -2.0518871545429396,
           -0.5514118002288264,
           -0.1755501725747036,
           -0.6905342570632378,
           0.237412304748884,
           1.1951002068657006,
           "Cluster 4"
          ],
          [
           0.09701649950217787,
           -1.5923631798083104,
           -1.4364461133449655,
           -1.0381384737250507,
           0.0725042834975447,
           0.5873903776808846,
           -0.6398679725641576,
           0.20241296661882235,
           1.276196821287064,
           0.13022376659291282,
           -1.2738395679591583,
           -0.4851233969908544,
           0.7155961306000277,
           "Cluster 4"
          ],
          [
           -0.11834427913742655,
           -0.5580398539520417,
           -0.41326686682801317,
           -0.16859901025136914,
           -0.48696999709918865,
           -0.3430920935661475,
           0.15542798907141434,
           -1.2305313913327192,
           -0.12459254273242963,
           0.28375412220165486,
           0.1641624841287694,
           -0.022386773607112807,
           -0.31792784847585215,
           "Cluster 4"
          ],
          [
           -0.6712672124269975,
           -0.061097501443899624,
           1.1162316394295666,
           0.5901462442169148,
           1.146061897637317,
           -1.4622930468752868,
           -0.06839757099561784,
           -1.2024016057993603,
           -0.010663511359825963,
           -1.547785919929985,
           -0.39117964372375097,
           -0.7130373075856231,
           -2.162153136947133,
           "Cluster 4"
          ],
          [
           -0.31173857172826525,
           -1.4260912592201485,
           -0.2613254105637798,
           -0.3990099334093827,
           0.9059312672860819,
           0.1670431843275742,
           0.36779431967062604,
           -0.6269590917724243,
           -0.5505640400371151,
           -0.3142923514991049,
           0.1959861865079173,
           -0.5165782410404444,
           -0.3382580268188847,
           "Cluster 4"
          ],
          [
           0.7950659473081623,
           -1.6599062406063538,
           0.4086491647032188,
           -1.012549380902825,
           1.2397311476589816,
           0.8993767950770123,
           0.910240291685469,
           -0.3778432063892443,
           -3.0420922976572586,
           -0.8629459463548054,
           0.500099644987095,
           -0.21503732678910764,
           -0.1906149139628164,
           "Cluster 4"
          ],
          [
           0.05776783139928011,
           -0.853640564385994,
           -0.9137288885720813,
           -0.4257650833946498,
           -0.2072579976197974,
           -0.0929825136056103,
           -1.8712403349310403,
           -0.47803587688982,
           -0.760705549586557,
           -0.27428753424224633,
           -0.06255064995713618,
           -0.32348695774657826,
           -0.21213233035723222,
           "Cluster 4"
          ],
          [
           -0.12740179353045836,
           -0.2753181052346997,
           0.9389384892024975,
           -0.8457010089354314,
           0.8640285678798186,
           0.4448911249865128,
           -0.07766643603309578,
           -0.09265020916040789,
           -1.0216877507440854,
           -0.9048289574718484,
           -0.5380179288240189,
           0.5693453332926265,
           0.002049400930029218,
           "Cluster 4"
          ],
          [
           -0.8993142074745001,
           0.8454400713685083,
           1.029185306269874,
           1.2272662824669918,
           1.5491176078529418,
           -2.013624635367966,
           0.20566387011631754,
           -1.4932526576960543,
           1.4296160952876784,
           -2.947239909126428,
           -2.2575351829707864,
           -0.8492259877226782,
           -2.3281247278913932,
           "Cluster 4"
          ],
          [
           0.06883274416452194,
           1.0012221408425597,
           -1.0270232576987335,
           -0.9620360295159506,
           0.725708317638782,
           -0.9648092989235092,
           0.4031229726093611,
           -0.26523330965129827,
           -0.9337150690127992,
           -1.0877210432110838,
           -1.0835133217506898,
           -0.8545669660764329,
           -0.926658138388815,
           "Cluster 4"
          ],
          [
           0.5245985161825586,
           0.1274704361378851,
           0.0013756008500777604,
           -0.3407039969397036,
           -1.525466156664291,
           0.7416438516656918,
           0.4411018182523227,
           -1.2820826926215172,
           -2.2886411055384253,
           0.5085893236683829,
           -0.7041703364301034,
           -0.9932958490496379,
           0.4544804339124577,
           "Cluster 4"
          ],
          [
           0.811482938517783,
           0.1873671659515495,
           0.576734801624039,
           0.30394881260741535,
           -0.2973273657525002,
           0.8181519460487517,
           0.741348083062416,
           -1.2957849344466297,
           -0.2885944638740544,
           1.194872150493076,
           -1.2501846937033474,
           1.006464041088671,
           0.1280269471805336,
           "Cluster 4"
          ],
          [
           0.00023933919760027843,
           -2.41090336543943,
           0.7637099064480025,
           1.3479663342161268,
           -0.7070618044032106,
           -0.7520565289976534,
           -0.7229056669505933,
           -0.11278675460892158,
           -0.7036270546935921,
           -0.7655924245818675,
           -0.3178568073142608,
           0.46704405769850166,
           -0.40118915052427423,
           "Cluster 4"
          ],
          [
           -0.262433691224295,
           -0.8294485885559034,
           1.0038259954289523,
           -0.22870859835146432,
           0.12541018444630517,
           -0.7254642280349491,
           0.7494095084731818,
           0.3802398415214366,
           -0.3425227896037884,
           -1.4624678756835603,
           0.07242366540502126,
           -0.08514970840236627,
           -0.07612559781231225,
           "Cluster 4"
          ],
          [
           0.7043027857275385,
           -0.2646006933154993,
           -0.5912304695653443,
           -0.7900753935952717,
           0.32983870068960025,
           0.03386661386907809,
           -0.5261888291831462,
           -0.5178605956528616,
           -0.8612883902748395,
           -1.5667828599529838,
           0.7762003160639223,
           0.6479641103743783,
           -0.9697045626936248,
           "Cluster 4"
          ],
          [
           -0.3086577228625308,
           -1.6054081248094048,
           -0.3401719799031792,
           -2.1116275358106,
           0.8277993102016742,
           -0.3971068761899387,
           0.7796224190622201,
           -1.2937189955513844,
           -0.3292774527073341,
           -0.4399099685047925,
           -1.4552609360792188,
           0.07870477410547325,
           0.3140585967442394,
           "Cluster 4"
          ],
          [
           -0.003869316309322331,
           0.08686222685430196,
           -0.13056544226447053,
           1.438798332092962,
           -0.24323521392697747,
           -0.8252506117988287,
           -1.5652989860549087,
           -1.9518016160064515,
           1.737065153909187,
           -1.1741798570676818,
           -0.05293401702790895,
           -1.315448060797652,
           -0.8214024693853819,
           "Cluster 4"
          ],
          [
           0.604662885999015,
           -0.37579706560781834,
           0.3493213945846202,
           0.2713172112713168,
           0.7355227379687022,
           0.6173133751771455,
           -0.30302691316792074,
           -0.32661215028431934,
           0.45517773401784495,
           0.332663455160879,
           -0.542298720002132,
           -0.32034253113872596,
           0.47323414860115964,
           "Cluster 4"
          ],
          [
           -1.8299179737801732,
           -0.7628624734940175,
           -0.8142458906903117,
           -0.9543207313133947,
           1.0351169854677924,
           -0.10347795071152795,
           0.9961817517455261,
           -0.7822074743514783,
           1.5277969840289043,
           -0.1398650448403071,
           -0.665743963040935,
           0.7654851002898101,
           0.7885267797516209,
           "Cluster 4"
          ],
          [
           -0.8160659999297561,
           0.22043044336949125,
           -0.00034238041129331325,
           0.33951819178743,
           -0.257114616018269,
           -1.0330739412486838,
           -0.5354496075219964,
           -1.0752984748588013,
           -0.6435139357683937,
           -0.39133280757802347,
           -0.6170925703208912,
           -0.47830212791169774,
           -0.5450095210101685,
           "Cluster 4"
          ],
          [
           0.29285148403732164,
           -1.2766927965488395,
           -1.153309457744396,
           -1.4294460229911004,
           -0.6256281117771252,
           1.7564174656176328,
           0.6832429180889229,
           -0.08718177735677964,
           2.12875363464674,
           -0.8569687640871577,
           -1.6857840001487472,
           -0.1587237662291809,
           -0.4654004161352122,
           "Cluster 4"
          ],
          [
           0.393388122488478,
           -0.2794341543931093,
           -0.4930545965241217,
           -0.5357805643613756,
           0.7903323308402681,
           -1.3960957865319141,
           -0.3812103907995141,
           -1.7844102355850209,
           -2.3200299816039363,
           0.5811102956687455,
           0.49539644984707526,
           0.10443453853817776,
           0.4026250620937606,
           "Cluster 4"
          ],
          [
           0.8704856973971593,
           0.23239289012103853,
           1.2855615509161975,
           0.8993781807401833,
           1.214112209463359,
           -0.6105209103225332,
           -0.921337794807505,
           -2.797524054530595,
           0.8121471341072543,
           -0.7478028243814326,
           0.398005224223434,
           0.28243116959150294,
           1.381353707777207,
           "Cluster 4"
          ],
          [
           0.09732761652798114,
           -0.5995784541629716,
           0.9986316961439238,
           -0.6393480971169014,
           0.020909422346631026,
           -0.31891033153715365,
           0.5026206411920743,
           -0.43054883626510654,
           0.19048194015925457,
           -1.3378158151136794,
           -0.8332158362474829,
           -0.20039744390360648,
           0.6318011560425172,
           "Cluster 4"
          ],
          [
           -0.7782321862800349,
           1.6399354756454383,
           0.6590357897565728,
           0.7219295888730279,
           1.3591989357780758,
           -0.2880442304843182,
           2.7899897256638972,
           -2.527895561940054,
           0.9913144515205868,
           -0.7337361648899747,
           -0.9483230971259743,
           -1.646320373738656,
           0.21740166029335564,
           "Cluster 4"
          ],
          [
           1.2842351802647272,
           -0.271182595700552,
           -0.03815462430356842,
           1.177842981329674,
           -0.8720704297329975,
           -1.1074619906045986,
           -0.3451386780301968,
           -0.9576430033128572,
           -0.9233683148735996,
           -0.37663152421810886,
           -0.28735672214048535,
           0.41274937942974677,
           -0.46968680460776946,
           "Cluster 4"
          ],
          [
           0.032755208960812666,
           -2.1885904231267377,
           0.3662791224162131,
           -2.650050028501709,
           -0.0631285106045767,
           -2.6515655965134894,
           0.04239609979075464,
           1.2146610861787985,
           -2.101446928800941,
           -2.0007599618054974,
           0.21211387827211325,
           1.7112799102092002,
           0.40544932063273376,
           "Cluster 4"
          ],
          [
           0.49810304412102857,
           -0.9002385393654891,
           -0.851125644560023,
           0.4916970640962726,
           -0.46183931703007775,
           -0.19692675996942047,
           -1.287787335566711,
           -3.7843427483643945,
           -1.431430469541336,
           0.7434792739429525,
           -0.7774308999869404,
           1.637660694706748,
           -0.3530721478322241,
           "Cluster 4"
          ],
          [
           -0.09701999876634751,
           -0.03776452433957468,
           -0.2963246109609419,
           0.12732139871639928,
           -0.0745842920243866,
           -1.327298821314041,
           -0.6675732852793612,
           -1.7865699028360944,
           -1.1831309995350823,
           0.25651160498953735,
           -0.6201451226801775,
           0.7416744254979787,
           -0.04572628620910885,
           "Cluster 4"
          ],
          [
           -0.3963796225616083,
           -1.3217208266930114,
           -0.9819201214847649,
           -0.0797536944176171,
           -2.3381039700710384,
           1.547228210737844,
           1.1066808997659234,
           -1.7397359766927867,
           0.012323141180440107,
           -0.39160683221029485,
           1.063352470298686,
           -1.0088006407871852,
           1.5809490967485655,
           "Cluster 4"
          ],
          [
           0.5901772743319594,
           0.12273002906291122,
           0.31450735375445504,
           0.8194924241591184,
           -0.5079726494559114,
           0.2773439555655835,
           -0.6689174100193237,
           -1.804872883434029,
           0.8851534376803224,
           1.1327485480338941,
           0.24986479840506226,
           0.556215470338903,
           -0.022741091430774085,
           "Cluster 4"
          ],
          [
           -0.8668268570333555,
           0.5274927270110847,
           0.3065070836958114,
           0.6364097725657208,
           -0.7819282714872208,
           0.16196868262286543,
           0.0022562035666736035,
           -1.5049484149098928,
           -1.22336108810341,
           -0.406643010324438,
           -0.6519630285476637,
           0.043088140071038165,
           -0.003677278416098171,
           "Cluster 4"
          ],
          [
           1.3165313232948581,
           -1.0109693918499734,
           1.4047319095891242,
           -0.6998535706270816,
           0.458392811226259,
           0.7578050559144462,
           1.7758121225518624,
           -2.385499538182033,
           -0.0788204792283391,
           -1.3298251129922156,
           0.11726972811048539,
           0.0025252865282740632,
           0.09600806364949167,
           "Cluster 4"
          ],
          [
           -0.048081046769168925,
           -0.7852680209495028,
           0.31614844881501564,
           1.1835075971985918,
           0.011047676152905986,
           -1.1054885415898545,
           0.1498414839964817,
           -1.4483161353824365,
           0.8884043555484615,
           0.11933124837663572,
           0.7836340667597251,
           0.5124898563718585,
           -0.48825561780106047,
           "Cluster 4"
          ],
          [
           0.4769279356653913,
           0.15517336912218804,
           1.19902997776159,
           0.44972178472121654,
           -0.7925413972248428,
           -0.3084008885343789,
           0.8287969862052513,
           -2.517194843218785,
           2.0048208071496747,
           1.987328206898397,
           1.1324198243395787,
           -1.5488881945089663,
           1.143938055193358,
           "Cluster 4"
          ],
          [
           -0.25336748445886575,
           -0.060570896489282225,
           0.3663114746305525,
           -1.6698736546579729,
           -0.1807691372021495,
           1.1583220996163115,
           0.47187439146735594,
           -1.419460388852001,
           -0.7061393075538053,
           -0.5081383769056188,
           -0.15962373462164345,
           -1.1999897224849243,
           -0.6784082519781087,
           "Cluster 4"
          ],
          [
           0.5267778471472767,
           -0.6353410426366336,
           -0.3288766818891101,
           -0.5270492560676305,
           -1.3022872752464836,
           -2.481158841188376,
           -2.8171053105217525,
           -2.286400793569564,
           -0.4705455571859694,
           -0.2912985918736528,
           -1.0219135416275726,
           1.4421927771392022,
           -0.6886474917650972,
           "Cluster 4"
          ],
          [
           0.7026572344869855,
           -0.9540928671366669,
           -2.4985483475282453,
           0.15065899415038736,
           -0.89520404801148,
           2.2043339088793363,
           0.5280186878143074,
           -1.0802354912249172,
           -0.022440852323770348,
           -1.5335524767285498,
           -0.023807575573603128,
           -1.4084331528463243,
           -1.1893244569947834,
           "Cluster 4"
          ],
          [
           -0.8528300900792961,
           -0.1119416206791772,
           0.6375545074242979,
           -1.5336983137952953,
           0.2749084546068241,
           0.7388281342755965,
           0.010631737641688836,
           -1.258176195027819,
           0.14725291512173264,
           0.4098228921656515,
           0.4514969273193438,
           1.4597299964191572,
           -0.8366052017674327,
           "Cluster 4"
          ],
          [
           -1.2085894284862233,
           -0.8719796253500671,
           -0.13388767515196257,
           -1.852289741679158,
           0.2843166191712624,
           -0.09163939606974839,
           -0.675276828366662,
           -3.5819996960440013,
           1.3587538029484467,
           -1.0946199104973409,
           -1.6569761218650312,
           -0.3556287881220117,
           -0.026800805727703086,
           "Cluster 4"
          ],
          [
           -1.0465076469117656,
           0.8267610541498683,
           0.580888346829277,
           0.58634815961879,
           0.3554784719249244,
           -0.9491726548196519,
           -0.9580001404326609,
           -1.7222368312402816,
           -0.09100751017121884,
           0.0632622047452866,
           0.05369895521811246,
           -0.1855766354065082,
           0.27003298319912417,
           "Cluster 4"
          ],
          [
           0.04387599150560691,
           0.014904493256827049,
           -0.5604891353036037,
           0.24187968127393727,
           -0.5908928594527145,
           -0.4691192256555961,
           -1.5586265439994886,
           -1.007352320314209,
           -0.7004588822796705,
           0.5573540912277447,
           -0.5171416843346552,
           -0.7557420639371859,
           -0.21935735388527944,
           "Cluster 4"
          ],
          [
           0.7465139005628937,
           -0.26323815384725685,
           0.14416300484037115,
           -0.5881175219619795,
           0.2527892179213421,
           0.8825490708708497,
           0.4653069980250031,
           -0.10533656196642187,
           -1.0626224901404004,
           -1.1053765323187137,
           -0.8885504356781168,
           -0.26612459018196677,
           -2.1285504388228906,
           "Cluster 4"
          ],
          [
           0.2525163162731246,
           -1.4460989667167057,
           0.14068518482952294,
           -0.4557787443588035,
           -1.1280677099800898,
           0.18663890761058502,
           1.0354415621641153,
           -0.16628264782935845,
           0.12334017429794342,
           -0.7376382838622184,
           -0.13175920258978496,
           -0.43450675433458624,
           -0.9569566397236906,
           "Cluster 4"
          ],
          [
           -0.6816003767162608,
           -1.1004082089270053,
           -0.28857312385345285,
           -0.8538795093083834,
           0.6932461445836577,
           1.9002508562997238,
           0.2199984396087165,
           -2.1888104614475186,
           2.323107862950805,
           -0.8349384173653325,
           0.8865634419066867,
           -3.01171209349503,
           0.9774642296067154,
           "Cluster 4"
          ],
          [
           1.821566915425819,
           -0.6144687389560678,
           -0.3019608543032942,
           -2.666562387609025,
           1.8078944352136057,
           0.9717071922509466,
           0.15211158504866829,
           -0.4513594133933968,
           -0.5125980106467026,
           -0.5138543873326488,
           0.31934699845207615,
           -0.6616118322077924,
           1.8890349521710714,
           "Cluster 4"
          ],
          [
           0.5695197057912557,
           -1.7830784526950485,
           1.1685388088872672,
           -3.0424623176672103,
           1.4007911134898379,
           -1.823902702305084,
           1.0878665720412586,
           -0.8639856824620822,
           0.18426908734167227,
           0.2757620963384178,
           0.5909868316148515,
           0.8776430327651951,
           0.4371149102615518,
           "Cluster 4"
          ],
          [
           1.5950488540959273,
           -1.6628768770665363,
           0.3564210839124047,
           0.36661443169073554,
           0.6755745081097735,
           0.9245441001241911,
           0.6486497924720868,
           0.699911019181687,
           0.4745973612697798,
           -0.46198895948461394,
           -1.2076179053335472,
           -0.11993956631924504,
           -0.6003324279252604,
           "Cluster 4"
          ],
          [
           -0.3075706029232516,
           -0.16169052648317042,
           0.0472887909269646,
           -0.015826198985248285,
           -0.5683658178379158,
           -1.2724833548728736,
           -0.055654126740877004,
           -1.4740884822350226,
           -0.964144022959525,
           -0.05005885658529558,
           0.8842916347788792,
           0.6854271212379108,
           -1.045393018799938,
           "Cluster 4"
          ],
          [
           -0.10713017099900425,
           1.1462920415591478,
           0.23449041264784265,
           -1.3663388999365813,
           0.5173547020933419,
           -0.618419961284281,
           0.2590204507514551,
           -0.9069775165239861,
           -0.14604389247081606,
           -0.18081960797283753,
           -0.5928012283438056,
           -0.34835038350182995,
           1.0239062882121772,
           "Cluster 4"
          ],
          [
           0.7081951569973867,
           -2.636970525301691,
           1.380492515635754,
           0.8063157270393416,
           0.6928746634218247,
           0.8512798690070311,
           -0.011154930229002585,
           1.1208306344138788,
           0.6251774197525058,
           -0.3600298246190178,
           -2.946959389409267,
           -0.4763975157822647,
           -0.6385915079469329,
           "Cluster 4"
          ],
          [
           -0.06660278246086236,
           0.19988642666089593,
           1.6810875060469916,
           0.1942823878457321,
           -0.0850577321809434,
           -0.5998595719889646,
           -1.1261026748794034,
           -0.9101459237111302,
           1.3814515134051188,
           1.2583815510008058,
           -0.6680448941530459,
           -1.5102308041667338,
           0.4898023107166505,
           "Cluster 4"
          ],
          [
           0.30446421800052087,
           -1.049943726761366,
           -0.6079544538142667,
           -0.019422566742393843,
           0.5834397006696274,
           -0.09076246848307828,
           -0.6278597158471657,
           -0.8864582354180741,
           -0.40686627899222355,
           0.8905884787923435,
           0.27603757032016063,
           -0.32753075448999885,
           -0.49411914828820147,
           "Cluster 4"
          ],
          [
           -1.1521981547707385,
           -0.35830168871066687,
           -0.2925599244812171,
           -0.28006844823485644,
           -0.8164067720368212,
           0.1984792270885374,
           -0.52503628519518,
           -1.5321073138760872,
           -0.03325261753476004,
           -1.0993026905071117,
           -0.6518061615132525,
           0.03502391051188752,
           0.2195355666515222,
           "Cluster 4"
          ],
          [
           0.2617243480014088,
           1.7896914352648015,
           -0.4411285435352116,
           -0.8790825460710011,
           0.5133965989641915,
           -0.5680495519533071,
           0.15044707428272197,
           -1.6365699878348832,
           -0.6585435403295172,
           -1.010419374424333,
           -0.9267517653741701,
           -0.2954361984102925,
           0.5298545750032143,
           "Cluster 4"
          ],
          [
           -0.6660300690082319,
           -0.03949101247434741,
           -0.9794247991286187,
           -0.2501923240387588,
           0.3772378024557701,
           -0.9264547073593563,
           -0.2576430737440351,
           -0.12040138824809528,
           0.05902740755080908,
           -0.29709783950008484,
           -1.0871082431561139,
           0.15942612539008724,
           -0.04519547609663297,
           "Cluster 4"
          ],
          [
           -3.231179245538577,
           -0.3039921255383574,
           1.434192256144475,
           -1.9040143404679208,
           2.1006652814532774,
           -2.0385998182616025,
           0.23836656203672682,
           -0.39773830910630575,
           -2.4064398821655977,
           1.1555352128991967,
           -0.8564240817853561,
           -0.17076015910719405,
           0.11886986575070986,
           "Cluster 4"
          ],
          [
           0.6858891207746206,
           1.2826134773403155,
           1.356018523276228,
           0.721835452019146,
           0.4451424957049167,
           -0.6262945699444336,
           -0.06936935673554886,
           -1.0226496558553273,
           -0.12811814880906958,
           0.1400861715944285,
           -0.15703764401700682,
           0.02081451489917697,
           -1.284054323747623,
           "Cluster 4"
          ],
          [
           1.2909402333451496,
           -0.5274176965989,
           0.5934984444357664,
           -0.7128890640986741,
           -1.0042964377512635,
           0.7728803535426287,
           -1.592101042667288,
           -0.659454919776293,
           0.2167352116028428,
           -0.14574929827947725,
           0.5618154678255578,
           -1.248115396193499,
           -0.9787259083278829,
           "Cluster 4"
          ],
          [
           1.0641877986770605,
           -1.8145838346677063,
           1.216956102847183,
           -0.2872563321727074,
           0.5664533497055894,
           -0.9382454361140288,
           -0.7415408905554515,
           0.21421623401980427,
           -0.5428287843162777,
           0.05244550043668843,
           0.2273146403519577,
           0.5049556879698803,
           0.45855021274996777,
           "Cluster 4"
          ],
          [
           -1.5682784296394523,
           -1.1335792112260963,
           1.0265414638490067,
           -0.12645014446944955,
           0.43470048140167344,
           0.34610341795770394,
           0.39693460786352963,
           -0.18793966639622658,
           -0.38332575295208315,
           -0.24321683147144957,
           -0.9164407516803728,
           -1.1150382204537552,
           0.04556448942197067,
           "Cluster 4"
          ],
          [
           0.354160707884782,
           -0.3595377438568406,
           -0.7186932190155977,
           -1.0784748032967784,
           1.1649952941739024,
           0.23804983070020239,
           -0.8979365150447369,
           -1.0918581746704414,
           -0.8910262724067682,
           0.8896759976814766,
           -0.7336840517346945,
           0.07201006390482678,
           -1.6834299498381637,
           "Cluster 4"
          ],
          [
           1.113066435197687,
           -0.8443825368915095,
           1.1876256732852601,
           -0.358427261362971,
           0.32573411384694473,
           -0.07137804045291161,
           -0.31080901745312695,
           -0.3384095466101833,
           -0.5208562727106365,
           0.1880429182570388,
           0.21237865438441983,
           0.9553066894131093,
           -0.10965373427294446,
           "Cluster 4"
          ],
          [
           0.8417188215173792,
           0.05405673716425562,
           0.6231478789574287,
           0.5132635266997571,
           1.2729193738995939,
           0.3492959916760948,
           0.4015154862465656,
           -1.3658442818248178,
           1.5594982657817316,
           -1.3513299958942273,
           -0.5485934937401177,
           -0.38999942330563325,
           0.012842669379696794,
           "Cluster 4"
          ],
          [
           1.2879594474539928,
           1.4753012592824526,
           1.2159654316316015,
           -2.516381453401533,
           0.19763566889889672,
           0.885832372439962,
           1.635486775262819,
           -1.6541348173201864,
           0.27755346498483774,
           2.180123600907914,
           -0.13730740635345598,
           -1.7642645090827018,
           -0.4765714999660247,
           "Cluster 4"
          ],
          [
           0.49125269471122934,
           -0.9638342936196421,
           -1.2876441929888338,
           0.022842692626204142,
           -0.7733892709944086,
           -0.7064785376983663,
           -0.6026402039946782,
           -0.9161691720743795,
           -0.8654609729404987,
           -0.6826083499079175,
           -0.9028389637788012,
           -0.7466160084498576,
           -0.5359843896437532,
           "Cluster 4"
          ],
          [
           1.3113455524009607,
           -0.7565382518513644,
           0.07900363321643183,
           -0.1730557151699028,
           -0.26507669522522886,
           0.3000718102176214,
           0.4880694649101577,
           -1.1325535476145503,
           0.024878574727934914,
           0.6145803870367671,
           -0.8722428445223785,
           -0.8975882457502028,
           1.0588785619645804,
           "Cluster 4"
          ],
          [
           0.45735182250660056,
           0.30504069707978043,
           0.46481784546548194,
           -0.9565898246574641,
           0.8273270837095418,
           -0.6629937242319204,
           1.3569019162605243,
           -0.9139001272418414,
           -0.0994383735496985,
           -0.08029203386138754,
           -0.385086769734957,
           0.17428299309965634,
           0.5155947328610426,
           "Cluster 4"
          ],
          [
           0.9782545422705501,
           -1.3287327354604874,
           -0.5406254342932055,
           -1.1683565983733732,
           0.03818117394507686,
           -2.1372341483340507,
           -0.17114770611379018,
           -0.15042933146327775,
           1.2906014094572027,
           -0.08199778054038755,
           -0.6038079797693805,
           0.6882080503643766,
           -0.14801491695365585,
           "Cluster 4"
          ],
          [
           -0.3183739305714041,
           -1.7911757897209342,
           2.2254731514850086,
           -0.22605394856366323,
           0.3967636666262275,
           0.7510243870306694,
           0.07799878133368306,
           0.4757651164413834,
           -0.14361602283215513,
           -0.9883245784993887,
           0.8678839432209005,
           -0.6393503560689446,
           -0.43538821337813916,
           "Cluster 4"
          ],
          [
           -0.7824811092346083,
           0.33846821215583806,
           1.7256600999892862,
           -0.7598286926550607,
           -0.12610850465469786,
           -0.20519470128523423,
           1.0403862648973514,
           -2.311835213619779,
           -1.462792498257477,
           -0.5572845695730945,
           1.5417015356978285,
           0.21217330432294282,
           0.05878012951390204,
           "Cluster 4"
          ],
          [
           0.14463095188661626,
           0.6622118918968803,
           0.4712484796883414,
           -0.13074244273554128,
           -0.3420826727138844,
           -0.7034120472162966,
           1.011478541152394,
           -1.049018812075872,
           -1.316425012299967,
           -0.5079818233573871,
           -1.9973526278205938,
           -0.6972747076546691,
           -1.1479838947366887,
           "Cluster 4"
          ],
          [
           0.35920932066447514,
           -0.9322897148038335,
           -0.501979925715334,
           -0.4144225997356999,
           -0.1307721424821663,
           -0.5820889022296744,
           -0.5577805517335339,
           -1.0006895257162232,
           0.8935140908942748,
           0.6011584641054679,
           -1.0911540332979912,
           -0.10461170538766262,
           -1.0989057253513166,
           "Cluster 4"
          ],
          [
           0.25917577216832843,
           -2.203139448355188,
           1.4556263220188135,
           0.4996997295842902,
           1.211597922262124,
           -0.6153763072740994,
           0.792332461416861,
           0.7216969732513693,
           0.6208935135150366,
           -0.28665825464171485,
           -0.7375311688765688,
           -0.3970559922979218,
           0.4352089058497505,
           "Cluster 4"
          ],
          [
           0.39896952918332296,
           0.0016314915179413698,
           0.5009994026988577,
           -0.6976929923899116,
           1.6376592041201143,
           0.0637420055952508,
           0.1736111554269931,
           -1.3999814595952533,
           0.728183168922318,
           -1.3766425507410955,
           -0.5218678017965952,
           -0.388685069814214,
           0.10335991658523888,
           "Cluster 4"
          ],
          [
           0.8650069509641418,
           -0.7706025313540154,
           1.0663855679716874,
           1.0135941585936392,
           -1.1283762321544841,
           -0.2310344731193044,
           0.1960947595781082,
           -1.3559048585924973,
           0.24205062912577602,
           -1.2876479724076395,
           -0.428438814528289,
           0.5577268707952819,
           0.8219095211463836,
           "Cluster 4"
          ],
          [
           0.00015027103550535394,
           -0.9100497588834533,
           1.5013588150428658,
           0.3682478031165985,
           0.7177771022144164,
           -1.7066261609301578,
           0.166500113333418,
           0.005238029999280401,
           -0.02481280776969683,
           -1.3420827655770993,
           -0.708385468357705,
           1.213657093296578,
           -1.7077268122703713,
           "Cluster 4"
          ],
          [
           1.3254536682861555,
           -1.7515909981544213,
           -0.4428846700560212,
           -2.4188191474324245,
           -0.07409628733346879,
           0.3836684197306168,
           -0.4446183638092709,
           0.257807887547172,
           -1.1188183591247973,
           0.6044727701151432,
           0.24131923276617864,
           0.30623785555718364,
           0.9021666167782968,
           "Cluster 4"
          ],
          [
           0.6398429209838484,
           -0.4275240946929426,
           -0.266766797645251,
           0.31681310492667347,
           -0.5377477667449401,
           -1.5922571610060994,
           -0.9713176158602195,
           -1.0466914596575236,
           0.12176957568198396,
           -0.29951038465345353,
           -0.05917351703698861,
           1.250501373093526,
           0.09554944130446165,
           "Cluster 4"
          ],
          [
           -2.7365703687811807,
           -1.3699997407591036,
           -0.03910192351379164,
           0.44095125004170815,
           1.3202457921803255,
           -1.6914255596840686,
           0.8421822314902843,
           0.06928147861651261,
           -0.27043271553652354,
           -0.9184917076827313,
           -0.3856929628042163,
           -1.7982662357455577,
           -0.12487307370379398,
           "Cluster 4"
          ],
          [
           -0.5490603491060876,
           -1.2188484659129857,
           0.4008567051466017,
           -0.4550504883903253,
           -0.712229833960038,
           0.3151326744864778,
           -0.8734108943128011,
           -1.7174841412831154,
           0.20964376918433764,
           0.7613196713422098,
           -0.12431278986231746,
           0.1794122722194616,
           -0.14048590337568057,
           "Cluster 4"
          ],
          [
           -0.332664167913485,
           -0.5232360062072884,
           -0.558730830869314,
           -0.37873586036140566,
           -0.21478261320696945,
           -0.27752424994089164,
           -1.1083941303485338,
           -1.8043118638196567,
           0.07845204988080413,
           -0.3506901448580954,
           -0.0448372241149257,
           -0.71264013228671,
           -1.4463808094923742,
           "Cluster 4"
          ],
          [
           -0.5140487536632548,
           -2.243435497055596,
           1.8387300503405948,
           1.1582105315593083,
           -1.121884716872551,
           0.9158621656444665,
           -0.12413749256905669,
           -3.038846516537754,
           0.7417258128046791,
           -1.4646329809636702,
           0.2876048658708695,
           -0.5833407122328484,
           1.5884142065940012,
           "Cluster 4"
          ],
          [
           0.8486371718258235,
           0.541075318128169,
           -0.39112046913829623,
           -1.1277180085267071,
           -0.7269561845090792,
           -0.6337163380890828,
           -0.3069156517879044,
           -1.4816459827201318,
           -0.34600246468159834,
           -0.23107079767736213,
           0.4143058999759363,
           1.506303155386836,
           -0.10353629538661371,
           "Cluster 4"
          ],
          [
           -0.7756348269985375,
           -0.9239516984429363,
           0.05371693160461959,
           -0.20291035473726082,
           -0.5993222758502179,
           -0.11863237479033313,
           -0.625669357244076,
           -1.8410726872806762,
           -0.6274056426385669,
           -0.557268878996268,
           0.9824886429199503,
           -0.0038305013863874676,
           -0.731171665869415,
           "Cluster 4"
          ],
          [
           0.660785846042529,
           -0.6121393245331292,
           1.5588469672486083,
           0.3963322234859076,
           0.7389794136300407,
           -0.12295647100826708,
           1.1517154937344414,
           -1.907715925400101,
           -0.5995325716988329,
           0.3277093058074458,
           0.21395712572246733,
           0.9770219974432374,
           0.7018591274903451,
           "Cluster 4"
          ],
          [
           1.2943683880327943,
           1.1496963522673318,
           0.41807591681989364,
           -1.1501169067585966,
           -0.11163360708132805,
           -1.5922991975751686,
           0.5901238350050604,
           -0.1249329947988511,
           -0.4202283234282666,
           -1.166660780627651,
           0.9682772211582102,
           -0.4772501077084474,
           -0.9506598561856107,
           "Cluster 4"
          ]
         ],
         "hoverlabel": {
          "namelength": 0
         },
         "hovertemplate": "Cluster=%{customdata[13]}<br>FAC1=%{customdata[0]}<br>FAC2=%{customdata[1]}<br>FAC3=%{customdata[2]}<br>FAC4=%{customdata[3]}<br>FAC5=%{customdata[4]}<br>FAC6=%{customdata[5]}<br>FAC7=%{customdata[6]}<br>FAC8=%{customdata[7]}<br>FAC9=%{customdata[8]}<br>FAC10=%{customdata[9]}<br>FAC11=%{customdata[10]}<br>FAC12=%{customdata[11]}<br>FAC13=%{customdata[12]}",
         "legendgroup": "Cluster=Cluster 4",
         "marker": {
          "color": "#FFA15A"
         },
         "name": "Cluster=Cluster 4",
         "notched": true,
         "offsetgroup": "Cluster=Cluster 4",
         "showlegend": false,
         "type": "box",
         "x": [
          "Cluster 4",
          "Cluster 4",
          "Cluster 4",
          "Cluster 4",
          "Cluster 4",
          "Cluster 4",
          "Cluster 4",
          "Cluster 4",
          "Cluster 4",
          "Cluster 4",
          "Cluster 4",
          "Cluster 4",
          "Cluster 4",
          "Cluster 4",
          "Cluster 4",
          "Cluster 4",
          "Cluster 4",
          "Cluster 4",
          "Cluster 4",
          "Cluster 4",
          "Cluster 4",
          "Cluster 4",
          "Cluster 4",
          "Cluster 4",
          "Cluster 4",
          "Cluster 4",
          "Cluster 4",
          "Cluster 4",
          "Cluster 4",
          "Cluster 4",
          "Cluster 4",
          "Cluster 4",
          "Cluster 4",
          "Cluster 4",
          "Cluster 4",
          "Cluster 4",
          "Cluster 4",
          "Cluster 4",
          "Cluster 4",
          "Cluster 4",
          "Cluster 4",
          "Cluster 4",
          "Cluster 4",
          "Cluster 4",
          "Cluster 4",
          "Cluster 4",
          "Cluster 4",
          "Cluster 4",
          "Cluster 4",
          "Cluster 4",
          "Cluster 4",
          "Cluster 4",
          "Cluster 4",
          "Cluster 4",
          "Cluster 4",
          "Cluster 4",
          "Cluster 4",
          "Cluster 4",
          "Cluster 4",
          "Cluster 4",
          "Cluster 4",
          "Cluster 4",
          "Cluster 4",
          "Cluster 4",
          "Cluster 4",
          "Cluster 4",
          "Cluster 4",
          "Cluster 4",
          "Cluster 4",
          "Cluster 4",
          "Cluster 4",
          "Cluster 4",
          "Cluster 4",
          "Cluster 4",
          "Cluster 4",
          "Cluster 4",
          "Cluster 4",
          "Cluster 4",
          "Cluster 4",
          "Cluster 4",
          "Cluster 4",
          "Cluster 4",
          "Cluster 4",
          "Cluster 4",
          "Cluster 4",
          "Cluster 4",
          "Cluster 4",
          "Cluster 4",
          "Cluster 4",
          "Cluster 4",
          "Cluster 4",
          "Cluster 4",
          "Cluster 4",
          "Cluster 4",
          "Cluster 4",
          "Cluster 4",
          "Cluster 4",
          "Cluster 4",
          "Cluster 4",
          "Cluster 4",
          "Cluster 4",
          "Cluster 4"
         ],
         "xaxis": "x2",
         "yaxis": "y2"
        }
       ],
       "layout": {
        "barmode": "relative",
        "legend": {
         "tracegroupgap": 0
        },
        "margin": {
         "t": 60
        },
        "template": {
         "data": {
          "bar": [
           {
            "error_x": {
             "color": "#2a3f5f"
            },
            "error_y": {
             "color": "#2a3f5f"
            },
            "marker": {
             "line": {
              "color": "#E5ECF6",
              "width": 0.5
             }
            },
            "type": "bar"
           }
          ],
          "barpolar": [
           {
            "marker": {
             "line": {
              "color": "#E5ECF6",
              "width": 0.5
             }
            },
            "type": "barpolar"
           }
          ],
          "carpet": [
           {
            "aaxis": {
             "endlinecolor": "#2a3f5f",
             "gridcolor": "white",
             "linecolor": "white",
             "minorgridcolor": "white",
             "startlinecolor": "#2a3f5f"
            },
            "baxis": {
             "endlinecolor": "#2a3f5f",
             "gridcolor": "white",
             "linecolor": "white",
             "minorgridcolor": "white",
             "startlinecolor": "#2a3f5f"
            },
            "type": "carpet"
           }
          ],
          "choropleth": [
           {
            "colorbar": {
             "outlinewidth": 0,
             "ticks": ""
            },
            "type": "choropleth"
           }
          ],
          "contour": [
           {
            "colorbar": {
             "outlinewidth": 0,
             "ticks": ""
            },
            "colorscale": [
             [
              0,
              "#0d0887"
             ],
             [
              0.1111111111111111,
              "#46039f"
             ],
             [
              0.2222222222222222,
              "#7201a8"
             ],
             [
              0.3333333333333333,
              "#9c179e"
             ],
             [
              0.4444444444444444,
              "#bd3786"
             ],
             [
              0.5555555555555556,
              "#d8576b"
             ],
             [
              0.6666666666666666,
              "#ed7953"
             ],
             [
              0.7777777777777778,
              "#fb9f3a"
             ],
             [
              0.8888888888888888,
              "#fdca26"
             ],
             [
              1,
              "#f0f921"
             ]
            ],
            "type": "contour"
           }
          ],
          "contourcarpet": [
           {
            "colorbar": {
             "outlinewidth": 0,
             "ticks": ""
            },
            "type": "contourcarpet"
           }
          ],
          "heatmap": [
           {
            "colorbar": {
             "outlinewidth": 0,
             "ticks": ""
            },
            "colorscale": [
             [
              0,
              "#0d0887"
             ],
             [
              0.1111111111111111,
              "#46039f"
             ],
             [
              0.2222222222222222,
              "#7201a8"
             ],
             [
              0.3333333333333333,
              "#9c179e"
             ],
             [
              0.4444444444444444,
              "#bd3786"
             ],
             [
              0.5555555555555556,
              "#d8576b"
             ],
             [
              0.6666666666666666,
              "#ed7953"
             ],
             [
              0.7777777777777778,
              "#fb9f3a"
             ],
             [
              0.8888888888888888,
              "#fdca26"
             ],
             [
              1,
              "#f0f921"
             ]
            ],
            "type": "heatmap"
           }
          ],
          "heatmapgl": [
           {
            "colorbar": {
             "outlinewidth": 0,
             "ticks": ""
            },
            "colorscale": [
             [
              0,
              "#0d0887"
             ],
             [
              0.1111111111111111,
              "#46039f"
             ],
             [
              0.2222222222222222,
              "#7201a8"
             ],
             [
              0.3333333333333333,
              "#9c179e"
             ],
             [
              0.4444444444444444,
              "#bd3786"
             ],
             [
              0.5555555555555556,
              "#d8576b"
             ],
             [
              0.6666666666666666,
              "#ed7953"
             ],
             [
              0.7777777777777778,
              "#fb9f3a"
             ],
             [
              0.8888888888888888,
              "#fdca26"
             ],
             [
              1,
              "#f0f921"
             ]
            ],
            "type": "heatmapgl"
           }
          ],
          "histogram": [
           {
            "marker": {
             "colorbar": {
              "outlinewidth": 0,
              "ticks": ""
             }
            },
            "type": "histogram"
           }
          ],
          "histogram2d": [
           {
            "colorbar": {
             "outlinewidth": 0,
             "ticks": ""
            },
            "colorscale": [
             [
              0,
              "#0d0887"
             ],
             [
              0.1111111111111111,
              "#46039f"
             ],
             [
              0.2222222222222222,
              "#7201a8"
             ],
             [
              0.3333333333333333,
              "#9c179e"
             ],
             [
              0.4444444444444444,
              "#bd3786"
             ],
             [
              0.5555555555555556,
              "#d8576b"
             ],
             [
              0.6666666666666666,
              "#ed7953"
             ],
             [
              0.7777777777777778,
              "#fb9f3a"
             ],
             [
              0.8888888888888888,
              "#fdca26"
             ],
             [
              1,
              "#f0f921"
             ]
            ],
            "type": "histogram2d"
           }
          ],
          "histogram2dcontour": [
           {
            "colorbar": {
             "outlinewidth": 0,
             "ticks": ""
            },
            "colorscale": [
             [
              0,
              "#0d0887"
             ],
             [
              0.1111111111111111,
              "#46039f"
             ],
             [
              0.2222222222222222,
              "#7201a8"
             ],
             [
              0.3333333333333333,
              "#9c179e"
             ],
             [
              0.4444444444444444,
              "#bd3786"
             ],
             [
              0.5555555555555556,
              "#d8576b"
             ],
             [
              0.6666666666666666,
              "#ed7953"
             ],
             [
              0.7777777777777778,
              "#fb9f3a"
             ],
             [
              0.8888888888888888,
              "#fdca26"
             ],
             [
              1,
              "#f0f921"
             ]
            ],
            "type": "histogram2dcontour"
           }
          ],
          "mesh3d": [
           {
            "colorbar": {
             "outlinewidth": 0,
             "ticks": ""
            },
            "type": "mesh3d"
           }
          ],
          "parcoords": [
           {
            "line": {
             "colorbar": {
              "outlinewidth": 0,
              "ticks": ""
             }
            },
            "type": "parcoords"
           }
          ],
          "pie": [
           {
            "automargin": true,
            "type": "pie"
           }
          ],
          "scatter": [
           {
            "marker": {
             "colorbar": {
              "outlinewidth": 0,
              "ticks": ""
             }
            },
            "type": "scatter"
           }
          ],
          "scatter3d": [
           {
            "line": {
             "colorbar": {
              "outlinewidth": 0,
              "ticks": ""
             }
            },
            "marker": {
             "colorbar": {
              "outlinewidth": 0,
              "ticks": ""
             }
            },
            "type": "scatter3d"
           }
          ],
          "scattercarpet": [
           {
            "marker": {
             "colorbar": {
              "outlinewidth": 0,
              "ticks": ""
             }
            },
            "type": "scattercarpet"
           }
          ],
          "scattergeo": [
           {
            "marker": {
             "colorbar": {
              "outlinewidth": 0,
              "ticks": ""
             }
            },
            "type": "scattergeo"
           }
          ],
          "scattergl": [
           {
            "marker": {
             "colorbar": {
              "outlinewidth": 0,
              "ticks": ""
             }
            },
            "type": "scattergl"
           }
          ],
          "scattermapbox": [
           {
            "marker": {
             "colorbar": {
              "outlinewidth": 0,
              "ticks": ""
             }
            },
            "type": "scattermapbox"
           }
          ],
          "scatterpolar": [
           {
            "marker": {
             "colorbar": {
              "outlinewidth": 0,
              "ticks": ""
             }
            },
            "type": "scatterpolar"
           }
          ],
          "scatterpolargl": [
           {
            "marker": {
             "colorbar": {
              "outlinewidth": 0,
              "ticks": ""
             }
            },
            "type": "scatterpolargl"
           }
          ],
          "scatterternary": [
           {
            "marker": {
             "colorbar": {
              "outlinewidth": 0,
              "ticks": ""
             }
            },
            "type": "scatterternary"
           }
          ],
          "surface": [
           {
            "colorbar": {
             "outlinewidth": 0,
             "ticks": ""
            },
            "colorscale": [
             [
              0,
              "#0d0887"
             ],
             [
              0.1111111111111111,
              "#46039f"
             ],
             [
              0.2222222222222222,
              "#7201a8"
             ],
             [
              0.3333333333333333,
              "#9c179e"
             ],
             [
              0.4444444444444444,
              "#bd3786"
             ],
             [
              0.5555555555555556,
              "#d8576b"
             ],
             [
              0.6666666666666666,
              "#ed7953"
             ],
             [
              0.7777777777777778,
              "#fb9f3a"
             ],
             [
              0.8888888888888888,
              "#fdca26"
             ],
             [
              1,
              "#f0f921"
             ]
            ],
            "type": "surface"
           }
          ],
          "table": [
           {
            "cells": {
             "fill": {
              "color": "#EBF0F8"
             },
             "line": {
              "color": "white"
             }
            },
            "header": {
             "fill": {
              "color": "#C8D4E3"
             },
             "line": {
              "color": "white"
             }
            },
            "type": "table"
           }
          ]
         },
         "layout": {
          "annotationdefaults": {
           "arrowcolor": "#2a3f5f",
           "arrowhead": 0,
           "arrowwidth": 1
          },
          "coloraxis": {
           "colorbar": {
            "outlinewidth": 0,
            "ticks": ""
           }
          },
          "colorscale": {
           "diverging": [
            [
             0,
             "#8e0152"
            ],
            [
             0.1,
             "#c51b7d"
            ],
            [
             0.2,
             "#de77ae"
            ],
            [
             0.3,
             "#f1b6da"
            ],
            [
             0.4,
             "#fde0ef"
            ],
            [
             0.5,
             "#f7f7f7"
            ],
            [
             0.6,
             "#e6f5d0"
            ],
            [
             0.7,
             "#b8e186"
            ],
            [
             0.8,
             "#7fbc41"
            ],
            [
             0.9,
             "#4d9221"
            ],
            [
             1,
             "#276419"
            ]
           ],
           "sequential": [
            [
             0,
             "#0d0887"
            ],
            [
             0.1111111111111111,
             "#46039f"
            ],
            [
             0.2222222222222222,
             "#7201a8"
            ],
            [
             0.3333333333333333,
             "#9c179e"
            ],
            [
             0.4444444444444444,
             "#bd3786"
            ],
            [
             0.5555555555555556,
             "#d8576b"
            ],
            [
             0.6666666666666666,
             "#ed7953"
            ],
            [
             0.7777777777777778,
             "#fb9f3a"
            ],
            [
             0.8888888888888888,
             "#fdca26"
            ],
            [
             1,
             "#f0f921"
            ]
           ],
           "sequentialminus": [
            [
             0,
             "#0d0887"
            ],
            [
             0.1111111111111111,
             "#46039f"
            ],
            [
             0.2222222222222222,
             "#7201a8"
            ],
            [
             0.3333333333333333,
             "#9c179e"
            ],
            [
             0.4444444444444444,
             "#bd3786"
            ],
            [
             0.5555555555555556,
             "#d8576b"
            ],
            [
             0.6666666666666666,
             "#ed7953"
            ],
            [
             0.7777777777777778,
             "#fb9f3a"
            ],
            [
             0.8888888888888888,
             "#fdca26"
            ],
            [
             1,
             "#f0f921"
            ]
           ]
          },
          "colorway": [
           "#636efa",
           "#EF553B",
           "#00cc96",
           "#ab63fa",
           "#FFA15A",
           "#19d3f3",
           "#FF6692",
           "#B6E880",
           "#FF97FF",
           "#FECB52"
          ],
          "font": {
           "color": "#2a3f5f"
          },
          "geo": {
           "bgcolor": "white",
           "lakecolor": "white",
           "landcolor": "#E5ECF6",
           "showlakes": true,
           "showland": true,
           "subunitcolor": "white"
          },
          "hoverlabel": {
           "align": "left"
          },
          "hovermode": "closest",
          "mapbox": {
           "style": "light"
          },
          "paper_bgcolor": "white",
          "plot_bgcolor": "#E5ECF6",
          "polar": {
           "angularaxis": {
            "gridcolor": "white",
            "linecolor": "white",
            "ticks": ""
           },
           "bgcolor": "#E5ECF6",
           "radialaxis": {
            "gridcolor": "white",
            "linecolor": "white",
            "ticks": ""
           }
          },
          "scene": {
           "xaxis": {
            "backgroundcolor": "#E5ECF6",
            "gridcolor": "white",
            "gridwidth": 2,
            "linecolor": "white",
            "showbackground": true,
            "ticks": "",
            "zerolinecolor": "white"
           },
           "yaxis": {
            "backgroundcolor": "#E5ECF6",
            "gridcolor": "white",
            "gridwidth": 2,
            "linecolor": "white",
            "showbackground": true,
            "ticks": "",
            "zerolinecolor": "white"
           },
           "zaxis": {
            "backgroundcolor": "#E5ECF6",
            "gridcolor": "white",
            "gridwidth": 2,
            "linecolor": "white",
            "showbackground": true,
            "ticks": "",
            "zerolinecolor": "white"
           }
          },
          "shapedefaults": {
           "line": {
            "color": "#2a3f5f"
           }
          },
          "ternary": {
           "aaxis": {
            "gridcolor": "white",
            "linecolor": "white",
            "ticks": ""
           },
           "baxis": {
            "gridcolor": "white",
            "linecolor": "white",
            "ticks": ""
           },
           "bgcolor": "#E5ECF6",
           "caxis": {
            "gridcolor": "white",
            "linecolor": "white",
            "ticks": ""
           }
          },
          "title": {
           "x": 0.05
          },
          "xaxis": {
           "automargin": true,
           "gridcolor": "white",
           "linecolor": "white",
           "ticks": "",
           "title": {
            "standoff": 15
           },
           "zerolinecolor": "white",
           "zerolinewidth": 2
          },
          "yaxis": {
           "automargin": true,
           "gridcolor": "white",
           "linecolor": "white",
           "ticks": "",
           "title": {
            "standoff": 15
           },
           "zerolinecolor": "white",
           "zerolinewidth": 2
          }
         }
        },
        "xaxis": {
         "anchor": "y",
         "categoryarray": [
          "Cluster 0",
          "Cluster 1",
          "Cluster 2",
          "Cluster 3",
          "Cluster 4"
         ],
         "categoryorder": "array",
         "domain": [
          0,
          1
         ],
         "title": {
          "text": "Cluster"
         }
        },
        "xaxis2": {
         "anchor": "y2",
         "domain": [
          0,
          1
         ],
         "matches": "x",
         "showgrid": true,
         "showticklabels": false
        },
        "yaxis": {
         "anchor": "x",
         "domain": [
          0,
          0.7326
         ],
         "title": {
          "text": "count"
         }
        },
        "yaxis2": {
         "anchor": "x2",
         "domain": [
          0.7426,
          1
         ],
         "matches": "y2",
         "showgrid": false,
         "showline": false,
         "showticklabels": false,
         "ticks": ""
        }
       }
      },
      "text/html": "<div>\n        \n        \n            <div id=\"708c8935-c3ea-40d1-bb1a-c219803d45dc\" class=\"plotly-graph-div\" style=\"height:525px; width:100%;\"></div>\n            <script type=\"text/javascript\">\n                require([\"plotly\"], function(Plotly) {\n                    window.PLOTLYENV=window.PLOTLYENV || {};\n                    \n                if (document.getElementById(\"708c8935-c3ea-40d1-bb1a-c219803d45dc\")) {\n                    Plotly.newPlot(\n                        '708c8935-c3ea-40d1-bb1a-c219803d45dc',\n                        [{\"alignmentgroup\": \"True\", \"bingroup\": \"x\", \"hoverlabel\": {\"namelength\": 0}, \"hovertemplate\": \"Cluster=%{x}<br>count=%{y}\", \"legendgroup\": \"Cluster=Cluster 0\", \"marker\": {\"color\": \"#636efa\", \"opacity\": 0.7}, \"name\": \"Cluster=Cluster 0\", \"offsetgroup\": \"Cluster=Cluster 0\", \"orientation\": \"v\", \"showlegend\": true, \"type\": \"histogram\", \"x\": [\"Cluster 0\", \"Cluster 0\", \"Cluster 0\", \"Cluster 0\", \"Cluster 0\", \"Cluster 0\", \"Cluster 0\", \"Cluster 0\", \"Cluster 0\", \"Cluster 0\", \"Cluster 0\", \"Cluster 0\", \"Cluster 0\", \"Cluster 0\", \"Cluster 0\", \"Cluster 0\", \"Cluster 0\", \"Cluster 0\", \"Cluster 0\", \"Cluster 0\", \"Cluster 0\", \"Cluster 0\", \"Cluster 0\", \"Cluster 0\", \"Cluster 0\", \"Cluster 0\", \"Cluster 0\", \"Cluster 0\", \"Cluster 0\", \"Cluster 0\", \"Cluster 0\", \"Cluster 0\", \"Cluster 0\", \"Cluster 0\", \"Cluster 0\", \"Cluster 0\", \"Cluster 0\", \"Cluster 0\", \"Cluster 0\", \"Cluster 0\", \"Cluster 0\", \"Cluster 0\", \"Cluster 0\", \"Cluster 0\", \"Cluster 0\", \"Cluster 0\", \"Cluster 0\", \"Cluster 0\", \"Cluster 0\", \"Cluster 0\", \"Cluster 0\", \"Cluster 0\", \"Cluster 0\", \"Cluster 0\", \"Cluster 0\", \"Cluster 0\", \"Cluster 0\", \"Cluster 0\", \"Cluster 0\", \"Cluster 0\", \"Cluster 0\", \"Cluster 0\", \"Cluster 0\", \"Cluster 0\", \"Cluster 0\", \"Cluster 0\", \"Cluster 0\", \"Cluster 0\", \"Cluster 0\", \"Cluster 0\", \"Cluster 0\", \"Cluster 0\", \"Cluster 0\", \"Cluster 0\", \"Cluster 0\", \"Cluster 0\", \"Cluster 0\", \"Cluster 0\", \"Cluster 0\", \"Cluster 0\", \"Cluster 0\", \"Cluster 0\", \"Cluster 0\", \"Cluster 0\", \"Cluster 0\", \"Cluster 0\", \"Cluster 0\", \"Cluster 0\", \"Cluster 0\", \"Cluster 0\", \"Cluster 0\", \"Cluster 0\", \"Cluster 0\", \"Cluster 0\", \"Cluster 0\", \"Cluster 0\"], \"xaxis\": \"x\", \"yaxis\": \"y\"}, {\"alignmentgroup\": \"True\", \"customdata\": [[0.1989134183137831, -0.17501868840358317, 1.0896739001988074, -0.1309209501525409, 0.07017728276628708, 0.2897529862411182, 0.18470726940907556, 0.558053476333554, -1.3219273577793764, 1.6066385020188363, 0.14102408538266697, 0.2722086678387985, -0.7864703549243692, \"Cluster 0\"], [-0.5895056165253256, -1.0950224082162787, 0.7030832200858295, -0.44575992556151944, -2.2777266903589912, -1.2068158127876387, 1.5995949924814916, -1.1292276800061474, 1.6389082249694884, -0.16851625802586948, 2.5982043511535204, 1.2907739614724592, -0.7724193052394057, \"Cluster 0\"], [-0.06448005659096391, 0.060311572687145924, 0.7872099273452211, -0.7370649903680138, 0.09886571897084169, -0.3583260947369343, 0.35892790883024484, 0.46074781455192776, -0.6617398515564124, -0.11437129932100439, -0.15882512516228434, 0.6187187344592819, -0.6901834883673483, \"Cluster 0\"], [-0.26401570586409, -1.513105402506907, -0.11774888141985697, -0.07588953742593532, 1.0741011872767816, -0.09127575492105058, -0.04503197131042506, 1.0886681456475735, 0.07952608913777873, 0.31038100086919473, 2.0043297793639474, -0.3189209871513081, -1.2440370882438965, \"Cluster 0\"], [-0.11079260605814012, 1.1912282623403436, 0.8246652344052279, 0.6834733759693478, 0.15060319158048, 1.294820236479031, 0.7233276900807133, -0.4724107478617854, 1.068704694884191, -0.8917274560618058, 0.7314556568354443, 0.44227989977239845, -1.4962747082269974, \"Cluster 0\"], [1.8243122905637132, 1.0817625818058467, -0.9105794475603229, -0.5128364423175212, 0.18184841425698586, 0.03332845382635926, -0.011653477765139354, 0.8056053806063799, -0.6845104017757447, 1.9302985062871227, 0.6804001006428989, -0.646198007834363, -0.5040268778805557, \"Cluster 0\"], [0.6169197935943666, 2.034262201899721, 0.9108443883865673, 0.2420686461206331, -0.5556628362577839, -1.4283720304729417, 1.7712745971095076, 0.16936077569004923, -0.9186674784394573, 2.8553409344030194, 1.0017789801643475, -0.4284993580592828, -0.7236516980979524, \"Cluster 0\"], [-0.02951435725061857, -0.3150661948929498, -1.7823730391195327, 0.632114836750069, -0.1446625817884503, -0.6660544120326598, 0.10624590623303745, -0.11469929783743447, -0.5142127788989221, 0.698283312255818, -0.10378368054278081, 0.2728622304698055, -0.8549361186198843, \"Cluster 0\"], [-0.42202867006368855, -0.5522336215353898, -0.5313612572761424, -1.0697891446062429, -0.21646107447321603, 0.6591617648769006, 0.1006441798946787, -0.11163815416665983, 0.9792082437148423, 0.15185568422750317, 0.8485057122397075, -0.37010332094026605, -1.3663458468824847, \"Cluster 0\"], [-1.5911926678032882, 0.3855640976334624, -0.46671535293711147, -0.4995436684777592, -0.31625398995111265, 0.4943088683632801, -0.46462568202257737, -0.037969816168524545, 1.3641540875631004, 1.6938934055197756, -1.7380110146624799, 0.43185854203099083, -2.1657102278159046, \"Cluster 0\"], [0.7691827055931926, -0.5890302866007483, 0.6075776022633067, 0.8297628704826228, 0.373071746740441, -0.463946727480092, -0.3305558707409937, 1.3980752841575164, 0.0033280198103130716, 0.2294846682297334, 0.5420724457228858, -1.3920302147989692, 0.23274855467236247, \"Cluster 0\"], [1.2132379725609268, 0.025734209557764717, 0.8945681574442261, 0.3226062104784981, 0.5174306394202826, 0.24390710425639875, -0.2470021946813338, 0.02478461905161748, 0.4261639416657195, -0.4502962047242534, 0.5639066597013966, 0.4121605534826545, -1.439663905475827, \"Cluster 0\"], [-0.5353436085906226, 0.0121376286857148, -0.390618792327384, 1.4630232754296484, 0.12271814739123327, -0.4455889523797284, 0.6837548893511552, -1.0189730908323407, 0.8449126957841895, 0.479941822562987, 1.0933165352917202, 0.20497298650805595, -1.1771740767327679, \"Cluster 0\"], [1.2692754833123943, 0.895751191085529, -1.9004753534460048, -0.9646463038093805, -1.2046339150520224, 0.44344085371534325, 0.29460799524910875, -0.04835568458413573, -1.2774378084278892, 1.91335991446298, -0.2911352112764576, -1.051418390060271, -3.078569185075529, \"Cluster 0\"], [-2.1902547364729394, 0.3588139607757753, -1.203823352221031, -0.6648744675137416, 0.5201761775784729, -0.2343036354320254, -1.0585688287016863, 0.4302526790278462, 1.4507611010992005, 0.750320559929007, -0.9980168822951541, -0.48592790976333783, -0.607972462190719, \"Cluster 0\"], [0.9127656374024679, 0.8307481435216395, 0.47628580296473244, -0.39962871789283594, 1.6810394532507769, 0.8182403580283092, 1.4540578660584518, 0.8322658516480651, 0.24067974045408513, 2.3250759777429466, -2.195547322614049, 2.246877610313453, -2.2880204334875844, \"Cluster 0\"], [-2.407956282126115, -0.6368090678507865, 1.202246779468626, 1.119533021328333, 0.886730093277988, 1.379198884183297, 0.9247339657738856, 1.31949116237419, 0.020453660495131813, -0.8442193218706228, 0.37012042535344475, -0.8872108581088526, -0.9187636905837618, \"Cluster 0\"], [1.0468231701686934, 1.0843320490333175, 1.3773694304912685, 2.3457078686542885, 0.9487036960415987, 1.3590954533500221, 0.5818528853509565, 1.0677682662970636, -1.2026818293227883, 0.45022329208773687, 0.24434890109432922, 0.4326902776103393, -2.0426024086945587, \"Cluster 0\"], [-0.16752440081500458, -1.0836550599948225, 0.0269722738311727, -0.22133191997924515, -0.17404995918783842, -0.49548586922123394, 0.5437450207387912, -0.4662020789269461, 0.9859438037480353, 0.9887562534360852, 0.2294600172349518, 0.19585514387600372, -0.5709390542756722, \"Cluster 0\"], [-0.40698487711032855, 0.29342091297362854, -0.3914162822333389, 1.0682504897665084, -0.6691518903515871, 1.684178454319364, 1.0497967453360546, 0.5190334482054677, 1.0356493886856049, 1.1586369072565115, 1.2550603294502751, 0.4941599363489253, -3.0116350486771086, \"Cluster 0\"], [-1.4845647678833551, 0.0011434472687537449, 0.19103422448388288, -0.256663571000766, 0.3445853797132912, 0.5577202624384956, -0.4703679108336029, 0.3172931354153087, -0.9879805932924728, 0.5340205976399025, -0.27294574522855486, 0.9701256103238722, -0.7046100216433492, \"Cluster 0\"], [-1.963825691183579, 0.5627209312985482, -0.7637278207903729, -0.16841379583312296, 1.9298375826292122, -0.6436678395988649, -0.08484318082777693, 1.8312416762259838, 1.4429598411696432, 0.2835244057321411, 0.7222915588697129, -0.8365127156336714, -1.144864276916321, \"Cluster 0\"], [-1.9272950294252, 0.11358082180527121, -0.10736926199276015, -0.9051284168414866, 0.44150945568891464, 0.5505973430012447, 0.35831744584364894, 0.20071974427674974, -0.7619759446887242, 0.18087406954648494, 0.6616788557787947, -1.2652084736544527, -0.046290366395170014, \"Cluster 0\"], [-1.334972416269784, -0.4760015020884407, -0.43490907023112724, 0.6243248456188615, -0.7606436389491275, -0.08224841580246615, -1.3151367878154718, 0.3118655205409113, -0.0083036464450798, 1.542489762630491, -0.5398137753457946, 0.6054882182660457, -0.13749215946165105, \"Cluster 0\"], [-0.6138832490257837, 0.256819308879649, -0.6557196436377402, 0.2532593981005158, -0.283292032377404, -1.721954039788995, -0.0326441452697852, -0.18460149067381781, -0.537986760454506, 0.5854097410276422, 0.19233763051840527, 0.016407430363779202, -0.982992281391211, \"Cluster 0\"], [-0.43336076658212824, 0.30293713388520616, -0.022372639689523383, 0.08978951363446207, -0.577377573939236, -1.6972804516461686, -0.6905272624759831, -0.8339077774258629, -0.5169597959879414, 1.1760768191874469, -0.4360402611928231, -0.11078855137735652, -1.2104394934436191, \"Cluster 0\"], [0.46309979686785563, 0.05407521084108072, 0.08288701065328206, 0.5623457605078318, -1.194081190778103, -0.5144715871262066, -0.3666104087777001, 0.48942293830569605, -0.5013338909415985, 0.0945953305057361, 0.9155846621749332, -0.8524525508469031, -0.12462603203434701, \"Cluster 0\"], [0.6943366827221684, -0.466192413888379, 1.387062659567955, 1.0544207629662876, -0.8408775256156842, 0.9692150626991602, -0.0784216694183022, -0.362306268045942, 1.1989992394922206, 0.3905617320164274, -0.4900456738572759, 0.040951891009808755, -1.920433870673714, \"Cluster 0\"], [-1.1766548863536543, 0.03765891796576567, 0.9890263602988474, -0.03912799425750614, 0.917373796838132, 0.02859351811337034, 0.5385143687488808, 0.2987137992498979, -0.2953028381254468, 0.8270889434201637, 0.1323435930378353, -1.2571035952201535, -0.22963735937038737, \"Cluster 0\"], [-0.6706338665850256, -0.6164699926942607, -0.07218716780586626, 0.5789756489872797, 0.1314454703697118, -0.5541880676540712, -0.4083940405265622, -0.1302050790216815, 0.3410944757044316, -0.585187674284954, 0.2126428865160689, -0.5493961830483923, -0.8007239883578114, \"Cluster 0\"], [-0.07854399841505319, -1.1143772089487578, -0.04200421677652987, -0.06950531872595458, -0.6677733440897335, 0.19226439928168682, 1.1065834198629845, 1.6401781150399222, 2.0757425001562906, 0.5450629501695974, 0.353336388381459, 1.4969003110961028, -0.7352138484657492, \"Cluster 0\"], [-0.2636983371688864, 0.5968817558088516, -1.2575041910666278, 0.92501868657689, -0.7487167004364651, -0.5040166155865179, -0.7680277178807247, -1.1853460969052623, -0.6091696705722129, 0.33316591401716616, 0.25421366363283876, -0.6687547795869329, -0.5262186673627752, \"Cluster 0\"], [-1.6279693351287312, 2.1566573730852423, -1.6231009051200254, -0.7178521729465108, 0.17068582870988416, -0.49491211076733493, 1.2674267682540663, 1.3028871979607344, 0.6947020563178741, 0.24632798940375228, -0.23500693968067154, -2.7067995776902536, -0.7138223779233476, \"Cluster 0\"], [-0.5636398752667817, 0.3257182722975845, -0.19942747391912571, 0.7756938540484639, 0.3429488221051138, 1.1776210828304923, 0.062035129797157015, 0.2464606397318416, -0.10880358836981398, 1.5649772356939415, 0.43147692665384696, 0.7314069317110652, -2.025868926486384, \"Cluster 0\"], [-2.674948610830452, -2.043780290081104, -1.5373850298521792, 0.8334889673670821, 0.7684846655718055, 0.9425689352140874, 1.3496691327296904, 1.7464181277475832, -0.9601057120271399, -1.7089482377702585, 2.052020132762007, 1.0707383585389263, -1.9836787745286795, \"Cluster 0\"], [0.5182203534234814, -1.2977878026230822, 1.2278640254878417, -0.5761011201419595, -1.4877246156447494, 0.2894591984142494, 0.1735571396455365, 0.18979799476303705, -1.916523943617943, 1.4674913605247413, 1.7015145146209867, -1.247727284670987, 0.450181235215379, \"Cluster 0\"], [0.3084147768813575, 0.26420485297615226, 1.288767883949596, -0.5453823809311455, 0.6222190404562793, 0.8586826562412172, -0.07121559708354608, 0.024011216467162932, 2.2091340327428846, 0.8429400914447543, -0.0832135297450083, -0.8278941436033513, -0.09185694057668335, \"Cluster 0\"], [-0.6283927624093816, -0.6852141883657437, 1.1350098899062326, 1.4059599385810244, 0.44737189568637975, -0.163408172795299, -0.2382329626113719, 0.37894274279831647, 0.6985199631930528, 0.7275469912503099, 1.2858462679761553, 0.07339484308488552, 0.25788448643848993, \"Cluster 0\"], [-0.6725768689662224, -0.5161964158531875, -0.6504968526134292, 0.48295836313880275, -0.8692536927098641, -0.866869255765883, -1.513881206066461, -0.033633912808875344, -0.686228005379232, 0.2545167590224854, -0.9591468974044021, -0.3029282940710338, -0.781962276071873, \"Cluster 0\"], [-0.2810317368375153, -0.21466273490905374, 0.0992004837136183, 0.815748358309767, -0.47324491838337046, 0.18815343557386494, -0.007894347712029504, 0.6981863376648495, -1.5700959221221022, 0.21122386497738505, -0.007493433090864097, 1.1426557079748854, -1.8212527093087527, \"Cluster 0\"], [-0.42421472123254905, 1.7737791061946493, 0.3087028133353963, -0.574962091935612, 0.2459356155486385, -0.9288676221532715, 2.0522096782209513, -0.35503191414073637, -0.32726150451279773, 0.7965088599109186, 1.4478415126935127, -0.13790392150895056, -1.453924058531394, \"Cluster 0\"], [-0.787268267344896, -0.6742740377956563, -0.4848341941107611, 0.4698032940887368, -1.0524823762697435, -1.7593215731716105, -1.3383727843798903, -0.3053580485587727, -1.0725109963008967, 0.4540653837848444, 0.6404448353924125, -0.9231768286569171, -1.2993874411029736, \"Cluster 0\"], [-0.5277765940078609, -0.8013308268423716, 0.8395210159682055, 0.6161379861946001, -0.1403629086817364, 0.5118969182535582, -1.154906637156059, -1.7666081159250755, 0.35549519486961606, 1.5657222503631245, 0.750932227735498, -0.3277040446868086, -0.4657002670658109, \"Cluster 0\"], [-0.32298021768695345, 0.9961352618227053, 0.06499968489215689, 1.3833089012121367, 0.10339511296673179, -0.7379214052460099, 0.05711498547647039, 0.4917340574217011, 0.5238903972280897, 0.15287021475784748, 1.0777318471034798, -1.1380888920299927, -1.613522703750981, \"Cluster 0\"], [0.5737744993950356, 0.2773596744307337, -0.25293947653609533, 0.1833924240228129, 1.2053000995640293, -1.1841633914208483, 1.2091370410080595, 1.960711861932505, -1.2215728019745486, -0.4969007121716341, -0.019961330042537643, 0.04631780450394116, -2.303806309869583, \"Cluster 0\"], [-0.03781833808561641, 0.24121094526385933, -0.7211933092731819, 0.7469479065035267, -0.37987105509841895, -0.3645672695392608, -0.6480295774230174, -0.6904501529152587, 1.2115925683533142, 0.8283752904339011, -0.26028568504886357, 0.043300459095811816, -0.7544289739769572, \"Cluster 0\"], [-0.042278688408772615, 0.3069980726900095, -0.29952524672078934, -0.5039413060926101, 1.2982858533289428, 1.186852647073051, -0.2066665799870719, -0.04888869194979608, -0.2503662874542967, 0.4221636355415079, 1.2731906100761556, -0.23222266202334685, -1.6110237753693004, \"Cluster 0\"], [0.3145502519911013, -0.8631014814254351, -0.3561586519317951, 0.1096219782080663, -0.5141840607944048, -0.10138991180372753, 0.106547970809032, -0.1273848950431043, -0.006686085483609405, 1.460023858560807, 0.09942478185988891, -1.0808691681266105, -0.7668521497631821, \"Cluster 0\"], [-0.16970360153816752, -1.0293882341093508, -0.8613417348138027, 0.16420339961226532, 0.2933820806206719, 1.9914000992752832, -1.7852313424389823, -0.07379790032525188, 0.5085482088350427, 2.014546218692407, 0.9700418049343829, -2.015753019594978, -0.9299548253667416, \"Cluster 0\"], [0.7869298441146823, 0.11705758469812229, 0.20078860093775155, -0.7070756042783246, 0.15259016573426898, -0.12159386026681718, 0.6620150808845071, -0.6051280101120945, -0.13669200877627938, 1.239197093100985, -0.3741339683538552, -0.3673549728256139, -0.674447628563422, \"Cluster 0\"], [0.17736513823993066, -0.683507127167322, -0.2576457717389023, 0.0204158464210702, -0.5052503005558887, 0.24807446099427763, 0.17649353652400349, 0.034556863935523804, -0.3792824498319994, 0.04389438828708772, -0.6051707172701879, 0.3005060147064696, -1.163477972901329, \"Cluster 0\"], [-1.2250741838275714, -1.723843787128807, -0.037617388343363964, -0.22577887237631558, -1.2631602794710437, 0.014097618072335406, -0.20584979637210407, -0.1850634927088724, 0.36470037851324855, 0.3864353799155401, -0.1429498660021143, -0.5390258360220738, -0.4958343532319126, \"Cluster 0\"], [-0.3007511069573523, -0.3892545931170501, -0.9202905384243749, -0.3936854996778737, -0.6998044142074343, -1.1540483255546614, -1.0880576026909217, 0.07862274027637334, 0.31193085198493803, 1.099641738699393, -0.5492669283508796, -0.8977371301751549, -1.4410680164352512, \"Cluster 0\"], [-1.007780917763298, 1.7527968359838284, -1.3630390962264416, -0.11091601221058874, 0.5022723071132585, 2.183173363388634, 0.46128240032807144, -0.039435754568719776, -0.048869939085554356, -0.11991965613808309, 0.14678445486652844, -0.42320600836158245, -1.1341461410398517, \"Cluster 0\"], [-0.40101191454074125, -1.6721421184273169, 0.7302645110461019, -0.27830081655161387, 0.06377762923450853, 0.5032831284908776, 1.083656436581552, 0.9327708799420606, -0.241193808448245, 0.5764850145977066, 0.47343070837028833, -1.2725343243886675, 0.38059917702856794, \"Cluster 0\"], [2.3536329102087032, -1.1272884985229235, -0.10650891768400414, 0.7356576312961778, -0.9193611459423631, 0.514801267286743, 0.8595812219651904, -0.16362358554141238, -0.10858351098210493, -0.04416649793884201, -0.3676679730896583, -1.3428910757600991, -1.3140723040162738, \"Cluster 0\"], [-1.1548255771439946, 0.7546720050632175, -0.030206589730872813, 0.903164731784529, 0.5766035235945456, 1.208599276507645, -0.15332077571738406, 1.3375469247725325, -1.1504914434524691, 0.48373511670650493, -0.4258750510290844, -0.2997121070106493, -0.296653415188111, \"Cluster 0\"], [-0.4683179965713819, -0.5590695312212967, -0.10836954619028771, 0.1731444982368739, -1.4549508133345943, -0.7742937987613316, 0.2397012704631374, -0.6550527026805744, -0.6018014965273567, 0.10122282704980387, 0.6087293324006238, 0.4847463317353092, -0.6656073803634647, \"Cluster 0\"], [0.19277785205233786, -1.726622898736047, 0.1592276211514877, 0.24732093341114159, 1.4149326279614858, -0.9247106976619304, 1.4259300772089083, 0.6139442590026272, -0.06547230695905878, 0.5929140760562025, -0.13744186523066956, 0.6942032804244566, -1.6333850152847382, \"Cluster 0\"], [0.06137817171823405, 0.11852349531585996, -1.5495326393215878, -1.7728492707740837, -2.0507386003877044, 0.03203791707967337, 1.044018422278249, 0.5865397104112307, -0.31045697876983824, 0.5142744184252028, 0.5935389051529432, -1.0496920162300485, -2.6219781517474368, \"Cluster 0\"], [0.7240588926308258, 0.269374026691906, -0.8117063302954924, -1.0694117094005178, -0.449917307809505, -0.6419260748448025, -0.1982759469252598, 1.2317295092979637, 0.04391672802653582, 0.1300201689585854, 0.2726269927579724, -0.44975677207945614, -0.3864403578113072, \"Cluster 0\"], [-1.5609661151252097, -0.018084297415040442, -0.4156680574359025, -0.20267096735868234, 0.29464708489650926, 1.5055502834439618, 0.5287964782133996, -0.28167943762945236, 0.6053922925922273, 1.8231975105020521, 0.008512793545575478, -0.08770564223845062, -1.1389092474460107, \"Cluster 0\"], [-1.904341067955119, -1.7256797398769235, -0.4025869126333716, -1.5308109229295768, 0.6132797184502681, 1.4913635994228054, -0.11675924384738322, 0.45530221204281784, -1.6753781542545285, 1.6527135305817304, -0.30256487934081505, 0.3139971601395918, 0.25796389491691607, \"Cluster 0\"], [-0.08789371894920797, 0.32771552939514353, -0.48975910977102266, 0.9815861767912981, -0.21252862154452845, -0.5298414371424881, -1.0736814190890733, -1.0881697414314677, 0.40679237102476523, 0.42974171811038053, -0.11692558365942975, -0.2858630736416935, -1.3256350661434986, \"Cluster 0\"], [-0.019400575977385873, -1.626570962506749, 1.1904486495072113, 0.2447462995559535, 0.7588267081513973, -0.5516784843679583, -1.9184751554644726, 1.9713945237504187, 0.9296054636228173, 0.3204307084163643, -0.9744179321893083, -0.8664125367047352, -0.8450700062080979, \"Cluster 0\"], [-1.4554339087196575, -0.7260235432202158, -0.9240257891726895, -2.9595207223046747, 1.4852454366727228, 0.8568966482034548, 0.0094297385485899, 0.27339974339355205, -0.5433061287535441, -0.2989529444005536, 1.664771712731095, 2.305450091397724, -2.505708604688683, \"Cluster 0\"], [1.201840326745573, -0.5809597314105084, -0.9069259474981511, -1.1817490472771404, -1.4260332186508329, 1.6693190484018408, -0.25474231875629433, 0.5047337300608415, 0.13325408052943527, -0.5502780198820237, 0.9249753821660072, -0.862930067751531, -1.8120073000491967, \"Cluster 0\"], [-0.598544356771403, -0.004725633951070842, 0.43756711641731333, 1.3538283602057763, -0.35086956139053604, 0.8926605832209845, -1.0119791744684916, -0.5653434924565348, 1.130777054227202, 3.4346875390775606, 1.6451571092139314, 0.03767550558760481, -0.6964870595551613, \"Cluster 0\"], [0.38893866625833196, -2.6953776749880127, 0.6739713208610354, -0.7911170631844099, -0.8849649045510016, 0.6171242655027255, 0.9908974298980411, 1.375617494537389, 1.69918882451524, -1.415561606490964, 1.004010979997202, 0.7112132585565313, -2.4799549069515283, \"Cluster 0\"], [-0.37318725824800847, -0.2212150781453222, -1.0242883095052917, 0.18744182378511054, -0.4425745394634664, -0.5214437896560365, 0.17054607968101837, 0.03900940366653389, -1.6758879877435218, 0.2413629733843204, -0.5687908653104693, -0.15250606433195574, -0.9732150660378059, \"Cluster 0\"], [-0.2411314829462155, -0.10874493982891108, -0.26907038425496543, 0.4884466220140455, -1.0617688684270647, 0.1017156989618834, 0.3869307196747905, -0.8801325667616884, 0.5836769510631797, -0.11189986135871008, -0.048770312925112844, -0.4964066422299254, -1.069734667903583, \"Cluster 0\"], [-0.27197806408066305, -0.10195468556133279, -0.6575491697060005, 1.2852761154109873, -0.11478339084077534, 0.6375869281557919, 0.552563377480471, -0.14134963821358365, 0.7066235358556561, 0.7995282285985514, -0.06965925328568245, 1.0364553431163073, -1.18329008173837, \"Cluster 0\"], [1.6622955914928568, -0.3878481558908351, -0.8750083220843989, -0.18146836846521128, -0.39482083922464367, -0.8979213194346506, -0.06581307035272807, -0.04950409507036175, 0.13177468415334104, 0.14897146420593158, 2.016055969450791, 0.29598739872919977, -1.1668756196343737, \"Cluster 0\"], [-0.9080885995241701, -0.9462867244297939, 0.8870695700092174, 0.13068978499424722, 0.1265306266814343, 1.6026664709187792, 1.0630491321609807, -0.16987723380365974, 0.5564246083605651, 1.90799513792939, 0.7997934950887884, -0.8552441547140168, 0.32264007664075867, \"Cluster 0\"], [0.3881643913390516, 0.7462273045850322, 0.7724184430746808, -0.6533198225335364, -0.37119647719716786, 1.9358163979138785, 1.2119758257184203, -0.6726934988859773, -1.1018040275082854, 0.8639722971191705, 0.6916958857739598, -0.09750984726562742, 0.2016826028866458, \"Cluster 0\"], [-0.8647446090593885, -1.767100510864764, -0.8995544475547789, -0.08435367730974909, -0.38226919578501645, -1.0139406922761411, 0.9274743019703758, -0.4297617355038429, 0.6981222481559137, 0.8330264218781595, -0.4944072983403079, 0.026869878304647345, -0.6677381251462372, \"Cluster 0\"], [-0.7314556908269894, -0.0151189092420141, -0.8887026538429387, 1.266324601325729, -0.33612171960896503, -0.1026360932710683, 1.5288852757025821, 0.9658690003066315, -0.9091491423596955, 0.6475508760720238, 1.880816442008083, -1.7539616352147225, -0.23297562892912474, \"Cluster 0\"], [1.4688223207242939, -2.1171282068927937, 0.3483544112782589, -1.1104326553819455, 0.4263547713709026, 0.5677469354622615, -1.002651368462614, 1.7627236969479116, 0.1812822322731416, 1.3440239701438819, 1.9714389637234098, -3.1903814722024237, -2.174268154502702, \"Cluster 0\"], [-0.15654648616374012, 0.2554728355454121, -0.319513464757026, 0.17239633342608054, 0.38546658312222815, -0.6397243081331613, -0.6448324350314266, 0.7230898079102561, 0.6492519550492184, 1.815070438675864, 0.12294975745649066, -0.5089350478927447, -0.06552767368282837, \"Cluster 0\"], [0.14740668903948737, -2.1446363937828874, 1.5073154935422974, -0.8472881242300102, 0.06807271728286642, -2.378732494566744, 0.9501837934230156, 1.8947651115748876, 1.0517092488521005, 0.2989013556418393, -0.5505540326564535, -0.32485989747658545, -1.8360337498999781, \"Cluster 0\"], [-2.2159881581339116, 0.10524083576053246, 0.7062389630588067, -1.4281757034985387, 0.08101706272775983, -0.1317560581147809, 0.9897439727548222, 0.7644843997243054, 1.3860988976794788, 0.032794025292669796, 0.8647137917074147, 1.5549887630382837, -0.5178779672797958, \"Cluster 0\"], [-1.7632169013922596, -1.0821423291062167, 0.4018661568500964, 0.009611883951345181, 0.3472645509459163, -0.3395089965292328, -1.0218569289928425, 0.1580358997995782, 0.6774905153458544, 0.7204552935451527, -0.6117929515124876, -0.29174186868388935, 0.041072785079201334, \"Cluster 0\"], [0.0929212791032259, 0.014873180545309983, -0.7874756924671439, -0.2272502905532943, -0.7385583111610617, 0.8929673474115667, 2.4393121669966056, 0.6161268127802738, -0.2234021848805965, 0.5291136052904315, 0.8541859915720315, -2.8146142841061312, -2.0200899912522225, \"Cluster 0\"], [-0.006139295287077606, -1.5534349069930538, -0.5810287428138484, -0.0648518074275003, -1.4137539002368247, -1.1050485074307594, -0.32137007132724177, 0.8203150099973274, -0.28854419981920776, 0.46461886855359924, 0.19681272297047775, -0.3702814962838828, -0.2264211827136008, \"Cluster 0\"], [-0.29077873518208397, -1.1244019940245835, 1.4640315416266054, 0.8238054228012998, 0.14021585338939874, 0.9965467289273844, 0.983024824610747, -0.5782934654925153, -1.119060316275918, 0.830257253941097, 0.47810195970028263, -1.4006794095527721, -0.2573277423367568, \"Cluster 0\"], [0.40275086405971633, -0.5833744696157794, 0.668002355122276, 0.21068147758385, 0.5747563870033505, -0.6818072058625889, 0.621457785605429, 1.430013838849357, 0.25017671433190164, 0.838894028630395, 1.1861733778786943, -1.2093448472076056, -1.8025888450690861, \"Cluster 0\"], [0.46686643888181745, 0.52406865254357, 0.7385838594993419, 0.10113776100352266, -0.8315356005024338, 0.3462053613636636, -0.5067421728134881, -0.46481598325826445, -0.7730088133933521, 0.6315293522780715, -0.26163292955217204, -0.12410189459484194, -0.5631957202566601, \"Cluster 0\"], [0.4239484314482108, 0.6627752564664366, -0.03319286690184927, 0.2342426622960445, 0.8809778064153719, 0.3923056307493291, 0.27558707733297205, 0.591627648828258, -1.5663373474561277, 1.2049947769840588, -0.2707815530574231, 0.44289970645388993, -1.0557091321233536, \"Cluster 0\"], [0.8545933038413556, -0.08474889293384075, 0.29749478987060124, 0.1787161419704618, 0.40084886737350073, 0.23376341131480613, -0.2836532107330331, 0.2562181098455831, -0.8998583733894607, 0.6185014123842555, 0.22008964516362745, -0.32570485167865826, -0.4287124211722958, \"Cluster 0\"], [0.11518091265054212, 1.115576031601577, 0.0740059267140401, 0.2670598410169037, -0.0462340272780169, -0.44339676829353586, -0.7190756027972961, 0.059099303949422616, -0.07919929366107492, 1.7926158659126878, 0.3702166784955342, 0.45972255942717827, -0.6403023194921993, \"Cluster 0\"], [-0.2602601534015177, 0.2587427910811933, 1.797269898433779, 0.43760962519011337, -0.49392479928374106, -1.5571105490968893, 0.34805622258952296, -0.6260465621007486, 0.3321495736742299, 1.3982414472915463, 1.0652506920913616, -0.8956312116082238, 0.47512871994287553, \"Cluster 0\"], [-0.17262661233587667, -1.2698799962194625, -0.1650098714395152, 0.43392816609039914, 0.14782334741632866, 1.3178295645386098, -0.3385130838213188, 0.38220111577510807, 0.18348062930593514, -0.15752203645604632, 0.1876586567952842, -0.9670253737631095, 0.27280629384736216, \"Cluster 0\"], [0.17063393893226703, -1.2724545372004759, 0.965132848507078, -1.0691855682456373, 0.4924381401768856, 1.8416474668623957, -0.15565065542256284, -0.18978686519865196, -0.2695101674492552, 0.0017818665788555813, 0.3963093064858642, -0.19324237781738646, -1.3777982737887957, \"Cluster 0\"], [1.1726767405065404, -2.1914624478560216, -1.7607043136599192, -0.17415034931257256, -0.08332149713957747, -0.41313411222589413, -0.8241215196720774, 1.8374337825097233, 0.20888613573244347, 0.15903167936187598, -0.020088300880573787, -1.0453709398934254, -1.3170892095498823, \"Cluster 0\"], [-1.4765029771812894, -0.36569607016683003, 1.177226947184083, 0.6673252843055963, -0.46287914963504656, -0.9219584310646787, -0.6318969642633541, -1.0214442185901103, 0.666509827409887, 0.2510241722998854, 1.1999179388093015, 0.5478820550735731, -0.11878978803197426, \"Cluster 0\"], [0.40756961279624737, 0.8964985160797592, 0.8192454517007468, 0.0526123481097564, 1.7346895876143005, 1.1526543849529383, -0.33225824640196383, -1.0491690151544815, 1.2137406027243463, -0.12516256472935766, -0.07777909519067149, 1.472663987264789, -2.6452804638973753, \"Cluster 0\"]], \"hoverlabel\": {\"namelength\": 0}, \"hovertemplate\": \"Cluster=%{customdata[13]}<br>FAC1=%{customdata[0]}<br>FAC2=%{customdata[1]}<br>FAC3=%{customdata[2]}<br>FAC4=%{customdata[3]}<br>FAC5=%{customdata[4]}<br>FAC6=%{customdata[5]}<br>FAC7=%{customdata[6]}<br>FAC8=%{customdata[7]}<br>FAC9=%{customdata[8]}<br>FAC10=%{customdata[9]}<br>FAC11=%{customdata[10]}<br>FAC12=%{customdata[11]}<br>FAC13=%{customdata[12]}\", \"legendgroup\": \"Cluster=Cluster 0\", \"marker\": {\"color\": \"#636efa\"}, \"name\": \"Cluster=Cluster 0\", \"notched\": true, \"offsetgroup\": \"Cluster=Cluster 0\", \"showlegend\": false, \"type\": \"box\", \"x\": [\"Cluster 0\", \"Cluster 0\", \"Cluster 0\", \"Cluster 0\", \"Cluster 0\", \"Cluster 0\", \"Cluster 0\", \"Cluster 0\", \"Cluster 0\", \"Cluster 0\", \"Cluster 0\", \"Cluster 0\", \"Cluster 0\", \"Cluster 0\", \"Cluster 0\", \"Cluster 0\", \"Cluster 0\", \"Cluster 0\", \"Cluster 0\", \"Cluster 0\", \"Cluster 0\", \"Cluster 0\", \"Cluster 0\", \"Cluster 0\", \"Cluster 0\", \"Cluster 0\", \"Cluster 0\", \"Cluster 0\", \"Cluster 0\", \"Cluster 0\", \"Cluster 0\", \"Cluster 0\", \"Cluster 0\", \"Cluster 0\", \"Cluster 0\", \"Cluster 0\", \"Cluster 0\", \"Cluster 0\", \"Cluster 0\", \"Cluster 0\", \"Cluster 0\", \"Cluster 0\", \"Cluster 0\", \"Cluster 0\", \"Cluster 0\", \"Cluster 0\", \"Cluster 0\", \"Cluster 0\", \"Cluster 0\", \"Cluster 0\", \"Cluster 0\", \"Cluster 0\", \"Cluster 0\", \"Cluster 0\", \"Cluster 0\", \"Cluster 0\", \"Cluster 0\", \"Cluster 0\", \"Cluster 0\", \"Cluster 0\", \"Cluster 0\", \"Cluster 0\", \"Cluster 0\", \"Cluster 0\", \"Cluster 0\", \"Cluster 0\", \"Cluster 0\", \"Cluster 0\", \"Cluster 0\", \"Cluster 0\", \"Cluster 0\", \"Cluster 0\", \"Cluster 0\", \"Cluster 0\", \"Cluster 0\", \"Cluster 0\", \"Cluster 0\", \"Cluster 0\", \"Cluster 0\", \"Cluster 0\", \"Cluster 0\", \"Cluster 0\", \"Cluster 0\", \"Cluster 0\", \"Cluster 0\", \"Cluster 0\", \"Cluster 0\", \"Cluster 0\", \"Cluster 0\", \"Cluster 0\", \"Cluster 0\", \"Cluster 0\", \"Cluster 0\", \"Cluster 0\", \"Cluster 0\", \"Cluster 0\"], \"xaxis\": \"x2\", \"yaxis\": \"y2\"}, {\"alignmentgroup\": \"True\", \"bingroup\": \"x\", \"hoverlabel\": {\"namelength\": 0}, \"hovertemplate\": \"Cluster=%{x}<br>count=%{y}\", \"legendgroup\": \"Cluster=Cluster 1\", \"marker\": {\"color\": \"#EF553B\", \"opacity\": 0.7}, \"name\": \"Cluster=Cluster 1\", \"offsetgroup\": \"Cluster=Cluster 1\", \"orientation\": \"v\", \"showlegend\": true, \"type\": \"histogram\", \"x\": [\"Cluster 1\", \"Cluster 1\", \"Cluster 1\", \"Cluster 1\", \"Cluster 1\", \"Cluster 1\", \"Cluster 1\", \"Cluster 1\", \"Cluster 1\", \"Cluster 1\", \"Cluster 1\", \"Cluster 1\", \"Cluster 1\", \"Cluster 1\", \"Cluster 1\", \"Cluster 1\", \"Cluster 1\", \"Cluster 1\", \"Cluster 1\", \"Cluster 1\", \"Cluster 1\", \"Cluster 1\", \"Cluster 1\", \"Cluster 1\", \"Cluster 1\", \"Cluster 1\", \"Cluster 1\", \"Cluster 1\", \"Cluster 1\", \"Cluster 1\", \"Cluster 1\", \"Cluster 1\", \"Cluster 1\", \"Cluster 1\", \"Cluster 1\", \"Cluster 1\", \"Cluster 1\", \"Cluster 1\", \"Cluster 1\", \"Cluster 1\", \"Cluster 1\", \"Cluster 1\", \"Cluster 1\", \"Cluster 1\", \"Cluster 1\", \"Cluster 1\", \"Cluster 1\", \"Cluster 1\", \"Cluster 1\", \"Cluster 1\", \"Cluster 1\", \"Cluster 1\", \"Cluster 1\", \"Cluster 1\", \"Cluster 1\", \"Cluster 1\", \"Cluster 1\", \"Cluster 1\", \"Cluster 1\", \"Cluster 1\", \"Cluster 1\", \"Cluster 1\", \"Cluster 1\", \"Cluster 1\", \"Cluster 1\", \"Cluster 1\", \"Cluster 1\", \"Cluster 1\", \"Cluster 1\", \"Cluster 1\", \"Cluster 1\", \"Cluster 1\", \"Cluster 1\", \"Cluster 1\", \"Cluster 1\", \"Cluster 1\", \"Cluster 1\", \"Cluster 1\", \"Cluster 1\", \"Cluster 1\", \"Cluster 1\", \"Cluster 1\", \"Cluster 1\", \"Cluster 1\", \"Cluster 1\", \"Cluster 1\", \"Cluster 1\", \"Cluster 1\", \"Cluster 1\", \"Cluster 1\", \"Cluster 1\", \"Cluster 1\", \"Cluster 1\", \"Cluster 1\", \"Cluster 1\", \"Cluster 1\", \"Cluster 1\", \"Cluster 1\", \"Cluster 1\", \"Cluster 1\"], \"xaxis\": \"x\", \"yaxis\": \"y\"}, {\"alignmentgroup\": \"True\", \"customdata\": [[0.7140172115400907, -0.35816477617332865, -0.0955647680583381, 1.4467441591282288, -0.11425381313017287, 0.3097740997281532, 0.490320379557595, -0.8018229295971352, -0.5450596863961195, 0.6766703553705516, 0.6730088261340915, 0.7502214091411131, 0.132976714095145, \"Cluster 1\"], [-0.3195067839056818, -0.8293612606426245, -1.5803290666572567, 0.09009662322070126, 1.9332306986905685, -0.7427598994244642, 0.7502532686476421, -0.5666395826629153, -0.38003734400438927, -0.8792907635446171, -0.2519051456049518, 0.3812267962672626, 0.22437680809444943, \"Cluster 1\"], [1.7075679346092356, 0.5069580841503747, -1.6354044074321734, -0.3434568062665081, 0.30876879621530795, 0.3660200951779205, 1.1818008710151127, 0.8401650391248956, 1.2494412190814703, -1.5106965969521566, -1.477228458977947, 0.6946004398961644, -0.3808129104977779, \"Cluster 1\"], [0.2393649479682817, -1.3434290438671155, -2.0550738622067932, 0.3325410859036868, 0.33493989364057614, 0.39164736674601197, -1.9440881348154757, 1.3576142717471587, 1.6639368307691762, -0.4871399575427141, -0.8847625363226564, 0.6317529785429308, 1.7466212519957252, \"Cluster 1\"], [0.31170260897040936, -1.755726266088951, 0.415952742353385, 0.18855338415679299, 0.2562242814952205, 0.7664532422734391, -0.5147710832107425, 0.3482773973131898, 0.05145914276348612, 1.0828330401645447, -0.3215897575208402, 0.8398585062597764, 0.5266235523503814, \"Cluster 1\"], [-0.7000646278087902, -0.20508484804878271, -0.5975303879992182, 0.7930607170576763, -0.46080739309055735, -0.0473139894724305, -0.5911419505290486, -0.5087494313830487, -1.2659135243019262, 0.47226942723797444, 0.2239451049648539, 0.5464886925258124, 0.45839432648621536, \"Cluster 1\"], [0.37367118049966896, -0.9488569619102863, 0.5814867357781884, 0.9017367086918969, -0.3732993435504914, -1.734902371273872, 0.6327892593878321, -1.5057314888639122, -0.4892887468734986, 2.8053550276292327, 1.30568249376804, 1.284541992217549, 0.6057102527880096, \"Cluster 1\"], [0.3942392046060162, -0.4651792595683203, -0.6019555391842271, 0.7728054842856595, 1.6656365355658183, -0.7026826056195778, 0.19875571156254854, 1.5212669571562782, 0.4464163556493675, -1.1902341154851623, 1.117925074492597, 0.40907282046721205, 0.5105093877332689, \"Cluster 1\"], [1.8570922392031628, -0.4558109432082334, -1.0813743672619045, 1.1209780867555463, -0.9936234544345892, 1.5255610319004211, 0.06498058896617395, -0.21999844833393892, 0.522129795356635, -0.5104500821490904, 2.0956729696115604, -1.947799020578852, 1.6651704077202887, \"Cluster 1\"], [-1.3867184279963425, 0.8184811690959879, -1.3278452792788529, 1.6012662885897435, -0.5296659934120659, 0.25392855306863577, 0.9062024490283513, -0.6387772949401155, 1.485533832746212, -0.33375273568701125, -0.9979597588590849, -0.8748533922789309, -0.5649935161939768, \"Cluster 1\"], [1.4247167508481298, 0.8968758389612539, 0.7821039367641162, 1.1753651318292957, 0.2248324345288728, -0.26208973325364465, 1.216265881469343, 1.0990370743851645, 0.06276434359855741, -1.6261427470598773, 1.3755825839955906, -1.101123381050801, -0.5325825793000898, \"Cluster 1\"], [0.7977876847003516, -0.27758646179836877, -1.2044742208360424, 0.23307027751866272, -1.2019042233422959, 0.6637493822769744, -0.26214457020637405, -0.20076276756862813, -0.34155172569630976, -0.2299235761089652, 0.8490783398298364, -0.7460405878269923, 0.6747345980070931, \"Cluster 1\"], [-0.622092837998272, 0.7361501112053408, -0.38391643183418894, 1.4086047469445109, 1.533080204844466, 0.9205813912277993, 0.981260467132751, 1.224994811984589, -0.6885990269966542, 0.3874498819392025, -1.5877932807500714, 1.1843449274929283, -0.1934650091782202, \"Cluster 1\"], [0.33457700377103244, 0.2191893907479349, -0.9746150278323653, -0.3082857445262461, 1.5317854242463682, 0.5189477870387129, 0.4731533518553437, -0.4455948309263992, -0.06977072753263523, 1.2620934695150852, -0.6090158286329679, 1.4887831398045352, 0.8251105556191894, \"Cluster 1\"], [0.6412381036688372, -0.13805733668889203, -1.2783950124330137, 0.18383427817011352, -0.5431444541922534, -0.984016473481322, 1.0693220849270966, -1.7185437138761575, -0.6841725687628967, -1.555965279886256, 1.716313469936106, -1.724877282397694, 3.3713831324107675, \"Cluster 1\"], [-1.498654768888127, -0.26730331515131345, -1.197341267972358, 0.8108815744588026, 1.5277780322736079, -1.345082957948489, 0.8126844055701238, 1.5316972552953285, -0.7711676537372153, 0.14952776732785986, 0.6380344717403442, 0.36486260158451755, -0.020337755334549106, \"Cluster 1\"], [0.2932366753774251, 0.7065839015575396, 0.2845490945820897, 0.5570140283328863, 0.3797181571019091, 0.612965377228398, 0.9617031512251965, 0.08205779656646274, 1.1164985212160807, 0.8758925494968948, -0.08692320222866312, 0.27696958938556976, 0.8724678391124608, \"Cluster 1\"], [1.8188309527999473, 0.7334190266306173, -0.9583911057756416, 0.9494053677042215, 1.525110162530023, -2.556005426714764, 0.1231147637172121, -0.19691935542329836, -0.6893964121268694, 0.012669545972344109, -0.021033470843746203, -1.4767231365866138, 1.6116802119480553, \"Cluster 1\"], [1.3605283622148143, -0.19279455168233206, -0.6720893670555899, 1.1450774784400428, -0.9348479074187208, 0.7227220671770106, -0.45780958128875404, 0.33983168594715346, 1.261421426987352, -0.3842983604986899, 0.36131235459728306, 0.19341951363252063, 1.1719529126201884, \"Cluster 1\"], [0.6638480293509069, 1.2835867601955653, 1.3260435904975776, 1.8301930243637707, 1.2566309872966437, -1.2728629022549087, 1.185453143205547, 0.7458801865223551, 1.4992220990578984, 1.3670346179512722, 0.5435372493387279, 1.3093558600631308, -0.01006008544043436, \"Cluster 1\"], [0.29425748526835527, 0.8909814081474291, 1.5376868898646454, 0.8770125072461863, 0.8580044938395988, 0.39326121132351793, 1.01756581763233, -0.5154499942045867, -0.002209270648493934, -0.15674256410974788, 0.6861797849868702, -0.3721860728999096, 0.29918216341965875, \"Cluster 1\"], [0.8200539188128965, -0.3682133305929336, -1.4360505954177851, 0.24352319004477285, 1.0477854853954103, 0.3153333612961996, -0.6224853397215843, -0.2815476038611373, -0.3639188549285494, -0.5574222854241391, -0.9633993717983272, -0.22521299245222037, -0.17918659707024887, \"Cluster 1\"], [0.4390652085043079, 0.41390781719396447, -1.0175586503166247, 1.1301156465357638, 0.8999897607892755, 0.36632215397009943, 0.9879526269623261, -0.12689632464681555, -1.962251857264852, 0.6587905387720683, -0.38911747313844675, 0.6213944611474014, -1.0977423537890054, \"Cluster 1\"], [0.8385924710611696, -1.223458050827384, 0.864301214524346, 2.938202297375431, 1.4867323284147704, 0.11823008314218739, -1.2441871445672366, 1.4751202873021823, 0.3876142220047722, 0.003177584052728773, -0.5139230738591635, -2.142161694991309, 1.1873959102598486, \"Cluster 1\"], [1.3309721677564552, 1.8650847582892467, -0.9063798918157776, 0.6147993489623144, 0.2539603828368706, 0.8008537541620615, 1.2462762769705482, -0.624634148161074, 0.9481525395831537, -0.6956915345185626, -0.11952036261288713, -0.25501972923226923, -0.3822335191396162, \"Cluster 1\"], [0.22050045269398286, 0.5075446313118102, -2.1641532968724984, 2.193753733333956, 1.384581700959521, 0.09027071242750186, -0.11038110007124553, -0.49667301169831196, -1.2457927719540176, -0.586828367589569, -2.689195898875239, -1.350902083632919, -0.4036933111886142, \"Cluster 1\"], [0.6642775470817232, -0.7669558006415543, 1.3573955949306664, 2.1631457696016216, 1.1552940067645645, 2.16681897968933, 1.0004102093116427, 1.6624610770751673, -1.5935803845939414, -2.529100770938272, -0.08770956370977089, 0.8442948243963126, 1.9100095765600758, \"Cluster 1\"], [-1.4123324553836345, 0.4232508099852285, 0.3369244360813737, 1.1774393740048001, 0.8415211210069882, -0.06299188239222843, 1.4057342220349267, 0.7711157241506351, 0.48034367101781605, 0.8356929869388386, 1.206235339267088, -0.4391900183634508, 1.484656786305315, \"Cluster 1\"], [0.8488562248647475, 0.3878538181368507, -0.6678563458016537, 0.9205502580459076, -0.6861489159943192, 0.4953476494129812, -0.8267168420663321, -0.17264302039134832, -0.030326125931336927, 0.9502985544632605, -0.10034526129227021, 1.110591356899895, 0.16986835369658446, \"Cluster 1\"], [1.477222792145142, -2.597907422904731, 0.09430735549966718, 0.09713401400696657, 1.3036168669510022, -0.09931740106641528, 0.9435480482066837, 0.3985193921458381, 1.4002603962672548, 1.2176827044130027, -1.5104032689942222, 0.0809620432048068, 1.0281441236103406, \"Cluster 1\"], [0.49684496093779346, -1.252998408072228, -1.5074040733061018, 1.3784959690210188, -0.11011444997699067, -0.10129335540276872, 0.7530159142584729, -0.017201100190615146, 0.3218230529769752, -0.8210233300181643, -0.33434645100962807, 1.6205475666736497, -0.8207315314686806, \"Cluster 1\"], [-0.8368465945939817, -1.3005704697675697, -0.7529133393935701, 1.7844592713988432, 1.1810639592444505, -1.2003546569873127, 0.7372749778915048, -1.622361761904695, 1.090233821976745, 0.19342158879061477, -0.35937906194075747, -0.1891056078667153, 1.69652952657926, \"Cluster 1\"], [-1.1334660501744978, 0.06106369217401411, -1.2013123711888152, 2.1130967616520553, 0.36775828558835627, 0.7328422875189964, 2.0689512977053877, 0.5552684157359453, -0.6777190610920725, -2.311628790070984, -0.09436666098822255, -2.385598881421424, 0.5304264645900435, \"Cluster 1\"], [-0.2693510473615264, 0.2905344762700979, 0.3666274110709746, 0.9868668073627909, 0.1545264493326174, -1.0947260036503763, -0.18691049923381847, -0.5005618246111239, -0.026530788210865148, 0.1429866834754443, 0.849219618718845, 1.0842100638227676, 0.8485157931463934, \"Cluster 1\"], [0.09840375637007907, -0.7462951474061671, -0.5656315300575112, 1.0713321529830422, -0.751485409950845, 0.3408196504464329, -0.4717152359733414, 0.8749642649531042, -0.5090970951080143, -0.8992130243946618, 0.8395134628207629, 1.4773474405588098, 0.30290547772105836, \"Cluster 1\"], [0.9158302465209844, 1.415407349758907, -0.7296144087508287, 1.8990683259621433, -0.2684509605187566, 0.6988080321207969, 0.3666734085168358, 0.8151838737115101, -0.8037412627876772, -1.196371106853866, -0.056971601193530626, 0.8693435345354801, 0.41205485011921145, \"Cluster 1\"], [0.9245462063053427, -0.7006683121894828, -1.379168053657783, -0.5320269286850512, 0.07435683928081979, 0.5912096718079778, -0.3860819378009186, 0.8000399530453303, 1.0978088702810158, 1.251920292879221, 0.30381363380767035, -0.5321010421167053, 0.529223711722731, \"Cluster 1\"], [0.8994386252581879, 0.1466688204983296, 0.31499849892749276, 1.1883989508338162, 0.6829345740449457, 0.9499169074475995, -0.8749530461099012, -0.5893333665229022, 0.8798138216068146, -0.49155740729662856, -0.12717328298641067, -0.42870293919151625, -0.033604261958832406, \"Cluster 1\"], [1.8055736908620008, 1.0580252741648164, -0.8992513057101695, 0.8566734043680356, 1.87990785860954, 0.17699498411660494, 2.116261680034795, 0.46046315472827637, 0.23509649022581172, 1.0581455476215826, 1.743650352389755, 1.471773103021439, -0.07663871360226097, \"Cluster 1\"], [0.110131346804343, 0.6321881587310691, -0.4663824776648638, 0.8193137777496305, 1.1517720511427951, 0.8836336067127748, 1.2640188520700837, -1.0125209680152791, 0.8802154140366976, 0.4009436632812741, -0.2364440269221977, -1.0174552561256052, -0.08524225498910494, \"Cluster 1\"], [1.0501519347428572, -0.025756375624272923, -0.8900393591213548, 2.509783467480785, 1.3623855838003254, -0.28303711096479645, -0.9251394946393763, 1.214794274894971, 0.4256052099812084, 0.9120070461311599, -0.5411413321207297, 0.4828780739730115, 0.3258066449691121, \"Cluster 1\"], [-0.09014299424966193, 1.6252022067809528, -1.438737475821272, 1.3373702626012602, 0.34051159093974864, -0.38204796321372975, -0.15689294047051425, 0.4645490940954442, -0.07957554063200023, -0.0728260101648586, 0.12730346154577493, 0.3638580033394539, -1.2812341437980528, \"Cluster 1\"], [-1.9082363980715926, -0.41007368077675177, -0.5703955624269856, 0.09952246447730939, 0.6535302909481907, 0.8343148005984206, 1.0047020845032368, 0.6916551074306267, 1.2836009044805465, -0.21528259402324773, 0.7782773045528032, -0.1715189800975186, 0.7391624716575161, \"Cluster 1\"], [0.25302496414116477, -1.9252017193220576, -1.315793515516073, 0.5204031187743501, -1.3588693563189294, 0.6185911352038518, 0.81068847867482, 0.37269116600548474, 0.19824046863065656, -0.1670373660960085, 0.3154537031142557, 0.4240438871977632, 1.7914037962604672, \"Cluster 1\"], [0.36209001495184834, -0.07500234163826713, -0.9803729417580815, 2.2277665407592497, -1.1456128447863256, 0.5804487864712008, -0.7813702283216805, 0.7269081014842608, -0.40975767923260037, -1.6701437893092355, -1.2115209744284647, 0.0881608168328571, -1.0443153474969706, \"Cluster 1\"], [0.4540111737335666, -0.7098828076979078, 1.1904897138855142, 0.9212464943093529, 0.435303846265954, -1.9948505480888263, 0.373412701935514, 0.10142913372087406, 0.04203791062809914, -0.08722823171203595, 1.1106559596800045, 0.5490577987267353, 1.0651893459396635, \"Cluster 1\"], [0.020542390728363037, -0.4690539528037907, -0.7549006410483305, 0.1797568531107105, 0.38426375499555226, 0.7111772406033027, -0.17850870234103497, -0.06610186091302149, -0.7005621599649948, -0.24272452248525414, -0.015298783494942085, -0.23042146845109568, 0.06215000756664698, \"Cluster 1\"], [-0.8816572376793979, 0.22885542282887852, -0.8462681357504013, -0.6581307475270178, 1.5972118681462377, 0.6741071544433112, 1.1358510530287254, 0.9979320382893353, 1.7460893327067875, 1.4513911296439563, 0.828106783240143, 1.5234878892156096, 0.3151269594203036, \"Cluster 1\"], [2.2139048673135964, -1.5099980241074684, -1.2125871126122918, 1.41624917193127, -1.3809384925681851, 0.6709985377874472, 0.14492460331710702, 0.5934260520735537, -0.6124571501434918, -0.4797767368401379, 0.02409448032454107, -0.16270266684211906, 0.9531822559905136, \"Cluster 1\"], [0.6428067522688516, -0.40054502300801015, -0.6002774142010263, 0.7282296761974275, 0.8313604310204121, 0.03533867606375517, 0.34303197761631515, 0.03153029922328936, 0.1988201262854989, 1.349584448176113, 0.3637583282535798, -0.4991465479968764, 0.45248081333056844, \"Cluster 1\"], [0.15373884152948897, 0.7326211768680311, -0.5356975619601679, 0.12138035096837611, -0.11590471814521092, -1.517751888563023, 0.551346391038115, -0.29648994312555377, 0.3266945439173565, -1.0367291573520492, 0.08850801886511403, 0.12693909965348016, 0.03455982629393336, \"Cluster 1\"], [0.2808553856322902, -2.187436930586348, -1.0352311179965599, -0.5835157880233507, 0.7515792523031128, -1.4651786394557273, 0.13072338643792503, 1.0625228638420545, 1.4385341931526212, -0.18684566033910036, -0.26753597573582016, -0.5389271715594777, 0.937896817369901, \"Cluster 1\"], [-0.9284694725910727, -2.3688013545753575, -1.7666783920677926, -1.2151015395834666, 1.1624048000305216, -2.8589821320103304, 0.9435364297998976, 2.2762285870410963, 0.511412987884745, -2.1113639720267687, 1.0377096085051678, 1.0616031789282072, -0.00017014653654405087, \"Cluster 1\"], [1.133134271672507, -0.8981797505496849, -0.005673129528096887, -0.3767090146537485, -0.0290351430714415, -0.08766074732938471, 0.1387990838825646, 0.6161552995059841, 0.6906156763446741, -1.6317025524071096, -0.44508286573449596, -0.18082496913958265, 1.0362927287072492, \"Cluster 1\"], [0.7125538741261358, -1.0468259385630052, -2.3500883172483378, 0.8062568516599952, 2.3907132087239282, 1.532881419866088, -0.6888416607173381, -1.1066569551818537, 1.3566539166409717, -2.175233424123973, -1.459643409067819, 0.34103654760626023, 1.2934050914840516, \"Cluster 1\"], [0.12077766320164739, 0.2741883969503963, 0.03446576072956657, 0.48568789614158964, -0.1865529164019538, -0.7138090798852001, -0.2304808303376089, -0.2370624644855978, -0.9197255189287211, -0.15620986176163168, 0.30242928762731347, 0.8134568782376338, -0.23835433197934094, \"Cluster 1\"], [1.551165027669614, -2.6724831514194216, -1.544752425313182, 1.129970531428362, 0.31982270218700687, 0.1941091745957854, 0.39561078469733213, 0.4315617858920009, 0.6934406629988074, 2.256999484814859, 1.5384543077436394, 2.260211023077435, 0.6758003093314994, \"Cluster 1\"], [-0.8690884735546218, -0.4826690629355565, -1.922303660913026, 0.46900755431106383, -0.7673443367563707, 0.4283722376863582, 1.9713391887592624, 0.7626365504781222, 1.6152992686676397, 0.5230023930680316, 1.2595913353141366, 0.5303218954495184, 2.035094043828528, \"Cluster 1\"], [1.6333608862973565, 1.0875039061616054, -0.2605911485743518, -0.570771871970919, -0.5033803744085257, -1.501279277122124, 1.1380469965556905, 0.3703206842595558, 1.864197357587444, 0.42326872721820324, 0.8267649577785846, 1.3910928631661352, 0.5758085080265085, \"Cluster 1\"], [0.023040883845019445, -0.3449565309507659, -0.36637117135120734, 1.2701709900529419, -0.381305025064758, -0.4745575598968422, 1.325676558997648, 0.022185472715297035, 1.4363041527775997, 0.017032884592003854, 0.5244754399642038, -0.738042891192699, 0.3449148387227004, \"Cluster 1\"], [-0.7059293516575184, -0.5447663169546184, -1.5635143204320523, 1.0369631431810495, -0.6831461307380269, 0.56674429477166, -1.6405159938192975, -0.6157707656171418, 0.5329682644473468, -0.40428114899721396, -0.41986963284416245, 0.6568813622629133, 1.2460828614730224, \"Cluster 1\"], [0.03709733592796404, -0.5250442283322877, -0.9799264784278423, 1.8482393196306413, 0.7963148131333043, 0.052571855862607014, 2.0851005401151017, 0.05449846882125024, -0.18040072414666514, 0.02685345486035246, 0.5229279766396976, 0.9952071892142949, 1.1471037878586923, \"Cluster 1\"], [-0.055660131715914996, 1.1086157482095105, -0.8462365561187144, 1.3504091692898093, 0.09052241538730818, -1.7869124769841196, -0.2926246842181608, -0.16221053568024768, 0.16258029056932016, 1.2630743582110238, 0.2995567195004789, -0.4040091863874539, 0.5450737681015013, \"Cluster 1\"], [1.0071563395687517, 0.592450435790276, 1.5816059282422155, 2.295976062379502, -0.22444309943758525, 0.6748253112036187, 0.3861463201308117, 0.8792085983614937, 0.4820374754552834, 0.01767167182883124, 1.059007726078638, 0.9776087577963396, 0.6317663602077076, \"Cluster 1\"], [0.33864613069153904, 0.5632323496988383, -1.0544654508071352, 0.8169565093534507, 1.6699489954975473, -0.5311572623604655, -1.1280602442259182, 0.34055851058924946, 0.7582748138841151, 0.03970448985759923, -0.2498325667423903, -0.5815452026133271, 1.1394137724562736, \"Cluster 1\"], [-0.22191862965758372, -0.35700607859826694, -0.7534981525213654, 1.2263422561188435, 1.4609109640426454, 0.3310507500111954, 0.6729897037774275, -0.39437337799619476, 0.0576151623901798, -0.20590542106528786, -1.6734650219974538, 1.0579651949442974, 0.6029636273838166, \"Cluster 1\"], [1.1421153687303227, 1.9008339137952726, -0.8454599218452873, 0.3899309130750174, 1.7173043704691644, 0.9015389278916706, 0.9380609321838571, 0.45162905111063134, 0.5519813464067115, 1.4627200799287288, -2.248670312321266, 1.0457753507830883, -0.49944042533199495, \"Cluster 1\"], [-0.2604304715592651, -0.20854337262485442, 0.012324822480631603, 0.05946588847038703, 0.25164875273594994, -1.8363713363929437, 1.3896319301597855, 0.05984262912704452, -3.3137078176276384, -0.7735628861098212, 1.4328236258306193, 0.27375296579871067, 0.8497003336152139, \"Cluster 1\"], [-0.5523695083557453, -0.292818106847687, -0.713032808703171, 0.0860256959590484, 0.16573431337717853, 0.0883729081362624, -0.2682774575112095, 0.5797771833616993, 0.7745013236609946, 0.341395207846631, 0.13853200391502493, 1.3004384513948923, 0.5731675532755269, \"Cluster 1\"], [1.4314826662261222, 0.31570787115653204, -1.0006769768972246, 1.7188422714047493, 0.3365313303429131, -0.6098894873408055, 0.07858219886774839, -1.7527757625429101, 0.6401085236386691, -0.723066811099745, 1.6301388467778748, 0.9913123669318554, 2.0215013923108685, \"Cluster 1\"], [0.34440717550854066, -0.2882966105679402, -1.331189606296915, -0.39778831359030925, -0.7617722732860509, 0.25262086962447344, 0.24546941312597562, -0.5028901258279661, 0.47367426602175616, -0.3359655918718941, -0.11388100840300917, 1.5072337930191975, 0.4989691947377063, \"Cluster 1\"], [1.2416785043018859, -0.7663997997762748, -2.375643301571164, 0.803953014117239, 1.117003322260439, -2.0686920727963996, 1.1907495854650243, 0.9979126591461315, 0.6773698789637715, -0.4044218584521322, -0.2651883085178247, 1.780250460995434, -0.5250456918947846, \"Cluster 1\"], [-0.03935627603091615, 0.21601004733782633, 0.14711406244175138, 0.7449983788453483, -0.5192664716573013, -0.6959423167053737, 0.09480603690936944, 0.19590132631377, -0.8410343579900992, -1.040132836913434, 0.9625148346269367, -0.08733867688916508, 0.6327040719886358, \"Cluster 1\"], [0.609011036160001, 1.038393010755452, -0.6226637034441022, 0.4741517638615653, 0.6487439276129322, 0.40056267862023415, 0.1589525318202086, 0.022226490917264728, 0.11846343184089207, 0.2822385138492318, 0.8711199670521247, -0.08352282389451329, -0.2582753666264311, \"Cluster 1\"], [0.7664954248986279, 0.42026347642947337, -1.5845920239599718, 1.0852058258233563, 0.14701856316804002, 0.7857071509603963, -0.21947179120571605, 1.0816054073495283, 0.682403986828867, 0.17192435411685522, -2.2155141523696384, -0.601569187670342, 0.6928539116343047, \"Cluster 1\"], [0.18365652881200134, -0.2979572226728785, -1.392634091776747, 1.4005147155649944, 0.45949549667622924, -0.8718192695664188, 0.17725327905281296, -0.3627118076357619, -0.5532416387253243, -0.28985156738361295, -1.2412991265300668, 1.7531928646051105, 1.5179944898025441, \"Cluster 1\"], [0.5296267526182864, 0.23854310078013824, -1.1047472932508768, 0.36078796193320034, 0.2793483973961823, -0.5498883340167394, 0.5195354550280777, -0.11572074760429059, 0.5281408003325879, -0.41716400769791023, -0.6335884064149713, 0.5031536441632408, -0.30473588122006395, \"Cluster 1\"], [0.3167427057653993, 0.3847273496002357, -1.3654549562496567, 0.6341683904495179, -0.629223649115113, 0.7407390417175221, -0.9791823003119422, -0.6922641892923812, -0.49237610803330534, 0.658289976445136, 0.044916777495887475, 1.493462414453649, -0.33226289484034965, \"Cluster 1\"], [0.5391930579937024, -0.3114011741476858, -0.5579170204609899, 0.17268109937164933, -0.027631602594708475, -0.02109980628713784, 0.3145089393222079, -0.054479506560997294, 1.0235662313420237, 0.6027379045528873, 0.2010339704732939, 0.350196061998027, 0.12509373810566335, \"Cluster 1\"], [1.0994438469142247, -0.5606268766742102, -0.23404663756771035, -1.868681617440776, 1.015964014796777, -1.799296021907168, 1.7589440779928673, 1.6251086646128412, -0.6060870547513045, 0.23283173571424015, 0.23277458931012895, -1.9033510836047178, 1.7447872826002895, \"Cluster 1\"], [-0.39264945021896924, -0.662903560800478, -0.3584823345744803, 0.015328280798590083, 0.6088488802159704, -0.19402017729713023, 0.7640068769254478, 1.499802226838659, -1.9387130478438832, -0.015337753465276036, -0.7702875073895459, -0.30899786534331936, 0.4329105467293549, \"Cluster 1\"], [-2.0687894195685543, 1.3208169260711364, -1.3341712851792613, 1.330593114487074, -1.131252352447386, 1.5646202046456525, 0.01314616645030825, -0.056334907611671405, 0.038530206711357436, 0.6284795228579179, 0.8360434236615945, 1.2846677712790586, 2.3687590725390772, \"Cluster 1\"], [0.6893371457636785, -1.8403067353212001, -0.6914728829418997, 0.7004867389498235, 1.3785122153677443, -1.6211002275647617, 0.9136766936207067, 0.7434310438590729, 0.34507871197848505, -0.2776174566993327, -2.0253302995683273, 0.21634416414541593, -0.6850436981556958, \"Cluster 1\"], [0.945452136209644, -1.0179995674585256, -1.9748939261342426, 0.8543513533816053, -0.2587996723720209, 0.22539913449482904, 0.6438570717650925, -0.41079929350503014, -1.9441237234752409, 0.10704789086786368, -0.24958711983765602, -0.6249913786301423, -0.25809407692967007, \"Cluster 1\"], [2.2479587220183093, 1.6408958083456713, -1.7110701232126488, -0.11902399447581541, 0.8112190689509705, -0.4923546007863078, 2.1486288617267153, -2.1893294012276687, -1.7158934868098756, -0.14941387030855835, -1.5511611362873663, -2.0049291429416733, 2.0126526126154003, \"Cluster 1\"], [1.0950335301503475, -0.04021087627021014, 0.6128750367722329, 0.6985302618032965, -0.09416800631103778, -1.0663139955327956, 0.8406881675745982, -0.283793276894011, -1.0234157594698072, 1.9889624928244716, -1.2825160520077346, 1.200116121845308, 0.7083159333949055, \"Cluster 1\"], [-3.109365472873019, 0.2500007066269828, 1.2101525130487745, 2.161544215884949, 1.5926974280938375, -1.69899286859757, -0.38054930676752863, -1.0371928680529032, -1.6507422038599955, 1.219090466117239, -0.853856096845416, 1.0065631262249488, 1.4069903134696147, \"Cluster 1\"], [1.5708884947237358, -0.04361469149898887, -1.2243744854008234, 0.4892892060696546, -0.29206231651109665, 0.1947502801543141, -0.7427406844328899, 0.11325584638122124, -0.24035913599205466, -1.2258072981906651, -0.4363458923913338, 0.889988953390478, -0.62517464454914, \"Cluster 1\"], [-1.887168722125577, -0.027822253719678048, 1.059874134671482, 1.0155160611693699, 0.12484480624619937, -1.1494752974627427, 0.9832490203221732, -0.32392755280101976, -0.5785017521129957, -1.270845069264183, 0.46275379198209743, -0.3438565501228794, 1.186826969096517, \"Cluster 1\"], [-1.7971060664041858, 0.36933115151720497, -0.5676570272231325, 1.4335540162832212, 0.15672884580990878, 0.2511867196982322, 0.7070581424917095, -1.6470195388562976, 1.1031326210520584, -1.3267105102145234, 0.9525562512761463, 0.36571768532862664, 1.1977005658371922, \"Cluster 1\"], [1.8924212266541172, -0.5467092517875074, -2.7053093157807813, 1.3499637966164593, -0.7396338402188596, 1.3494425059174668, 0.14696570478428128, -0.42272580328880244, 0.14033949806167093, 2.436580685344781, -0.2241463026033768, 1.2706309987922098, 1.31271295036363, \"Cluster 1\"], [-0.07294981183217795, 0.9581207233956338, -1.728485415786215, -0.326772803483797, -0.7297620566734304, -0.8937056946666618, -0.10505467490818046, -0.7162633509779246, -0.3147237823085134, -0.08591900044326799, 0.7449733922807459, 0.2532098973062004, 1.1869639091142137, \"Cluster 1\"], [0.017295094630673132, 0.5586561113131917, 0.128758449354791, 1.327465978835823, 0.005893189553678598, -0.9450168545572941, 0.6068810502795798, -0.7522810454413323, 0.34643418781764973, 0.03384146379681393, 0.15321772238221074, -0.24424955948600865, 0.42938622144617977, \"Cluster 1\"], [0.8660783009358252, -0.3838779083950174, 0.513277039163343, 1.4228350194372108, 0.8501891872173588, 0.5328715708335335, 0.2862113001080373, 1.6125709641443515, -1.0599747975495857, 0.1622266373796427, 1.0868202559052424, -0.604029776547042, 0.8141333800372061, \"Cluster 1\"], [-0.32218355546051836, 1.4584948075592559, -0.44670876653017216, 0.7921329825602506, 0.3324333768998554, 0.538649018894713, 1.149550178624638, -0.36872539536107496, -1.8274967602901782, 0.9474393942399992, -0.7885497428286146, -1.4810507126546895, 0.5142538429787289, \"Cluster 1\"], [-0.4116115127138318, 1.5431188008731955, -0.6093304802545458, 1.4678886761897139, -0.5677672454523678, -0.8588155621140295, -0.9250745084909977, -0.9652088477477173, 0.33189821018878074, 0.3261314944228088, 0.2583586505272733, -0.8077444906154888, 0.143157392578434, \"Cluster 1\"], [1.9439350337718337, 1.6127795287235227, -1.2015373640342712, -0.18744226659697327, 0.09514219402193295, 0.4434194467799508, 0.39055597931354863, -0.7582208864130331, 0.5045517076440483, 0.021849079373737347, 0.15743121962019635, -1.6309124003141662, 0.9591086544148852, \"Cluster 1\"], [-0.22130742900300537, 0.7663592526829834, -0.14233272225587648, 0.31906638781873126, 1.7812184219639144, 0.9391133146181637, 0.33004230298252946, -0.7996733132215358, 0.6919946571654777, -0.25916975801415243, -0.17355925506462935, 1.0011522435156728, 0.6791182778030099, \"Cluster 1\"], [-0.8506660044740565, -0.3965787759924846, -0.8865748837962554, 0.7857112235754264, 0.03361138485698309, -0.37061692945926983, -0.5706389991212735, -1.9472549319824917, 1.4259338965897532, 1.54395672227287, 0.5776689306241095, 1.7173186486693743, 1.3494203859069906, \"Cluster 1\"], [0.8394352648515033, -1.6619983639195604, 0.029379400324711775, 1.6484503392097796, 0.5158920323440627, -1.2889380932280223, 1.4776738478324256, 1.2589015986577394, 1.4819710028250537, 1.0226610189842826, 2.347755100114906, 2.0294771259362516, 0.6745946334244893, \"Cluster 1\"]], \"hoverlabel\": {\"namelength\": 0}, \"hovertemplate\": \"Cluster=%{customdata[13]}<br>FAC1=%{customdata[0]}<br>FAC2=%{customdata[1]}<br>FAC3=%{customdata[2]}<br>FAC4=%{customdata[3]}<br>FAC5=%{customdata[4]}<br>FAC6=%{customdata[5]}<br>FAC7=%{customdata[6]}<br>FAC8=%{customdata[7]}<br>FAC9=%{customdata[8]}<br>FAC10=%{customdata[9]}<br>FAC11=%{customdata[10]}<br>FAC12=%{customdata[11]}<br>FAC13=%{customdata[12]}\", \"legendgroup\": \"Cluster=Cluster 1\", \"marker\": {\"color\": \"#EF553B\"}, \"name\": \"Cluster=Cluster 1\", \"notched\": true, \"offsetgroup\": \"Cluster=Cluster 1\", \"showlegend\": false, \"type\": \"box\", \"x\": [\"Cluster 1\", \"Cluster 1\", \"Cluster 1\", \"Cluster 1\", \"Cluster 1\", \"Cluster 1\", \"Cluster 1\", \"Cluster 1\", \"Cluster 1\", \"Cluster 1\", \"Cluster 1\", \"Cluster 1\", \"Cluster 1\", \"Cluster 1\", \"Cluster 1\", \"Cluster 1\", \"Cluster 1\", \"Cluster 1\", \"Cluster 1\", \"Cluster 1\", \"Cluster 1\", \"Cluster 1\", \"Cluster 1\", \"Cluster 1\", \"Cluster 1\", \"Cluster 1\", \"Cluster 1\", \"Cluster 1\", \"Cluster 1\", \"Cluster 1\", \"Cluster 1\", \"Cluster 1\", \"Cluster 1\", \"Cluster 1\", \"Cluster 1\", \"Cluster 1\", \"Cluster 1\", \"Cluster 1\", \"Cluster 1\", \"Cluster 1\", \"Cluster 1\", \"Cluster 1\", \"Cluster 1\", \"Cluster 1\", \"Cluster 1\", \"Cluster 1\", \"Cluster 1\", \"Cluster 1\", \"Cluster 1\", \"Cluster 1\", \"Cluster 1\", \"Cluster 1\", \"Cluster 1\", \"Cluster 1\", \"Cluster 1\", \"Cluster 1\", \"Cluster 1\", \"Cluster 1\", \"Cluster 1\", \"Cluster 1\", \"Cluster 1\", \"Cluster 1\", \"Cluster 1\", \"Cluster 1\", \"Cluster 1\", \"Cluster 1\", \"Cluster 1\", \"Cluster 1\", \"Cluster 1\", \"Cluster 1\", \"Cluster 1\", \"Cluster 1\", \"Cluster 1\", \"Cluster 1\", \"Cluster 1\", \"Cluster 1\", \"Cluster 1\", \"Cluster 1\", \"Cluster 1\", \"Cluster 1\", \"Cluster 1\", \"Cluster 1\", \"Cluster 1\", \"Cluster 1\", \"Cluster 1\", \"Cluster 1\", \"Cluster 1\", \"Cluster 1\", \"Cluster 1\", \"Cluster 1\", \"Cluster 1\", \"Cluster 1\", \"Cluster 1\", \"Cluster 1\", \"Cluster 1\", \"Cluster 1\", \"Cluster 1\", \"Cluster 1\", \"Cluster 1\", \"Cluster 1\"], \"xaxis\": \"x2\", \"yaxis\": \"y2\"}, {\"alignmentgroup\": \"True\", \"bingroup\": \"x\", \"hoverlabel\": {\"namelength\": 0}, \"hovertemplate\": \"Cluster=%{x}<br>count=%{y}\", \"legendgroup\": \"Cluster=Cluster 2\", \"marker\": {\"color\": \"#00cc96\", \"opacity\": 0.7}, \"name\": \"Cluster=Cluster 2\", \"offsetgroup\": \"Cluster=Cluster 2\", \"orientation\": \"v\", \"showlegend\": true, \"type\": \"histogram\", \"x\": [\"Cluster 2\", \"Cluster 2\", \"Cluster 2\", \"Cluster 2\", \"Cluster 2\", \"Cluster 2\", \"Cluster 2\", \"Cluster 2\", \"Cluster 2\", \"Cluster 2\", \"Cluster 2\", \"Cluster 2\", \"Cluster 2\", \"Cluster 2\", \"Cluster 2\", \"Cluster 2\", \"Cluster 2\", \"Cluster 2\", \"Cluster 2\", \"Cluster 2\", \"Cluster 2\", \"Cluster 2\", \"Cluster 2\", \"Cluster 2\", \"Cluster 2\", \"Cluster 2\", \"Cluster 2\", \"Cluster 2\", \"Cluster 2\", \"Cluster 2\", \"Cluster 2\", \"Cluster 2\", \"Cluster 2\", \"Cluster 2\", \"Cluster 2\", \"Cluster 2\", \"Cluster 2\", \"Cluster 2\", \"Cluster 2\", \"Cluster 2\", \"Cluster 2\", \"Cluster 2\", \"Cluster 2\", \"Cluster 2\", \"Cluster 2\", \"Cluster 2\", \"Cluster 2\", \"Cluster 2\", \"Cluster 2\", \"Cluster 2\", \"Cluster 2\", \"Cluster 2\", \"Cluster 2\", \"Cluster 2\", \"Cluster 2\", \"Cluster 2\", \"Cluster 2\", \"Cluster 2\", \"Cluster 2\", \"Cluster 2\", \"Cluster 2\", \"Cluster 2\", \"Cluster 2\", \"Cluster 2\", \"Cluster 2\", \"Cluster 2\", \"Cluster 2\", \"Cluster 2\", \"Cluster 2\", \"Cluster 2\", \"Cluster 2\", \"Cluster 2\", \"Cluster 2\", \"Cluster 2\", \"Cluster 2\", \"Cluster 2\", \"Cluster 2\", \"Cluster 2\", \"Cluster 2\", \"Cluster 2\", \"Cluster 2\", \"Cluster 2\", \"Cluster 2\", \"Cluster 2\"], \"xaxis\": \"x\", \"yaxis\": \"y\"}, {\"alignmentgroup\": \"True\", \"customdata\": [[0.014148712622890101, 0.13502962486312484, -1.2124853926164976, 0.08264000780332371, -1.3969174682355094, 0.06869633240801018, -0.3348782600377502, 0.029314208634197283, -0.4840525237248542, 0.20522451864852853, -0.426052222595905, 0.35821506788142654, -0.33379964624915526, \"Cluster 2\"], [2.1869835768431867, -0.3258907314299429, 1.1995925145387927, 1.228590528527265, -1.122612910840298, -2.02182048127044, -0.1414441892792155, 2.053751739393297, 2.1566194987495186, -0.07471669562211815, 0.5413907326870634, -1.887329757740017, 1.0535540263649563, \"Cluster 2\"], [-0.10421369568347413, 1.0792932460512201, -0.09231070752113259, -0.15519959143308543, -1.7067515033755059, 0.36344681633485204, 0.5543772780317561, 0.06750216766576161, 1.7693732910143452, -1.299460962246071, -1.4340247626078209, 1.502054607112391, -0.3954013614782409, \"Cluster 2\"], [-0.48301744890796194, 0.6061232049546448, -1.4989894235561432, -0.6292150185044852, -0.47330092491299675, -0.2336899069526538, 1.6724621329105573, 1.686832266030306, -0.24949463827319573, -0.3241737728647969, -0.5779468329068445, -1.2515912605363493, -0.5409536421200188, \"Cluster 2\"], [-1.941438898903822, 0.4716302162982427, -0.7142118562242055, 0.42384474202624806, 0.6133828565997683, -2.3323309042526534, -0.0013919636271869063, 0.9305196875191734, -0.7071579798896652, 0.48299500782907157, -1.7729771097963902, 0.5335889156401075, 0.4489825471686466, \"Cluster 2\"], [-0.7134544640629344, -0.3179166478381376, -0.35125828112618246, -0.5752854394530077, 0.3713555733353041, 0.705849911320116, 0.45577698964876695, 1.0150854280014658, 0.46336816520241975, 0.37683659267593217, -0.8083959406678611, -0.5381539123606149, 0.7666429317860688, \"Cluster 2\"], [-1.100875641290957, -0.4595821392760179, 1.2748807603715946, -0.29475202857354443, 0.30411546073490825, 0.24149337488504807, -0.010604258550648676, 1.035655819718848, -0.7918918758318388, 0.5360046438948022, -0.313926105689951, -0.24302607358801895, 0.42131554359155304, \"Cluster 2\"], [-0.13262038241479274, 0.39991895041499687, -0.12976767604530945, -1.254846959053085, -1.195105069312804, 1.601040166935824, 1.015658280131988, 0.2887978712367921, 0.5054571067540302, 1.0984961014201255, -0.45771676272857464, -1.101783286134078, 1.4530286390083684, \"Cluster 2\"], [-0.3487013431335691, 1.2266881460556474, 0.6233926087061785, 0.4801221753089473, -1.9950155083215935, -0.1278894230759516, 0.4762927108201091, 0.9519963398244632, 0.9415149537182633, -1.131133467326801, -0.7480069163559082, 1.480201869385995, -0.426470230065772, \"Cluster 2\"], [-0.8627661133946559, 0.22957076784297697, 1.0997301245607949, 1.6237606595804428, -0.7677055362651358, 1.5247460213113941, 2.48625897005875, 1.0695278453771528, -0.1501630940809457, 0.05499565806487568, -2.031617336644711, -0.4430248841099877, 0.7202639117230251, \"Cluster 2\"], [-1.3508050742045108, 0.4896525892727851, -0.5799729550647537, -1.2019602117420745, 0.11882808430088737, -0.31159070948577733, 0.36830818984280295, 0.43600576615459014, 0.5289801469438147, 1.2977303497686057, -2.49875524901133, 0.3485925721058813, 0.1758658792839026, \"Cluster 2\"], [-3.21466533471976, -0.16966421152355077, -0.3590836979118138, -0.1207300643664155, 0.10961143388100884, 1.3696463351694124, 1.4211386884508341, 0.21906038875011313, 1.7070368610242952, 0.2827169498655219, -0.44028103727957013, -1.385813684411604, 1.0974294251076144, \"Cluster 2\"], [0.41733956463540983, -0.015900386455353063, 0.7315620754778226, 1.1511343084120764, -0.2323553304319867, 0.28547575009396775, -0.8341358960901756, 1.7360517296285594, -0.5523360769911768, -0.47925848637612123, -0.21667815282666358, -0.41172591133596476, 1.350217708655175, \"Cluster 2\"], [-0.024611053000678926, 1.1640679784139445, -0.9274270968719281, -1.1679028020567301, -1.7438921931302123, -0.5484079582281294, 0.5350158627127098, -0.7658228439247702, 0.6947421222016738, 0.9694063672830003, -0.8692772066444188, 0.6671565313455309, -0.1903896919911358, \"Cluster 2\"], [1.8686165994699688, 2.272154232548216, -1.225263049742525, -0.8173103265533965, -1.6990351022510257, -0.9206932732903239, 0.2351008788091489, 1.2711832687220583, 1.141289318850828, 0.226541966259061, -1.2372129352829475, -1.843485369604066, 0.22530843348268112, \"Cluster 2\"], [-2.4183893929742464, 0.08986512574476917, -1.355949358641825, -0.05881765207254788, 0.18299202175469065, -0.7028004929379422, -0.23293158544523682, 1.1536025954296798, 0.34768697063523074, 0.5269372673884539, -0.4983019043152438, 0.2536870379498126, 0.8723735720425843, \"Cluster 2\"], [-0.6382228039593283, 1.4565810646348332, 0.96769785055471, -0.5078701535828598, -2.3273197973414614, 1.0003559773513753, 1.498191743452862, 0.02207736607803515, -0.3199158120497955, 0.09503817048560748, 0.5050502823729516, 0.8711269272411626, -0.2501736128593272, \"Cluster 2\"], [-0.8474577303684014, -0.37924954022387725, 1.5355485739692023, -1.72795088094164, -0.18097987536068463, -1.4213177560465045, 1.0098873916390865, 0.5201390718527992, 2.3267444896767344, -0.1630827337434022, -1.0415236804834147, -1.5249742055417428, 1.305497092329686, \"Cluster 2\"], [-1.3690845756925667, -0.4879957683380574, 0.4580288362378801, -0.44472140380787284, 0.10599241279377036, 1.1275611349743329, 0.12455712982904112, 0.2828780638894919, 1.0716216367289457, -1.4200391965423376, 0.466105929546644, -0.48540369239145076, 2.239652938767298, \"Cluster 2\"], [-0.09491408454121461, -0.18282446740160233, -0.6165694687518158, 0.07615303117410126, -1.1146027044123807, 0.9693486141045653, -0.45826239237939737, 0.9372972615113365, -1.3170797086157124, -0.6603891546295083, -0.7489480666430742, -0.24722837056334676, -0.3973898334169683, \"Cluster 2\"], [-0.02137308479845754, 0.4352133157517563, 0.7063523820816173, 0.04899895997833165, -0.9246131990665104, -0.2824590182041935, 1.2732625491687537, -0.6400216271116038, -0.6819064539574745, -0.6761003257662764, -1.350165301821202, 0.2724748489159885, 0.029142908297037768, \"Cluster 2\"], [-0.4209827108767675, 0.47146282449220817, -0.12969118545505884, -0.4088647476617235, -0.16061829828946478, 0.07472391967735331, -0.15578474454619862, 1.0559436393718447, 0.15136527521477613, -0.3636565065613098, -0.6195618580027702, -0.46957884348701223, -0.6247518604002086, \"Cluster 2\"], [-0.4060594714087398, 0.053389195474560475, 0.17145649054085849, 0.24476063394515768, -0.3257166957238238, -0.46138494157995297, -0.6574608033602938, -0.10944851880910868, -0.1850978375125096, -0.924094170114918, -0.9615593588835297, 1.009216301400207, 0.2823495489849621, \"Cluster 2\"], [-0.14937778845038718, 0.03540447475366624, -1.3418041072101499, -0.6297450527595803, -1.0397336458738737, 0.15452472574759657, 1.3019739838408215, 0.18882915695402552, -1.2771808884458882, -0.7530074797272335, -0.15400823879064726, -2.74423071927972, 0.2962196749297111, \"Cluster 2\"], [-0.21632070789309804, 0.7158462602173149, 1.219004952916856, 0.3251758192217888, -0.9532009199653236, 0.23639926874357856, 1.040717678022658, 0.7011929728897629, -1.2808743579072355, -0.715483555672692, 0.9355943207534856, -0.08511864596932589, -0.2502415657786823, \"Cluster 2\"], [0.20419320120479756, -0.9956950718564717, 1.2687933829800206, -0.5767145537515332, -1.0705041535615072, 0.5710407307442517, 0.08803930162023514, 0.24528875474991305, -0.6068987320128213, 0.4002469160771494, -1.2221833370125983, -0.2553948028094881, 0.18256457221372288, \"Cluster 2\"], [-0.48716719143390036, 0.038103429978374286, 0.04757649880164649, -0.7534719568820253, -1.218055891262827, 2.108328372534553, -0.34843110177463094, -0.022592498100802074, 0.7943726374793493, 0.32647844723180486, -0.48826572795355855, 0.03101960735772446, 0.23266022427788355, \"Cluster 2\"], [-1.0037635387337944, 1.007318332691701, 1.7559857728322286, -0.03771892312910435, 0.9107756449498688, -0.405680290193517, 0.8229733658120201, 0.8372539908800475, -0.9121989376285784, 2.6717538589246264, -3.841004465847069, -0.6907805968401828, 0.3850717708456617, \"Cluster 2\"], [0.8276564211952814, -0.5532184281918616, 1.3373728062573758, 0.036792881674570066, -1.8822075664675135, -0.9289332974569635, 0.006110869785869461, 1.792348949755407, 1.792455037744367, -1.7560052176481862, 1.6550733893458458, -0.16675069630736913, -1.0280478928667747, \"Cluster 2\"], [-0.0411915353374651, 0.7545290900652706, 1.1597831203277953, -0.334219401023945, -0.27923941629272575, 0.9163453125257188, -0.018579448993709627, -0.04350673376001653, 0.748215966869323, -0.007674617640735621, -1.3459618650209155, 0.25150605558237904, -0.44237138345713456, \"Cluster 2\"], [-3.0023871344453705, 0.0016960374025277883, 0.9013457276757394, 0.4181358854581814, -0.6460659500476992, 1.3424936629258222, 0.9770282167599671, 0.49275841602801895, -2.4682192903732183, 2.0013272183919115, -0.025059477645902613, 0.5172753886889085, 1.4853536769466809, \"Cluster 2\"], [-0.39738424087428775, -0.9404721970684738, 0.04566987248341296, -0.3931015084088947, -1.2754763797760045, 0.2939478726887348, -0.40939007844470593, 0.8459922862138088, -2.6768535545905037, -0.9255109143563518, -1.5747215125060736, 0.2740101877847535, 0.8023165674275539, \"Cluster 2\"], [0.5187125731859836, -0.15694669713278858, -0.19693521792693597, -0.5342958824731757, -2.961515849279703, -1.5281592276262046, -1.1765668787126908, 0.5549396984624578, 1.3510001938529979, -0.6771961759069676, 1.1795468662706279, 0.5061003773565853, 1.5961346346439267, \"Cluster 2\"], [0.4827631619225742, 1.5275787784893724, 0.6641011865977121, -0.29928459594795254, -1.183718867694753, 0.5144406909469077, 1.3536403099021426, 0.3578631614835388, -0.2601858260493798, -0.09655836909239761, 1.789378761945225, -0.5309710835361869, -0.14593986174343046, \"Cluster 2\"], [-0.3359511924691319, -0.16349546693644246, -0.12361934077726512, 0.2567883471582592, -0.3177088273464754, 0.2932271241904747, 0.8335044267049714, -0.21093264978371074, 0.9844811691376117, 1.0133730419104057, -1.0397774913809814, -1.07722181910452, 0.36035078064657994, \"Cluster 2\"], [-2.235861565723412, 0.6478194586396834, -0.681632982714521, 1.28190406264199, -2.6841859291465684, -0.7648980304908063, 0.6363924148068967, 0.3606130065355554, 0.14043185306034828, 0.12933654427249786, 0.7975705488403603, 0.7615111049709301, -0.6346972786567582, \"Cluster 2\"], [0.9226842381530027, -0.8635782021190392, 1.2746624198901022, -0.5301818911953053, 0.260461432513707, 1.5798535197251908, 0.2418048247701656, 2.139718555700945, -0.8937534100125867, -0.2843844681134581, -1.9891592975716015, 1.5928880428300476, 1.5575986251443672, \"Cluster 2\"], [1.580073372925783, 0.7017795838409012, 2.0394298829821014, -0.21428060629567133, -2.587234274030594, 0.608864974230435, -0.40632419770276446, 0.8961682419880647, -0.41949719202396113, -1.6168966865717256, 1.3858843966995547, 1.1225611105652529, -0.07469391531503873, \"Cluster 2\"], [0.4053133273315772, 0.6665734502501346, -1.2583358817124635, -1.54894302972102, -1.344902251111037, 1.0543899012276137, 0.34737932350044903, 1.443034728979928, -1.2006660984261683, 1.5194395135125174, 0.6970756460190037, -1.4116406408978588, 1.0526813261297383, \"Cluster 2\"], [-0.5096434925066761, -0.9829660477834165, 1.259176142460113, -0.2595155036386068, -1.6990711586462297, -1.1401807467555125, 1.2142812133456675, 0.8353866849068741, 0.4835974160915443, 1.1147571145664215, 0.6438212550655591, 0.7654998433974012, 0.18656659929318706, \"Cluster 2\"], [0.05472702139422777, -1.0113303821141448, 0.6142974422388537, 2.0076776413330975, -2.331162464244043, -1.8303461190379524, -0.42091484255605316, -0.4448326896225191, 0.8417448251067405, -0.9628520451035002, -0.5810326880823121, 1.4277088599253747, -0.6071145779192447, \"Cluster 2\"], [-1.6552406364453478, -0.9783438058132067, -1.4113485056279926, -0.06797813117556473, -1.2605033359297564, 0.48023597516996824, -0.7241148980889948, 0.4622592616390355, -0.25195172539572636, -0.2773185457342852, 0.16740432668414174, 0.16567524423408264, 0.9041313523053179, \"Cluster 2\"], [-0.38572230444422373, 0.8974709487777447, 0.9197542051574945, 0.9142553481913042, -1.0840345966776146, 0.34878107303679184, -0.51575149131397, -0.10596852799165014, 0.39255712528627434, -0.3974375439733503, 0.04610048650492068, 0.1222433194408749, 0.9859589730246867, \"Cluster 2\"], [1.2520265286639787, 1.0275286430518702, 0.010619422397078427, -1.2879786286241248, -1.8361005277865676, 0.6472064497159595, 0.687237278330535, 2.0756198403085877, 0.14410009068733204, 0.9580105221823415, -4.145791367048149, 2.0135490876350994, 0.9773384833758424, \"Cluster 2\"], [0.7765389064568803, 0.628176818851979, -0.5695955114297087, -0.035008128175830294, -2.086134664625831, -0.5798983474659541, -1.0787198722258284, 0.08904071708872234, -0.2250923879653679, -1.4873509222541117, 0.4229683924191632, -0.207045285028728, -0.9456648011761901, \"Cluster 2\"], [-0.9058639731531113, -0.7688460368135319, 0.8214583887989613, -0.8441368182531964, -2.160954896201884, 1.2114087559084068, -0.4506067211478056, -0.06841028151970154, -0.8887227527028958, -0.11295922340905705, 0.35197715857941, 0.6686776867960312, 1.5339105498331878, \"Cluster 2\"], [0.3661056930950817, 0.9586981500323078, -1.578585341989692, -0.627286165651654, -1.6563514181268262, 0.8366976390811793, 0.2433341252472419, -0.5582807096325302, 1.3133996003065105, -0.7547547588549864, -0.7825929612639405, 0.2127961106238224, -0.045286320876030135, \"Cluster 2\"], [0.06329533338239843, -0.10082004653553443, 0.9754087109064632, 0.38341988072958616, -1.1484485566378284, 0.053456174085626446, -0.3103834972160825, -0.20846812882137913, 0.4655684424061002, 0.07405221351486611, -0.219864335632184, -0.12304173670163188, -0.40998060744284126, \"Cluster 2\"], [0.868379416069504, -0.9825309982098921, 1.9375578868413077, -0.6401276924109167, -1.1632674385881885, 0.9418267901647235, 1.016814847774742, 0.5709316503548528, -0.9218770278920608, -1.110579216728761, -0.19182603047727417, 0.5342313473912613, 1.2205085694701, \"Cluster 2\"], [-0.3645288218948704, -0.8192431601102707, 0.5889125925491998, 0.8041207724392511, -0.8935508065377242, 1.865130265036193, 0.4033422903036568, 0.32246155263761983, 0.5608274652228823, -0.10106568998572457, -0.14035189712168242, 0.9157202446926167, 0.7847631010477268, \"Cluster 2\"], [0.944215275896814, -0.7542854034016558, 1.1624342460549821, 0.12400737017610917, -1.5066764715830423, 0.1300697342395776, 0.5904717897729099, 1.294127229564436, -0.8525594490980017, 1.0797704595785578, -0.24992436271628918, -2.2297087503668784, 2.1141784485564044, \"Cluster 2\"], [-0.24022235322821273, -1.2834535997820358, 0.38811420924095175, 0.5229454072991028, -1.600485738003235, 0.12473060327343388, 0.1862948823318674, -0.0275748547811248, -1.4927666656077843, -0.5771359562012094, -1.012736832118565, -1.4467301308630285, -0.2860625900345603, \"Cluster 2\"], [0.6729883819109564, 1.311697785680113, 0.9241393627497664, -0.5401035809430219, -2.205714089078255, -1.243691790203912, 0.05986144127364437, 1.8964217965824683, 1.1252352666657452, -2.3626835992972754, 0.11808888063053727, -0.634625264060284, 0.2930380657561416, \"Cluster 2\"], [-1.2513343851667584, 0.8107603345543086, 1.5840456069320341, -0.8123680522357328, -0.6457381281132586, -0.4055386762618703, 0.5243480565219065, 0.22806815640409123, 1.0568006145959827, -1.2564817473340046, -0.45276399434338743, 0.9350305519497321, -0.9199814905647795, \"Cluster 2\"], [0.22956214172024322, 0.23275377892355067, -0.052483821722262014, -0.11184554559082024, -0.5254520868413581, -0.4605451070681093, 0.02001088398706953, 0.008829214434019725, 0.5177333638812159, -1.4633341881118933, 0.034293795403455715, 0.7103575788041228, -0.46752172839745865, \"Cluster 2\"], [-3.043346023802656, 0.6476297175680855, -0.8063100784308415, -0.06682832204127641, -1.3065236882499283, 0.5288341183132403, -0.757363765333994, 1.4345179229100107, -0.4145124440169185, -0.7958073388449717, 0.22917621666785779, 0.6035601691739747, 1.2311998519314795, \"Cluster 2\"], [-0.48258260781601015, 0.6501569348759918, -0.36561144242967797, -0.18068522622642902, -2.5878769365781134, -1.4304198666186216, -0.7365391728854661, -0.3679557693066558, -0.1579004274045299, 0.2775785747853648, -1.5935078904767273, -0.5655259006320521, -0.5862056921752972, \"Cluster 2\"], [-0.08032090074204866, 0.798978455321823, -0.2710422810100141, 1.6361011523959226, -1.5241729178885595, -0.5198314861398503, 0.19267349960783725, 1.4210070047195722, 1.3010483029662427, -1.2249636294293142, -1.3073288898635544, -0.018089080498618893, 0.8907785746226204, \"Cluster 2\"], [-2.5927638698814772, 1.0271158487034888, 0.4720043302321378, -0.6026285475613625, -0.6214232315712903, -1.0467534646560244, -0.3075347846002359, 1.5136774551971905, 0.7333288486590405, -1.4049403387899377, -2.2572627978914013, -0.5110088280240052, 0.5394909827551259, \"Cluster 2\"], [0.6810141514462386, -0.3294284057900722, -0.05660265223316864, -0.5743031830882508, -2.2077988846682226, 0.9162764235764984, -1.1518848507913044, 1.309394644609264, -2.1252539218150104, -0.3329697038724213, -0.9211605809118512, 0.4771073046741846, 3.04091822044403, \"Cluster 2\"], [0.43012969535279466, 0.20568052012190768, -1.6472249196618263, 0.06598291071428797, -2.7719907116413807, 0.6008536146498116, -0.09251389247995456, -0.22669563878593582, 0.45538230405982233, 0.26266660761289584, -0.5411331251181908, -0.11325529880056667, 0.838492805466138, \"Cluster 2\"], [0.3131403931391467, 1.8542172598823157, 1.1642542752758644, -1.6838968674518364, -0.17016843840583323, -2.6523416806404847, -0.6904929062505024, 1.479554156545546, 0.5647054630141389, -0.34558678427386263, -1.830157025040207, -1.7380370563313003, 1.5209481380793703, \"Cluster 2\"], [0.8340053467667256, 0.6246694062498264, 1.2088028825050474, 1.2185759739430826, -0.9338613628589727, -1.8920657884777574, 0.9944261133162441, 0.8220640429216236, -1.8488190902394819, 1.7476537083801365, -2.4164521874452087, 0.9569840499353521, 0.4280595177026058, \"Cluster 2\"], [1.1011767095623077, 1.893597543535618, -0.8928170673585383, 0.7757245945192646, -0.5143168656645657, -0.539932223817826, -0.2853229868294334, 2.3652168987433706, 0.19767527498216383, -2.24452186318162, -1.2050147792161596, -0.916003143782847, -1.7160378018414404, \"Cluster 2\"], [-0.5008493130696107, -0.9295107946453411, 1.1475061877430435, -0.18269781698696813, -1.8946809206191997, 0.795671916740076, 0.41921807314827275, 0.7338052274956652, -0.7170208388151481, 1.082303744701956, -1.2069823082064133, 1.0312573064700867, 0.22870679765477434, \"Cluster 2\"], [-0.36034944163342286, 1.4469055162737083, 0.25114957062282567, 0.5109218133577511, -1.8832315176108831, -0.16980657779852362, -0.7543585337535796, 0.9620577492296982, 0.15060029247155204, 0.57713600742378, -0.15448954622485545, -1.2180076831639475, 0.775921540063553, \"Cluster 2\"], [-1.3588504589974069, 0.2854174477317007, 1.220989871199922, 1.1686241088562939, 0.3856596757549086, 0.918072072110891, -0.6403927392275454, -0.029926222717053197, 0.6234232382947685, -0.8452097153043173, -1.3740306380931748, 1.1511209419491273, -0.06118156649639123, \"Cluster 2\"], [-0.3799441285395706, 1.0169216934575325, 0.7938114596333018, -0.3786655638716086, -0.7037320762623996, 0.749213019494296, -0.39596011497815753, -0.49440610928892, 0.5857245829208523, -1.3433878589404669, -1.424058604080196, 0.06146027232554692, -1.6839989080483353, \"Cluster 2\"], [-1.0598600509183926, 1.6404240740169778, 0.5565696450704439, -1.8161588082862972, -0.7305722399148978, 0.0081050975413723, -0.004943236499170803, 0.22808163802210368, 0.5055951356346035, 0.06833599981895241, -0.7707671734767926, 1.31434215194964, 1.4406225932128702, \"Cluster 2\"], [-0.5978261484527609, -0.24142504654012462, 1.9712437659951787, 0.938400324856542, -0.6830812714757949, 0.7791699540561852, -0.7846681028325477, 1.741974821099677, 0.3524981192814029, -0.4563168251784549, -0.9442838423609513, -1.6748648580855194, -0.45077108590036286, \"Cluster 2\"], [-0.11933369753518579, 0.653613765129834, 1.5846342376013194, -1.9636895135969226, -2.1988768669074084, 0.68831404655045, 1.9807740980543445, 0.037140181172062824, -0.27143129435919694, -1.6550388924773403, 0.6474093034090102, -0.35539888894784294, -0.14642243670694502, \"Cluster 2\"], [-0.5476139297115261, 1.3429366838353511, 0.4123831212388282, -0.6649280431556178, -0.9907368930245967, -0.8089997676230087, -0.147705040639952, 0.12589434772655805, 0.5394256973582159, -2.033172705467853, 0.37886170578769685, 0.1432833596238096, 0.8645741667766003, \"Cluster 2\"], [1.499282428244103, 1.8816831532428013, -0.21841687454097658, -2.1257146919702525, -0.985151003425583, -0.3269848981480583, 1.1364595260152677, 1.4428986146894989, 1.2006087150740115, -0.09490891487073407, -1.4366342862438994, -0.11304529582203908, 1.743962777426812, \"Cluster 2\"], [0.24546602046424104, 0.236742003865383, 0.8987987824024559, 0.7463270215144685, -1.171553450272629, 0.08676242594725819, -0.6929218246508525, -0.1601380882578617, 0.8297816220038328, 0.18327763598874758, -0.4259222877396909, 1.0554042489325117, -0.8721338993521038, \"Cluster 2\"], [-1.1939494076852135, 1.8070592596570814, -0.30441512104622037, -0.634817068792711, -0.865477819352962, -1.8913914652228916, 1.2862623786965985, -0.17342160903922627, -0.44621434496200646, 1.2174399967521916, -0.45009686942642857, -1.0951527113255126, 0.34423245447209444, \"Cluster 2\"], [0.2672390998838073, -0.8362478438875485, 0.8372250465429663, -1.3426704382462553, -1.3417536774660934, -0.10593176569546547, -0.44563245322707234, 0.3049856526159978, 0.41888844783314694, -0.2864580120097975, 0.13620837735828537, 2.265569423835898, -0.9667282006984216, \"Cluster 2\"], [0.025919129858958098, 1.7067158246413834, -0.6872659885453133, -1.5314139712406902, -2.3946023354708164, -1.5368246076187642, 0.5486910611581185, 1.6107051876821037, 0.04945244863704346, -0.8450343898286878, -1.228694079229067, 2.2915161663817982, 1.1179300563807029, \"Cluster 2\"], [-1.3633930941426182, 0.4437172300472144, -1.042180717529033, -1.3944754677060298, -0.7177158283998879, 1.7924636520313675, 2.6512993630341533, 0.5659055223218928, -1.2913576759193643, -0.1672844636999905, -0.44237781948215255, 0.86575209953752, 1.2067718859801024, \"Cluster 2\"], [0.2269381518110111, -0.03544568898265951, 1.2624156830526296, 1.2029288550358501, -1.409335115577666, -1.3300609452360466, -0.3811574922486944, 0.4507959100399177, -0.3437706046189707, 0.18179068409471788, -1.1663453683487492, 0.48016504208967115, -0.39551071311349434, \"Cluster 2\"], [-1.0274283815705847, 0.022065416514224227, -0.012155245577134289, -0.047045877891981856, -0.3479943040119783, 0.007691023013335804, 1.4999734239782132, 1.2667715913411224, 0.48633583810313474, 0.8817182388659135, 0.5896482362181221, -0.21710554525484765, 0.45785018355338347, \"Cluster 2\"], [0.3863670270346669, -0.22942035096597646, 1.6388728712515714, 1.7256866082097861, -0.2719079260465008, 0.8939120345435166, -0.4634724429897543, 1.6310082540087438, -0.07072137289829948, 0.3024299852115042, -1.1110164488895709, 0.6783579066501821, 1.1112983632610283, \"Cluster 2\"], [-0.6846073111377906, -0.3044435882902465, -0.9253965693498467, -1.46317371296326, -1.0708809420210177, -0.0763847369431271, 0.5934029501261495, 0.05885920112631078, 0.5860864885468553, 0.5346382457983926, 0.45713060435441305, 0.29537420204653864, 0.5293439200834374, \"Cluster 2\"], [-0.46980785130064423, 1.5154388734895743, 0.13422504367223392, 0.05166915324996539, -1.0241347357965482, 0.9621313393894677, -0.9964599234909358, -0.23357902028141975, 0.4851698945113548, 1.6196494745707493, -1.1514680002319837, 1.423404616041223, 0.3617803080303901, \"Cluster 2\"], [1.0789682760191865, -0.6038149154485984, 1.9744886344321815, -3.0313917579880236, -1.2342168247954912, -3.3031361143131255, -0.40223978829061924, 0.9422397451403408, 2.2658509738959234, 1.363537535081518, 0.1762495852486647, 0.8108942879557637, 1.5626467217714468, \"Cluster 2\"]], \"hoverlabel\": {\"namelength\": 0}, \"hovertemplate\": \"Cluster=%{customdata[13]}<br>FAC1=%{customdata[0]}<br>FAC2=%{customdata[1]}<br>FAC3=%{customdata[2]}<br>FAC4=%{customdata[3]}<br>FAC5=%{customdata[4]}<br>FAC6=%{customdata[5]}<br>FAC7=%{customdata[6]}<br>FAC8=%{customdata[7]}<br>FAC9=%{customdata[8]}<br>FAC10=%{customdata[9]}<br>FAC11=%{customdata[10]}<br>FAC12=%{customdata[11]}<br>FAC13=%{customdata[12]}\", \"legendgroup\": \"Cluster=Cluster 2\", \"marker\": {\"color\": \"#00cc96\"}, \"name\": \"Cluster=Cluster 2\", \"notched\": true, \"offsetgroup\": \"Cluster=Cluster 2\", \"showlegend\": false, \"type\": \"box\", \"x\": [\"Cluster 2\", \"Cluster 2\", \"Cluster 2\", \"Cluster 2\", \"Cluster 2\", \"Cluster 2\", \"Cluster 2\", \"Cluster 2\", \"Cluster 2\", \"Cluster 2\", \"Cluster 2\", \"Cluster 2\", \"Cluster 2\", \"Cluster 2\", \"Cluster 2\", \"Cluster 2\", \"Cluster 2\", \"Cluster 2\", \"Cluster 2\", \"Cluster 2\", \"Cluster 2\", \"Cluster 2\", \"Cluster 2\", \"Cluster 2\", \"Cluster 2\", \"Cluster 2\", \"Cluster 2\", \"Cluster 2\", \"Cluster 2\", \"Cluster 2\", \"Cluster 2\", \"Cluster 2\", \"Cluster 2\", \"Cluster 2\", \"Cluster 2\", \"Cluster 2\", \"Cluster 2\", \"Cluster 2\", \"Cluster 2\", \"Cluster 2\", \"Cluster 2\", \"Cluster 2\", \"Cluster 2\", \"Cluster 2\", \"Cluster 2\", \"Cluster 2\", \"Cluster 2\", \"Cluster 2\", \"Cluster 2\", \"Cluster 2\", \"Cluster 2\", \"Cluster 2\", \"Cluster 2\", \"Cluster 2\", \"Cluster 2\", \"Cluster 2\", \"Cluster 2\", \"Cluster 2\", \"Cluster 2\", \"Cluster 2\", \"Cluster 2\", \"Cluster 2\", \"Cluster 2\", \"Cluster 2\", \"Cluster 2\", \"Cluster 2\", \"Cluster 2\", \"Cluster 2\", \"Cluster 2\", \"Cluster 2\", \"Cluster 2\", \"Cluster 2\", \"Cluster 2\", \"Cluster 2\", \"Cluster 2\", \"Cluster 2\", \"Cluster 2\", \"Cluster 2\", \"Cluster 2\", \"Cluster 2\", \"Cluster 2\", \"Cluster 2\", \"Cluster 2\", \"Cluster 2\"], \"xaxis\": \"x2\", \"yaxis\": \"y2\"}, {\"alignmentgroup\": \"True\", \"bingroup\": \"x\", \"hoverlabel\": {\"namelength\": 0}, \"hovertemplate\": \"Cluster=%{x}<br>count=%{y}\", \"legendgroup\": \"Cluster=Cluster 3\", \"marker\": {\"color\": \"#ab63fa\", \"opacity\": 0.7}, \"name\": \"Cluster=Cluster 3\", \"offsetgroup\": \"Cluster=Cluster 3\", \"orientation\": \"v\", \"showlegend\": true, \"type\": \"histogram\", \"x\": [\"Cluster 3\", \"Cluster 3\", \"Cluster 3\", \"Cluster 3\", \"Cluster 3\", \"Cluster 3\", \"Cluster 3\", \"Cluster 3\", \"Cluster 3\", \"Cluster 3\", \"Cluster 3\", \"Cluster 3\", \"Cluster 3\", \"Cluster 3\", \"Cluster 3\", \"Cluster 3\", \"Cluster 3\", \"Cluster 3\", \"Cluster 3\", \"Cluster 3\", \"Cluster 3\", \"Cluster 3\", \"Cluster 3\", \"Cluster 3\", \"Cluster 3\", \"Cluster 3\", \"Cluster 3\", \"Cluster 3\", \"Cluster 3\", \"Cluster 3\", \"Cluster 3\", \"Cluster 3\", \"Cluster 3\", \"Cluster 3\", \"Cluster 3\", \"Cluster 3\", \"Cluster 3\", \"Cluster 3\", \"Cluster 3\", \"Cluster 3\", \"Cluster 3\", \"Cluster 3\", \"Cluster 3\", \"Cluster 3\", \"Cluster 3\", \"Cluster 3\", \"Cluster 3\", \"Cluster 3\", \"Cluster 3\", \"Cluster 3\", \"Cluster 3\", \"Cluster 3\", \"Cluster 3\", \"Cluster 3\", \"Cluster 3\", \"Cluster 3\", \"Cluster 3\", \"Cluster 3\", \"Cluster 3\", \"Cluster 3\", \"Cluster 3\", \"Cluster 3\", \"Cluster 3\", \"Cluster 3\", \"Cluster 3\", \"Cluster 3\", \"Cluster 3\", \"Cluster 3\", \"Cluster 3\", \"Cluster 3\", \"Cluster 3\", \"Cluster 3\", \"Cluster 3\", \"Cluster 3\", \"Cluster 3\", \"Cluster 3\"], \"xaxis\": \"x\", \"yaxis\": \"y\"}, {\"alignmentgroup\": \"True\", \"customdata\": [[-0.7814136321611825, 1.291857899918428, -0.3087536299114275, 0.6076457071789333, 0.9853567117389292, 1.021873637126025, 0.01597235056563185, -0.1675506480491342, -0.010497515810071138, -0.8120786378551651, 0.5672731314947862, 0.8634981625495958, 0.09323516002237826, \"Cluster 3\"], [1.944210330540385, -0.39693066242855274, 1.1422023446453917, -0.9111100460840084, 1.2170654936146104, 0.09068779770332015, -1.6994257798468069, 0.4330677704197611, 0.9140052587511971, 1.312197014788154, 1.230164884979733, -0.6113212306753507, 0.1122411271706001, \"Cluster 3\"], [0.7737271942850237, 0.5583096886968291, -0.38754156262171696, 1.7425155702505057, 0.9440731384642618, 0.8976853323018419, -2.010448733479431, 0.4629868510062046, -2.137264842892252, 0.4303880905930336, 0.7824242889897618, -1.082012415870226, 2.14800466383088, \"Cluster 3\"], [0.08216828915781445, 1.497116234458012, -1.4250885832326616, -1.7942019522832904, 1.468003071452232, 0.04194747241600432, -0.7503648843395251, 1.0047308452479657, 1.3741960208133654, -0.05282514173556365, 0.9125714080487082, 0.5848160910172914, 1.2561620508043105, \"Cluster 3\"], [-0.9742162391098712, 1.0972039538816352, 1.3047432097157705, 0.3451805508078412, 1.044995415320115, 0.7034336350048649, -0.8889670668056711, 0.016708714507982513, -0.44228688439516334, 0.8752953883044008, -1.864933680243179, -0.22158528635448133, 0.5795029471022077, \"Cluster 3\"], [1.2460027810520693, 2.2372325481428117, 0.7659318260514169, -0.5304187491114882, 0.7321932315722929, -1.4515599324905297, 0.3488573112236759, -1.1034026696276797, -0.4603819082185443, 0.43168711785726455, 1.512175957227479, -0.3725681987510619, 0.666698036191383, \"Cluster 3\"], [-2.0431617073565165, 2.24194605854556, -0.46550212038048716, -0.23983433085871184, -0.6881970608059703, 0.1422157026865618, 0.7848245991545627, -0.41602690971338124, -2.212707318520881, -3.060339491585467, 2.342956742956994, 2.318394539313594, 0.23799247943943064, \"Cluster 3\"], [-0.1272644958364888, 0.42361595128184276, -0.12044759514156224, -2.269666327436638, 1.413250315575015, -0.7665966115287616, 0.21132072212559733, 0.9774566222247306, -0.049282664917787614, 0.9990438713812826, -0.10524707048941519, 1.0567567735331003, -0.36285391593005956, \"Cluster 3\"], [1.6921815664216397, 1.4915879746677785, 0.2683905548899586, -0.3350308921214586, 0.47211941761220744, -1.2594022493202035, -2.4151133428955562, 0.23879614293883564, -0.5557651513726463, -0.6318006645278317, 0.9386552069364633, 0.32448235704124495, -0.05716176684275546, \"Cluster 3\"], [-0.8775266399448775, 0.920024493578276, 0.5231324735719198, -0.16619932221266745, 0.8521555384338989, 0.013016950613789602, -0.44370059008595936, -0.7549510956940897, -1.3242330728269416, -0.33594660949408733, 2.116989338274608, -0.8108261834527097, -0.3543662941185829, \"Cluster 3\"], [-0.4089909222972139, 0.12720756916340087, -0.2705127633510618, -2.104659523223167, -1.1719356676028045, 1.415497484854069, -2.869949159003567, 0.04988652914946619, 1.2966606786441168, 0.7842171133237128, 0.12956217144137253, -0.24975253945202272, 0.40913514431469633, \"Cluster 3\"], [-1.3721685354739521, 0.9023450777683548, -1.6176909062020832, -1.69670509623473, 1.692229606559318, -0.04533306871530934, -3.0379535705465845, 1.1025990649785433, 0.721962608029797, -0.32479923558391083, 1.1290178157149964, -0.747612967211209, 0.6706310936495524, \"Cluster 3\"], [0.0469115766744625, 1.2487529616660613, -1.3277538767685695, -0.8840423392735199, 0.5907423960142997, -0.9789524613079765, -2.1686374798971353, 0.9531142907582448, -1.0447112126466882, 0.799236053366963, 1.5004390233108118, 0.46425311917528556, 1.1606797937330933, \"Cluster 3\"], [-0.12799861198446547, 1.370781907893247, 0.9210595664414281, -1.3296386219245613, 0.6829489195684747, 0.5075288373475972, -0.7152856187277804, 0.33960103339531644, 0.5857520298406497, -0.20147298299895333, 1.1800237237388511, 0.00804521630763808, 1.0937157251433451, \"Cluster 3\"], [0.8273985604734009, 0.9907123817775771, 0.37455887168926233, 0.4947152459897549, -0.7901220634018731, 0.746251446510357, -0.5312601132958591, 0.556040595500405, -1.4412895176959646, 0.32579874769824363, 0.22166586001102287, 0.4570695830300234, 0.10684864541324755, \"Cluster 3\"], [-0.2806805025658953, 1.4672581022056, -0.24223572555871642, -1.1256533627365304, 1.0276370859624515, 1.092070975129229, -0.7923320749193498, -0.042320789792960695, -0.29393099453485066, -0.6921860077933504, -1.0393013659294326, 0.5636727666164189, 0.14305230037547131, \"Cluster 3\"], [1.1933179607264173, 1.0319110379804854, 1.6153696936815871, -0.7909666414325751, 0.4804069537715999, -0.6086351176535658, -0.9553029123809565, 0.27337867825262513, 0.5037903313410516, 0.8871701502797155, 1.074198423177999, 1.900209485294562, 0.7339577587806467, \"Cluster 3\"], [0.25646666007657465, -0.7737872039883567, 0.10072872640926411, -0.44225734362100627, 0.3587875974235888, 1.655097509192135, -1.6873419175807436, 0.4824350964243482, 0.36584573455389036, 0.46944500029613084, 0.4627667647392561, -0.5429531484427654, 0.32363181636898564, \"Cluster 3\"], [-1.8095176053459652, 1.2523988307430987, -1.6514840632662178, -0.12875962412336747, 0.9604412871324016, -0.27378543076946515, -1.4613890170831576, 1.2994214642428679, 1.2035240685221216, -0.031197563059331416, 1.5616177858262223, -0.283157943206716, -0.5984085449871833, \"Cluster 3\"], [0.14356211484303152, 1.3129412672538532, -0.6923572124857522, -1.4640649529374627, 0.21940260729922084, 2.230313113786705, -3.002861223727034, 0.8141762373015576, 0.3409592123657533, -1.7709748128607425, 0.670234867410546, -0.48606905538218864, -1.5648535128633907, \"Cluster 3\"], [-0.6414564595378839, 0.9000184361431699, 1.0232965640618092, -0.33326015343490245, 1.6410280769303534, 0.5705638366930634, -1.3191503984744262, 0.5866861060893164, 0.47272194638752096, -0.36622014784242396, -1.1709683595083464, -0.2701229918596473, 0.4304657772115321, \"Cluster 3\"], [1.0459294462426119, 0.9113515230844292, -1.6568078967130409, -1.6674771957223498, 2.5332088885594843, 1.3568066130102183, 1.0578759010839027, -0.4618865697003441, 0.6684360404515239, -0.18111101093597815, 1.8038970717195761, 1.2153878940839202, 1.03675612637261, \"Cluster 3\"], [1.7651620453566903, 2.5326332329819774, 1.5270248186705035, -1.1272904373437371, 2.193199375037421, 1.1467908800638553, 0.8364213625861819, 0.6757680056311328, 0.09944599361714959, -1.056209597726341, -1.7010144282253503, 1.9948603797237607, -0.7979250437659222, \"Cluster 3\"], [0.9616265956686997, 2.3316396209260244, 0.6370455380470648, -0.5464633569984608, 0.9885120333814273, 1.7845419473860715, 0.46396470141941115, -1.588051796869804, 0.9370966559594552, -0.2558070128556822, -0.012929279558723576, 2.240369205697198, 0.6095128720504686, \"Cluster 3\"], [-0.6532937400685961, 0.3684266260605531, -1.9732389389182043, -0.7161037886427014, 1.2381613943802454, -0.48060732629406505, -0.9960828745901996, 1.4099143858926233, -1.8052270719274113, 0.18631255310826925, 1.218521397973167, 0.48026043474257485, 0.258780766382977, \"Cluster 3\"], [0.8838837315950453, -0.48099106340099657, 1.1530002555083438, -1.1034753805672124, 1.0736792849966899, 0.5992297297259619, -1.1912470140229994, 0.14962664991579658, -0.4897490921731047, 0.7627964733257216, -1.02502668971614, 1.0019008273087278, 1.7580923769866277, \"Cluster 3\"], [-0.5266510855919599, 1.0424877269034742, 0.7645838894985814, 0.18788046973957906, 0.1604767482752232, 0.11766683801162732, 0.8158399453027396, 0.20952670087203584, -1.2026951730147075, -1.1199044199126376, 1.1493917223384371, 0.4796928240167555, 0.3732033631827267, \"Cluster 3\"], [-2.487104658348425, 0.9729227208336656, 1.710051282698017, -0.5924681768141947, -0.36719695103624517, -0.134535276051404, -1.495757500550355, 0.5789665543378163, -0.15692028322888452, 2.5235979738081697, 0.6478505097965636, -0.05140387877985829, 1.4456933973523411, \"Cluster 3\"], [-2.5170240073457384, -0.7887197635980872, 0.20993335049576176, 0.28541923188104495, 1.0108018493936664, 1.2751639930863945, -1.5654770851806246, -0.5304193473023859, -1.1132985835573053, -3.0977951226763167, -0.03517169282881041, 1.399895426117351, -0.2619065397870197, \"Cluster 3\"], [0.12367073362945577, -0.017957955597248495, 0.43756472814032493, 0.0007395383575607237, 0.610349588730317, 0.823445975873425, -0.37801577469093234, 1.4733836477805273, -1.331526067311101, -2.256957108192978, -0.8969867068837707, -0.3372462769949443, 0.23888696646246146, \"Cluster 3\"], [0.4238166839146955, 1.9174187636974847, 1.2983638923520051, -0.16165546045884385, 0.6005450642527225, 2.083340474828095, 0.6613215573311447, 0.26439094211052044, 0.2763870886554754, -2.4519556807507015, 1.2057880706840873, -0.11135017055023357, -0.5358589601131675, \"Cluster 3\"], [-2.3200134042849596, 0.47396427958537213, -0.16456863031269844, 0.8164685723070267, 0.0397775404970324, 0.8101089525642771, -2.9056474073271263, 1.5241202456913323, 0.2899801200382666, -0.4521532111687895, 0.8229182307977098, -1.735604731965113, 1.6038083928940623, \"Cluster 3\"], [0.858844682345955, 1.012619974436941, -0.8614539703032347, -0.29034406667715656, 1.1385661175528383, 0.24186070886301056, 0.09499975343352007, 0.3160268724189538, -0.4523232687548331, -0.8937457141394082, 0.7701285458097844, -0.8053019532150044, 0.05819169148123326, \"Cluster 3\"], [0.251966017704842, -2.46322897029859, 2.220671183163439, 0.7949513156317166, 1.5627099515773903, 1.490056476681587, -2.743822378530513, 1.40358412377073, 0.5022107592240563, 0.8482550558688953, -1.5821892215376643, 1.5284846788872022, 0.10786916656547163, \"Cluster 3\"], [0.614473328947585, 1.4022451315643054, 1.365473861942726, 1.8283164435071273, 1.0335768816138853, -0.6526650302886151, -2.9255775056997475, 0.7812833637192204, 0.9578117554028244, 0.5903260639394611, -0.2096815985950324, -2.550950002754938, 0.35995300361176735, \"Cluster 3\"], [1.1919913602090122, 0.529276678055352, -0.1581988931886343, -0.1962905015166169, 0.990288680986185, 0.14703217720161751, 0.727413301615706, -0.29320010400237445, -2.026523625852591, -0.048999830812890714, 1.2839149875758706, 0.7698999009718053, -0.26500518756346164, \"Cluster 3\"], [0.2740250433941952, 0.07913770964229293, 0.8319945955728423, 0.5589598010879188, -0.2597637651949769, -1.4259296660573184, -0.49486965234710945, -0.07643400327865336, 0.23940183285388808, -1.111716511564354, 2.1196296117707822, -1.1016967027148579, 0.8052502884020916, \"Cluster 3\"], [1.4885028118854795, -0.16510576920400974, 0.7852332353683443, 0.5297287357297482, -0.045699726973883595, 1.6089404260202294, -0.8130223408667882, -0.11459755447079722, -1.181765860502344, -1.7316680996704927, 0.20004869764802705, 1.1780996518690066, -0.43141905983459405, \"Cluster 3\"], [0.9056622213252288, 0.00232942274809408, 1.0254472079069554, 1.3948895612993857, 0.770164921031943, 1.0006673514895557, -0.7277608513657902, 0.029425110828849552, -1.0989519235075274, -0.42327724143972967, 0.2547968167467653, 0.44489462144656994, -0.029384802053988034, \"Cluster 3\"], [0.7103473038598006, 1.3543253843764835, 0.9296877001363776, 0.5230668598259974, 1.3003209007657848, -0.35519352277946875, -0.7372958748584675, 0.11590629500372715, -1.2622779194300213, 0.6090881532861316, -0.7321068681913299, -0.4894373677900901, 0.07502553935969618, \"Cluster 3\"], [-0.18351771988596266, 0.1988973156750814, -0.5728636191808881, -1.157471924427965, 0.02011629993212938, -0.7257516152846464, -0.6781377809038084, 0.38995099523118704, 0.426708612981978, -1.105787451730856, 1.5685383294599273, -0.05950503461346308, -0.4972459287077369, \"Cluster 3\"], [0.14811306516563208, 0.6119935895117489, 2.0360840428102094, 1.7706468922310772, 1.2204855842187374, -1.654647481506129, -1.4846786245482493, 0.23274717200819722, -1.1939389858096805, -1.3803534591455084, 0.6311714976382982, -2.4267564942874817, 0.692848306889453, \"Cluster 3\"], [-0.34610269131931487, -0.010871744047880539, 1.5315134767293428, 0.2760817899260655, -0.7573074168567312, 1.829986929144625, -0.2906172396213947, 0.7166388010839745, -0.7769936244077651, 0.12510740382198743, 1.4605400315449388, 1.5449665299804356, 0.4461433093707404, \"Cluster 3\"], [0.8079456862949277, -0.3682986104953303, 0.07238384623151053, -2.754087624052621, 0.6221749247731871, 0.08991902730274662, -2.9282527143838952, -0.7980987615036503, -0.07783666107200939, -0.2652531911032075, 0.7364959049902456, -0.011078404355520611, 2.08818531935349, \"Cluster 3\"], [-0.23480085080594582, 0.8196614740456234, 0.460414353415516, -1.8055045549713054, 0.22652507775826736, 0.8036219477024393, -0.24427199850660122, 1.0340597938105154, 1.1077067532711031, -0.5572768656942122, 0.12890679760446844, -0.322405439626282, 1.813075481486895, \"Cluster 3\"], [-0.5978904858569547, 1.3500890949456763, 1.5301521283310022, 0.5970933940651403, 2.214543548480316, 1.9500209883766246, -1.3906921341076002, 0.5081888366295816, 1.1813125718782103, -1.2869570373867656, 0.277466596961721, -1.1183786138055591, 1.3648349090122112, \"Cluster 3\"], [0.5482590629683834, 0.547480446392341, 0.1413829261834949, -1.1613654413315468, 0.2545353552085744, -0.511317597229488, 0.16135097186292865, 1.2431941657658951, -3.4537539998440963, 0.40186218053659684, 0.658831497941433, 1.9868196859261404, -0.19013848649636392, \"Cluster 3\"], [0.838115819108892, 0.9032119658535767, 0.6243642980180792, -0.9800713876637309, 0.3384985159218809, -0.14554390631569203, -0.41782651717521313, 0.3950338698283182, 0.740163599154763, 0.5861774595717404, 0.5958258661565048, -0.8919217619932501, 0.4742114746435113, \"Cluster 3\"], [0.23455074102356732, -0.11677376441112451, -0.4646117878808628, -1.0466223898853475, 1.2900365042964255, 0.0023072407764272796, -1.6245176649752826, 1.082551930172578, -2.2419343181927123, 1.4415937332527788, 1.1484653738845108, -1.120319350330439, 0.5477516117882166, \"Cluster 3\"], [-1.195524685907561, 0.3851319405349326, -2.3527043999584536, 0.08112739782653511, -0.3793353634589482, -1.103906190987549, -2.2926330207423202, -0.09642059880022233, -2.9304557515289043, -0.17879813530446592, 0.27974699033629213, -1.3044017155419443, -0.5271282194396567, \"Cluster 3\"], [0.46671881495853274, 0.5072832884896177, -0.09805558261553221, -0.2792028039575491, 0.8768616851601223, 0.9544387856555637, 0.5189680633889084, -0.03418001043428873, 0.14690145174648303, 0.49070415061578815, 0.9079033533396256, -0.09370475424798087, -0.1244272473728522, \"Cluster 3\"], [0.6052381727663134, 2.335844052789562, 1.327454169902644, 0.8250225260893074, 0.29093565898423557, 0.48211910088280374, -3.759960157592376, 0.8738642463612202, -0.4599035003285115, -1.8535286100780484, 0.36547755848260843, 0.29799246798110846, -2.0393651870509375, \"Cluster 3\"], [0.9930471850836778, 0.45266744836965944, 1.991312721838984, -0.5829293289294741, -0.39599648325670167, 0.21666371209957433, -1.28085591536538, 0.2608690487770254, -0.9600192746731601, -0.3065365582801422, -0.025598801481461594, -0.2715295917673117, 0.558247267137429, \"Cluster 3\"], [0.1870868097824259, 1.0909986876948792, 2.0258772461553236, -0.37882748638946034, 0.41025650490330046, -0.35129812358260704, -1.5800907468955043, 1.0460981585929117, -0.5915519422269357, -0.14329734531352065, 0.4733579468654483, 0.08961198338446634, -0.05266340197514897, \"Cluster 3\"], [-0.5758916728920682, 1.0147158910822074, 0.7882420056289792, -0.7346640937027681, 0.8792915984855552, -0.13788819044104408, -2.564009195565792, -0.6834402371104288, 0.23884922528004113, 0.536796837170136, 1.152785243026882, 0.529982077875957, -0.18958889981999097, \"Cluster 3\"], [0.31632409095399605, 0.5430793780353099, 0.3237769756301531, -0.04119868302347986, -0.26132452648589416, -1.1962006274167811, -0.8865519073076265, 0.32696224744601543, 0.13321704240847576, 0.2694833156107173, 1.0845334315298418, 0.21744151425625027, -0.1663054946195685, \"Cluster 3\"], [0.4823438752846045, 0.019724403069234165, -0.3088565838257975, -0.24892905050415923, 0.7795034461173492, 0.7766240664895482, -1.7648229505452362, -0.17023388245170784, 0.21489441969771306, 0.2174829245652832, -1.5264602723021408, -0.3996650231266488, -0.17068945695222248, \"Cluster 3\"], [-0.20238956716057482, -0.4972591975788677, -0.8927915984139235, -0.2948639360099975, 1.9435884819506293, 0.5773992506039166, -0.6212226316500569, -0.16258429947063005, -0.48260838682129226, -0.5687770967303494, 1.3694971276317878, 1.0119834074955616, -0.6433170108324573, \"Cluster 3\"], [-0.2514725278179727, 0.3993517400098382, 1.6372494836625602, 0.17186784996906834, 0.04260941042888819, 1.0250126296215263, 0.19899874605499304, -1.6050900755491269, 0.6821736401975399, 1.0894142832224738, 0.9417828914414301, 0.9730090663697398, 0.6941249698457626, \"Cluster 3\"], [-0.48419007081846394, -0.2928954761737647, 2.2423865031174963, -1.1732751493548463, 0.4962112689419309, 0.6704535841746406, 0.13134514698573937, 1.5850860668409668, -0.8587678778045228, -0.07474265701155369, 0.2862862126499072, -1.0693596834983075, 0.07128583223994596, \"Cluster 3\"], [-0.2321477438097011, 1.1841624356373612, -0.9611502497556423, 0.08504614447751326, -0.2904515367327773, -0.8572593680602478, -1.5106055391667859, -0.09043946035307597, 0.45007791861864826, 1.286136843690681, -0.08575581701446833, 1.0168453337039478, 0.10929897574977417, \"Cluster 3\"], [-0.027671736496154186, 1.3286536420220674, -0.004068520707896018, 0.02712339871894767, -0.567457111784357, 0.5194692286668046, -0.31182207689171243, -0.08371280328666723, 1.4761755203462494, -0.5764298383114851, 1.659299207325104, -0.1742749063831316, 0.1663806098613382, \"Cluster 3\"], [2.4625203841151624, 0.9456097349869955, -0.2899209207121127, -0.43826928250948616, 1.4344707840544888, -0.8500153238100737, -1.129309939148997, 1.1100308078078074, 1.4803261613275118, -0.18321924831883116, 0.8403520830174829, 0.0693830169346865, -0.7781818620348805, \"Cluster 3\"], [-0.4687110798620175, -0.9566127584864375, -1.2278009530935365, -1.0812074999149426, 0.42198569810373127, 1.5539865901262806, 0.029221998146014682, 0.35045682677676177, -1.6024912800717683, -0.3643314356222653, 0.4169415213051866, 1.0865562221013865, 1.1250070309772777, \"Cluster 3\"], [0.7638281531594131, 1.4022168082882387, -1.0777772000629138, -1.919670289448561, -0.43844418679525127, 1.3379269379119232, -0.5319292326303441, 0.2996754627524936, 1.0852456510089474, 1.184720751790046, 0.8397461479608603, 1.832626834459478, -0.59092210360283, \"Cluster 3\"], [-0.8231108890751612, -0.334959536148046, 0.421497221845824, 0.06501164509231191, 1.4066831512303157, 0.5928514152991636, -0.8643388966017383, -0.44789897496993064, 0.3643846473973124, -0.21162315337702517, 2.1326413469045558, 0.7074492587533343, 0.6370670959804063, \"Cluster 3\"], [-0.4893826350906889, 0.6405940079317739, 1.7324259329361593, -0.6693644099038868, 0.11180013770227215, 0.3994194000715749, -1.071547991616914, 0.3227944400270034, 1.5885649846351142, -0.6334144862143123, -0.06622645017498535, -0.347941676500973, -0.9699202099905962, \"Cluster 3\"], [-0.4202443282721627, 0.7981246654178472, -0.026095975462142658, -0.06173752491508369, -0.14364523981848776, 0.5203622160021212, -1.2537167119279826, -0.18469038154123407, 0.3093316827970762, -1.3476657394160134, 1.4510077949417055, 1.3019837534387981, 0.49008577256009667, \"Cluster 3\"], [-0.4272858983457901, 1.0584848238950186, 0.47727258518125676, 0.6074051648783791, 0.6063921424423264, -0.03683010934736837, -0.6680267708512557, -0.8773933555097341, -0.48037233439298743, 0.4536403086121394, -0.024217531034361327, -0.20021044414658182, 0.09725591224914824, \"Cluster 3\"], [0.8731205237021274, 0.14820532512853515, 0.0981606570182343, -0.9266652431883597, 1.2878297875333313, -0.3466174712318194, -0.7211870689464585, 0.5120866198848764, 0.38496951475171826, -0.7862481091014145, 0.3055486927605433, 1.3075663579204138, -0.2108832338924755, \"Cluster 3\"], [-1.7519742721831733, 0.5594570433975649, 0.7927306414378855, 0.002069604137625596, 0.7293756964238505, -1.4159824667178713, -0.13772203450563694, 1.5092808914417524, 0.9432780826911766, 0.16859522946442, 0.7974791630690159, 1.3326902550786188, 0.44029395237982216, \"Cluster 3\"], [0.965863575429149, -0.39261457276527756, 0.36297546523620455, 0.1296480559938796, -0.3846187017890913, 1.191431090747136, -1.9217338197925398, -0.6778959628195886, -0.11253522361000039, 1.06690695130887, 1.4207201450040545, -1.1894115142899417, 0.934335788578484, \"Cluster 3\"], [-0.7439244393649985, 0.7380922229000065, 0.03023223613092773, 0.8168297659753283, -0.678256944341099, -0.046042700718762146, 0.15474640478162013, 0.3048049950976096, -0.8385272547996002, -1.1904090943508066, 1.6760671867996868, 1.968440081712687, -0.5105048623524205, \"Cluster 3\"], [0.7137221628179744, 1.8270973156414188, 1.1938203678867685, -0.6747239253885691, -0.19296026106689862, 1.7776463413793284, 1.5273637202393056, -0.9779055643570606, 0.16398998442304227, 0.16933678407131145, 0.41696463189446686, 0.3377719265202793, 0.10256485679435447, \"Cluster 3\"], [-0.012854037652468196, 0.6953370188146504, -0.8926329842184918, -1.967851779942851, 0.5146573218590484, -0.19774950583490083, -1.044078339096519, -0.03807924605424057, 0.1226847245323796, -0.04273453788254963, 0.610467595380758, 1.306630834387742, 0.5168301314022035, \"Cluster 3\"], [-0.7182812508549592, 0.9898767000570008, -1.2315740800694788, -0.7139041548094421, 1.2935016570733444, -1.3009725629557531, -1.2866944525745116, -0.6296205582058448, -0.1268348263616673, 0.1617004920118785, 0.019427524723163395, -1.8403228594261456, 0.4584362004182207, \"Cluster 3\"]], \"hoverlabel\": {\"namelength\": 0}, \"hovertemplate\": \"Cluster=%{customdata[13]}<br>FAC1=%{customdata[0]}<br>FAC2=%{customdata[1]}<br>FAC3=%{customdata[2]}<br>FAC4=%{customdata[3]}<br>FAC5=%{customdata[4]}<br>FAC6=%{customdata[5]}<br>FAC7=%{customdata[6]}<br>FAC8=%{customdata[7]}<br>FAC9=%{customdata[8]}<br>FAC10=%{customdata[9]}<br>FAC11=%{customdata[10]}<br>FAC12=%{customdata[11]}<br>FAC13=%{customdata[12]}\", \"legendgroup\": \"Cluster=Cluster 3\", \"marker\": {\"color\": \"#ab63fa\"}, \"name\": \"Cluster=Cluster 3\", \"notched\": true, \"offsetgroup\": \"Cluster=Cluster 3\", \"showlegend\": false, \"type\": \"box\", \"x\": [\"Cluster 3\", \"Cluster 3\", \"Cluster 3\", \"Cluster 3\", \"Cluster 3\", \"Cluster 3\", \"Cluster 3\", \"Cluster 3\", \"Cluster 3\", \"Cluster 3\", \"Cluster 3\", \"Cluster 3\", \"Cluster 3\", \"Cluster 3\", \"Cluster 3\", \"Cluster 3\", \"Cluster 3\", \"Cluster 3\", \"Cluster 3\", \"Cluster 3\", \"Cluster 3\", \"Cluster 3\", \"Cluster 3\", \"Cluster 3\", \"Cluster 3\", \"Cluster 3\", \"Cluster 3\", \"Cluster 3\", \"Cluster 3\", \"Cluster 3\", \"Cluster 3\", \"Cluster 3\", \"Cluster 3\", \"Cluster 3\", \"Cluster 3\", \"Cluster 3\", \"Cluster 3\", \"Cluster 3\", \"Cluster 3\", \"Cluster 3\", \"Cluster 3\", \"Cluster 3\", \"Cluster 3\", \"Cluster 3\", \"Cluster 3\", \"Cluster 3\", \"Cluster 3\", \"Cluster 3\", \"Cluster 3\", \"Cluster 3\", \"Cluster 3\", \"Cluster 3\", \"Cluster 3\", \"Cluster 3\", \"Cluster 3\", \"Cluster 3\", \"Cluster 3\", \"Cluster 3\", \"Cluster 3\", \"Cluster 3\", \"Cluster 3\", \"Cluster 3\", \"Cluster 3\", \"Cluster 3\", \"Cluster 3\", \"Cluster 3\", \"Cluster 3\", \"Cluster 3\", \"Cluster 3\", \"Cluster 3\", \"Cluster 3\", \"Cluster 3\", \"Cluster 3\", \"Cluster 3\", \"Cluster 3\", \"Cluster 3\"], \"xaxis\": \"x2\", \"yaxis\": \"y2\"}, {\"alignmentgroup\": \"True\", \"bingroup\": \"x\", \"hoverlabel\": {\"namelength\": 0}, \"hovertemplate\": \"Cluster=%{x}<br>count=%{y}\", \"legendgroup\": \"Cluster=Cluster 4\", \"marker\": {\"color\": \"#FFA15A\", \"opacity\": 0.7}, \"name\": \"Cluster=Cluster 4\", \"offsetgroup\": \"Cluster=Cluster 4\", \"orientation\": \"v\", \"showlegend\": true, \"type\": \"histogram\", \"x\": [\"Cluster 4\", \"Cluster 4\", \"Cluster 4\", \"Cluster 4\", \"Cluster 4\", \"Cluster 4\", \"Cluster 4\", \"Cluster 4\", \"Cluster 4\", \"Cluster 4\", \"Cluster 4\", \"Cluster 4\", \"Cluster 4\", \"Cluster 4\", \"Cluster 4\", \"Cluster 4\", \"Cluster 4\", \"Cluster 4\", \"Cluster 4\", \"Cluster 4\", \"Cluster 4\", \"Cluster 4\", \"Cluster 4\", \"Cluster 4\", \"Cluster 4\", \"Cluster 4\", \"Cluster 4\", \"Cluster 4\", \"Cluster 4\", \"Cluster 4\", \"Cluster 4\", \"Cluster 4\", \"Cluster 4\", \"Cluster 4\", \"Cluster 4\", \"Cluster 4\", \"Cluster 4\", \"Cluster 4\", \"Cluster 4\", \"Cluster 4\", \"Cluster 4\", \"Cluster 4\", \"Cluster 4\", \"Cluster 4\", \"Cluster 4\", \"Cluster 4\", \"Cluster 4\", \"Cluster 4\", \"Cluster 4\", \"Cluster 4\", \"Cluster 4\", \"Cluster 4\", \"Cluster 4\", \"Cluster 4\", \"Cluster 4\", \"Cluster 4\", \"Cluster 4\", \"Cluster 4\", \"Cluster 4\", \"Cluster 4\", \"Cluster 4\", \"Cluster 4\", \"Cluster 4\", \"Cluster 4\", \"Cluster 4\", \"Cluster 4\", \"Cluster 4\", \"Cluster 4\", \"Cluster 4\", \"Cluster 4\", \"Cluster 4\", \"Cluster 4\", \"Cluster 4\", \"Cluster 4\", \"Cluster 4\", \"Cluster 4\", \"Cluster 4\", \"Cluster 4\", \"Cluster 4\", \"Cluster 4\", \"Cluster 4\", \"Cluster 4\", \"Cluster 4\", \"Cluster 4\", \"Cluster 4\", \"Cluster 4\", \"Cluster 4\", \"Cluster 4\", \"Cluster 4\", \"Cluster 4\", \"Cluster 4\", \"Cluster 4\", \"Cluster 4\", \"Cluster 4\", \"Cluster 4\", \"Cluster 4\", \"Cluster 4\", \"Cluster 4\", \"Cluster 4\", \"Cluster 4\", \"Cluster 4\", \"Cluster 4\"], \"xaxis\": \"x\", \"yaxis\": \"y\"}, {\"alignmentgroup\": \"True\", \"customdata\": [[0.9361424489999619, -0.8258158281354318, 0.8210339810388187, -0.48584077361042727, -0.9270433504611367, 0.9829147029339982, -1.9402107552437453, -0.783499113830415, -0.8229262409338172, 0.6779484700582823, -0.4579454673317945, -0.34866544142286243, -1.5582376745735989, \"Cluster 4\"], [-0.8021185729847669, 0.850168761033988, 1.088492385179951, 0.9337960692735114, -0.8465963880401455, 0.4648637660317187, 1.042793700168515, -1.5182218373546885, 1.1922475679115883, -1.2784327998530314, 0.23330548847038393, -0.580572081746452, -1.4705070343198696, \"Cluster 4\"], [0.907832558569684, 0.332130334472944, -1.1905857749767554, -0.7144070380581198, 0.8891891373534213, 0.1998971919951755, 0.2447876817739735, -0.9213624902225668, -0.07002440052143757, -0.09563579190702523, -0.7926406801468694, 1.0173599798628323, -0.6825588197322474, \"Cluster 4\"], [-0.4063465171978302, -1.100478470887157, -0.5933792812495349, -1.5672703952007447, 1.9611348175213414, -1.568589236120392, 1.6724412860515894, -0.30458519144461227, 2.0251838579267054, -1.7209096806003221, 1.5261081289576341, -0.1954191791968197, 0.7292235715489408, \"Cluster 4\"], [-0.48513854881369, -0.49208474112422074, -0.47682335529786757, -1.074754342445227, 0.982015740963814, 0.06148450417495174, 0.07330801574090566, -0.7435209523436206, -0.8875823602350232, -0.6640152559697373, 0.5521137879722364, -0.8311435718006887, 0.030717973368124946, \"Cluster 4\"], [0.4089763491531486, -1.873326601056437, 0.6476284616621147, -0.5883802467255942, 1.0901466737380503, 2.127641861511535, -0.8111748654975331, -1.353359521497806, 0.6541357082804922, -0.14689298577789967, -1.7637152243048448, 0.9303719771853752, -0.11203830291520335, \"Cluster 4\"], [0.3901478068997687, -0.21159495336720044, 0.9164417732779504, -0.9819688204179342, -0.10737972774397439, 0.26209285298163737, 0.9966782580281399, -0.7743430931102014, 0.0150164305318529, 0.8424857118548632, -1.1808147038511463, -2.426754628302269, 0.11712842168520811, \"Cluster 4\"], [-0.6557456536409654, -0.4746344410992047, -1.4820131706594837, -1.3170508180586855, -0.7226892730368204, 0.43444105116844217, -0.1444523711026627, -0.11313726105509421, -0.28405657029064335, -1.3561078497979964, -0.13040998631881992, -1.7073641333456935, -0.9962100616420337, \"Cluster 4\"], [1.1112970551743917, -0.05234434678101125, -0.104080949293164, 0.07644634206141973, -0.3508227152817609, 0.31961657071565797, 0.44044676673729993, -1.3296846282793313, 0.8817547061579335, -1.25004972087087, -0.3341987977954189, 0.3457395641350802, -0.15683207609494362, \"Cluster 4\"], [1.4450707862370662, 0.31097798159496376, 0.41170988364293165, -0.30196080772277367, 0.22640871765645462, 0.6978814849839796, 1.2365942799675322, -0.5964134145555694, -1.591169266545191, 0.09004330819155962, 1.005822706169329, -0.642599464345091, 0.6106118829853548, \"Cluster 4\"], [1.3707593741744164, -0.09095517611702943, -1.7398540440472412, -0.8456455425408395, 0.933222498348764, 0.16055285482014708, -0.6771722946648787, -0.11736085599834346, 0.11528703309665157, -1.134338432169516, -1.0638312401690657, -1.0310525934082146, 0.3403835876230977, \"Cluster 4\"], [1.7052010705046636, -0.5911675540765677, 1.3679661274142256, -2.045389986141741, 1.641470933858183, -1.6540633465014578, 0.5485247483455777, -0.5825437224916876, -1.8235609204556922, -1.4634520352538625, -1.3970361642494857, -0.44703974876695673, 0.29259496163362186, \"Cluster 4\"], [-1.575632055650651, -0.3637898930367255, 0.16381918324832134, -0.18134018415980638, 0.06858101884594081, -0.12234289366939709, -0.7780100246850187, -0.8813349987830646, 0.8716375944508034, -0.3045209542213572, -0.6292132805036363, -0.6928524164964797, -1.500781425607556, \"Cluster 4\"], [-0.11792365217465366, 0.11835358934971052, -0.4162715057633929, -0.18622863025588765, -0.8293054316312451, 0.1428544075287811, -0.9539868156454953, -1.0373850501712552, -0.3658985278002369, -0.3523071212294001, -1.9091764356854868, 0.22551532677960875, 0.991512203562752, \"Cluster 4\"], [-0.5354837757924581, 0.2789552465543858, 0.017118054014245605, -1.472766933320225, 1.6598198951272272, -0.6826123856426933, 1.783776403604943, -2.1785001455856268, 1.2394221695025456, 0.42022164690767094, -0.41754287279173535, -0.6635791963713453, 0.591851008737843, \"Cluster 4\"], [-1.3200349468167263, -1.1992473165552677, 0.33256158788622747, -1.358315321412214, -1.042847485610115, 0.8294405814200235, -0.7709818920033623, -2.0518871545429396, -0.5514118002288264, -0.1755501725747036, -0.6905342570632378, 0.237412304748884, 1.1951002068657006, \"Cluster 4\"], [0.09701649950217787, -1.5923631798083104, -1.4364461133449655, -1.0381384737250507, 0.0725042834975447, 0.5873903776808846, -0.6398679725641576, 0.20241296661882235, 1.276196821287064, 0.13022376659291282, -1.2738395679591583, -0.4851233969908544, 0.7155961306000277, \"Cluster 4\"], [-0.11834427913742655, -0.5580398539520417, -0.41326686682801317, -0.16859901025136914, -0.48696999709918865, -0.3430920935661475, 0.15542798907141434, -1.2305313913327192, -0.12459254273242963, 0.28375412220165486, 0.1641624841287694, -0.022386773607112807, -0.31792784847585215, \"Cluster 4\"], [-0.6712672124269975, -0.061097501443899624, 1.1162316394295666, 0.5901462442169148, 1.146061897637317, -1.4622930468752868, -0.06839757099561784, -1.2024016057993603, -0.010663511359825963, -1.547785919929985, -0.39117964372375097, -0.7130373075856231, -2.162153136947133, \"Cluster 4\"], [-0.31173857172826525, -1.4260912592201485, -0.2613254105637798, -0.3990099334093827, 0.9059312672860819, 0.1670431843275742, 0.36779431967062604, -0.6269590917724243, -0.5505640400371151, -0.3142923514991049, 0.1959861865079173, -0.5165782410404444, -0.3382580268188847, \"Cluster 4\"], [0.7950659473081623, -1.6599062406063538, 0.4086491647032188, -1.012549380902825, 1.2397311476589816, 0.8993767950770123, 0.910240291685469, -0.3778432063892443, -3.0420922976572586, -0.8629459463548054, 0.500099644987095, -0.21503732678910764, -0.1906149139628164, \"Cluster 4\"], [0.05776783139928011, -0.853640564385994, -0.9137288885720813, -0.4257650833946498, -0.2072579976197974, -0.0929825136056103, -1.8712403349310403, -0.47803587688982, -0.760705549586557, -0.27428753424224633, -0.06255064995713618, -0.32348695774657826, -0.21213233035723222, \"Cluster 4\"], [-0.12740179353045836, -0.2753181052346997, 0.9389384892024975, -0.8457010089354314, 0.8640285678798186, 0.4448911249865128, -0.07766643603309578, -0.09265020916040789, -1.0216877507440854, -0.9048289574718484, -0.5380179288240189, 0.5693453332926265, 0.002049400930029218, \"Cluster 4\"], [-0.8993142074745001, 0.8454400713685083, 1.029185306269874, 1.2272662824669918, 1.5491176078529418, -2.013624635367966, 0.20566387011631754, -1.4932526576960543, 1.4296160952876784, -2.947239909126428, -2.2575351829707864, -0.8492259877226782, -2.3281247278913932, \"Cluster 4\"], [0.06883274416452194, 1.0012221408425597, -1.0270232576987335, -0.9620360295159506, 0.725708317638782, -0.9648092989235092, 0.4031229726093611, -0.26523330965129827, -0.9337150690127992, -1.0877210432110838, -1.0835133217506898, -0.8545669660764329, -0.926658138388815, \"Cluster 4\"], [0.5245985161825586, 0.1274704361378851, 0.0013756008500777604, -0.3407039969397036, -1.525466156664291, 0.7416438516656918, 0.4411018182523227, -1.2820826926215172, -2.2886411055384253, 0.5085893236683829, -0.7041703364301034, -0.9932958490496379, 0.4544804339124577, \"Cluster 4\"], [0.811482938517783, 0.1873671659515495, 0.576734801624039, 0.30394881260741535, -0.2973273657525002, 0.8181519460487517, 0.741348083062416, -1.2957849344466297, -0.2885944638740544, 1.194872150493076, -1.2501846937033474, 1.006464041088671, 0.1280269471805336, \"Cluster 4\"], [0.00023933919760027843, -2.41090336543943, 0.7637099064480025, 1.3479663342161268, -0.7070618044032106, -0.7520565289976534, -0.7229056669505933, -0.11278675460892158, -0.7036270546935921, -0.7655924245818675, -0.3178568073142608, 0.46704405769850166, -0.40118915052427423, \"Cluster 4\"], [-0.262433691224295, -0.8294485885559034, 1.0038259954289523, -0.22870859835146432, 0.12541018444630517, -0.7254642280349491, 0.7494095084731818, 0.3802398415214366, -0.3425227896037884, -1.4624678756835603, 0.07242366540502126, -0.08514970840236627, -0.07612559781231225, \"Cluster 4\"], [0.7043027857275385, -0.2646006933154993, -0.5912304695653443, -0.7900753935952717, 0.32983870068960025, 0.03386661386907809, -0.5261888291831462, -0.5178605956528616, -0.8612883902748395, -1.5667828599529838, 0.7762003160639223, 0.6479641103743783, -0.9697045626936248, \"Cluster 4\"], [-0.3086577228625308, -1.6054081248094048, -0.3401719799031792, -2.1116275358106, 0.8277993102016742, -0.3971068761899387, 0.7796224190622201, -1.2937189955513844, -0.3292774527073341, -0.4399099685047925, -1.4552609360792188, 0.07870477410547325, 0.3140585967442394, \"Cluster 4\"], [-0.003869316309322331, 0.08686222685430196, -0.13056544226447053, 1.438798332092962, -0.24323521392697747, -0.8252506117988287, -1.5652989860549087, -1.9518016160064515, 1.737065153909187, -1.1741798570676818, -0.05293401702790895, -1.315448060797652, -0.8214024693853819, \"Cluster 4\"], [0.604662885999015, -0.37579706560781834, 0.3493213945846202, 0.2713172112713168, 0.7355227379687022, 0.6173133751771455, -0.30302691316792074, -0.32661215028431934, 0.45517773401784495, 0.332663455160879, -0.542298720002132, -0.32034253113872596, 0.47323414860115964, \"Cluster 4\"], [-1.8299179737801732, -0.7628624734940175, -0.8142458906903117, -0.9543207313133947, 1.0351169854677924, -0.10347795071152795, 0.9961817517455261, -0.7822074743514783, 1.5277969840289043, -0.1398650448403071, -0.665743963040935, 0.7654851002898101, 0.7885267797516209, \"Cluster 4\"], [-0.8160659999297561, 0.22043044336949125, -0.00034238041129331325, 0.33951819178743, -0.257114616018269, -1.0330739412486838, -0.5354496075219964, -1.0752984748588013, -0.6435139357683937, -0.39133280757802347, -0.6170925703208912, -0.47830212791169774, -0.5450095210101685, \"Cluster 4\"], [0.29285148403732164, -1.2766927965488395, -1.153309457744396, -1.4294460229911004, -0.6256281117771252, 1.7564174656176328, 0.6832429180889229, -0.08718177735677964, 2.12875363464674, -0.8569687640871577, -1.6857840001487472, -0.1587237662291809, -0.4654004161352122, \"Cluster 4\"], [0.393388122488478, -0.2794341543931093, -0.4930545965241217, -0.5357805643613756, 0.7903323308402681, -1.3960957865319141, -0.3812103907995141, -1.7844102355850209, -2.3200299816039363, 0.5811102956687455, 0.49539644984707526, 0.10443453853817776, 0.4026250620937606, \"Cluster 4\"], [0.8704856973971593, 0.23239289012103853, 1.2855615509161975, 0.8993781807401833, 1.214112209463359, -0.6105209103225332, -0.921337794807505, -2.797524054530595, 0.8121471341072543, -0.7478028243814326, 0.398005224223434, 0.28243116959150294, 1.381353707777207, \"Cluster 4\"], [0.09732761652798114, -0.5995784541629716, 0.9986316961439238, -0.6393480971169014, 0.020909422346631026, -0.31891033153715365, 0.5026206411920743, -0.43054883626510654, 0.19048194015925457, -1.3378158151136794, -0.8332158362474829, -0.20039744390360648, 0.6318011560425172, \"Cluster 4\"], [-0.7782321862800349, 1.6399354756454383, 0.6590357897565728, 0.7219295888730279, 1.3591989357780758, -0.2880442304843182, 2.7899897256638972, -2.527895561940054, 0.9913144515205868, -0.7337361648899747, -0.9483230971259743, -1.646320373738656, 0.21740166029335564, \"Cluster 4\"], [1.2842351802647272, -0.271182595700552, -0.03815462430356842, 1.177842981329674, -0.8720704297329975, -1.1074619906045986, -0.3451386780301968, -0.9576430033128572, -0.9233683148735996, -0.37663152421810886, -0.28735672214048535, 0.41274937942974677, -0.46968680460776946, \"Cluster 4\"], [0.032755208960812666, -2.1885904231267377, 0.3662791224162131, -2.650050028501709, -0.0631285106045767, -2.6515655965134894, 0.04239609979075464, 1.2146610861787985, -2.101446928800941, -2.0007599618054974, 0.21211387827211325, 1.7112799102092002, 0.40544932063273376, \"Cluster 4\"], [0.49810304412102857, -0.9002385393654891, -0.851125644560023, 0.4916970640962726, -0.46183931703007775, -0.19692675996942047, -1.287787335566711, -3.7843427483643945, -1.431430469541336, 0.7434792739429525, -0.7774308999869404, 1.637660694706748, -0.3530721478322241, \"Cluster 4\"], [-0.09701999876634751, -0.03776452433957468, -0.2963246109609419, 0.12732139871639928, -0.0745842920243866, -1.327298821314041, -0.6675732852793612, -1.7865699028360944, -1.1831309995350823, 0.25651160498953735, -0.6201451226801775, 0.7416744254979787, -0.04572628620910885, \"Cluster 4\"], [-0.3963796225616083, -1.3217208266930114, -0.9819201214847649, -0.0797536944176171, -2.3381039700710384, 1.547228210737844, 1.1066808997659234, -1.7397359766927867, 0.012323141180440107, -0.39160683221029485, 1.063352470298686, -1.0088006407871852, 1.5809490967485655, \"Cluster 4\"], [0.5901772743319594, 0.12273002906291122, 0.31450735375445504, 0.8194924241591184, -0.5079726494559114, 0.2773439555655835, -0.6689174100193237, -1.804872883434029, 0.8851534376803224, 1.1327485480338941, 0.24986479840506226, 0.556215470338903, -0.022741091430774085, \"Cluster 4\"], [-0.8668268570333555, 0.5274927270110847, 0.3065070836958114, 0.6364097725657208, -0.7819282714872208, 0.16196868262286543, 0.0022562035666736035, -1.5049484149098928, -1.22336108810341, -0.406643010324438, -0.6519630285476637, 0.043088140071038165, -0.003677278416098171, \"Cluster 4\"], [1.3165313232948581, -1.0109693918499734, 1.4047319095891242, -0.6998535706270816, 0.458392811226259, 0.7578050559144462, 1.7758121225518624, -2.385499538182033, -0.0788204792283391, -1.3298251129922156, 0.11726972811048539, 0.0025252865282740632, 0.09600806364949167, \"Cluster 4\"], [-0.048081046769168925, -0.7852680209495028, 0.31614844881501564, 1.1835075971985918, 0.011047676152905986, -1.1054885415898545, 0.1498414839964817, -1.4483161353824365, 0.8884043555484615, 0.11933124837663572, 0.7836340667597251, 0.5124898563718585, -0.48825561780106047, \"Cluster 4\"], [0.4769279356653913, 0.15517336912218804, 1.19902997776159, 0.44972178472121654, -0.7925413972248428, -0.3084008885343789, 0.8287969862052513, -2.517194843218785, 2.0048208071496747, 1.987328206898397, 1.1324198243395787, -1.5488881945089663, 1.143938055193358, \"Cluster 4\"], [-0.25336748445886575, -0.060570896489282225, 0.3663114746305525, -1.6698736546579729, -0.1807691372021495, 1.1583220996163115, 0.47187439146735594, -1.419460388852001, -0.7061393075538053, -0.5081383769056188, -0.15962373462164345, -1.1999897224849243, -0.6784082519781087, \"Cluster 4\"], [0.5267778471472767, -0.6353410426366336, -0.3288766818891101, -0.5270492560676305, -1.3022872752464836, -2.481158841188376, -2.8171053105217525, -2.286400793569564, -0.4705455571859694, -0.2912985918736528, -1.0219135416275726, 1.4421927771392022, -0.6886474917650972, \"Cluster 4\"], [0.7026572344869855, -0.9540928671366669, -2.4985483475282453, 0.15065899415038736, -0.89520404801148, 2.2043339088793363, 0.5280186878143074, -1.0802354912249172, -0.022440852323770348, -1.5335524767285498, -0.023807575573603128, -1.4084331528463243, -1.1893244569947834, \"Cluster 4\"], [-0.8528300900792961, -0.1119416206791772, 0.6375545074242979, -1.5336983137952953, 0.2749084546068241, 0.7388281342755965, 0.010631737641688836, -1.258176195027819, 0.14725291512173264, 0.4098228921656515, 0.4514969273193438, 1.4597299964191572, -0.8366052017674327, \"Cluster 4\"], [-1.2085894284862233, -0.8719796253500671, -0.13388767515196257, -1.852289741679158, 0.2843166191712624, -0.09163939606974839, -0.675276828366662, -3.5819996960440013, 1.3587538029484467, -1.0946199104973409, -1.6569761218650312, -0.3556287881220117, -0.026800805727703086, \"Cluster 4\"], [-1.0465076469117656, 0.8267610541498683, 0.580888346829277, 0.58634815961879, 0.3554784719249244, -0.9491726548196519, -0.9580001404326609, -1.7222368312402816, -0.09100751017121884, 0.0632622047452866, 0.05369895521811246, -0.1855766354065082, 0.27003298319912417, \"Cluster 4\"], [0.04387599150560691, 0.014904493256827049, -0.5604891353036037, 0.24187968127393727, -0.5908928594527145, -0.4691192256555961, -1.5586265439994886, -1.007352320314209, -0.7004588822796705, 0.5573540912277447, -0.5171416843346552, -0.7557420639371859, -0.21935735388527944, \"Cluster 4\"], [0.7465139005628937, -0.26323815384725685, 0.14416300484037115, -0.5881175219619795, 0.2527892179213421, 0.8825490708708497, 0.4653069980250031, -0.10533656196642187, -1.0626224901404004, -1.1053765323187137, -0.8885504356781168, -0.26612459018196677, -2.1285504388228906, \"Cluster 4\"], [0.2525163162731246, -1.4460989667167057, 0.14068518482952294, -0.4557787443588035, -1.1280677099800898, 0.18663890761058502, 1.0354415621641153, -0.16628264782935845, 0.12334017429794342, -0.7376382838622184, -0.13175920258978496, -0.43450675433458624, -0.9569566397236906, \"Cluster 4\"], [-0.6816003767162608, -1.1004082089270053, -0.28857312385345285, -0.8538795093083834, 0.6932461445836577, 1.9002508562997238, 0.2199984396087165, -2.1888104614475186, 2.323107862950805, -0.8349384173653325, 0.8865634419066867, -3.01171209349503, 0.9774642296067154, \"Cluster 4\"], [1.821566915425819, -0.6144687389560678, -0.3019608543032942, -2.666562387609025, 1.8078944352136057, 0.9717071922509466, 0.15211158504866829, -0.4513594133933968, -0.5125980106467026, -0.5138543873326488, 0.31934699845207615, -0.6616118322077924, 1.8890349521710714, \"Cluster 4\"], [0.5695197057912557, -1.7830784526950485, 1.1685388088872672, -3.0424623176672103, 1.4007911134898379, -1.823902702305084, 1.0878665720412586, -0.8639856824620822, 0.18426908734167227, 0.2757620963384178, 0.5909868316148515, 0.8776430327651951, 0.4371149102615518, \"Cluster 4\"], [1.5950488540959273, -1.6628768770665363, 0.3564210839124047, 0.36661443169073554, 0.6755745081097735, 0.9245441001241911, 0.6486497924720868, 0.699911019181687, 0.4745973612697798, -0.46198895948461394, -1.2076179053335472, -0.11993956631924504, -0.6003324279252604, \"Cluster 4\"], [-0.3075706029232516, -0.16169052648317042, 0.0472887909269646, -0.015826198985248285, -0.5683658178379158, -1.2724833548728736, -0.055654126740877004, -1.4740884822350226, -0.964144022959525, -0.05005885658529558, 0.8842916347788792, 0.6854271212379108, -1.045393018799938, \"Cluster 4\"], [-0.10713017099900425, 1.1462920415591478, 0.23449041264784265, -1.3663388999365813, 0.5173547020933419, -0.618419961284281, 0.2590204507514551, -0.9069775165239861, -0.14604389247081606, -0.18081960797283753, -0.5928012283438056, -0.34835038350182995, 1.0239062882121772, \"Cluster 4\"], [0.7081951569973867, -2.636970525301691, 1.380492515635754, 0.8063157270393416, 0.6928746634218247, 0.8512798690070311, -0.011154930229002585, 1.1208306344138788, 0.6251774197525058, -0.3600298246190178, -2.946959389409267, -0.4763975157822647, -0.6385915079469329, \"Cluster 4\"], [-0.06660278246086236, 0.19988642666089593, 1.6810875060469916, 0.1942823878457321, -0.0850577321809434, -0.5998595719889646, -1.1261026748794034, -0.9101459237111302, 1.3814515134051188, 1.2583815510008058, -0.6680448941530459, -1.5102308041667338, 0.4898023107166505, \"Cluster 4\"], [0.30446421800052087, -1.049943726761366, -0.6079544538142667, -0.019422566742393843, 0.5834397006696274, -0.09076246848307828, -0.6278597158471657, -0.8864582354180741, -0.40686627899222355, 0.8905884787923435, 0.27603757032016063, -0.32753075448999885, -0.49411914828820147, \"Cluster 4\"], [-1.1521981547707385, -0.35830168871066687, -0.2925599244812171, -0.28006844823485644, -0.8164067720368212, 0.1984792270885374, -0.52503628519518, -1.5321073138760872, -0.03325261753476004, -1.0993026905071117, -0.6518061615132525, 0.03502391051188752, 0.2195355666515222, \"Cluster 4\"], [0.2617243480014088, 1.7896914352648015, -0.4411285435352116, -0.8790825460710011, 0.5133965989641915, -0.5680495519533071, 0.15044707428272197, -1.6365699878348832, -0.6585435403295172, -1.010419374424333, -0.9267517653741701, -0.2954361984102925, 0.5298545750032143, \"Cluster 4\"], [-0.6660300690082319, -0.03949101247434741, -0.9794247991286187, -0.2501923240387588, 0.3772378024557701, -0.9264547073593563, -0.2576430737440351, -0.12040138824809528, 0.05902740755080908, -0.29709783950008484, -1.0871082431561139, 0.15942612539008724, -0.04519547609663297, \"Cluster 4\"], [-3.231179245538577, -0.3039921255383574, 1.434192256144475, -1.9040143404679208, 2.1006652814532774, -2.0385998182616025, 0.23836656203672682, -0.39773830910630575, -2.4064398821655977, 1.1555352128991967, -0.8564240817853561, -0.17076015910719405, 0.11886986575070986, \"Cluster 4\"], [0.6858891207746206, 1.2826134773403155, 1.356018523276228, 0.721835452019146, 0.4451424957049167, -0.6262945699444336, -0.06936935673554886, -1.0226496558553273, -0.12811814880906958, 0.1400861715944285, -0.15703764401700682, 0.02081451489917697, -1.284054323747623, \"Cluster 4\"], [1.2909402333451496, -0.5274176965989, 0.5934984444357664, -0.7128890640986741, -1.0042964377512635, 0.7728803535426287, -1.592101042667288, -0.659454919776293, 0.2167352116028428, -0.14574929827947725, 0.5618154678255578, -1.248115396193499, -0.9787259083278829, \"Cluster 4\"], [1.0641877986770605, -1.8145838346677063, 1.216956102847183, -0.2872563321727074, 0.5664533497055894, -0.9382454361140288, -0.7415408905554515, 0.21421623401980427, -0.5428287843162777, 0.05244550043668843, 0.2273146403519577, 0.5049556879698803, 0.45855021274996777, \"Cluster 4\"], [-1.5682784296394523, -1.1335792112260963, 1.0265414638490067, -0.12645014446944955, 0.43470048140167344, 0.34610341795770394, 0.39693460786352963, -0.18793966639622658, -0.38332575295208315, -0.24321683147144957, -0.9164407516803728, -1.1150382204537552, 0.04556448942197067, \"Cluster 4\"], [0.354160707884782, -0.3595377438568406, -0.7186932190155977, -1.0784748032967784, 1.1649952941739024, 0.23804983070020239, -0.8979365150447369, -1.0918581746704414, -0.8910262724067682, 0.8896759976814766, -0.7336840517346945, 0.07201006390482678, -1.6834299498381637, \"Cluster 4\"], [1.113066435197687, -0.8443825368915095, 1.1876256732852601, -0.358427261362971, 0.32573411384694473, -0.07137804045291161, -0.31080901745312695, -0.3384095466101833, -0.5208562727106365, 0.1880429182570388, 0.21237865438441983, 0.9553066894131093, -0.10965373427294446, \"Cluster 4\"], [0.8417188215173792, 0.05405673716425562, 0.6231478789574287, 0.5132635266997571, 1.2729193738995939, 0.3492959916760948, 0.4015154862465656, -1.3658442818248178, 1.5594982657817316, -1.3513299958942273, -0.5485934937401177, -0.38999942330563325, 0.012842669379696794, \"Cluster 4\"], [1.2879594474539928, 1.4753012592824526, 1.2159654316316015, -2.516381453401533, 0.19763566889889672, 0.885832372439962, 1.635486775262819, -1.6541348173201864, 0.27755346498483774, 2.180123600907914, -0.13730740635345598, -1.7642645090827018, -0.4765714999660247, \"Cluster 4\"], [0.49125269471122934, -0.9638342936196421, -1.2876441929888338, 0.022842692626204142, -0.7733892709944086, -0.7064785376983663, -0.6026402039946782, -0.9161691720743795, -0.8654609729404987, -0.6826083499079175, -0.9028389637788012, -0.7466160084498576, -0.5359843896437532, \"Cluster 4\"], [1.3113455524009607, -0.7565382518513644, 0.07900363321643183, -0.1730557151699028, -0.26507669522522886, 0.3000718102176214, 0.4880694649101577, -1.1325535476145503, 0.024878574727934914, 0.6145803870367671, -0.8722428445223785, -0.8975882457502028, 1.0588785619645804, \"Cluster 4\"], [0.45735182250660056, 0.30504069707978043, 0.46481784546548194, -0.9565898246574641, 0.8273270837095418, -0.6629937242319204, 1.3569019162605243, -0.9139001272418414, -0.0994383735496985, -0.08029203386138754, -0.385086769734957, 0.17428299309965634, 0.5155947328610426, \"Cluster 4\"], [0.9782545422705501, -1.3287327354604874, -0.5406254342932055, -1.1683565983733732, 0.03818117394507686, -2.1372341483340507, -0.17114770611379018, -0.15042933146327775, 1.2906014094572027, -0.08199778054038755, -0.6038079797693805, 0.6882080503643766, -0.14801491695365585, \"Cluster 4\"], [-0.3183739305714041, -1.7911757897209342, 2.2254731514850086, -0.22605394856366323, 0.3967636666262275, 0.7510243870306694, 0.07799878133368306, 0.4757651164413834, -0.14361602283215513, -0.9883245784993887, 0.8678839432209005, -0.6393503560689446, -0.43538821337813916, \"Cluster 4\"], [-0.7824811092346083, 0.33846821215583806, 1.7256600999892862, -0.7598286926550607, -0.12610850465469786, -0.20519470128523423, 1.0403862648973514, -2.311835213619779, -1.462792498257477, -0.5572845695730945, 1.5417015356978285, 0.21217330432294282, 0.05878012951390204, \"Cluster 4\"], [0.14463095188661626, 0.6622118918968803, 0.4712484796883414, -0.13074244273554128, -0.3420826727138844, -0.7034120472162966, 1.011478541152394, -1.049018812075872, -1.316425012299967, -0.5079818233573871, -1.9973526278205938, -0.6972747076546691, -1.1479838947366887, \"Cluster 4\"], [0.35920932066447514, -0.9322897148038335, -0.501979925715334, -0.4144225997356999, -0.1307721424821663, -0.5820889022296744, -0.5577805517335339, -1.0006895257162232, 0.8935140908942748, 0.6011584641054679, -1.0911540332979912, -0.10461170538766262, -1.0989057253513166, \"Cluster 4\"], [0.25917577216832843, -2.203139448355188, 1.4556263220188135, 0.4996997295842902, 1.211597922262124, -0.6153763072740994, 0.792332461416861, 0.7216969732513693, 0.6208935135150366, -0.28665825464171485, -0.7375311688765688, -0.3970559922979218, 0.4352089058497505, \"Cluster 4\"], [0.39896952918332296, 0.0016314915179413698, 0.5009994026988577, -0.6976929923899116, 1.6376592041201143, 0.0637420055952508, 0.1736111554269931, -1.3999814595952533, 0.728183168922318, -1.3766425507410955, -0.5218678017965952, -0.388685069814214, 0.10335991658523888, \"Cluster 4\"], [0.8650069509641418, -0.7706025313540154, 1.0663855679716874, 1.0135941585936392, -1.1283762321544841, -0.2310344731193044, 0.1960947595781082, -1.3559048585924973, 0.24205062912577602, -1.2876479724076395, -0.428438814528289, 0.5577268707952819, 0.8219095211463836, \"Cluster 4\"], [0.00015027103550535394, -0.9100497588834533, 1.5013588150428658, 0.3682478031165985, 0.7177771022144164, -1.7066261609301578, 0.166500113333418, 0.005238029999280401, -0.02481280776969683, -1.3420827655770993, -0.708385468357705, 1.213657093296578, -1.7077268122703713, \"Cluster 4\"], [1.3254536682861555, -1.7515909981544213, -0.4428846700560212, -2.4188191474324245, -0.07409628733346879, 0.3836684197306168, -0.4446183638092709, 0.257807887547172, -1.1188183591247973, 0.6044727701151432, 0.24131923276617864, 0.30623785555718364, 0.9021666167782968, \"Cluster 4\"], [0.6398429209838484, -0.4275240946929426, -0.266766797645251, 0.31681310492667347, -0.5377477667449401, -1.5922571610060994, -0.9713176158602195, -1.0466914596575236, 0.12176957568198396, -0.29951038465345353, -0.05917351703698861, 1.250501373093526, 0.09554944130446165, \"Cluster 4\"], [-2.7365703687811807, -1.3699997407591036, -0.03910192351379164, 0.44095125004170815, 1.3202457921803255, -1.6914255596840686, 0.8421822314902843, 0.06928147861651261, -0.27043271553652354, -0.9184917076827313, -0.3856929628042163, -1.7982662357455577, -0.12487307370379398, \"Cluster 4\"], [-0.5490603491060876, -1.2188484659129857, 0.4008567051466017, -0.4550504883903253, -0.712229833960038, 0.3151326744864778, -0.8734108943128011, -1.7174841412831154, 0.20964376918433764, 0.7613196713422098, -0.12431278986231746, 0.1794122722194616, -0.14048590337568057, \"Cluster 4\"], [-0.332664167913485, -0.5232360062072884, -0.558730830869314, -0.37873586036140566, -0.21478261320696945, -0.27752424994089164, -1.1083941303485338, -1.8043118638196567, 0.07845204988080413, -0.3506901448580954, -0.0448372241149257, -0.71264013228671, -1.4463808094923742, \"Cluster 4\"], [-0.5140487536632548, -2.243435497055596, 1.8387300503405948, 1.1582105315593083, -1.121884716872551, 0.9158621656444665, -0.12413749256905669, -3.038846516537754, 0.7417258128046791, -1.4646329809636702, 0.2876048658708695, -0.5833407122328484, 1.5884142065940012, \"Cluster 4\"], [0.8486371718258235, 0.541075318128169, -0.39112046913829623, -1.1277180085267071, -0.7269561845090792, -0.6337163380890828, -0.3069156517879044, -1.4816459827201318, -0.34600246468159834, -0.23107079767736213, 0.4143058999759363, 1.506303155386836, -0.10353629538661371, \"Cluster 4\"], [-0.7756348269985375, -0.9239516984429363, 0.05371693160461959, -0.20291035473726082, -0.5993222758502179, -0.11863237479033313, -0.625669357244076, -1.8410726872806762, -0.6274056426385669, -0.557268878996268, 0.9824886429199503, -0.0038305013863874676, -0.731171665869415, \"Cluster 4\"], [0.660785846042529, -0.6121393245331292, 1.5588469672486083, 0.3963322234859076, 0.7389794136300407, -0.12295647100826708, 1.1517154937344414, -1.907715925400101, -0.5995325716988329, 0.3277093058074458, 0.21395712572246733, 0.9770219974432374, 0.7018591274903451, \"Cluster 4\"], [1.2943683880327943, 1.1496963522673318, 0.41807591681989364, -1.1501169067585966, -0.11163360708132805, -1.5922991975751686, 0.5901238350050604, -0.1249329947988511, -0.4202283234282666, -1.166660780627651, 0.9682772211582102, -0.4772501077084474, -0.9506598561856107, \"Cluster 4\"]], \"hoverlabel\": {\"namelength\": 0}, \"hovertemplate\": \"Cluster=%{customdata[13]}<br>FAC1=%{customdata[0]}<br>FAC2=%{customdata[1]}<br>FAC3=%{customdata[2]}<br>FAC4=%{customdata[3]}<br>FAC5=%{customdata[4]}<br>FAC6=%{customdata[5]}<br>FAC7=%{customdata[6]}<br>FAC8=%{customdata[7]}<br>FAC9=%{customdata[8]}<br>FAC10=%{customdata[9]}<br>FAC11=%{customdata[10]}<br>FAC12=%{customdata[11]}<br>FAC13=%{customdata[12]}\", \"legendgroup\": \"Cluster=Cluster 4\", \"marker\": {\"color\": \"#FFA15A\"}, \"name\": \"Cluster=Cluster 4\", \"notched\": true, \"offsetgroup\": \"Cluster=Cluster 4\", \"showlegend\": false, \"type\": \"box\", \"x\": [\"Cluster 4\", \"Cluster 4\", \"Cluster 4\", \"Cluster 4\", \"Cluster 4\", \"Cluster 4\", \"Cluster 4\", \"Cluster 4\", \"Cluster 4\", \"Cluster 4\", \"Cluster 4\", \"Cluster 4\", \"Cluster 4\", \"Cluster 4\", \"Cluster 4\", \"Cluster 4\", \"Cluster 4\", \"Cluster 4\", \"Cluster 4\", \"Cluster 4\", \"Cluster 4\", \"Cluster 4\", \"Cluster 4\", \"Cluster 4\", \"Cluster 4\", \"Cluster 4\", \"Cluster 4\", \"Cluster 4\", \"Cluster 4\", \"Cluster 4\", \"Cluster 4\", \"Cluster 4\", \"Cluster 4\", \"Cluster 4\", \"Cluster 4\", \"Cluster 4\", \"Cluster 4\", \"Cluster 4\", \"Cluster 4\", \"Cluster 4\", \"Cluster 4\", \"Cluster 4\", \"Cluster 4\", \"Cluster 4\", \"Cluster 4\", \"Cluster 4\", \"Cluster 4\", \"Cluster 4\", \"Cluster 4\", \"Cluster 4\", \"Cluster 4\", \"Cluster 4\", \"Cluster 4\", \"Cluster 4\", \"Cluster 4\", \"Cluster 4\", \"Cluster 4\", \"Cluster 4\", \"Cluster 4\", \"Cluster 4\", \"Cluster 4\", \"Cluster 4\", \"Cluster 4\", \"Cluster 4\", \"Cluster 4\", \"Cluster 4\", \"Cluster 4\", \"Cluster 4\", \"Cluster 4\", \"Cluster 4\", \"Cluster 4\", \"Cluster 4\", \"Cluster 4\", \"Cluster 4\", \"Cluster 4\", \"Cluster 4\", \"Cluster 4\", \"Cluster 4\", \"Cluster 4\", \"Cluster 4\", \"Cluster 4\", \"Cluster 4\", \"Cluster 4\", \"Cluster 4\", \"Cluster 4\", \"Cluster 4\", \"Cluster 4\", \"Cluster 4\", \"Cluster 4\", \"Cluster 4\", \"Cluster 4\", \"Cluster 4\", \"Cluster 4\", \"Cluster 4\", \"Cluster 4\", \"Cluster 4\", \"Cluster 4\", \"Cluster 4\", \"Cluster 4\", \"Cluster 4\", \"Cluster 4\", \"Cluster 4\"], \"xaxis\": \"x2\", \"yaxis\": \"y2\"}],\n                        {\"barmode\": \"relative\", \"legend\": {\"tracegroupgap\": 0}, \"margin\": {\"t\": 60}, \"template\": {\"data\": {\"bar\": [{\"error_x\": {\"color\": \"#2a3f5f\"}, \"error_y\": {\"color\": \"#2a3f5f\"}, \"marker\": {\"line\": {\"color\": \"#E5ECF6\", \"width\": 0.5}}, \"type\": \"bar\"}], \"barpolar\": [{\"marker\": {\"line\": {\"color\": \"#E5ECF6\", \"width\": 0.5}}, \"type\": \"barpolar\"}], \"carpet\": [{\"aaxis\": {\"endlinecolor\": \"#2a3f5f\", \"gridcolor\": \"white\", \"linecolor\": \"white\", \"minorgridcolor\": \"white\", \"startlinecolor\": \"#2a3f5f\"}, \"baxis\": {\"endlinecolor\": \"#2a3f5f\", \"gridcolor\": \"white\", \"linecolor\": \"white\", \"minorgridcolor\": \"white\", \"startlinecolor\": \"#2a3f5f\"}, \"type\": \"carpet\"}], \"choropleth\": [{\"colorbar\": {\"outlinewidth\": 0, \"ticks\": \"\"}, \"type\": \"choropleth\"}], \"contour\": [{\"colorbar\": {\"outlinewidth\": 0, \"ticks\": \"\"}, \"colorscale\": [[0.0, \"#0d0887\"], [0.1111111111111111, \"#46039f\"], [0.2222222222222222, \"#7201a8\"], [0.3333333333333333, \"#9c179e\"], [0.4444444444444444, \"#bd3786\"], [0.5555555555555556, \"#d8576b\"], [0.6666666666666666, \"#ed7953\"], [0.7777777777777778, \"#fb9f3a\"], [0.8888888888888888, \"#fdca26\"], [1.0, \"#f0f921\"]], \"type\": \"contour\"}], \"contourcarpet\": [{\"colorbar\": {\"outlinewidth\": 0, \"ticks\": \"\"}, \"type\": \"contourcarpet\"}], \"heatmap\": [{\"colorbar\": {\"outlinewidth\": 0, \"ticks\": \"\"}, \"colorscale\": [[0.0, \"#0d0887\"], [0.1111111111111111, \"#46039f\"], [0.2222222222222222, \"#7201a8\"], [0.3333333333333333, \"#9c179e\"], [0.4444444444444444, \"#bd3786\"], [0.5555555555555556, \"#d8576b\"], [0.6666666666666666, \"#ed7953\"], [0.7777777777777778, \"#fb9f3a\"], [0.8888888888888888, \"#fdca26\"], [1.0, \"#f0f921\"]], \"type\": \"heatmap\"}], \"heatmapgl\": [{\"colorbar\": {\"outlinewidth\": 0, \"ticks\": \"\"}, \"colorscale\": [[0.0, \"#0d0887\"], [0.1111111111111111, \"#46039f\"], [0.2222222222222222, \"#7201a8\"], [0.3333333333333333, \"#9c179e\"], [0.4444444444444444, \"#bd3786\"], [0.5555555555555556, \"#d8576b\"], [0.6666666666666666, \"#ed7953\"], [0.7777777777777778, \"#fb9f3a\"], [0.8888888888888888, \"#fdca26\"], [1.0, \"#f0f921\"]], \"type\": \"heatmapgl\"}], \"histogram\": [{\"marker\": {\"colorbar\": {\"outlinewidth\": 0, \"ticks\": \"\"}}, \"type\": \"histogram\"}], \"histogram2d\": [{\"colorbar\": {\"outlinewidth\": 0, \"ticks\": \"\"}, \"colorscale\": [[0.0, \"#0d0887\"], [0.1111111111111111, \"#46039f\"], [0.2222222222222222, \"#7201a8\"], [0.3333333333333333, \"#9c179e\"], [0.4444444444444444, \"#bd3786\"], [0.5555555555555556, \"#d8576b\"], [0.6666666666666666, \"#ed7953\"], [0.7777777777777778, \"#fb9f3a\"], [0.8888888888888888, \"#fdca26\"], [1.0, \"#f0f921\"]], \"type\": \"histogram2d\"}], \"histogram2dcontour\": [{\"colorbar\": {\"outlinewidth\": 0, \"ticks\": \"\"}, \"colorscale\": [[0.0, \"#0d0887\"], [0.1111111111111111, \"#46039f\"], [0.2222222222222222, \"#7201a8\"], [0.3333333333333333, \"#9c179e\"], [0.4444444444444444, \"#bd3786\"], [0.5555555555555556, \"#d8576b\"], [0.6666666666666666, \"#ed7953\"], [0.7777777777777778, \"#fb9f3a\"], [0.8888888888888888, \"#fdca26\"], [1.0, \"#f0f921\"]], \"type\": \"histogram2dcontour\"}], \"mesh3d\": [{\"colorbar\": {\"outlinewidth\": 0, \"ticks\": \"\"}, \"type\": \"mesh3d\"}], \"parcoords\": [{\"line\": {\"colorbar\": {\"outlinewidth\": 0, \"ticks\": \"\"}}, \"type\": \"parcoords\"}], \"pie\": [{\"automargin\": true, \"type\": \"pie\"}], \"scatter\": [{\"marker\": {\"colorbar\": {\"outlinewidth\": 0, \"ticks\": \"\"}}, \"type\": \"scatter\"}], \"scatter3d\": [{\"line\": {\"colorbar\": {\"outlinewidth\": 0, \"ticks\": \"\"}}, \"marker\": {\"colorbar\": {\"outlinewidth\": 0, \"ticks\": \"\"}}, \"type\": \"scatter3d\"}], \"scattercarpet\": [{\"marker\": {\"colorbar\": {\"outlinewidth\": 0, \"ticks\": \"\"}}, \"type\": \"scattercarpet\"}], \"scattergeo\": [{\"marker\": {\"colorbar\": {\"outlinewidth\": 0, \"ticks\": \"\"}}, \"type\": \"scattergeo\"}], \"scattergl\": [{\"marker\": {\"colorbar\": {\"outlinewidth\": 0, \"ticks\": \"\"}}, \"type\": \"scattergl\"}], \"scattermapbox\": [{\"marker\": {\"colorbar\": {\"outlinewidth\": 0, \"ticks\": \"\"}}, \"type\": \"scattermapbox\"}], \"scatterpolar\": [{\"marker\": {\"colorbar\": {\"outlinewidth\": 0, \"ticks\": \"\"}}, \"type\": \"scatterpolar\"}], \"scatterpolargl\": [{\"marker\": {\"colorbar\": {\"outlinewidth\": 0, \"ticks\": \"\"}}, \"type\": \"scatterpolargl\"}], \"scatterternary\": [{\"marker\": {\"colorbar\": {\"outlinewidth\": 0, \"ticks\": \"\"}}, \"type\": \"scatterternary\"}], \"surface\": [{\"colorbar\": {\"outlinewidth\": 0, \"ticks\": \"\"}, \"colorscale\": [[0.0, \"#0d0887\"], [0.1111111111111111, \"#46039f\"], [0.2222222222222222, \"#7201a8\"], [0.3333333333333333, \"#9c179e\"], [0.4444444444444444, \"#bd3786\"], [0.5555555555555556, \"#d8576b\"], [0.6666666666666666, \"#ed7953\"], [0.7777777777777778, \"#fb9f3a\"], [0.8888888888888888, \"#fdca26\"], [1.0, \"#f0f921\"]], \"type\": \"surface\"}], \"table\": [{\"cells\": {\"fill\": {\"color\": \"#EBF0F8\"}, \"line\": {\"color\": \"white\"}}, \"header\": {\"fill\": {\"color\": \"#C8D4E3\"}, \"line\": {\"color\": \"white\"}}, \"type\": \"table\"}]}, \"layout\": {\"annotationdefaults\": {\"arrowcolor\": \"#2a3f5f\", \"arrowhead\": 0, \"arrowwidth\": 1}, \"coloraxis\": {\"colorbar\": {\"outlinewidth\": 0, \"ticks\": \"\"}}, \"colorscale\": {\"diverging\": [[0, \"#8e0152\"], [0.1, \"#c51b7d\"], [0.2, \"#de77ae\"], [0.3, \"#f1b6da\"], [0.4, \"#fde0ef\"], [0.5, \"#f7f7f7\"], [0.6, \"#e6f5d0\"], [0.7, \"#b8e186\"], [0.8, \"#7fbc41\"], [0.9, \"#4d9221\"], [1, \"#276419\"]], \"sequential\": [[0.0, \"#0d0887\"], [0.1111111111111111, \"#46039f\"], [0.2222222222222222, \"#7201a8\"], [0.3333333333333333, \"#9c179e\"], [0.4444444444444444, \"#bd3786\"], [0.5555555555555556, \"#d8576b\"], [0.6666666666666666, \"#ed7953\"], [0.7777777777777778, \"#fb9f3a\"], [0.8888888888888888, \"#fdca26\"], [1.0, \"#f0f921\"]], \"sequentialminus\": [[0.0, \"#0d0887\"], [0.1111111111111111, \"#46039f\"], [0.2222222222222222, \"#7201a8\"], [0.3333333333333333, \"#9c179e\"], [0.4444444444444444, \"#bd3786\"], [0.5555555555555556, \"#d8576b\"], [0.6666666666666666, \"#ed7953\"], [0.7777777777777778, \"#fb9f3a\"], [0.8888888888888888, \"#fdca26\"], [1.0, \"#f0f921\"]]}, \"colorway\": [\"#636efa\", \"#EF553B\", \"#00cc96\", \"#ab63fa\", \"#FFA15A\", \"#19d3f3\", \"#FF6692\", \"#B6E880\", \"#FF97FF\", \"#FECB52\"], \"font\": {\"color\": \"#2a3f5f\"}, \"geo\": {\"bgcolor\": \"white\", \"lakecolor\": \"white\", \"landcolor\": \"#E5ECF6\", \"showlakes\": true, \"showland\": true, \"subunitcolor\": \"white\"}, \"hoverlabel\": {\"align\": \"left\"}, \"hovermode\": \"closest\", \"mapbox\": {\"style\": \"light\"}, \"paper_bgcolor\": \"white\", \"plot_bgcolor\": \"#E5ECF6\", \"polar\": {\"angularaxis\": {\"gridcolor\": \"white\", \"linecolor\": \"white\", \"ticks\": \"\"}, \"bgcolor\": \"#E5ECF6\", \"radialaxis\": {\"gridcolor\": \"white\", \"linecolor\": \"white\", \"ticks\": \"\"}}, \"scene\": {\"xaxis\": {\"backgroundcolor\": \"#E5ECF6\", \"gridcolor\": \"white\", \"gridwidth\": 2, \"linecolor\": \"white\", \"showbackground\": true, \"ticks\": \"\", \"zerolinecolor\": \"white\"}, \"yaxis\": {\"backgroundcolor\": \"#E5ECF6\", \"gridcolor\": \"white\", \"gridwidth\": 2, \"linecolor\": \"white\", \"showbackground\": true, \"ticks\": \"\", \"zerolinecolor\": \"white\"}, \"zaxis\": {\"backgroundcolor\": \"#E5ECF6\", \"gridcolor\": \"white\", \"gridwidth\": 2, \"linecolor\": \"white\", \"showbackground\": true, \"ticks\": \"\", \"zerolinecolor\": \"white\"}}, \"shapedefaults\": {\"line\": {\"color\": \"#2a3f5f\"}}, \"ternary\": {\"aaxis\": {\"gridcolor\": \"white\", \"linecolor\": \"white\", \"ticks\": \"\"}, \"baxis\": {\"gridcolor\": \"white\", \"linecolor\": \"white\", \"ticks\": \"\"}, \"bgcolor\": \"#E5ECF6\", \"caxis\": {\"gridcolor\": \"white\", \"linecolor\": \"white\", \"ticks\": \"\"}}, \"title\": {\"x\": 0.05}, \"xaxis\": {\"automargin\": true, \"gridcolor\": \"white\", \"linecolor\": \"white\", \"ticks\": \"\", \"title\": {\"standoff\": 15}, \"zerolinecolor\": \"white\", \"zerolinewidth\": 2}, \"yaxis\": {\"automargin\": true, \"gridcolor\": \"white\", \"linecolor\": \"white\", \"ticks\": \"\", \"title\": {\"standoff\": 15}, \"zerolinecolor\": \"white\", \"zerolinewidth\": 2}}}, \"xaxis\": {\"anchor\": \"y\", \"categoryarray\": [\"Cluster 0\", \"Cluster 1\", \"Cluster 2\", \"Cluster 3\", \"Cluster 4\"], \"categoryorder\": \"array\", \"domain\": [0.0, 1.0], \"title\": {\"text\": \"Cluster\"}}, \"xaxis2\": {\"anchor\": \"y2\", \"domain\": [0.0, 1.0], \"matches\": \"x\", \"showgrid\": true, \"showticklabels\": false}, \"yaxis\": {\"anchor\": \"x\", \"domain\": [0.0, 0.7326], \"title\": {\"text\": \"count\"}}, \"yaxis2\": {\"anchor\": \"x2\", \"domain\": [0.7426, 1.0], \"matches\": \"y2\", \"showgrid\": false, \"showline\": false, \"showticklabels\": false, \"ticks\": \"\"}},\n                        {\"responsive\": true}\n                    ).then(function(){\n                            \nvar gd = document.getElementById('708c8935-c3ea-40d1-bb1a-c219803d45dc');\nvar x = new MutationObserver(function (mutations, observer) {{\n        var display = window.getComputedStyle(gd).display;\n        if (!display || display === 'none') {{\n            console.log([gd, 'removed!']);\n            Plotly.purge(gd);\n            observer.disconnect();\n        }}\n}});\n\n// Listen for the removal of the full notebook cells\nvar notebookContainer = gd.closest('#notebook-container');\nif (notebookContainer) {{\n    x.observe(notebookContainer, {childList: true});\n}}\n\n// Listen for the clearing of the current output cell\nvar outputEl = gd.closest('.output');\nif (outputEl) {{\n    x.observe(outputEl, {childList: true});\n}}\n\n                        })\n                };\n                });\n            </script>\n        </div>"
     },
     "metadata": {}
    }
   ],
   "source": [
    "plot_model(kmeans, plot=\"distribution\")"
   ]
  },
  {
   "cell_type": "code",
   "execution_count": null,
   "metadata": {},
   "outputs": [],
   "source": []
  }
 ],
 "metadata": {
  "language_info": {
   "codemirror_mode": {
    "name": "ipython",
    "version": 3
   },
   "file_extension": ".py",
   "mimetype": "text/x-python",
   "name": "python",
   "nbconvert_exporter": "python",
   "pygments_lexer": "ipython3",
   "version": "3.7.4-final"
  },
  "orig_nbformat": 2,
  "kernelspec": {
   "name": "python3",
   "display_name": "Python 3"
  }
 },
 "nbformat": 4,
 "nbformat_minor": 2
}