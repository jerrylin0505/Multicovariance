{
 "cells": [
  {
   "cell_type": "code",
   "execution_count": 3,
   "metadata": {},
   "outputs": [],
   "source": [
    "import pandas as pd\n",
    "import numpy as np\n",
    "import matplotlib.pyplot as plt\n",
    "from sklearn.cross_validation  import train_test_split\n",
    "from sklearn.linear_model import LogisticRegression as lr"
   ]
  },
  {
   "cell_type": "code",
   "execution_count": 39,
   "metadata": {},
   "outputs": [
    {
     "output_type": "execute_result",
     "data": {
      "text/plain": "        樣本代號 是否申請結餘代償 最近一個月近期是否逾期  性別 是否使用扣款帳號   工作年資 有效卡張數 被查詢總家數      行業別  \\\n0     1990.0     沒有申請        沒有逾期  女性      有使用  無工作經驗    三張     沒有  社會工作服務業   \n1     1994.0     沒有申請        沒有逾期  女性      有使用   超過十年    一張     沒有    支援服務業   \n2     2000.0     沒有申請        沒有逾期  女性     沒有使用     一年  六張以上     沒有    住宿餐飲業   \n3     2003.0     沒有申請        沒有逾期  男性     沒有使用     一年    兩張     沒有    住宿餐飲業   \n4     2012.0      有申請        沒有逾期  男性     沒有使用   超過十年    兩張     沒有     不動產業   \n...      ...      ...         ...  ..      ...    ...   ...    ...      ...   \n3995   422.0      有申請        沒有逾期  女性     沒有使用     五年  六張以上     二家    支援服務業   \n3996   430.0     沒有申請        沒有逾期  男性      有使用     五年  六張以上     二家    金融保險業   \n3997   411.0      有申請        沒有逾期  女性     沒有使用     五年  六張以上     二家    住宿餐飲業   \n3998   412.0      有申請        沒有逾期  女性     沒有使用   超過十年  六張以上     二家      製造業   \n3999   212.0      有申請        沒有逾期  男性     沒有使用   超過十年  六張以上     二家    教育服務業   \n\n      過去六個月延遲月數比率  過去六個月循還月數比率  負債所得比  近一年M2繳款期間曾經有逾期兩個月次數  教育別 緊急聯絡人與正卡關係  \\\n0            0.20         0.20   0.00                  0.0   大學     父母兄弟姐妹   \n1            0.00         0.20   0.00                  0.0   大學     父母兄弟姐妹   \n2            0.17         0.17   0.00                  0.0   大學     父母兄弟姐妹   \n3            0.17         0.17   0.00                  0.0   大學     父母兄弟姐妹   \n4            0.17         0.17   0.00                  0.0   大學     父母兄弟姐妹   \n...           ...          ...    ...                  ...  ...        ...   \n3995         0.00         1.00   0.33                  0.0  未上學     父母兄弟姐妹   \n3996         0.00         1.00   0.33                  0.0  未上學     父母兄弟姐妹   \n3997         0.00         1.00   0.34                  0.0  未上學     父母兄弟姐妹   \n3998         0.00         1.00   0.34                  0.0  未上學     父母兄弟姐妹   \n3999         0.17         1.00   0.67                  0.0  未上學     父母兄弟姐妹   \n\n     是否為違約戶  Count  \n0        不是      0  \n1        不是      0  \n2        不是      0  \n3        不是      0  \n4        不是      0  \n...     ...    ...  \n3995     不是      0  \n3996     不是      0  \n3997     不是      0  \n3998     不是      0  \n3999     不是      0  \n\n[4000 rows x 17 columns]",
      "text/html": "<div>\n<style scoped>\n    .dataframe tbody tr th:only-of-type {\n        vertical-align: middle;\n    }\n\n    .dataframe tbody tr th {\n        vertical-align: top;\n    }\n\n    .dataframe thead th {\n        text-align: right;\n    }\n</style>\n<table border=\"1\" class=\"dataframe\">\n  <thead>\n    <tr style=\"text-align: right;\">\n      <th></th>\n      <th>樣本代號</th>\n      <th>是否申請結餘代償</th>\n      <th>最近一個月近期是否逾期</th>\n      <th>性別</th>\n      <th>是否使用扣款帳號</th>\n      <th>工作年資</th>\n      <th>有效卡張數</th>\n      <th>被查詢總家數</th>\n      <th>行業別</th>\n      <th>過去六個月延遲月數比率</th>\n      <th>過去六個月循還月數比率</th>\n      <th>負債所得比</th>\n      <th>近一年M2繳款期間曾經有逾期兩個月次數</th>\n      <th>教育別</th>\n      <th>緊急聯絡人與正卡關係</th>\n      <th>是否為違約戶</th>\n      <th>Count</th>\n    </tr>\n  </thead>\n  <tbody>\n    <tr>\n      <th>0</th>\n      <td>1990.0</td>\n      <td>沒有申請</td>\n      <td>沒有逾期</td>\n      <td>女性</td>\n      <td>有使用</td>\n      <td>無工作經驗</td>\n      <td>三張</td>\n      <td>沒有</td>\n      <td>社會工作服務業</td>\n      <td>0.20</td>\n      <td>0.20</td>\n      <td>0.00</td>\n      <td>0.0</td>\n      <td>大學</td>\n      <td>父母兄弟姐妹</td>\n      <td>不是</td>\n      <td>0</td>\n    </tr>\n    <tr>\n      <th>1</th>\n      <td>1994.0</td>\n      <td>沒有申請</td>\n      <td>沒有逾期</td>\n      <td>女性</td>\n      <td>有使用</td>\n      <td>超過十年</td>\n      <td>一張</td>\n      <td>沒有</td>\n      <td>支援服務業</td>\n      <td>0.00</td>\n      <td>0.20</td>\n      <td>0.00</td>\n      <td>0.0</td>\n      <td>大學</td>\n      <td>父母兄弟姐妹</td>\n      <td>不是</td>\n      <td>0</td>\n    </tr>\n    <tr>\n      <th>2</th>\n      <td>2000.0</td>\n      <td>沒有申請</td>\n      <td>沒有逾期</td>\n      <td>女性</td>\n      <td>沒有使用</td>\n      <td>一年</td>\n      <td>六張以上</td>\n      <td>沒有</td>\n      <td>住宿餐飲業</td>\n      <td>0.17</td>\n      <td>0.17</td>\n      <td>0.00</td>\n      <td>0.0</td>\n      <td>大學</td>\n      <td>父母兄弟姐妹</td>\n      <td>不是</td>\n      <td>0</td>\n    </tr>\n    <tr>\n      <th>3</th>\n      <td>2003.0</td>\n      <td>沒有申請</td>\n      <td>沒有逾期</td>\n      <td>男性</td>\n      <td>沒有使用</td>\n      <td>一年</td>\n      <td>兩張</td>\n      <td>沒有</td>\n      <td>住宿餐飲業</td>\n      <td>0.17</td>\n      <td>0.17</td>\n      <td>0.00</td>\n      <td>0.0</td>\n      <td>大學</td>\n      <td>父母兄弟姐妹</td>\n      <td>不是</td>\n      <td>0</td>\n    </tr>\n    <tr>\n      <th>4</th>\n      <td>2012.0</td>\n      <td>有申請</td>\n      <td>沒有逾期</td>\n      <td>男性</td>\n      <td>沒有使用</td>\n      <td>超過十年</td>\n      <td>兩張</td>\n      <td>沒有</td>\n      <td>不動產業</td>\n      <td>0.17</td>\n      <td>0.17</td>\n      <td>0.00</td>\n      <td>0.0</td>\n      <td>大學</td>\n      <td>父母兄弟姐妹</td>\n      <td>不是</td>\n      <td>0</td>\n    </tr>\n    <tr>\n      <th>...</th>\n      <td>...</td>\n      <td>...</td>\n      <td>...</td>\n      <td>...</td>\n      <td>...</td>\n      <td>...</td>\n      <td>...</td>\n      <td>...</td>\n      <td>...</td>\n      <td>...</td>\n      <td>...</td>\n      <td>...</td>\n      <td>...</td>\n      <td>...</td>\n      <td>...</td>\n      <td>...</td>\n      <td>...</td>\n    </tr>\n    <tr>\n      <th>3995</th>\n      <td>422.0</td>\n      <td>有申請</td>\n      <td>沒有逾期</td>\n      <td>女性</td>\n      <td>沒有使用</td>\n      <td>五年</td>\n      <td>六張以上</td>\n      <td>二家</td>\n      <td>支援服務業</td>\n      <td>0.00</td>\n      <td>1.00</td>\n      <td>0.33</td>\n      <td>0.0</td>\n      <td>未上學</td>\n      <td>父母兄弟姐妹</td>\n      <td>不是</td>\n      <td>0</td>\n    </tr>\n    <tr>\n      <th>3996</th>\n      <td>430.0</td>\n      <td>沒有申請</td>\n      <td>沒有逾期</td>\n      <td>男性</td>\n      <td>有使用</td>\n      <td>五年</td>\n      <td>六張以上</td>\n      <td>二家</td>\n      <td>金融保險業</td>\n      <td>0.00</td>\n      <td>1.00</td>\n      <td>0.33</td>\n      <td>0.0</td>\n      <td>未上學</td>\n      <td>父母兄弟姐妹</td>\n      <td>不是</td>\n      <td>0</td>\n    </tr>\n    <tr>\n      <th>3997</th>\n      <td>411.0</td>\n      <td>有申請</td>\n      <td>沒有逾期</td>\n      <td>女性</td>\n      <td>沒有使用</td>\n      <td>五年</td>\n      <td>六張以上</td>\n      <td>二家</td>\n      <td>住宿餐飲業</td>\n      <td>0.00</td>\n      <td>1.00</td>\n      <td>0.34</td>\n      <td>0.0</td>\n      <td>未上學</td>\n      <td>父母兄弟姐妹</td>\n      <td>不是</td>\n      <td>0</td>\n    </tr>\n    <tr>\n      <th>3998</th>\n      <td>412.0</td>\n      <td>有申請</td>\n      <td>沒有逾期</td>\n      <td>女性</td>\n      <td>沒有使用</td>\n      <td>超過十年</td>\n      <td>六張以上</td>\n      <td>二家</td>\n      <td>製造業</td>\n      <td>0.00</td>\n      <td>1.00</td>\n      <td>0.34</td>\n      <td>0.0</td>\n      <td>未上學</td>\n      <td>父母兄弟姐妹</td>\n      <td>不是</td>\n      <td>0</td>\n    </tr>\n    <tr>\n      <th>3999</th>\n      <td>212.0</td>\n      <td>有申請</td>\n      <td>沒有逾期</td>\n      <td>男性</td>\n      <td>沒有使用</td>\n      <td>超過十年</td>\n      <td>六張以上</td>\n      <td>二家</td>\n      <td>教育服務業</td>\n      <td>0.17</td>\n      <td>1.00</td>\n      <td>0.67</td>\n      <td>0.0</td>\n      <td>未上學</td>\n      <td>父母兄弟姐妹</td>\n      <td>不是</td>\n      <td>0</td>\n    </tr>\n  </tbody>\n</table>\n<p>4000 rows × 17 columns</p>\n</div>"
     },
     "metadata": {},
     "execution_count": 39
    }
   ],
   "source": [
    "df = pd.read_spss('project4-區別分析 & 羅吉斯迴歸分析_modeling_data.sav')\n",
    "# df = pd.get_dummies(df)\n",
    "df[\"Count\"] = 0\n",
    "df"
   ]
  },
  {
   "cell_type": "markdown",
   "metadata": {},
   "source": [
    "### 資料預處理(要處理的欄位:工作年資、有效卡張數、被查詢總家數)"
   ]
  },
  {
   "cell_type": "code",
   "execution_count": 55,
   "metadata": {},
   "outputs": [
    {
     "output_type": "execute_result",
     "data": {
      "text/plain": "Index(['樣本代號', '是否申請結餘代償', '最近一個月近期是否逾期', '性別', '是否使用扣款帳號', '工作年資', '有效卡張數',\n       '被查詢總家數', '行業別', '過去六個月延遲月數比率', '過去六個月循還月數比率', '負債所得比',\n       '近一年M2繳款期間曾經有逾期兩個月次數', '教育別', '緊急聯絡人與正卡關係', '是否為違約戶', 'Count'],\n      dtype='object')"
     },
     "metadata": {},
     "execution_count": 55
    }
   ],
   "source": [
    "df.columns\n",
    "\n",
    "#近一年M2看起根是否為違約戶是線性關係\n",
    "\n",
    "\n",
    "#過去六個月循環月數比例  基本上還是跟y有限性正相關  但有些區間樣本數太少  導致違約戶比例飆升"
   ]
  },
  {
   "cell_type": "code",
   "execution_count": 53,
   "metadata": {},
   "outputs": [
    {
     "output_type": "execute_result",
     "data": {
      "text/plain": "是否為違約戶      不是     是\n工作年資                \n一年      1420.0  70.0\n七年       162.0   NaN\n三年       221.0   8.0\n九年       162.0   2.0\n五年       200.0  10.0\n兩年       222.0  11.0\n八年       172.0   2.0\n六年       150.0   3.0\n四年       219.0  10.0\n無工作經驗    412.0   3.0\n超過十年     540.0   1.0",
      "text/html": "<div>\n<style scoped>\n    .dataframe tbody tr th:only-of-type {\n        vertical-align: middle;\n    }\n\n    .dataframe tbody tr th {\n        vertical-align: top;\n    }\n\n    .dataframe thead th {\n        text-align: right;\n    }\n</style>\n<table border=\"1\" class=\"dataframe\">\n  <thead>\n    <tr style=\"text-align: right;\">\n      <th>是否為違約戶</th>\n      <th>不是</th>\n      <th>是</th>\n    </tr>\n    <tr>\n      <th>工作年資</th>\n      <th></th>\n      <th></th>\n    </tr>\n  </thead>\n  <tbody>\n    <tr>\n      <th>一年</th>\n      <td>1420.0</td>\n      <td>70.0</td>\n    </tr>\n    <tr>\n      <th>七年</th>\n      <td>162.0</td>\n      <td>NaN</td>\n    </tr>\n    <tr>\n      <th>三年</th>\n      <td>221.0</td>\n      <td>8.0</td>\n    </tr>\n    <tr>\n      <th>九年</th>\n      <td>162.0</td>\n      <td>2.0</td>\n    </tr>\n    <tr>\n      <th>五年</th>\n      <td>200.0</td>\n      <td>10.0</td>\n    </tr>\n    <tr>\n      <th>兩年</th>\n      <td>222.0</td>\n      <td>11.0</td>\n    </tr>\n    <tr>\n      <th>八年</th>\n      <td>172.0</td>\n      <td>2.0</td>\n    </tr>\n    <tr>\n      <th>六年</th>\n      <td>150.0</td>\n      <td>3.0</td>\n    </tr>\n    <tr>\n      <th>四年</th>\n      <td>219.0</td>\n      <td>10.0</td>\n    </tr>\n    <tr>\n      <th>無工作經驗</th>\n      <td>412.0</td>\n      <td>3.0</td>\n    </tr>\n    <tr>\n      <th>超過十年</th>\n      <td>540.0</td>\n      <td>1.0</td>\n    </tr>\n  </tbody>\n</table>\n</div>"
     },
     "metadata": {},
     "execution_count": 53
    }
   ],
   "source": [
    "df.groupby([\"工作年資\",\"是否為違約戶\"]).count().reset_index().sort_values([\"工作年資\"]).pivot(\"工作年資\",\"是否為違約戶\",\"Count\")\n",
    "\n",
    "# df.pivot()"
   ]
  },
  {
   "cell_type": "code",
   "execution_count": null,
   "metadata": {},
   "outputs": [],
   "source": []
  },
  {
   "cell_type": "code",
   "execution_count": null,
   "metadata": {},
   "outputs": [],
   "source": []
  },
  {
   "cell_type": "markdown",
   "metadata": {},
   "source": [
    "### 畫圖"
   ]
  },
  {
   "cell_type": "code",
   "execution_count": null,
   "metadata": {},
   "outputs": [],
   "source": [
    "plt.style.use('ggplot')\n",
    "plt.rcParams['font.family']='SimHei' #⿊體"
   ]
  }
 ],
 "metadata": {
  "language_info": {
   "codemirror_mode": {
    "name": "ipython",
    "version": 3
   },
   "file_extension": ".py",
   "mimetype": "text/x-python",
   "name": "python",
   "nbconvert_exporter": "python",
   "pygments_lexer": "ipython3",
   "version": "3.7.4-final"
  },
  "orig_nbformat": 2,
  "kernelspec": {
   "name": "python3",
   "display_name": "Python 3"
  }
 },
 "nbformat": 4,
 "nbformat_minor": 2
}