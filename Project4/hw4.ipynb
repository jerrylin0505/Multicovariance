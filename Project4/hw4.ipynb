{
 "cells": [
  {
   "cell_type": "code",
   "execution_count": 3,
   "metadata": {},
   "outputs": [],
   "source": [
    "import pandas as pd\n",
    "import numpy as np\n",
    "import matplotlib.pyplot as plt\n",
    "from sklearn.linear_model import LogisticRegression as lr"
   ]
  },
  {
   "cell_type": "code",
   "execution_count": 8,
   "metadata": {},
   "outputs": [
    {
     "output_type": "execute_result",
     "data": {
      "text/plain": "        樣本代號 是否申請結餘代償 最近一個月近期是否逾期  性別 是否使用扣款帳號   工作年資 有效卡張數 被查詢總家數      行業別  \\\n0     1990.0     沒有申請        沒有逾期  女性      有使用  無工作經驗    三張     沒有  社會工作服務業   \n1     1994.0     沒有申請        沒有逾期  女性      有使用   超過十年    一張     沒有    支援服務業   \n2     2000.0     沒有申請        沒有逾期  女性     沒有使用     一年  六張以上     沒有    住宿餐飲業   \n3     2003.0     沒有申請        沒有逾期  男性     沒有使用     一年    兩張     沒有    住宿餐飲業   \n4     2012.0      有申請        沒有逾期  男性     沒有使用   超過十年    兩張     沒有     不動產業   \n...      ...      ...         ...  ..      ...    ...   ...    ...      ...   \n3995   422.0      有申請        沒有逾期  女性     沒有使用     五年  六張以上     二家    支援服務業   \n3996   430.0     沒有申請        沒有逾期  男性      有使用     五年  六張以上     二家    金融保險業   \n3997   411.0      有申請        沒有逾期  女性     沒有使用     五年  六張以上     二家    住宿餐飲業   \n3998   412.0      有申請        沒有逾期  女性     沒有使用   超過十年  六張以上     二家      製造業   \n3999   212.0      有申請        沒有逾期  男性     沒有使用   超過十年  六張以上     二家    教育服務業   \n\n      過去六個月延遲月數比率  過去六個月循還月數比率  負債所得比  近一年M2繳款期間曾經有逾期兩個月次數  教育別 緊急聯絡人與正卡關係  \\\n0            0.20         0.20   0.00                  0.0   大學     父母兄弟姐妹   \n1            0.00         0.20   0.00                  0.0   大學     父母兄弟姐妹   \n2            0.17         0.17   0.00                  0.0   大學     父母兄弟姐妹   \n3            0.17         0.17   0.00                  0.0   大學     父母兄弟姐妹   \n4            0.17         0.17   0.00                  0.0   大學     父母兄弟姐妹   \n...           ...          ...    ...                  ...  ...        ...   \n3995         0.00         1.00   0.33                  0.0  未上學     父母兄弟姐妹   \n3996         0.00         1.00   0.33                  0.0  未上學     父母兄弟姐妹   \n3997         0.00         1.00   0.34                  0.0  未上學     父母兄弟姐妹   \n3998         0.00         1.00   0.34                  0.0  未上學     父母兄弟姐妹   \n3999         0.17         1.00   0.67                  0.0  未上學     父母兄弟姐妹   \n\n     是否為違約戶  \n0        不是  \n1        不是  \n2        不是  \n3        不是  \n4        不是  \n...     ...  \n3995     不是  \n3996     不是  \n3997     不是  \n3998     不是  \n3999     不是  \n\n[4000 rows x 16 columns]",
      "text/html": "<div>\n<style scoped>\n    .dataframe tbody tr th:only-of-type {\n        vertical-align: middle;\n    }\n\n    .dataframe tbody tr th {\n        vertical-align: top;\n    }\n\n    .dataframe thead th {\n        text-align: right;\n    }\n</style>\n<table border=\"1\" class=\"dataframe\">\n  <thead>\n    <tr style=\"text-align: right;\">\n      <th></th>\n      <th>樣本代號</th>\n      <th>是否申請結餘代償</th>\n      <th>最近一個月近期是否逾期</th>\n      <th>性別</th>\n      <th>是否使用扣款帳號</th>\n      <th>工作年資</th>\n      <th>有效卡張數</th>\n      <th>被查詢總家數</th>\n      <th>行業別</th>\n      <th>過去六個月延遲月數比率</th>\n      <th>過去六個月循還月數比率</th>\n      <th>負債所得比</th>\n      <th>近一年M2繳款期間曾經有逾期兩個月次數</th>\n      <th>教育別</th>\n      <th>緊急聯絡人與正卡關係</th>\n      <th>是否為違約戶</th>\n    </tr>\n  </thead>\n  <tbody>\n    <tr>\n      <th>0</th>\n      <td>1990.0</td>\n      <td>沒有申請</td>\n      <td>沒有逾期</td>\n      <td>女性</td>\n      <td>有使用</td>\n      <td>無工作經驗</td>\n      <td>三張</td>\n      <td>沒有</td>\n      <td>社會工作服務業</td>\n      <td>0.20</td>\n      <td>0.20</td>\n      <td>0.00</td>\n      <td>0.0</td>\n      <td>大學</td>\n      <td>父母兄弟姐妹</td>\n      <td>不是</td>\n    </tr>\n    <tr>\n      <th>1</th>\n      <td>1994.0</td>\n      <td>沒有申請</td>\n      <td>沒有逾期</td>\n      <td>女性</td>\n      <td>有使用</td>\n      <td>超過十年</td>\n      <td>一張</td>\n      <td>沒有</td>\n      <td>支援服務業</td>\n      <td>0.00</td>\n      <td>0.20</td>\n      <td>0.00</td>\n      <td>0.0</td>\n      <td>大學</td>\n      <td>父母兄弟姐妹</td>\n      <td>不是</td>\n    </tr>\n    <tr>\n      <th>2</th>\n      <td>2000.0</td>\n      <td>沒有申請</td>\n      <td>沒有逾期</td>\n      <td>女性</td>\n      <td>沒有使用</td>\n      <td>一年</td>\n      <td>六張以上</td>\n      <td>沒有</td>\n      <td>住宿餐飲業</td>\n      <td>0.17</td>\n      <td>0.17</td>\n      <td>0.00</td>\n      <td>0.0</td>\n      <td>大學</td>\n      <td>父母兄弟姐妹</td>\n      <td>不是</td>\n    </tr>\n    <tr>\n      <th>3</th>\n      <td>2003.0</td>\n      <td>沒有申請</td>\n      <td>沒有逾期</td>\n      <td>男性</td>\n      <td>沒有使用</td>\n      <td>一年</td>\n      <td>兩張</td>\n      <td>沒有</td>\n      <td>住宿餐飲業</td>\n      <td>0.17</td>\n      <td>0.17</td>\n      <td>0.00</td>\n      <td>0.0</td>\n      <td>大學</td>\n      <td>父母兄弟姐妹</td>\n      <td>不是</td>\n    </tr>\n    <tr>\n      <th>4</th>\n      <td>2012.0</td>\n      <td>有申請</td>\n      <td>沒有逾期</td>\n      <td>男性</td>\n      <td>沒有使用</td>\n      <td>超過十年</td>\n      <td>兩張</td>\n      <td>沒有</td>\n      <td>不動產業</td>\n      <td>0.17</td>\n      <td>0.17</td>\n      <td>0.00</td>\n      <td>0.0</td>\n      <td>大學</td>\n      <td>父母兄弟姐妹</td>\n      <td>不是</td>\n    </tr>\n    <tr>\n      <th>...</th>\n      <td>...</td>\n      <td>...</td>\n      <td>...</td>\n      <td>...</td>\n      <td>...</td>\n      <td>...</td>\n      <td>...</td>\n      <td>...</td>\n      <td>...</td>\n      <td>...</td>\n      <td>...</td>\n      <td>...</td>\n      <td>...</td>\n      <td>...</td>\n      <td>...</td>\n      <td>...</td>\n    </tr>\n    <tr>\n      <th>3995</th>\n      <td>422.0</td>\n      <td>有申請</td>\n      <td>沒有逾期</td>\n      <td>女性</td>\n      <td>沒有使用</td>\n      <td>五年</td>\n      <td>六張以上</td>\n      <td>二家</td>\n      <td>支援服務業</td>\n      <td>0.00</td>\n      <td>1.00</td>\n      <td>0.33</td>\n      <td>0.0</td>\n      <td>未上學</td>\n      <td>父母兄弟姐妹</td>\n      <td>不是</td>\n    </tr>\n    <tr>\n      <th>3996</th>\n      <td>430.0</td>\n      <td>沒有申請</td>\n      <td>沒有逾期</td>\n      <td>男性</td>\n      <td>有使用</td>\n      <td>五年</td>\n      <td>六張以上</td>\n      <td>二家</td>\n      <td>金融保險業</td>\n      <td>0.00</td>\n      <td>1.00</td>\n      <td>0.33</td>\n      <td>0.0</td>\n      <td>未上學</td>\n      <td>父母兄弟姐妹</td>\n      <td>不是</td>\n    </tr>\n    <tr>\n      <th>3997</th>\n      <td>411.0</td>\n      <td>有申請</td>\n      <td>沒有逾期</td>\n      <td>女性</td>\n      <td>沒有使用</td>\n      <td>五年</td>\n      <td>六張以上</td>\n      <td>二家</td>\n      <td>住宿餐飲業</td>\n      <td>0.00</td>\n      <td>1.00</td>\n      <td>0.34</td>\n      <td>0.0</td>\n      <td>未上學</td>\n      <td>父母兄弟姐妹</td>\n      <td>不是</td>\n    </tr>\n    <tr>\n      <th>3998</th>\n      <td>412.0</td>\n      <td>有申請</td>\n      <td>沒有逾期</td>\n      <td>女性</td>\n      <td>沒有使用</td>\n      <td>超過十年</td>\n      <td>六張以上</td>\n      <td>二家</td>\n      <td>製造業</td>\n      <td>0.00</td>\n      <td>1.00</td>\n      <td>0.34</td>\n      <td>0.0</td>\n      <td>未上學</td>\n      <td>父母兄弟姐妹</td>\n      <td>不是</td>\n    </tr>\n    <tr>\n      <th>3999</th>\n      <td>212.0</td>\n      <td>有申請</td>\n      <td>沒有逾期</td>\n      <td>男性</td>\n      <td>沒有使用</td>\n      <td>超過十年</td>\n      <td>六張以上</td>\n      <td>二家</td>\n      <td>教育服務業</td>\n      <td>0.17</td>\n      <td>1.00</td>\n      <td>0.67</td>\n      <td>0.0</td>\n      <td>未上學</td>\n      <td>父母兄弟姐妹</td>\n      <td>不是</td>\n    </tr>\n  </tbody>\n</table>\n<p>4000 rows × 16 columns</p>\n</div>"
     },
     "metadata": {},
     "execution_count": 8
    }
   ],
   "source": [
    "df = pd.read_spss('project4-區別分析 & 羅吉斯迴歸分析_modeling_data.sav')\n",
    "# df = pd.get_dummies(df)\n",
    "df"
   ]
  },
  {
   "cell_type": "markdown",
   "metadata": {},
   "source": [
    "### 資料預處理"
   ]
  },
  {
   "cell_type": "code",
   "execution_count": 19,
   "metadata": {},
   "outputs": [
    {
     "output_type": "execute_result",
     "data": {
      "text/plain": "<bound method NDFrame.describe of         樣本代號 是否申請結餘代償 最近一個月近期是否逾期  性別 是否使用扣款帳號   工作年資 有效卡張數 被查詢總家數      行業別  \\\n0     1990.0     沒有申請        沒有逾期  女性      有使用  無工作經驗    三張     沒有  社會工作服務業   \n1     1994.0     沒有申請        沒有逾期  女性      有使用   超過十年    一張     沒有    支援服務業   \n2     2000.0     沒有申請        沒有逾期  女性     沒有使用     一年  六張以上     沒有    住宿餐飲業   \n3     2003.0     沒有申請        沒有逾期  男性     沒有使用     一年    兩張     沒有    住宿餐飲業   \n4     2012.0      有申請        沒有逾期  男性     沒有使用   超過十年    兩張     沒有     不動產業   \n...      ...      ...         ...  ..      ...    ...   ...    ...      ...   \n3995   422.0      有申請        沒有逾期  女性     沒有使用     五年  六張以上     二家    支援服務業   \n3996   430.0     沒有申請        沒有逾期  男性      有使用     五年  六張以上     二家    金融保險業   \n3997   411.0      有申請        沒有逾期  女性     沒有使用     五年  六張以上     二家    住宿餐飲業   \n3998   412.0      有申請        沒有逾期  女性     沒有使用   超過十年  六張以上     二家      製造業   \n3999   212.0      有申請        沒有逾期  男性     沒有使用   超過十年  六張以上     二家    教育服務業   \n\n      過去六個月延遲月數比率  過去六個月循還月數比率  負債所得比  近一年M2繳款期間曾經有逾期兩個月次數  教育別 緊急聯絡人與正卡關係  \\\n0            0.20         0.20   0.00                  0.0   大學     父母兄弟姐妹   \n1            0.00         0.20   0.00                  0.0   大學     父母兄弟姐妹   \n2            0.17         0.17   0.00                  0.0   大學     父母兄弟姐妹   \n3            0.17         0.17   0.00                  0.0   大學     父母兄弟姐妹   \n4            0.17         0.17   0.00                  0.0   大學     父母兄弟姐妹   \n...           ...          ...    ...                  ...  ...        ...   \n3995         0.00         1.00   0.33                  0.0  未上學     父母兄弟姐妹   \n3996         0.00         1.00   0.33                  0.0  未上學     父母兄弟姐妹   \n3997         0.00         1.00   0.34                  0.0  未上學     父母兄弟姐妹   \n3998         0.00         1.00   0.34                  0.0  未上學     父母兄弟姐妹   \n3999         0.17         1.00   0.67                  0.0  未上學     父母兄弟姐妹   \n\n     是否為違約戶  \n0        不是  \n1        不是  \n2        不是  \n3        不是  \n4        不是  \n...     ...  \n3995     不是  \n3996     不是  \n3997     不是  \n3998     不是  \n3999     不是  \n\n[4000 rows x 16 columns]>"
     },
     "metadata": {},
     "execution_count": 19
    }
   ],
   "source": [
    "df."
   ]
  },
  {
   "cell_type": "code",
   "execution_count": null,
   "metadata": {},
   "outputs": [],
   "source": []
  }
 ],
 "metadata": {
  "language_info": {
   "codemirror_mode": {
    "name": "ipython",
    "version": 3
   },
   "file_extension": ".py",
   "mimetype": "text/x-python",
   "name": "python",
   "nbconvert_exporter": "python",
   "pygments_lexer": "ipython3",
   "version": "3.7.3-final"
  },
  "orig_nbformat": 2,
  "kernelspec": {
   "name": "python3",
   "display_name": "Python 3"
  }
 },
 "nbformat": 4,
 "nbformat_minor": 2
}